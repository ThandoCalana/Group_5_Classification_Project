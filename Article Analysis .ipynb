{
 "cells": [
  {
   "cell_type": "markdown",
   "id": "a489c04e",
   "metadata": {},
   "source": [
    "# Project 3 Team 5\n",
    "## Date: 17 January 2025 "
   ]
  },
  {
   "cell_type": "markdown",
   "id": "2b884053",
   "metadata": {},
   "source": [
    "1. Project Overview\n",
    "2. Data Load and preprocessing\n",
    "3. Model training\n",
    "4. Evaluation\n",
    "5. Deployment"
   ]
  },
  {
   "cell_type": "markdown",
   "id": "11ef8bae",
   "metadata": {},
   "source": [
    "### 1. Project Overview"
   ]
  },
  {
   "cell_type": "code",
   "execution_count": null,
   "id": "2028adbd",
   "metadata": {},
   "outputs": [],
   "source": []
  },
  {
   "cell_type": "markdown",
   "id": "3861b463",
   "metadata": {},
   "source": [
    "### 2. Data load and preprocessing \n",
    "#### Packages"
   ]
  },
  {
   "cell_type": "code",
   "execution_count": 1,
   "id": "64014f33",
   "metadata": {},
   "outputs": [
    {
     "name": "stderr",
     "output_type": "stream",
     "text": [
      "[nltk_data] Downloading package stopwords to\n",
      "[nltk_data]     C:\\Users\\lebog\\AppData\\Roaming\\nltk_data...\n",
      "[nltk_data]   Package stopwords is already up-to-date!\n",
      "[nltk_data] Downloading package punkt to\n",
      "[nltk_data]     C:\\Users\\lebog\\AppData\\Roaming\\nltk_data...\n",
      "[nltk_data]   Package punkt is already up-to-date!\n",
      "[nltk_data] Downloading package wordnet to\n",
      "[nltk_data]     C:\\Users\\lebog\\AppData\\Roaming\\nltk_data...\n",
      "[nltk_data]   Package wordnet is already up-to-date!\n"
     ]
    },
    {
     "data": {
      "text/plain": [
       "True"
      ]
     },
     "execution_count": 1,
     "metadata": {},
     "output_type": "execute_result"
    }
   ],
   "source": [
    "import pandas as pd\n",
    "import re\n",
    "from nltk.tokenize import word_tokenize\n",
    "from nltk.stem import WordNetLemmatizer\n",
    "from nltk.corpus import stopwords\n",
    "from nltk.stem import PorterStemmer\n",
    "\n",
    "import nltk\n",
    "nltk.download('stopwords')\n",
    "nltk.download('punkt')\n",
    "nltk.download('wordnet')\n"
   ]
  },
  {
   "cell_type": "markdown",
   "id": "d8eedb7d",
   "metadata": {},
   "source": [
    "#### Datasets"
   ]
  },
  {
   "cell_type": "code",
   "execution_count": 26,
   "id": "241ffc87",
   "metadata": {
    "scrolled": true
   },
   "outputs": [
    {
     "data": {
      "text/html": [
       "<div>\n",
       "<style scoped>\n",
       "    .dataframe tbody tr th:only-of-type {\n",
       "        vertical-align: middle;\n",
       "    }\n",
       "\n",
       "    .dataframe tbody tr th {\n",
       "        vertical-align: top;\n",
       "    }\n",
       "\n",
       "    .dataframe thead th {\n",
       "        text-align: right;\n",
       "    }\n",
       "</style>\n",
       "<table border=\"1\" class=\"dataframe\">\n",
       "  <thead>\n",
       "    <tr style=\"text-align: right;\">\n",
       "      <th></th>\n",
       "      <th>headlines</th>\n",
       "      <th>description</th>\n",
       "      <th>content</th>\n",
       "      <th>url</th>\n",
       "      <th>category</th>\n",
       "    </tr>\n",
       "  </thead>\n",
       "  <tbody>\n",
       "    <tr>\n",
       "      <th>0</th>\n",
       "      <td>RBI revises definition of politically-exposed ...</td>\n",
       "      <td>The central bank has also asked chairpersons a...</td>\n",
       "      <td>The Reserve Bank of India (RBI) has changed th...</td>\n",
       "      <td>https://indianexpress.com/article/business/ban...</td>\n",
       "      <td>business</td>\n",
       "    </tr>\n",
       "    <tr>\n",
       "      <th>1</th>\n",
       "      <td>NDTV Q2 net profit falls 57.4% to Rs 5.55 cror...</td>\n",
       "      <td>NDTV's consolidated revenue from operations wa...</td>\n",
       "      <td>Broadcaster New Delhi Television Ltd on Monday...</td>\n",
       "      <td>https://indianexpress.com/article/business/com...</td>\n",
       "      <td>business</td>\n",
       "    </tr>\n",
       "    <tr>\n",
       "      <th>2</th>\n",
       "      <td>Akasa Air ‘well capitalised’, can grow much fa...</td>\n",
       "      <td>The initial share sale will be open for public...</td>\n",
       "      <td>Homegrown server maker Netweb Technologies Ind...</td>\n",
       "      <td>https://indianexpress.com/article/business/mar...</td>\n",
       "      <td>business</td>\n",
       "    </tr>\n",
       "    <tr>\n",
       "      <th>3</th>\n",
       "      <td>India’s current account deficit declines sharp...</td>\n",
       "      <td>The current account deficit (CAD) was 3.8 per ...</td>\n",
       "      <td>India’s current account deficit declined sharp...</td>\n",
       "      <td>https://indianexpress.com/article/business/eco...</td>\n",
       "      <td>business</td>\n",
       "    </tr>\n",
       "    <tr>\n",
       "      <th>4</th>\n",
       "      <td>States borrowing cost soars to 7.68%, highest ...</td>\n",
       "      <td>The prices shot up reflecting the overall high...</td>\n",
       "      <td>States have been forced to pay through their n...</td>\n",
       "      <td>https://indianexpress.com/article/business/eco...</td>\n",
       "      <td>business</td>\n",
       "    </tr>\n",
       "  </tbody>\n",
       "</table>\n",
       "</div>"
      ],
      "text/plain": [
       "                                           headlines  \\\n",
       "0  RBI revises definition of politically-exposed ...   \n",
       "1  NDTV Q2 net profit falls 57.4% to Rs 5.55 cror...   \n",
       "2  Akasa Air ‘well capitalised’, can grow much fa...   \n",
       "3  India’s current account deficit declines sharp...   \n",
       "4  States borrowing cost soars to 7.68%, highest ...   \n",
       "\n",
       "                                         description  \\\n",
       "0  The central bank has also asked chairpersons a...   \n",
       "1  NDTV's consolidated revenue from operations wa...   \n",
       "2  The initial share sale will be open for public...   \n",
       "3  The current account deficit (CAD) was 3.8 per ...   \n",
       "4  The prices shot up reflecting the overall high...   \n",
       "\n",
       "                                             content  \\\n",
       "0  The Reserve Bank of India (RBI) has changed th...   \n",
       "1  Broadcaster New Delhi Television Ltd on Monday...   \n",
       "2  Homegrown server maker Netweb Technologies Ind...   \n",
       "3  India’s current account deficit declined sharp...   \n",
       "4  States have been forced to pay through their n...   \n",
       "\n",
       "                                                 url  category  \n",
       "0  https://indianexpress.com/article/business/ban...  business  \n",
       "1  https://indianexpress.com/article/business/com...  business  \n",
       "2  https://indianexpress.com/article/business/mar...  business  \n",
       "3  https://indianexpress.com/article/business/eco...  business  \n",
       "4  https://indianexpress.com/article/business/eco...  business  "
      ]
     },
     "execution_count": 26,
     "metadata": {},
     "output_type": "execute_result"
    }
   ],
   "source": [
    "#importing the dataset:the train dataset \n",
    "train_df = pd.read_csv(\"Data/processed/train.csv\")\n",
    "train_df.head(5)"
   ]
  },
  {
   "cell_type": "code",
   "execution_count": 3,
   "id": "c90f6f9f",
   "metadata": {},
   "outputs": [
    {
     "data": {
      "text/html": [
       "<div>\n",
       "<style scoped>\n",
       "    .dataframe tbody tr th:only-of-type {\n",
       "        vertical-align: middle;\n",
       "    }\n",
       "\n",
       "    .dataframe tbody tr th {\n",
       "        vertical-align: top;\n",
       "    }\n",
       "\n",
       "    .dataframe thead th {\n",
       "        text-align: right;\n",
       "    }\n",
       "</style>\n",
       "<table border=\"1\" class=\"dataframe\">\n",
       "  <thead>\n",
       "    <tr style=\"text-align: right;\">\n",
       "      <th></th>\n",
       "      <th>headlines</th>\n",
       "      <th>description</th>\n",
       "      <th>content</th>\n",
       "      <th>url</th>\n",
       "      <th>category</th>\n",
       "    </tr>\n",
       "  </thead>\n",
       "  <tbody>\n",
       "    <tr>\n",
       "      <th>0</th>\n",
       "      <td>NLC India wins contract for power supply to Ra...</td>\n",
       "      <td>State-owned firm NLC India Ltd (NLCIL) on Mond...</td>\n",
       "      <td>State-owned firm NLC India Ltd (NLCIL) on Mond...</td>\n",
       "      <td>https://indianexpress.com/article/business/com...</td>\n",
       "      <td>business</td>\n",
       "    </tr>\n",
       "    <tr>\n",
       "      <th>1</th>\n",
       "      <td>SBI Clerk prelims exams dates announced; admit...</td>\n",
       "      <td>SBI Clerk Prelims Exam: The SBI Clerk prelims ...</td>\n",
       "      <td>SBI Clerk Prelims Exam: The State Bank of Indi...</td>\n",
       "      <td>https://indianexpress.com/article/education/sb...</td>\n",
       "      <td>education</td>\n",
       "    </tr>\n",
       "    <tr>\n",
       "      <th>2</th>\n",
       "      <td>Golden Globes: Michelle Yeoh, Will Ferrell, An...</td>\n",
       "      <td>Barbie is the top nominee this year, followed ...</td>\n",
       "      <td>Michelle Yeoh, Will Ferrell, Angela Bassett an...</td>\n",
       "      <td>https://indianexpress.com/article/entertainmen...</td>\n",
       "      <td>entertainment</td>\n",
       "    </tr>\n",
       "    <tr>\n",
       "      <th>3</th>\n",
       "      <td>OnePlus Nord 3 at Rs 27,999 as part of new pri...</td>\n",
       "      <td>New deal makes the OnePlus Nord 3 an easy purc...</td>\n",
       "      <td>In our review of the OnePlus Nord 3 5G, we pra...</td>\n",
       "      <td>https://indianexpress.com/article/technology/t...</td>\n",
       "      <td>technology</td>\n",
       "    </tr>\n",
       "    <tr>\n",
       "      <th>4</th>\n",
       "      <td>Adani family’s partners used ‘opaque’ funds to...</td>\n",
       "      <td>Citing review of files from multiple tax haven...</td>\n",
       "      <td>Millions of dollars were invested in some publ...</td>\n",
       "      <td>https://indianexpress.com/article/business/ada...</td>\n",
       "      <td>business</td>\n",
       "    </tr>\n",
       "  </tbody>\n",
       "</table>\n",
       "</div>"
      ],
      "text/plain": [
       "                                           headlines  \\\n",
       "0  NLC India wins contract for power supply to Ra...   \n",
       "1  SBI Clerk prelims exams dates announced; admit...   \n",
       "2  Golden Globes: Michelle Yeoh, Will Ferrell, An...   \n",
       "3  OnePlus Nord 3 at Rs 27,999 as part of new pri...   \n",
       "4  Adani family’s partners used ‘opaque’ funds to...   \n",
       "\n",
       "                                         description  \\\n",
       "0  State-owned firm NLC India Ltd (NLCIL) on Mond...   \n",
       "1  SBI Clerk Prelims Exam: The SBI Clerk prelims ...   \n",
       "2  Barbie is the top nominee this year, followed ...   \n",
       "3  New deal makes the OnePlus Nord 3 an easy purc...   \n",
       "4  Citing review of files from multiple tax haven...   \n",
       "\n",
       "                                             content  \\\n",
       "0  State-owned firm NLC India Ltd (NLCIL) on Mond...   \n",
       "1  SBI Clerk Prelims Exam: The State Bank of Indi...   \n",
       "2  Michelle Yeoh, Will Ferrell, Angela Bassett an...   \n",
       "3  In our review of the OnePlus Nord 3 5G, we pra...   \n",
       "4  Millions of dollars were invested in some publ...   \n",
       "\n",
       "                                                 url       category  \n",
       "0  https://indianexpress.com/article/business/com...       business  \n",
       "1  https://indianexpress.com/article/education/sb...      education  \n",
       "2  https://indianexpress.com/article/entertainmen...  entertainment  \n",
       "3  https://indianexpress.com/article/technology/t...     technology  \n",
       "4  https://indianexpress.com/article/business/ada...       business  "
      ]
     },
     "execution_count": 3,
     "metadata": {},
     "output_type": "execute_result"
    }
   ],
   "source": [
    "#importing the dataset: the test \n",
    "test_df = pd.read_csv(\"Data/processed/test.csv\")\n",
    "test_df.head(5)"
   ]
  },
  {
   "cell_type": "markdown",
   "id": "ac9a5e2b",
   "metadata": {},
   "source": [
    "#### 2.1. Data inspection"
   ]
  },
  {
   "cell_type": "code",
   "execution_count": 4,
   "id": "e821ad56",
   "metadata": {},
   "outputs": [
    {
     "name": "stdout",
     "output_type": "stream",
     "text": [
      "The dimensions for the Train set are: (5520, 5)\n",
      "The dimensions for the test set are: (2000, 5)\n"
     ]
    }
   ],
   "source": [
    "print(\"The dimensions for the Train set are:\", train_df.shape)\n",
    "print(\"The dimensions for the test set are:\",test_df.shape)"
   ]
  },
  {
   "cell_type": "code",
   "execution_count": 5,
   "id": "19bc4336",
   "metadata": {},
   "outputs": [
    {
     "name": "stdout",
     "output_type": "stream",
     "text": [
      "<class 'pandas.core.frame.DataFrame'>\n",
      "RangeIndex: 5520 entries, 0 to 5519\n",
      "Data columns (total 5 columns):\n",
      " #   Column       Non-Null Count  Dtype \n",
      "---  ------       --------------  ----- \n",
      " 0   headlines    5520 non-null   object\n",
      " 1   description  5520 non-null   object\n",
      " 2   content      5520 non-null   object\n",
      " 3   url          5520 non-null   object\n",
      " 4   category     5520 non-null   object\n",
      "dtypes: object(5)\n",
      "memory usage: 215.8+ KB\n",
      "<class 'pandas.core.frame.DataFrame'>\n",
      "RangeIndex: 2000 entries, 0 to 1999\n",
      "Data columns (total 5 columns):\n",
      " #   Column       Non-Null Count  Dtype \n",
      "---  ------       --------------  ----- \n",
      " 0   headlines    2000 non-null   object\n",
      " 1   description  2000 non-null   object\n",
      " 2   content      2000 non-null   object\n",
      " 3   url          2000 non-null   object\n",
      " 4   category     2000 non-null   object\n",
      "dtypes: object(5)\n",
      "memory usage: 78.3+ KB\n"
     ]
    },
    {
     "data": {
      "text/plain": [
       "None"
      ]
     },
     "metadata": {},
     "output_type": "display_data"
    },
    {
     "data": {
      "text/plain": [
       "None"
      ]
     },
     "metadata": {},
     "output_type": "display_data"
    }
   ],
   "source": [
    "display(train_df.info(), test_df.info())"
   ]
  },
  {
   "cell_type": "markdown",
   "id": "dbf51bf5",
   "metadata": {},
   "source": [
    "There are no missing values in both the train and test dataset"
   ]
  },
  {
   "cell_type": "code",
   "execution_count": 6,
   "id": "4bfc2cf8",
   "metadata": {},
   "outputs": [
    {
     "name": "stdout",
     "output_type": "stream",
     "text": [
      "             Train Null Count  Test Null Count\n",
      "headlines                   0                0\n",
      "description                 0                0\n",
      "content                     0                0\n",
      "url                         0                0\n",
      "category                    0                0\n"
     ]
    }
   ],
   "source": [
    "null_counts = pd.DataFrame({\n",
    "    \"Train Null Count\": train_df.isnull().sum(),\n",
    "    \"Test Null Count\": test_df.isnull().sum()\n",
    "})\n",
    "print(null_counts)"
   ]
  },
  {
   "cell_type": "code",
   "execution_count": 7,
   "id": "a820a583",
   "metadata": {},
   "outputs": [
    {
     "data": {
      "text/plain": [
       "0"
      ]
     },
     "metadata": {},
     "output_type": "display_data"
    },
    {
     "data": {
      "text/plain": [
       "0"
      ]
     },
     "metadata": {},
     "output_type": "display_data"
    }
   ],
   "source": [
    "display(train_df.duplicated().sum(), test_df.duplicated().sum())"
   ]
  },
  {
   "cell_type": "markdown",
   "id": "20c4c820",
   "metadata": {},
   "source": [
    "Number of duplicate for train set rows: 0\n",
    "\n",
    "Number of duplicate for test set rows: 0"
   ]
  },
  {
   "cell_type": "code",
   "execution_count": 8,
   "id": "dcf638e5",
   "metadata": {},
   "outputs": [
    {
     "name": "stdout",
     "output_type": "stream",
     "text": [
      "                 Metric  Train Dataset  Test Dataset\n",
      "0        Number of Rows           5520          2000\n",
      "1     Number of Columns              5             5\n",
      "2  Total Missing Values              0             0\n",
      "3        Duplicate Rows              0             0\n",
      "4     Numerical Columns              0             0\n",
      "5   Categorical Columns              5             5\n"
     ]
    }
   ],
   "source": [
    "def inspect_dataset(df):\n",
    "    return {\n",
    "        \"Number of Rows\": df.shape[0],\n",
    "        \"Number of Columns\": df.shape[1],\n",
    "        \"Total Missing Values\": df.isnull().sum().sum(),\n",
    "        \"Duplicate Rows\": df.duplicated().sum(),\n",
    "        \"Numerical Columns\": df.select_dtypes(include='number').shape[1],\n",
    "        \"Categorical Columns\": df.select_dtypes(include='object').shape[1],\n",
    "    }\n",
    "\n",
    "train_inspection = inspect_dataset(train_df)\n",
    "test_inspection = inspect_dataset(test_df)\n",
    "\n",
    "inspection_results = pd.DataFrame({\n",
    "    \"Metric\": train_inspection.keys(),\n",
    "    \"Train Dataset\": train_inspection.values(),\n",
    "    \"Test Dataset\": test_inspection.values(),\n",
    "})\n",
    "\n",
    "print(inspection_results)"
   ]
  },
  {
   "cell_type": "code",
   "execution_count": 28,
   "id": "2cb9fec8",
   "metadata": {},
   "outputs": [
    {
     "data": {
      "text/html": [
       "<div>\n",
       "<style scoped>\n",
       "    .dataframe tbody tr th:only-of-type {\n",
       "        vertical-align: middle;\n",
       "    }\n",
       "\n",
       "    .dataframe tbody tr th {\n",
       "        vertical-align: top;\n",
       "    }\n",
       "\n",
       "    .dataframe thead th {\n",
       "        text-align: right;\n",
       "    }\n",
       "</style>\n",
       "<table border=\"1\" class=\"dataframe\">\n",
       "  <thead>\n",
       "    <tr style=\"text-align: right;\">\n",
       "      <th></th>\n",
       "      <th>count</th>\n",
       "      <th>unique</th>\n",
       "      <th>top</th>\n",
       "      <th>freq</th>\n",
       "    </tr>\n",
       "  </thead>\n",
       "  <tbody>\n",
       "    <tr>\n",
       "      <th>headlines</th>\n",
       "      <td>5520</td>\n",
       "      <td>5512</td>\n",
       "      <td>International Education Day 2024: Know why it ...</td>\n",
       "      <td>2</td>\n",
       "    </tr>\n",
       "    <tr>\n",
       "      <th>description</th>\n",
       "      <td>5520</td>\n",
       "      <td>5508</td>\n",
       "      <td>The university has removed the requirements of...</td>\n",
       "      <td>2</td>\n",
       "    </tr>\n",
       "    <tr>\n",
       "      <th>content</th>\n",
       "      <td>5520</td>\n",
       "      <td>5513</td>\n",
       "      <td>Grand Slam fever grips tennis fans all over th...</td>\n",
       "      <td>5</td>\n",
       "    </tr>\n",
       "    <tr>\n",
       "      <th>url</th>\n",
       "      <td>5520</td>\n",
       "      <td>5514</td>\n",
       "      <td>https://indianexpress.com/article/education/kc...</td>\n",
       "      <td>2</td>\n",
       "    </tr>\n",
       "    <tr>\n",
       "      <th>category</th>\n",
       "      <td>5520</td>\n",
       "      <td>5</td>\n",
       "      <td>education</td>\n",
       "      <td>1520</td>\n",
       "    </tr>\n",
       "  </tbody>\n",
       "</table>\n",
       "</div>"
      ],
      "text/plain": [
       "            count unique                                                top  \\\n",
       "headlines    5520   5512  International Education Day 2024: Know why it ...   \n",
       "description  5520   5508  The university has removed the requirements of...   \n",
       "content      5520   5513  Grand Slam fever grips tennis fans all over th...   \n",
       "url          5520   5514  https://indianexpress.com/article/education/kc...   \n",
       "category     5520      5                                          education   \n",
       "\n",
       "             freq  \n",
       "headlines       2  \n",
       "description     2  \n",
       "content         5  \n",
       "url             2  \n",
       "category     1520  "
      ]
     },
     "execution_count": 28,
     "metadata": {},
     "output_type": "execute_result"
    }
   ],
   "source": [
    "train_df.describe().T\n",
    "#check if there are duplicate "
   ]
  },
  {
   "cell_type": "markdown",
   "id": "4da7e3d5",
   "metadata": {},
   "source": [
    "#### 2.2. Data Preprocessing "
   ]
  },
  {
   "cell_type": "markdown",
   "id": "33ab3499",
   "metadata": {},
   "source": [
    "2.2.1. Removing stopwords"
   ]
  },
  {
   "cell_type": "code",
   "execution_count": null,
   "id": "ba4852fa",
   "metadata": {},
   "outputs": [],
   "source": [
    "stop_words = set(stopwords.words('english'))\n",
    "\n",
    "def remove_stopwords(tokens):\n",
    "    return [word for word in tokens if word.lower() not in stop_words]\n",
    "\n",
    "for col in columns_to_tokenize:\n",
    "    train_df[col] = train_df[col].apply(remove_stopwords)\n",
    "    test_df[col] = test_df[col].apply(remove_stopwords)\n",
    "\n",
    "print(\"Train DataFrame (After Removing Stopwords):\")\n",
    "print(train_df.head())\n",
    "\n",
    "print(\"\\nTest DataFrame (After Removing Stopwords):\")\n",
    "print(test_df.head())"
   ]
  },
  {
   "cell_type": "markdown",
   "id": "69d84aa3",
   "metadata": {},
   "source": [
    "2.2.2. Removing punctuation"
   ]
  },
  {
   "cell_type": "code",
   "execution_count": null,
   "id": "956fb95b",
   "metadata": {},
   "outputs": [],
   "source": [
    "def remove_punctuation(text):\n",
    "    return re.sub(r'[^a-zA-Z\\s]', '', text)\n",
    "\n",
    "train_df['headlines'] = train_df['headlines'].apply(remove_punctuation)\n",
    "train_df['description'] = train_df['description'].apply(remove_punctuation)\n",
    "train_df['content'] = train_df['content'].apply(remove_punctuation)\n",
    "\n",
    "test_df['headlines'] = test_df['headlines'].apply(remove_punctuation)\n",
    "test_df['content'] = test_df['content'].apply(remove_punctuation)\n",
    "test_df['content'] = test_df['content'].apply(remove_punctuation)\n",
    "\n",
    "print(\"Train DataFrame:\")\n",
    "print(train_df.head())\n",
    "\n",
    "print(\"\\nTest DataFrame:\")\n",
    "print(test_df.head())"
   ]
  },
  {
   "cell_type": "markdown",
   "id": "44093f03",
   "metadata": {},
   "source": [
    "2.2.3. Lowercase"
   ]
  },
  {
   "cell_type": "code",
   "execution_count": 12,
   "id": "ad1f3386",
   "metadata": {},
   "outputs": [
    {
     "name": "stdout",
     "output_type": "stream",
     "text": [
      "Train DataFrame:\n",
      "                                           headlines  \\\n",
      "0  rbi revises definition of politicallyexposed p...   \n",
      "1  ndtv q net profit falls  to rs  crore impacted...   \n",
      "2  akasa air well capitalised can grow much faste...   \n",
      "3  indias current account deficit declines sharpl...   \n",
      "4  states borrowing cost soars to  highest so far...   \n",
      "\n",
      "                                         description  \\\n",
      "0  the central bank has also asked chairpersons a...   \n",
      "1  ndtvs consolidated revenue from operations was...   \n",
      "2  the initial share sale will be open for public...   \n",
      "3  the current account deficit cad was  per cent ...   \n",
      "4  the prices shot up reflecting the overall high...   \n",
      "\n",
      "                                             content  \\\n",
      "0  the reserve bank of india rbi has changed the ...   \n",
      "1  broadcaster new delhi television ltd on monday...   \n",
      "2  homegrown server maker netweb technologies ind...   \n",
      "3  indias current account deficit declined sharpl...   \n",
      "4  states have been forced to pay through their n...   \n",
      "\n",
      "                                                 url  category  \n",
      "0  https://indianexpress.com/article/business/ban...  business  \n",
      "1  https://indianexpress.com/article/business/com...  business  \n",
      "2  https://indianexpress.com/article/business/mar...  business  \n",
      "3  https://indianexpress.com/article/business/eco...  business  \n",
      "4  https://indianexpress.com/article/business/eco...  business  \n",
      "\n",
      "Test DataFrame:\n",
      "                                           headlines  \\\n",
      "0  nlc india wins contract for power supply to ra...   \n",
      "1  sbi clerk prelims exams dates announced admit ...   \n",
      "2  golden globes michelle yeoh will ferrell angel...   \n",
      "3  oneplus nord  at rs  as part of new price cut ...   \n",
      "4  adani familys partners used opaque funds to in...   \n",
      "\n",
      "                                         description  \\\n",
      "0  stateowned firm nlc india ltd nlcil on monday ...   \n",
      "1  sbi clerk prelims exam the sbi clerk prelims e...   \n",
      "2  barbie is the top nominee this year followed c...   \n",
      "3  new deal makes the oneplus nord  an easy purch...   \n",
      "4  citing review of files from multiple tax haven...   \n",
      "\n",
      "                                             content  \\\n",
      "0  stateowned firm nlc india ltd nlcil on monday ...   \n",
      "1  sbi clerk prelims exam the state bank of india...   \n",
      "2  michelle yeoh will ferrell angela bassett and ...   \n",
      "3  in our review of the oneplus nord  g we praise...   \n",
      "4  millions of dollars were invested in some publ...   \n",
      "\n",
      "                                                 url       category  \n",
      "0  https://indianexpress.com/article/business/com...       business  \n",
      "1  https://indianexpress.com/article/education/sb...      education  \n",
      "2  https://indianexpress.com/article/entertainmen...  entertainment  \n",
      "3  https://indianexpress.com/article/technology/t...     technology  \n",
      "4  https://indianexpress.com/article/business/ada...       business  \n"
     ]
    }
   ],
   "source": [
    "columns_to_lowercase = ['headlines', 'description', 'content']\n",
    "\n",
    "for col in columns_to_lowercase:\n",
    "    train_df[col] = train_df[col].str.lower()\n",
    "    test_df[col] = test_df[col].str.lower()\n",
    "\n",
    "print(\"Train DataFrame:\")\n",
    "print(train_df.head())\n",
    "print(\"\\nTest DataFrame:\")\n",
    "\n",
    "print(test_df.head())"
   ]
  },
  {
   "cell_type": "markdown",
   "id": "9b798b12",
   "metadata": {},
   "source": [
    "2.2.4. Tokenisation"
   ]
  },
  {
   "cell_type": "code",
   "execution_count": 13,
   "id": "2febe50b",
   "metadata": {},
   "outputs": [
    {
     "name": "stdout",
     "output_type": "stream",
     "text": [
      "                                           headlines  \\\n",
      "0  [rbi, revises, definition, of, politicallyexpo...   \n",
      "1  [ndtv, q, net, profit, falls, to, rs, crore, i...   \n",
      "2  [akasa, air, well, capitalised, can, grow, muc...   \n",
      "3  [indias, current, account, deficit, declines, ...   \n",
      "4  [states, borrowing, cost, soars, to, highest, ...   \n",
      "\n",
      "                                         description  \\\n",
      "0  [the, central, bank, has, also, asked, chairpe...   \n",
      "1  [ndtvs, consolidated, revenue, from, operation...   \n",
      "2  [the, initial, share, sale, will, be, open, fo...   \n",
      "3  [the, current, account, deficit, cad, was, per...   \n",
      "4  [the, prices, shot, up, reflecting, the, overa...   \n",
      "\n",
      "                                             content  \\\n",
      "0  [the, reserve, bank, of, india, rbi, has, chan...   \n",
      "1  [broadcaster, new, delhi, television, ltd, on,...   \n",
      "2  [homegrown, server, maker, netweb, technologie...   \n",
      "3  [indias, current, account, deficit, declined, ...   \n",
      "4  [states, have, been, forced, to, pay, through,...   \n",
      "\n",
      "                                                 url  category  \n",
      "0  https://indianexpress.com/article/business/ban...  business  \n",
      "1  https://indianexpress.com/article/business/com...  business  \n",
      "2  https://indianexpress.com/article/business/mar...  business  \n",
      "3  https://indianexpress.com/article/business/eco...  business  \n",
      "4  https://indianexpress.com/article/business/eco...  business  \n",
      "                                           headlines  \\\n",
      "0  [nlc, india, wins, contract, for, power, suppl...   \n",
      "1  [sbi, clerk, prelims, exams, dates, announced,...   \n",
      "2  [golden, globes, michelle, yeoh, will, ferrell...   \n",
      "3  [oneplus, nord, at, rs, as, part, of, new, pri...   \n",
      "4  [adani, familys, partners, used, opaque, funds...   \n",
      "\n",
      "                                         description  \\\n",
      "0  [stateowned, firm, nlc, india, ltd, nlcil, on,...   \n",
      "1  [sbi, clerk, prelims, exam, the, sbi, clerk, p...   \n",
      "2  [barbie, is, the, top, nominee, this, year, fo...   \n",
      "3  [new, deal, makes, the, oneplus, nord, an, eas...   \n",
      "4  [citing, review, of, files, from, multiple, ta...   \n",
      "\n",
      "                                             content  \\\n",
      "0  [stateowned, firm, nlc, india, ltd, nlcil, on,...   \n",
      "1  [sbi, clerk, prelims, exam, the, state, bank, ...   \n",
      "2  [michelle, yeoh, will, ferrell, angela, basset...   \n",
      "3  [in, our, review, of, the, oneplus, nord, g, w...   \n",
      "4  [millions, of, dollars, were, invested, in, so...   \n",
      "\n",
      "                                                 url       category  \n",
      "0  https://indianexpress.com/article/business/com...       business  \n",
      "1  https://indianexpress.com/article/education/sb...      education  \n",
      "2  https://indianexpress.com/article/entertainmen...  entertainment  \n",
      "3  https://indianexpress.com/article/technology/t...     technology  \n",
      "4  https://indianexpress.com/article/business/ada...       business  \n"
     ]
    }
   ],
   "source": [
    "columns_to_tokenize = ['headlines', 'description', 'content']\n",
    "\n",
    "for col in columns_to_tokenize:\n",
    "    train_df[col] = train_df[col].apply(word_tokenize)\n",
    "    test_df[col] = test_df[col].apply(word_tokenize)\n",
    "print(train_df.head())\n",
    "print(test_df.head())"
   ]
  },
  {
   "cell_type": "markdown",
   "id": "9f7bbd6f",
   "metadata": {},
   "source": [
    "2.2.5. Lemmatization"
   ]
  },
  {
   "cell_type": "code",
   "execution_count": 15,
   "id": "96408440",
   "metadata": {},
   "outputs": [
    {
     "name": "stdout",
     "output_type": "stream",
     "text": [
      "Train DataFrame (After Lemmatization):\n",
      "                                           headlines  \\\n",
      "0  [rbi, revise, definition, politicallyexposed, ...   \n",
      "1  [ndtv, q, net, profit, fall, r, crore, impacte...   \n",
      "2  [akasa, air, well, capitalised, grow, much, fa...   \n",
      "3  [india, current, account, deficit, decline, sh...   \n",
      "4  [state, borrowing, cost, soar, highest, far, f...   \n",
      "\n",
      "                                         description  \\\n",
      "0  [central, bank, also, asked, chairperson, chie...   \n",
      "1  [ndtvs, consolidated, revenue, operation, r, c...   \n",
      "2  [initial, share, sale, open, public, subscript...   \n",
      "3  [current, account, deficit, cad, per, cent, gd...   \n",
      "4  [price, shot, reflecting, overall, higher, ris...   \n",
      "\n",
      "                                             content  \\\n",
      "0  [reserve, bank, india, rbi, changed, definitio...   \n",
      "1  [broadcaster, new, delhi, television, ltd, mon...   \n",
      "2  [homegrown, server, maker, netweb, technology,...   \n",
      "3  [india, current, account, deficit, declined, s...   \n",
      "4  [state, forced, pay, nose, weekly, auction, de...   \n",
      "\n",
      "                                                 url  category  \n",
      "0  https://indianexpress.com/article/business/ban...  business  \n",
      "1  https://indianexpress.com/article/business/com...  business  \n",
      "2  https://indianexpress.com/article/business/mar...  business  \n",
      "3  https://indianexpress.com/article/business/eco...  business  \n",
      "4  https://indianexpress.com/article/business/eco...  business  \n",
      "\n",
      "Test DataFrame (After Lemmatization):\n",
      "                                           headlines  \\\n",
      "0  [nlc, india, win, contract, power, supply, raj...   \n",
      "1  [sbi, clerk, prelim, exam, date, announced, ad...   \n",
      "2  [golden, globe, michelle, yeoh, ferrell, angel...   \n",
      "3    [oneplus, nord, r, part, new, price, cut, here]   \n",
      "4  [adani, family, partner, used, opaque, fund, i...   \n",
      "\n",
      "                                         description  \\\n",
      "0  [stateowned, firm, nlc, india, ltd, nlcil, mon...   \n",
      "1  [sbi, clerk, prelim, exam, sbi, clerk, prelim,...   \n",
      "2  [barbie, top, nominee, year, followed, closely...   \n",
      "3  [new, deal, make, oneplus, nord, easy, purchas...   \n",
      "4  [citing, review, file, multiple, tax, haven, i...   \n",
      "\n",
      "                                             content  \\\n",
      "0  [stateowned, firm, nlc, india, ltd, nlcil, mon...   \n",
      "1  [sbi, clerk, prelim, exam, state, bank, indian...   \n",
      "2  [michelle, yeoh, ferrell, angela, bassett, ama...   \n",
      "3  [review, oneplus, nord, g, praised, balanced, ...   \n",
      "4  [million, dollar, invested, publicly, traded, ...   \n",
      "\n",
      "                                                 url       category  \n",
      "0  https://indianexpress.com/article/business/com...       business  \n",
      "1  https://indianexpress.com/article/education/sb...      education  \n",
      "2  https://indianexpress.com/article/entertainmen...  entertainment  \n",
      "3  https://indianexpress.com/article/technology/t...     technology  \n",
      "4  https://indianexpress.com/article/business/ada...       business  \n"
     ]
    }
   ],
   "source": [
    "lemmatizer = WordNetLemmatizer()\n",
    "\n",
    "columns_to_process = ['headlines', 'description', 'content']\n",
    "\n",
    "def lemmatize_tokens(tokens):\n",
    "    return [lemmatizer.lemmatize(word) for word in tokens]\n",
    "\n",
    "for col in columns_to_process:\n",
    "  \n",
    "    train_df[col] = train_df[col].apply(lemmatize_tokens)\n",
    "    test_df[col] = test_df[col].apply(lemmatize_tokens)\n",
    "\n",
    "print(\"Train DataFrame (After Lemmatization):\")\n",
    "print(train_df.head())\n",
    "\n",
    "print(\"\\nTest DataFrame (After Lemmatization):\")\n",
    "print(test_df.head())\n",
    "#choosing this lemmatization "
   ]
  },
  {
   "cell_type": "code",
   "execution_count": 24,
   "id": "24f0832b",
   "metadata": {},
   "outputs": [],
   "source": [
    "new_train_df = train_df\n",
    "new_test_df = test_df"
   ]
  },
  {
   "cell_type": "code",
   "execution_count": 25,
   "id": "184c55e2",
   "metadata": {},
   "outputs": [
    {
     "data": {
      "text/html": [
       "<div>\n",
       "<style scoped>\n",
       "    .dataframe tbody tr th:only-of-type {\n",
       "        vertical-align: middle;\n",
       "    }\n",
       "\n",
       "    .dataframe tbody tr th {\n",
       "        vertical-align: top;\n",
       "    }\n",
       "\n",
       "    .dataframe thead th {\n",
       "        text-align: right;\n",
       "    }\n",
       "</style>\n",
       "<table border=\"1\" class=\"dataframe\">\n",
       "  <thead>\n",
       "    <tr style=\"text-align: right;\">\n",
       "      <th></th>\n",
       "      <th>headlines</th>\n",
       "      <th>description</th>\n",
       "      <th>content</th>\n",
       "      <th>url</th>\n",
       "      <th>category</th>\n",
       "    </tr>\n",
       "  </thead>\n",
       "  <tbody>\n",
       "    <tr>\n",
       "      <th>0</th>\n",
       "      <td>[rbi, revis, definit, politicallyexpos, person...</td>\n",
       "      <td>[central, bank, also, ask, chairperson, chief,...</td>\n",
       "      <td>[reserv, bank, india, rbi, chang, definit, pol...</td>\n",
       "      <td>https://indianexpress.com/article/business/ban...</td>\n",
       "      <td>business</td>\n",
       "    </tr>\n",
       "    <tr>\n",
       "      <th>1</th>\n",
       "      <td>[ndtv, q, net, profit, fall, r, crore, impact,...</td>\n",
       "      <td>[ndtv, consolid, revenu, oper, r, crore, r, cr...</td>\n",
       "      <td>[broadcast, new, delhi, televis, ltd, monday, ...</td>\n",
       "      <td>https://indianexpress.com/article/business/com...</td>\n",
       "      <td>business</td>\n",
       "    </tr>\n",
       "    <tr>\n",
       "      <th>2</th>\n",
       "      <td>[akasa, air, well, capitalis, grow, much, fast...</td>\n",
       "      <td>[initi, share, sale, open, public, subscript, ...</td>\n",
       "      <td>[homegrown, server, maker, netweb, technolog, ...</td>\n",
       "      <td>https://indianexpress.com/article/business/mar...</td>\n",
       "      <td>business</td>\n",
       "    </tr>\n",
       "    <tr>\n",
       "      <th>3</th>\n",
       "      <td>[india, current, account, deficit, declin, sha...</td>\n",
       "      <td>[current, account, deficit, cad, per, cent, gd...</td>\n",
       "      <td>[india, current, account, deficit, declin, sha...</td>\n",
       "      <td>https://indianexpress.com/article/business/eco...</td>\n",
       "      <td>business</td>\n",
       "    </tr>\n",
       "    <tr>\n",
       "      <th>4</th>\n",
       "      <td>[state, borrow, cost, soar, highest, far, fiscal]</td>\n",
       "      <td>[price, shot, reflect, overal, higher, risk, a...</td>\n",
       "      <td>[state, forc, pay, nose, weekli, auction, debt...</td>\n",
       "      <td>https://indianexpress.com/article/business/eco...</td>\n",
       "      <td>business</td>\n",
       "    </tr>\n",
       "  </tbody>\n",
       "</table>\n",
       "</div>"
      ],
      "text/plain": [
       "                                           headlines  \\\n",
       "0  [rbi, revis, definit, politicallyexpos, person...   \n",
       "1  [ndtv, q, net, profit, fall, r, crore, impact,...   \n",
       "2  [akasa, air, well, capitalis, grow, much, fast...   \n",
       "3  [india, current, account, deficit, declin, sha...   \n",
       "4  [state, borrow, cost, soar, highest, far, fiscal]   \n",
       "\n",
       "                                         description  \\\n",
       "0  [central, bank, also, ask, chairperson, chief,...   \n",
       "1  [ndtv, consolid, revenu, oper, r, crore, r, cr...   \n",
       "2  [initi, share, sale, open, public, subscript, ...   \n",
       "3  [current, account, deficit, cad, per, cent, gd...   \n",
       "4  [price, shot, reflect, overal, higher, risk, a...   \n",
       "\n",
       "                                             content  \\\n",
       "0  [reserv, bank, india, rbi, chang, definit, pol...   \n",
       "1  [broadcast, new, delhi, televis, ltd, monday, ...   \n",
       "2  [homegrown, server, maker, netweb, technolog, ...   \n",
       "3  [india, current, account, deficit, declin, sha...   \n",
       "4  [state, forc, pay, nose, weekli, auction, debt...   \n",
       "\n",
       "                                                 url  category  \n",
       "0  https://indianexpress.com/article/business/ban...  business  \n",
       "1  https://indianexpress.com/article/business/com...  business  \n",
       "2  https://indianexpress.com/article/business/mar...  business  \n",
       "3  https://indianexpress.com/article/business/eco...  business  \n",
       "4  https://indianexpress.com/article/business/eco...  business  "
      ]
     },
     "execution_count": 25,
     "metadata": {},
     "output_type": "execute_result"
    }
   ],
   "source": [
    "new_train_df.head(5)"
   ]
  },
  {
   "cell_type": "code",
   "execution_count": 26,
   "id": "c994ca99",
   "metadata": {},
   "outputs": [
    {
     "data": {
      "text/html": [
       "<div>\n",
       "<style scoped>\n",
       "    .dataframe tbody tr th:only-of-type {\n",
       "        vertical-align: middle;\n",
       "    }\n",
       "\n",
       "    .dataframe tbody tr th {\n",
       "        vertical-align: top;\n",
       "    }\n",
       "\n",
       "    .dataframe thead th {\n",
       "        text-align: right;\n",
       "    }\n",
       "</style>\n",
       "<table border=\"1\" class=\"dataframe\">\n",
       "  <thead>\n",
       "    <tr style=\"text-align: right;\">\n",
       "      <th></th>\n",
       "      <th>headlines</th>\n",
       "      <th>description</th>\n",
       "      <th>content</th>\n",
       "      <th>url</th>\n",
       "      <th>category</th>\n",
       "    </tr>\n",
       "  </thead>\n",
       "  <tbody>\n",
       "    <tr>\n",
       "      <th>0</th>\n",
       "      <td>[nlc, india, win, contract, power, suppli, raj...</td>\n",
       "      <td>[state-own, firm, nlc, india, ltd, (, nlcil, )...</td>\n",
       "      <td>[stateown, firm, nlc, india, ltd, nlcil, monda...</td>\n",
       "      <td>https://indianexpress.com/article/business/com...</td>\n",
       "      <td>business</td>\n",
       "    </tr>\n",
       "    <tr>\n",
       "      <th>1</th>\n",
       "      <td>[sbi, clerk, prelim, exam, date, announc, admi...</td>\n",
       "      <td>[sbi, clerk, prelim, exam, :, sbi, clerk, prel...</td>\n",
       "      <td>[sbi, clerk, prelim, exam, state, bank, indian...</td>\n",
       "      <td>https://indianexpress.com/article/education/sb...</td>\n",
       "      <td>education</td>\n",
       "    </tr>\n",
       "    <tr>\n",
       "      <th>2</th>\n",
       "      <td>[golden, globe, michel, yeoh, ferrel, angela, ...</td>\n",
       "      <td>[barbi, top, nomine, year, ,, follow, close, o...</td>\n",
       "      <td>[michel, yeoh, ferrel, angela, bassett, amanda...</td>\n",
       "      <td>https://indianexpress.com/article/entertainmen...</td>\n",
       "      <td>entertainment</td>\n",
       "    </tr>\n",
       "    <tr>\n",
       "      <th>3</th>\n",
       "      <td>[oneplu, nord, r, part, new, price, cut, here]</td>\n",
       "      <td>[new, deal, make, oneplu, nord, 3, easi, purch...</td>\n",
       "      <td>[review, oneplu, nord, g, prais, balanc, combi...</td>\n",
       "      <td>https://indianexpress.com/article/technology/t...</td>\n",
       "      <td>technology</td>\n",
       "    </tr>\n",
       "    <tr>\n",
       "      <th>4</th>\n",
       "      <td>[adani, famili, partner, use, opaqu, fund, inv...</td>\n",
       "      <td>[cite, review, file, multipl, tax, haven, inte...</td>\n",
       "      <td>[million, dollar, invest, publicli, trade, sto...</td>\n",
       "      <td>https://indianexpress.com/article/business/ada...</td>\n",
       "      <td>business</td>\n",
       "    </tr>\n",
       "  </tbody>\n",
       "</table>\n",
       "</div>"
      ],
      "text/plain": [
       "                                           headlines  \\\n",
       "0  [nlc, india, win, contract, power, suppli, raj...   \n",
       "1  [sbi, clerk, prelim, exam, date, announc, admi...   \n",
       "2  [golden, globe, michel, yeoh, ferrel, angela, ...   \n",
       "3     [oneplu, nord, r, part, new, price, cut, here]   \n",
       "4  [adani, famili, partner, use, opaqu, fund, inv...   \n",
       "\n",
       "                                         description  \\\n",
       "0  [state-own, firm, nlc, india, ltd, (, nlcil, )...   \n",
       "1  [sbi, clerk, prelim, exam, :, sbi, clerk, prel...   \n",
       "2  [barbi, top, nomine, year, ,, follow, close, o...   \n",
       "3  [new, deal, make, oneplu, nord, 3, easi, purch...   \n",
       "4  [cite, review, file, multipl, tax, haven, inte...   \n",
       "\n",
       "                                             content  \\\n",
       "0  [stateown, firm, nlc, india, ltd, nlcil, monda...   \n",
       "1  [sbi, clerk, prelim, exam, state, bank, indian...   \n",
       "2  [michel, yeoh, ferrel, angela, bassett, amanda...   \n",
       "3  [review, oneplu, nord, g, prais, balanc, combi...   \n",
       "4  [million, dollar, invest, publicli, trade, sto...   \n",
       "\n",
       "                                                 url       category  \n",
       "0  https://indianexpress.com/article/business/com...       business  \n",
       "1  https://indianexpress.com/article/education/sb...      education  \n",
       "2  https://indianexpress.com/article/entertainmen...  entertainment  \n",
       "3  https://indianexpress.com/article/technology/t...     technology  \n",
       "4  https://indianexpress.com/article/business/ada...       business  "
      ]
     },
     "execution_count": 26,
     "metadata": {},
     "output_type": "execute_result"
    }
   ],
   "source": [
    "new_test_df.head(5)"
   ]
  },
  {
   "cell_type": "code",
   "execution_count": null,
   "id": "03694a84",
   "metadata": {},
   "outputs": [],
   "source": []
  }
 ],
 "metadata": {
  "kernelspec": {
   "display_name": "Python 3 (ipykernel)",
   "language": "python",
   "name": "python3"
  },
  "language_info": {
   "codemirror_mode": {
    "name": "ipython",
    "version": 3
   },
   "file_extension": ".py",
   "mimetype": "text/x-python",
   "name": "python",
   "nbconvert_exporter": "python",
   "pygments_lexer": "ipython3",
   "version": "3.11.5"
  }
 },
 "nbformat": 4,
 "nbformat_minor": 5
}
