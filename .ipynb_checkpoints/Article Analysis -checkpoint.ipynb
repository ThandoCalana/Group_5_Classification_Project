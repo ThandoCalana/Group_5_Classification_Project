{
 "cells": [
  {
   "cell_type": "markdown",
   "id": "a489c04e",
   "metadata": {},
   "source": [
    "# Project 3 Team 5\n",
    "## Date: 17 January 2025 "
   ]
  },
  {
   "cell_type": "markdown",
   "id": "2b884053",
   "metadata": {},
   "source": [
    "1. Project Overview\n",
    "2. Data Load and preprocessing\n",
    "3. Model training\n",
    "4. Evaluation\n",
    "5. Deployment"
   ]
  },
  {
   "cell_type": "markdown",
   "id": "11ef8bae",
   "metadata": {},
   "source": [
    "### 1. Project Overview"
   ]
  },
  {
   "cell_type": "code",
   "execution_count": null,
   "id": "2028adbd",
   "metadata": {},
   "outputs": [],
   "source": []
  },
  {
   "cell_type": "markdown",
   "id": "3861b463",
   "metadata": {},
   "source": [
    "### 2. Data load and preprocessing \n",
    "#### Packages"
   ]
  },
  {
   "cell_type": "code",
<<<<<<< HEAD
   "execution_count": 6,
   "id": "8802b535-1337-44c0-9390-6bc152851761",
   "metadata": {},
   "outputs": [
    {
     "name": "stdout",
     "output_type": "stream",
     "text": [
      "Requirement already satisfied: tensorflow in c:\\users\\fransisca nong\\anaconda3\\lib\\site-packages (2.18.0)\n",
      "Requirement already satisfied: tensorflow-intel==2.18.0 in c:\\users\\fransisca nong\\anaconda3\\lib\\site-packages (from tensorflow) (2.18.0)\n",
      "Requirement already satisfied: absl-py>=1.0.0 in c:\\users\\fransisca nong\\anaconda3\\lib\\site-packages (from tensorflow-intel==2.18.0->tensorflow) (2.1.0)\n",
      "Requirement already satisfied: astunparse>=1.6.0 in c:\\users\\fransisca nong\\anaconda3\\lib\\site-packages (from tensorflow-intel==2.18.0->tensorflow) (1.6.3)\n",
      "Requirement already satisfied: flatbuffers>=24.3.25 in c:\\users\\fransisca nong\\anaconda3\\lib\\site-packages (from tensorflow-intel==2.18.0->tensorflow) (25.1.24)\n",
      "Requirement already satisfied: gast!=0.5.0,!=0.5.1,!=0.5.2,>=0.2.1 in c:\\users\\fransisca nong\\anaconda3\\lib\\site-packages (from tensorflow-intel==2.18.0->tensorflow) (0.6.0)\n",
      "Requirement already satisfied: google-pasta>=0.1.1 in c:\\users\\fransisca nong\\anaconda3\\lib\\site-packages (from tensorflow-intel==2.18.0->tensorflow) (0.2.0)\n",
      "Requirement already satisfied: libclang>=13.0.0 in c:\\users\\fransisca nong\\anaconda3\\lib\\site-packages (from tensorflow-intel==2.18.0->tensorflow) (18.1.1)\n",
      "Requirement already satisfied: opt-einsum>=2.3.2 in c:\\users\\fransisca nong\\anaconda3\\lib\\site-packages (from tensorflow-intel==2.18.0->tensorflow) (3.4.0)\n",
      "Requirement already satisfied: packaging in c:\\users\\fransisca nong\\appdata\\roaming\\python\\python312\\site-packages (from tensorflow-intel==2.18.0->tensorflow) (24.1)\n",
      "Requirement already satisfied: protobuf!=4.21.0,!=4.21.1,!=4.21.2,!=4.21.3,!=4.21.4,!=4.21.5,<6.0.0dev,>=3.20.3 in c:\\users\\fransisca nong\\anaconda3\\lib\\site-packages (from tensorflow-intel==2.18.0->tensorflow) (3.20.3)\n",
      "Requirement already satisfied: requests<3,>=2.21.0 in c:\\users\\fransisca nong\\anaconda3\\lib\\site-packages (from tensorflow-intel==2.18.0->tensorflow) (2.32.2)\n",
      "Requirement already satisfied: setuptools in c:\\users\\fransisca nong\\anaconda3\\lib\\site-packages (from tensorflow-intel==2.18.0->tensorflow) (69.5.1)\n",
      "Requirement already satisfied: six>=1.12.0 in c:\\users\\fransisca nong\\appdata\\roaming\\python\\python312\\site-packages (from tensorflow-intel==2.18.0->tensorflow) (1.16.0)\n",
      "Requirement already satisfied: termcolor>=1.1.0 in c:\\users\\fransisca nong\\anaconda3\\lib\\site-packages (from tensorflow-intel==2.18.0->tensorflow) (2.5.0)\n",
      "Requirement already satisfied: typing-extensions>=3.6.6 in c:\\users\\fransisca nong\\anaconda3\\lib\\site-packages (from tensorflow-intel==2.18.0->tensorflow) (4.11.0)\n",
      "Requirement already satisfied: wrapt>=1.11.0 in c:\\users\\fransisca nong\\anaconda3\\lib\\site-packages (from tensorflow-intel==2.18.0->tensorflow) (1.14.1)\n",
      "Requirement already satisfied: grpcio<2.0,>=1.24.3 in c:\\users\\fransisca nong\\anaconda3\\lib\\site-packages (from tensorflow-intel==2.18.0->tensorflow) (1.70.0)\n",
      "Requirement already satisfied: tensorboard<2.19,>=2.18 in c:\\users\\fransisca nong\\anaconda3\\lib\\site-packages (from tensorflow-intel==2.18.0->tensorflow) (2.18.0)\n",
      "Requirement already satisfied: keras>=3.5.0 in c:\\users\\fransisca nong\\anaconda3\\lib\\site-packages (from tensorflow-intel==2.18.0->tensorflow) (3.8.0)\n",
      "Requirement already satisfied: numpy<2.1.0,>=1.26.0 in c:\\users\\fransisca nong\\anaconda3\\lib\\site-packages (from tensorflow-intel==2.18.0->tensorflow) (1.26.4)\n",
      "Requirement already satisfied: h5py>=3.11.0 in c:\\users\\fransisca nong\\anaconda3\\lib\\site-packages (from tensorflow-intel==2.18.0->tensorflow) (3.11.0)\n",
      "Requirement already satisfied: ml-dtypes<0.5.0,>=0.4.0 in c:\\users\\fransisca nong\\anaconda3\\lib\\site-packages (from tensorflow-intel==2.18.0->tensorflow) (0.4.1)\n",
      "Requirement already satisfied: wheel<1.0,>=0.23.0 in c:\\users\\fransisca nong\\anaconda3\\lib\\site-packages (from astunparse>=1.6.0->tensorflow-intel==2.18.0->tensorflow) (0.43.0)\n",
      "Requirement already satisfied: rich in c:\\users\\fransisca nong\\anaconda3\\lib\\site-packages (from keras>=3.5.0->tensorflow-intel==2.18.0->tensorflow) (13.3.5)\n",
      "Requirement already satisfied: namex in c:\\users\\fransisca nong\\anaconda3\\lib\\site-packages (from keras>=3.5.0->tensorflow-intel==2.18.0->tensorflow) (0.0.8)\n",
      "Requirement already satisfied: optree in c:\\users\\fransisca nong\\anaconda3\\lib\\site-packages (from keras>=3.5.0->tensorflow-intel==2.18.0->tensorflow) (0.14.0)\n",
      "Requirement already satisfied: charset-normalizer<4,>=2 in c:\\users\\fransisca nong\\anaconda3\\lib\\site-packages (from requests<3,>=2.21.0->tensorflow-intel==2.18.0->tensorflow) (2.0.4)\n",
      "Requirement already satisfied: idna<4,>=2.5 in c:\\users\\fransisca nong\\anaconda3\\lib\\site-packages (from requests<3,>=2.21.0->tensorflow-intel==2.18.0->tensorflow) (3.7)\n",
      "Requirement already satisfied: urllib3<3,>=1.21.1 in c:\\users\\fransisca nong\\anaconda3\\lib\\site-packages (from requests<3,>=2.21.0->tensorflow-intel==2.18.0->tensorflow) (2.2.2)\n",
      "Requirement already satisfied: certifi>=2017.4.17 in c:\\users\\fransisca nong\\anaconda3\\lib\\site-packages (from requests<3,>=2.21.0->tensorflow-intel==2.18.0->tensorflow) (2024.7.4)\n",
      "Requirement already satisfied: markdown>=2.6.8 in c:\\users\\fransisca nong\\anaconda3\\lib\\site-packages (from tensorboard<2.19,>=2.18->tensorflow-intel==2.18.0->tensorflow) (3.4.1)\n",
      "Requirement already satisfied: tensorboard-data-server<0.8.0,>=0.7.0 in c:\\users\\fransisca nong\\anaconda3\\lib\\site-packages (from tensorboard<2.19,>=2.18->tensorflow-intel==2.18.0->tensorflow) (0.7.2)\n",
      "Requirement already satisfied: werkzeug>=1.0.1 in c:\\users\\fransisca nong\\anaconda3\\lib\\site-packages (from tensorboard<2.19,>=2.18->tensorflow-intel==2.18.0->tensorflow) (3.0.3)\n",
      "Requirement already satisfied: MarkupSafe>=2.1.1 in c:\\users\\fransisca nong\\anaconda3\\lib\\site-packages (from werkzeug>=1.0.1->tensorboard<2.19,>=2.18->tensorflow-intel==2.18.0->tensorflow) (2.1.3)\n",
      "Requirement already satisfied: markdown-it-py<3.0.0,>=2.2.0 in c:\\users\\fransisca nong\\anaconda3\\lib\\site-packages (from rich->keras>=3.5.0->tensorflow-intel==2.18.0->tensorflow) (2.2.0)\n",
      "Requirement already satisfied: pygments<3.0.0,>=2.13.0 in c:\\users\\fransisca nong\\appdata\\roaming\\python\\python312\\site-packages (from rich->keras>=3.5.0->tensorflow-intel==2.18.0->tensorflow) (2.18.0)\n",
      "Requirement already satisfied: mdurl~=0.1 in c:\\users\\fransisca nong\\anaconda3\\lib\\site-packages (from markdown-it-py<3.0.0,>=2.2.0->rich->keras>=3.5.0->tensorflow-intel==2.18.0->tensorflow) (0.1.0)\n",
      "Note: you may need to restart the kernel to use updated packages.\n"
     ]
    }
   ],
   "source": [
    "pip install tensorflow"
   ]
  },
  {
   "cell_type": "code",
   "execution_count": 7,
=======
   "execution_count": 159,
>>>>>>> main
   "id": "64014f33",
   "metadata": {},
   "outputs": [
    {
     "name": "stderr",
     "output_type": "stream",
     "text": [
<<<<<<< HEAD
      "[nltk_data] Downloading package stopwords to C:\\Users\\Fransisca\n",
      "[nltk_data]     Nong\\AppData\\Roaming\\nltk_data...\n",
      "[nltk_data]   Package stopwords is already up-to-date!\n",
      "[nltk_data] Downloading package punkt to C:\\Users\\Fransisca\n",
      "[nltk_data]     Nong\\AppData\\Roaming\\nltk_data...\n",
      "[nltk_data]   Package punkt is already up-to-date!\n",
      "[nltk_data] Downloading package wordnet to C:\\Users\\Fransisca\n",
      "[nltk_data]     Nong\\AppData\\Roaming\\nltk_data...\n",
=======
      "[nltk_data] Downloading package stopwords to C:\\Users\\user\n",
      "[nltk_data]     pc\\AppData\\Roaming\\nltk_data...\n",
      "[nltk_data]   Package stopwords is already up-to-date!\n",
      "[nltk_data] Downloading package punkt to C:\\Users\\user\n",
      "[nltk_data]     pc\\AppData\\Roaming\\nltk_data...\n",
      "[nltk_data]   Package punkt is already up-to-date!\n",
      "[nltk_data] Downloading package wordnet to C:\\Users\\user\n",
      "[nltk_data]     pc\\AppData\\Roaming\\nltk_data...\n",
>>>>>>> main
      "[nltk_data]   Package wordnet is already up-to-date!\n"
     ]
    }
   ],
   "source": [
    "import pandas as pd\n",
    "import numpy as np\n",
    "import matplotlib.pyplot as plt\n",
    "import seaborn as sns\n",
    "from sklearn.model_selection import train_test_split\n",
    "\n",
    "from urllib.parse import urlparse\n",
    "import re\n",
    "from nltk.tokenize import word_tokenize, TreebankWordTokenizer\n",
    "from nltk.stem import WordNetLemmatizer\n",
    "from nltk.corpus import stopwords\n",
    "from sklearn.feature_extraction.text import TfidfVectorizer\n",
    "from sklearn.utils import resample\n",
    "\n",
    "from sklearn.naive_bayes import MultinomialNB\n",
    "from sklearn.pipeline import Pipeline\n",
    "from sklearn.model_selection import GridSearchCV\n",
    "\n",
    "import tensorflow as tf\n",
    "import scikeras\n",
    "from tensorflow.keras.datasets import mnist\n",
    "from tensorflow.keras.layers import Dense, Flatten, Dropout, Input\n",
    "from tensorflow.keras.models import Sequential\n",
    "from tensorflow.keras.utils import to_categorical, normalize\n",
    "from sklearn.metrics import classification_report\n",
    "from scikeras.wrappers import KerasClassifier\n",
    "\n",
    "import nltk\n",
    "nltk.download('stopwords')\n",
    "nltk.download('punkt')\n",
    "nltk.download('wordnet')\n",
    "\n",
    "\n",
    "import warnings\n",
    "warnings.filterwarnings(\"ignore\")"
   ]
  },
  {
   "cell_type": "markdown",
   "id": "d8eedb7d",
   "metadata": {},
   "source": [
    "#### Datasets"
   ]
  },
  {
   "cell_type": "code",
<<<<<<< HEAD
   "execution_count": 9,
=======
   "execution_count": 212,
>>>>>>> main
   "id": "241ffc87",
   "metadata": {
    "scrolled": true
   },
<<<<<<< HEAD
   "outputs": [
    {
     "data": {
      "text/html": [
       "<div>\n",
       "<style scoped>\n",
       "    .dataframe tbody tr th:only-of-type {\n",
       "        vertical-align: middle;\n",
       "    }\n",
       "\n",
       "    .dataframe tbody tr th {\n",
       "        vertical-align: top;\n",
       "    }\n",
       "\n",
       "    .dataframe thead th {\n",
       "        text-align: right;\n",
       "    }\n",
       "</style>\n",
       "<table border=\"1\" class=\"dataframe\">\n",
       "  <thead>\n",
       "    <tr style=\"text-align: right;\">\n",
       "      <th></th>\n",
       "      <th>headlines</th>\n",
       "      <th>description</th>\n",
       "      <th>content</th>\n",
       "      <th>url</th>\n",
       "      <th>category</th>\n",
       "    </tr>\n",
       "  </thead>\n",
       "  <tbody>\n",
       "    <tr>\n",
       "      <th>0</th>\n",
       "      <td>RBI revises definition of politically-exposed ...</td>\n",
       "      <td>The central bank has also asked chairpersons a...</td>\n",
       "      <td>The Reserve Bank of India (RBI) has changed th...</td>\n",
       "      <td>https://indianexpress.com/article/business/ban...</td>\n",
       "      <td>business</td>\n",
       "    </tr>\n",
       "    <tr>\n",
       "      <th>1</th>\n",
       "      <td>NDTV Q2 net profit falls 57.4% to Rs 5.55 cror...</td>\n",
       "      <td>NDTV's consolidated revenue from operations wa...</td>\n",
       "      <td>Broadcaster New Delhi Television Ltd on Monday...</td>\n",
       "      <td>https://indianexpress.com/article/business/com...</td>\n",
       "      <td>business</td>\n",
       "    </tr>\n",
       "    <tr>\n",
       "      <th>2</th>\n",
       "      <td>Akasa Air ‘well capitalised’, can grow much fa...</td>\n",
       "      <td>The initial share sale will be open for public...</td>\n",
       "      <td>Homegrown server maker Netweb Technologies Ind...</td>\n",
       "      <td>https://indianexpress.com/article/business/mar...</td>\n",
       "      <td>business</td>\n",
       "    </tr>\n",
       "    <tr>\n",
       "      <th>3</th>\n",
       "      <td>India’s current account deficit declines sharp...</td>\n",
       "      <td>The current account deficit (CAD) was 3.8 per ...</td>\n",
       "      <td>India’s current account deficit declined sharp...</td>\n",
       "      <td>https://indianexpress.com/article/business/eco...</td>\n",
       "      <td>business</td>\n",
       "    </tr>\n",
       "    <tr>\n",
       "      <th>4</th>\n",
       "      <td>States borrowing cost soars to 7.68%, highest ...</td>\n",
       "      <td>The prices shot up reflecting the overall high...</td>\n",
       "      <td>States have been forced to pay through their n...</td>\n",
       "      <td>https://indianexpress.com/article/business/eco...</td>\n",
       "      <td>business</td>\n",
       "    </tr>\n",
       "  </tbody>\n",
       "</table>\n",
       "</div>"
      ],
      "text/plain": [
       "                                           headlines  \\\n",
       "0  RBI revises definition of politically-exposed ...   \n",
       "1  NDTV Q2 net profit falls 57.4% to Rs 5.55 cror...   \n",
       "2  Akasa Air ‘well capitalised’, can grow much fa...   \n",
       "3  India’s current account deficit declines sharp...   \n",
       "4  States borrowing cost soars to 7.68%, highest ...   \n",
       "\n",
       "                                         description  \\\n",
       "0  The central bank has also asked chairpersons a...   \n",
       "1  NDTV's consolidated revenue from operations wa...   \n",
       "2  The initial share sale will be open for public...   \n",
       "3  The current account deficit (CAD) was 3.8 per ...   \n",
       "4  The prices shot up reflecting the overall high...   \n",
       "\n",
       "                                             content  \\\n",
       "0  The Reserve Bank of India (RBI) has changed th...   \n",
       "1  Broadcaster New Delhi Television Ltd on Monday...   \n",
       "2  Homegrown server maker Netweb Technologies Ind...   \n",
       "3  India’s current account deficit declined sharp...   \n",
       "4  States have been forced to pay through their n...   \n",
       "\n",
       "                                                 url  category  \n",
       "0  https://indianexpress.com/article/business/ban...  business  \n",
       "1  https://indianexpress.com/article/business/com...  business  \n",
       "2  https://indianexpress.com/article/business/mar...  business  \n",
       "3  https://indianexpress.com/article/business/eco...  business  \n",
       "4  https://indianexpress.com/article/business/eco...  business  "
      ]
     },
     "execution_count": 9,
     "metadata": {},
     "output_type": "execute_result"
    }
   ],
   "source": [
    "#importing the dataset:the train dataset \n",
    "train_df = pd.read_csv(\"Data/processed/train.csv\")\n",
    "train_df.head(5)"
=======
   "outputs": [],
   "source": [
    "#importing the dataset:the train dataset \n",
    "train_df = pd.read_csv(\"Data/processed/train.csv\")\n",
    "# train_df.head(5)"
>>>>>>> main
   ]
  },
  {
   "cell_type": "code",
<<<<<<< HEAD
   "execution_count": 10,
   "id": "c90f6f9f",
   "metadata": {},
   "outputs": [
    {
     "data": {
      "text/html": [
       "<div>\n",
       "<style scoped>\n",
       "    .dataframe tbody tr th:only-of-type {\n",
       "        vertical-align: middle;\n",
       "    }\n",
       "\n",
       "    .dataframe tbody tr th {\n",
       "        vertical-align: top;\n",
       "    }\n",
       "\n",
       "    .dataframe thead th {\n",
       "        text-align: right;\n",
       "    }\n",
       "</style>\n",
       "<table border=\"1\" class=\"dataframe\">\n",
       "  <thead>\n",
       "    <tr style=\"text-align: right;\">\n",
       "      <th></th>\n",
       "      <th>headlines</th>\n",
       "      <th>description</th>\n",
       "      <th>content</th>\n",
       "      <th>url</th>\n",
       "      <th>category</th>\n",
       "    </tr>\n",
       "  </thead>\n",
       "  <tbody>\n",
       "    <tr>\n",
       "      <th>0</th>\n",
       "      <td>NLC India wins contract for power supply to Ra...</td>\n",
       "      <td>State-owned firm NLC India Ltd (NLCIL) on Mond...</td>\n",
       "      <td>State-owned firm NLC India Ltd (NLCIL) on Mond...</td>\n",
       "      <td>https://indianexpress.com/article/business/com...</td>\n",
       "      <td>business</td>\n",
       "    </tr>\n",
       "    <tr>\n",
       "      <th>1</th>\n",
       "      <td>SBI Clerk prelims exams dates announced; admit...</td>\n",
       "      <td>SBI Clerk Prelims Exam: The SBI Clerk prelims ...</td>\n",
       "      <td>SBI Clerk Prelims Exam: The State Bank of Indi...</td>\n",
       "      <td>https://indianexpress.com/article/education/sb...</td>\n",
       "      <td>education</td>\n",
       "    </tr>\n",
       "    <tr>\n",
       "      <th>2</th>\n",
       "      <td>Golden Globes: Michelle Yeoh, Will Ferrell, An...</td>\n",
       "      <td>Barbie is the top nominee this year, followed ...</td>\n",
       "      <td>Michelle Yeoh, Will Ferrell, Angela Bassett an...</td>\n",
       "      <td>https://indianexpress.com/article/entertainmen...</td>\n",
       "      <td>entertainment</td>\n",
       "    </tr>\n",
       "    <tr>\n",
       "      <th>3</th>\n",
       "      <td>OnePlus Nord 3 at Rs 27,999 as part of new pri...</td>\n",
       "      <td>New deal makes the OnePlus Nord 3 an easy purc...</td>\n",
       "      <td>In our review of the OnePlus Nord 3 5G, we pra...</td>\n",
       "      <td>https://indianexpress.com/article/technology/t...</td>\n",
       "      <td>technology</td>\n",
       "    </tr>\n",
       "    <tr>\n",
       "      <th>4</th>\n",
       "      <td>Adani family’s partners used ‘opaque’ funds to...</td>\n",
       "      <td>Citing review of files from multiple tax haven...</td>\n",
       "      <td>Millions of dollars were invested in some publ...</td>\n",
       "      <td>https://indianexpress.com/article/business/ada...</td>\n",
       "      <td>business</td>\n",
       "    </tr>\n",
       "  </tbody>\n",
       "</table>\n",
       "</div>"
      ],
      "text/plain": [
       "                                           headlines  \\\n",
       "0  NLC India wins contract for power supply to Ra...   \n",
       "1  SBI Clerk prelims exams dates announced; admit...   \n",
       "2  Golden Globes: Michelle Yeoh, Will Ferrell, An...   \n",
       "3  OnePlus Nord 3 at Rs 27,999 as part of new pri...   \n",
       "4  Adani family’s partners used ‘opaque’ funds to...   \n",
       "\n",
       "                                         description  \\\n",
       "0  State-owned firm NLC India Ltd (NLCIL) on Mond...   \n",
       "1  SBI Clerk Prelims Exam: The SBI Clerk prelims ...   \n",
       "2  Barbie is the top nominee this year, followed ...   \n",
       "3  New deal makes the OnePlus Nord 3 an easy purc...   \n",
       "4  Citing review of files from multiple tax haven...   \n",
       "\n",
       "                                             content  \\\n",
       "0  State-owned firm NLC India Ltd (NLCIL) on Mond...   \n",
       "1  SBI Clerk Prelims Exam: The State Bank of Indi...   \n",
       "2  Michelle Yeoh, Will Ferrell, Angela Bassett an...   \n",
       "3  In our review of the OnePlus Nord 3 5G, we pra...   \n",
       "4  Millions of dollars were invested in some publ...   \n",
       "\n",
       "                                                 url       category  \n",
       "0  https://indianexpress.com/article/business/com...       business  \n",
       "1  https://indianexpress.com/article/education/sb...      education  \n",
       "2  https://indianexpress.com/article/entertainmen...  entertainment  \n",
       "3  https://indianexpress.com/article/technology/t...     technology  \n",
       "4  https://indianexpress.com/article/business/ada...       business  "
      ]
     },
     "execution_count": 10,
     "metadata": {},
     "output_type": "execute_result"
    }
   ],
   "source": [
    "#importing the dataset: the test \n",
    "test_df = pd.read_csv(\"Data/processed/test.csv\")\n",
    "test_df.head(5)"
=======
   "execution_count": 214,
   "id": "c90f6f9f",
   "metadata": {},
   "outputs": [],
   "source": [
    "#importing the dataset: the test \n",
    "test_df = pd.read_csv(\"Data/processed/test.csv\")\n",
    "# test_df.head(5)"
>>>>>>> main
   ]
  },
  {
   "cell_type": "markdown",
   "id": "ac9a5e2b",
<<<<<<< HEAD
   "metadata": {},
=======
   "metadata": {
    "jp-MarkdownHeadingCollapsed": true
   },
>>>>>>> main
   "source": [
    "#### 2.1 Data inspection"
   ]
  },
  {
   "cell_type": "code",
<<<<<<< HEAD
   "execution_count": 12,
   "id": "e821ad56",
   "metadata": {},
   "outputs": [
    {
     "name": "stdout",
     "output_type": "stream",
     "text": [
      "The dimensions for the Train set are: (5520, 5)\n",
      "The dimensions for the test set are: (2000, 5)\n"
     ]
    }
   ],
=======
   "execution_count": null,
   "id": "e821ad56",
   "metadata": {},
   "outputs": [],
>>>>>>> main
   "source": [
    "print(\"The dimensions for the Train set are:\", train_df.shape)\n",
    "print(\"The dimensions for the test set are:\",test_df.shape)"
   ]
  },
  {
   "cell_type": "code",
<<<<<<< HEAD
   "execution_count": 13,
   "id": "19bc4336",
   "metadata": {},
   "outputs": [
    {
     "name": "stdout",
     "output_type": "stream",
     "text": [
      "<class 'pandas.core.frame.DataFrame'>\n",
      "RangeIndex: 5520 entries, 0 to 5519\n",
      "Data columns (total 5 columns):\n",
      " #   Column       Non-Null Count  Dtype \n",
      "---  ------       --------------  ----- \n",
      " 0   headlines    5520 non-null   object\n",
      " 1   description  5520 non-null   object\n",
      " 2   content      5520 non-null   object\n",
      " 3   url          5520 non-null   object\n",
      " 4   category     5520 non-null   object\n",
      "dtypes: object(5)\n",
      "memory usage: 215.8+ KB\n",
      "<class 'pandas.core.frame.DataFrame'>\n",
      "RangeIndex: 2000 entries, 0 to 1999\n",
      "Data columns (total 5 columns):\n",
      " #   Column       Non-Null Count  Dtype \n",
      "---  ------       --------------  ----- \n",
      " 0   headlines    2000 non-null   object\n",
      " 1   description  2000 non-null   object\n",
      " 2   content      2000 non-null   object\n",
      " 3   url          2000 non-null   object\n",
      " 4   category     2000 non-null   object\n",
      "dtypes: object(5)\n",
      "memory usage: 78.3+ KB\n"
     ]
    },
    {
     "data": {
      "text/plain": [
       "None"
      ]
     },
     "metadata": {},
     "output_type": "display_data"
    },
    {
     "data": {
      "text/plain": [
       "None"
      ]
     },
     "metadata": {},
     "output_type": "display_data"
    }
   ],
=======
   "execution_count": null,
   "id": "19bc4336",
   "metadata": {},
   "outputs": [],
>>>>>>> main
   "source": [
    "display(train_df.info(), test_df.info())"
   ]
  },
  {
   "cell_type": "markdown",
   "id": "dbf51bf5",
   "metadata": {},
   "source": [
    "There are no missing values in both the train and test dataset"
   ]
  },
  {
   "cell_type": "code",
<<<<<<< HEAD
   "execution_count": 15,
   "id": "4bfc2cf8",
   "metadata": {},
   "outputs": [
    {
     "name": "stdout",
     "output_type": "stream",
     "text": [
      "             Train Null Count  Test Null Count\n",
      "headlines                   0                0\n",
      "description                 0                0\n",
      "content                     0                0\n",
      "url                         0                0\n",
      "category                    0                0\n"
     ]
    }
   ],
=======
   "execution_count": null,
   "id": "4bfc2cf8",
   "metadata": {},
   "outputs": [],
>>>>>>> main
   "source": [
    "null_counts = pd.DataFrame({\n",
    "    \"Train Null Count\": train_df.isnull().sum(),\n",
    "    \"Test Null Count\": test_df.isnull().sum()\n",
    "})\n",
    "print(null_counts)"
   ]
  },
  {
   "cell_type": "code",
<<<<<<< HEAD
   "execution_count": 16,
   "id": "a820a583",
   "metadata": {},
   "outputs": [
    {
     "data": {
      "text/plain": [
       "0"
      ]
     },
     "metadata": {},
     "output_type": "display_data"
    },
    {
     "data": {
      "text/plain": [
       "0"
      ]
     },
     "metadata": {},
     "output_type": "display_data"
    }
   ],
=======
   "execution_count": null,
   "id": "a820a583",
   "metadata": {},
   "outputs": [],
>>>>>>> main
   "source": [
    "display(train_df.duplicated().sum(), test_df.duplicated().sum())"
   ]
  },
  {
   "cell_type": "markdown",
   "id": "20c4c820",
   "metadata": {},
   "source": [
    "Number of duplicate for train set rows: 0\n",
    "\n",
    "Number of duplicate for test set rows: 0"
   ]
  },
  {
   "cell_type": "code",
<<<<<<< HEAD
   "execution_count": 18,
   "id": "dcf638e5",
   "metadata": {},
   "outputs": [
    {
     "name": "stdout",
     "output_type": "stream",
     "text": [
      "                 Metric  Train Dataset  Test Dataset\n",
      "0        Number of Rows           5520          2000\n",
      "1     Number of Columns              5             5\n",
      "2  Total Missing Values              0             0\n",
      "3        Duplicate Rows              0             0\n",
      "4     Numerical Columns              0             0\n",
      "5   Categorical Columns              5             5\n"
     ]
    }
   ],
=======
   "execution_count": null,
   "id": "dcf638e5",
   "metadata": {},
   "outputs": [],
>>>>>>> main
   "source": [
    "def inspect_dataset(df):\n",
    "    return {\n",
    "        \"Number of Rows\": df.shape[0],\n",
    "        \"Number of Columns\": df.shape[1],\n",
    "        \"Total Missing Values\": df.isnull().sum().sum(),\n",
    "        \"Duplicate Rows\": df.duplicated().sum(),\n",
    "        \"Numerical Columns\": df.select_dtypes(include='number').shape[1],\n",
    "        \"Categorical Columns\": df.select_dtypes(include='object').shape[1],\n",
    "    }\n",
    "\n",
    "train_inspection = inspect_dataset(train_df)\n",
    "test_inspection = inspect_dataset(test_df)\n",
    "\n",
    "inspection_results = pd.DataFrame({\n",
    "    \"Metric\": train_inspection.keys(),\n",
    "    \"Train Dataset\": train_inspection.values(),\n",
    "    \"Test Dataset\": test_inspection.values(),\n",
    "})\n",
    "\n",
    "print(inspection_results)"
   ]
  },
  {
   "cell_type": "code",
<<<<<<< HEAD
   "execution_count": 19,
   "id": "2cb9fec8",
   "metadata": {},
   "outputs": [
    {
     "data": {
      "text/html": [
       "<div>\n",
       "<style scoped>\n",
       "    .dataframe tbody tr th:only-of-type {\n",
       "        vertical-align: middle;\n",
       "    }\n",
       "\n",
       "    .dataframe tbody tr th {\n",
       "        vertical-align: top;\n",
       "    }\n",
       "\n",
       "    .dataframe thead th {\n",
       "        text-align: right;\n",
       "    }\n",
       "</style>\n",
       "<table border=\"1\" class=\"dataframe\">\n",
       "  <thead>\n",
       "    <tr style=\"text-align: right;\">\n",
       "      <th></th>\n",
       "      <th>count</th>\n",
       "      <th>unique</th>\n",
       "      <th>top</th>\n",
       "      <th>freq</th>\n",
       "    </tr>\n",
       "  </thead>\n",
       "  <tbody>\n",
       "    <tr>\n",
       "      <th>headlines</th>\n",
       "      <td>5520</td>\n",
       "      <td>5512</td>\n",
       "      <td>International Education Day 2024: Know why it ...</td>\n",
       "      <td>2</td>\n",
       "    </tr>\n",
       "    <tr>\n",
       "      <th>description</th>\n",
       "      <td>5520</td>\n",
       "      <td>5508</td>\n",
       "      <td>The university has removed the requirements of...</td>\n",
       "      <td>2</td>\n",
       "    </tr>\n",
       "    <tr>\n",
       "      <th>content</th>\n",
       "      <td>5520</td>\n",
       "      <td>5513</td>\n",
       "      <td>Grand Slam fever grips tennis fans all over th...</td>\n",
       "      <td>5</td>\n",
       "    </tr>\n",
       "    <tr>\n",
       "      <th>url</th>\n",
       "      <td>5520</td>\n",
       "      <td>5514</td>\n",
       "      <td>https://indianexpress.com/article/education/kc...</td>\n",
       "      <td>2</td>\n",
       "    </tr>\n",
       "    <tr>\n",
       "      <th>category</th>\n",
       "      <td>5520</td>\n",
       "      <td>5</td>\n",
       "      <td>education</td>\n",
       "      <td>1520</td>\n",
       "    </tr>\n",
       "  </tbody>\n",
       "</table>\n",
       "</div>"
      ],
      "text/plain": [
       "            count unique                                                top  \\\n",
       "headlines    5520   5512  International Education Day 2024: Know why it ...   \n",
       "description  5520   5508  The university has removed the requirements of...   \n",
       "content      5520   5513  Grand Slam fever grips tennis fans all over th...   \n",
       "url          5520   5514  https://indianexpress.com/article/education/kc...   \n",
       "category     5520      5                                          education   \n",
       "\n",
       "             freq  \n",
       "headlines       2  \n",
       "description     2  \n",
       "content         5  \n",
       "url             2  \n",
       "category     1520  "
      ]
     },
     "execution_count": 19,
     "metadata": {},
     "output_type": "execute_result"
    }
   ],
=======
   "execution_count": null,
   "id": "2cb9fec8",
   "metadata": {},
   "outputs": [],
>>>>>>> main
   "source": [
    "train_df.describe().T\n",
    "#check if there are duplicates "
   ]
  },
  {
   "cell_type": "code",
<<<<<<< HEAD
   "execution_count": 20,
   "id": "fca3a19b-a61a-4dd2-abdf-bd45324bcf1c",
   "metadata": {},
   "outputs": [
    {
     "name": "stdout",
     "output_type": "stream",
     "text": [
      "                                           headlines  \\\n",
      "0  NLC India wins contract for power supply to Ra...   \n",
      "1  SBI Clerk prelims exams dates announced; admit...   \n",
      "2  Golden Globes: Michelle Yeoh, Will Ferrell, An...   \n",
      "3  OnePlus Nord 3 at Rs 27,999 as part of new pri...   \n",
      "4  Adani family’s partners used ‘opaque’ funds to...   \n",
      "\n",
      "                                         description  \\\n",
      "0  State-owned firm NLC India Ltd (NLCIL) on Mond...   \n",
      "1  SBI Clerk Prelims Exam: The SBI Clerk prelims ...   \n",
      "2  Barbie is the top nominee this year, followed ...   \n",
      "3  New deal makes the OnePlus Nord 3 an easy purc...   \n",
      "4  Citing review of files from multiple tax haven...   \n",
      "\n",
      "                                             content  \\\n",
      "0  State-owned firm NLC India Ltd (NLCIL) on Mond...   \n",
      "1  SBI Clerk Prelims Exam: The State Bank of Indi...   \n",
      "2  Michelle Yeoh, Will Ferrell, Angela Bassett an...   \n",
      "3  In our review of the OnePlus Nord 3 5G, we pra...   \n",
      "4  Millions of dollars were invested in some publ...   \n",
      "\n",
      "                                                 url       category  \n",
      "0  https://indianexpress.com/article/business/com...       business  \n",
      "1  https://indianexpress.com/article/education/sb...      education  \n",
      "2  https://indianexpress.com/article/entertainmen...  entertainment  \n",
      "3  https://indianexpress.com/article/technology/t...     technology  \n",
      "4  https://indianexpress.com/article/business/ada...       business  \n"
     ]
    }
   ],
=======
   "execution_count": null,
   "id": "fca3a19b-a61a-4dd2-abdf-bd45324bcf1c",
   "metadata": {},
   "outputs": [],
>>>>>>> main
   "source": [
    "categories = train_df.category.unique()\n",
    "print(test_df.head())"
   ]
  },
  {
   "cell_type": "markdown",
   "id": "4da7e3d5",
   "metadata": {},
   "source": [
    "<h3>2.2. Data Preprocessing</h3>"
   ]
  },
  {
   "cell_type": "markdown",
   "id": "566757dc-4f10-4094-9ca1-03c50dace47f",
   "metadata": {},
   "source": [
    "<h4> Preprocessing function that tokenizes, removes stop words and lematizes the text</h4>"
   ]
  },
  {
   "cell_type": "code",
<<<<<<< HEAD
   "execution_count": 23,
=======
   "execution_count": 216,
>>>>>>> main
   "id": "25e4619f-aa90-4e3d-a190-c3a4371c4c81",
   "metadata": {},
   "outputs": [],
   "source": [
    "def preprocess_text(text):\n",
    "    # Tokenize the text\n",
    "    tokens = nltk.word_tokenize(text)\n",
    "\n",
    "    # Remove stopwords\n",
    "    stop_words = set(stopwords.words('english'))\n",
    "    no_stop_words = [word for word in tokens if word.lower() not in stop_words]\n",
    "\n",
    "    # Remove punctuation\n",
    "    no_puntuation = [word for word in no_stop_words if word.isalnum()]\n",
    "\n",
    "    # Lemmatize tokens\n",
    "    lemmatizer = WordNetLemmatizer()\n",
    "    lemmatized_tokens = [lemmatizer.lemmatize(word) for word in no_puntuation]\n",
    "\n",
    "    # Join tokens back into a single string\n",
    "    return ' '.join(lemmatized_tokens)\n"
   ]
  },
  {
   "cell_type": "code",
<<<<<<< HEAD
   "execution_count": 24,
=======
   "execution_count": 218,
>>>>>>> main
   "id": "987db596-a08d-41f2-b7c9-874ca17c3af3",
   "metadata": {},
   "outputs": [],
   "source": [
    "columns_to_process = ['headlines', 'description', 'content'] #We will deal with URLs later\n",
    "\n",
    "for col in columns_to_process:\n",
    "    train_df[col] = train_df[col].apply(preprocess_text)\n",
    "    test_df[col] = test_df[col].apply(preprocess_text)"
   ]
  },
  {
   "cell_type": "code",
<<<<<<< HEAD
   "execution_count": 25,
   "id": "467190dc-5a08-4773-809d-1f568d27107a",
   "metadata": {},
   "outputs": [
    {
     "name": "stdout",
     "output_type": "stream",
     "text": [
      "                                           headlines  \\\n",
      "0           RBI revise definition person KYC purpose   \n",
      "1  NDTV Q2 net profit fall Rs crore impacted lowe...   \n",
      "2  Akasa Air well capitalised grow much faster CE...   \n",
      "3  India current account deficit decline sharply ...   \n",
      "4      States borrowing cost soar highest far fiscal   \n",
      "\n",
      "                                         description  \\\n",
      "0  central bank also asked chairperson chief exec...   \n",
      "1  NDTV consolidated revenue operation Rs crore R...   \n",
      "2  initial share sale open public subscription Ju...   \n",
      "3  current account deficit CAD per cent GDP USD b...   \n",
      "4  price shot reflecting overall higher risk aver...   \n",
      "\n",
      "                                             content  \\\n",
      "0  Reserve Bank India RBI changed definition Pers...   \n",
      "1  Broadcaster New Delhi Television Ltd Monday re...   \n",
      "2  Homegrown server maker Netweb Technologies Ind...   \n",
      "3  India current account deficit declined sharply...   \n",
      "4  States forced pay nose weekly auction debt Tue...   \n",
      "\n",
      "                                                 url  category  \n",
      "0  https://indianexpress.com/article/business/ban...  business  \n",
      "1  https://indianexpress.com/article/business/com...  business  \n",
      "2  https://indianexpress.com/article/business/mar...  business  \n",
      "3  https://indianexpress.com/article/business/eco...  business  \n",
      "4  https://indianexpress.com/article/business/eco...  business  \n",
      "                                           headlines  \\\n",
      "0  NLC India win contract power supply Rajasthan ...   \n",
      "1  SBI Clerk prelim exam date announced admit car...   \n",
      "2  Golden Globes Michelle Yeoh Ferrell Angela Bas...   \n",
      "3               OnePlus Nord 3 Rs part new price cut   \n",
      "4  Adani family partner used opaque fund invest s...   \n",
      "\n",
      "                                         description  \\\n",
      "0  firm NLC India Ltd NLCIL Monday said emerged s...   \n",
      "1  SBI Clerk Prelims Exam SBI Clerk prelim exam 2...   \n",
      "2  Barbie top nominee year followed closely Oppen...   \n",
      "3  New deal make OnePlus Nord 3 easy purchase Rs 30k   \n",
      "4  Citing review file multiple tax haven internal...   \n",
      "\n",
      "                                             content  \\\n",
      "0  firm NLC India Ltd NLCIL Monday said emerged s...   \n",
      "1  SBI Clerk Prelims Exam State Bank Indian SBI a...   \n",
      "2  Michelle Yeoh Ferrell Angela Bassett Amanda Se...   \n",
      "3  review OnePlus Nord 3 5G praised balanced comb...   \n",
      "4  Millions dollar invested publicly traded stock...   \n",
      "\n",
      "                                                 url       category  \n",
      "0  https://indianexpress.com/article/business/com...       business  \n",
      "1  https://indianexpress.com/article/education/sb...      education  \n",
      "2  https://indianexpress.com/article/entertainmen...  entertainment  \n",
      "3  https://indianexpress.com/article/technology/t...     technology  \n",
      "4  https://indianexpress.com/article/business/ada...       business  \n"
     ]
    }
   ],
=======
   "execution_count": null,
   "id": "467190dc-5a08-4773-809d-1f568d27107a",
   "metadata": {},
   "outputs": [],
>>>>>>> main
   "source": [
    "print(train_df.head())\n",
    "print(test_df.head())"
   ]
  },
  {
   "cell_type": "markdown",
   "id": "33ab3499",
<<<<<<< HEAD
   "metadata": {},
=======
   "metadata": {
    "jp-MarkdownHeadingCollapsed": true
   },
>>>>>>> main
   "source": [
    "<h4>2.2.1. Removing stopwords</h4>"
   ]
  },
  {
   "cell_type": "code",
<<<<<<< HEAD
   "execution_count": 27,
   "id": "ba4852fa",
   "metadata": {},
   "outputs": [
    {
     "name": "stdout",
     "output_type": "stream",
     "text": [
      "Train DataFrame (After Removing Stopwords):\n",
      "                                           headlines  \\\n",
      "0                       RBI reve efnn pern KYC purpe   \n",
      "1  NDTV Q2 ne prf fll R crre pce lwer revenue hgh...   \n",
      "2            Ak Ar well cple grw uch fer CEO Vn Dube   \n",
      "3          In curren ccun efc eclne hrpl 1 GDP qurer   \n",
      "4                          Se brrwng c r hghe fr fcl   \n",
      "\n",
      "                                         description  \\\n",
      "0  cenrl bnk l ke chrpern chef execuve bnk fnncl ...   \n",
      "1           NDTV cnle revenue pern R crre R crre per   \n",
      "2  nl hre le pen publc ubcrpn Jul bng nchr nver p...   \n",
      "3     curren ccun efc CAD per cen GDP USD blln qurer   \n",
      "4  prce h reflecng verll hgher rk verene nver rng...   \n",
      "\n",
      "                                             content  \\\n",
      "0  Reerve Bnk In RBI chnge efnn Pern PEP nr ve ke...   \n",
      "1  Brcer New Delh Televn L Mn repre per cen eclne...   \n",
      "2  Hegrwn erver ker Neweb Technlge In Thur  fxe p...   \n",
      "3  In curren ccun efc eclne hrpl 1 per cen GDP US...   \n",
      "4  Se frce p ne weekl ucn eb Tue weghe verge nere...   \n",
      "\n",
      "                                                 url  category  \n",
      "0  https://indianexpress.com/article/business/ban...  business  \n",
      "1  https://indianexpress.com/article/business/com...  business  \n",
      "2  https://indianexpress.com/article/business/mar...  business  \n",
      "3  https://indianexpress.com/article/business/eco...  business  \n",
      "4  https://indianexpress.com/article/business/eco...  business  \n",
      "\n",
      "Test DataFrame (After Removing Stopwords):\n",
      "                                           headlines  \\\n",
      "0             NLC In wn cnrc pwer uppl Rjhn R per un   \n",
      "1          SBI Clerk prel ex e nnunce  cr Deceber 27   \n",
      "2  Glen Glbe Mchelle Yeh Ferrell Angel Be preen w...   \n",
      "3                       OnePlu Nr 3 R pr new prce cu   \n",
      "4                An fl prner ue pque fun nve ck Repr   \n",
      "\n",
      "                                         description  \\\n",
      "0  fr NLC In L NLCIL Mn  eerge ucceful ber uppl p...   \n",
      "1  SBI Clerk Prel Ex SBI Clerk prel ex 2024 envel...   \n",
      "2  Brbe p nnee er fllwe clel Oppenheer fl reflec ...   \n",
      "3               New el ke OnePlu Nr 3 e purche R 30k   \n",
      "4  Cng revew fle ulple x hven nernl An Grup el nn...   \n",
      "\n",
      "                                             content  \\\n",
      "0  fr NLC In L NLCIL Mn  eerge ucceful ber uppl p...   \n",
      "1  SBI Clerk Prel Ex Se Bnk Inn SBI nnunce ex e j...   \n",
      "2  Mchelle Yeh Ferrell Angel Be An Sefre ng preen...   \n",
      "3  revew OnePlu Nr 3 5G pre blnce cbnn feure prce...   \n",
      "4  Mlln llr nvee publcl re ck In An Grup v pque M...   \n",
      "\n",
      "                                                 url       category  \n",
      "0  https://indianexpress.com/article/business/com...       business  \n",
      "1  https://indianexpress.com/article/education/sb...      education  \n",
      "2  https://indianexpress.com/article/entertainmen...  entertainment  \n",
      "3  https://indianexpress.com/article/technology/t...     technology  \n",
      "4  https://indianexpress.com/article/business/ada...       business  \n"
     ]
    }
   ],
=======
   "execution_count": null,
   "id": "ba4852fa",
   "metadata": {},
   "outputs": [],
>>>>>>> main
   "source": [
    "stop_words = set(stopwords.words('english'))\n",
    "\n",
    "columns_to_tokenize = ['headlines', 'description', 'content']\n",
    "\n",
    "def remove_stopwords(tokens):\n",
    "    return ''.join([t for t in tokens if t not in stopwords.words('english')])\n",
    "\n",
    "def remove_stop_words(tokens):    \n",
    "    return [t for t in tokens if t not in stopwords.words('english')]\n",
    "\n",
    "for col in columns_to_tokenize:\n",
    "    train_df[col] = train_df[col].apply(remove_stopwords)\n",
    "    test_df[col] = test_df[col].apply(remove_stopwords)\n",
    "\n",
    "print(\"Train DataFrame (After Removing Stopwords):\")\n",
    "print(train_df.head())\n",
    "\n",
    "print(\"\\nTest DataFrame (After Removing Stopwords):\")\n",
    "print(test_df.head())"
   ]
  },
  {
   "cell_type": "markdown",
   "id": "69d84aa3",
<<<<<<< HEAD
   "metadata": {},
=======
   "metadata": {
    "jp-MarkdownHeadingCollapsed": true
   },
>>>>>>> main
   "source": [
    "<h4>2.2.2. Removing punctuation</h4>"
   ]
  },
  {
   "cell_type": "code",
<<<<<<< HEAD
   "execution_count": 29,
   "id": "956fb95b",
   "metadata": {},
   "outputs": [
    {
     "name": "stdout",
     "output_type": "stream",
     "text": [
      "Train DataFrame:\n",
      "                                           headlines  \\\n",
      "0                       RBI reve efnn pern KYC purpe   \n",
      "1  NDTV Q ne prf fll R crre pce lwer revenue hghe...   \n",
      "2            Ak Ar well cple grw uch fer CEO Vn Dube   \n",
      "3           In curren ccun efc eclne hrpl  GDP qurer   \n",
      "4                          Se brrwng c r hghe fr fcl   \n",
      "\n",
      "                                         description  \\\n",
      "0  cenrl bnk l ke chrpern chef execuve bnk fnncl ...   \n",
      "1           NDTV cnle revenue pern R crre R crre per   \n",
      "2  nl hre le pen publc ubcrpn Jul bng nchr nver p...   \n",
      "3     curren ccun efc CAD per cen GDP USD blln qurer   \n",
      "4  prce h reflecng verll hgher rk verene nver rng...   \n",
      "\n",
      "                                             content  \\\n",
      "0  Reerve Bnk In RBI chnge efnn Pern PEP nr ve ke...   \n",
      "1  Brcer New Delh Televn L Mn repre per cen eclne...   \n",
      "2  Hegrwn erver ker Neweb Technlge In Thur  fxe p...   \n",
      "3  In curren ccun efc eclne hrpl  per cen GDP USD...   \n",
      "4  Se frce p ne weekl ucn eb Tue weghe verge nere...   \n",
      "\n",
      "                                                 url  category  \n",
      "0  https://indianexpress.com/article/business/ban...  business  \n",
      "1  https://indianexpress.com/article/business/com...  business  \n",
      "2  https://indianexpress.com/article/business/mar...  business  \n",
      "3  https://indianexpress.com/article/business/eco...  business  \n",
      "4  https://indianexpress.com/article/business/eco...  business  \n",
      "\n",
      "Test DataFrame:\n",
      "                                           headlines  \\\n",
      "0             NLC In wn cnrc pwer uppl Rjhn R per un   \n",
      "1            SBI Clerk prel ex e nnunce  cr Deceber    \n",
      "2  Glen Glbe Mchelle Yeh Ferrell Angel Be preen w...   \n",
      "3                        OnePlu Nr  R pr new prce cu   \n",
      "4                An fl prner ue pque fun nve ck Repr   \n",
      "\n",
      "                                         description  \\\n",
      "0  fr NLC In L NLCIL Mn  eerge ucceful ber uppl p...   \n",
      "1  SBI Clerk Prel Ex SBI Clerk prel ex 2024 envel...   \n",
      "2  Brbe p nnee er fllwe clel Oppenheer fl reflec ...   \n",
      "3               New el ke OnePlu Nr 3 e purche R 30k   \n",
      "4  Cng revew fle ulple x hven nernl An Grup el nn...   \n",
      "\n",
      "                                             content  \\\n",
      "0  fr NLC In L NLCIL Mn  eerge ucceful ber uppl p...   \n",
      "1  SBI Clerk Prel Ex Se Bnk Inn SBI nnunce ex e j...   \n",
      "2  Mchelle Yeh Ferrell Angel Be An Sefre ng preen...   \n",
      "3  revew OnePlu Nr  G pre blnce cbnn feure prce n...   \n",
      "4  Mlln llr nvee publcl re ck In An Grup v pque M...   \n",
      "\n",
      "                                                 url       category  \n",
      "0  https://indianexpress.com/article/business/com...       business  \n",
      "1  https://indianexpress.com/article/education/sb...      education  \n",
      "2  https://indianexpress.com/article/entertainmen...  entertainment  \n",
      "3  https://indianexpress.com/article/technology/t...     technology  \n",
      "4  https://indianexpress.com/article/business/ada...       business  \n"
     ]
    }
   ],
=======
   "execution_count": null,
   "id": "956fb95b",
   "metadata": {},
   "outputs": [],
>>>>>>> main
   "source": [
    "def remove_punctuation(text):\n",
    "    return re.sub(r'[^a-zA-Z\\s]', '', text)\n",
    "\n",
    "train_df['headlines'] = train_df['headlines'].apply(remove_punctuation)\n",
    "train_df['description'] = train_df['description'].apply(remove_punctuation)\n",
    "train_df['content'] = train_df['content'].apply(remove_punctuation)\n",
    "\n",
    "test_df['headlines'] = test_df['headlines'].apply(remove_punctuation)\n",
    "test_df['content'] = test_df['content'].apply(remove_punctuation)\n",
    "test_df['content'] = test_df['content'].apply(remove_punctuation)\n",
    "\n",
    "print(\"Train DataFrame:\")\n",
    "print(train_df.head())\n",
    "\n",
    "print(\"\\nTest DataFrame:\")\n",
    "print(test_df.head())"
   ]
  },
  {
   "cell_type": "markdown",
   "id": "44093f03",
<<<<<<< HEAD
   "metadata": {},
=======
   "metadata": {
    "jp-MarkdownHeadingCollapsed": true
   },
>>>>>>> main
   "source": [
    "<h4>2.2.3. Lowercase</h4>"
   ]
  },
  {
   "cell_type": "code",
<<<<<<< HEAD
   "execution_count": 31,
   "id": "ad1f3386",
   "metadata": {},
   "outputs": [
    {
     "name": "stdout",
     "output_type": "stream",
     "text": [
      "Train DataFrame:\n",
      "                                           headlines  \\\n",
      "0                       rbi reve efnn pern kyc purpe   \n",
      "1  ndtv q ne prf fll r crre pce lwer revenue hghe...   \n",
      "2            ak ar well cple grw uch fer ceo vn dube   \n",
      "3           in curren ccun efc eclne hrpl  gdp qurer   \n",
      "4                          se brrwng c r hghe fr fcl   \n",
      "\n",
      "                                         description  \\\n",
      "0  cenrl bnk l ke chrpern chef execuve bnk fnncl ...   \n",
      "1           ndtv cnle revenue pern r crre r crre per   \n",
      "2  nl hre le pen publc ubcrpn jul bng nchr nver p...   \n",
      "3     curren ccun efc cad per cen gdp usd blln qurer   \n",
      "4  prce h reflecng verll hgher rk verene nver rng...   \n",
      "\n",
      "                                             content  \\\n",
      "0  reerve bnk in rbi chnge efnn pern pep nr ve ke...   \n",
      "1  brcer new delh televn l mn repre per cen eclne...   \n",
      "2  hegrwn erver ker neweb technlge in thur  fxe p...   \n",
      "3  in curren ccun efc eclne hrpl  per cen gdp usd...   \n",
      "4  se frce p ne weekl ucn eb tue weghe verge nere...   \n",
      "\n",
      "                                                 url  category  \n",
      "0  https://indianexpress.com/article/business/ban...  business  \n",
      "1  https://indianexpress.com/article/business/com...  business  \n",
      "2  https://indianexpress.com/article/business/mar...  business  \n",
      "3  https://indianexpress.com/article/business/eco...  business  \n",
      "4  https://indianexpress.com/article/business/eco...  business  \n",
      "\n",
      "Test DataFrame:\n",
      "                                           headlines  \\\n",
      "0             nlc in wn cnrc pwer uppl rjhn r per un   \n",
      "1            sbi clerk prel ex e nnunce  cr deceber    \n",
      "2  glen glbe mchelle yeh ferrell angel be preen w...   \n",
      "3                        oneplu nr  r pr new prce cu   \n",
      "4                an fl prner ue pque fun nve ck repr   \n",
      "\n",
      "                                         description  \\\n",
      "0  fr nlc in l nlcil mn  eerge ucceful ber uppl p...   \n",
      "1  sbi clerk prel ex sbi clerk prel ex 2024 envel...   \n",
      "2  brbe p nnee er fllwe clel oppenheer fl reflec ...   \n",
      "3               new el ke oneplu nr 3 e purche r 30k   \n",
      "4  cng revew fle ulple x hven nernl an grup el nn...   \n",
      "\n",
      "                                             content  \\\n",
      "0  fr nlc in l nlcil mn  eerge ucceful ber uppl p...   \n",
      "1  sbi clerk prel ex se bnk inn sbi nnunce ex e j...   \n",
      "2  mchelle yeh ferrell angel be an sefre ng preen...   \n",
      "3  revew oneplu nr  g pre blnce cbnn feure prce n...   \n",
      "4  mlln llr nvee publcl re ck in an grup v pque m...   \n",
      "\n",
      "                                                 url       category  \n",
      "0  https://indianexpress.com/article/business/com...       business  \n",
      "1  https://indianexpress.com/article/education/sb...      education  \n",
      "2  https://indianexpress.com/article/entertainmen...  entertainment  \n",
      "3  https://indianexpress.com/article/technology/t...     technology  \n",
      "4  https://indianexpress.com/article/business/ada...       business  \n"
     ]
    }
   ],
=======
   "execution_count": null,
   "id": "ad1f3386",
   "metadata": {},
   "outputs": [],
>>>>>>> main
   "source": [
    "columns_to_lowercase = ['headlines', 'description', 'content']\n",
    "\n",
    "for col in columns_to_lowercase:\n",
    "    train_df[col] = train_df[col].str.lower()\n",
    "    test_df[col] = test_df[col].str.lower()\n",
    "\n",
    "print(\"Train DataFrame:\")\n",
    "print(train_df.head())\n",
    "print(\"\\nTest DataFrame:\")\n",
    "\n",
    "print(test_df.head())"
   ]
  },
  {
   "cell_type": "markdown",
   "id": "57a4780e-e273-4939-a559-5cf43f398309",
   "metadata": {},
   "source": [
    "<h4>2.2.4. Handling URLs</h4>"
   ]
  },
  {
   "cell_type": "markdown",
   "id": "b74abde7-4878-4a77-b9e6-86d818d6c961",
   "metadata": {},
   "source": [
    "Some URLs tend to have the category of the article in them while some don't the following code will be used to extract that URL in the case that the category is there, and leave \"uncategorised\" if there is no category "
   ]
  },
  {
   "cell_type": "code",
<<<<<<< HEAD
   "execution_count": 34,
=======
   "execution_count": 437,
>>>>>>> main
   "id": "f4b46f7a-02e1-4686-92fb-2b3a82c28eee",
   "metadata": {},
   "outputs": [],
   "source": [
    "# Getting the categories from our data frames\n",
    "train_categories_df = pd.DataFrame({'category': train_df.category.unique()})\n",
    "\n",
    "# Converting the category column to a set for faster lookup\n",
    "predefined_categories = set(train_categories_df['category'].str.lower())\n"
   ]
  },
  {
   "cell_type": "code",
<<<<<<< HEAD
   "execution_count": 35,
=======
   "execution_count": 225,
>>>>>>> main
   "id": "e53ce5c4-abba-413e-8d59-50b9584fa570",
   "metadata": {},
   "outputs": [],
   "source": [
    "def extract_category(url):\n",
    "    \n",
    "    # Parsing the URL to extract the path\n",
    "    parsed_url = urlparse(url)\n",
    "    path = parsed_url.path.strip('/')\n",
    "\n",
    "    # Splitting the path into segments\n",
    "    path_segments = path.split('/')\n",
    "\n",
    "    # Defining a default category in case there is no clear category found within the URL\n",
    "    default_category = 'uncategorized'\n",
    "\n",
    "    # Checking if the URL contains the word 'article' and extracting the category \n",
    "    if 'article' in path_segments:\n",
    "        \n",
    "        # Finding the position of 'article' and assume the next segment is the category\n",
    "        #This is for the URLs that have the category directly after the '/article/' in the URL\n",
    "        index = path_segments.index('article')\n",
    "        if index + 1 < len(path_segments):\n",
    "            category = path_segments[index + 1].lower()\n",
    "            if category in predefined_categories:\n",
    "                return category\n",
    "    \n",
    "    # Check for cases where the category is not directly after 'article', or if 'article' is missing\n",
    "    for segment in path_segments:\n",
    "        # Match alphanumeric categories and check against predefined categories\n",
    "        category = segment.lower()\n",
    "        if re.match(r'^[a-zA-Z\\-]+$', category) and category in predefined_categories:\n",
    "            return category\n",
    "\n",
    "    # Return the default category if no category is found\n",
    "    return default_category"
   ]
  },
  {
   "cell_type": "code",
<<<<<<< HEAD
   "execution_count": 36,
   "id": "d16645ee-8be9-40f6-8f90-f26e5b66db23",
   "metadata": {},
   "outputs": [
    {
     "data": {
      "text/html": [
       "<div>\n",
       "<style scoped>\n",
       "    .dataframe tbody tr th:only-of-type {\n",
       "        vertical-align: middle;\n",
       "    }\n",
       "\n",
       "    .dataframe tbody tr th {\n",
       "        vertical-align: top;\n",
       "    }\n",
       "\n",
       "    .dataframe thead th {\n",
       "        text-align: right;\n",
       "    }\n",
       "</style>\n",
       "<table border=\"1\" class=\"dataframe\">\n",
       "  <thead>\n",
       "    <tr style=\"text-align: right;\">\n",
       "      <th></th>\n",
       "      <th>headlines</th>\n",
       "      <th>description</th>\n",
       "      <th>content</th>\n",
       "      <th>category</th>\n",
       "    </tr>\n",
       "  </thead>\n",
       "  <tbody>\n",
       "    <tr>\n",
       "      <th>0</th>\n",
       "      <td>rbi reve efnn pern kyc purpe</td>\n",
       "      <td>cenrl bnk l ke chrpern chef execuve bnk fnncl ...</td>\n",
       "      <td>reerve bnk in rbi chnge efnn pern pep nr ve ke...</td>\n",
       "      <td>business</td>\n",
       "    </tr>\n",
       "    <tr>\n",
       "      <th>1</th>\n",
       "      <td>ndtv q ne prf fll r crre pce lwer revenue hghe...</td>\n",
       "      <td>ndtv cnle revenue pern r crre r crre per</td>\n",
       "      <td>brcer new delh televn l mn repre per cen eclne...</td>\n",
       "      <td>business</td>\n",
       "    </tr>\n",
       "    <tr>\n",
       "      <th>2</th>\n",
       "      <td>ak ar well cple grw uch fer ceo vn dube</td>\n",
       "      <td>nl hre le pen publc ubcrpn jul bng nchr nver p...</td>\n",
       "      <td>hegrwn erver ker neweb technlge in thur  fxe p...</td>\n",
       "      <td>business</td>\n",
       "    </tr>\n",
       "    <tr>\n",
       "      <th>3</th>\n",
       "      <td>in curren ccun efc eclne hrpl  gdp qurer</td>\n",
       "      <td>curren ccun efc cad per cen gdp usd blln qurer</td>\n",
       "      <td>in curren ccun efc eclne hrpl  per cen gdp usd...</td>\n",
       "      <td>business</td>\n",
       "    </tr>\n",
       "    <tr>\n",
       "      <th>4</th>\n",
       "      <td>se brrwng c r hghe fr fcl</td>\n",
       "      <td>prce h reflecng verll hgher rk verene nver rng...</td>\n",
       "      <td>se frce p ne weekl ucn eb tue weghe verge nere...</td>\n",
       "      <td>business</td>\n",
       "    </tr>\n",
       "  </tbody>\n",
       "</table>\n",
       "</div>"
      ],
      "text/plain": [
       "                                           headlines  \\\n",
       "0                       rbi reve efnn pern kyc purpe   \n",
       "1  ndtv q ne prf fll r crre pce lwer revenue hghe...   \n",
       "2            ak ar well cple grw uch fer ceo vn dube   \n",
       "3           in curren ccun efc eclne hrpl  gdp qurer   \n",
       "4                          se brrwng c r hghe fr fcl   \n",
       "\n",
       "                                         description  \\\n",
       "0  cenrl bnk l ke chrpern chef execuve bnk fnncl ...   \n",
       "1           ndtv cnle revenue pern r crre r crre per   \n",
       "2  nl hre le pen publc ubcrpn jul bng nchr nver p...   \n",
       "3     curren ccun efc cad per cen gdp usd blln qurer   \n",
       "4  prce h reflecng verll hgher rk verene nver rng...   \n",
       "\n",
       "                                             content  category  \n",
       "0  reerve bnk in rbi chnge efnn pern pep nr ve ke...  business  \n",
       "1  brcer new delh televn l mn repre per cen eclne...  business  \n",
       "2  hegrwn erver ker neweb technlge in thur  fxe p...  business  \n",
       "3  in curren ccun efc eclne hrpl  per cen gdp usd...  business  \n",
       "4  se frce p ne weekl ucn eb tue weghe verge nere...  business  "
      ]
     },
     "execution_count": 36,
     "metadata": {},
     "output_type": "execute_result"
    }
   ],
=======
   "execution_count": null,
   "id": "d16645ee-8be9-40f6-8f90-f26e5b66db23",
   "metadata": {},
   "outputs": [],
>>>>>>> main
   "source": [
    "train_df['url'] = train_df['url'].apply(extract_category)\n",
    "test_df['url'] = test_df['url'].apply(extract_category)\n",
    "\n",
    "#The URL columns may not always reliably provide information on the category, so we drop the column\n",
    "train_df = train_df.drop(columns='url', axis=1)\n",
    "test_df = test_df.drop(columns='url', axis=1)\n",
    "\n",
    "train_df.head()"
   ]
  },
  {
   "cell_type": "markdown",
   "id": "9b798b12",
<<<<<<< HEAD
   "metadata": {},
=======
   "metadata": {
    "jp-MarkdownHeadingCollapsed": true
   },
>>>>>>> main
   "source": [
    "<h4>2.2.4. Tokenisation</h4>"
   ]
  },
  {
   "cell_type": "code",
<<<<<<< HEAD
   "execution_count": 72,
   "id": "2febe50b",
   "metadata": {},
   "outputs": [
    {
     "name": "stdout",
     "output_type": "stream",
     "text": [
      "                                           headlines  \\\n",
      "0                [rbi, reve, efnn, pern, kyc, purpe]   \n",
      "1  [ndtv, q, ne, prf, fll, r, crre, pce, lwer, re...   \n",
      "2  [ak, ar, well, cple, grw, uch, fer, ceo, vn, d...   \n",
      "3   [in, curren, ccun, efc, eclne, hrpl, gdp, qurer]   \n",
      "4                  [se, brrwng, c, r, hghe, fr, fcl]   \n",
      "\n",
      "                                         description  \\\n",
      "0  [cenrl, bnk, l, ke, chrpern, chef, execuve, bn...   \n",
      "1  [ndtv, cnle, revenue, pern, r, crre, r, crre, ...   \n",
      "2  [nl, hre, le, pen, publc, ubcrpn, jul, bng, nc...   \n",
      "3  [curren, ccun, efc, cad, per, cen, gdp, usd, b...   \n",
      "4  [prce, h, reflecng, verll, hgher, rk, verene, ...   \n",
      "\n",
      "                                             content  category  \n",
      "0  [reerve, bnk, in, rbi, chnge, efnn, pern, pep,...  business  \n",
      "1  [brcer, new, delh, televn, l, mn, repre, per, ...  business  \n",
      "2  [hegrwn, erver, ker, neweb, technlge, in, thur...  business  \n",
      "3  [in, curren, ccun, efc, eclne, hrpl, per, cen,...  business  \n",
      "4  [se, frce, p, ne, weekl, ucn, eb, tue, weghe, ...  business  \n",
      "                                           headlines  \\\n",
      "0  [nlc, in, wn, cnrc, pwer, uppl, rjhn, r, per, un]   \n",
      "1     [sbi, clerk, prel, ex, e, nnunce, cr, deceber]   \n",
      "2  [glen, glbe, mchelle, yeh, ferrell, angel, be,...   \n",
      "3                 [oneplu, nr, r, pr, new, prce, cu]   \n",
      "4      [an, fl, prner, ue, pque, fun, nve, ck, repr]   \n",
      "\n",
      "                                         description  \\\n",
      "0  [fr, nlc, in, l, nlcil, mn, eerge, ucceful, be...   \n",
      "1  [sbi, clerk, prel, ex, sbi, clerk, prel, ex, 2...   \n",
      "2  [brbe, p, nnee, er, fllwe, clel, oppenheer, fl...   \n",
      "3    [new, el, ke, oneplu, nr, 3, e, purche, r, 30k]   \n",
      "4  [cng, revew, fle, ulple, x, hven, nernl, an, g...   \n",
      "\n",
      "                                             content       category  \n",
      "0  [fr, nlc, in, l, nlcil, mn, eerge, ucceful, be...       business  \n",
      "1  [sbi, clerk, prel, ex, se, bnk, inn, sbi, nnun...      education  \n",
      "2  [mchelle, yeh, ferrell, angel, be, an, sefre, ...  entertainment  \n",
      "3  [revew, oneplu, nr, g, pre, blnce, cbnn, feure...     technology  \n",
      "4  [mlln, llr, nvee, publcl, re, ck, in, an, grup...       business  \n"
     ]
    }
   ],
   "source": [
    "tokenizer = TreebankWordTokenizer()\n",
    "\n",
    "# Tokenize both training and testing data\n",
    "for col in columns_to_tokenize:\n",
    "    # Tokenize train data\n",
    "    train_df[col] = train_df[col].apply(lambda x: \" \".join(x) if isinstance(x, list) else str(x))\n",
    "    train_df[col] = train_df[col].apply(tokenizer.tokenize)\n",
    "    \n",
    "    # Tokenize test data (Ensure to do the same transformation)\n",
    "    test_df[col] = test_df[col].apply(lambda x: \" \".join(x) if isinstance(x, list) else str(x))\n",
    "    test_df[col] = test_df[col].apply(tokenizer.tokenize)\n",
    "\n",
=======
   "execution_count": null,
   "id": "2febe50b",
   "metadata": {},
   "outputs": [],
   "source": [
    "columns_to_tokenize = ['headlines', 'description', 'content', 'url']\n",
    "tokenizer = tokeniser = TreebankWordTokenizer()\n",
    "\n",
    "for col in columns_to_tokenize:\n",
    "    train_df[col] = train_df[col].apply(tokenizer.tokenize)\n",
    "    test_df[col] = test_df[col].apply(word_tokenize)\n",
    "    \n",
>>>>>>> main
    "print(train_df.head())\n",
    "print(test_df.head())"
   ]
  },
  {
   "cell_type": "markdown",
   "id": "9f7bbd6f",
<<<<<<< HEAD
   "metadata": {},
=======
   "metadata": {
    "jp-MarkdownHeadingCollapsed": true
   },
>>>>>>> main
   "source": [
    "<h4>2.2.6. Lemmatization</h4>"
   ]
  },
  {
   "cell_type": "code",
<<<<<<< HEAD
   "execution_count": 74,
   "id": "96408440",
   "metadata": {},
   "outputs": [
    {
     "name": "stdout",
     "output_type": "stream",
     "text": [
      "Train DataFrame (After Lemmatization):\n",
      "                                           headlines  \\\n",
      "0                [rbi, reve, efnn, pern, kyc, purpe]   \n",
      "1  [ndtv, q, ne, prf, fll, r, crre, pce, lwer, re...   \n",
      "2  [ak, ar, well, cple, grw, uch, fer, ceo, vn, d...   \n",
      "3   [in, curren, ccun, efc, eclne, hrpl, gdp, qurer]   \n",
      "4                  [se, brrwng, c, r, hghe, fr, fcl]   \n",
      "\n",
      "                                         description  \\\n",
      "0  [cenrl, bnk, l, ke, chrpern, chef, execuve, bn...   \n",
      "1  [ndtv, cnle, revenue, pern, r, crre, r, crre, ...   \n",
      "2  [nl, hre, le, pen, publc, ubcrpn, jul, bng, nc...   \n",
      "3  [curren, ccun, efc, cad, per, cen, gdp, usd, b...   \n",
      "4  [prce, h, reflecng, verll, hgher, rk, verene, ...   \n",
      "\n",
      "                                             content  category  \n",
      "0  [reerve, bnk, in, rbi, chnge, efnn, pern, pep,...  business  \n",
      "1  [brcer, new, delh, televn, l, mn, repre, per, ...  business  \n",
      "2  [hegrwn, erver, ker, neweb, technlge, in, thur...  business  \n",
      "3  [in, curren, ccun, efc, eclne, hrpl, per, cen,...  business  \n",
      "4  [se, frce, p, ne, weekl, ucn, eb, tue, weghe, ...  business  \n",
      "\n",
      "Test DataFrame (After Lemmatization):\n",
      "                                           headlines  \\\n",
      "0  [nlc, in, wn, cnrc, pwer, uppl, rjhn, r, per, un]   \n",
      "1     [sbi, clerk, prel, ex, e, nnunce, cr, deceber]   \n",
      "2  [glen, glbe, mchelle, yeh, ferrell, angel, be,...   \n",
      "3                 [oneplu, nr, r, pr, new, prce, cu]   \n",
      "4      [an, fl, prner, ue, pque, fun, nve, ck, repr]   \n",
      "\n",
      "                                         description  \\\n",
      "0  [fr, nlc, in, l, nlcil, mn, eerge, ucceful, be...   \n",
      "1  [sbi, clerk, prel, ex, sbi, clerk, prel, ex, 2...   \n",
      "2  [brbe, p, nnee, er, fllwe, clel, oppenheer, fl...   \n",
      "3    [new, el, ke, oneplu, nr, 3, e, purche, r, 30k]   \n",
      "4  [cng, revew, fle, ulple, x, hven, nernl, an, g...   \n",
      "\n",
      "                                             content       category  \n",
      "0  [fr, nlc, in, l, nlcil, mn, eerge, ucceful, be...       business  \n",
      "1  [sbi, clerk, prel, ex, se, bnk, inn, sbi, nnun...      education  \n",
      "2  [mchelle, yeh, ferrell, angel, be, an, sefre, ...  entertainment  \n",
      "3  [revew, oneplu, nr, g, pre, blnce, cbnn, feure...     technology  \n",
      "4  [mlln, llr, nvee, publcl, re, ck, in, an, grup...       business  \n"
     ]
    }
   ],
=======
   "execution_count": null,
   "id": "96408440",
   "metadata": {},
   "outputs": [],
>>>>>>> main
   "source": [
    "lemmatizer = WordNetLemmatizer()\n",
    "\n",
    "columns_to_process = ['headlines', 'description', 'content']\n",
    "\n",
    "def lemmatize_tokens(tokens):\n",
    "    return [lemmatizer.lemmatize(word) for word in tokens]\n",
    "\n",
    "for col in columns_to_process:\n",
    "  \n",
    "    train_df[col] = train_df[col].apply(lemmatize_tokens)\n",
    "    test_df[col] = test_df[col].apply(lemmatize_tokens)\n",
    "\n",
    "print(\"Train DataFrame (After Lemmatization):\")\n",
    "print(train_df.head())\n",
    "\n",
    "print(\"\\nTest DataFrame (After Lemmatization):\")\n",
    "print(test_df.head())\n",
    "#choosing this lemmatization "
   ]
  },
  {
   "cell_type": "code",
<<<<<<< HEAD
   "execution_count": 76,
=======
   "execution_count": null,
>>>>>>> main
   "id": "24f0832b",
   "metadata": {},
   "outputs": [],
   "source": [
    "new_train_df = train_df\n",
    "new_test_df = test_df"
   ]
  },
  {
   "cell_type": "code",
<<<<<<< HEAD
   "execution_count": 78,
   "id": "184c55e2",
   "metadata": {},
   "outputs": [
    {
     "data": {
      "text/html": [
       "<div>\n",
       "<style scoped>\n",
       "    .dataframe tbody tr th:only-of-type {\n",
       "        vertical-align: middle;\n",
       "    }\n",
       "\n",
       "    .dataframe tbody tr th {\n",
       "        vertical-align: top;\n",
       "    }\n",
       "\n",
       "    .dataframe thead th {\n",
       "        text-align: right;\n",
       "    }\n",
       "</style>\n",
       "<table border=\"1\" class=\"dataframe\">\n",
       "  <thead>\n",
       "    <tr style=\"text-align: right;\">\n",
       "      <th></th>\n",
       "      <th>headlines</th>\n",
       "      <th>description</th>\n",
       "      <th>content</th>\n",
       "      <th>category</th>\n",
       "    </tr>\n",
       "  </thead>\n",
       "  <tbody>\n",
       "    <tr>\n",
       "      <th>0</th>\n",
       "      <td>[rbi, reve, efnn, pern, kyc, purpe]</td>\n",
       "      <td>[cenrl, bnk, l, ke, chrpern, chef, execuve, bn...</td>\n",
       "      <td>[reerve, bnk, in, rbi, chnge, efnn, pern, pep,...</td>\n",
       "      <td>business</td>\n",
       "    </tr>\n",
       "    <tr>\n",
       "      <th>1</th>\n",
       "      <td>[ndtv, q, ne, prf, fll, r, crre, pce, lwer, re...</td>\n",
       "      <td>[ndtv, cnle, revenue, pern, r, crre, r, crre, ...</td>\n",
       "      <td>[brcer, new, delh, televn, l, mn, repre, per, ...</td>\n",
       "      <td>business</td>\n",
       "    </tr>\n",
       "    <tr>\n",
       "      <th>2</th>\n",
       "      <td>[ak, ar, well, cple, grw, uch, fer, ceo, vn, d...</td>\n",
       "      <td>[nl, hre, le, pen, publc, ubcrpn, jul, bng, nc...</td>\n",
       "      <td>[hegrwn, erver, ker, neweb, technlge, in, thur...</td>\n",
       "      <td>business</td>\n",
       "    </tr>\n",
       "    <tr>\n",
       "      <th>3</th>\n",
       "      <td>[in, curren, ccun, efc, eclne, hrpl, gdp, qurer]</td>\n",
       "      <td>[curren, ccun, efc, cad, per, cen, gdp, usd, b...</td>\n",
       "      <td>[in, curren, ccun, efc, eclne, hrpl, per, cen,...</td>\n",
       "      <td>business</td>\n",
       "    </tr>\n",
       "    <tr>\n",
       "      <th>4</th>\n",
       "      <td>[se, brrwng, c, r, hghe, fr, fcl]</td>\n",
       "      <td>[prce, h, reflecng, verll, hgher, rk, verene, ...</td>\n",
       "      <td>[se, frce, p, ne, weekl, ucn, eb, tue, weghe, ...</td>\n",
       "      <td>business</td>\n",
       "    </tr>\n",
       "  </tbody>\n",
       "</table>\n",
       "</div>"
      ],
      "text/plain": [
       "                                           headlines  \\\n",
       "0                [rbi, reve, efnn, pern, kyc, purpe]   \n",
       "1  [ndtv, q, ne, prf, fll, r, crre, pce, lwer, re...   \n",
       "2  [ak, ar, well, cple, grw, uch, fer, ceo, vn, d...   \n",
       "3   [in, curren, ccun, efc, eclne, hrpl, gdp, qurer]   \n",
       "4                  [se, brrwng, c, r, hghe, fr, fcl]   \n",
       "\n",
       "                                         description  \\\n",
       "0  [cenrl, bnk, l, ke, chrpern, chef, execuve, bn...   \n",
       "1  [ndtv, cnle, revenue, pern, r, crre, r, crre, ...   \n",
       "2  [nl, hre, le, pen, publc, ubcrpn, jul, bng, nc...   \n",
       "3  [curren, ccun, efc, cad, per, cen, gdp, usd, b...   \n",
       "4  [prce, h, reflecng, verll, hgher, rk, verene, ...   \n",
       "\n",
       "                                             content  category  \n",
       "0  [reerve, bnk, in, rbi, chnge, efnn, pern, pep,...  business  \n",
       "1  [brcer, new, delh, televn, l, mn, repre, per, ...  business  \n",
       "2  [hegrwn, erver, ker, neweb, technlge, in, thur...  business  \n",
       "3  [in, curren, ccun, efc, eclne, hrpl, per, cen,...  business  \n",
       "4  [se, frce, p, ne, weekl, ucn, eb, tue, weghe, ...  business  "
      ]
     },
     "execution_count": 78,
     "metadata": {},
     "output_type": "execute_result"
    }
   ],
=======
   "execution_count": null,
   "id": "184c55e2",
   "metadata": {},
   "outputs": [],
>>>>>>> main
   "source": [
    "new_train_df.head(5)"
   ]
  },
  {
   "cell_type": "code",
<<<<<<< HEAD
   "execution_count": 80,
   "id": "c994ca99",
   "metadata": {},
   "outputs": [
    {
     "data": {
      "text/html": [
       "<div>\n",
       "<style scoped>\n",
       "    .dataframe tbody tr th:only-of-type {\n",
       "        vertical-align: middle;\n",
       "    }\n",
       "\n",
       "    .dataframe tbody tr th {\n",
       "        vertical-align: top;\n",
       "    }\n",
       "\n",
       "    .dataframe thead th {\n",
       "        text-align: right;\n",
       "    }\n",
       "</style>\n",
       "<table border=\"1\" class=\"dataframe\">\n",
       "  <thead>\n",
       "    <tr style=\"text-align: right;\">\n",
       "      <th></th>\n",
       "      <th>headlines</th>\n",
       "      <th>description</th>\n",
       "      <th>content</th>\n",
       "      <th>category</th>\n",
       "    </tr>\n",
       "  </thead>\n",
       "  <tbody>\n",
       "    <tr>\n",
       "      <th>0</th>\n",
       "      <td>[nlc, in, wn, cnrc, pwer, uppl, rjhn, r, per, un]</td>\n",
       "      <td>[fr, nlc, in, l, nlcil, mn, eerge, ucceful, be...</td>\n",
       "      <td>[fr, nlc, in, l, nlcil, mn, eerge, ucceful, be...</td>\n",
       "      <td>business</td>\n",
       "    </tr>\n",
       "    <tr>\n",
       "      <th>1</th>\n",
       "      <td>[sbi, clerk, prel, ex, e, nnunce, cr, deceber]</td>\n",
       "      <td>[sbi, clerk, prel, ex, sbi, clerk, prel, ex, 2...</td>\n",
       "      <td>[sbi, clerk, prel, ex, se, bnk, inn, sbi, nnun...</td>\n",
       "      <td>education</td>\n",
       "    </tr>\n",
       "    <tr>\n",
       "      <th>2</th>\n",
       "      <td>[glen, glbe, mchelle, yeh, ferrell, angel, be,...</td>\n",
       "      <td>[brbe, p, nnee, er, fllwe, clel, oppenheer, fl...</td>\n",
       "      <td>[mchelle, yeh, ferrell, angel, be, an, sefre, ...</td>\n",
       "      <td>entertainment</td>\n",
       "    </tr>\n",
       "    <tr>\n",
       "      <th>3</th>\n",
       "      <td>[oneplu, nr, r, pr, new, prce, cu]</td>\n",
       "      <td>[new, el, ke, oneplu, nr, 3, e, purche, r, 30k]</td>\n",
       "      <td>[revew, oneplu, nr, g, pre, blnce, cbnn, feure...</td>\n",
       "      <td>technology</td>\n",
       "    </tr>\n",
       "    <tr>\n",
       "      <th>4</th>\n",
       "      <td>[an, fl, prner, ue, pque, fun, nve, ck, repr]</td>\n",
       "      <td>[cng, revew, fle, ulple, x, hven, nernl, an, g...</td>\n",
       "      <td>[mlln, llr, nvee, publcl, re, ck, in, an, grup...</td>\n",
       "      <td>business</td>\n",
       "    </tr>\n",
       "  </tbody>\n",
       "</table>\n",
       "</div>"
      ],
      "text/plain": [
       "                                           headlines  \\\n",
       "0  [nlc, in, wn, cnrc, pwer, uppl, rjhn, r, per, un]   \n",
       "1     [sbi, clerk, prel, ex, e, nnunce, cr, deceber]   \n",
       "2  [glen, glbe, mchelle, yeh, ferrell, angel, be,...   \n",
       "3                 [oneplu, nr, r, pr, new, prce, cu]   \n",
       "4      [an, fl, prner, ue, pque, fun, nve, ck, repr]   \n",
       "\n",
       "                                         description  \\\n",
       "0  [fr, nlc, in, l, nlcil, mn, eerge, ucceful, be...   \n",
       "1  [sbi, clerk, prel, ex, sbi, clerk, prel, ex, 2...   \n",
       "2  [brbe, p, nnee, er, fllwe, clel, oppenheer, fl...   \n",
       "3    [new, el, ke, oneplu, nr, 3, e, purche, r, 30k]   \n",
       "4  [cng, revew, fle, ulple, x, hven, nernl, an, g...   \n",
       "\n",
       "                                             content       category  \n",
       "0  [fr, nlc, in, l, nlcil, mn, eerge, ucceful, be...       business  \n",
       "1  [sbi, clerk, prel, ex, se, bnk, inn, sbi, nnun...      education  \n",
       "2  [mchelle, yeh, ferrell, angel, be, an, sefre, ...  entertainment  \n",
       "3  [revew, oneplu, nr, g, pre, blnce, cbnn, feure...     technology  \n",
       "4  [mlln, llr, nvee, publcl, re, ck, in, an, grup...       business  "
      ]
     },
     "execution_count": 80,
     "metadata": {},
     "output_type": "execute_result"
    }
   ],
=======
   "execution_count": null,
   "id": "c994ca99",
   "metadata": {},
   "outputs": [],
>>>>>>> main
   "source": [
    "new_test_df.head(5)"
   ]
  },
  {
<<<<<<< HEAD
=======
   "cell_type": "code",
   "execution_count": null,
   "id": "03694a84",
   "metadata": {},
   "outputs": [],
   "source": []
  },
  {
>>>>>>> main
   "cell_type": "markdown",
   "id": "2326a3aa-7158-44d5-bb16-b6bc7931b8d8",
   "metadata": {},
   "source": [
    "<h4> Vectorizing</h4>"
   ]
  },
  {
   "cell_type": "markdown",
   "id": "1f068c64-a69e-474f-bec2-6cff28a3b0cd",
   "metadata": {},
   "source": [
    "Before performing the train test split, we will use a TF-IDF vectorizer to draw out important words that may help in predicting the category of an article"
   ]
  },
  {
   "cell_type": "code",
<<<<<<< HEAD
   "execution_count": 88,
   "id": "4e8e342d-e360-4615-b284-0151c431bb25",
   "metadata": {},
   "outputs": [
    {
     "name": "stdout",
     "output_type": "stream",
     "text": [
      "        ac  accrng  acr  advertisement  aercn  afrc  agenc  ahwn   ai  \\\n",
      "0  0.09007     0.0  0.0       0.042255    0.0   0.0    0.0   0.0  0.0   \n",
      "1  0.00000     0.0  0.0       0.055117    0.0   0.0    0.0   0.0  0.0   \n",
      "2  0.00000     0.0  0.0       0.107160    0.0   0.0    0.0   0.0  0.0   \n",
      "3  0.00000     0.0  0.0       0.046237    0.0   0.0    0.0   0.0  0.0   \n",
      "4  0.00000     0.0  0.0       0.048052    0.0   0.0    0.0   0.0  0.0   \n",
      "\n",
      "         al  ...  wrk  wrke     wrkng  wrl  wrlwe  wrng  wul  yutube  \\\n",
      "0  0.000000  ...  0.0   0.0  0.000000  0.0    0.0   0.0  0.0     0.0   \n",
      "1  0.000000  ...  0.0   0.0  0.000000  0.0    0.0   0.0  0.0     0.0   \n",
      "2  0.037882  ...  0.0   0.0  0.057403  0.0    0.0   0.0  0.0     0.0   \n",
      "3  0.000000  ...  0.0   0.0  0.000000  0.0    0.0   0.0  0.0     0.0   \n",
      "4  0.000000  ...  0.0   0.0  0.000000  0.0    0.0   0.0  0.0     0.0   \n",
      "\n",
      "         ze  zeln  \n",
      "0  0.000000   0.0  \n",
      "1  0.000000   0.0  \n",
      "2  0.073154   0.0  \n",
      "3  0.000000   0.0  \n",
      "4  0.000000   0.0  \n",
      "\n",
      "[5 rows x 1000 columns]\n"
     ]
    }
   ],
   "source": [
    "# Ensure the content is a string (join tokens if it's a list)\n",
    "train_df['content'] = train_df['content'].apply(lambda x: ' '.join(x) if isinstance(x, list) else str(x))\n",
    "test_df['content'] = test_df['content'].apply(lambda x: ' '.join(x) if isinstance(x, list) else str(x))\n",
    "\n",
    "# Apply TF-IDF Vectorizer\n",
    "tfidf = TfidfVectorizer(max_features=1000)  # Limit to 1000 features for efficiency\n",
    "tfidf_matrix_train = tfidf.fit_transform(train_df['content'])\n",
    "tfidf_matrix_test = tfidf.transform(test_df['content'])\n",
    "\n",
    "# Convert TF-IDF matrices to DataFrames\n",
    "tfidf_df_train = pd.DataFrame(tfidf_matrix_train.toarray(), columns=tfidf.get_feature_names_out())\n",
    "tfidf_df_test = pd.DataFrame(tfidf_matrix_test.toarray(), columns=tfidf.get_feature_names_out())\n",
    "\n",
    "# Reset the index for both DataFrames\n",
    "tfidf_df_train = tfidf_df_train.reset_index(drop=True)\n",
    "tfidf_df_test = tfidf_df_test.reset_index(drop=True)\n",
    "\n",
    "# Optional: Reset index for the original DataFrames if needed\n",
    "train_df = train_df.reset_index(drop=True)\n",
    "test_df = test_df.reset_index(drop=True)\n",
    "\n",
    "print(tfidf_df_train.head())  # Check the first few rows of the transformed train data"
=======
   "execution_count": 233,
   "id": "4e8e342d-e360-4615-b284-0151c431bb25",
   "metadata": {},
   "outputs": [],
   "source": [
    "# Initialize TF-IDF Vectorizer\n",
    "tfidf = TfidfVectorizer(max_features=1000)  # Limit to 1000 features for efficiency\n",
    "\n",
    "# Fit and transform the 'content' column\n",
    "tfidf_matrix_train = tfidf.fit_transform(train_df['content'])\n",
    "tfidf_matrix_test = tfidf.transform(test_df['content'])\n",
    "\n",
    "# Convert TF-IDF matrix to a DataFrame\n",
    "tfidf_df_train = pd.DataFrame(tfidf_matrix_train.toarray(), columns=tfidf.get_feature_names_out())\n",
    "tfidf_df_test = pd.DataFrame(tfidf_matrix_test.toarray(), columns=tfidf.get_feature_names_out()) "
>>>>>>> main
   ]
  },
  {
   "cell_type": "code",
<<<<<<< HEAD
   "execution_count": 92,
   "id": "fb238553-8fc2-48e2-b064-090f51eb094d",
   "metadata": {},
   "outputs": [
    {
     "name": "stdout",
     "output_type": "stream",
     "text": [
      "                                           headlines  \\\n",
      "0                [rbi, reve, efnn, pern, kyc, purpe]   \n",
      "1  [ndtv, q, ne, prf, fll, r, crre, pce, lwer, re...   \n",
      "2  [ak, ar, well, cple, grw, uch, fer, ceo, vn, d...   \n",
      "\n",
      "                                         description  category       ac  \\\n",
      "0  [cenrl, bnk, l, ke, chrpern, chef, execuve, bn...  business  0.09007   \n",
      "1  [ndtv, cnle, revenue, pern, r, crre, r, crre, ...  business  0.00000   \n",
      "2  [nl, hre, le, pen, publc, ubcrpn, jul, bng, nc...  business  0.00000   \n",
      "\n",
      "   accrng  acr  advertisement  aercn  afrc  agenc  ...  wrk  wrke     wrkng  \\\n",
      "0     0.0  0.0       0.042255    0.0   0.0    0.0  ...  0.0   0.0  0.000000   \n",
      "1     0.0  0.0       0.055117    0.0   0.0    0.0  ...  0.0   0.0  0.000000   \n",
      "2     0.0  0.0       0.107160    0.0   0.0    0.0  ...  0.0   0.0  0.057403   \n",
      "\n",
      "   wrl  wrlwe  wrng  wul  yutube        ze  zeln  \n",
      "0  0.0    0.0   0.0  0.0     0.0  0.000000   0.0  \n",
      "1  0.0    0.0   0.0  0.0     0.0  0.000000   0.0  \n",
      "2  0.0    0.0   0.0  0.0     0.0  0.073154   0.0  \n",
      "\n",
      "[3 rows x 1003 columns]\n",
      "                                           headlines  \\\n",
      "0  [nlc, in, wn, cnrc, pwer, uppl, rjhn, r, per, un]   \n",
      "1     [sbi, clerk, prel, ex, e, nnunce, cr, deceber]   \n",
      "2  [glen, glbe, mchelle, yeh, ferrell, angel, be,...   \n",
      "\n",
      "                                         description       category   ac  \\\n",
      "0  [fr, nlc, in, l, nlcil, mn, eerge, ucceful, be...       business  0.0   \n",
      "1  [sbi, clerk, prel, ex, sbi, clerk, prel, ex, 2...      education  0.0   \n",
      "2  [brbe, p, nnee, er, fllwe, clel, oppenheer, fl...  entertainment  0.0   \n",
      "\n",
      "     accrng  acr  advertisement     aercn  afrc  agenc  ...  wrk  wrke  wrkng  \\\n",
      "0  0.000000  0.0       0.058668  0.000000   0.0    0.0  ...  0.0   0.0    0.0   \n",
      "1  0.157435  0.0       0.000000  0.000000   0.0    0.0  ...  0.0   0.0    0.0   \n",
      "2  0.000000  0.0       0.043101  0.040884   0.0    0.0  ...  0.0   0.0    0.0   \n",
      "\n",
      "        wrl  wrlwe  wrng       wul  yutube   ze  zeln  \n",
      "0  0.000000    0.0   0.0  0.000000     0.0  0.0   0.0  \n",
      "1  0.000000    0.0   0.0  0.000000     0.0  0.0   0.0  \n",
      "2  0.042983    0.0   0.0  0.026155     0.0  0.0   0.0  \n",
      "\n",
      "[3 rows x 1003 columns]\n"
     ]
    }
   ],
=======
   "execution_count": 235,
   "id": "fb238553-8fc2-48e2-b064-090f51eb094d",
   "metadata": {},
   "outputs": [],
>>>>>>> main
   "source": [
    "# Reset index on both DataFrames to ensure alignment\n",
    "train_df = train_df.reset_index(drop=True)\n",
    "tfidf_df_train = tfidf_df_train.reset_index(drop=True)\n",
    "\n",
    "test_df = test_df.reset_index(drop=True)\n",
    "tfidf_df_test = tfidf_df_test.reset_index(drop=True)\n",
    "\n",
    "# Merge TF-IDF features and other columns\n",
    "combined_train_df = pd.concat([train_df.drop(columns=['content']), tfidf_df_train], axis=1)\n",
    "combined_test_df = pd.concat([test_df.drop(columns=['content']), tfidf_df_test], axis=1)\n",
    "\n",
    "combined_train_df = combined_train_df.loc[:, ~combined_train_df.columns.duplicated()]\n",
    "combined_test_df = combined_test_df.loc[:, ~combined_test_df.columns.duplicated()]\n",
    "\n",
<<<<<<< HEAD
    "print(combined_train_df.head(3))\n",
    "print(combined_test_df.head(3))"
=======
    "# print(combined_train_df.head(3))\n",
    "# print(combined_test_df.head(3))"
>>>>>>> main
   ]
  },
  {
   "cell_type": "markdown",
   "id": "6c3713cd-5a0a-4263-a7f9-a84b401f2632",
   "metadata": {},
   "source": [
    "We will perform hyperparameter tuning to ensure we are using the best number for max-features"
   ]
  },
  {
   "cell_type": "markdown",
   "id": "81f011f9-6f79-46dc-9e8a-3c6a9b8c13e8",
   "metadata": {},
   "source": [
    "<h4>2.3. Train-test split</h4>"
   ]
  },
  {
   "cell_type": "markdown",
   "id": "72dbb259-5852-40cb-9bb4-905904aa7a12",
   "metadata": {},
   "source": [
    "On top of performing the standard train-test split, we will also create a validation set from the training data. This will help us evaluate our model during training."
   ]
  },
  {
   "cell_type": "code",
<<<<<<< HEAD
   "execution_count": 94,
=======
   "execution_count": 237,
>>>>>>> main
   "id": "6b444de7-4490-4036-a481-ed3df3e0c068",
   "metadata": {},
   "outputs": [],
   "source": [
    "# Perform a train-validation split (e.g., 80% train, 20% validation)\n",
    "train_data, val_data = train_test_split(combined_train_df, test_size=0.2, random_state=42)\n",
    "\n",
    "X_train = train_data.drop(columns='category', axis=1)\n",
    "y_train = train_data['category']\n",
    "\n",
    "X_val = val_data.drop(columns='category', axis=1)\n",
    "y_val = val_data['category']\n",
    "\n",
    "X_test = combined_test_df.drop(columns='category', axis=1)\n",
    "y_test = combined_test_df['category']\n"
   ]
  },
  {
   "cell_type": "markdown",
   "id": "629b5ecb-68f5-44a8-9066-b4e1bd5892eb",
   "metadata": {},
   "source": [
    "<h4>2.4. Handling Class Imbalances</h4> "
   ]
  },
  {
   "cell_type": "markdown",
   "id": "96d240d5-994d-49da-a131-1f3cdb9b5a41",
   "metadata": {},
   "source": [
    "Now, we will check if the categories have an equal spread of observations. If there is a class imbalance this can lead to overfitting and models being able to predict the majority categories better, while poorly predicting the minority categories."
   ]
  },
  {
   "cell_type": "code",
<<<<<<< HEAD
   "execution_count": 96,
=======
   "execution_count": 239,
>>>>>>> main
   "id": "95d3fdba-e97d-42a7-b8e6-084545072b0d",
   "metadata": {},
   "outputs": [
    {
     "data": {
      "text/plain": [
       "category\n",
       "education        1246\n",
       "technology       1010\n",
       "business          875\n",
       "entertainment     782\n",
       "sports            503\n",
       "Name: count, dtype: int64"
      ]
     },
<<<<<<< HEAD
     "execution_count": 96,
=======
     "execution_count": 239,
>>>>>>> main
     "metadata": {},
     "output_type": "execute_result"
    }
   ],
   "source": [
    "#Getting an idea of the counts of each category\n",
    "y_train.value_counts()"
   ]
  },
  {
   "cell_type": "code",
<<<<<<< HEAD
   "execution_count": 98,
=======
   "execution_count": 241,
>>>>>>> main
   "id": "a4ea59f3-9c75-48d8-9b8b-a73b10a3973e",
   "metadata": {},
   "outputs": [
    {
     "data": {
      "image/png": "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",
      "text/plain": [
       "<Figure size 640x480 with 1 Axes>"
      ]
     },
     "metadata": {},
     "output_type": "display_data"
    }
   ],
   "source": [
    "#Storing the count of each category, which will be used later for visualising them\n",
    "category_counts = y_train.value_counts()\n",
    "\n",
    "#Plotting a bar graph that shows the differing counts of each category\n",
    "category_counts.plot(kind='bar', color='skyblue')\n",
    "plt.title('Category Counts')\n",
    "plt.xlabel('Category')\n",
    "plt.ylabel('Count')\n",
    "plt.xticks(rotation=0)\n",
    "plt.show()\n"
   ]
  },
  {
   "cell_type": "markdown",
   "id": "ecf5f5ec-b150-41d2-af78-ed889c6b6e76",
   "metadata": {},
   "source": [
    "From this bar graph we can clearly see that there is a class imbalance within the training data. If not addressed, this could lead the model to being good at predicting the majority categories (education and technology) and not so much the minorities (sports and entertainment). To ensure that the model is equally effectivce at predicting all the categories, we will implement both upsampling and downsampling on the categories below."
   ]
  },
  {
   "cell_type": "code",
<<<<<<< HEAD
   "execution_count": 100,
=======
   "execution_count": 244,
>>>>>>> main
   "id": "7ba2c2ea-126d-4b07-be71-dc0ff7a2a7c8",
   "metadata": {},
   "outputs": [],
   "source": [
    "#Splitting the categories so we can calculate the target length\n",
    "\n",
    "business = combined_train_df[combined_train_df['category'] == 'business']\n",
    "education = combined_train_df[combined_train_df['category'] == 'education']\n",
    "technology = combined_train_df[combined_train_df['category'] == 'technology']\n",
    "entertainment = combined_train_df[combined_train_df['category'] == 'entertainment']\n",
    "sports = combined_train_df[combined_train_df['category'] == 'sports']\n",
    "\n",
    "categories = [business, education, technology, entertainment, sports]"
   ]
  },
  {
   "cell_type": "code",
<<<<<<< HEAD
   "execution_count": 102,
=======
   "execution_count": 296,
>>>>>>> main
   "id": "cd0aae8c-55cf-404b-b48a-636a2748f255",
   "metadata": {},
   "outputs": [],
   "source": [
    "#Getting the target class size we need across the categories\n",
    "target_length = int(len(business + education + technology + entertainment + sports) / 5 )\n",
    "\n",
    "\n",
    "#Creating an empty list that will contain the resampled categories\n",
    "resampled_cat = []\n",
    "\n",
    "for category in categories:\n",
    "    if len(category) > target_length:\n",
    "        #Downsampling majority\n",
    "        category = resample(category,\n",
    "                          replace=False, # sample without replacement (no need to duplicate observations)\n",
    "                          n_samples=target_length, # match number in minority class\n",
    "                          random_state=27)\n",
    "        \n",
    "    else:\n",
    "        #Upsampling minority\n",
    "        category = resample(category,\n",
    "        replace=True, # sample without replacement (no need to duplicate observations)\n",
    "        n_samples=target_length, # match number in minority class\n",
    "        random_state=27)\n",
    "\n",
    "    resampled_cat.append(category)\n",
    "  \n",
    "resampled_df = pd.concat(resampled_cat)\n",
    "\n",
    "X_train_resampled = resampled_df.drop(columns='category', axis=1)\n",
    "y_train_resampled = resampled_df['category']"
   ]
  },
  {
   "cell_type": "code",
<<<<<<< HEAD
   "execution_count": 104,
=======
   "execution_count": 396,
>>>>>>> main
   "id": "d98876fe-6500-48be-a870-62e0866cd35c",
   "metadata": {},
   "outputs": [
    {
     "data": {
      "text/html": [
       "<div>\n",
       "<style scoped>\n",
       "    .dataframe tbody tr th:only-of-type {\n",
       "        vertical-align: middle;\n",
       "    }\n",
       "\n",
       "    .dataframe tbody tr th {\n",
       "        vertical-align: top;\n",
       "    }\n",
       "\n",
       "    .dataframe thead th {\n",
       "        text-align: right;\n",
       "    }\n",
       "</style>\n",
       "<table border=\"1\" class=\"dataframe\">\n",
       "  <thead>\n",
       "    <tr style=\"text-align: right;\">\n",
       "      <th></th>\n",
       "      <th>headlines</th>\n",
       "      <th>description</th>\n",
       "      <th>category</th>\n",
<<<<<<< HEAD
       "      <th>ac</th>\n",
       "      <th>accrng</th>\n",
       "      <th>acr</th>\n",
       "      <th>advertisement</th>\n",
       "      <th>aercn</th>\n",
       "      <th>afrc</th>\n",
       "      <th>agenc</th>\n",
       "      <th>...</th>\n",
       "      <th>wrk</th>\n",
       "      <th>wrke</th>\n",
       "      <th>wrkng</th>\n",
       "      <th>wrl</th>\n",
       "      <th>wrlwe</th>\n",
       "      <th>wrng</th>\n",
       "      <th>wul</th>\n",
       "      <th>yutube</th>\n",
       "      <th>ze</th>\n",
       "      <th>zeln</th>\n",
=======
       "      <th>10</th>\n",
       "      <th>100</th>\n",
       "      <th>11</th>\n",
       "      <th>12</th>\n",
       "      <th>13</th>\n",
       "      <th>14</th>\n",
       "      <th>15</th>\n",
       "      <th>...</th>\n",
       "      <th>work</th>\n",
       "      <th>working</th>\n",
       "      <th>world</th>\n",
       "      <th>worth</th>\n",
       "      <th>would</th>\n",
       "      <th>wrote</th>\n",
       "      <th>year</th>\n",
       "      <th>yet</th>\n",
       "      <th>young</th>\n",
       "      <th>zealand</th>\n",
>>>>>>> main
       "    </tr>\n",
       "  </thead>\n",
       "  <tbody>\n",
       "    <tr>\n",
       "      <th>475</th>\n",
<<<<<<< HEAD
       "      <td>[fnech, sro, nepenen, rbi, rf]</td>\n",
       "      <td>[nn, crebl, pere, nepenenl, free, nfluence, ng...</td>\n",
       "      <td>business</td>\n",
       "      <td>0.0</td>\n",
       "      <td>0.0</td>\n",
       "      <td>0.0</td>\n",
       "      <td>0.00000</td>\n",
=======
       "      <td>Fintech SRO independent RBI draft</td>\n",
       "      <td>maintain credibility operate independently fre...</td>\n",
       "      <td>business</td>\n",
       "      <td>0.0</td>\n",
       "      <td>0.000000</td>\n",
       "      <td>0.0</td>\n",
       "      <td>0.0</td>\n",
>>>>>>> main
       "      <td>0.0</td>\n",
       "      <td>0.0</td>\n",
       "      <td>0.0</td>\n",
       "      <td>...</td>\n",
<<<<<<< HEAD
       "      <td>0.00000</td>\n",
       "      <td>0.0</td>\n",
       "      <td>0.0</td>\n",
=======
       "      <td>0.000000</td>\n",
>>>>>>> main
       "      <td>0.0</td>\n",
       "      <td>0.0</td>\n",
       "      <td>0.0</td>\n",
       "      <td>0.000000</td>\n",
<<<<<<< HEAD
=======
       "      <td>0.000000</td>\n",
       "      <td>0.0</td>\n",
>>>>>>> main
       "      <td>0.0</td>\n",
       "      <td>0.0</td>\n",
       "      <td>0.0</td>\n",
       "    </tr>\n",
       "    <tr>\n",
       "      <th>77</th>\n",
<<<<<<< HEAD
       "      <td>[neweb, technlge, hre, ke, ellr, ebu, l, preu,...</td>\n",
       "      <td>[fr, jul, in, crue, pr, verge, lln, brrel, per...</td>\n",
       "      <td>business</td>\n",
       "      <td>0.0</td>\n",
       "      <td>0.0</td>\n",
       "      <td>0.0</td>\n",
       "      <td>0.00000</td>\n",
=======
       "      <td>Netweb Technologies share make stellar debut l...</td>\n",
       "      <td>far July India crude import averaged million b...</td>\n",
       "      <td>business</td>\n",
       "      <td>0.0</td>\n",
       "      <td>0.000000</td>\n",
       "      <td>0.0</td>\n",
       "      <td>0.0</td>\n",
>>>>>>> main
       "      <td>0.0</td>\n",
       "      <td>0.0</td>\n",
       "      <td>0.0</td>\n",
       "      <td>...</td>\n",
<<<<<<< HEAD
       "      <td>0.00000</td>\n",
       "      <td>0.0</td>\n",
       "      <td>0.0</td>\n",
=======
       "      <td>0.000000</td>\n",
>>>>>>> main
       "      <td>0.0</td>\n",
       "      <td>0.0</td>\n",
       "      <td>0.0</td>\n",
       "      <td>0.000000</td>\n",
<<<<<<< HEAD
=======
       "      <td>0.000000</td>\n",
       "      <td>0.0</td>\n",
>>>>>>> main
       "      <td>0.0</td>\n",
       "      <td>0.0</td>\n",
       "      <td>0.0</td>\n",
       "    </tr>\n",
       "    <tr>\n",
       "      <th>415</th>\n",
<<<<<<< HEAD
       "      <td>[hpcl, chhr, lng, ernl, gujr, lkel, r, pern, n...</td>\n",
       "      <td>[alhugh, chhr, ernl, cheve, echncl, cplen, erl...</td>\n",
       "      <td>business</td>\n",
       "      <td>0.0</td>\n",
       "      <td>0.0</td>\n",
       "      <td>0.0</td>\n",
       "      <td>0.00000</td>\n",
=======
       "      <td>HPCL Chhara LNG terminal Gujarat likely start ...</td>\n",
       "      <td>Although Chhara terminal achieved mechanical c...</td>\n",
       "      <td>business</td>\n",
       "      <td>0.0</td>\n",
       "      <td>0.000000</td>\n",
       "      <td>0.0</td>\n",
       "      <td>0.0</td>\n",
>>>>>>> main
       "      <td>0.0</td>\n",
       "      <td>0.0</td>\n",
       "      <td>0.0</td>\n",
       "      <td>...</td>\n",
<<<<<<< HEAD
       "      <td>0.00000</td>\n",
       "      <td>0.0</td>\n",
       "      <td>0.0</td>\n",
=======
       "      <td>0.000000</td>\n",
>>>>>>> main
       "      <td>0.0</td>\n",
       "      <td>0.0</td>\n",
       "      <td>0.0</td>\n",
       "      <td>0.000000</td>\n",
<<<<<<< HEAD
=======
       "      <td>0.000000</td>\n",
       "      <td>0.0</td>\n",
>>>>>>> main
       "      <td>0.0</td>\n",
       "      <td>0.0</td>\n",
       "      <td>0.0</td>\n",
       "    </tr>\n",
       "    <tr>\n",
       "      <th>695</th>\n",
<<<<<<< HEAD
       "      <td>[an, pn, q, prf, ee, ue, le]</td>\n",
       "      <td>[an, pn, thur, repre, jup, prf, hur, ue, le]</td>\n",
       "      <td>business</td>\n",
       "      <td>0.0</td>\n",
       "      <td>0.0</td>\n",
       "      <td>0.0</td>\n",
       "      <td>0.00000</td>\n",
=======
       "      <td>Asian Paints miss Q2 profit estimate muted sale</td>\n",
       "      <td>Asian Paints Thursday reported jump profit hur...</td>\n",
       "      <td>business</td>\n",
       "      <td>0.0</td>\n",
       "      <td>0.000000</td>\n",
       "      <td>0.0</td>\n",
       "      <td>0.0</td>\n",
>>>>>>> main
       "      <td>0.0</td>\n",
       "      <td>0.0</td>\n",
       "      <td>0.0</td>\n",
       "      <td>...</td>\n",
<<<<<<< HEAD
       "      <td>0.00000</td>\n",
       "      <td>0.0</td>\n",
       "      <td>0.0</td>\n",
=======
       "      <td>0.000000</td>\n",
>>>>>>> main
       "      <td>0.0</td>\n",
       "      <td>0.0</td>\n",
       "      <td>0.0</td>\n",
       "      <td>0.000000</td>\n",
<<<<<<< HEAD
=======
       "      <td>0.000000</td>\n",
       "      <td>0.0</td>\n",
>>>>>>> main
       "      <td>0.0</td>\n",
       "      <td>0.0</td>\n",
       "      <td>0.0</td>\n",
       "    </tr>\n",
       "    <tr>\n",
       "      <th>483</th>\n",
<<<<<<< HEAD
       "      <td>[b, ln, ce, gr, npa, nex, mrch]</td>\n",
       "      <td>[crecnc, envrnen, wren, hugh, gnpa, r, re, hrp...</td>\n",
       "      <td>business</td>\n",
       "      <td>0.0</td>\n",
       "      <td>0.0</td>\n",
       "      <td>0.0</td>\n",
       "      <td>0.04993</td>\n",
=======
       "      <td>Bad loan come gross NPAs next March</td>\n",
       "      <td>macroeconomic environment worsens though GNPA ...</td>\n",
       "      <td>business</td>\n",
       "      <td>0.0</td>\n",
       "      <td>0.026829</td>\n",
       "      <td>0.0</td>\n",
       "      <td>0.0</td>\n",
>>>>>>> main
       "      <td>0.0</td>\n",
       "      <td>0.0</td>\n",
       "      <td>0.0</td>\n",
       "      <td>...</td>\n",
<<<<<<< HEAD
       "      <td>0.02412</td>\n",
       "      <td>0.0</td>\n",
       "      <td>0.0</td>\n",
       "      <td>0.0</td>\n",
       "      <td>0.0</td>\n",
       "      <td>0.0</td>\n",
       "      <td>0.020199</td>\n",
       "      <td>0.0</td>\n",
=======
       "      <td>0.022567</td>\n",
       "      <td>0.0</td>\n",
       "      <td>0.0</td>\n",
       "      <td>0.0</td>\n",
       "      <td>0.018898</td>\n",
       "      <td>0.029624</td>\n",
       "      <td>0.0</td>\n",
       "      <td>0.0</td>\n",
>>>>>>> main
       "      <td>0.0</td>\n",
       "      <td>0.0</td>\n",
       "    </tr>\n",
       "  </tbody>\n",
       "</table>\n",
<<<<<<< HEAD
       "<p>5 rows × 1003 columns</p>\n",
=======
       "<p>5 rows × 1002 columns</p>\n",
>>>>>>> main
       "</div>"
      ],
      "text/plain": [
       "                                             headlines  \\\n",
<<<<<<< HEAD
       "475                     [fnech, sro, nepenen, rbi, rf]   \n",
       "77   [neweb, technlge, hre, ke, ellr, ebu, l, preu,...   \n",
       "415  [hpcl, chhr, lng, ernl, gujr, lkel, r, pern, n...   \n",
       "695                       [an, pn, q, prf, ee, ue, le]   \n",
       "483                    [b, ln, ce, gr, npa, nex, mrch]   \n",
       "\n",
       "                                           description  category   ac  accrng  \\\n",
       "475  [nn, crebl, pere, nepenenl, free, nfluence, ng...  business  0.0     0.0   \n",
       "77   [fr, jul, in, crue, pr, verge, lln, brrel, per...  business  0.0     0.0   \n",
       "415  [alhugh, chhr, ernl, cheve, echncl, cplen, erl...  business  0.0     0.0   \n",
       "695       [an, pn, thur, repre, jup, prf, hur, ue, le]  business  0.0     0.0   \n",
       "483  [crecnc, envrnen, wren, hugh, gnpa, r, re, hrp...  business  0.0     0.0   \n",
       "\n",
       "     acr  advertisement  aercn  afrc  agenc  ...      wrk  wrke  wrkng  wrl  \\\n",
       "475  0.0        0.00000    0.0   0.0    0.0  ...  0.00000   0.0    0.0  0.0   \n",
       "77   0.0        0.00000    0.0   0.0    0.0  ...  0.00000   0.0    0.0  0.0   \n",
       "415  0.0        0.00000    0.0   0.0    0.0  ...  0.00000   0.0    0.0  0.0   \n",
       "695  0.0        0.00000    0.0   0.0    0.0  ...  0.00000   0.0    0.0  0.0   \n",
       "483  0.0        0.04993    0.0   0.0    0.0  ...  0.02412   0.0    0.0  0.0   \n",
       "\n",
       "     wrlwe  wrng       wul  yutube   ze  zeln  \n",
       "475    0.0   0.0  0.000000     0.0  0.0   0.0  \n",
       "77     0.0   0.0  0.000000     0.0  0.0   0.0  \n",
       "415    0.0   0.0  0.000000     0.0  0.0   0.0  \n",
       "695    0.0   0.0  0.000000     0.0  0.0   0.0  \n",
       "483    0.0   0.0  0.020199     0.0  0.0   0.0  \n",
       "\n",
       "[5 rows x 1003 columns]"
      ]
     },
     "execution_count": 104,
=======
       "475                  Fintech SRO independent RBI draft   \n",
       "77   Netweb Technologies share make stellar debut l...   \n",
       "415  HPCL Chhara LNG terminal Gujarat likely start ...   \n",
       "695    Asian Paints miss Q2 profit estimate muted sale   \n",
       "483                Bad loan come gross NPAs next March   \n",
       "\n",
       "                                           description  category   10  \\\n",
       "475  maintain credibility operate independently fre...  business  0.0   \n",
       "77   far July India crude import averaged million b...  business  0.0   \n",
       "415  Although Chhara terminal achieved mechanical c...  business  0.0   \n",
       "695  Asian Paints Thursday reported jump profit hur...  business  0.0   \n",
       "483  macroeconomic environment worsens though GNPA ...  business  0.0   \n",
       "\n",
       "          100   11   12   13   14   15  ...      work  working  world  worth  \\\n",
       "475  0.000000  0.0  0.0  0.0  0.0  0.0  ...  0.000000      0.0    0.0    0.0   \n",
       "77   0.000000  0.0  0.0  0.0  0.0  0.0  ...  0.000000      0.0    0.0    0.0   \n",
       "415  0.000000  0.0  0.0  0.0  0.0  0.0  ...  0.000000      0.0    0.0    0.0   \n",
       "695  0.000000  0.0  0.0  0.0  0.0  0.0  ...  0.000000      0.0    0.0    0.0   \n",
       "483  0.026829  0.0  0.0  0.0  0.0  0.0  ...  0.022567      0.0    0.0    0.0   \n",
       "\n",
       "        would     wrote  year  yet  young  zealand  \n",
       "475  0.000000  0.000000   0.0  0.0    0.0      0.0  \n",
       "77   0.000000  0.000000   0.0  0.0    0.0      0.0  \n",
       "415  0.000000  0.000000   0.0  0.0    0.0      0.0  \n",
       "695  0.000000  0.000000   0.0  0.0    0.0      0.0  \n",
       "483  0.018898  0.029624   0.0  0.0    0.0      0.0  \n",
       "\n",
       "[5 rows x 1002 columns]"
      ]
     },
     "execution_count": 396,
>>>>>>> main
     "metadata": {},
     "output_type": "execute_result"
    }
   ],
   "source": [
    "resampled_df.head()"
   ]
  },
  {
   "cell_type": "code",
<<<<<<< HEAD
   "execution_count": 106,
=======
   "execution_count": 252,
>>>>>>> main
   "id": "58b1155c-dd71-4de1-aa5b-278b6b00fd10",
   "metadata": {},
   "outputs": [
    {
     "data": {
      "text/plain": [
       "category\n",
       "business         1104\n",
       "education        1104\n",
       "technology       1104\n",
       "entertainment    1104\n",
       "sports           1104\n",
       "Name: count, dtype: int64"
      ]
     },
<<<<<<< HEAD
     "execution_count": 106,
=======
     "execution_count": 252,
>>>>>>> main
     "metadata": {},
     "output_type": "execute_result"
    }
   ],
   "source": [
    "#Now, we can see the resampled counts of the categories\n",
    "y_train_resampled.value_counts()"
   ]
  },
  {
   "cell_type": "code",
<<<<<<< HEAD
   "execution_count": 108,
=======
   "execution_count": 254,
>>>>>>> main
   "id": "792b2a83-63f1-4026-9fc9-1150edc24614",
   "metadata": {},
   "outputs": [
    {
     "data": {
      "image/png": "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",
      "text/plain": [
       "<Figure size 640x480 with 1 Axes>"
      ]
     },
     "metadata": {},
     "output_type": "display_data"
    }
   ],
   "source": [
    "category_counts = y_train_resampled.value_counts()\n",
    "\n",
    "category_counts.plot(kind='bar', color='skyblue')\n",
    "plt.title('Category Counts')\n",
    "plt.xlabel('Category')\n",
    "plt.ylabel('Count')\n",
    "plt.xticks(rotation=0)\n",
    "plt.show()\n"
   ]
  },
  {
   "cell_type": "markdown",
   "id": "d4c25792-19d6-4b50-aabd-0960df077e57",
   "metadata": {},
   "source": [
    "As we can see, all the categories have been resampled to where they have the same number of observations."
   ]
  },
  {
   "cell_type": "markdown",
   "id": "72206412-afd1-48d6-ac21-bd707c766b0e",
   "metadata": {},
   "source": [
    "<h3>Models</h3>"
   ]
  },
  {
   "cell_type": "markdown",
<<<<<<< HEAD
   "id": "22f98345-4392-41ad-ba18-d97c45c4a882",
   "metadata": {},
   "source": [
    "Naive Bayes"
   ]
  },
  {
   "cell_type": "markdown",
   "id": "389a1188-1cab-47e3-84c2-f5e1a0cb4c6e",
   "metadata": {},
   "source": [
    "Split the data into training and testing sets"
=======
   "id": "1c1198df-3aa6-4e5b-b551-05aa4181de54",
   "metadata": {},
   "source": [
    "<h4>Neural Network</h4>"
>>>>>>> main
   ]
  },
  {
   "cell_type": "code",
<<<<<<< HEAD
   "execution_count": 116,
   "id": "d194e80c-b6ef-44d8-93b7-7164c0eb3b17",
   "metadata": {},
   "outputs": [
    {
     "name": "stdout",
     "output_type": "stream",
     "text": [
      "Index(['headlines', 'description', 'content', 'category'], dtype='object')\n"
     ]
    }
   ],
   "source": [
    "print(train_df.columns)"
   ]
  },
  {
   "cell_type": "code",
   "execution_count": 120,
   "id": "3fde31e3-3d37-4094-9cee-9cdbe58fcc78",
   "metadata": {},
   "outputs": [
    {
     "name": "stdout",
     "output_type": "stream",
     "text": [
      "Accuracy: 0.9583333333333334\n",
      "               precision    recall  f1-score   support\n",
      "\n",
      "     business       0.95      0.94      0.95       373\n",
      "    education       0.99      0.96      0.97       426\n",
      "entertainment       0.97      0.98      0.98       263\n",
      "       sports       0.97      0.96      0.97       199\n",
      "   technology       0.92      0.96      0.94       395\n",
      "\n",
      "     accuracy                           0.96      1656\n",
      "    macro avg       0.96      0.96      0.96      1656\n",
      " weighted avg       0.96      0.96      0.96      1656\n",
      "\n"
     ]
    }
   ],
   "source": [
    "# Dropping the columns 'headlines' and 'description' to get the feature set\n",
    "X = train_df.drop(columns=['category']) \n",
    "y = train_df['category'] \n",
    "\n",
    "# Splitting the dataset into 70% training and 30% testing\n",
    "from sklearn.model_selection import train_test_split\n",
    "X_train, X_test, y_train, y_test = train_test_split(X, y, test_size=0.3, random_state=42)\n",
    "\n",
    "# Fit a Naive Bayes model\n",
    "from sklearn.naive_bayes import MultinomialNB\n",
    "from sklearn.feature_extraction.text import TfidfVectorizer\n",
    "\n",
    "# Vectorize text data using TF-IDF for the 'content' column\n",
    "tfidf = TfidfVectorizer(max_features=1000)\n",
    "X_train_tfidf = tfidf.fit_transform(X_train['content'])\n",
    "X_test_tfidf = tfidf.transform(X_test['content'])\n",
    "\n",
    "# Train the Naive Bayes classifier\n",
    "nb = MultinomialNB()\n",
    "nb.fit(X_train_tfidf, y_train)\n",
    "\n",
    "# Predict on the test set\n",
    "y_pred = nb.predict(X_test_tfidf)\n",
    "\n",
    "# Evaluate the model\n",
    "from sklearn.metrics import classification_report, accuracy_score\n",
    "print(f\"Accuracy: {accuracy_score(y_test, y_pred)}\")\n",
    "print(classification_report(y_test, y_pred))\n"
   ]
  },
  {
   "cell_type": "code",
   "execution_count": 122,
   "id": "bbb561be-5cb9-4f20-9fd7-1b079073ce4d",
   "metadata": {},
   "outputs": [
    {
     "name": "stdout",
     "output_type": "stream",
     "text": [
      "Fitting 5 folds for each of 12 candidates, totalling 60 fits\n",
      "Best Parameters: {'nb__alpha': 0.1, 'tfidf__max_features': 1500}\n",
      "Best Cross-validation Accuracy: 0.9632499715126451\n",
      "Accuracy on Test Data: 0.9685990338164251\n",
      "               precision    recall  f1-score   support\n",
      "\n",
      "     business       0.97      0.95      0.96       373\n",
      "    education       1.00      0.98      0.99       426\n",
      "entertainment       0.97      0.98      0.98       263\n",
      "       sports       0.98      0.98      0.98       199\n",
      "   technology       0.93      0.96      0.95       395\n",
      "\n",
      "     accuracy                           0.97      1656\n",
      "    macro avg       0.97      0.97      0.97      1656\n",
      " weighted avg       0.97      0.97      0.97      1656\n",
      "\n"
     ]
    }
   ],
   "source": [
    "from sklearn.model_selection import GridSearchCV\n",
    "from sklearn.naive_bayes import MultinomialNB\n",
    "from sklearn.feature_extraction.text import TfidfVectorizer\n",
    "\n",
    "# The TF-IDF Vectorizer and Naive Bayes\n",
    "tfidf = TfidfVectorizer(stop_words='english')\n",
    "nb = MultinomialNB()\n",
    "\n",
    "# Define parameter grid\n",
    "param_grid = {\n",
    "    'tfidf__max_features': [500, 1000, 1500],  # Number of features for TF-IDF\n",
    "    'nb__alpha': [0.1, 0.5, 1.0, 2.0]  # Regularization parameter for Naive Bayes\n",
    "}\n",
    "\n",
    "# Set up the pipeline for grid search\n",
    "from sklearn.pipeline import Pipeline\n",
    "pipeline = Pipeline([\n",
    "    ('tfidf', tfidf),\n",
    "    ('nb', nb)\n",
    "])\n",
    "\n",
    "# Perform grid search with cross-validation\n",
    "grid_search = GridSearchCV(pipeline, param_grid, cv=5, scoring='accuracy', n_jobs=-1, verbose=2)\n",
    "\n",
    "# Fit the model\n",
    "grid_search.fit(X_train['content'], y_train)\n",
    "\n",
    "# Print the best parameters and the best score\n",
    "print(\"Best Parameters:\", grid_search.best_params_)\n",
    "print(\"Best Cross-validation Accuracy:\", grid_search.best_score_)\n",
    "\n",
    "# Evaluate the model with the best parameters\n",
    "best_model = grid_search.best_estimator_\n",
    "y_pred = best_model.predict(X_test['content'])\n",
    "\n",
    "# Evaluate the final model\n",
    "from sklearn.metrics import accuracy_score, classification_report\n",
    "print(f\"Accuracy on Test Data: {accuracy_score(y_test, y_pred)}\")\n",
    "print(classification_report(y_test, y_pred))\n"
   ]
  },
  {
   "cell_type": "code",
   "execution_count": 134,
   "id": "e7755ce3-72af-4b6a-82d8-56e0707f961c",
   "metadata": {},
   "outputs": [
    {
     "data": {
      "image/png": "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",
      "text/plain": [
       "<Figure size 1000x700 with 2 Axes>"
      ]
     },
     "metadata": {},
     "output_type": "display_data"
    }
   ],
   "source": [
    "from sklearn.metrics import confusion_matrix\n",
    "import seaborn as sns\n",
    "import matplotlib.pyplot as plt\n",
    "\n",
    "# Confusion matrix\n",
    "cm = confusion_matrix(y_test, y_pred)\n",
    "\n",
    "# Class labels from the training data\n",
    "class_labels = y_train.unique()\n",
    "\n",
    "# Confusion matrix as a heatmap\n",
    "plt.figure(figsize=(10, 7))\n",
    "sns.heatmap(cm, annot=True, fmt='d', cmap='Blues', xticklabels=class_labels, yticklabels=class_labels)\n",
    "plt.xlabel('Predicted')\n",
    "plt.ylabel('True')\n",
    "plt.title('Confusion Matrix')\n",
    "plt.show()"
   ]
  },
  {
   "cell_type": "code",
   "execution_count": 142,
   "id": "e2f35488-4ce8-4c7f-abe1-fbaa8d078e53",
   "metadata": {},
   "outputs": [
    {
     "data": {
      "image/png": "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",
      "text/plain": [
       "<Figure size 1000x600 with 1 Axes>"
      ]
     },
     "metadata": {},
     "output_type": "display_data"
    }
   ],
   "source": [
    "# Ensure TfidfVectorizer and Naive Bayes are fitted\n",
    "tfidf = TfidfVectorizer(max_features=1000)\n",
    "X_train_tfidf = tfidf.fit_transform(X_train['content'])\n",
    "X_test_tfidf = tfidf.transform(X_test['content'])\n",
    "\n",
    "nb = MultinomialNB()\n",
    "nb.fit(X_train_tfidf, y_train) \n",
    "\n",
    "# Get the feature names from TfidfVectorizer\n",
    "feature_names = tfidf.get_feature_names_out()\n",
    "\n",
    "# Calculate the difference of log probabilities for the classes\n",
    "class_diff = nb.feature_log_prob_\n",
    "\n",
    "# Visualize the differences between two specific classes\n",
    "if class_diff.shape[0] > 1:\n",
    "    importance = class_diff[1] - class_diff[0] \n",
    "else:\n",
    "    importance = class_diff[0]\n",
    "\n",
    "# Sort the features based on importance\n",
    "sorted_idx = importance.argsort()\n",
    "\n",
    "# Plot the most important features\n",
    "top_n = 20  # Number of features to display\n",
    "top_features = feature_names[sorted_idx[-top_n:]]  # Top features\n",
    "top_importance = importance[sorted_idx[-top_n:]]\n",
    "\n",
    "# Plot the top features\n",
    "plt.figure(figsize=(10, 6))\n",
    "plt.barh(top_features, top_importance, color='teal')\n",
    "plt.xlabel('Log Probability Difference')\n",
    "plt.title(f'Top {top_n} Important Features')\n",
    "plt.gca().invert_yaxis()  # Highest coefficients at the top\n",
    "plt.show()\n"
   ]
  },
  {
   "cell_type": "code",
   "execution_count": 156,
   "id": "c78c8300-decf-4683-809c-c147dd232a3d",
   "metadata": {},
   "outputs": [
    {
     "data": {
      "text/html": [
       "<style>#sk-container-id-3 {\n",
       "  /* Definition of color scheme common for light and dark mode */\n",
       "  --sklearn-color-text: black;\n",
       "  --sklearn-color-line: gray;\n",
       "  /* Definition of color scheme for unfitted estimators */\n",
       "  --sklearn-color-unfitted-level-0: #fff5e6;\n",
       "  --sklearn-color-unfitted-level-1: #f6e4d2;\n",
       "  --sklearn-color-unfitted-level-2: #ffe0b3;\n",
       "  --sklearn-color-unfitted-level-3: chocolate;\n",
       "  /* Definition of color scheme for fitted estimators */\n",
       "  --sklearn-color-fitted-level-0: #f0f8ff;\n",
       "  --sklearn-color-fitted-level-1: #d4ebff;\n",
       "  --sklearn-color-fitted-level-2: #b3dbfd;\n",
       "  --sklearn-color-fitted-level-3: cornflowerblue;\n",
       "\n",
       "  /* Specific color for light theme */\n",
       "  --sklearn-color-text-on-default-background: var(--sg-text-color, var(--theme-code-foreground, var(--jp-content-font-color1, black)));\n",
       "  --sklearn-color-background: var(--sg-background-color, var(--theme-background, var(--jp-layout-color0, white)));\n",
       "  --sklearn-color-border-box: var(--sg-text-color, var(--theme-code-foreground, var(--jp-content-font-color1, black)));\n",
       "  --sklearn-color-icon: #696969;\n",
       "\n",
       "  @media (prefers-color-scheme: dark) {\n",
       "    /* Redefinition of color scheme for dark theme */\n",
       "    --sklearn-color-text-on-default-background: var(--sg-text-color, var(--theme-code-foreground, var(--jp-content-font-color1, white)));\n",
       "    --sklearn-color-background: var(--sg-background-color, var(--theme-background, var(--jp-layout-color0, #111)));\n",
       "    --sklearn-color-border-box: var(--sg-text-color, var(--theme-code-foreground, var(--jp-content-font-color1, white)));\n",
       "    --sklearn-color-icon: #878787;\n",
       "  }\n",
       "}\n",
       "\n",
       "#sk-container-id-3 {\n",
       "  color: var(--sklearn-color-text);\n",
       "}\n",
       "\n",
       "#sk-container-id-3 pre {\n",
       "  padding: 0;\n",
       "}\n",
       "\n",
       "#sk-container-id-3 input.sk-hidden--visually {\n",
       "  border: 0;\n",
       "  clip: rect(1px 1px 1px 1px);\n",
       "  clip: rect(1px, 1px, 1px, 1px);\n",
       "  height: 1px;\n",
       "  margin: -1px;\n",
       "  overflow: hidden;\n",
       "  padding: 0;\n",
       "  position: absolute;\n",
       "  width: 1px;\n",
       "}\n",
       "\n",
       "#sk-container-id-3 div.sk-dashed-wrapped {\n",
       "  border: 1px dashed var(--sklearn-color-line);\n",
       "  margin: 0 0.4em 0.5em 0.4em;\n",
       "  box-sizing: border-box;\n",
       "  padding-bottom: 0.4em;\n",
       "  background-color: var(--sklearn-color-background);\n",
       "}\n",
       "\n",
       "#sk-container-id-3 div.sk-container {\n",
       "  /* jupyter's `normalize.less` sets `[hidden] { display: none; }`\n",
       "     but bootstrap.min.css set `[hidden] { display: none !important; }`\n",
       "     so we also need the `!important` here to be able to override the\n",
       "     default hidden behavior on the sphinx rendered scikit-learn.org.\n",
       "     See: https://github.com/scikit-learn/scikit-learn/issues/21755 */\n",
       "  display: inline-block !important;\n",
       "  position: relative;\n",
       "}\n",
       "\n",
       "#sk-container-id-3 div.sk-text-repr-fallback {\n",
       "  display: none;\n",
       "}\n",
       "\n",
       "div.sk-parallel-item,\n",
       "div.sk-serial,\n",
       "div.sk-item {\n",
       "  /* draw centered vertical line to link estimators */\n",
       "  background-image: linear-gradient(var(--sklearn-color-text-on-default-background), var(--sklearn-color-text-on-default-background));\n",
       "  background-size: 2px 100%;\n",
       "  background-repeat: no-repeat;\n",
       "  background-position: center center;\n",
       "}\n",
       "\n",
       "/* Parallel-specific style estimator block */\n",
       "\n",
       "#sk-container-id-3 div.sk-parallel-item::after {\n",
       "  content: \"\";\n",
       "  width: 100%;\n",
       "  border-bottom: 2px solid var(--sklearn-color-text-on-default-background);\n",
       "  flex-grow: 1;\n",
       "}\n",
       "\n",
       "#sk-container-id-3 div.sk-parallel {\n",
       "  display: flex;\n",
       "  align-items: stretch;\n",
       "  justify-content: center;\n",
       "  background-color: var(--sklearn-color-background);\n",
       "  position: relative;\n",
       "}\n",
       "\n",
       "#sk-container-id-3 div.sk-parallel-item {\n",
       "  display: flex;\n",
       "  flex-direction: column;\n",
       "}\n",
       "\n",
       "#sk-container-id-3 div.sk-parallel-item:first-child::after {\n",
       "  align-self: flex-end;\n",
       "  width: 50%;\n",
       "}\n",
       "\n",
       "#sk-container-id-3 div.sk-parallel-item:last-child::after {\n",
       "  align-self: flex-start;\n",
       "  width: 50%;\n",
       "}\n",
       "\n",
       "#sk-container-id-3 div.sk-parallel-item:only-child::after {\n",
       "  width: 0;\n",
       "}\n",
       "\n",
       "/* Serial-specific style estimator block */\n",
       "\n",
       "#sk-container-id-3 div.sk-serial {\n",
       "  display: flex;\n",
       "  flex-direction: column;\n",
       "  align-items: center;\n",
       "  background-color: var(--sklearn-color-background);\n",
       "  padding-right: 1em;\n",
       "  padding-left: 1em;\n",
       "}\n",
       "\n",
       "\n",
       "/* Toggleable style: style used for estimator/Pipeline/ColumnTransformer box that is\n",
       "clickable and can be expanded/collapsed.\n",
       "- Pipeline and ColumnTransformer use this feature and define the default style\n",
       "- Estimators will overwrite some part of the style using the `sk-estimator` class\n",
       "*/\n",
       "\n",
       "/* Pipeline and ColumnTransformer style (default) */\n",
       "\n",
       "#sk-container-id-3 div.sk-toggleable {\n",
       "  /* Default theme specific background. It is overwritten whether we have a\n",
       "  specific estimator or a Pipeline/ColumnTransformer */\n",
       "  background-color: var(--sklearn-color-background);\n",
       "}\n",
       "\n",
       "/* Toggleable label */\n",
       "#sk-container-id-3 label.sk-toggleable__label {\n",
       "  cursor: pointer;\n",
       "  display: block;\n",
       "  width: 100%;\n",
       "  margin-bottom: 0;\n",
       "  padding: 0.5em;\n",
       "  box-sizing: border-box;\n",
       "  text-align: center;\n",
       "}\n",
       "\n",
       "#sk-container-id-3 label.sk-toggleable__label-arrow:before {\n",
       "  /* Arrow on the left of the label */\n",
       "  content: \"▸\";\n",
       "  float: left;\n",
       "  margin-right: 0.25em;\n",
       "  color: var(--sklearn-color-icon);\n",
       "}\n",
       "\n",
       "#sk-container-id-3 label.sk-toggleable__label-arrow:hover:before {\n",
       "  color: var(--sklearn-color-text);\n",
       "}\n",
       "\n",
       "/* Toggleable content - dropdown */\n",
       "\n",
       "#sk-container-id-3 div.sk-toggleable__content {\n",
       "  max-height: 0;\n",
       "  max-width: 0;\n",
       "  overflow: hidden;\n",
       "  text-align: left;\n",
       "  /* unfitted */\n",
       "  background-color: var(--sklearn-color-unfitted-level-0);\n",
       "}\n",
       "\n",
       "#sk-container-id-3 div.sk-toggleable__content.fitted {\n",
       "  /* fitted */\n",
       "  background-color: var(--sklearn-color-fitted-level-0);\n",
       "}\n",
       "\n",
       "#sk-container-id-3 div.sk-toggleable__content pre {\n",
       "  margin: 0.2em;\n",
       "  border-radius: 0.25em;\n",
       "  color: var(--sklearn-color-text);\n",
       "  /* unfitted */\n",
       "  background-color: var(--sklearn-color-unfitted-level-0);\n",
       "}\n",
       "\n",
       "#sk-container-id-3 div.sk-toggleable__content.fitted pre {\n",
       "  /* unfitted */\n",
       "  background-color: var(--sklearn-color-fitted-level-0);\n",
       "}\n",
       "\n",
       "#sk-container-id-3 input.sk-toggleable__control:checked~div.sk-toggleable__content {\n",
       "  /* Expand drop-down */\n",
       "  max-height: 200px;\n",
       "  max-width: 100%;\n",
       "  overflow: auto;\n",
       "}\n",
       "\n",
       "#sk-container-id-3 input.sk-toggleable__control:checked~label.sk-toggleable__label-arrow:before {\n",
       "  content: \"▾\";\n",
       "}\n",
       "\n",
       "/* Pipeline/ColumnTransformer-specific style */\n",
       "\n",
       "#sk-container-id-3 div.sk-label input.sk-toggleable__control:checked~label.sk-toggleable__label {\n",
       "  color: var(--sklearn-color-text);\n",
       "  background-color: var(--sklearn-color-unfitted-level-2);\n",
       "}\n",
       "\n",
       "#sk-container-id-3 div.sk-label.fitted input.sk-toggleable__control:checked~label.sk-toggleable__label {\n",
       "  background-color: var(--sklearn-color-fitted-level-2);\n",
       "}\n",
       "\n",
       "/* Estimator-specific style */\n",
       "\n",
       "/* Colorize estimator box */\n",
       "#sk-container-id-3 div.sk-estimator input.sk-toggleable__control:checked~label.sk-toggleable__label {\n",
       "  /* unfitted */\n",
       "  background-color: var(--sklearn-color-unfitted-level-2);\n",
       "}\n",
       "\n",
       "#sk-container-id-3 div.sk-estimator.fitted input.sk-toggleable__control:checked~label.sk-toggleable__label {\n",
       "  /* fitted */\n",
       "  background-color: var(--sklearn-color-fitted-level-2);\n",
       "}\n",
       "\n",
       "#sk-container-id-3 div.sk-label label.sk-toggleable__label,\n",
       "#sk-container-id-3 div.sk-label label {\n",
       "  /* The background is the default theme color */\n",
       "  color: var(--sklearn-color-text-on-default-background);\n",
       "}\n",
       "\n",
       "/* On hover, darken the color of the background */\n",
       "#sk-container-id-3 div.sk-label:hover label.sk-toggleable__label {\n",
       "  color: var(--sklearn-color-text);\n",
       "  background-color: var(--sklearn-color-unfitted-level-2);\n",
       "}\n",
       "\n",
       "/* Label box, darken color on hover, fitted */\n",
       "#sk-container-id-3 div.sk-label.fitted:hover label.sk-toggleable__label.fitted {\n",
       "  color: var(--sklearn-color-text);\n",
       "  background-color: var(--sklearn-color-fitted-level-2);\n",
       "}\n",
       "\n",
       "/* Estimator label */\n",
       "\n",
       "#sk-container-id-3 div.sk-label label {\n",
       "  font-family: monospace;\n",
       "  font-weight: bold;\n",
       "  display: inline-block;\n",
       "  line-height: 1.2em;\n",
       "}\n",
       "\n",
       "#sk-container-id-3 div.sk-label-container {\n",
       "  text-align: center;\n",
       "}\n",
       "\n",
       "/* Estimator-specific */\n",
       "#sk-container-id-3 div.sk-estimator {\n",
       "  font-family: monospace;\n",
       "  border: 1px dotted var(--sklearn-color-border-box);\n",
       "  border-radius: 0.25em;\n",
       "  box-sizing: border-box;\n",
       "  margin-bottom: 0.5em;\n",
       "  /* unfitted */\n",
       "  background-color: var(--sklearn-color-unfitted-level-0);\n",
       "}\n",
       "\n",
       "#sk-container-id-3 div.sk-estimator.fitted {\n",
       "  /* fitted */\n",
       "  background-color: var(--sklearn-color-fitted-level-0);\n",
       "}\n",
       "\n",
       "/* on hover */\n",
       "#sk-container-id-3 div.sk-estimator:hover {\n",
       "  /* unfitted */\n",
       "  background-color: var(--sklearn-color-unfitted-level-2);\n",
       "}\n",
       "\n",
       "#sk-container-id-3 div.sk-estimator.fitted:hover {\n",
       "  /* fitted */\n",
       "  background-color: var(--sklearn-color-fitted-level-2);\n",
       "}\n",
       "\n",
       "/* Specification for estimator info (e.g. \"i\" and \"?\") */\n",
       "\n",
       "/* Common style for \"i\" and \"?\" */\n",
       "\n",
       ".sk-estimator-doc-link,\n",
       "a:link.sk-estimator-doc-link,\n",
       "a:visited.sk-estimator-doc-link {\n",
       "  float: right;\n",
       "  font-size: smaller;\n",
       "  line-height: 1em;\n",
       "  font-family: monospace;\n",
       "  background-color: var(--sklearn-color-background);\n",
       "  border-radius: 1em;\n",
       "  height: 1em;\n",
       "  width: 1em;\n",
       "  text-decoration: none !important;\n",
       "  margin-left: 1ex;\n",
       "  /* unfitted */\n",
       "  border: var(--sklearn-color-unfitted-level-1) 1pt solid;\n",
       "  color: var(--sklearn-color-unfitted-level-1);\n",
       "}\n",
       "\n",
       ".sk-estimator-doc-link.fitted,\n",
       "a:link.sk-estimator-doc-link.fitted,\n",
       "a:visited.sk-estimator-doc-link.fitted {\n",
       "  /* fitted */\n",
       "  border: var(--sklearn-color-fitted-level-1) 1pt solid;\n",
       "  color: var(--sklearn-color-fitted-level-1);\n",
       "}\n",
       "\n",
       "/* On hover */\n",
       "div.sk-estimator:hover .sk-estimator-doc-link:hover,\n",
       ".sk-estimator-doc-link:hover,\n",
       "div.sk-label-container:hover .sk-estimator-doc-link:hover,\n",
       ".sk-estimator-doc-link:hover {\n",
       "  /* unfitted */\n",
       "  background-color: var(--sklearn-color-unfitted-level-3);\n",
       "  color: var(--sklearn-color-background);\n",
       "  text-decoration: none;\n",
       "}\n",
       "\n",
       "div.sk-estimator.fitted:hover .sk-estimator-doc-link.fitted:hover,\n",
       ".sk-estimator-doc-link.fitted:hover,\n",
       "div.sk-label-container:hover .sk-estimator-doc-link.fitted:hover,\n",
       ".sk-estimator-doc-link.fitted:hover {\n",
       "  /* fitted */\n",
       "  background-color: var(--sklearn-color-fitted-level-3);\n",
       "  color: var(--sklearn-color-background);\n",
       "  text-decoration: none;\n",
       "}\n",
       "\n",
       "/* Span, style for the box shown on hovering the info icon */\n",
       ".sk-estimator-doc-link span {\n",
       "  display: none;\n",
       "  z-index: 9999;\n",
       "  position: relative;\n",
       "  font-weight: normal;\n",
       "  right: .2ex;\n",
       "  padding: .5ex;\n",
       "  margin: .5ex;\n",
       "  width: min-content;\n",
       "  min-width: 20ex;\n",
       "  max-width: 50ex;\n",
       "  color: var(--sklearn-color-text);\n",
       "  box-shadow: 2pt 2pt 4pt #999;\n",
       "  /* unfitted */\n",
       "  background: var(--sklearn-color-unfitted-level-0);\n",
       "  border: .5pt solid var(--sklearn-color-unfitted-level-3);\n",
       "}\n",
       "\n",
       ".sk-estimator-doc-link.fitted span {\n",
       "  /* fitted */\n",
       "  background: var(--sklearn-color-fitted-level-0);\n",
       "  border: var(--sklearn-color-fitted-level-3);\n",
       "}\n",
       "\n",
       ".sk-estimator-doc-link:hover span {\n",
       "  display: block;\n",
       "}\n",
       "\n",
       "/* \"?\"-specific style due to the `<a>` HTML tag */\n",
       "\n",
       "#sk-container-id-3 a.estimator_doc_link {\n",
       "  float: right;\n",
       "  font-size: 1rem;\n",
       "  line-height: 1em;\n",
       "  font-family: monospace;\n",
       "  background-color: var(--sklearn-color-background);\n",
       "  border-radius: 1rem;\n",
       "  height: 1rem;\n",
       "  width: 1rem;\n",
       "  text-decoration: none;\n",
       "  /* unfitted */\n",
       "  color: var(--sklearn-color-unfitted-level-1);\n",
       "  border: var(--sklearn-color-unfitted-level-1) 1pt solid;\n",
       "}\n",
       "\n",
       "#sk-container-id-3 a.estimator_doc_link.fitted {\n",
       "  /* fitted */\n",
       "  border: var(--sklearn-color-fitted-level-1) 1pt solid;\n",
       "  color: var(--sklearn-color-fitted-level-1);\n",
       "}\n",
       "\n",
       "/* On hover */\n",
       "#sk-container-id-3 a.estimator_doc_link:hover {\n",
       "  /* unfitted */\n",
       "  background-color: var(--sklearn-color-unfitted-level-3);\n",
       "  color: var(--sklearn-color-background);\n",
       "  text-decoration: none;\n",
       "}\n",
       "\n",
       "#sk-container-id-3 a.estimator_doc_link.fitted:hover {\n",
       "  /* fitted */\n",
       "  background-color: var(--sklearn-color-fitted-level-3);\n",
       "}\n",
       "</style><div id=\"sk-container-id-3\" class=\"sk-top-container\"><div class=\"sk-text-repr-fallback\"><pre>MultinomialNB()</pre><b>In a Jupyter environment, please rerun this cell to show the HTML representation or trust the notebook. <br />On GitHub, the HTML representation is unable to render, please try loading this page with nbviewer.org.</b></div><div class=\"sk-container\" hidden><div class=\"sk-item\"><div class=\"sk-estimator fitted sk-toggleable\"><input class=\"sk-toggleable__control sk-hidden--visually\" id=\"sk-estimator-id-3\" type=\"checkbox\" checked><label for=\"sk-estimator-id-3\" class=\"sk-toggleable__label fitted sk-toggleable__label-arrow fitted\">&nbsp;&nbsp;MultinomialNB<a class=\"sk-estimator-doc-link fitted\" rel=\"noreferrer\" target=\"_blank\" href=\"https://scikit-learn.org/1.4/modules/generated/sklearn.naive_bayes.MultinomialNB.html\">?<span>Documentation for MultinomialNB</span></a><span class=\"sk-estimator-doc-link fitted\">i<span>Fitted</span></span></label><div class=\"sk-toggleable__content fitted\"><pre>MultinomialNB()</pre></div> </div></div></div></div>"
      ],
      "text/plain": [
       "MultinomialNB()"
      ]
     },
     "execution_count": 156,
     "metadata": {},
     "output_type": "execute_result"
    }
   ],
   "source": [
    "from sklearn.naive_bayes import MultinomialNB\n",
    "\n",
    "model = MultinomialNB()\n",
    "\n",
    "# Fit the model on the training data\n",
    "model.fit(X_train_tfidf, y_train)"
   ]
  },
  {
   "cell_type": "code",
   "execution_count": 158,
   "id": "6ff6026f-29cd-4fde-a61c-e8a6908a1615",
   "metadata": {},
   "outputs": [],
   "source": [
    "y_pred = model.predict(X_test_tfidf)"
=======
   "execution_count": 398,
   "id": "e7755ce3-72af-4b6a-82d8-56e0707f961c",
   "metadata": {},
   "outputs": [],
   "source": [
    "text_columns = ['headlines', 'description']"
>>>>>>> main
   ]
  },
  {
   "cell_type": "code",
<<<<<<< HEAD
   "execution_count": 160,
   "id": "6c9adb83-7677-457a-98f4-d5aa426baeb9",
   "metadata": {},
   "outputs": [
    {
     "name": "stdout",
     "output_type": "stream",
     "text": [
      "Cross-Validation Accuracy: 0.9560 ± 0.0039\n"
     ]
    }
   ],
   "source": [
    "from sklearn.model_selection import cross_val_score\n",
    "\n",
    "cv_scores = cross_val_score(model, X_train_tfidf, y_train, cv=5, scoring='accuracy')\n",
    "\n",
    "print(f\"Cross-Validation Accuracy: {cv_scores.mean():.4f} ± {cv_scores.std():.4f}\")"
=======
   "execution_count": 400,
   "id": "e2f35488-4ce8-4c7f-abe1-fbaa8d078e53",
   "metadata": {},
   "outputs": [],
   "source": [
    "tfidf_vectorizers = {}\n",
    "vectorized_texts = []"
   ]
  },
  {
   "cell_type": "code",
   "execution_count": 402,
   "id": "6c9adb83-7677-457a-98f4-d5aa426baeb9",
   "metadata": {},
   "outputs": [],
   "source": [
    "tf_df = resampled_df.drop(columns='category', axis=1)\n",
    "\n",
    "for col in text_columns:\n",
    "    tfidf = TfidfVectorizer(max_features=1000, stop_words='english')\n",
    "    tfidf_vectorizers[col] = tfidf\n",
    "    vectorized_texts.append(tfidf.fit_transform(tf_df[col].fillna('').astype(str)).toarray())\n"
   ]
  },
  {
   "cell_type": "code",
   "execution_count": 404,
   "id": "9e76326b-238c-4606-9145-77874c5b73a7",
   "metadata": {},
   "outputs": [],
   "source": [
    "# Concatenate the vectorized features\n",
    "X = np.hstack(vectorized_texts)\n",
    "\n",
    "\n",
    "# Convert target 'category' column to one-hot encoding\n",
    "y = pd.get_dummies(resampled_df['category']).values"
   ]
  },
  {
   "cell_type": "code",
   "execution_count": 406,
   "id": "f125dc4d-b8dd-4646-8aa4-6b0e8c1ed6d3",
   "metadata": {},
   "outputs": [],
   "source": [
    "X_train_nn, X_test_nn, y_train_nn, y_test_nn = train_test_split(X, y, test_size=0.2, random_state=42)"
   ]
  },
  {
   "cell_type": "code",
   "execution_count": 408,
   "id": "c193c29c-cfa8-484b-b435-4488804c9675",
   "metadata": {},
   "outputs": [],
   "source": [
    "num_classes = 5\n",
    "\n",
    "model_nn = Sequential([\n",
    "    Input(shape=(X_train.shape[1],)),  # Input layer matching feature size\n",
    "    Dense(128, activation='relu'),  # First hidden layer\n",
    "    Dropout(0.3),  # Regularization\n",
    "    Dense(64, activation='relu'),  # Second hidden layer\n",
    "    Dropout(0.2),  # Regularization\n",
    "    Dense(num_classes, activation='softmax')  # Output layer for classification\n",
    "])"
   ]
  },
  {
   "cell_type": "code",
   "execution_count": 410,
   "id": "55fae63a-fda5-4d1e-99bc-3c34258725ab",
   "metadata": {},
   "outputs": [],
   "source": [
    "model_nn.compile(optimizer='adam', loss='categorical_crossentropy', metrics=['accuracy'])"
>>>>>>> main
   ]
  },
  {
   "cell_type": "code",
   "execution_count": null,
<<<<<<< HEAD
   "id": "553ad250-59e9-44c0-9251-1d37b2586110",
=======
   "id": "883799fc-f9c2-4d33-9119-15c2af05e314",
   "metadata": {},
   "outputs": [],
   "source": [
    "model_nn.fit(X_train, y_train, validation_data=(X_test_nn, y_test_nn), epochs=10, batch_size=64)"
   ]
  },
  {
   "cell_type": "markdown",
   "id": "a94dba57-a370-4c4a-8ea8-1bb328336887",
   "metadata": {},
   "source": [
    "<h4>Model Evaluation</h4>"
   ]
  },
  {
   "cell_type": "code",
   "execution_count": 364,
   "id": "730ff7fb-e262-4036-9866-b5ec53d2d602",
   "metadata": {},
   "outputs": [
    {
     "name": "stdout",
     "output_type": "stream",
     "text": [
      "\u001b[1m35/35\u001b[0m \u001b[32m━━━━━━━━━━━━━━━━━━━━\u001b[0m\u001b[37m\u001b[0m \u001b[1m0s\u001b[0m 1ms/step - accuracy: 0.9482 - loss: 0.3370 \n",
      "Test Loss: 0.28283488750457764\n",
      "Test Accuracy: 0.9574275612831116\n"
     ]
    }
   ],
   "source": [
    "test_loss, test_accuracy = model_nn.evaluate(X_test_nn, y_test_nn, batch_size=32)\n",
    "\n",
    "print(f\"Test Loss: {test_loss}\")\n",
    "print(f\"Test Accuracy: {test_accuracy}\")"
   ]
  },
  {
   "cell_type": "markdown",
   "id": "4023d323-6fc7-400d-89d5-8ae7b246d802",
   "metadata": {},
   "source": [
    "<h4>Model Tuning</h4>"
   ]
  },
  {
   "cell_type": "code",
   "execution_count": 420,
   "id": "d2060515-c026-41bd-ad1e-b522c84afb2b",
   "metadata": {},
   "outputs": [],
   "source": [
    "def create_nn_model(optimizer='adam', dropout_rate=0.2, num_units=64):\n",
    "    model = Sequential([\n",
    "        Dense(num_units, activation='relu', input_dim=X_train.shape[1]),\n",
    "        Dropout(dropout_rate),\n",
    "        Dense(64, activation='relu'),\n",
    "        Dropout(dropout_rate),\n",
    "        Dense(num_classes, activation='softmax')\n",
    "    ])\n",
    "    # Compile model\n",
    "    model.compile(optimizer=optimizer, loss='categorical_crossentropy', metrics=['accuracy'])\n",
    "    \n",
    "    return model"
   ]
  },
  {
   "cell_type": "code",
   "execution_count": 422,
   "id": "7c4806ed-5e7b-4214-968f-8eb3b67e3100",
   "metadata": {},
   "outputs": [],
   "source": [
    "model_nn_tune = KerasClassifier(build_fn=create_nn_model, epochs=10, batch_size=32, verbose=0, dropout_rate=0.2, num_units=64)"
   ]
  },
  {
   "cell_type": "code",
   "execution_count": 424,
   "id": "892bb054-7234-468f-9267-851aa1778414",
   "metadata": {},
   "outputs": [
    {
     "name": "stdout",
     "output_type": "stream",
     "text": [
      "Best parameters found:  {'batch_size': 32, 'dropout_rate': 0.5, 'epochs': 10, 'num_units': 32, 'optimizer': 'rmsprop'}\n"
     ]
    }
   ],
   "source": [
    "param_grid = {\n",
    "    'optimizer': ['adam', 'rmsprop'],\n",
    "    'dropout_rate': [0.2, 0.3, 0.5],\n",
    "    'num_units': [32, 64, 128],\n",
    "    'batch_size': [32, 64],\n",
    "    'epochs': [10, 20]\n",
    "}\n",
    "\n",
    "grid_search = GridSearchCV(estimator=model_nn_tune, param_grid=param_grid, n_jobs=-1, cv=3)\n",
    "grid_search.fit(X_train_nn, y_train_nn)\n",
    "\n",
    "# Get the best hyperparameters\n",
    "print(\"Best parameters found: \", grid_search.best_params_)"
   ]
  },
  {
   "cell_type": "markdown",
   "id": "8eee02c0-2456-4a4a-a735-ca672d49a745",
   "metadata": {},
   "source": [
    "<h4>Testing the 'best' model</h4>"
   ]
  },
  {
   "cell_type": "code",
   "execution_count": 427,
   "id": "4ed88693-6d13-4b5a-be3a-b0792e122a49",
   "metadata": {},
   "outputs": [],
   "source": [
    "num_classes = 5\n",
    "\n",
    "model_best = Sequential([\n",
    "    Input(shape=(X_train.shape[1],)),  \n",
    "    Dense(128, activation='relu'),\n",
    "    Dropout(0.5),\n",
    "    Dense(64, activation='relu'),\n",
    "    Dropout(0.5), \n",
    "    Dense(num_classes, activation='softmax') \n",
    "])"
   ]
  },
  {
   "cell_type": "code",
   "execution_count": 429,
   "id": "c71d04c0-5cfc-44dc-ad4f-b6331ef95d81",
   "metadata": {},
   "outputs": [],
   "source": [
    "model_best.compile(optimizer='rmsprop', loss='categorical_crossentropy', metrics=['accuracy'])"
   ]
  },
  {
   "cell_type": "code",
   "execution_count": 431,
   "id": "6e63e579-099c-4c43-82ed-6752c7b5e6d6",
   "metadata": {},
   "outputs": [
    {
     "name": "stdout",
     "output_type": "stream",
     "text": [
      "Epoch 1/10\n",
      "\u001b[1m138/138\u001b[0m \u001b[32m━━━━━━━━━━━━━━━━━━━━\u001b[0m\u001b[37m\u001b[0m \u001b[1m1s\u001b[0m 5ms/step - accuracy: 0.3662 - loss: 1.5235 - val_accuracy: 0.9158 - val_loss: 0.7972\n",
      "Epoch 2/10\n",
      "\u001b[1m138/138\u001b[0m \u001b[32m━━━━━━━━━━━━━━━━━━━━\u001b[0m\u001b[37m\u001b[0m \u001b[1m0s\u001b[0m 3ms/step - accuracy: 0.8487 - loss: 0.6461 - val_accuracy: 0.9357 - val_loss: 0.2313\n",
      "Epoch 3/10\n",
      "\u001b[1m138/138\u001b[0m \u001b[32m━━━━━━━━━━━━━━━━━━━━\u001b[0m\u001b[37m\u001b[0m \u001b[1m0s\u001b[0m 2ms/step - accuracy: 0.9405 - loss: 0.2273 - val_accuracy: 0.9538 - val_loss: 0.1579\n",
      "Epoch 4/10\n",
      "\u001b[1m138/138\u001b[0m \u001b[32m━━━━━━━━━━━━━━━━━━━━\u001b[0m\u001b[37m\u001b[0m \u001b[1m0s\u001b[0m 2ms/step - accuracy: 0.9556 - loss: 0.1678 - val_accuracy: 0.9538 - val_loss: 0.1425\n",
      "Epoch 5/10\n",
      "\u001b[1m138/138\u001b[0m \u001b[32m━━━━━━━━━━━━━━━━━━━━\u001b[0m\u001b[37m\u001b[0m \u001b[1m0s\u001b[0m 2ms/step - accuracy: 0.9641 - loss: 0.1306 - val_accuracy: 0.9538 - val_loss: 0.1383\n",
      "Epoch 6/10\n",
      "\u001b[1m138/138\u001b[0m \u001b[32m━━━━━━━━━━━━━━━━━━━━\u001b[0m\u001b[37m\u001b[0m \u001b[1m0s\u001b[0m 2ms/step - accuracy: 0.9733 - loss: 0.1142 - val_accuracy: 0.9547 - val_loss: 0.1339\n",
      "Epoch 7/10\n",
      "\u001b[1m138/138\u001b[0m \u001b[32m━━━━━━━━━━━━━━━━━━━━\u001b[0m\u001b[37m\u001b[0m \u001b[1m0s\u001b[0m 2ms/step - accuracy: 0.9772 - loss: 0.0931 - val_accuracy: 0.9538 - val_loss: 0.1380\n",
      "Epoch 8/10\n",
      "\u001b[1m138/138\u001b[0m \u001b[32m━━━━━━━━━━━━━━━━━━━━\u001b[0m\u001b[37m\u001b[0m \u001b[1m0s\u001b[0m 2ms/step - accuracy: 0.9851 - loss: 0.0643 - val_accuracy: 0.9601 - val_loss: 0.1322\n",
      "Epoch 9/10\n",
      "\u001b[1m138/138\u001b[0m \u001b[32m━━━━━━━━━━━━━━━━━━━━\u001b[0m\u001b[37m\u001b[0m \u001b[1m0s\u001b[0m 3ms/step - accuracy: 0.9869 - loss: 0.0497 - val_accuracy: 0.9592 - val_loss: 0.1359\n",
      "Epoch 10/10\n",
      "\u001b[1m138/138\u001b[0m \u001b[32m━━━━━━━━━━━━━━━━━━━━\u001b[0m\u001b[37m\u001b[0m \u001b[1m0s\u001b[0m 3ms/step - accuracy: 0.9855 - loss: 0.0552 - val_accuracy: 0.9583 - val_loss: 0.1377\n"
     ]
    },
    {
     "data": {
      "text/plain": [
       "<keras.src.callbacks.history.History at 0x1d116a4d7f0>"
      ]
     },
     "execution_count": 431,
     "metadata": {},
     "output_type": "execute_result"
    }
   ],
   "source": [
    "model_best.fit(X_train, y_train, validation_data=(X_test_nn, y_test_nn), epochs=10, batch_size=32)"
   ]
  },
  {
   "cell_type": "code",
   "execution_count": 433,
   "id": "4bbdc9ce-94da-48a8-90bc-7dccb88e5c31",
   "metadata": {},
   "outputs": [
    {
     "name": "stdout",
     "output_type": "stream",
     "text": [
      "\u001b[1m35/35\u001b[0m \u001b[32m━━━━━━━━━━━━━━━━━━━━\u001b[0m\u001b[37m\u001b[0m \u001b[1m0s\u001b[0m 2ms/step - accuracy: 0.9499 - loss: 0.1563 \n",
      "Test Loss: 0.13765276968479156\n",
      "Test Accuracy: 0.9583333134651184\n"
     ]
    }
   ],
   "source": [
    "test_loss, test_accuracy = model_best.evaluate(X_test_nn, y_test_nn, batch_size=32)\n",
    "\n",
    "print(f\"Test Loss: {test_loss}\")\n",
    "print(f\"Test Accuracy: {test_accuracy}\")"
   ]
  },
  {
   "cell_type": "code",
   "execution_count": null,
   "id": "32d19cc8-0c0c-4eda-b592-07f37a43d139",
>>>>>>> main
   "metadata": {},
   "outputs": [],
   "source": []
  }
 ],
 "metadata": {
  "kernelspec": {
   "display_name": "Python 3 (ipykernel)",
   "language": "python",
   "name": "python3"
  },
  "language_info": {
   "codemirror_mode": {
    "name": "ipython",
    "version": 3
   },
   "file_extension": ".py",
   "mimetype": "text/x-python",
   "name": "python",
   "nbconvert_exporter": "python",
   "pygments_lexer": "ipython3",
   "version": "3.12.4"
  }
 },
 "nbformat": 4,
 "nbformat_minor": 5
}
