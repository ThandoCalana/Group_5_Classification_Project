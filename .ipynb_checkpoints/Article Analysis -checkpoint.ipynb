{
 "cells": [
  {
   "cell_type": "markdown",
   "id": "a489c04e",
   "metadata": {},
   "source": [
    "# Project 3 Team 5\n",
    "## Date: 17 January 2025 "
   ]
  },
  {
   "cell_type": "markdown",
   "id": "2b884053",
   "metadata": {},
   "source": [
    "1. Project Overview\n",
    "2. Data Load and preprocessing\n",
    "3. Model training\n",
    "4. Evaluation\n",
    "5. Deployment"
   ]
  },
  {
   "cell_type": "markdown",
   "id": "11ef8bae",
   "metadata": {},
   "source": [
    "### 1. Project Overview"
   ]
  },
  {
   "cell_type": "code",
   "execution_count": null,
   "id": "2028adbd",
   "metadata": {},
   "outputs": [],
   "source": []
  },
  {
   "cell_type": "markdown",
   "id": "3861b463",
   "metadata": {},
   "source": [
    "### 2. Data load and preprocessing \n",
    "#### Packages"
   ]
  },
  {
   "cell_type": "code",
   "execution_count": 29,
   "id": "a4cc6178",
   "metadata": {},
   "outputs": [
    {
     "name": "stdout",
     "output_type": "stream",
     "text": [
      "Defaulting to user installation because normal site-packages is not writeable\n",
      "Collecting scikeras\n",
      "  Obtaining dependency information for scikeras from https://files.pythonhosted.org/packages/ea/09/1c02aa24daf7a003c06f629fbb69dc9ae1bda1b247d7b8981e550d752ac9/scikeras-0.13.0-py3-none-any.whl.metadata\n",
      "  Downloading scikeras-0.13.0-py3-none-any.whl.metadata (3.1 kB)\n",
      "Requirement already satisfied: keras>=3.2.0 in c:\\users\\lebog\\appdata\\roaming\\python\\python311\\site-packages (from scikeras) (3.8.0)\n",
      "Collecting scikit-learn>=1.4.2 (from scikeras)\n",
      "  Obtaining dependency information for scikit-learn>=1.4.2 from https://files.pythonhosted.org/packages/a1/a6/c5b78606743a1f28eae8f11973de6613a5ee87366796583fb74c67d54939/scikit_learn-1.6.1-cp311-cp311-win_amd64.whl.metadata\n",
      "  Downloading scikit_learn-1.6.1-cp311-cp311-win_amd64.whl.metadata (15 kB)\n",
      "Requirement already satisfied: absl-py in c:\\users\\lebog\\appdata\\roaming\\python\\python311\\site-packages (from keras>=3.2.0->scikeras) (2.1.0)\n",
      "Requirement already satisfied: numpy in c:\\users\\lebog\\appdata\\roaming\\python\\python311\\site-packages (from keras>=3.2.0->scikeras) (2.0.2)\n",
      "Requirement already satisfied: rich in c:\\users\\lebog\\appdata\\roaming\\python\\python311\\site-packages (from keras>=3.2.0->scikeras) (13.9.4)\n",
      "Requirement already satisfied: namex in c:\\users\\lebog\\appdata\\roaming\\python\\python311\\site-packages (from keras>=3.2.0->scikeras) (0.0.8)\n",
      "Requirement already satisfied: h5py in c:\\users\\lebog\\appdata\\roaming\\python\\python311\\site-packages (from keras>=3.2.0->scikeras) (3.12.1)\n",
      "Requirement already satisfied: optree in c:\\users\\lebog\\appdata\\roaming\\python\\python311\\site-packages (from keras>=3.2.0->scikeras) (0.14.0)\n",
      "Requirement already satisfied: ml-dtypes in c:\\users\\lebog\\appdata\\roaming\\python\\python311\\site-packages (from keras>=3.2.0->scikeras) (0.4.1)\n",
      "Requirement already satisfied: packaging in c:\\programdata\\anaconda3\\lib\\site-packages (from keras>=3.2.0->scikeras) (23.1)\n",
      "Requirement already satisfied: scipy>=1.6.0 in c:\\programdata\\anaconda3\\lib\\site-packages (from scikit-learn>=1.4.2->scikeras) (1.11.1)\n",
      "Requirement already satisfied: joblib>=1.2.0 in c:\\programdata\\anaconda3\\lib\\site-packages (from scikit-learn>=1.4.2->scikeras) (1.2.0)\n",
      "Collecting threadpoolctl>=3.1.0 (from scikit-learn>=1.4.2->scikeras)\n",
      "  Obtaining dependency information for threadpoolctl>=3.1.0 from https://files.pythonhosted.org/packages/4b/2c/ffbf7a134b9ab11a67b0cf0726453cedd9c5043a4fe7a35d1cefa9a1bcfb/threadpoolctl-3.5.0-py3-none-any.whl.metadata\n",
      "  Downloading threadpoolctl-3.5.0-py3-none-any.whl.metadata (13 kB)\n",
      "Collecting numpy (from keras>=3.2.0->scikeras)\n",
      "  Obtaining dependency information for numpy from https://files.pythonhosted.org/packages/3f/6b/5610004206cf7f8e7ad91c5a85a8c71b2f2f8051a0c0c4d5916b76d6cbb2/numpy-1.26.4-cp311-cp311-win_amd64.whl.metadata\n",
      "  Downloading numpy-1.26.4-cp311-cp311-win_amd64.whl.metadata (61 kB)\n",
      "     ---------------------------------------- 0.0/61.0 kB ? eta -:--:--\n",
      "     ---------------------------------------- 61.0/61.0 kB 1.6 MB/s eta 0:00:00\n",
      "Requirement already satisfied: typing-extensions>=4.5.0 in c:\\programdata\\anaconda3\\lib\\site-packages (from optree->keras>=3.2.0->scikeras) (4.7.1)\n",
      "Requirement already satisfied: markdown-it-py>=2.2.0 in c:\\programdata\\anaconda3\\lib\\site-packages (from rich->keras>=3.2.0->scikeras) (2.2.0)\n",
      "Requirement already satisfied: pygments<3.0.0,>=2.13.0 in c:\\programdata\\anaconda3\\lib\\site-packages (from rich->keras>=3.2.0->scikeras) (2.15.1)\n",
      "Requirement already satisfied: mdurl~=0.1 in c:\\programdata\\anaconda3\\lib\\site-packages (from markdown-it-py>=2.2.0->rich->keras>=3.2.0->scikeras) (0.1.0)\n",
      "Downloading scikeras-0.13.0-py3-none-any.whl (26 kB)\n",
      "Downloading scikit_learn-1.6.1-cp311-cp311-win_amd64.whl (11.1 MB)\n",
      "   ---------------------------------------- 0.0/11.1 MB ? eta -:--:--\n",
      "   ---------------------------------------- 0.1/11.1 MB 3.6 MB/s eta 0:00:04\n",
      "   - -------------------------------------- 0.4/11.1 MB 4.9 MB/s eta 0:00:03\n",
      "   -- ------------------------------------- 0.6/11.1 MB 3.9 MB/s eta 0:00:03\n",
      "   -- ------------------------------------- 0.7/11.1 MB 4.8 MB/s eta 0:00:03\n",
      "   --- ------------------------------------ 1.1/11.1 MB 4.6 MB/s eta 0:00:03\n",
      "   ----- ---------------------------------- 1.5/11.1 MB 6.2 MB/s eta 0:00:02\n",
      "   ----- ---------------------------------- 1.5/11.1 MB 4.5 MB/s eta 0:00:03\n",
      "   --------- ------------------------------ 2.5/11.1 MB 7.3 MB/s eta 0:00:02\n",
      "   ---------- ----------------------------- 3.1/11.1 MB 7.2 MB/s eta 0:00:02\n",
      "   -------------- ------------------------- 4.0/11.1 MB 8.6 MB/s eta 0:00:01\n",
      "   ------------------ --------------------- 5.0/11.1 MB 9.8 MB/s eta 0:00:01\n",
      "   ----------------------- ---------------- 6.6/11.1 MB 11.7 MB/s eta 0:00:01\n",
      "   ---------------------------- ----------- 7.9/11.1 MB 12.9 MB/s eta 0:00:01\n",
      "   -------------------------------- ------- 9.2/11.1 MB 14.0 MB/s eta 0:00:01\n",
      "   ------------------------------------- -- 10.4/11.1 MB 16.4 MB/s eta 0:00:01\n",
      "   ---------------------------------------  11.1/11.1 MB 21.1 MB/s eta 0:00:01\n",
      "   ---------------------------------------- 11.1/11.1 MB 19.3 MB/s eta 0:00:00\n",
      "Downloading numpy-1.26.4-cp311-cp311-win_amd64.whl (15.8 MB)\n",
      "   ---------------------------------------- 0.0/15.8 MB ? eta -:--:--\n",
      "    --------------------------------------- 0.3/15.8 MB ? eta -:--:--\n",
      "    --------------------------------------- 0.3/15.8 MB ? eta -:--:--\n",
      "    --------------------------------------- 0.3/15.8 MB ? eta -:--:--\n",
      "    --------------------------------------- 0.3/15.8 MB ? eta -:--:--\n",
      "   -- ------------------------------------- 0.9/15.8 MB 4.0 MB/s eta 0:00:04\n",
      "   ---- ----------------------------------- 1.8/15.8 MB 6.9 MB/s eta 0:00:03\n",
      "   ------- -------------------------------- 3.0/15.8 MB 9.4 MB/s eta 0:00:02\n",
      "   ---------- ----------------------------- 4.2/15.8 MB 11.6 MB/s eta 0:00:01\n",
      "   ------------- -------------------------- 5.3/15.8 MB 13.0 MB/s eta 0:00:01\n",
      "   ------------- -------------------------- 5.5/15.8 MB 13.5 MB/s eta 0:00:01\n",
      "   -------------- ------------------------- 5.9/15.8 MB 11.7 MB/s eta 0:00:01\n",
      "   ----------------- ---------------------- 6.8/15.8 MB 12.4 MB/s eta 0:00:01\n",
      "   --------------------- ------------------ 8.3/15.8 MB 14.4 MB/s eta 0:00:01\n",
      "   ---------------------------- ----------- 11.1/15.8 MB 25.2 MB/s eta 0:00:01\n",
      "   ------------------------------- -------- 12.4/15.8 MB 25.1 MB/s eta 0:00:01\n",
      "   ---------------------------------- ----- 13.6/15.8 MB 25.2 MB/s eta 0:00:01\n",
      "   ------------------------------------ --- 14.3/15.8 MB 24.2 MB/s eta 0:00:01\n",
      "   ------------------------------------ --- 14.5/15.8 MB 24.2 MB/s eta 0:00:01\n",
      "   ------------------------------------ --- 14.5/15.8 MB 24.2 MB/s eta 0:00:01\n",
      "   ------------------------------------ --- 14.5/15.8 MB 24.2 MB/s eta 0:00:01\n",
      "   ------------------------------------- -- 14.7/15.8 MB 17.7 MB/s eta 0:00:01\n",
      "   ------------------------------------- -- 14.7/15.8 MB 17.7 MB/s eta 0:00:01\n",
      "   ---------------------------------------  15.8/15.8 MB 17.7 MB/s eta 0:00:01\n",
      "   ---------------------------------------- 15.8/15.8 MB 16.4 MB/s eta 0:00:00\n",
      "Downloading threadpoolctl-3.5.0-py3-none-any.whl (18 kB)\n",
      "Installing collected packages: threadpoolctl, numpy, scikit-learn, scikeras\n",
      "  Attempting uninstall: numpy\n",
      "    Found existing installation: numpy 2.0.2\n",
      "    Uninstalling numpy-2.0.2:\n",
      "      Successfully uninstalled numpy-2.0.2\n",
      "Successfully installed numpy-1.26.4 scikeras-0.13.0 scikit-learn-1.6.1 threadpoolctl-3.5.0\n",
      "Note: you may need to restart the kernel to use updated packages.\n"
     ]
    },
    {
     "name": "stderr",
     "output_type": "stream",
     "text": [
      "  WARNING: The script f2py.exe is installed in 'C:\\Users\\lebog\\AppData\\Roaming\\Python\\Python311\\Scripts' which is not on PATH.\n",
      "  Consider adding this directory to PATH or, if you prefer to suppress this warning, use --no-warn-script-location.\n",
      "ERROR: pip's dependency resolver does not currently take into account all the packages that are installed. This behaviour is the source of the following dependency conflicts.\n",
      "gensim 4.3.0 requires FuzzyTM>=0.4.0, which is not installed.\n",
      "tables 3.8.0 requires blosc2~=2.0.0, which is not installed.\n",
      "tables 3.8.0 requires cython>=0.29.21, which is not installed.\n",
      "numba 0.57.1 requires numpy<1.25,>=1.21, but you have numpy 1.26.4 which is incompatible.\n"
     ]
    }
   ],
   "source": [
    "pip install scikeras "
   ]
  },
  {
   "cell_type": "code",
   "execution_count": 2,
   "id": "3e3b0b20",
   "metadata": {},
   "outputs": [
    {
     "name": "stdout",
     "output_type": "stream",
     "text": [
      "Note: you may need to restart the kernel to use updated packages.\n",
      "Defaulting to user installation because normal site-packages is not writeable\n",
      "Collecting tensorflow\n",
      "  Obtaining dependency information for tensorflow from https://files.pythonhosted.org/packages/cf/24/271e77c22724f370c24c705f394b8035b4d27e4c2c6339f3f45ab9b8258e/tensorflow-2.18.0-cp311-cp311-win_amd64.whl.metadata\n",
      "  Downloading tensorflow-2.18.0-cp311-cp311-win_amd64.whl.metadata (3.3 kB)\n",
      "Collecting tensorflow-intel==2.18.0 (from tensorflow)\n",
      "  Obtaining dependency information for tensorflow-intel==2.18.0 from https://files.pythonhosted.org/packages/76/ad/fa6c508a15ff79cb5409294c293388e0999b7d480f84b65e4287277434fe/tensorflow_intel-2.18.0-cp311-cp311-win_amd64.whl.metadata\n",
      "  Downloading tensorflow_intel-2.18.0-cp311-cp311-win_amd64.whl.metadata (4.9 kB)\n",
      "Collecting absl-py>=1.0.0 (from tensorflow-intel==2.18.0->tensorflow)\n",
      "  Obtaining dependency information for absl-py>=1.0.0 from https://files.pythonhosted.org/packages/a2/ad/e0d3c824784ff121c03cc031f944bc7e139a8f1870ffd2845cc2dd76f6c4/absl_py-2.1.0-py3-none-any.whl.metadata\n",
      "  Downloading absl_py-2.1.0-py3-none-any.whl.metadata (2.3 kB)\n",
      "Collecting astunparse>=1.6.0 (from tensorflow-intel==2.18.0->tensorflow)\n",
      "  Obtaining dependency information for astunparse>=1.6.0 from https://files.pythonhosted.org/packages/2b/03/13dde6512ad7b4557eb792fbcf0c653af6076b81e5941d36ec61f7ce6028/astunparse-1.6.3-py2.py3-none-any.whl.metadata\n",
      "  Downloading astunparse-1.6.3-py2.py3-none-any.whl.metadata (4.4 kB)\n",
      "Collecting flatbuffers>=24.3.25 (from tensorflow-intel==2.18.0->tensorflow)\n",
      "  Obtaining dependency information for flatbuffers>=24.3.25 from https://files.pythonhosted.org/packages/0e/e2/b066e6e02d67bf5261a6d7539648c6da3365cc9eff3eb6d82009595d84d9/flatbuffers-25.1.24-py2.py3-none-any.whl.metadata\n",
      "  Downloading flatbuffers-25.1.24-py2.py3-none-any.whl.metadata (875 bytes)\n",
      "Collecting gast!=0.5.0,!=0.5.1,!=0.5.2,>=0.2.1 (from tensorflow-intel==2.18.0->tensorflow)\n",
      "  Obtaining dependency information for gast!=0.5.0,!=0.5.1,!=0.5.2,>=0.2.1 from https://files.pythonhosted.org/packages/a3/61/8001b38461d751cd1a0c3a6ae84346796a5758123f3ed97a1b121dfbf4f3/gast-0.6.0-py3-none-any.whl.metadata\n",
      "  Downloading gast-0.6.0-py3-none-any.whl.metadata (1.3 kB)\n",
      "Collecting google-pasta>=0.1.1 (from tensorflow-intel==2.18.0->tensorflow)\n",
      "  Obtaining dependency information for google-pasta>=0.1.1 from https://files.pythonhosted.org/packages/a3/de/c648ef6835192e6e2cc03f40b19eeda4382c49b5bafb43d88b931c4c74ac/google_pasta-0.2.0-py3-none-any.whl.metadata\n",
      "  Downloading google_pasta-0.2.0-py3-none-any.whl.metadata (814 bytes)\n",
      "Collecting libclang>=13.0.0 (from tensorflow-intel==2.18.0->tensorflow)\n",
      "  Obtaining dependency information for libclang>=13.0.0 from https://files.pythonhosted.org/packages/0b/2d/3f480b1e1d31eb3d6de5e3ef641954e5c67430d5ac93b7fa7e07589576c7/libclang-18.1.1-py2.py3-none-win_amd64.whl.metadata\n",
      "  Downloading libclang-18.1.1-py2.py3-none-win_amd64.whl.metadata (5.3 kB)\n",
      "Collecting opt-einsum>=2.3.2 (from tensorflow-intel==2.18.0->tensorflow)\n",
      "  Obtaining dependency information for opt-einsum>=2.3.2 from https://files.pythonhosted.org/packages/23/cd/066e86230ae37ed0be70aae89aabf03ca8d9f39c8aea0dec8029455b5540/opt_einsum-3.4.0-py3-none-any.whl.metadata\n",
      "  Downloading opt_einsum-3.4.0-py3-none-any.whl.metadata (6.3 kB)\n",
      "Requirement already satisfied: packaging in c:\\programdata\\anaconda3\\lib\\site-packages (from tensorflow-intel==2.18.0->tensorflow) (23.1)\n",
      "Requirement already satisfied: protobuf!=4.21.0,!=4.21.1,!=4.21.2,!=4.21.3,!=4.21.4,!=4.21.5,<6.0.0dev,>=3.20.3 in c:\\users\\lebog\\appdata\\roaming\\python\\python311\\site-packages (from tensorflow-intel==2.18.0->tensorflow) (5.28.2)\n",
      "Requirement already satisfied: requests<3,>=2.21.0 in c:\\programdata\\anaconda3\\lib\\site-packages (from tensorflow-intel==2.18.0->tensorflow) (2.31.0)\n",
      "Requirement already satisfied: setuptools in c:\\programdata\\anaconda3\\lib\\site-packages (from tensorflow-intel==2.18.0->tensorflow) (68.0.0)\n",
      "Requirement already satisfied: six>=1.12.0 in c:\\programdata\\anaconda3\\lib\\site-packages (from tensorflow-intel==2.18.0->tensorflow) (1.16.0)\n",
      "Collecting termcolor>=1.1.0 (from tensorflow-intel==2.18.0->tensorflow)\n",
      "  Obtaining dependency information for termcolor>=1.1.0 from https://files.pythonhosted.org/packages/7f/be/df630c387a0a054815d60be6a97eb4e8f17385d5d6fe660e1c02750062b4/termcolor-2.5.0-py3-none-any.whl.metadata\n",
      "  Downloading termcolor-2.5.0-py3-none-any.whl.metadata (6.1 kB)\n",
      "Requirement already satisfied: typing-extensions>=3.6.6 in c:\\programdata\\anaconda3\\lib\\site-packages (from tensorflow-intel==2.18.0->tensorflow) (4.7.1)\n",
      "Requirement already satisfied: wrapt>=1.11.0 in c:\\programdata\\anaconda3\\lib\\site-packages (from tensorflow-intel==2.18.0->tensorflow) (1.14.1)\n",
      "Requirement already satisfied: grpcio<2.0,>=1.24.3 in c:\\users\\lebog\\appdata\\roaming\\python\\python311\\site-packages (from tensorflow-intel==2.18.0->tensorflow) (1.66.2)\n",
      "Collecting tensorboard<2.19,>=2.18 (from tensorflow-intel==2.18.0->tensorflow)\n",
      "  Obtaining dependency information for tensorboard<2.19,>=2.18 from https://files.pythonhosted.org/packages/b1/de/021c1d407befb505791764ad2cbd56ceaaa53a746baed01d2e2143f05f18/tensorboard-2.18.0-py3-none-any.whl.metadata\n",
      "  Downloading tensorboard-2.18.0-py3-none-any.whl.metadata (1.6 kB)\n",
      "Collecting keras>=3.5.0 (from tensorflow-intel==2.18.0->tensorflow)\n",
      "  Obtaining dependency information for keras>=3.5.0 from https://files.pythonhosted.org/packages/fe/cf/aea9087c4d7fafe956a0cc0ff6c3327d10fb8442cda50f992a2186921fa0/keras-3.8.0-py3-none-any.whl.metadata\n",
      "  Downloading keras-3.8.0-py3-none-any.whl.metadata (5.8 kB)\n",
      "Collecting numpy<2.1.0,>=1.26.0 (from tensorflow-intel==2.18.0->tensorflow)\n",
      "  Obtaining dependency information for numpy<2.1.0,>=1.26.0 from https://files.pythonhosted.org/packages/eb/57/3a3f14d3a759dcf9bf6e9eda905794726b758819df4663f217d658a58695/numpy-2.0.2-cp311-cp311-win_amd64.whl.metadata\n",
      "  Downloading numpy-2.0.2-cp311-cp311-win_amd64.whl.metadata (59 kB)\n",
      "     ---------------------------------------- 0.0/59.7 kB ? eta -:--:--\n",
      "     ---------------------------------------- 59.7/59.7 kB 3.1 MB/s eta 0:00:00\n",
      "Collecting h5py>=3.11.0 (from tensorflow-intel==2.18.0->tensorflow)\n",
      "  Obtaining dependency information for h5py>=3.11.0 from https://files.pythonhosted.org/packages/1d/4d/cbd3014eb78d1e449b29beba1f3293a841aa8086c6f7968c383c2c7ff076/h5py-3.12.1-cp311-cp311-win_amd64.whl.metadata\n",
      "  Downloading h5py-3.12.1-cp311-cp311-win_amd64.whl.metadata (2.5 kB)\n",
      "Collecting ml-dtypes<0.5.0,>=0.4.0 (from tensorflow-intel==2.18.0->tensorflow)\n",
      "  Obtaining dependency information for ml-dtypes<0.5.0,>=0.4.0 from https://files.pythonhosted.org/packages/e8/d3/ddfd9878b223b3aa9a930c6100a99afca5cfab7ea703662e00323acb7568/ml_dtypes-0.4.1-cp311-cp311-win_amd64.whl.metadata\n",
      "  Downloading ml_dtypes-0.4.1-cp311-cp311-win_amd64.whl.metadata (20 kB)\n",
      "Collecting tensorflow-io-gcs-filesystem>=0.23.1 (from tensorflow-intel==2.18.0->tensorflow)\n",
      "  Obtaining dependency information for tensorflow-io-gcs-filesystem>=0.23.1 from https://files.pythonhosted.org/packages/ac/4e/9566a313927be582ca99455a9523a097c7888fc819695bdc08415432b202/tensorflow_io_gcs_filesystem-0.31.0-cp311-cp311-win_amd64.whl.metadata\n",
      "  Downloading tensorflow_io_gcs_filesystem-0.31.0-cp311-cp311-win_amd64.whl.metadata (14 kB)\n",
      "Requirement already satisfied: wheel<1.0,>=0.23.0 in c:\\programdata\\anaconda3\\lib\\site-packages (from astunparse>=1.6.0->tensorflow-intel==2.18.0->tensorflow) (0.38.4)\n",
      "Collecting rich (from keras>=3.5.0->tensorflow-intel==2.18.0->tensorflow)\n",
      "  Obtaining dependency information for rich from https://files.pythonhosted.org/packages/19/71/39c7c0d87f8d4e6c020a393182060eaefeeae6c01dab6a84ec346f2567df/rich-13.9.4-py3-none-any.whl.metadata\n",
      "  Downloading rich-13.9.4-py3-none-any.whl.metadata (18 kB)\n",
      "Collecting namex (from keras>=3.5.0->tensorflow-intel==2.18.0->tensorflow)\n",
      "  Obtaining dependency information for namex from https://files.pythonhosted.org/packages/73/59/7854fbfb59f8ae35483ce93493708be5942ebb6328cd85b3a609df629736/namex-0.0.8-py3-none-any.whl.metadata\n",
      "  Downloading namex-0.0.8-py3-none-any.whl.metadata (246 bytes)\n",
      "Collecting optree (from keras>=3.5.0->tensorflow-intel==2.18.0->tensorflow)\n",
      "  Obtaining dependency information for optree from https://files.pythonhosted.org/packages/af/c2/811b76e321b3a83828fa63da17e3409d577ce7d0366a601d913eaeb49679/optree-0.14.0-cp311-cp311-win_amd64.whl.metadata\n",
      "  Downloading optree-0.14.0-cp311-cp311-win_amd64.whl.metadata (48 kB)\n",
      "     ---------------------------------------- 0.0/48.6 kB ? eta -:--:--\n",
      "     ---------------------------------------- 48.6/48.6 kB 2.4 MB/s eta 0:00:00\n",
      "Requirement already satisfied: charset-normalizer<4,>=2 in c:\\programdata\\anaconda3\\lib\\site-packages (from requests<3,>=2.21.0->tensorflow-intel==2.18.0->tensorflow) (2.0.4)\n",
      "Requirement already satisfied: idna<4,>=2.5 in c:\\programdata\\anaconda3\\lib\\site-packages (from requests<3,>=2.21.0->tensorflow-intel==2.18.0->tensorflow) (3.4)\n",
      "Requirement already satisfied: urllib3<3,>=1.21.1 in c:\\programdata\\anaconda3\\lib\\site-packages (from requests<3,>=2.21.0->tensorflow-intel==2.18.0->tensorflow) (1.26.16)\n",
      "Requirement already satisfied: certifi>=2017.4.17 in c:\\programdata\\anaconda3\\lib\\site-packages (from requests<3,>=2.21.0->tensorflow-intel==2.18.0->tensorflow) (2024.7.4)\n",
      "Requirement already satisfied: markdown>=2.6.8 in c:\\programdata\\anaconda3\\lib\\site-packages (from tensorboard<2.19,>=2.18->tensorflow-intel==2.18.0->tensorflow) (3.4.1)\n",
      "Collecting tensorboard-data-server<0.8.0,>=0.7.0 (from tensorboard<2.19,>=2.18->tensorflow-intel==2.18.0->tensorflow)\n",
      "  Obtaining dependency information for tensorboard-data-server<0.8.0,>=0.7.0 from https://files.pythonhosted.org/packages/7a/13/e503968fefabd4c6b2650af21e110aa8466fe21432cd7c43a84577a89438/tensorboard_data_server-0.7.2-py3-none-any.whl.metadata\n",
      "  Downloading tensorboard_data_server-0.7.2-py3-none-any.whl.metadata (1.1 kB)\n",
      "Requirement already satisfied: werkzeug>=1.0.1 in c:\\programdata\\anaconda3\\lib\\site-packages (from tensorboard<2.19,>=2.18->tensorflow-intel==2.18.0->tensorflow) (2.2.3)\n",
      "Requirement already satisfied: MarkupSafe>=2.1.1 in c:\\programdata\\anaconda3\\lib\\site-packages (from werkzeug>=1.0.1->tensorboard<2.19,>=2.18->tensorflow-intel==2.18.0->tensorflow) (2.1.1)\n",
      "Requirement already satisfied: markdown-it-py>=2.2.0 in c:\\programdata\\anaconda3\\lib\\site-packages (from rich->keras>=3.5.0->tensorflow-intel==2.18.0->tensorflow) (2.2.0)\n",
      "Requirement already satisfied: pygments<3.0.0,>=2.13.0 in c:\\programdata\\anaconda3\\lib\\site-packages (from rich->keras>=3.5.0->tensorflow-intel==2.18.0->tensorflow) (2.15.1)\n",
      "Requirement already satisfied: mdurl~=0.1 in c:\\programdata\\anaconda3\\lib\\site-packages (from markdown-it-py>=2.2.0->rich->keras>=3.5.0->tensorflow-intel==2.18.0->tensorflow) (0.1.0)\n",
      "Downloading tensorflow-2.18.0-cp311-cp311-win_amd64.whl (7.5 kB)\n",
      "Downloading tensorflow_intel-2.18.0-cp311-cp311-win_amd64.whl (390.2 MB)\n",
      "   ---------------------------------------- 0.0/390.2 MB ? eta -:--:--\n",
      "   ---------------------------------------- 0.2/390.2 MB 6.9 MB/s eta 0:00:57\n",
      "   ---------------------------------------- 0.4/390.2 MB 6.3 MB/s eta 0:01:03\n",
      "   ---------------------------------------- 0.8/390.2 MB 6.6 MB/s eta 0:01:00\n",
      "   ---------------------------------------- 0.9/390.2 MB 6.0 MB/s eta 0:01:06\n",
      "   ---------------------------------------- 1.5/390.2 MB 6.9 MB/s eta 0:00:57\n",
      "   ---------------------------------------- 2.1/390.2 MB 7.8 MB/s eta 0:00:50\n",
      "   ---------------------------------------- 2.6/390.2 MB 8.7 MB/s eta 0:00:45\n",
      "   ---------------------------------------- 3.6/390.2 MB 10.0 MB/s eta 0:00:39\n",
      "   ---------------------------------------- 4.6/390.2 MB 11.2 MB/s eta 0:00:35\n",
      "    --------------------------------------- 6.0/390.2 MB 13.3 MB/s eta 0:00:29\n",
      "    --------------------------------------- 7.3/390.2 MB 14.7 MB/s eta 0:00:27\n",
      "    --------------------------------------- 9.2/390.2 MB 16.9 MB/s eta 0:00:23\n",
      "    --------------------------------------- 9.7/390.2 MB 17.2 MB/s eta 0:00:23\n",
      "   - -------------------------------------- 9.9/390.2 MB 15.9 MB/s eta 0:00:24\n",
      "   - -------------------------------------- 11.8/390.2 MB 24.2 MB/s eta 0:00:16\n",
      "   - -------------------------------------- 14.1/390.2 MB 29.8 MB/s eta 0:00:13\n",
      "   - -------------------------------------- 15.7/390.2 MB 31.2 MB/s eta 0:00:13\n",
      "   - -------------------------------------- 16.2/390.2 MB 29.7 MB/s eta 0:00:13\n",
      "   - -------------------------------------- 16.8/390.2 MB 26.2 MB/s eta 0:00:15\n",
      "   -- ------------------------------------- 19.6/390.2 MB 28.5 MB/s eta 0:00:14\n",
      "   -- ------------------------------------- 21.3/390.2 MB 34.4 MB/s eta 0:00:11\n",
      "   -- ------------------------------------- 22.7/390.2 MB 32.7 MB/s eta 0:00:12\n",
      "   -- ------------------------------------- 22.8/390.2 MB 31.2 MB/s eta 0:00:12\n",
      "   -- ------------------------------------- 23.4/390.2 MB 26.2 MB/s eta 0:00:14\n",
      "   -- ------------------------------------- 23.9/390.2 MB 24.2 MB/s eta 0:00:16\n",
      "   -- ------------------------------------- 23.9/390.2 MB 24.2 MB/s eta 0:00:16\n",
      "   -- ------------------------------------- 24.9/390.2 MB 21.1 MB/s eta 0:00:18\n",
      "   -- ------------------------------------- 26.7/390.2 MB 24.2 MB/s eta 0:00:15\n",
      "   -- ------------------------------------- 28.1/390.2 MB 24.2 MB/s eta 0:00:15\n",
      "   -- ------------------------------------- 28.2/390.2 MB 21.1 MB/s eta 0:00:18\n",
      "   --- ------------------------------------ 30.5/390.2 MB 21.1 MB/s eta 0:00:18\n",
      "   --- ------------------------------------ 33.0/390.2 MB 22.6 MB/s eta 0:00:16\n",
      "   --- ------------------------------------ 34.4/390.2 MB 34.4 MB/s eta 0:00:11\n",
      "   --- ------------------------------------ 35.3/390.2 MB 32.8 MB/s eta 0:00:11\n",
      "   --- ------------------------------------ 36.3/390.2 MB 29.7 MB/s eta 0:00:12\n",
      "   --- ------------------------------------ 37.7/390.2 MB 28.5 MB/s eta 0:00:13\n",
      "   --- ------------------------------------ 38.2/390.2 MB 28.4 MB/s eta 0:00:13\n",
      "   --- ------------------------------------ 38.2/390.2 MB 28.4 MB/s eta 0:00:13\n",
      "   --- ------------------------------------ 38.3/390.2 MB 21.1 MB/s eta 0:00:17\n",
      "   ---- ----------------------------------- 40.6/390.2 MB 24.3 MB/s eta 0:00:15\n",
      "   ---- ----------------------------------- 43.2/390.2 MB 24.2 MB/s eta 0:00:15\n",
      "   ---- ----------------------------------- 45.2/390.2 MB 26.2 MB/s eta 0:00:14\n",
      "   ---- ----------------------------------- 45.5/390.2 MB 27.3 MB/s eta 0:00:13\n",
      "   ---- ----------------------------------- 46.3/390.2 MB 25.2 MB/s eta 0:00:14\n",
      "   ----- ---------------------------------- 48.8/390.2 MB 40.9 MB/s eta 0:00:09\n",
      "   ----- ---------------------------------- 51.0/390.2 MB 38.5 MB/s eta 0:00:09\n",
      "   ----- ---------------------------------- 52.8/390.2 MB 36.4 MB/s eta 0:00:10\n",
      "   ----- ---------------------------------- 52.9/390.2 MB 31.2 MB/s eta 0:00:11\n",
      "   ----- ---------------------------------- 54.9/390.2 MB 31.2 MB/s eta 0:00:11\n",
      "   ----- ---------------------------------- 57.0/390.2 MB 38.5 MB/s eta 0:00:09\n",
      "   ----- ---------------------------------- 57.9/390.2 MB 34.6 MB/s eta 0:00:10\n",
      "   ----- ---------------------------------- 58.3/390.2 MB 32.7 MB/s eta 0:00:11\n",
      "   ------ --------------------------------- 59.4/390.2 MB 28.5 MB/s eta 0:00:12\n",
      "   ------ --------------------------------- 61.1/390.2 MB 27.3 MB/s eta 0:00:13\n",
      "   ------ --------------------------------- 63.8/390.2 MB 34.4 MB/s eta 0:00:10\n",
      "   ------ --------------------------------- 64.6/390.2 MB 31.2 MB/s eta 0:00:11\n",
      "   ------ --------------------------------- 66.0/390.2 MB 29.7 MB/s eta 0:00:11\n",
      "   ------ --------------------------------- 67.9/390.2 MB 29.7 MB/s eta 0:00:11\n",
      "   ------- -------------------------------- 69.4/390.2 MB 36.4 MB/s eta 0:00:09\n",
      "   ------- -------------------------------- 70.8/390.2 MB 36.3 MB/s eta 0:00:09\n",
      "   ------- -------------------------------- 71.0/390.2 MB 36.4 MB/s eta 0:00:09\n",
      "   ------- -------------------------------- 71.3/390.2 MB 28.5 MB/s eta 0:00:12\n",
      "   ------- -------------------------------- 73.4/390.2 MB 27.3 MB/s eta 0:00:12\n",
      "   ------- -------------------------------- 75.7/390.2 MB 29.7 MB/s eta 0:00:11\n",
      "   ------- -------------------------------- 77.1/390.2 MB 29.7 MB/s eta 0:00:11\n",
      "   ------- -------------------------------- 77.1/390.2 MB 29.7 MB/s eta 0:00:11\n",
      "   ------- -------------------------------- 77.6/390.2 MB 26.2 MB/s eta 0:00:12\n",
      "   ------- -------------------------------- 77.6/390.2 MB 26.2 MB/s eta 0:00:12\n",
      "   -------- ------------------------------- 79.4/390.2 MB 21.8 MB/s eta 0:00:15\n",
      "   -------- ------------------------------- 82.2/390.2 MB 28.5 MB/s eta 0:00:11\n",
      "   -------- ------------------------------- 84.6/390.2 MB 29.8 MB/s eta 0:00:11\n",
      "   -------- ------------------------------- 85.1/390.2 MB 29.7 MB/s eta 0:00:11\n",
      "   -------- ------------------------------- 85.3/390.2 MB 24.2 MB/s eta 0:00:13\n",
      "   -------- ------------------------------- 87.4/390.2 MB 28.5 MB/s eta 0:00:11\n",
      "   --------- ------------------------------ 89.8/390.2 MB 38.5 MB/s eta 0:00:08\n",
      "   --------- ------------------------------ 90.4/390.2 MB 36.4 MB/s eta 0:00:09\n",
      "   --------- ------------------------------ 90.6/390.2 MB 28.4 MB/s eta 0:00:11\n",
      "   --------- ------------------------------ 93.0/390.2 MB 28.5 MB/s eta 0:00:11\n",
      "   --------- ------------------------------ 95.4/390.2 MB 34.4 MB/s eta 0:00:09\n",
      "   --------- ------------------------------ 97.1/390.2 MB 34.4 MB/s eta 0:00:09\n",
      "   ---------- ----------------------------- 97.6/390.2 MB 31.2 MB/s eta 0:00:10\n",
      "   ---------- ----------------------------- 98.6/390.2 MB 28.5 MB/s eta 0:00:11\n",
      "   ---------- ----------------------------- 99.7/390.2 MB 26.2 MB/s eta 0:00:12\n",
      "   ---------- ---------------------------- 100.2/390.2 MB 25.2 MB/s eta 0:00:12\n",
      "   ---------- ---------------------------- 100.2/390.2 MB 25.2 MB/s eta 0:00:12\n",
      "   ---------- ---------------------------- 101.0/390.2 MB 25.2 MB/s eta 0:00:12\n",
      "   ---------- ---------------------------- 103.0/390.2 MB 25.1 MB/s eta 0:00:12\n",
      "   ---------- ---------------------------- 103.0/390.2 MB 25.1 MB/s eta 0:00:12\n",
      "   ---------- ---------------------------- 103.0/390.2 MB 25.1 MB/s eta 0:00:12\n",
      "   ---------- ---------------------------- 103.2/390.2 MB 18.7 MB/s eta 0:00:16\n",
      "   ---------- ---------------------------- 105.0/390.2 MB 18.2 MB/s eta 0:00:16\n",
      "   ---------- ---------------------------- 105.1/390.2 MB 16.8 MB/s eta 0:00:17\n",
      "   ---------- ---------------------------- 105.7/390.2 MB 16.4 MB/s eta 0:00:18\n",
      "   ---------- ---------------------------- 106.3/390.2 MB 15.2 MB/s eta 0:00:19\n",
      "   ---------- ---------------------------- 107.6/390.2 MB 15.2 MB/s eta 0:00:19\n",
      "   ---------- ---------------------------- 109.5/390.2 MB 16.8 MB/s eta 0:00:17\n",
      "   ----------- --------------------------- 111.2/390.2 MB 19.9 MB/s eta 0:00:15\n",
      "   ----------- --------------------------- 112.1/390.2 MB 19.8 MB/s eta 0:00:15\n",
      "   ----------- --------------------------- 112.4/390.2 MB 18.2 MB/s eta 0:00:16\n",
      "   ----------- --------------------------- 114.2/390.2 MB 23.4 MB/s eta 0:00:12\n",
      "   ----------- --------------------------- 115.6/390.2 MB 26.2 MB/s eta 0:00:11\n",
      "   ----------- --------------------------- 115.6/390.2 MB 26.2 MB/s eta 0:00:11\n",
      "   ----------- --------------------------- 115.6/390.2 MB 26.2 MB/s eta 0:00:11\n",
      "   ----------- --------------------------- 117.8/390.2 MB 24.2 MB/s eta 0:00:12\n",
      "   ------------ -------------------------- 120.2/390.2 MB 25.2 MB/s eta 0:00:11\n",
      "   ------------ -------------------------- 122.0/390.2 MB 26.2 MB/s eta 0:00:11\n",
      "   ------------ -------------------------- 122.0/390.2 MB 26.2 MB/s eta 0:00:11\n",
      "   ------------ -------------------------- 122.2/390.2 MB 21.1 MB/s eta 0:00:13\n",
      "   ------------ -------------------------- 123.4/390.2 MB 23.4 MB/s eta 0:00:12\n",
      "   ------------ -------------------------- 126.5/390.2 MB 32.7 MB/s eta 0:00:09\n",
      "   ------------ -------------------------- 127.7/390.2 MB 29.7 MB/s eta 0:00:09\n",
      "   ------------ -------------------------- 129.2/390.2 MB 29.7 MB/s eta 0:00:09\n",
      "   ------------- ------------------------- 130.6/390.2 MB 28.4 MB/s eta 0:00:10\n",
      "   ------------- ------------------------- 132.0/390.2 MB 27.3 MB/s eta 0:00:10\n",
      "   ------------- ------------------------- 132.4/390.2 MB 34.4 MB/s eta 0:00:08\n",
      "   ------------- ------------------------- 132.4/390.2 MB 34.4 MB/s eta 0:00:08\n",
      "   ------------- ------------------------- 133.9/390.2 MB 28.5 MB/s eta 0:00:09\n",
      "   ------------- ------------------------- 136.2/390.2 MB 27.3 MB/s eta 0:00:10\n",
      "   ------------- ------------------------- 138.2/390.2 MB 28.5 MB/s eta 0:00:09\n",
      "   ------------- ------------------------- 138.6/390.2 MB 28.4 MB/s eta 0:00:09\n",
      "   ------------- ------------------------- 139.0/390.2 MB 24.2 MB/s eta 0:00:11\n",
      "   -------------- ------------------------ 141.3/390.2 MB 25.1 MB/s eta 0:00:10\n",
      "   -------------- ------------------------ 143.1/390.2 MB 34.4 MB/s eta 0:00:08\n",
      "   -------------- ------------------------ 145.5/390.2 MB 34.6 MB/s eta 0:00:08\n",
      "   -------------- ------------------------ 146.2/390.2 MB 34.4 MB/s eta 0:00:08\n",
      "   -------------- ------------------------ 146.8/390.2 MB 28.5 MB/s eta 0:00:09\n",
      "   -------------- ------------------------ 149.6/390.2 MB 38.5 MB/s eta 0:00:07\n",
      "   --------------- ----------------------- 150.5/390.2 MB 36.4 MB/s eta 0:00:07\n",
      "   --------------- ----------------------- 150.5/390.2 MB 36.4 MB/s eta 0:00:07\n",
      "   --------------- ----------------------- 151.9/390.2 MB 28.4 MB/s eta 0:00:09\n",
      "   --------------- ----------------------- 153.4/390.2 MB 28.4 MB/s eta 0:00:09\n",
      "   --------------- ----------------------- 154.3/390.2 MB 26.2 MB/s eta 0:00:09\n",
      "   --------------- ----------------------- 155.8/390.2 MB 25.2 MB/s eta 0:00:10\n",
      "   --------------- ----------------------- 157.4/390.2 MB 28.5 MB/s eta 0:00:09\n",
      "   --------------- ----------------------- 158.6/390.2 MB 26.2 MB/s eta 0:00:09\n",
      "   ---------------- ---------------------- 160.5/390.2 MB 25.2 MB/s eta 0:00:10\n",
      "   ---------------- ---------------------- 161.4/390.2 MB 31.2 MB/s eta 0:00:08\n",
      "   ---------------- ---------------------- 161.4/390.2 MB 31.2 MB/s eta 0:00:08\n",
      "   ---------------- ---------------------- 162.4/390.2 MB 26.2 MB/s eta 0:00:09\n",
      "   ---------------- ---------------------- 162.4/390.2 MB 26.2 MB/s eta 0:00:09\n",
      "   ---------------- ---------------------- 162.4/390.2 MB 26.2 MB/s eta 0:00:09\n",
      "   ---------------- ---------------------- 165.1/390.2 MB 23.4 MB/s eta 0:00:10\n",
      "   ---------------- ---------------------- 165.1/390.2 MB 23.4 MB/s eta 0:00:10\n",
      "   ---------------- ---------------------- 165.5/390.2 MB 18.7 MB/s eta 0:00:13\n",
      "   ---------------- ---------------------- 166.0/390.2 MB 18.2 MB/s eta 0:00:13\n",
      "   ---------------- ---------------------- 168.8/390.2 MB 19.8 MB/s eta 0:00:12\n",
      "   ----------------- --------------------- 171.2/390.2 MB 20.5 MB/s eta 0:00:11\n",
      "   ----------------- --------------------- 173.5/390.2 MB 34.4 MB/s eta 0:00:07\n",
      "   ----------------- --------------------- 174.7/390.2 MB 31.2 MB/s eta 0:00:07\n",
      "   ----------------- --------------------- 174.8/390.2 MB 27.3 MB/s eta 0:00:08\n",
      "   ----------------- --------------------- 176.4/390.2 MB 38.6 MB/s eta 0:00:06\n",
      "   ----------------- --------------------- 178.8/390.2 MB 36.4 MB/s eta 0:00:06\n",
      "   ------------------ -------------------- 180.3/390.2 MB 34.4 MB/s eta 0:00:07\n",
      "   ------------------ -------------------- 180.6/390.2 MB 32.7 MB/s eta 0:00:07\n",
      "   ------------------ -------------------- 181.7/390.2 MB 28.5 MB/s eta 0:00:08\n",
      "   ------------------ -------------------- 183.7/390.2 MB 27.3 MB/s eta 0:00:08\n",
      "   ------------------ -------------------- 184.0/390.2 MB 25.1 MB/s eta 0:00:09\n",
      "   ------------------ -------------------- 185.3/390.2 MB 29.7 MB/s eta 0:00:07\n",
      "   ------------------ -------------------- 187.2/390.2 MB 28.5 MB/s eta 0:00:08\n",
      "   ------------------ -------------------- 188.9/390.2 MB 27.3 MB/s eta 0:00:08\n",
      "   ------------------- ------------------- 190.5/390.2 MB 28.5 MB/s eta 0:00:08\n",
      "   ------------------- ------------------- 191.1/390.2 MB 32.7 MB/s eta 0:00:07\n",
      "   ------------------- ------------------- 191.1/390.2 MB 32.7 MB/s eta 0:00:07\n",
      "   ------------------- ------------------- 191.9/390.2 MB 24.2 MB/s eta 0:00:09\n",
      "   ------------------- ------------------- 194.1/390.2 MB 25.1 MB/s eta 0:00:08\n",
      "   ------------------- ------------------- 196.2/390.2 MB 28.4 MB/s eta 0:00:07\n",
      "   ------------------- ------------------- 196.5/390.2 MB 27.3 MB/s eta 0:00:08\n",
      "   ------------------- ------------------- 197.4/390.2 MB 24.2 MB/s eta 0:00:08\n",
      "   ------------------- ------------------- 198.6/390.2 MB 23.4 MB/s eta 0:00:09\n",
      "   -------------------- ------------------ 200.2/390.2 MB 23.4 MB/s eta 0:00:09\n",
      "   -------------------- ------------------ 201.5/390.2 MB 29.7 MB/s eta 0:00:07\n",
      "   -------------------- ------------------ 202.9/390.2 MB 31.2 MB/s eta 0:00:07\n",
      "   -------------------- ------------------ 204.5/390.2 MB 28.4 MB/s eta 0:00:07\n",
      "   -------------------- ------------------ 206.1/390.2 MB 26.2 MB/s eta 0:00:08\n",
      "   -------------------- ------------------ 207.3/390.2 MB 29.8 MB/s eta 0:00:07\n",
      "   -------------------- ------------------ 208.2/390.2 MB 32.8 MB/s eta 0:00:06\n",
      "   -------------------- ------------------ 208.4/390.2 MB 26.2 MB/s eta 0:00:07\n",
      "   --------------------- ----------------- 210.7/390.2 MB 27.3 MB/s eta 0:00:07\n",
      "   --------------------- ----------------- 212.9/390.2 MB 28.5 MB/s eta 0:00:07\n",
      "   --------------------- ----------------- 212.9/390.2 MB 28.5 MB/s eta 0:00:07\n",
      "   --------------------- ----------------- 212.9/390.2 MB 28.5 MB/s eta 0:00:07\n",
      "   --------------------- ----------------- 215.4/390.2 MB 26.2 MB/s eta 0:00:07\n",
      "   --------------------- ----------------- 216.5/390.2 MB 25.2 MB/s eta 0:00:07\n",
      "   --------------------- ----------------- 217.2/390.2 MB 24.2 MB/s eta 0:00:08\n",
      "   --------------------- ----------------- 218.4/390.2 MB 23.4 MB/s eta 0:00:08\n",
      "   --------------------- ----------------- 220.1/390.2 MB 27.3 MB/s eta 0:00:07\n",
      "   ---------------------- ---------------- 221.6/390.2 MB 26.2 MB/s eta 0:00:07\n",
      "   ---------------------- ---------------- 222.8/390.2 MB 24.2 MB/s eta 0:00:07\n",
      "   ---------------------- ---------------- 223.1/390.2 MB 24.2 MB/s eta 0:00:07\n",
      "   ---------------------- ---------------- 223.1/390.2 MB 24.2 MB/s eta 0:00:07\n",
      "   ---------------------- ---------------- 225.2/390.2 MB 24.2 MB/s eta 0:00:07\n",
      "   ---------------------- ---------------- 226.6/390.2 MB 24.2 MB/s eta 0:00:07\n",
      "   ---------------------- ---------------- 228.7/390.2 MB 28.4 MB/s eta 0:00:06\n",
      "   ----------------------- --------------- 231.2/390.2 MB 29.8 MB/s eta 0:00:06\n",
      "   ----------------------- --------------- 231.6/390.2 MB 27.3 MB/s eta 0:00:06\n",
      "   ----------------------- --------------- 233.7/390.2 MB 38.6 MB/s eta 0:00:05\n",
      "   ----------------------- --------------- 235.1/390.2 MB 36.4 MB/s eta 0:00:05\n",
      "   ----------------------- --------------- 236.4/390.2 MB 36.4 MB/s eta 0:00:05\n",
      "   ----------------------- --------------- 237.5/390.2 MB 36.3 MB/s eta 0:00:05\n",
      "   ----------------------- --------------- 238.5/390.2 MB 31.2 MB/s eta 0:00:05\n",
      "   ------------------------ -------------- 241.5/390.2 MB 32.7 MB/s eta 0:00:05\n",
      "   ------------------------ -------------- 243.4/390.2 MB 34.6 MB/s eta 0:00:05\n",
      "   ------------------------ -------------- 244.0/390.2 MB 32.7 MB/s eta 0:00:05\n",
      "   ------------------------ -------------- 245.1/390.2 MB 29.7 MB/s eta 0:00:05\n",
      "   ------------------------ -------------- 245.9/390.2 MB 28.5 MB/s eta 0:00:06\n",
      "   ------------------------ -------------- 247.9/390.2 MB 34.4 MB/s eta 0:00:05\n",
      "   ------------------------ -------------- 248.4/390.2 MB 31.2 MB/s eta 0:00:05\n",
      "   ------------------------ -------------- 249.0/390.2 MB 28.4 MB/s eta 0:00:05\n",
      "   ------------------------- ------------- 250.5/390.2 MB 26.2 MB/s eta 0:00:06\n",
      "   ------------------------- ------------- 251.8/390.2 MB 25.2 MB/s eta 0:00:06\n",
      "   ------------------------- ------------- 253.2/390.2 MB 23.4 MB/s eta 0:00:06\n",
      "   ------------------------- ------------- 254.4/390.2 MB 26.2 MB/s eta 0:00:06\n",
      "   ------------------------- ------------- 255.2/390.2 MB 24.2 MB/s eta 0:00:06\n",
      "   ------------------------- ------------- 257.5/390.2 MB 27.3 MB/s eta 0:00:05\n",
      "   ------------------------- ------------- 259.5/390.2 MB 32.8 MB/s eta 0:00:04\n",
      "   -------------------------- ------------ 260.5/390.2 MB 32.8 MB/s eta 0:00:04\n",
      "   -------------------------- ------------ 260.5/390.2 MB 27.3 MB/s eta 0:00:05\n",
      "   -------------------------- ------------ 260.5/390.2 MB 27.3 MB/s eta 0:00:05\n",
      "   -------------------------- ------------ 260.5/390.2 MB 27.3 MB/s eta 0:00:05\n",
      "   -------------------------- ------------ 260.5/390.2 MB 27.3 MB/s eta 0:00:05\n",
      "   -------------------------- ------------ 260.5/390.2 MB 27.3 MB/s eta 0:00:05\n",
      "   -------------------------- ------------ 262.1/390.2 MB 18.7 MB/s eta 0:00:07\n",
      "   -------------------------- ------------ 264.3/390.2 MB 19.3 MB/s eta 0:00:07\n",
      "   -------------------------- ------------ 264.4/390.2 MB 18.2 MB/s eta 0:00:07\n",
      "   -------------------------- ------------ 265.1/390.2 MB 18.2 MB/s eta 0:00:07\n",
      "   -------------------------- ------------ 266.3/390.2 MB 17.7 MB/s eta 0:00:08\n",
      "   -------------------------- ------------ 268.0/390.2 MB 17.2 MB/s eta 0:00:08\n",
      "   -------------------------- ------------ 269.3/390.2 MB 16.4 MB/s eta 0:00:08\n",
      "   --------------------------- ----------- 270.8/390.2 MB 29.8 MB/s eta 0:00:05\n",
      "   --------------------------- ----------- 271.1/390.2 MB 29.8 MB/s eta 0:00:04\n",
      "   --------------------------- ----------- 271.7/390.2 MB 24.2 MB/s eta 0:00:05\n",
      "   --------------------------- ----------- 274.2/390.2 MB 23.4 MB/s eta 0:00:05\n",
      "   --------------------------- ----------- 276.9/390.2 MB 32.7 MB/s eta 0:00:04\n",
      "   --------------------------- ----------- 278.3/390.2 MB 34.4 MB/s eta 0:00:04\n",
      "   --------------------------- ----------- 278.3/390.2 MB 28.4 MB/s eta 0:00:04\n",
      "   --------------------------- ----------- 279.8/390.2 MB 28.4 MB/s eta 0:00:04\n",
      "   ---------------------------- ---------- 282.4/390.2 MB 38.6 MB/s eta 0:00:03\n",
      "   ---------------------------- ---------- 282.9/390.2 MB 36.4 MB/s eta 0:00:03\n",
      "   ---------------------------- ---------- 283.6/390.2 MB 29.7 MB/s eta 0:00:04\n",
      "   ---------------------------- ---------- 284.3/390.2 MB 27.3 MB/s eta 0:00:04\n",
      "   ---------------------------- ---------- 285.2/390.2 MB 26.2 MB/s eta 0:00:05\n",
      "   ---------------------------- ---------- 286.2/390.2 MB 23.4 MB/s eta 0:00:05\n",
      "   ---------------------------- ---------- 286.5/390.2 MB 22.6 MB/s eta 0:00:05\n",
      "   ---------------------------- ---------- 287.0/390.2 MB 19.8 MB/s eta 0:00:06\n",
      "   ---------------------------- ---------- 287.8/390.2 MB 19.9 MB/s eta 0:00:06\n",
      "   ---------------------------- ---------- 288.0/390.2 MB 17.3 MB/s eta 0:00:06\n",
      "   ----------------------------- --------- 290.5/390.2 MB 20.5 MB/s eta 0:00:05\n",
      "   ----------------------------- --------- 291.7/390.2 MB 20.5 MB/s eta 0:00:05\n",
      "   ----------------------------- --------- 293.4/390.2 MB 21.1 MB/s eta 0:00:05\n",
      "   ----------------------------- --------- 296.0/390.2 MB 27.3 MB/s eta 0:00:04\n",
      "   ----------------------------- --------- 296.9/390.2 MB 31.2 MB/s eta 0:00:03\n",
      "   ----------------------------- --------- 297.4/390.2 MB 28.5 MB/s eta 0:00:04\n",
      "   ----------------------------- --------- 298.1/390.2 MB 32.7 MB/s eta 0:00:03\n",
      "   ----------------------------- --------- 298.9/390.2 MB 29.7 MB/s eta 0:00:04\n",
      "   ----------------------------- --------- 298.9/390.2 MB 29.7 MB/s eta 0:00:04\n",
      "   ----------------------------- --------- 298.9/390.2 MB 29.7 MB/s eta 0:00:04\n",
      "   ------------------------------ -------- 300.6/390.2 MB 21.9 MB/s eta 0:00:05\n",
      "   ------------------------------ -------- 301.9/390.2 MB 21.8 MB/s eta 0:00:05\n",
      "   ------------------------------ -------- 302.3/390.2 MB 21.1 MB/s eta 0:00:05\n",
      "   ------------------------------ -------- 304.9/390.2 MB 21.1 MB/s eta 0:00:05\n",
      "   ------------------------------ -------- 307.9/390.2 MB 26.2 MB/s eta 0:00:04\n",
      "   ------------------------------ -------- 308.5/390.2 MB 26.2 MB/s eta 0:00:04\n",
      "   ------------------------------ -------- 309.5/390.2 MB 34.4 MB/s eta 0:00:03\n",
      "   ------------------------------- ------- 310.8/390.2 MB 32.7 MB/s eta 0:00:03\n",
      "   ------------------------------- ------- 311.6/390.2 MB 29.7 MB/s eta 0:00:03\n",
      "   ------------------------------- ------- 312.6/390.2 MB 34.4 MB/s eta 0:00:03\n",
      "   ------------------------------- ------- 312.6/390.2 MB 34.4 MB/s eta 0:00:03\n",
      "   ------------------------------- ------- 312.7/390.2 MB 25.2 MB/s eta 0:00:04\n",
      "   ------------------------------- ------- 315.6/390.2 MB 26.2 MB/s eta 0:00:03\n",
      "   ------------------------------- ------- 316.5/390.2 MB 23.4 MB/s eta 0:00:04\n",
      "   ------------------------------- ------- 317.5/390.2 MB 21.8 MB/s eta 0:00:04\n",
      "   ------------------------------- ------- 318.7/390.2 MB 22.6 MB/s eta 0:00:04\n",
      "   ------------------------------- ------- 320.1/390.2 MB 23.4 MB/s eta 0:00:04\n",
      "   -------------------------------- ------ 321.4/390.2 MB 23.4 MB/s eta 0:00:03\n",
      "   -------------------------------- ------ 322.6/390.2 MB 24.2 MB/s eta 0:00:03\n",
      "   -------------------------------- ------ 323.7/390.2 MB 31.2 MB/s eta 0:00:03\n",
      "   -------------------------------- ------ 323.7/390.2 MB 31.2 MB/s eta 0:00:03\n",
      "   -------------------------------- ------ 325.1/390.2 MB 24.2 MB/s eta 0:00:03\n",
      "   -------------------------------- ------ 327.7/390.2 MB 27.3 MB/s eta 0:00:03\n",
      "   -------------------------------- ------ 330.0/390.2 MB 31.2 MB/s eta 0:00:02\n",
      "   --------------------------------- ----- 330.5/390.2 MB 31.2 MB/s eta 0:00:02\n",
      "   --------------------------------- ----- 331.3/390.2 MB 26.2 MB/s eta 0:00:03\n",
      "   --------------------------------- ----- 334.2/390.2 MB 38.6 MB/s eta 0:00:02\n",
      "   --------------------------------- ----- 334.8/390.2 MB 34.4 MB/s eta 0:00:02\n",
      "   --------------------------------- ----- 336.0/390.2 MB 32.8 MB/s eta 0:00:02\n",
      "   --------------------------------- ----- 337.4/390.2 MB 29.7 MB/s eta 0:00:02\n",
      "   --------------------------------- ----- 339.0/390.2 MB 28.5 MB/s eta 0:00:02\n",
      "   ---------------------------------- ---- 340.8/390.2 MB 32.7 MB/s eta 0:00:02\n",
      "   ---------------------------------- ---- 341.6/390.2 MB 34.6 MB/s eta 0:00:02\n",
      "   ---------------------------------- ---- 341.6/390.2 MB 34.6 MB/s eta 0:00:02\n",
      "   ---------------------------------- ---- 343.1/390.2 MB 26.2 MB/s eta 0:00:02\n",
      "   ---------------------------------- ---- 345.6/390.2 MB 29.8 MB/s eta 0:00:02\n",
      "   ---------------------------------- ---- 348.3/390.2 MB 32.8 MB/s eta 0:00:02\n",
      "   ---------------------------------- ---- 348.5/390.2 MB 31.2 MB/s eta 0:00:02\n",
      "   ---------------------------------- ---- 348.9/390.2 MB 26.2 MB/s eta 0:00:02\n",
      "   ---------------------------------- ---- 349.9/390.2 MB 25.2 MB/s eta 0:00:02\n",
      "   ----------------------------------- --- 352.0/390.2 MB 32.7 MB/s eta 0:00:02\n",
      "   ----------------------------------- --- 352.2/390.2 MB 32.7 MB/s eta 0:00:02\n",
      "   ----------------------------------- --- 352.2/390.2 MB 32.7 MB/s eta 0:00:02\n",
      "   ----------------------------------- --- 354.0/390.2 MB 25.2 MB/s eta 0:00:02\n",
      "   ----------------------------------- --- 356.2/390.2 MB 24.2 MB/s eta 0:00:02\n",
      "   ----------------------------------- --- 358.7/390.2 MB 26.2 MB/s eta 0:00:02\n",
      "   ----------------------------------- --- 358.7/390.2 MB 26.2 MB/s eta 0:00:02\n",
      "   ----------------------------------- --- 359.2/390.2 MB 24.2 MB/s eta 0:00:02\n",
      "   ------------------------------------ -- 360.7/390.2 MB 26.2 MB/s eta 0:00:02\n",
      "   ------------------------------------ -- 362.3/390.2 MB 25.2 MB/s eta 0:00:02\n",
      "   ------------------------------------ -- 362.3/390.2 MB 25.2 MB/s eta 0:00:02\n",
      "   ------------------------------------ -- 362.5/390.2 MB 25.1 MB/s eta 0:00:02\n",
      "   ------------------------------------ -- 365.0/390.2 MB 26.2 MB/s eta 0:00:01\n",
      "   ------------------------------------ -- 366.4/390.2 MB 25.2 MB/s eta 0:00:01\n",
      "   ------------------------------------ -- 367.9/390.2 MB 23.4 MB/s eta 0:00:01\n",
      "   ------------------------------------ -- 369.2/390.2 MB 27.3 MB/s eta 0:00:01\n",
      "   ------------------------------------- - 370.4/390.2 MB 27.3 MB/s eta 0:00:01\n",
      "   ------------------------------------- - 372.6/390.2 MB 36.4 MB/s eta 0:00:01\n",
      "   ------------------------------------- - 374.3/390.2 MB 34.4 MB/s eta 0:00:01\n",
      "   ------------------------------------- - 375.2/390.2 MB 32.8 MB/s eta 0:00:01\n",
      "   ------------------------------------- - 375.3/390.2 MB 28.4 MB/s eta 0:00:01\n",
      "   ------------------------------------- - 376.8/390.2 MB 28.5 MB/s eta 0:00:01\n",
      "   ------------------------------------- - 377.8/390.2 MB 28.4 MB/s eta 0:00:01\n",
      "   ------------------------------------- - 378.2/390.2 MB 25.2 MB/s eta 0:00:01\n",
      "   ------------------------------------- - 379.2/390.2 MB 24.2 MB/s eta 0:00:01\n",
      "   ------------------------------------- - 380.0/390.2 MB 24.2 MB/s eta 0:00:01\n",
      "   --------------------------------------  380.3/390.2 MB 24.2 MB/s eta 0:00:01\n",
      "   --------------------------------------  380.3/390.2 MB 24.2 MB/s eta 0:00:01\n",
      "   --------------------------------------  380.3/390.2 MB 24.2 MB/s eta 0:00:01\n",
      "   --------------------------------------  380.9/390.2 MB 17.7 MB/s eta 0:00:01\n",
      "   --------------------------------------  383.6/390.2 MB 17.7 MB/s eta 0:00:01\n",
      "   --------------------------------------  383.9/390.2 MB 16.8 MB/s eta 0:00:01\n",
      "   --------------------------------------  385.1/390.2 MB 16.4 MB/s eta 0:00:01\n",
      "   --------------------------------------  386.4/390.2 MB 18.2 MB/s eta 0:00:01\n",
      "   --------------------------------------  386.9/390.2 MB 17.2 MB/s eta 0:00:01\n",
      "   --------------------------------------  386.9/390.2 MB 17.2 MB/s eta 0:00:01\n",
      "   --------------------------------------  386.9/390.2 MB 17.2 MB/s eta 0:00:01\n",
      "   --------------------------------------  386.9/390.2 MB 17.2 MB/s eta 0:00:01\n",
      "   --------------------------------------  387.4/390.2 MB 13.4 MB/s eta 0:00:01\n",
      "   --------------------------------------  389.8/390.2 MB 15.2 MB/s eta 0:00:01\n",
      "   --------------------------------------  390.2/390.2 MB 15.2 MB/s eta 0:00:01\n",
      "   --------------------------------------  390.2/390.2 MB 15.2 MB/s eta 0:00:01\n",
      "   --------------------------------------  390.2/390.2 MB 15.2 MB/s eta 0:00:01\n",
      "   --------------------------------------  390.2/390.2 MB 15.2 MB/s eta 0:00:01\n",
      "   --------------------------------------  390.2/390.2 MB 15.2 MB/s eta 0:00:01\n",
      "   --------------------------------------  390.2/390.2 MB 15.2 MB/s eta 0:00:01\n",
      "   --------------------------------------  390.2/390.2 MB 15.2 MB/s eta 0:00:01\n",
      "   --------------------------------------  390.2/390.2 MB 15.2 MB/s eta 0:00:01\n",
      "   --------------------------------------  390.2/390.2 MB 15.2 MB/s eta 0:00:01\n",
      "   --------------------------------------  390.2/390.2 MB 15.2 MB/s eta 0:00:01\n",
      "   --------------------------------------  390.2/390.2 MB 15.2 MB/s eta 0:00:01\n",
      "   --------------------------------------  390.2/390.2 MB 15.2 MB/s eta 0:00:01\n",
      "   --------------------------------------  390.2/390.2 MB 15.2 MB/s eta 0:00:01\n",
      "   --------------------------------------  390.2/390.2 MB 15.2 MB/s eta 0:00:01\n",
      "   --------------------------------------  390.2/390.2 MB 15.2 MB/s eta 0:00:01\n",
      "   --------------------------------------  390.2/390.2 MB 15.2 MB/s eta 0:00:01\n",
      "   --------------------------------------  390.2/390.2 MB 15.2 MB/s eta 0:00:01\n",
      "   --------------------------------------  390.2/390.2 MB 15.2 MB/s eta 0:00:01\n",
      "   --------------------------------------  390.2/390.2 MB 15.2 MB/s eta 0:00:01\n",
      "   --------------------------------------  390.2/390.2 MB 15.2 MB/s eta 0:00:01\n",
      "   --------------------------------------  390.2/390.2 MB 15.2 MB/s eta 0:00:01\n",
      "   --------------------------------------  390.2/390.2 MB 15.2 MB/s eta 0:00:01\n",
      "   --------------------------------------  390.2/390.2 MB 15.2 MB/s eta 0:00:01\n",
      "   --------------------------------------  390.2/390.2 MB 15.2 MB/s eta 0:00:01\n",
      "   --------------------------------------  390.2/390.2 MB 15.2 MB/s eta 0:00:01\n",
      "   --------------------------------------  390.2/390.2 MB 15.2 MB/s eta 0:00:01\n",
      "   --------------------------------------  390.2/390.2 MB 15.2 MB/s eta 0:00:01\n",
      "   --------------------------------------  390.2/390.2 MB 15.2 MB/s eta 0:00:01\n",
      "   --------------------------------------  390.2/390.2 MB 15.2 MB/s eta 0:00:01\n",
      "   ---------------------------------------- 390.2/390.2 MB 2.8 MB/s eta 0:00:00\n",
      "Downloading absl_py-2.1.0-py3-none-any.whl (133 kB)\n",
      "   ---------------------------------------- 0.0/133.7 kB ? eta -:--:--\n",
      "   ---------------------------------------- 133.7/133.7 kB 3.9 MB/s eta 0:00:00\n",
      "Downloading astunparse-1.6.3-py2.py3-none-any.whl (12 kB)\n",
      "Downloading flatbuffers-25.1.24-py2.py3-none-any.whl (30 kB)\n",
      "Downloading gast-0.6.0-py3-none-any.whl (21 kB)\n",
      "Downloading google_pasta-0.2.0-py3-none-any.whl (57 kB)\n",
      "   ---------------------------------------- 0.0/57.5 kB ? eta -:--:--\n",
      "   ---------------------------------------- 57.5/57.5 kB 3.0 MB/s eta 0:00:00\n",
      "Downloading h5py-3.12.1-cp311-cp311-win_amd64.whl (3.0 MB)\n",
      "   ---------------------------------------- 0.0/3.0 MB ? eta -:--:--\n",
      "   ------ --------------------------------- 0.5/3.0 MB 30.1 MB/s eta 0:00:01\n",
      "   -------------- ------------------------- 1.1/3.0 MB 13.7 MB/s eta 0:00:01\n",
      "   -------------------- ------------------- 1.6/3.0 MB 12.5 MB/s eta 0:00:01\n",
      "   ----------------------------------- ---- 2.6/3.0 MB 15.3 MB/s eta 0:00:01\n",
      "   ---------------------------------------  3.0/3.0 MB 15.9 MB/s eta 0:00:01\n",
      "   ---------------------------------------- 3.0/3.0 MB 12.7 MB/s eta 0:00:00\n",
      "Downloading keras-3.8.0-py3-none-any.whl (1.3 MB)\n",
      "   ---------------------------------------- 0.0/1.3 MB ? eta -:--:--\n",
      "   ----------------- ---------------------- 0.6/1.3 MB 35.8 MB/s eta 0:00:01\n",
      "   ---------------------------------------  1.3/1.3 MB 16.3 MB/s eta 0:00:01\n",
      "   ---------------------------------------- 1.3/1.3 MB 11.7 MB/s eta 0:00:00\n",
      "Downloading libclang-18.1.1-py2.py3-none-win_amd64.whl (26.4 MB)\n",
      "   ---------------------------------------- 0.0/26.4 MB ? eta -:--:--\n",
      "    --------------------------------------- 0.6/26.4 MB 38.2 MB/s eta 0:00:01\n",
      "   - -------------------------------------- 1.3/26.4 MB 13.4 MB/s eta 0:00:02\n",
      "   --- ------------------------------------ 2.6/26.4 MB 18.5 MB/s eta 0:00:02\n",
      "   ----- ---------------------------------- 3.5/26.4 MB 18.6 MB/s eta 0:00:02\n",
      "   ------ --------------------------------- 4.5/26.4 MB 19.0 MB/s eta 0:00:02\n",
      "   ------- -------------------------------- 5.1/26.4 MB 19.4 MB/s eta 0:00:02\n",
      "   ------- -------------------------------- 5.1/26.4 MB 19.4 MB/s eta 0:00:02\n",
      "   --------- ------------------------------ 6.2/26.4 MB 17.3 MB/s eta 0:00:02\n",
      "   --------- ------------------------------ 6.2/26.4 MB 17.3 MB/s eta 0:00:02\n",
      "   ----------- ---------------------------- 7.4/26.4 MB 15.8 MB/s eta 0:00:02\n",
      "   --------------- ------------------------ 10.5/26.4 MB 20.5 MB/s eta 0:00:01\n",
      "   ------------------- -------------------- 12.6/26.4 MB 24.3 MB/s eta 0:00:01\n",
      "   ------------------- -------------------- 12.6/26.4 MB 24.3 MB/s eta 0:00:01\n",
      "   ------------------- -------------------- 12.6/26.4 MB 24.3 MB/s eta 0:00:01\n",
      "   --------------------- ------------------ 14.3/26.4 MB 20.5 MB/s eta 0:00:01\n",
      "   ------------------------ --------------- 16.4/26.4 MB 27.3 MB/s eta 0:00:01\n",
      "   -------------------------- ------------- 17.3/26.4 MB 32.7 MB/s eta 0:00:01\n",
      "   ---------------------------- ----------- 19.0/26.4 MB 29.7 MB/s eta 0:00:01\n",
      "   ---------------------------- ----------- 19.1/26.4 MB 28.5 MB/s eta 0:00:01\n",
      "   ---------------------------- ----------- 19.1/26.4 MB 28.5 MB/s eta 0:00:01\n",
      "   ------------------------------ --------- 20.0/26.4 MB 21.9 MB/s eta 0:00:01\n",
      "   ---------------------------------- ----- 22.8/26.4 MB 28.5 MB/s eta 0:00:01\n",
      "   ------------------------------------- -- 24.5/26.4 MB 29.8 MB/s eta 0:00:01\n",
      "   ------------------------------------- -- 24.5/26.4 MB 29.8 MB/s eta 0:00:01\n",
      "   ------------------------------------- -- 24.5/26.4 MB 29.8 MB/s eta 0:00:01\n",
      "   -------------------------------------- - 25.4/26.4 MB 21.1 MB/s eta 0:00:01\n",
      "   ---------------------------------------  26.4/26.4 MB 21.1 MB/s eta 0:00:01\n",
      "   ---------------------------------------  26.4/26.4 MB 21.1 MB/s eta 0:00:01\n",
      "   ---------------------------------------  26.4/26.4 MB 21.1 MB/s eta 0:00:01\n",
      "   ---------------------------------------- 26.4/26.4 MB 16.0 MB/s eta 0:00:00\n",
      "Downloading ml_dtypes-0.4.1-cp311-cp311-win_amd64.whl (126 kB)\n",
      "   ---------------------------------------- 0.0/126.7 kB ? eta -:--:--\n",
      "   ---------------------------------------- 126.7/126.7 kB 7.3 MB/s eta 0:00:00\n",
      "Downloading numpy-2.0.2-cp311-cp311-win_amd64.whl (15.9 MB)\n",
      "   ---------------------------------------- 0.0/15.9 MB ? eta -:--:--\n",
      "   - -------------------------------------- 0.6/15.9 MB 11.5 MB/s eta 0:00:02\n",
      "   ---- ----------------------------------- 1.6/15.9 MB 14.6 MB/s eta 0:00:01\n",
      "   ----- ---------------------------------- 2.3/15.9 MB 16.5 MB/s eta 0:00:01\n",
      "   ------- -------------------------------- 2.9/15.9 MB 15.6 MB/s eta 0:00:01\n",
      "   --------- ------------------------------ 3.6/15.9 MB 15.3 MB/s eta 0:00:01\n",
      "   --------- ------------------------------ 3.6/15.9 MB 15.3 MB/s eta 0:00:01\n",
      "   --------- ------------------------------ 3.6/15.9 MB 15.3 MB/s eta 0:00:01\n",
      "   --------- ------------------------------ 3.6/15.9 MB 15.3 MB/s eta 0:00:01\n",
      "   ---------- ----------------------------- 4.1/15.9 MB 9.4 MB/s eta 0:00:02\n",
      "   ----------------- ---------------------- 7.2/15.9 MB 15.2 MB/s eta 0:00:01\n",
      "   ------------------ --------------------- 7.5/15.9 MB 14.5 MB/s eta 0:00:01\n",
      "   --------------------- ------------------ 8.4/15.9 MB 14.8 MB/s eta 0:00:01\n",
      "   ---------------------- ----------------- 8.9/15.9 MB 14.9 MB/s eta 0:00:01\n",
      "   ------------------------- -------------- 10.2/15.9 MB 15.5 MB/s eta 0:00:01\n",
      "   ------------------------- -------------- 10.2/15.9 MB 15.5 MB/s eta 0:00:01\n",
      "   ----------------------------- ---------- 11.8/15.9 MB 15.6 MB/s eta 0:00:01\n",
      "   ----------------------------- ---------- 11.9/15.9 MB 15.6 MB/s eta 0:00:01\n",
      "   ------------------------------- -------- 12.5/15.9 MB 14.6 MB/s eta 0:00:01\n",
      "   -------------------------------- ------- 12.9/15.9 MB 13.9 MB/s eta 0:00:01\n",
      "   ----------------------------------- ---- 14.1/15.9 MB 19.8 MB/s eta 0:00:01\n",
      "   ------------------------------------- -- 15.0/15.9 MB 18.7 MB/s eta 0:00:01\n",
      "   ---------------------------------------  15.8/15.9 MB 17.7 MB/s eta 0:00:01\n",
      "   ---------------------------------------  15.9/15.9 MB 17.7 MB/s eta 0:00:01\n",
      "   ---------------------------------------  15.9/15.9 MB 17.7 MB/s eta 0:00:01\n",
      "   ---------------------------------------  15.9/15.9 MB 17.7 MB/s eta 0:00:01\n",
      "   ---------------------------------------  15.9/15.9 MB 17.7 MB/s eta 0:00:01\n",
      "   ---------------------------------------  15.9/15.9 MB 17.7 MB/s eta 0:00:01\n",
      "   ---------------------------------------  15.9/15.9 MB 17.7 MB/s eta 0:00:01\n",
      "   ---------------------------------------  15.9/15.9 MB 17.7 MB/s eta 0:00:01\n",
      "   ---------------------------------------  15.9/15.9 MB 17.7 MB/s eta 0:00:01\n",
      "   ---------------------------------------  15.9/15.9 MB 17.7 MB/s eta 0:00:01\n",
      "   ---------------------------------------  15.9/15.9 MB 17.7 MB/s eta 0:00:01\n",
      "   ---------------------------------------  15.9/15.9 MB 17.7 MB/s eta 0:00:01\n",
      "   ---------------------------------------  15.9/15.9 MB 17.7 MB/s eta 0:00:01\n",
      "   ---------------------------------------  15.9/15.9 MB 17.7 MB/s eta 0:00:01\n",
      "   ---------------------------------------- 15.9/15.9 MB 8.4 MB/s eta 0:00:00\n",
      "Downloading opt_einsum-3.4.0-py3-none-any.whl (71 kB)\n",
      "   ---------------------------------------- 0.0/71.9 kB ? eta -:--:--\n",
      "   ---------------------------------------- 71.9/71.9 kB 4.1 MB/s eta 0:00:00\n",
      "Downloading tensorboard-2.18.0-py3-none-any.whl (5.5 MB)\n",
      "   ---------------------------------------- 0.0/5.5 MB ? eta -:--:--\n",
      "   ---- ----------------------------------- 0.6/5.5 MB 35.8 MB/s eta 0:00:01\n",
      "   ------- -------------------------------- 1.1/5.5 MB 13.9 MB/s eta 0:00:01\n",
      "   ------------- -------------------------- 1.9/5.5 MB 15.1 MB/s eta 0:00:01\n",
      "   ---------------------- ----------------- 3.1/5.5 MB 18.2 MB/s eta 0:00:01\n",
      "   ----------------------------------- ---- 4.9/5.5 MB 22.2 MB/s eta 0:00:01\n",
      "   ---------------------------------------  5.5/5.5 MB 22.0 MB/s eta 0:00:01\n",
      "   ---------------------------------------- 5.5/5.5 MB 19.5 MB/s eta 0:00:00\n",
      "Downloading tensorflow_io_gcs_filesystem-0.31.0-cp311-cp311-win_amd64.whl (1.5 MB)\n",
      "   ---------------------------------------- 0.0/1.5 MB ? eta -:--:--\n",
      "   --------------- ------------------------ 0.6/1.5 MB 38.2 MB/s eta 0:00:01\n",
      "   ------------------------------- -------- 1.2/1.5 MB 15.1 MB/s eta 0:00:01\n",
      "   ---------------------------------------- 1.5/1.5 MB 13.5 MB/s eta 0:00:00\n",
      "Downloading termcolor-2.5.0-py3-none-any.whl (7.8 kB)\n",
      "Downloading tensorboard_data_server-0.7.2-py3-none-any.whl (2.4 kB)\n",
      "Downloading namex-0.0.8-py3-none-any.whl (5.8 kB)\n",
      "Downloading optree-0.14.0-cp311-cp311-win_amd64.whl (300 kB)\n",
      "   ---------------------------------------- 0.0/300.4 kB ? eta -:--:--\n",
      "   ---------------------------------------- 300.4/300.4 kB 9.4 MB/s eta 0:00:00\n",
      "Downloading rich-13.9.4-py3-none-any.whl (242 kB)\n",
      "   ---------------------------------------- 0.0/242.4 kB ? eta -:--:--\n",
      "   --------------------------------------- 242.4/242.4 kB 14.5 MB/s eta 0:00:00\n",
      "Installing collected packages: namex, libclang, flatbuffers, termcolor, tensorflow-io-gcs-filesystem, tensorboard-data-server, optree, opt-einsum, numpy, google-pasta, gast, astunparse, absl-py, tensorboard, rich, ml-dtypes, h5py, keras, tensorflow-intel, tensorflow\n",
      "Successfully installed absl-py-2.1.0 astunparse-1.6.3 flatbuffers-25.1.24 gast-0.6.0 google-pasta-0.2.0 h5py-3.12.1 keras-3.8.0 libclang-18.1.1 ml-dtypes-0.4.1 namex-0.0.8 numpy-2.0.2 opt-einsum-3.4.0 optree-0.14.0 rich-13.9.4 tensorboard-2.18.0 tensorboard-data-server-0.7.2 tensorflow-2.18.0 tensorflow-intel-2.18.0 tensorflow-io-gcs-filesystem-0.31.0 termcolor-2.5.0\n"
     ]
    },
    {
     "name": "stderr",
     "output_type": "stream",
     "text": [
      "  WARNING: The scripts f2py.exe and numpy-config.exe are installed in 'C:\\Users\\lebog\\AppData\\Roaming\\Python\\Python311\\Scripts' which is not on PATH.\n",
      "  Consider adding this directory to PATH or, if you prefer to suppress this warning, use --no-warn-script-location.\n",
      "  WARNING: The script tensorboard.exe is installed in 'C:\\Users\\lebog\\AppData\\Roaming\\Python\\Python311\\Scripts' which is not on PATH.\n",
      "  Consider adding this directory to PATH or, if you prefer to suppress this warning, use --no-warn-script-location.\n",
      "  WARNING: The scripts import_pb_to_tensorboard.exe, saved_model_cli.exe, tensorboard.exe, tf_upgrade_v2.exe, tflite_convert.exe, toco.exe and toco_from_protos.exe are installed in 'C:\\Users\\lebog\\AppData\\Roaming\\Python\\Python311\\Scripts' which is not on PATH.\n",
      "  Consider adding this directory to PATH or, if you prefer to suppress this warning, use --no-warn-script-location.\n",
      "ERROR: pip's dependency resolver does not currently take into account all the packages that are installed. This behaviour is the source of the following dependency conflicts.\n",
      "gensim 4.3.0 requires FuzzyTM>=0.4.0, which is not installed.\n",
      "tables 3.8.0 requires blosc2~=2.0.0, which is not installed.\n",
      "tables 3.8.0 requires cython>=0.29.21, which is not installed.\n",
      "numba 0.57.1 requires numpy<1.25,>=1.21, but you have numpy 2.0.2 which is incompatible.\n",
      "scipy 1.11.1 requires numpy<1.28.0,>=1.21.6, but you have numpy 2.0.2 which is incompatible.\n"
     ]
    }
   ],
   "source": [
    "pip install tensorflow "
   ]
  },
  {
   "cell_type": "code",
   "execution_count": 35,
   "id": "64014f33",
   "metadata": {},
   "outputs": [
    {
     "name": "stderr",
     "output_type": "stream",
     "text": [
      "[nltk_data] Downloading package stopwords to\n",
      "[nltk_data]     C:\\Users\\lebog\\AppData\\Roaming\\nltk_data...\n",
      "[nltk_data]   Package stopwords is already up-to-date!\n",
      "[nltk_data] Downloading package punkt to\n",
      "[nltk_data]     C:\\Users\\lebog\\AppData\\Roaming\\nltk_data...\n",
      "[nltk_data]   Package punkt is already up-to-date!\n",
      "[nltk_data] Downloading package wordnet to\n",
      "[nltk_data]     C:\\Users\\lebog\\AppData\\Roaming\\nltk_data...\n",
      "[nltk_data]   Package wordnet is already up-to-date!\n"
     ]
    }
   ],
   "source": [
    "import pandas as pd\n",
    "import numpy as np\n",
    "import matplotlib.pyplot as plt\n",
    "import seaborn as sns\n",
    "from sklearn.model_selection import train_test_split\n",
    "\n",
    "from urllib.parse import urlparse\n",
    "import re\n",
    "from nltk.tokenize import word_tokenize, TreebankWordTokenizer\n",
    "from nltk.stem import WordNetLemmatizer\n",
    "from nltk.corpus import stopwords\n",
    "from sklearn.feature_extraction.text import TfidfVectorizer\n",
    "from sklearn.utils import resample\n",
    "\n",
    "from sklearn.naive_bayes import MultinomialNB\n",
    "from sklearn.pipeline import Pipeline\n",
    "from sklearn.model_selection import GridSearchCV\n",
    "from sklearn.preprocessing import StandardScaler\n",
    "from sklearn.metrics import accuracy_score, precision_score, recall_score, f1_score, log_loss\n",
    "from sklearn.neighbors import KNeighborsClassifier\n",
    "from sklearn.metrics import classification_report, accuracy_score\n",
    "from sklearn.pipeline import make_pipeline\n",
    "\n",
    "\n",
    "import tensorflow as tf\n",
    "import scikeras\n",
    "from tensorflow.keras.layers import Dense, Flatten, Dropout, Input\n",
    "from tensorflow.keras.models import Sequential\n",
    "from tensorflow.keras.utils import to_categorical, normalize\n",
    "from sklearn.metrics import classification_report\n",
    "from scikeras.wrappers import KerasClassifier\n",
    "\n",
    "import nltk\n",
    "nltk.download('stopwords')\n",
    "nltk.download('punkt')\n",
    "nltk.download('wordnet')\n",
    "\n",
    "\n",
    "import warnings\n",
    "warnings.filterwarnings(\"ignore\")"
   ]
  },
  {
   "cell_type": "markdown",
   "id": "d8eedb7d",
   "metadata": {},
   "source": [
    "#### Datasets"
   ]
  },
  {
   "cell_type": "code",
   "execution_count": 36,
   "id": "241ffc87",
   "metadata": {
    "scrolled": true
   },
   "outputs": [],
   "source": [
    "#importing the dataset:the train dataset \n",
    "train_df = pd.read_csv(\"Data/processed/train.csv\")\n",
    "# train_df.head(5)"
   ]
  },
  {
   "cell_type": "code",
   "execution_count": 37,
   "id": "c90f6f9f",
   "metadata": {},
   "outputs": [],
   "source": [
    "#importing the dataset: the test \n",
    "test_df = pd.read_csv(\"Data/processed/test.csv\")\n",
    "# test_df.head(5)"
   ]
  },
  {
   "cell_type": "markdown",
   "id": "ac9a5e2b",
   "metadata": {
    "jp-MarkdownHeadingCollapsed": true
   },
   "source": [
    "#### 2.1 Data inspection"
   ]
  },
  {
   "cell_type": "code",
   "execution_count": 38,
   "id": "e821ad56",
   "metadata": {},
   "outputs": [
    {
     "name": "stdout",
     "output_type": "stream",
     "text": [
      "The dimensions for the Train set are: (5520, 5)\n",
      "The dimensions for the test set are: (2000, 5)\n"
     ]
    }
   ],
   "source": [
    "print(\"The dimensions for the Train set are:\", train_df.shape)\n",
    "print(\"The dimensions for the test set are:\",test_df.shape)"
   ]
  },
  {
   "cell_type": "code",
   "execution_count": 39,
   "id": "19bc4336",
   "metadata": {},
   "outputs": [
    {
     "name": "stdout",
     "output_type": "stream",
     "text": [
      "<class 'pandas.core.frame.DataFrame'>\n",
      "RangeIndex: 5520 entries, 0 to 5519\n",
      "Data columns (total 5 columns):\n",
      " #   Column       Non-Null Count  Dtype \n",
      "---  ------       --------------  ----- \n",
      " 0   headlines    5520 non-null   object\n",
      " 1   description  5520 non-null   object\n",
      " 2   content      5520 non-null   object\n",
      " 3   url          5520 non-null   object\n",
      " 4   category     5520 non-null   object\n",
      "dtypes: object(5)\n",
      "memory usage: 215.8+ KB\n",
      "<class 'pandas.core.frame.DataFrame'>\n",
      "RangeIndex: 2000 entries, 0 to 1999\n",
      "Data columns (total 5 columns):\n",
      " #   Column       Non-Null Count  Dtype \n",
      "---  ------       --------------  ----- \n",
      " 0   headlines    2000 non-null   object\n",
      " 1   description  2000 non-null   object\n",
      " 2   content      2000 non-null   object\n",
      " 3   url          2000 non-null   object\n",
      " 4   category     2000 non-null   object\n",
      "dtypes: object(5)\n",
      "memory usage: 78.3+ KB\n"
     ]
    },
    {
     "data": {
      "text/plain": [
       "None"
      ]
     },
     "metadata": {},
     "output_type": "display_data"
    },
    {
     "data": {
      "text/plain": [
       "None"
      ]
     },
     "metadata": {},
     "output_type": "display_data"
    }
   ],
   "source": [
    "display(train_df.info(), test_df.info())"
   ]
  },
  {
   "cell_type": "markdown",
   "id": "dbf51bf5",
   "metadata": {},
   "source": [
    "There are no missing values in both the train and test dataset"
   ]
  },
  {
   "cell_type": "code",
   "execution_count": 6,
   "id": "4bfc2cf8",
   "metadata": {},
   "outputs": [
    {
     "name": "stdout",
     "output_type": "stream",
     "text": [
      "             Train Null Count  Test Null Count\n",
      "headlines                   0                0\n",
      "description                 0                0\n",
      "content                     0                0\n",
      "url                         0                0\n",
      "category                    0                0\n"
     ]
    }
   ],
   "source": [
    "null_counts = pd.DataFrame({\n",
    "    \"Train Null Count\": train_df.isnull().sum(),\n",
    "    \"Test Null Count\": test_df.isnull().sum()\n",
    "})\n",
    "print(null_counts)"
   ]
  },
  {
   "cell_type": "code",
   "execution_count": 7,
   "id": "a820a583",
   "metadata": {},
   "outputs": [
    {
     "data": {
      "text/plain": [
       "0"
      ]
     },
     "metadata": {},
     "output_type": "display_data"
    },
    {
     "data": {
      "text/plain": [
       "0"
      ]
     },
     "metadata": {},
     "output_type": "display_data"
    }
   ],
   "source": [
    "display(train_df.duplicated().sum(), test_df.duplicated().sum())"
   ]
  },
  {
   "cell_type": "markdown",
   "id": "20c4c820",
   "metadata": {},
   "source": [
    "Number of duplicate for train set rows: 0\n",
    "\n",
    "Number of duplicate for test set rows: 0"
   ]
  },
  {
   "cell_type": "code",
   "execution_count": 8,
   "id": "dcf638e5",
   "metadata": {},
   "outputs": [
    {
     "name": "stdout",
     "output_type": "stream",
     "text": [
      "                 Metric  Train Dataset  Test Dataset\n",
      "0        Number of Rows           5520          2000\n",
      "1     Number of Columns              5             5\n",
      "2  Total Missing Values              0             0\n",
      "3        Duplicate Rows              0             0\n",
      "4     Numerical Columns              0             0\n",
      "5   Categorical Columns              5             5\n"
     ]
    }
   ],
   "source": [
    "def inspect_dataset(df):\n",
    "    return {\n",
    "        \"Number of Rows\": df.shape[0],\n",
    "        \"Number of Columns\": df.shape[1],\n",
    "        \"Total Missing Values\": df.isnull().sum().sum(),\n",
    "        \"Duplicate Rows\": df.duplicated().sum(),\n",
    "        \"Numerical Columns\": df.select_dtypes(include='number').shape[1],\n",
    "        \"Categorical Columns\": df.select_dtypes(include='object').shape[1],\n",
    "    }\n",
    "\n",
    "train_inspection = inspect_dataset(train_df)\n",
    "test_inspection = inspect_dataset(test_df)\n",
    "\n",
    "inspection_results = pd.DataFrame({\n",
    "    \"Metric\": train_inspection.keys(),\n",
    "    \"Train Dataset\": train_inspection.values(),\n",
    "    \"Test Dataset\": test_inspection.values(),\n",
    "})\n",
    "\n",
    "print(inspection_results)"
   ]
  },
  {
   "cell_type": "code",
   "execution_count": 9,
   "id": "2cb9fec8",
   "metadata": {},
   "outputs": [
    {
     "data": {
      "text/html": [
       "<div>\n",
       "<style scoped>\n",
       "    .dataframe tbody tr th:only-of-type {\n",
       "        vertical-align: middle;\n",
       "    }\n",
       "\n",
       "    .dataframe tbody tr th {\n",
       "        vertical-align: top;\n",
       "    }\n",
       "\n",
       "    .dataframe thead th {\n",
       "        text-align: right;\n",
       "    }\n",
       "</style>\n",
       "<table border=\"1\" class=\"dataframe\">\n",
       "  <thead>\n",
       "    <tr style=\"text-align: right;\">\n",
       "      <th></th>\n",
       "      <th>count</th>\n",
       "      <th>unique</th>\n",
       "      <th>top</th>\n",
       "      <th>freq</th>\n",
       "    </tr>\n",
       "  </thead>\n",
       "  <tbody>\n",
       "    <tr>\n",
       "      <th>headlines</th>\n",
       "      <td>5520</td>\n",
       "      <td>5512</td>\n",
       "      <td>International Education Day 2024: Know why it ...</td>\n",
       "      <td>2</td>\n",
       "    </tr>\n",
       "    <tr>\n",
       "      <th>description</th>\n",
       "      <td>5520</td>\n",
       "      <td>5508</td>\n",
       "      <td>The university has removed the requirements of...</td>\n",
       "      <td>2</td>\n",
       "    </tr>\n",
       "    <tr>\n",
       "      <th>content</th>\n",
       "      <td>5520</td>\n",
       "      <td>5513</td>\n",
       "      <td>Grand Slam fever grips tennis fans all over th...</td>\n",
       "      <td>5</td>\n",
       "    </tr>\n",
       "    <tr>\n",
       "      <th>url</th>\n",
       "      <td>5520</td>\n",
       "      <td>5514</td>\n",
       "      <td>https://indianexpress.com/article/education/kc...</td>\n",
       "      <td>2</td>\n",
       "    </tr>\n",
       "    <tr>\n",
       "      <th>category</th>\n",
       "      <td>5520</td>\n",
       "      <td>5</td>\n",
       "      <td>education</td>\n",
       "      <td>1520</td>\n",
       "    </tr>\n",
       "  </tbody>\n",
       "</table>\n",
       "</div>"
      ],
      "text/plain": [
       "            count unique                                                top  \\\n",
       "headlines    5520   5512  International Education Day 2024: Know why it ...   \n",
       "description  5520   5508  The university has removed the requirements of...   \n",
       "content      5520   5513  Grand Slam fever grips tennis fans all over th...   \n",
       "url          5520   5514  https://indianexpress.com/article/education/kc...   \n",
       "category     5520      5                                          education   \n",
       "\n",
       "             freq  \n",
       "headlines       2  \n",
       "description     2  \n",
       "content         5  \n",
       "url             2  \n",
       "category     1520  "
      ]
     },
     "execution_count": 9,
     "metadata": {},
     "output_type": "execute_result"
    }
   ],
   "source": [
    "train_df.describe().T\n",
    "#check if there are duplicates "
   ]
  },
  {
   "cell_type": "code",
   "execution_count": 10,
   "id": "fca3a19b-a61a-4dd2-abdf-bd45324bcf1c",
   "metadata": {},
   "outputs": [
    {
     "name": "stdout",
     "output_type": "stream",
     "text": [
      "                                           headlines  \\\n",
      "0  NLC India wins contract for power supply to Ra...   \n",
      "1  SBI Clerk prelims exams dates announced; admit...   \n",
      "2  Golden Globes: Michelle Yeoh, Will Ferrell, An...   \n",
      "3  OnePlus Nord 3 at Rs 27,999 as part of new pri...   \n",
      "4  Adani family’s partners used ‘opaque’ funds to...   \n",
      "\n",
      "                                         description  \\\n",
      "0  State-owned firm NLC India Ltd (NLCIL) on Mond...   \n",
      "1  SBI Clerk Prelims Exam: The SBI Clerk prelims ...   \n",
      "2  Barbie is the top nominee this year, followed ...   \n",
      "3  New deal makes the OnePlus Nord 3 an easy purc...   \n",
      "4  Citing review of files from multiple tax haven...   \n",
      "\n",
      "                                             content  \\\n",
      "0  State-owned firm NLC India Ltd (NLCIL) on Mond...   \n",
      "1  SBI Clerk Prelims Exam: The State Bank of Indi...   \n",
      "2  Michelle Yeoh, Will Ferrell, Angela Bassett an...   \n",
      "3  In our review of the OnePlus Nord 3 5G, we pra...   \n",
      "4  Millions of dollars were invested in some publ...   \n",
      "\n",
      "                                                 url       category  \n",
      "0  https://indianexpress.com/article/business/com...       business  \n",
      "1  https://indianexpress.com/article/education/sb...      education  \n",
      "2  https://indianexpress.com/article/entertainmen...  entertainment  \n",
      "3  https://indianexpress.com/article/technology/t...     technology  \n",
      "4  https://indianexpress.com/article/business/ada...       business  \n"
     ]
    }
   ],
   "source": [
    "categories = train_df.category.unique()\n",
    "print(test_df.head())"
   ]
  },
  {
   "cell_type": "markdown",
   "id": "4da7e3d5",
   "metadata": {},
   "source": [
    "<h3>2.2. Data Preprocessing</h3>"
   ]
  },
  {
   "cell_type": "markdown",
   "id": "566757dc-4f10-4094-9ca1-03c50dace47f",
   "metadata": {},
   "source": [
    "<h4> Preprocessing function that tokenizes, removes stop words and lematizes the text</h4>"
   ]
  },
  {
   "cell_type": "code",
   "execution_count": 40,
   "id": "25e4619f-aa90-4e3d-a190-c3a4371c4c81",
   "metadata": {},
   "outputs": [],
   "source": [
    "def preprocess_text(text):\n",
    "    # Tokenize the text\n",
    "    tokens = nltk.word_tokenize(text)\n",
    "\n",
    "    # Remove stopwords\n",
    "    stop_words = set(stopwords.words('english'))\n",
    "    no_stop_words = [word for word in tokens if word.lower() not in stop_words]\n",
    "\n",
    "    # Remove punctuation\n",
    "    no_puntuation = [word for word in no_stop_words if word.isalnum()]\n",
    "\n",
    "    # Lemmatize tokens\n",
    "    lemmatizer = WordNetLemmatizer()\n",
    "    lemmatized_tokens = [lemmatizer.lemmatize(word) for word in no_puntuation]\n",
    "\n",
    "    # Join tokens back into a single string\n",
    "    return ' '.join(lemmatized_tokens)\n"
   ]
  },
  {
   "cell_type": "code",
   "execution_count": 41,
   "id": "987db596-a08d-41f2-b7c9-874ca17c3af3",
   "metadata": {},
   "outputs": [],
   "source": [
    "columns_to_process = ['headlines', 'description', 'content'] #We will deal with URLs later\n",
    "\n",
    "for col in columns_to_process:\n",
    "    train_df[col] = train_df[col].apply(preprocess_text)\n",
    "    test_df[col] = test_df[col].apply(preprocess_text)"
   ]
  },
  {
   "cell_type": "code",
   "execution_count": 42,
   "id": "467190dc-5a08-4773-809d-1f568d27107a",
   "metadata": {},
   "outputs": [
    {
     "name": "stdout",
     "output_type": "stream",
     "text": [
      "                                           headlines  \\\n",
      "0           RBI revise definition person KYC purpose   \n",
      "1  NDTV Q2 net profit fall Rs crore impacted lowe...   \n",
      "2  Akasa Air well capitalised grow much faster CE...   \n",
      "3  India current account deficit decline sharply ...   \n",
      "4      States borrowing cost soar highest far fiscal   \n",
      "\n",
      "                                         description  \\\n",
      "0  central bank also asked chairperson chief exec...   \n",
      "1  NDTV consolidated revenue operation Rs crore R...   \n",
      "2  initial share sale open public subscription Ju...   \n",
      "3  current account deficit CAD per cent GDP USD b...   \n",
      "4  price shot reflecting overall higher risk aver...   \n",
      "\n",
      "                                             content  \\\n",
      "0  Reserve Bank India RBI changed definition Pers...   \n",
      "1  Broadcaster New Delhi Television Ltd Monday re...   \n",
      "2  Homegrown server maker Netweb Technologies Ind...   \n",
      "3  India current account deficit declined sharply...   \n",
      "4  States forced pay nose weekly auction debt Tue...   \n",
      "\n",
      "                                                 url  category  \n",
      "0  https://indianexpress.com/article/business/ban...  business  \n",
      "1  https://indianexpress.com/article/business/com...  business  \n",
      "2  https://indianexpress.com/article/business/mar...  business  \n",
      "3  https://indianexpress.com/article/business/eco...  business  \n",
      "4  https://indianexpress.com/article/business/eco...  business  \n",
      "                                           headlines  \\\n",
      "0  NLC India win contract power supply Rajasthan ...   \n",
      "1  SBI Clerk prelim exam date announced admit car...   \n",
      "2  Golden Globes Michelle Yeoh Ferrell Angela Bas...   \n",
      "3               OnePlus Nord 3 Rs part new price cut   \n",
      "4  Adani family partner used opaque fund invest s...   \n",
      "\n",
      "                                         description  \\\n",
      "0  firm NLC India Ltd NLCIL Monday said emerged s...   \n",
      "1  SBI Clerk Prelims Exam SBI Clerk prelim exam 2...   \n",
      "2  Barbie top nominee year followed closely Oppen...   \n",
      "3  New deal make OnePlus Nord 3 easy purchase Rs 30k   \n",
      "4  Citing review file multiple tax haven internal...   \n",
      "\n",
      "                                             content  \\\n",
      "0  firm NLC India Ltd NLCIL Monday said emerged s...   \n",
      "1  SBI Clerk Prelims Exam State Bank Indian SBI a...   \n",
      "2  Michelle Yeoh Ferrell Angela Bassett Amanda Se...   \n",
      "3  review OnePlus Nord 3 5G praised balanced comb...   \n",
      "4  Millions dollar invested publicly traded stock...   \n",
      "\n",
      "                                                 url       category  \n",
      "0  https://indianexpress.com/article/business/com...       business  \n",
      "1  https://indianexpress.com/article/education/sb...      education  \n",
      "2  https://indianexpress.com/article/entertainmen...  entertainment  \n",
      "3  https://indianexpress.com/article/technology/t...     technology  \n",
      "4  https://indianexpress.com/article/business/ada...       business  \n"
     ]
    }
   ],
   "source": [
    "print(train_df.head())\n",
    "print(test_df.head())"
   ]
  },
  {
   "cell_type": "markdown",
   "id": "33ab3499",
   "metadata": {
    "jp-MarkdownHeadingCollapsed": true
   },
   "source": [
    "<h4>2.2.1. Removing stopwords</h4>"
   ]
  },
  {
   "cell_type": "code",
   "execution_count": null,
   "id": "ba4852fa",
   "metadata": {},
   "outputs": [],
   "source": [
    "stop_words = set(stopwords.words('english'))\n",
    "\n",
    "columns_to_tokenize = ['headlines', 'description', 'content']\n",
    "\n",
    "def remove_stopwords(tokens):\n",
    "    return ''.join([t for t in tokens if t not in stopwords.words('english')])\n",
    "\n",
    "def remove_stop_words(tokens):    \n",
    "    return [t for t in tokens if t not in stopwords.words('english')]\n",
    "\n",
    "for col in columns_to_tokenize:\n",
    "    train_df[col] = train_df[col].apply(remove_stopwords)\n",
    "    test_df[col] = test_df[col].apply(remove_stopwords)\n",
    "\n",
    "print(\"Train DataFrame (After Removing Stopwords):\")\n",
    "print(train_df.head())\n",
    "\n",
    "print(\"\\nTest DataFrame (After Removing Stopwords):\")\n",
    "print(test_df.head())"
   ]
  },
  {
   "cell_type": "markdown",
   "id": "69d84aa3",
   "metadata": {
    "jp-MarkdownHeadingCollapsed": true
   },
   "source": [
    "<h4>2.2.2. Removing punctuation</h4>"
   ]
  },
  {
   "cell_type": "code",
   "execution_count": null,
   "id": "956fb95b",
   "metadata": {},
   "outputs": [],
   "source": [
    "def remove_punctuation(text):\n",
    "    return re.sub(r'[^a-zA-Z\\s]', '', text)\n",
    "\n",
    "train_df['headlines'] = train_df['headlines'].apply(remove_punctuation)\n",
    "train_df['description'] = train_df['description'].apply(remove_punctuation)\n",
    "train_df['content'] = train_df['content'].apply(remove_punctuation)\n",
    "\n",
    "test_df['headlines'] = test_df['headlines'].apply(remove_punctuation)\n",
    "test_df['content'] = test_df['content'].apply(remove_punctuation)\n",
    "test_df['content'] = test_df['content'].apply(remove_punctuation)\n",
    "\n",
    "print(\"Train DataFrame:\")\n",
    "print(train_df.head())\n",
    "\n",
    "print(\"\\nTest DataFrame:\")\n",
    "print(test_df.head())"
   ]
  },
  {
   "cell_type": "markdown",
   "id": "44093f03",
   "metadata": {
    "jp-MarkdownHeadingCollapsed": true
   },
   "source": [
    "<h4>2.2.3. Lowercase</h4>"
   ]
  },
  {
   "cell_type": "code",
   "execution_count": null,
   "id": "ad1f3386",
   "metadata": {},
   "outputs": [],
   "source": [
    "columns_to_lowercase = ['headlines', 'description', 'content']\n",
    "\n",
    "for col in columns_to_lowercase:\n",
    "    train_df[col] = train_df[col].str.lower()\n",
    "    test_df[col] = test_df[col].str.lower()\n",
    "\n",
    "print(\"Train DataFrame:\")\n",
    "print(train_df.head())\n",
    "print(\"\\nTest DataFrame:\")\n",
    "\n",
    "print(test_df.head())"
   ]
  },
  {
   "cell_type": "markdown",
   "id": "57a4780e-e273-4939-a559-5cf43f398309",
   "metadata": {},
   "source": [
    "<h4>2.2.4. Handling URLs</h4>"
   ]
  },
  {
   "cell_type": "markdown",
   "id": "b74abde7-4878-4a77-b9e6-86d818d6c961",
   "metadata": {},
   "source": [
    "Some URLs tend to have the category of the article in them while some don't the following code will be used to extract that URL in the case that the category is there, and leave \"uncategorised\" if there is no category "
   ]
  },
  {
   "cell_type": "code",
   "execution_count": 12,
   "id": "f4b46f7a-02e1-4686-92fb-2b3a82c28eee",
   "metadata": {},
   "outputs": [],
   "source": [
    "# Getting the categories from our data frames\n",
    "train_categories_df = pd.DataFrame({'category': train_df.category.unique()})\n",
    "\n",
    "# Converting the category column to a set for faster lookup\n",
    "predefined_categories = set(train_categories_df['category'].str.lower())\n"
   ]
  },
  {
   "cell_type": "code",
   "execution_count": 13,
   "id": "e53ce5c4-abba-413e-8d59-50b9584fa570",
   "metadata": {},
   "outputs": [],
   "source": [
    "def extract_category(url):\n",
    "    \n",
    "    # Parsing the URL to extract the path\n",
    "    parsed_url = urlparse(url)\n",
    "    path = parsed_url.path.strip('/')\n",
    "\n",
    "    # Splitting the path into segments\n",
    "    path_segments = path.split('/')\n",
    "\n",
    "    # Defining a default category in case there is no clear category found within the URL\n",
    "    default_category = 'uncategorized'\n",
    "\n",
    "    # Checking if the URL contains the word 'article' and extracting the category \n",
    "    if 'article' in path_segments:\n",
    "        \n",
    "        # Finding the position of 'article' and assume the next segment is the category\n",
    "        #This is for the URLs that have the category directly after the '/article/' in the URL\n",
    "        index = path_segments.index('article')\n",
    "        if index + 1 < len(path_segments):\n",
    "            category = path_segments[index + 1].lower()\n",
    "            if category in predefined_categories:\n",
    "                return category\n",
    "    \n",
    "    # Check for cases where the category is not directly after 'article', or if 'article' is missing\n",
    "    for segment in path_segments:\n",
    "        # Match alphanumeric categories and check against predefined categories\n",
    "        category = segment.lower()\n",
    "        if re.match(r'^[a-zA-Z\\-]+$', category) and category in predefined_categories:\n",
    "            return category\n",
    "\n",
    "    # Return the default category if no category is found\n",
    "    return default_category"
   ]
  },
  {
   "cell_type": "code",
   "execution_count": 14,
   "id": "d16645ee-8be9-40f6-8f90-f26e5b66db23",
   "metadata": {},
   "outputs": [
    {
     "data": {
      "text/html": [
       "<div>\n",
       "<style scoped>\n",
       "    .dataframe tbody tr th:only-of-type {\n",
       "        vertical-align: middle;\n",
       "    }\n",
       "\n",
       "    .dataframe tbody tr th {\n",
       "        vertical-align: top;\n",
       "    }\n",
       "\n",
       "    .dataframe thead th {\n",
       "        text-align: right;\n",
       "    }\n",
       "</style>\n",
       "<table border=\"1\" class=\"dataframe\">\n",
       "  <thead>\n",
       "    <tr style=\"text-align: right;\">\n",
       "      <th></th>\n",
       "      <th>headlines</th>\n",
       "      <th>description</th>\n",
       "      <th>content</th>\n",
       "      <th>category</th>\n",
       "    </tr>\n",
       "  </thead>\n",
       "  <tbody>\n",
       "    <tr>\n",
       "      <th>0</th>\n",
       "      <td>RBI revises definition of politically-exposed ...</td>\n",
       "      <td>The central bank has also asked chairpersons a...</td>\n",
       "      <td>The Reserve Bank of India (RBI) has changed th...</td>\n",
       "      <td>business</td>\n",
       "    </tr>\n",
       "    <tr>\n",
       "      <th>1</th>\n",
       "      <td>NDTV Q2 net profit falls 57.4% to Rs 5.55 cror...</td>\n",
       "      <td>NDTV's consolidated revenue from operations wa...</td>\n",
       "      <td>Broadcaster New Delhi Television Ltd on Monday...</td>\n",
       "      <td>business</td>\n",
       "    </tr>\n",
       "    <tr>\n",
       "      <th>2</th>\n",
       "      <td>Akasa Air ‘well capitalised’, can grow much fa...</td>\n",
       "      <td>The initial share sale will be open for public...</td>\n",
       "      <td>Homegrown server maker Netweb Technologies Ind...</td>\n",
       "      <td>business</td>\n",
       "    </tr>\n",
       "    <tr>\n",
       "      <th>3</th>\n",
       "      <td>India’s current account deficit declines sharp...</td>\n",
       "      <td>The current account deficit (CAD) was 3.8 per ...</td>\n",
       "      <td>India’s current account deficit declined sharp...</td>\n",
       "      <td>business</td>\n",
       "    </tr>\n",
       "    <tr>\n",
       "      <th>4</th>\n",
       "      <td>States borrowing cost soars to 7.68%, highest ...</td>\n",
       "      <td>The prices shot up reflecting the overall high...</td>\n",
       "      <td>States have been forced to pay through their n...</td>\n",
       "      <td>business</td>\n",
       "    </tr>\n",
       "  </tbody>\n",
       "</table>\n",
       "</div>"
      ],
      "text/plain": [
       "                                           headlines  \\\n",
       "0  RBI revises definition of politically-exposed ...   \n",
       "1  NDTV Q2 net profit falls 57.4% to Rs 5.55 cror...   \n",
       "2  Akasa Air ‘well capitalised’, can grow much fa...   \n",
       "3  India’s current account deficit declines sharp...   \n",
       "4  States borrowing cost soars to 7.68%, highest ...   \n",
       "\n",
       "                                         description  \\\n",
       "0  The central bank has also asked chairpersons a...   \n",
       "1  NDTV's consolidated revenue from operations wa...   \n",
       "2  The initial share sale will be open for public...   \n",
       "3  The current account deficit (CAD) was 3.8 per ...   \n",
       "4  The prices shot up reflecting the overall high...   \n",
       "\n",
       "                                             content  category  \n",
       "0  The Reserve Bank of India (RBI) has changed th...  business  \n",
       "1  Broadcaster New Delhi Television Ltd on Monday...  business  \n",
       "2  Homegrown server maker Netweb Technologies Ind...  business  \n",
       "3  India’s current account deficit declined sharp...  business  \n",
       "4  States have been forced to pay through their n...  business  "
      ]
     },
     "execution_count": 14,
     "metadata": {},
     "output_type": "execute_result"
    }
   ],
   "source": [
    "train_df['url'] = train_df['url'].apply(extract_category)\n",
    "test_df['url'] = test_df['url'].apply(extract_category)\n",
    "\n",
    "#The URL columns may not always reliably provide information on the category, so we drop the column\n",
    "train_df = train_df.drop(columns='url', axis=1)\n",
    "test_df = test_df.drop(columns='url', axis=1)\n",
    "\n",
    "train_df.head()"
   ]
  },
  {
   "cell_type": "markdown",
   "id": "9b798b12",
   "metadata": {
    "jp-MarkdownHeadingCollapsed": true
   },
   "source": [
    "<h4>2.2.4. Tokenisation</h4>"
   ]
  },
  {
   "cell_type": "code",
   "execution_count": null,
   "id": "2febe50b",
   "metadata": {},
   "outputs": [],
   "source": [
    "columns_to_tokenize = ['headlines', 'description', 'content', 'url']\n",
    "tokenizer = tokeniser = TreebankWordTokenizer()\n",
    "\n",
    "for col in columns_to_tokenize:\n",
    "    train_df[col] = train_df[col].apply(tokenizer.tokenize)\n",
    "    test_df[col] = test_df[col].apply(word_tokenize)\n",
    "    \n",
    "print(train_df.head())\n",
    "print(test_df.head())"
   ]
  },
  {
   "cell_type": "markdown",
   "id": "9f7bbd6f",
   "metadata": {
    "jp-MarkdownHeadingCollapsed": true
   },
   "source": [
    "<h4>2.2.6. Lemmatization</h4>"
   ]
  },
  {
   "cell_type": "code",
   "execution_count": null,
   "id": "96408440",
   "metadata": {},
   "outputs": [],
   "source": [
    "lemmatizer = WordNetLemmatizer()\n",
    "\n",
    "columns_to_process = ['headlines', 'description', 'content']\n",
    "\n",
    "def lemmatize_tokens(tokens):\n",
    "    return [lemmatizer.lemmatize(word) for word in tokens]\n",
    "\n",
    "for col in columns_to_process:\n",
    "  \n",
    "    train_df[col] = train_df[col].apply(lemmatize_tokens)\n",
    "    test_df[col] = test_df[col].apply(lemmatize_tokens)\n",
    "\n",
    "print(\"Train DataFrame (After Lemmatization):\")\n",
    "print(train_df.head())\n",
    "\n",
    "print(\"\\nTest DataFrame (After Lemmatization):\")\n",
    "print(test_df.head())\n",
    "#choosing this lemmatization "
   ]
  },
  {
   "cell_type": "code",
   "execution_count": null,
   "id": "24f0832b",
   "metadata": {},
   "outputs": [],
   "source": [
    "new_train_df = train_df\n",
    "new_test_df = test_df"
   ]
  },
  {
   "cell_type": "code",
   "execution_count": null,
   "id": "184c55e2",
   "metadata": {},
   "outputs": [],
   "source": [
    "new_train_df.head(5)"
   ]
  },
  {
   "cell_type": "code",
   "execution_count": null,
   "id": "c994ca99",
   "metadata": {},
   "outputs": [],
   "source": [
    "new_test_df.head(5)"
   ]
  },
  {
   "cell_type": "code",
   "execution_count": null,
   "id": "03694a84",
   "metadata": {},
   "outputs": [],
   "source": []
  },
  {
   "cell_type": "markdown",
   "id": "2326a3aa-7158-44d5-bb16-b6bc7931b8d8",
   "metadata": {},
   "source": [
    "<h4> Vectorizing</h4>"
   ]
  },
  {
   "cell_type": "markdown",
   "id": "1f068c64-a69e-474f-bec2-6cff28a3b0cd",
   "metadata": {},
   "source": [
    "Before performing the train test split, we will use a TF-IDF vectorizer to draw out important words that may help in predicting the category of an article"
   ]
  },
  {
   "cell_type": "code",
   "execution_count": 43,
   "id": "4e8e342d-e360-4615-b284-0151c431bb25",
   "metadata": {},
   "outputs": [],
   "source": [
    "# Initialize TF-IDF Vectorizer\n",
    "tfidf = TfidfVectorizer(max_features=1000)  # Limit to 1000 features for efficiency\n",
    "\n",
    "# Fit and transform the 'content' column\n",
    "tfidf_matrix_train = tfidf.fit_transform(train_df['content'])\n",
    "tfidf_matrix_test = tfidf.transform(test_df['content'])\n",
    "\n",
    "# Convert TF-IDF matrix to a DataFrame\n",
    "tfidf_df_train = pd.DataFrame(tfidf_matrix_train.toarray(), columns=tfidf.get_feature_names_out())\n",
    "tfidf_df_test = pd.DataFrame(tfidf_matrix_test.toarray(), columns=tfidf.get_feature_names_out()) "
   ]
  },
  {
   "cell_type": "code",
   "execution_count": 44,
   "id": "fb238553-8fc2-48e2-b064-090f51eb094d",
   "metadata": {},
   "outputs": [],
   "source": [
    "# Reset index on both DataFrames to ensure alignment\n",
    "train_df = train_df.reset_index(drop=True)\n",
    "tfidf_df_train = tfidf_df_train.reset_index(drop=True)\n",
    "\n",
    "test_df = test_df.reset_index(drop=True)\n",
    "tfidf_df_test = tfidf_df_test.reset_index(drop=True)\n",
    "\n",
    "# Merge TF-IDF features and other columns\n",
    "combined_train_df = pd.concat([train_df.drop(columns=['content']), tfidf_df_train], axis=1)\n",
    "combined_test_df = pd.concat([test_df.drop(columns=['content']), tfidf_df_test], axis=1)\n",
    "\n",
    "combined_train_df = combined_train_df.loc[:, ~combined_train_df.columns.duplicated()]\n",
    "combined_test_df = combined_test_df.loc[:, ~combined_test_df.columns.duplicated()]\n",
    "\n",
    "# print(combined_train_df.head(3))\n",
    "# print(combined_test_df.head(3))"
   ]
  },
  {
   "cell_type": "markdown",
   "id": "6c3713cd-5a0a-4263-a7f9-a84b401f2632",
   "metadata": {},
   "source": [
    "We will perform hyperparameter tuning to ensure we are using the best number for max-features"
   ]
  },
  {
   "cell_type": "markdown",
   "id": "81f011f9-6f79-46dc-9e8a-3c6a9b8c13e8",
   "metadata": {},
   "source": [
    "<h4>2.3. Train-test split</h4>"
   ]
  },
  {
   "cell_type": "markdown",
   "id": "72dbb259-5852-40cb-9bb4-905904aa7a12",
   "metadata": {},
   "source": [
    "On top of performing the standard train-test split, we will also create a validation set from the training data. This will help us evaluate our model during training."
   ]
  },
  {
   "cell_type": "code",
   "execution_count": 45,
   "id": "6b444de7-4490-4036-a481-ed3df3e0c068",
   "metadata": {},
   "outputs": [],
   "source": [
    "# Perform a train-validation split (e.g., 80% train, 20% validation)\n",
    "train_data, val_data = train_test_split(combined_train_df, test_size=0.2, random_state=42)\n",
    "\n",
    "X_train = train_data.drop(columns='category', axis=1)\n",
    "y_train = train_data['category']\n",
    "\n",
    "X_val = val_data.drop(columns='category', axis=1)\n",
    "y_val = val_data['category']\n",
    "\n",
    "X_test = combined_test_df.drop(columns='category', axis=1)\n",
    "y_test = combined_test_df['category']\n"
   ]
  },
  {
   "cell_type": "markdown",
   "id": "629b5ecb-68f5-44a8-9066-b4e1bd5892eb",
   "metadata": {},
   "source": [
    "<h4>2.4. Handling Class Imbalances</h4> "
   ]
  },
  {
   "cell_type": "markdown",
   "id": "96d240d5-994d-49da-a131-1f3cdb9b5a41",
   "metadata": {},
   "source": [
    "Now, we will check if the categories have an equal spread of observations. If there is a class imbalance this can lead to overfitting and models being able to predict the majority categories better, while poorly predicting the minority categories."
   ]
  },
  {
   "cell_type": "code",
   "execution_count": 46,
   "id": "95d3fdba-e97d-42a7-b8e6-084545072b0d",
   "metadata": {},
   "outputs": [
    {
     "data": {
      "text/plain": [
       "category\n",
       "education        1246\n",
       "technology       1010\n",
       "business          875\n",
       "entertainment     782\n",
       "sports            503\n",
       "Name: count, dtype: int64"
      ]
     },
     "execution_count": 46,
     "metadata": {},
     "output_type": "execute_result"
    }
   ],
   "source": [
    "#Getting an idea of the counts of each category\n",
    "y_train.value_counts()"
   ]
  },
  {
   "cell_type": "code",
   "execution_count": 47,
   "id": "a4ea59f3-9c75-48d8-9b8b-a73b10a3973e",
   "metadata": {},
   "outputs": [
    {
     "data": {
      "image/png": "[encoded data removed]",
      "text/plain": [
       "<Figure size 640x480 with 1 Axes>"
      ]
     },
     "metadata": {},
     "output_type": "display_data"
    }
   ],
   "source": [
    "#Storing the count of each category, which will be used later for visualising them\n",
    "category_counts = y_train.value_counts()\n",
    "\n",
    "#Plotting a bar graph that shows the differing counts of each category\n",
    "category_counts.plot(kind='bar', color='skyblue')\n",
    "plt.title('Category Counts')\n",
    "plt.xlabel('Category')\n",
    "plt.ylabel('Count')\n",
    "plt.xticks(rotation=0)\n",
    "plt.show()\n"
   ]
  },
  {
   "cell_type": "markdown",
   "id": "ecf5f5ec-b150-41d2-af78-ed889c6b6e76",
   "metadata": {},
   "source": [
    "From this bar graph we can clearly see that there is a class imbalance within the training data. If not addressed, this could lead the model to being good at predicting the majority categories (education and technology) and not so much the minorities (sports and entertainment). To ensure that the model is equally effectivce at predicting all the categories, we will implement both upsampling and downsampling on the categories below."
   ]
  },
  {
   "cell_type": "code",
   "execution_count": 48,
   "id": "7ba2c2ea-126d-4b07-be71-dc0ff7a2a7c8",
   "metadata": {},
   "outputs": [],
   "source": [
    "#Splitting the categories so we can calculate the target length\n",
    "\n",
    "business = combined_train_df[combined_train_df['category'] == 'business']\n",
    "education = combined_train_df[combined_train_df['category'] == 'education']\n",
    "technology = combined_train_df[combined_train_df['category'] == 'technology']\n",
    "entertainment = combined_train_df[combined_train_df['category'] == 'entertainment']\n",
    "sports = combined_train_df[combined_train_df['category'] == 'sports']\n",
    "\n",
    "categories = [business, education, technology, entertainment, sports]"
   ]
  },
  {
   "cell_type": "code",
   "execution_count": 49,
   "id": "cd0aae8c-55cf-404b-b48a-636a2748f255",
   "metadata": {},
   "outputs": [],
   "source": [
    "#Getting the target class size we need across the categories\n",
    "target_length = int(len(business + education + technology + entertainment + sports) / 5 )\n",
    "\n",
    "\n",
    "#Creating an empty list that will contain the resampled categories\n",
    "resampled_cat = []\n",
    "\n",
    "for category in categories:\n",
    "    if len(category) > target_length:\n",
    "        #Downsampling majority\n",
    "        category = resample(category,\n",
    "                          replace=False, # sample without replacement (no need to duplicate observations)\n",
    "                          n_samples=target_length, # match number in minority class\n",
    "                          random_state=27)\n",
    "        \n",
    "    else:\n",
    "        #Upsampling minority\n",
    "        category = resample(category,\n",
    "        replace=True, # sample without replacement (no need to duplicate observations)\n",
    "        n_samples=target_length, # match number in minority class\n",
    "        random_state=27)\n",
    "\n",
    "    resampled_cat.append(category)\n",
    "  \n",
    "resampled_df = pd.concat(resampled_cat)\n",
    "\n",
    "X_train_resampled = resampled_df.drop(columns='category', axis=1)\n",
    "y_train_resampled = resampled_df['category']"
   ]
  },
  {
   "cell_type": "code",
   "execution_count": null,
   "id": "d98876fe-6500-48be-a870-62e0866cd35c",
   "metadata": {},
   "outputs": [],
   "source": []
  },
  {
   "cell_type": "code",
   "execution_count": 50,
   "id": "58b1155c-dd71-4de1-aa5b-278b6b00fd10",
   "metadata": {},
   "outputs": [
    {
     "data": {
      "text/plain": [
       "category\n",
       "business         1104\n",
       "education        1104\n",
       "technology       1104\n",
       "entertainment    1104\n",
       "sports           1104\n",
       "Name: count, dtype: int64"
      ]
     },
     "execution_count": 50,
     "metadata": {},
     "output_type": "execute_result"
    }
   ],
   "source": [
    "#Now, we can see the resampled counts of the categories\n",
    "y_train_resampled.value_counts()"
   ]
  },
  {
   "cell_type": "code",
   "execution_count": 51,
   "id": "792b2a83-63f1-4026-9fc9-1150edc24614",
   "metadata": {},
   "outputs": [
    {
     "data": {
      "image/png": "[encoded data removed]",
      "text/plain": [
       "<Figure size 640x480 with 1 Axes>"
      ]
     },
     "metadata": {},
     "output_type": "display_data"
    }
   ],
   "source": [
    "category_counts = y_train_resampled.value_counts()\n",
    "\n",
    "category_counts.plot(kind='bar', color='skyblue')\n",
    "plt.title('Category Counts')\n",
    "plt.xlabel('Category')\n",
    "plt.ylabel('Count')\n",
    "plt.xticks(rotation=0)\n",
    "plt.show()\n"
   ]
  },
  {
   "cell_type": "markdown",
   "id": "d4c25792-19d6-4b50-aabd-0960df077e57",
   "metadata": {},
   "source": [
    "As we can see, all the categories have been resampled to where they have the same number of observations."
   ]
  },
  {
   "cell_type": "markdown",
   "id": "72206412-afd1-48d6-ac21-bd707c766b0e",
   "metadata": {},
   "source": [
    "<h3>Models</h3>"
   ]
  },
  {
   "cell_type": "markdown",
   "id": "1c1198df-3aa6-4e5b-b551-05aa4181de54",
   "metadata": {},
   "source": [
    "<h4>Neural Network</h4>"
   ]
  },
  {
   "cell_type": "code",
   "execution_count": 398,
   "id": "e7755ce3-72af-4b6a-82d8-56e0707f961c",
   "metadata": {},
   "outputs": [],
   "source": [
    "text_columns = ['headlines', 'description']"
   ]
  },
  {
   "cell_type": "code",
   "execution_count": 400,
   "id": "e2f35488-4ce8-4c7f-abe1-fbaa8d078e53",
   "metadata": {},
   "outputs": [],
   "source": [
    "tfidf_vectorizers = {}\n",
    "vectorized_texts = []"
   ]
  },
  {
   "cell_type": "code",
   "execution_count": 402,
   "id": "6c9adb83-7677-457a-98f4-d5aa426baeb9",
   "metadata": {},
   "outputs": [],
   "source": [
    "tf_df = resampled_df.drop(columns='category', axis=1)\n",
    "\n",
    "for col in text_columns:\n",
    "    tfidf = TfidfVectorizer(max_features=1000, stop_words='english')\n",
    "    tfidf_vectorizers[col] = tfidf\n",
    "    vectorized_texts.append(tfidf.fit_transform(tf_df[col].fillna('').astype(str)).toarray())\n"
   ]
  },
  {
   "cell_type": "code",
   "execution_count": 404,
   "id": "9e76326b-238c-4606-9145-77874c5b73a7",
   "metadata": {},
   "outputs": [],
   "source": [
    "# Concatenate the vectorized features\n",
    "X = np.hstack(vectorized_texts)\n",
    "\n",
    "\n",
    "# Convert target 'category' column to one-hot encoding\n",
    "y = pd.get_dummies(resampled_df['category']).values"
   ]
  },
  {
   "cell_type": "code",
   "execution_count": 406,
   "id": "f125dc4d-b8dd-4646-8aa4-6b0e8c1ed6d3",
   "metadata": {},
   "outputs": [],
   "source": [
    "X_train_nn, X_test_nn, y_train_nn, y_test_nn = train_test_split(X, y, test_size=0.2, random_state=42)"
   ]
  },
  {
   "cell_type": "code",
   "execution_count": 408,
   "id": "c193c29c-cfa8-484b-b435-4488804c9675",
   "metadata": {},
   "outputs": [],
   "source": [
    "num_classes = 5\n",
    "\n",
    "model_nn = Sequential([\n",
    "    Input(shape=(X_train.shape[1],)),  # Input layer matching feature size\n",
    "    Dense(128, activation='relu'),  # First hidden layer\n",
    "    Dropout(0.3),  # Regularization\n",
    "    Dense(64, activation='relu'),  # Second hidden layer\n",
    "    Dropout(0.2),  # Regularization\n",
    "    Dense(num_classes, activation='softmax')  # Output layer for classification\n",
    "])"
   ]
  },
  {
   "cell_type": "code",
   "execution_count": 410,
   "id": "55fae63a-fda5-4d1e-99bc-3c34258725ab",
   "metadata": {},
   "outputs": [],
   "source": [
    "model_nn.compile(optimizer='adam', loss='categorical_crossentropy', metrics=['accuracy'])"
   ]
  },
  {
   "cell_type": "code",
   "execution_count": null,
   "id": "883799fc-f9c2-4d33-9119-15c2af05e314",
   "metadata": {},
   "outputs": [],
   "source": [
    "model_nn.fit(X_train, y_train, validation_data=(X_test_nn, y_test_nn), epochs=10, batch_size=64)"
   ]
  },
  {
   "cell_type": "markdown",
   "id": "a94dba57-a370-4c4a-8ea8-1bb328336887",
   "metadata": {},
   "source": [
    "<h4>Model Evaluation</h4>"
   ]
  },
  {
   "cell_type": "code",
   "execution_count": 364,
   "id": "730ff7fb-e262-4036-9866-b5ec53d2d602",
   "metadata": {},
   "outputs": [
    {
     "name": "stdout",
     "output_type": "stream",
     "text": [
      "\u001b[1m35/35\u001b[0m \u001b[32m━━━━━━━━━━━━━━━━━━━━\u001b[0m\u001b[37m\u001b[0m \u001b[1m0s\u001b[0m 1ms/step - accuracy: 0.9482 - loss: 0.3370 \n",
      "Test Loss: 0.28283488750457764\n",
      "Test Accuracy: 0.9574275612831116\n"
     ]
    }
   ],
   "source": [
    "test_loss, test_accuracy = model_nn.evaluate(X_test_nn, y_test_nn, batch_size=32)\n",
    "\n",
    "print(f\"Test Loss: {test_loss}\")\n",
    "print(f\"Test Accuracy: {test_accuracy}\")"
   ]
  },
  {
   "cell_type": "markdown",
   "id": "4023d323-6fc7-400d-89d5-8ae7b246d802",
   "metadata": {},
   "source": [
    "<h4>Model Tuning</h4>"
   ]
  },
  {
   "cell_type": "code",
   "execution_count": 420,
   "id": "d2060515-c026-41bd-ad1e-b522c84afb2b",
   "metadata": {},
   "outputs": [],
   "source": [
    "def create_nn_model(optimizer='adam', dropout_rate=0.2, num_units=64):\n",
    "    model = Sequential([\n",
    "        Dense(num_units, activation='relu', input_dim=X_train.shape[1]),\n",
    "        Dropout(dropout_rate),\n",
    "        Dense(64, activation='relu'),\n",
    "        Dropout(dropout_rate),\n",
    "        Dense(num_classes, activation='softmax')\n",
    "    ])\n",
    "    # Compile model\n",
    "    model.compile(optimizer=optimizer, loss='categorical_crossentropy', metrics=['accuracy'])\n",
    "    \n",
    "    return model"
   ]
  },
  {
   "cell_type": "code",
   "execution_count": 422,
   "id": "7c4806ed-5e7b-4214-968f-8eb3b67e3100",
   "metadata": {},
   "outputs": [],
   "source": [
    "model_nn_tune = KerasClassifier(build_fn=create_nn_model, epochs=10, batch_size=32, verbose=0, dropout_rate=0.2, num_units=64)"
   ]
  },
  {
   "cell_type": "code",
   "execution_count": 424,
   "id": "892bb054-7234-468f-9267-851aa1778414",
   "metadata": {},
   "outputs": [
    {
     "name": "stdout",
     "output_type": "stream",
     "text": [
      "Best parameters found:  {'batch_size': 32, 'dropout_rate': 0.5, 'epochs': 10, 'num_units': 32, 'optimizer': 'rmsprop'}\n"
     ]
    }
   ],
   "source": [
    "param_grid = {\n",
    "    'optimizer': ['adam', 'rmsprop'],\n",
    "    'dropout_rate': [0.2, 0.3, 0.5],\n",
    "    'num_units': [32, 64, 128],\n",
    "    'batch_size': [32, 64],\n",
    "    'epochs': [10, 20]\n",
    "}\n",
    "\n",
    "grid_search = GridSearchCV(estimator=model_nn_tune, param_grid=param_grid, n_jobs=-1, cv=3)\n",
    "grid_search.fit(X_train_nn, y_train_nn)\n",
    "\n",
    "# Get the best hyperparameters\n",
    "print(\"Best parameters found: \", grid_search.best_params_)"
   ]
  },
  {
   "cell_type": "markdown",
   "id": "8eee02c0-2456-4a4a-a735-ca672d49a745",
   "metadata": {},
   "source": [
    "<h4>Testing the 'best' model</h4>"
   ]
  },
  {
   "cell_type": "code",
   "execution_count": 427,
   "id": "4ed88693-6d13-4b5a-be3a-b0792e122a49",
   "metadata": {},
   "outputs": [],
   "source": [
    "num_classes = 5\n",
    "\n",
    "model_best = Sequential([\n",
    "    Input(shape=(X_train.shape[1],)),  \n",
    "    Dense(128, activation='relu'),\n",
    "    Dropout(0.5),\n",
    "    Dense(64, activation='relu'),\n",
    "    Dropout(0.5), \n",
    "    Dense(num_classes, activation='softmax') \n",
    "])"
   ]
  },
  {
   "cell_type": "code",
   "execution_count": 429,
   "id": "c71d04c0-5cfc-44dc-ad4f-b6331ef95d81",
   "metadata": {},
   "outputs": [],
   "source": [
    "model_best.compile(optimizer='rmsprop', loss='categorical_crossentropy', metrics=['accuracy'])"
   ]
  },
  {
   "cell_type": "code",
   "execution_count": 431,
   "id": "6e63e579-099c-4c43-82ed-6752c7b5e6d6",
   "metadata": {},
   "outputs": [
    {
     "name": "stdout",
     "output_type": "stream",
     "text": [
      "Epoch 1/10\n",
      "\u001b[1m138/138\u001b[0m \u001b[32m━━━━━━━━━━━━━━━━━━━━\u001b[0m\u001b[37m\u001b[0m \u001b[1m1s\u001b[0m 5ms/step - accuracy: 0.3662 - loss: 1.5235 - val_accuracy: 0.9158 - val_loss: 0.7972\n",
      "Epoch 2/10\n",
      "\u001b[1m138/138\u001b[0m \u001b[32m━━━━━━━━━━━━━━━━━━━━\u001b[0m\u001b[37m\u001b[0m \u001b[1m0s\u001b[0m 3ms/step - accuracy: 0.8487 - loss: 0.6461 - val_accuracy: 0.9357 - val_loss: 0.2313\n",
      "Epoch 3/10\n",
      "\u001b[1m138/138\u001b[0m \u001b[32m━━━━━━━━━━━━━━━━━━━━\u001b[0m\u001b[37m\u001b[0m \u001b[1m0s\u001b[0m 2ms/step - accuracy: 0.9405 - loss: 0.2273 - val_accuracy: 0.9538 - val_loss: 0.1579\n",
      "Epoch 4/10\n",
      "\u001b[1m138/138\u001b[0m \u001b[32m━━━━━━━━━━━━━━━━━━━━\u001b[0m\u001b[37m\u001b[0m \u001b[1m0s\u001b[0m 2ms/step - accuracy: 0.9556 - loss: 0.1678 - val_accuracy: 0.9538 - val_loss: 0.1425\n",
      "Epoch 5/10\n",
      "\u001b[1m138/138\u001b[0m \u001b[32m━━━━━━━━━━━━━━━━━━━━\u001b[0m\u001b[37m\u001b[0m \u001b[1m0s\u001b[0m 2ms/step - accuracy: 0.9641 - loss: 0.1306 - val_accuracy: 0.9538 - val_loss: 0.1383\n",
      "Epoch 6/10\n",
      "\u001b[1m138/138\u001b[0m \u001b[32m━━━━━━━━━━━━━━━━━━━━\u001b[0m\u001b[37m\u001b[0m \u001b[1m0s\u001b[0m 2ms/step - accuracy: 0.9733 - loss: 0.1142 - val_accuracy: 0.9547 - val_loss: 0.1339\n",
      "Epoch 7/10\n",
      "\u001b[1m138/138\u001b[0m \u001b[32m━━━━━━━━━━━━━━━━━━━━\u001b[0m\u001b[37m\u001b[0m \u001b[1m0s\u001b[0m 2ms/step - accuracy: 0.9772 - loss: 0.0931 - val_accuracy: 0.9538 - val_loss: 0.1380\n",
      "Epoch 8/10\n",
      "\u001b[1m138/138\u001b[0m \u001b[32m━━━━━━━━━━━━━━━━━━━━\u001b[0m\u001b[37m\u001b[0m \u001b[1m0s\u001b[0m 2ms/step - accuracy: 0.9851 - loss: 0.0643 - val_accuracy: 0.9601 - val_loss: 0.1322\n",
      "Epoch 9/10\n",
      "\u001b[1m138/138\u001b[0m \u001b[32m━━━━━━━━━━━━━━━━━━━━\u001b[0m\u001b[37m\u001b[0m \u001b[1m0s\u001b[0m 3ms/step - accuracy: 0.9869 - loss: 0.0497 - val_accuracy: 0.9592 - val_loss: 0.1359\n",
      "Epoch 10/10\n",
      "\u001b[1m138/138\u001b[0m \u001b[32m━━━━━━━━━━━━━━━━━━━━\u001b[0m\u001b[37m\u001b[0m \u001b[1m0s\u001b[0m 3ms/step - accuracy: 0.9855 - loss: 0.0552 - val_accuracy: 0.9583 - val_loss: 0.1377\n"
     ]
    },
    {
     "data": {
      "text/plain": [
       "<keras.src.callbacks.history.History at 0x1d116a4d7f0>"
      ]
     },
     "execution_count": 431,
     "metadata": {},
     "output_type": "execute_result"
    }
   ],
   "source": [
    "model_best.fit(X_train, y_train, validation_data=(X_test_nn, y_test_nn), epochs=10, batch_size=32)"
   ]
  },
  {
   "cell_type": "code",
   "execution_count": 433,
   "id": "4bbdc9ce-94da-48a8-90bc-7dccb88e5c31",
   "metadata": {},
   "outputs": [
    {
     "name": "stdout",
     "output_type": "stream",
     "text": [
      "\u001b[1m35/35\u001b[0m \u001b[32m━━━━━━━━━━━━━━━━━━━━\u001b[0m\u001b[37m\u001b[0m \u001b[1m0s\u001b[0m 2ms/step - accuracy: 0.9499 - loss: 0.1563 \n",
      "Test Loss: 0.13765276968479156\n",
      "Test Accuracy: 0.9583333134651184\n"
     ]
    }
   ],
   "source": [
    "test_loss, test_accuracy = model_best.evaluate(X_test_nn, y_test_nn, batch_size=32)\n",
    "\n",
    "print(f\"Test Loss: {test_loss}\")\n",
    "print(f\"Test Accuracy: {test_accuracy}\")"
   ]
  },
  {
   "cell_type": "markdown",
   "id": "3907cd77",
   "metadata": {},
   "source": [
    "#### KNN"
   ]
  },
  {
   "cell_type": "code",
   "execution_count": 52,
   "id": "5fc2588b",
   "metadata": {},
   "outputs": [],
   "source": [
    "text_columns = ['headlines', 'description']"
   ]
  },
  {
   "cell_type": "code",
   "execution_count": 53,
   "id": "0355f1bc",
   "metadata": {},
   "outputs": [],
   "source": [
    "tfidf_vectorizers = {}\n",
    "vectorized_texts = []"
   ]
  },
  {
   "cell_type": "code",
   "execution_count": 54,
   "id": "b1a55aaa",
   "metadata": {},
   "outputs": [],
   "source": [
    "tf_df = resampled_df.drop(columns='category', axis=1)\n",
    "\n",
    "for col in text_columns:\n",
    "    tfidf = TfidfVectorizer(max_features=1000, stop_words='english')\n",
    "    tfidf_vectorizers[col] = tfidf\n",
    "    vectorized_texts.append(tfidf.fit_transform(tf_df[col].fillna('').astype(str)).toarray())"
   ]
  },
  {
   "cell_type": "code",
   "execution_count": 55,
   "id": "4f4c55b4",
   "metadata": {},
   "outputs": [],
   "source": [
    "X = np.hstack(vectorized_texts) \n",
    "\n",
    "\n",
    "y = pd.get_dummies(resampled_df['category']).values"
   ]
  },
  {
   "cell_type": "code",
   "execution_count": 56,
   "id": "9733c245",
   "metadata": {},
   "outputs": [],
   "source": [
    "X_train_knn, X_test_knn, y_train_knn, y_test_knn = train_test_split(X, y, test_size=0.2, random_state=42)"
   ]
  },
  {
   "cell_type": "code",
   "execution_count": 57,
   "id": "72f0941b",
   "metadata": {},
   "outputs": [],
   "source": [
    "# Scale the features\n",
    "scaler = StandardScaler(with_mean=False)  # Use `with_mean=False` for sparse data\n",
    "X_train_scaled_knn = scaler.fit_transform(X_train_knn)\n",
    "X_test_scaled_knn = scaler.transform(X_test_knn)\n"
   ]
  },
  {
   "cell_type": "code",
   "execution_count": 58,
   "id": "ab4fbfe0",
   "metadata": {},
   "outputs": [
    {
     "data": {
      "text/html": [
       "<style>#sk-container-id-2 {\n",
       "  /* Definition of color scheme common for light and dark mode */\n",
       "  --sklearn-color-text: #000;\n",
       "  --sklearn-color-text-muted: #666;\n",
       "  --sklearn-color-line: gray;\n",
       "  /* Definition of color scheme for unfitted estimators */\n",
       "  --sklearn-color-unfitted-level-0: #fff5e6;\n",
       "  --sklearn-color-unfitted-level-1: #f6e4d2;\n",
       "  --sklearn-color-unfitted-level-2: #ffe0b3;\n",
       "  --sklearn-color-unfitted-level-3: chocolate;\n",
       "  /* Definition of color scheme for fitted estimators */\n",
       "  --sklearn-color-fitted-level-0: #f0f8ff;\n",
       "  --sklearn-color-fitted-level-1: #d4ebff;\n",
       "  --sklearn-color-fitted-level-2: #b3dbfd;\n",
       "  --sklearn-color-fitted-level-3: cornflowerblue;\n",
       "\n",
       "  /* Specific color for light theme */\n",
       "  --sklearn-color-text-on-default-background: var(--sg-text-color, var(--theme-code-foreground, var(--jp-content-font-color1, black)));\n",
       "  --sklearn-color-background: var(--sg-background-color, var(--theme-background, var(--jp-layout-color0, white)));\n",
       "  --sklearn-color-border-box: var(--sg-text-color, var(--theme-code-foreground, var(--jp-content-font-color1, black)));\n",
       "  --sklearn-color-icon: #696969;\n",
       "\n",
       "  @media (prefers-color-scheme: dark) {\n",
       "    /* Redefinition of color scheme for dark theme */\n",
       "    --sklearn-color-text-on-default-background: var(--sg-text-color, var(--theme-code-foreground, var(--jp-content-font-color1, white)));\n",
       "    --sklearn-color-background: var(--sg-background-color, var(--theme-background, var(--jp-layout-color0, #111)));\n",
       "    --sklearn-color-border-box: var(--sg-text-color, var(--theme-code-foreground, var(--jp-content-font-color1, white)));\n",
       "    --sklearn-color-icon: #878787;\n",
       "  }\n",
       "}\n",
       "\n",
       "#sk-container-id-2 {\n",
       "  color: var(--sklearn-color-text);\n",
       "}\n",
       "\n",
       "#sk-container-id-2 pre {\n",
       "  padding: 0;\n",
       "}\n",
       "\n",
       "#sk-container-id-2 input.sk-hidden--visually {\n",
       "  border: 0;\n",
       "  clip: rect(1px 1px 1px 1px);\n",
       "  clip: rect(1px, 1px, 1px, 1px);\n",
       "  height: 1px;\n",
       "  margin: -1px;\n",
       "  overflow: hidden;\n",
       "  padding: 0;\n",
       "  position: absolute;\n",
       "  width: 1px;\n",
       "}\n",
       "\n",
       "#sk-container-id-2 div.sk-dashed-wrapped {\n",
       "  border: 1px dashed var(--sklearn-color-line);\n",
       "  margin: 0 0.4em 0.5em 0.4em;\n",
       "  box-sizing: border-box;\n",
       "  padding-bottom: 0.4em;\n",
       "  background-color: var(--sklearn-color-background);\n",
       "}\n",
       "\n",
       "#sk-container-id-2 div.sk-container {\n",
       "  /* jupyter's `normalize.less` sets `[hidden] { display: none; }`\n",
       "     but bootstrap.min.css set `[hidden] { display: none !important; }`\n",
       "     so we also need the `!important` here to be able to override the\n",
       "     default hidden behavior on the sphinx rendered scikit-learn.org.\n",
       "     See: https://github.com/scikit-learn/scikit-learn/issues/21755 */\n",
       "  display: inline-block !important;\n",
       "  position: relative;\n",
       "}\n",
       "\n",
       "#sk-container-id-2 div.sk-text-repr-fallback {\n",
       "  display: none;\n",
       "}\n",
       "\n",
       "div.sk-parallel-item,\n",
       "div.sk-serial,\n",
       "div.sk-item {\n",
       "  /* draw centered vertical line to link estimators */\n",
       "  background-image: linear-gradient(var(--sklearn-color-text-on-default-background), var(--sklearn-color-text-on-default-background));\n",
       "  background-size: 2px 100%;\n",
       "  background-repeat: no-repeat;\n",
       "  background-position: center center;\n",
       "}\n",
       "\n",
       "/* Parallel-specific style estimator block */\n",
       "\n",
       "#sk-container-id-2 div.sk-parallel-item::after {\n",
       "  content: \"\";\n",
       "  width: 100%;\n",
       "  border-bottom: 2px solid var(--sklearn-color-text-on-default-background);\n",
       "  flex-grow: 1;\n",
       "}\n",
       "\n",
       "#sk-container-id-2 div.sk-parallel {\n",
       "  display: flex;\n",
       "  align-items: stretch;\n",
       "  justify-content: center;\n",
       "  background-color: var(--sklearn-color-background);\n",
       "  position: relative;\n",
       "}\n",
       "\n",
       "#sk-container-id-2 div.sk-parallel-item {\n",
       "  display: flex;\n",
       "  flex-direction: column;\n",
       "}\n",
       "\n",
       "#sk-container-id-2 div.sk-parallel-item:first-child::after {\n",
       "  align-self: flex-end;\n",
       "  width: 50%;\n",
       "}\n",
       "\n",
       "#sk-container-id-2 div.sk-parallel-item:last-child::after {\n",
       "  align-self: flex-start;\n",
       "  width: 50%;\n",
       "}\n",
       "\n",
       "#sk-container-id-2 div.sk-parallel-item:only-child::after {\n",
       "  width: 0;\n",
       "}\n",
       "\n",
       "/* Serial-specific style estimator block */\n",
       "\n",
       "#sk-container-id-2 div.sk-serial {\n",
       "  display: flex;\n",
       "  flex-direction: column;\n",
       "  align-items: center;\n",
       "  background-color: var(--sklearn-color-background);\n",
       "  padding-right: 1em;\n",
       "  padding-left: 1em;\n",
       "}\n",
       "\n",
       "\n",
       "/* Toggleable style: style used for estimator/Pipeline/ColumnTransformer box that is\n",
       "clickable and can be expanded/collapsed.\n",
       "- Pipeline and ColumnTransformer use this feature and define the default style\n",
       "- Estimators will overwrite some part of the style using the `sk-estimator` class\n",
       "*/\n",
       "\n",
       "/* Pipeline and ColumnTransformer style (default) */\n",
       "\n",
       "#sk-container-id-2 div.sk-toggleable {\n",
       "  /* Default theme specific background. It is overwritten whether we have a\n",
       "  specific estimator or a Pipeline/ColumnTransformer */\n",
       "  background-color: var(--sklearn-color-background);\n",
       "}\n",
       "\n",
       "/* Toggleable label */\n",
       "#sk-container-id-2 label.sk-toggleable__label {\n",
       "  cursor: pointer;\n",
       "  display: flex;\n",
       "  width: 100%;\n",
       "  margin-bottom: 0;\n",
       "  padding: 0.5em;\n",
       "  box-sizing: border-box;\n",
       "  text-align: center;\n",
       "  align-items: start;\n",
       "  justify-content: space-between;\n",
       "  gap: 0.5em;\n",
       "}\n",
       "\n",
       "#sk-container-id-2 label.sk-toggleable__label .caption {\n",
       "  font-size: 0.6rem;\n",
       "  font-weight: lighter;\n",
       "  color: var(--sklearn-color-text-muted);\n",
       "}\n",
       "\n",
       "#sk-container-id-2 label.sk-toggleable__label-arrow:before {\n",
       "  /* Arrow on the left of the label */\n",
       "  content: \"▸\";\n",
       "  float: left;\n",
       "  margin-right: 0.25em;\n",
       "  color: var(--sklearn-color-icon);\n",
       "}\n",
       "\n",
       "#sk-container-id-2 label.sk-toggleable__label-arrow:hover:before {\n",
       "  color: var(--sklearn-color-text);\n",
       "}\n",
       "\n",
       "/* Toggleable content - dropdown */\n",
       "\n",
       "#sk-container-id-2 div.sk-toggleable__content {\n",
       "  max-height: 0;\n",
       "  max-width: 0;\n",
       "  overflow: hidden;\n",
       "  text-align: left;\n",
       "  /* unfitted */\n",
       "  background-color: var(--sklearn-color-unfitted-level-0);\n",
       "}\n",
       "\n",
       "#sk-container-id-2 div.sk-toggleable__content.fitted {\n",
       "  /* fitted */\n",
       "  background-color: var(--sklearn-color-fitted-level-0);\n",
       "}\n",
       "\n",
       "#sk-container-id-2 div.sk-toggleable__content pre {\n",
       "  margin: 0.2em;\n",
       "  border-radius: 0.25em;\n",
       "  color: var(--sklearn-color-text);\n",
       "  /* unfitted */\n",
       "  background-color: var(--sklearn-color-unfitted-level-0);\n",
       "}\n",
       "\n",
       "#sk-container-id-2 div.sk-toggleable__content.fitted pre {\n",
       "  /* unfitted */\n",
       "  background-color: var(--sklearn-color-fitted-level-0);\n",
       "}\n",
       "\n",
       "#sk-container-id-2 input.sk-toggleable__control:checked~div.sk-toggleable__content {\n",
       "  /* Expand drop-down */\n",
       "  max-height: 200px;\n",
       "  max-width: 100%;\n",
       "  overflow: auto;\n",
       "}\n",
       "\n",
       "#sk-container-id-2 input.sk-toggleable__control:checked~label.sk-toggleable__label-arrow:before {\n",
       "  content: \"▾\";\n",
       "}\n",
       "\n",
       "/* Pipeline/ColumnTransformer-specific style */\n",
       "\n",
       "#sk-container-id-2 div.sk-label input.sk-toggleable__control:checked~label.sk-toggleable__label {\n",
       "  color: var(--sklearn-color-text);\n",
       "  background-color: var(--sklearn-color-unfitted-level-2);\n",
       "}\n",
       "\n",
       "#sk-container-id-2 div.sk-label.fitted input.sk-toggleable__control:checked~label.sk-toggleable__label {\n",
       "  background-color: var(--sklearn-color-fitted-level-2);\n",
       "}\n",
       "\n",
       "/* Estimator-specific style */\n",
       "\n",
       "/* Colorize estimator box */\n",
       "#sk-container-id-2 div.sk-estimator input.sk-toggleable__control:checked~label.sk-toggleable__label {\n",
       "  /* unfitted */\n",
       "  background-color: var(--sklearn-color-unfitted-level-2);\n",
       "}\n",
       "\n",
       "#sk-container-id-2 div.sk-estimator.fitted input.sk-toggleable__control:checked~label.sk-toggleable__label {\n",
       "  /* fitted */\n",
       "  background-color: var(--sklearn-color-fitted-level-2);\n",
       "}\n",
       "\n",
       "#sk-container-id-2 div.sk-label label.sk-toggleable__label,\n",
       "#sk-container-id-2 div.sk-label label {\n",
       "  /* The background is the default theme color */\n",
       "  color: var(--sklearn-color-text-on-default-background);\n",
       "}\n",
       "\n",
       "/* On hover, darken the color of the background */\n",
       "#sk-container-id-2 div.sk-label:hover label.sk-toggleable__label {\n",
       "  color: var(--sklearn-color-text);\n",
       "  background-color: var(--sklearn-color-unfitted-level-2);\n",
       "}\n",
       "\n",
       "/* Label box, darken color on hover, fitted */\n",
       "#sk-container-id-2 div.sk-label.fitted:hover label.sk-toggleable__label.fitted {\n",
       "  color: var(--sklearn-color-text);\n",
       "  background-color: var(--sklearn-color-fitted-level-2);\n",
       "}\n",
       "\n",
       "/* Estimator label */\n",
       "\n",
       "#sk-container-id-2 div.sk-label label {\n",
       "  font-family: monospace;\n",
       "  font-weight: bold;\n",
       "  display: inline-block;\n",
       "  line-height: 1.2em;\n",
       "}\n",
       "\n",
       "#sk-container-id-2 div.sk-label-container {\n",
       "  text-align: center;\n",
       "}\n",
       "\n",
       "/* Estimator-specific */\n",
       "#sk-container-id-2 div.sk-estimator {\n",
       "  font-family: monospace;\n",
       "  border: 1px dotted var(--sklearn-color-border-box);\n",
       "  border-radius: 0.25em;\n",
       "  box-sizing: border-box;\n",
       "  margin-bottom: 0.5em;\n",
       "  /* unfitted */\n",
       "  background-color: var(--sklearn-color-unfitted-level-0);\n",
       "}\n",
       "\n",
       "#sk-container-id-2 div.sk-estimator.fitted {\n",
       "  /* fitted */\n",
       "  background-color: var(--sklearn-color-fitted-level-0);\n",
       "}\n",
       "\n",
       "/* on hover */\n",
       "#sk-container-id-2 div.sk-estimator:hover {\n",
       "  /* unfitted */\n",
       "  background-color: var(--sklearn-color-unfitted-level-2);\n",
       "}\n",
       "\n",
       "#sk-container-id-2 div.sk-estimator.fitted:hover {\n",
       "  /* fitted */\n",
       "  background-color: var(--sklearn-color-fitted-level-2);\n",
       "}\n",
       "\n",
       "/* Specification for estimator info (e.g. \"i\" and \"?\") */\n",
       "\n",
       "/* Common style for \"i\" and \"?\" */\n",
       "\n",
       ".sk-estimator-doc-link,\n",
       "a:link.sk-estimator-doc-link,\n",
       "a:visited.sk-estimator-doc-link {\n",
       "  float: right;\n",
       "  font-size: smaller;\n",
       "  line-height: 1em;\n",
       "  font-family: monospace;\n",
       "  background-color: var(--sklearn-color-background);\n",
       "  border-radius: 1em;\n",
       "  height: 1em;\n",
       "  width: 1em;\n",
       "  text-decoration: none !important;\n",
       "  margin-left: 0.5em;\n",
       "  text-align: center;\n",
       "  /* unfitted */\n",
       "  border: var(--sklearn-color-unfitted-level-1) 1pt solid;\n",
       "  color: var(--sklearn-color-unfitted-level-1);\n",
       "}\n",
       "\n",
       ".sk-estimator-doc-link.fitted,\n",
       "a:link.sk-estimator-doc-link.fitted,\n",
       "a:visited.sk-estimator-doc-link.fitted {\n",
       "  /* fitted */\n",
       "  border: var(--sklearn-color-fitted-level-1) 1pt solid;\n",
       "  color: var(--sklearn-color-fitted-level-1);\n",
       "}\n",
       "\n",
       "/* On hover */\n",
       "div.sk-estimator:hover .sk-estimator-doc-link:hover,\n",
       ".sk-estimator-doc-link:hover,\n",
       "div.sk-label-container:hover .sk-estimator-doc-link:hover,\n",
       ".sk-estimator-doc-link:hover {\n",
       "  /* unfitted */\n",
       "  background-color: var(--sklearn-color-unfitted-level-3);\n",
       "  color: var(--sklearn-color-background);\n",
       "  text-decoration: none;\n",
       "}\n",
       "\n",
       "div.sk-estimator.fitted:hover .sk-estimator-doc-link.fitted:hover,\n",
       ".sk-estimator-doc-link.fitted:hover,\n",
       "div.sk-label-container:hover .sk-estimator-doc-link.fitted:hover,\n",
       ".sk-estimator-doc-link.fitted:hover {\n",
       "  /* fitted */\n",
       "  background-color: var(--sklearn-color-fitted-level-3);\n",
       "  color: var(--sklearn-color-background);\n",
       "  text-decoration: none;\n",
       "}\n",
       "\n",
       "/* Span, style for the box shown on hovering the info icon */\n",
       ".sk-estimator-doc-link span {\n",
       "  display: none;\n",
       "  z-index: 9999;\n",
       "  position: relative;\n",
       "  font-weight: normal;\n",
       "  right: .2ex;\n",
       "  padding: .5ex;\n",
       "  margin: .5ex;\n",
       "  width: min-content;\n",
       "  min-width: 20ex;\n",
       "  max-width: 50ex;\n",
       "  color: var(--sklearn-color-text);\n",
       "  box-shadow: 2pt 2pt 4pt #999;\n",
       "  /* unfitted */\n",
       "  background: var(--sklearn-color-unfitted-level-0);\n",
       "  border: .5pt solid var(--sklearn-color-unfitted-level-3);\n",
       "}\n",
       "\n",
       ".sk-estimator-doc-link.fitted span {\n",
       "  /* fitted */\n",
       "  background: var(--sklearn-color-fitted-level-0);\n",
       "  border: var(--sklearn-color-fitted-level-3);\n",
       "}\n",
       "\n",
       ".sk-estimator-doc-link:hover span {\n",
       "  display: block;\n",
       "}\n",
       "\n",
       "/* \"?\"-specific style due to the `<a>` HTML tag */\n",
       "\n",
       "#sk-container-id-2 a.estimator_doc_link {\n",
       "  float: right;\n",
       "  font-size: 1rem;\n",
       "  line-height: 1em;\n",
       "  font-family: monospace;\n",
       "  background-color: var(--sklearn-color-background);\n",
       "  border-radius: 1rem;\n",
       "  height: 1rem;\n",
       "  width: 1rem;\n",
       "  text-decoration: none;\n",
       "  /* unfitted */\n",
       "  color: var(--sklearn-color-unfitted-level-1);\n",
       "  border: var(--sklearn-color-unfitted-level-1) 1pt solid;\n",
       "}\n",
       "\n",
       "#sk-container-id-2 a.estimator_doc_link.fitted {\n",
       "  /* fitted */\n",
       "  border: var(--sklearn-color-fitted-level-1) 1pt solid;\n",
       "  color: var(--sklearn-color-fitted-level-1);\n",
       "}\n",
       "\n",
       "/* On hover */\n",
       "#sk-container-id-2 a.estimator_doc_link:hover {\n",
       "  /* unfitted */\n",
       "  background-color: var(--sklearn-color-unfitted-level-3);\n",
       "  color: var(--sklearn-color-background);\n",
       "  text-decoration: none;\n",
       "}\n",
       "\n",
       "#sk-container-id-2 a.estimator_doc_link.fitted:hover {\n",
       "  /* fitted */\n",
       "  background-color: var(--sklearn-color-fitted-level-3);\n",
       "}\n",
       "</style><div id=\"sk-container-id-2\" class=\"sk-top-container\"><div class=\"sk-text-repr-fallback\"><pre>KNeighborsClassifier(n_neighbors=3)</pre><b>In a Jupyter environment, please rerun this cell to show the HTML representation or trust the notebook. <br />On GitHub, the HTML representation is unable to render, please try loading this page with nbviewer.org.</b></div><div class=\"sk-container\" hidden><div class=\"sk-item\"><div class=\"sk-estimator fitted sk-toggleable\"><input class=\"sk-toggleable__control sk-hidden--visually\" id=\"sk-estimator-id-2\" type=\"checkbox\" checked><label for=\"sk-estimator-id-2\" class=\"sk-toggleable__label fitted sk-toggleable__label-arrow\"><div><div>KNeighborsClassifier</div></div><div><a class=\"sk-estimator-doc-link fitted\" rel=\"noreferrer\" target=\"_blank\" href=\"https://scikit-learn.org/1.6/modules/generated/sklearn.neighbors.KNeighborsClassifier.html\">?<span>Documentation for KNeighborsClassifier</span></a><span class=\"sk-estimator-doc-link fitted\">i<span>Fitted</span></span></div></label><div class=\"sk-toggleable__content fitted\"><pre>KNeighborsClassifier(n_neighbors=3)</pre></div> </div></div></div></div>"
      ],
      "text/plain": [
       "KNeighborsClassifier(n_neighbors=3)"
      ]
     },
     "execution_count": 58,
     "metadata": {},
     "output_type": "execute_result"
    }
   ],
   "source": [
    "# Train the KNN model (multi-label classification assumes one-vs-rest by default)\n",
    "n_neighbors = 3\n",
    "\n",
    "knn = KNeighborsClassifier(n_neighbors)\n",
    "knn.fit(X_train_scaled_knn, np.argmax(y_train_knn, axis=1)) "
   ]
  },
  {
   "cell_type": "code",
   "execution_count": 59,
   "id": "ae7c7755",
   "metadata": {},
   "outputs": [],
   "source": [
    "y_pred_knn = knn.predict(X_test_scaled_knn)"
   ]
  },
  {
   "cell_type": "markdown",
   "id": "b5580a2f",
   "metadata": {},
   "source": [
    "Train different k-nearest neighbours models, each with a different number of neighbours as follows: 1, 3, 5, 7, 9"
   ]
  },
  {
   "cell_type": "code",
   "execution_count": 60,
   "id": "9e0371a9",
   "metadata": {},
   "outputs": [
    {
     "name": "stdout",
     "output_type": "stream",
     "text": [
      "Accuracy for K=1: 0.8270\n",
      "Accuracy for K=3: 0.7944\n",
      "Accuracy for K=5: 0.7690\n",
      "Accuracy for K=7: 0.7210\n",
      "Accuracy for K=9: 0.6957\n",
      "Accuracy for K=15: 0.5861\n",
      "Accuracy for K=20: 0.4964\n"
     ]
    }
   ],
   "source": [
    "#For the n neigbors = 3\n",
    "k_values = [1, 3, 5, 7, 9, 15, 20]\n",
    "\n",
    "# List to store accuracy scores of each KNN model for comparison\n",
    "scores = []\n",
    "\n",
    "# Loop over each value of k \n",
    "for k in k_values:\n",
    "    knn = KNeighborsClassifier(n_neighbors=k)\n",
    "    knn.fit(X_train_knn, y_train_knn)\n",
    "    y_pred_knn = knn.predict(X_test_knn)\n",
    "    accuracy = accuracy_score(y_test_knn, y_pred_knn)\n",
    "    scores.append(accuracy)\n",
    "    print(f\"Accuracy for K={k}: {accuracy:.4f}\")"
   ]
  },
  {
   "cell_type": "markdown",
   "id": "3f07a736",
   "metadata": {},
   "source": [
    "As we can see, a small k provides a larger accuracy than the other k values, which leads to more sensitive to noise, high variance and possibility of overfitting. It is wise to choose the medium k values because they do provide a good balance between bias and variance, and performs well unlike the smaller and larger k. #Choosing k = 5,7,9"
   ]
  },
  {
   "cell_type": "code",
   "execution_count": 61,
   "id": "26ddb236",
   "metadata": {},
   "outputs": [
    {
     "name": "stdout",
     "output_type": "stream",
     "text": [
      "\n",
      "Metrics for K=5:\n",
      "Accuracy: 0.7690\n",
      "Precision: 0.9276\n",
      "Recall: 0.7690\n",
      "F1 Score: 0.8376\n",
      "\n",
      "Metrics for K=7:\n",
      "Accuracy: 0.7210\n",
      "Precision: 0.9468\n",
      "Recall: 0.7210\n",
      "F1 Score: 0.8168\n",
      "\n",
      "Metrics for K=9:\n",
      "Accuracy: 0.6957\n",
      "Precision: 0.9621\n",
      "Recall: 0.6957\n",
      "F1 Score: 0.8054\n",
      "\n",
      "Best performing K: 5\n"
     ]
    }
   ],
   "source": [
    "k_values = [5, 7, 9]\n",
    "\n",
    "# List to store metrics for comparison\n",
    "metrics = {\n",
    "    'k': [],\n",
    "    'accuracy': [],\n",
    "    'precision': [],\n",
    "    'recall': [],\n",
    "    'f1_score': []\n",
    "}\n",
    "\n",
    "# Loop over each value of k\n",
    "for k in k_values:\n",
    "    knn = KNeighborsClassifier(n_neighbors=k)\n",
    "    knn.fit(X_train_knn, y_train_knn)\n",
    "    \n",
    "    # Get predictions\n",
    "    y_pred_knn = knn.predict(X_test_knn)\n",
    "    \n",
    "    # Compute metrics\n",
    "    accuracy = accuracy_score(y_test_knn, y_pred_knn)\n",
    "    precision = precision_score(y_test_knn, y_pred_knn, average='weighted', zero_division=0)\n",
    "    recall = recall_score(y_test_knn, y_pred_knn, average='weighted', zero_division=0)\n",
    "    f1 = f1_score(y_test_knn, y_pred_knn, average='weighted')\n",
    "    \n",
    "    # Store the metrics\n",
    "    metrics['k'].append(k)\n",
    "    metrics['accuracy'].append(accuracy)\n",
    "    metrics['precision'].append(precision)\n",
    "    metrics['recall'].append(recall)\n",
    "    metrics['f1_score'].append(f1)\n",
    "    \n",
    "    # Print metrics for each k\n",
    "    print(f\"\\nMetrics for K={k}:\")\n",
    "    print(f\"Accuracy: {accuracy:.4f}\")\n",
    "    print(f\"Precision: {precision:.4f}\")\n",
    "    print(f\"Recall: {recall:.4f}\")\n",
    "    print(f\"F1 Score: {f1:.4f}\")\n",
    "\n",
    "# Find the best k based on F1 score (or any other metric of choice)\n",
    "best_k = metrics['k'][np.argmax(metrics['f1_score'])]  # or use np.argmax(metrics['accuracy']) for accuracy\n",
    "print(f\"\\nBest performing K: {best_k}\")\n",
    "\n",
    "#unable to the loss log, because imbalance of dimensions"
   ]
  },
  {
   "cell_type": "code",
   "execution_count": 62,
   "id": "d247e2c2",
   "metadata": {
    "scrolled": false
   },
   "outputs": [
    {
     "name": "stdout",
     "output_type": "stream",
     "text": [
      "Fitting 5 folds for each of 12 candidates, totalling 60 fits\n",
      "Best Hyperparameters: {'metric': 'euclidean', 'n_neighbors': 5, 'weights': 'distance'}\n"
     ]
    }
   ],
   "source": [
    "# Step 2: Define Hyperparameter Ranges for Tuning\n",
    "param_grid = {\n",
    "    'n_neighbors': [ 5, 7, 9],          # Number of neighbors\n",
    "    'weights': ['uniform', 'distance'],      # Weighting scheme\n",
    "    'metric': ['euclidean', 'manhattan']     # Distance metrics\n",
    "}\n",
    "\n",
    "# Step 3: Initialize and Perform Grid Search\n",
    "knn = KNeighborsClassifier()\n",
    "grid_search = GridSearchCV(knn, param_grid, cv=5, scoring='accuracy', verbose=1)\n",
    "grid_search.fit(X_train_knn, y_train_knn)\n",
    "\n",
    "# Step 4: Display the Best Hyperparameters\n",
    "print(\"Best Hyperparameters:\", grid_search.best_params_)"
   ]
  },
  {
   "cell_type": "markdown",
   "id": "4f1b03ae",
   "metadata": {},
   "source": [
    "Evaluate the Best Model on the Test Dataset"
   ]
  },
  {
   "cell_type": "code",
   "execution_count": 63,
   "id": "f53927d1",
   "metadata": {},
   "outputs": [
    {
     "name": "stdout",
     "output_type": "stream",
     "text": [
      "\n",
      "Classification Report (Test Dataset):\n",
      "              precision    recall  f1-score   support\n",
      "\n",
      "           0       0.96      0.64      0.77       243\n",
      "           1       0.99      0.75      0.85       204\n",
      "           2       0.94      0.94      0.94       210\n",
      "           3       0.90      0.93      0.91       228\n",
      "           4       0.91      0.81      0.86       219\n",
      "\n",
      "   micro avg       0.94      0.81      0.87      1104\n",
      "   macro avg       0.94      0.81      0.87      1104\n",
      "weighted avg       0.94      0.81      0.86      1104\n",
      " samples avg       0.81      0.81      0.81      1104\n",
      "\n"
     ]
    }
   ],
   "source": [
    "best_knn = grid_search.best_estimator_\n",
    "y_test_pred = best_knn.predict(X_test_knn)\n",
    "\n",
    "print(\"\\nClassification Report (Test Dataset):\")\n",
    "print(classification_report(y_test_knn, y_test_pred))"
   ]
  },
  {
   "cell_type": "code",
   "execution_count": null,
   "id": "f307987b",
   "metadata": {},
   "outputs": [],
   "source": []
  }
 ],
 "metadata": {
  "kernelspec": {
   "display_name": "Python 3 (ipykernel)",
   "language": "python",
   "name": "python3"
  },
  "language_info": {
   "codemirror_mode": {
    "name": "ipython",
    "version": 3
   },
   "file_extension": ".py",
   "mimetype": "text/x-python",
   "name": "python",
   "nbconvert_exporter": "python",
   "pygments_lexer": "ipython3",
   "version": "3.11.5"
  }
 },
 "nbformat": 4,
 "nbformat_minor": 5
}
