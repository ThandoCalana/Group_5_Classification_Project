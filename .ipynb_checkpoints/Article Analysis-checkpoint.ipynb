{
 "cells": [
  {
   "cell_type": "markdown",
   "id": "a489c04e",
   "metadata": {},
   "source": [
    "# Project 3 Team 5\n",
    "## Date: 17 January 2025 "
   ]
  },
  {
   "cell_type": "markdown",
   "id": "2b884053",
   "metadata": {},
   "source": [
    "1. Project Overview\n",
    "2. Data Load and preprocessing\n",
    "3. Model training\n",
    "4. Evaluation\n",
    "5. Deployment"
   ]
  },
  {
   "cell_type": "markdown",
   "id": "11ef8bae",
   "metadata": {},
   "source": [
    "### 1. Project Overview"
   ]
  },
  {
   "cell_type": "code",
   "execution_count": null,
   "id": "2028adbd",
   "metadata": {},
   "outputs": [],
   "source": []
  },
  {
   "cell_type": "markdown",
   "id": "3861b463",
<<<<<<< HEAD
   "metadata": {},
=======
   "metadata": {
    "jp-MarkdownHeadingCollapsed": true
   },
>>>>>>> main
   "source": [
    "### 2. Data load and preprocessing \n",
    "#### Packages"
   ]
  },
  {
   "cell_type": "code",
<<<<<<< HEAD
   "execution_count": 6,
   "id": "715f37af-36bd-4a41-923d-b6ddeee9b933",
   "metadata": {},
   "outputs": [
    {
     "name": "stdout",
     "output_type": "stream",
     "text": [
      "Requirement already satisfied: scikeras in c:\\users\\fransisca nong\\anaconda3\\lib\\site-packages (0.13.0)Note: you may need to restart the kernel to use updated packages.\n",
      "\n",
      "Requirement already satisfied: keras>=3.2.0 in c:\\users\\fransisca nong\\anaconda3\\lib\\site-packages (from scikeras) (3.8.0)\n",
      "Requirement already satisfied: scikit-learn>=1.4.2 in c:\\users\\fransisca nong\\anaconda3\\lib\\site-packages (from scikeras) (1.4.2)\n",
      "Requirement already satisfied: absl-py in c:\\users\\fransisca nong\\anaconda3\\lib\\site-packages (from keras>=3.2.0->scikeras) (2.1.0)\n",
      "Requirement already satisfied: numpy in c:\\users\\fransisca nong\\anaconda3\\lib\\site-packages (from keras>=3.2.0->scikeras) (1.26.4)\n",
      "Requirement already satisfied: rich in c:\\users\\fransisca nong\\anaconda3\\lib\\site-packages (from keras>=3.2.0->scikeras) (13.3.5)\n",
      "Requirement already satisfied: namex in c:\\users\\fransisca nong\\anaconda3\\lib\\site-packages (from keras>=3.2.0->scikeras) (0.0.8)\n",
      "Requirement already satisfied: h5py in c:\\users\\fransisca nong\\anaconda3\\lib\\site-packages (from keras>=3.2.0->scikeras) (3.11.0)\n",
      "Requirement already satisfied: optree in c:\\users\\fransisca nong\\anaconda3\\lib\\site-packages (from keras>=3.2.0->scikeras) (0.14.0)\n",
      "Requirement already satisfied: ml-dtypes in c:\\users\\fransisca nong\\anaconda3\\lib\\site-packages (from keras>=3.2.0->scikeras) (0.4.1)\n",
      "Requirement already satisfied: packaging in c:\\users\\fransisca nong\\appdata\\roaming\\python\\python312\\site-packages (from keras>=3.2.0->scikeras) (24.1)\n",
      "Requirement already satisfied: scipy>=1.6.0 in c:\\users\\fransisca nong\\anaconda3\\lib\\site-packages (from scikit-learn>=1.4.2->scikeras) (1.13.1)\n",
      "Requirement already satisfied: joblib>=1.2.0 in c:\\users\\fransisca nong\\anaconda3\\lib\\site-packages (from scikit-learn>=1.4.2->scikeras) (1.4.2)\n",
      "Requirement already satisfied: threadpoolctl>=2.0.0 in c:\\users\\fransisca nong\\anaconda3\\lib\\site-packages (from scikit-learn>=1.4.2->scikeras) (2.2.0)\n",
      "Requirement already satisfied: typing-extensions>=4.5.0 in c:\\users\\fransisca nong\\anaconda3\\lib\\site-packages (from optree->keras>=3.2.0->scikeras) (4.11.0)\n",
      "Requirement already satisfied: markdown-it-py<3.0.0,>=2.2.0 in c:\\users\\fransisca nong\\anaconda3\\lib\\site-packages (from rich->keras>=3.2.0->scikeras) (2.2.0)\n",
      "Requirement already satisfied: pygments<3.0.0,>=2.13.0 in c:\\users\\fransisca nong\\appdata\\roaming\\python\\python312\\site-packages (from rich->keras>=3.2.0->scikeras) (2.18.0)\n",
      "Requirement already satisfied: mdurl~=0.1 in c:\\users\\fransisca nong\\anaconda3\\lib\\site-packages (from markdown-it-py<3.0.0,>=2.2.0->rich->keras>=3.2.0->scikeras) (0.1.0)\n"
     ]
    }
   ],
=======
   "execution_count": null,
   "id": "715f37af-36bd-4a41-923d-b6ddeee9b933",
   "metadata": {},
   "outputs": [],
>>>>>>> main
   "source": [
    "pip install scikeras"
   ]
  },
  {
   "cell_type": "code",
<<<<<<< HEAD
   "execution_count": 7,
   "id": "caeb217b-98ec-49d5-8e03-4f0c810629f2",
   "metadata": {},
   "outputs": [
    {
     "name": "stdout",
     "output_type": "stream",
     "text": [
      "Requirement already satisfied: tensorflow in c:\\users\\fransisca nong\\anaconda3\\lib\\site-packages (2.18.0)\n",
      "Requirement already satisfied: tensorflow-intel==2.18.0 in c:\\users\\fransisca nong\\anaconda3\\lib\\site-packages (from tensorflow) (2.18.0)\n",
      "Requirement already satisfied: absl-py>=1.0.0 in c:\\users\\fransisca nong\\anaconda3\\lib\\site-packages (from tensorflow-intel==2.18.0->tensorflow) (2.1.0)\n",
      "Requirement already satisfied: astunparse>=1.6.0 in c:\\users\\fransisca nong\\anaconda3\\lib\\site-packages (from tensorflow-intel==2.18.0->tensorflow) (1.6.3)\n",
      "Requirement already satisfied: flatbuffers>=24.3.25 in c:\\users\\fransisca nong\\anaconda3\\lib\\site-packages (from tensorflow-intel==2.18.0->tensorflow) (25.1.24)\n",
      "Requirement already satisfied: gast!=0.5.0,!=0.5.1,!=0.5.2,>=0.2.1 in c:\\users\\fransisca nong\\anaconda3\\lib\\site-packages (from tensorflow-intel==2.18.0->tensorflow) (0.6.0)\n",
      "Requirement already satisfied: google-pasta>=0.1.1 in c:\\users\\fransisca nong\\anaconda3\\lib\\site-packages (from tensorflow-intel==2.18.0->tensorflow) (0.2.0)\n",
      "Requirement already satisfied: libclang>=13.0.0 in c:\\users\\fransisca nong\\anaconda3\\lib\\site-packages (from tensorflow-intel==2.18.0->tensorflow) (18.1.1)\n",
      "Requirement already satisfied: opt-einsum>=2.3.2 in c:\\users\\fransisca nong\\anaconda3\\lib\\site-packages (from tensorflow-intel==2.18.0->tensorflow) (3.4.0)\n",
      "Requirement already satisfied: packaging in c:\\users\\fransisca nong\\appdata\\roaming\\python\\python312\\site-packages (from tensorflow-intel==2.18.0->tensorflow) (24.1)\n",
      "Requirement already satisfied: protobuf!=4.21.0,!=4.21.1,!=4.21.2,!=4.21.3,!=4.21.4,!=4.21.5,<6.0.0dev,>=3.20.3 in c:\\users\\fransisca nong\\anaconda3\\lib\\site-packages (from tensorflow-intel==2.18.0->tensorflow) (3.20.3)\n",
      "Requirement already satisfied: requests<3,>=2.21.0 in c:\\users\\fransisca nong\\anaconda3\\lib\\site-packages (from tensorflow-intel==2.18.0->tensorflow) (2.32.2)\n",
      "Requirement already satisfied: setuptools in c:\\users\\fransisca nong\\anaconda3\\lib\\site-packages (from tensorflow-intel==2.18.0->tensorflow) (69.5.1)\n",
      "Requirement already satisfied: six>=1.12.0 in c:\\users\\fransisca nong\\appdata\\roaming\\python\\python312\\site-packages (from tensorflow-intel==2.18.0->tensorflow) (1.16.0)\n",
      "Requirement already satisfied: termcolor>=1.1.0 in c:\\users\\fransisca nong\\anaconda3\\lib\\site-packages (from tensorflow-intel==2.18.0->tensorflow) (2.5.0)\n",
      "Requirement already satisfied: typing-extensions>=3.6.6 in c:\\users\\fransisca nong\\anaconda3\\lib\\site-packages (from tensorflow-intel==2.18.0->tensorflow) (4.11.0)\n",
      "Requirement already satisfied: wrapt>=1.11.0 in c:\\users\\fransisca nong\\anaconda3\\lib\\site-packages (from tensorflow-intel==2.18.0->tensorflow) (1.14.1)\n",
      "Requirement already satisfied: grpcio<2.0,>=1.24.3 in c:\\users\\fransisca nong\\anaconda3\\lib\\site-packages (from tensorflow-intel==2.18.0->tensorflow) (1.70.0)\n",
      "Requirement already satisfied: tensorboard<2.19,>=2.18 in c:\\users\\fransisca nong\\anaconda3\\lib\\site-packages (from tensorflow-intel==2.18.0->tensorflow) (2.18.0)\n",
      "Requirement already satisfied: keras>=3.5.0 in c:\\users\\fransisca nong\\anaconda3\\lib\\site-packages (from tensorflow-intel==2.18.0->tensorflow) (3.8.0)\n",
      "Requirement already satisfied: numpy<2.1.0,>=1.26.0 in c:\\users\\fransisca nong\\anaconda3\\lib\\site-packages (from tensorflow-intel==2.18.0->tensorflow) (1.26.4)\n",
      "Requirement already satisfied: h5py>=3.11.0 in c:\\users\\fransisca nong\\anaconda3\\lib\\site-packages (from tensorflow-intel==2.18.0->tensorflow) (3.11.0)\n",
      "Requirement already satisfied: ml-dtypes<0.5.0,>=0.4.0 in c:\\users\\fransisca nong\\anaconda3\\lib\\site-packages (from tensorflow-intel==2.18.0->tensorflow) (0.4.1)\n",
      "Requirement already satisfied: wheel<1.0,>=0.23.0 in c:\\users\\fransisca nong\\anaconda3\\lib\\site-packages (from astunparse>=1.6.0->tensorflow-intel==2.18.0->tensorflow) (0.43.0)\n",
      "Requirement already satisfied: rich in c:\\users\\fransisca nong\\anaconda3\\lib\\site-packages (from keras>=3.5.0->tensorflow-intel==2.18.0->tensorflow) (13.3.5)\n",
      "Requirement already satisfied: namex in c:\\users\\fransisca nong\\anaconda3\\lib\\site-packages (from keras>=3.5.0->tensorflow-intel==2.18.0->tensorflow) (0.0.8)\n",
      "Requirement already satisfied: optree in c:\\users\\fransisca nong\\anaconda3\\lib\\site-packages (from keras>=3.5.0->tensorflow-intel==2.18.0->tensorflow) (0.14.0)\n",
      "Requirement already satisfied: charset-normalizer<4,>=2 in c:\\users\\fransisca nong\\anaconda3\\lib\\site-packages (from requests<3,>=2.21.0->tensorflow-intel==2.18.0->tensorflow) (2.0.4)\n",
      "Requirement already satisfied: idna<4,>=2.5 in c:\\users\\fransisca nong\\anaconda3\\lib\\site-packages (from requests<3,>=2.21.0->tensorflow-intel==2.18.0->tensorflow) (3.7)\n",
      "Requirement already satisfied: urllib3<3,>=1.21.1 in c:\\users\\fransisca nong\\anaconda3\\lib\\site-packages (from requests<3,>=2.21.0->tensorflow-intel==2.18.0->tensorflow) (2.2.2)\n",
      "Requirement already satisfied: certifi>=2017.4.17 in c:\\users\\fransisca nong\\anaconda3\\lib\\site-packages (from requests<3,>=2.21.0->tensorflow-intel==2.18.0->tensorflow) (2024.7.4)\n",
      "Requirement already satisfied: markdown>=2.6.8 in c:\\users\\fransisca nong\\anaconda3\\lib\\site-packages (from tensorboard<2.19,>=2.18->tensorflow-intel==2.18.0->tensorflow) (3.4.1)\n",
      "Requirement already satisfied: tensorboard-data-server<0.8.0,>=0.7.0 in c:\\users\\fransisca nong\\anaconda3\\lib\\site-packages (from tensorboard<2.19,>=2.18->tensorflow-intel==2.18.0->tensorflow) (0.7.2)\n",
      "Requirement already satisfied: werkzeug>=1.0.1 in c:\\users\\fransisca nong\\anaconda3\\lib\\site-packages (from tensorboard<2.19,>=2.18->tensorflow-intel==2.18.0->tensorflow) (3.0.3)\n",
      "Requirement already satisfied: MarkupSafe>=2.1.1 in c:\\users\\fransisca nong\\anaconda3\\lib\\site-packages (from werkzeug>=1.0.1->tensorboard<2.19,>=2.18->tensorflow-intel==2.18.0->tensorflow) (2.1.3)\n",
      "Requirement already satisfied: markdown-it-py<3.0.0,>=2.2.0 in c:\\users\\fransisca nong\\anaconda3\\lib\\site-packages (from rich->keras>=3.5.0->tensorflow-intel==2.18.0->tensorflow) (2.2.0)\n",
      "Requirement already satisfied: pygments<3.0.0,>=2.13.0 in c:\\users\\fransisca nong\\appdata\\roaming\\python\\python312\\site-packages (from rich->keras>=3.5.0->tensorflow-intel==2.18.0->tensorflow) (2.18.0)\n",
      "Requirement already satisfied: mdurl~=0.1 in c:\\users\\fransisca nong\\anaconda3\\lib\\site-packages (from markdown-it-py<3.0.0,>=2.2.0->rich->keras>=3.5.0->tensorflow-intel==2.18.0->tensorflow) (0.1.0)\n",
      "Note: you may need to restart the kernel to use updated packages.\n"
     ]
    }
   ],
=======
   "execution_count": null,
   "id": "caeb217b-98ec-49d5-8e03-4f0c810629f2",
   "metadata": {},
   "outputs": [],
>>>>>>> main
   "source": [
    "pip install tensorflow"
   ]
  },
  {
   "cell_type": "code",
<<<<<<< HEAD
   "execution_count": 8,
   "id": "bf659304",
=======
   "execution_count": 9,
   "id": "c4b5c0dc-8865-4dbb-842c-456d5bf1b746",
>>>>>>> main
   "metadata": {},
   "outputs": [
    {
     "name": "stdout",
     "output_type": "stream",
     "text": [
<<<<<<< HEAD
      "Requirement already satisfied: imbalanced-learn in c:\\users\\fransisca nong\\anaconda3\\lib\\site-packages (0.13.0)\n",
      "Requirement already satisfied: numpy<3,>=1.24.3 in c:\\users\\fransisca nong\\anaconda3\\lib\\site-packages (from imbalanced-learn) (1.26.4)\n",
      "Requirement already satisfied: scipy<2,>=1.10.1 in c:\\users\\fransisca nong\\anaconda3\\lib\\site-packages (from imbalanced-learn) (1.13.1)\n",
      "Requirement already satisfied: scikit-learn<2,>=1.3.2 in c:\\users\\fransisca nong\\anaconda3\\lib\\site-packages (from imbalanced-learn) (1.4.2)\n",
      "Requirement already satisfied: sklearn-compat<1,>=0.1 in c:\\users\\fransisca nong\\anaconda3\\lib\\site-packages (from imbalanced-learn) (0.1.3)\n",
      "Requirement already satisfied: joblib<2,>=1.1.1 in c:\\users\\fransisca nong\\anaconda3\\lib\\site-packages (from imbalanced-learn) (1.4.2)\n",
      "Requirement already satisfied: threadpoolctl<4,>=2.0.0 in c:\\users\\fransisca nong\\anaconda3\\lib\\site-packages (from imbalanced-learn) (2.2.0)\n",
=======
      "Collecting mlflow\n",
      "  Downloading mlflow-2.20.1-py3-none-any.whl.metadata (30 kB)\n",
      "Collecting mlflow-skinny==2.20.1 (from mlflow)\n",
      "  Downloading mlflow_skinny-2.20.1-py3-none-any.whl.metadata (31 kB)\n",
      "Requirement already satisfied: Flask<4 in c:\\users\\tcala\\anaconda3\\lib\\site-packages (from mlflow) (3.0.3)\n",
      "Requirement already satisfied: Jinja2<4,>=3.0 in c:\\users\\tcala\\anaconda3\\lib\\site-packages (from mlflow) (3.1.4)\n",
      "Requirement already satisfied: alembic!=1.10.0,<2 in c:\\users\\tcala\\anaconda3\\lib\\site-packages (from mlflow) (1.13.3)\n",
      "Collecting docker<8,>=4.0.0 (from mlflow)\n",
      "  Downloading docker-7.1.0-py3-none-any.whl.metadata (3.8 kB)\n",
      "Collecting graphene<4 (from mlflow)\n",
      "  Downloading graphene-3.4.3-py2.py3-none-any.whl.metadata (6.9 kB)\n",
      "Requirement already satisfied: markdown<4,>=3.3 in c:\\users\\tcala\\anaconda3\\lib\\site-packages (from mlflow) (3.4.1)\n",
      "Requirement already satisfied: matplotlib<4 in c:\\users\\tcala\\anaconda3\\lib\\site-packages (from mlflow) (3.8.4)\n",
      "Requirement already satisfied: numpy<3 in c:\\users\\tcala\\anaconda3\\lib\\site-packages (from mlflow) (1.26.4)\n",
      "Requirement already satisfied: pandas<3 in c:\\users\\tcala\\anaconda3\\lib\\site-packages (from mlflow) (2.2.2)\n",
      "Requirement already satisfied: pyarrow<19,>=4.0.0 in c:\\users\\tcala\\anaconda3\\lib\\site-packages (from mlflow) (14.0.2)\n",
      "Requirement already satisfied: scikit-learn<2 in c:\\users\\tcala\\anaconda3\\lib\\site-packages (from mlflow) (1.4.2)\n",
      "Requirement already satisfied: scipy<2 in c:\\users\\tcala\\anaconda3\\lib\\site-packages (from mlflow) (1.13.1)\n",
      "Requirement already satisfied: sqlalchemy<3,>=1.4.0 in c:\\users\\tcala\\anaconda3\\lib\\site-packages (from mlflow) (2.0.30)\n",
      "Collecting waitress<4 (from mlflow)\n",
      "  Downloading waitress-3.0.2-py3-none-any.whl.metadata (5.8 kB)\n",
      "Requirement already satisfied: cachetools<6,>=5.0.0 in c:\\users\\tcala\\anaconda3\\lib\\site-packages (from mlflow-skinny==2.20.1->mlflow) (5.3.3)\n",
      "Requirement already satisfied: click<9,>=7.0 in c:\\users\\tcala\\anaconda3\\lib\\site-packages (from mlflow-skinny==2.20.1->mlflow) (8.1.7)\n",
      "Requirement already satisfied: cloudpickle<4 in c:\\users\\tcala\\anaconda3\\lib\\site-packages (from mlflow-skinny==2.20.1->mlflow) (2.2.1)\n",
      "Collecting databricks-sdk<1,>=0.20.0 (from mlflow-skinny==2.20.1->mlflow)\n",
      "  Downloading databricks_sdk-0.43.0-py3-none-any.whl.metadata (38 kB)\n",
      "Requirement already satisfied: gitpython<4,>=3.1.9 in c:\\users\\tcala\\anaconda3\\lib\\site-packages (from mlflow-skinny==2.20.1->mlflow) (3.1.37)\n",
      "Requirement already satisfied: importlib_metadata!=4.7.0,<9,>=3.7.0 in c:\\users\\tcala\\anaconda3\\lib\\site-packages (from mlflow-skinny==2.20.1->mlflow) (7.0.1)\n",
      "Collecting opentelemetry-api<3,>=1.9.0 (from mlflow-skinny==2.20.1->mlflow)\n",
      "  Downloading opentelemetry_api-1.30.0-py3-none-any.whl.metadata (1.6 kB)\n",
      "Collecting opentelemetry-sdk<3,>=1.9.0 (from mlflow-skinny==2.20.1->mlflow)\n",
      "  Downloading opentelemetry_sdk-1.30.0-py3-none-any.whl.metadata (1.6 kB)\n",
      "Requirement already satisfied: packaging<25 in c:\\users\\tcala\\anaconda3\\lib\\site-packages (from mlflow-skinny==2.20.1->mlflow) (23.2)\n",
      "Requirement already satisfied: protobuf<6,>=3.12.0 in c:\\users\\tcala\\anaconda3\\lib\\site-packages (from mlflow-skinny==2.20.1->mlflow) (3.20.3)\n",
      "Requirement already satisfied: pydantic<3,>=1.0 in c:\\users\\tcala\\anaconda3\\lib\\site-packages (from mlflow-skinny==2.20.1->mlflow) (2.10.3)\n",
      "Requirement already satisfied: pyyaml<7,>=5.1 in c:\\users\\tcala\\anaconda3\\lib\\site-packages (from mlflow-skinny==2.20.1->mlflow) (6.0.1)\n",
      "Requirement already satisfied: requests<3,>=2.17.3 in c:\\users\\tcala\\anaconda3\\lib\\site-packages (from mlflow-skinny==2.20.1->mlflow) (2.32.2)\n",
      "Collecting sqlparse<1,>=0.4.0 (from mlflow-skinny==2.20.1->mlflow)\n",
      "  Downloading sqlparse-0.5.3-py3-none-any.whl.metadata (3.9 kB)\n",
      "Requirement already satisfied: typing-extensions<5,>=4.0.0 in c:\\users\\tcala\\anaconda3\\lib\\site-packages (from mlflow-skinny==2.20.1->mlflow) (4.12.2)\n",
      "Requirement already satisfied: Mako in c:\\users\\tcala\\anaconda3\\lib\\site-packages (from alembic!=1.10.0,<2->mlflow) (1.2.3)\n",
      "Requirement already satisfied: pywin32>=304 in c:\\users\\tcala\\anaconda3\\lib\\site-packages (from docker<8,>=4.0.0->mlflow) (305.1)\n",
      "Requirement already satisfied: urllib3>=1.26.0 in c:\\users\\tcala\\anaconda3\\lib\\site-packages (from docker<8,>=4.0.0->mlflow) (2.2.2)\n",
      "Requirement already satisfied: Werkzeug>=3.0.0 in c:\\users\\tcala\\anaconda3\\lib\\site-packages (from Flask<4->mlflow) (3.0.3)\n",
      "Requirement already satisfied: itsdangerous>=2.1.2 in c:\\users\\tcala\\anaconda3\\lib\\site-packages (from Flask<4->mlflow) (2.2.0)\n",
      "Requirement already satisfied: blinker>=1.6.2 in c:\\users\\tcala\\anaconda3\\lib\\site-packages (from Flask<4->mlflow) (1.6.2)\n",
      "Collecting graphql-core<3.3,>=3.1 (from graphene<4->mlflow)\n",
      "  Downloading graphql_core-3.2.6-py3-none-any.whl.metadata (11 kB)\n",
      "Collecting graphql-relay<3.3,>=3.1 (from graphene<4->mlflow)\n",
      "  Downloading graphql_relay-3.2.0-py3-none-any.whl.metadata (12 kB)\n",
      "Requirement already satisfied: python-dateutil<3,>=2.7.0 in c:\\users\\tcala\\anaconda3\\lib\\site-packages (from graphene<4->mlflow) (2.9.0.post0)\n",
      "Requirement already satisfied: MarkupSafe>=2.0 in c:\\users\\tcala\\anaconda3\\lib\\site-packages (from Jinja2<4,>=3.0->mlflow) (2.1.3)\n",
      "Requirement already satisfied: contourpy>=1.0.1 in c:\\users\\tcala\\anaconda3\\lib\\site-packages (from matplotlib<4->mlflow) (1.2.0)\n",
      "Requirement already satisfied: cycler>=0.10 in c:\\users\\tcala\\anaconda3\\lib\\site-packages (from matplotlib<4->mlflow) (0.11.0)\n",
      "Requirement already satisfied: fonttools>=4.22.0 in c:\\users\\tcala\\anaconda3\\lib\\site-packages (from matplotlib<4->mlflow) (4.51.0)\n",
      "Requirement already satisfied: kiwisolver>=1.3.1 in c:\\users\\tcala\\anaconda3\\lib\\site-packages (from matplotlib<4->mlflow) (1.4.4)\n",
      "Requirement already satisfied: pillow>=8 in c:\\users\\tcala\\anaconda3\\lib\\site-packages (from matplotlib<4->mlflow) (10.3.0)\n",
      "Requirement already satisfied: pyparsing>=2.3.1 in c:\\users\\tcala\\anaconda3\\lib\\site-packages (from matplotlib<4->mlflow) (3.0.9)\n",
      "Requirement already satisfied: pytz>=2020.1 in c:\\users\\tcala\\anaconda3\\lib\\site-packages (from pandas<3->mlflow) (2024.1)\n",
      "Requirement already satisfied: tzdata>=2022.7 in c:\\users\\tcala\\anaconda3\\lib\\site-packages (from pandas<3->mlflow) (2023.3)\n",
      "Requirement already satisfied: joblib>=1.2.0 in c:\\users\\tcala\\anaconda3\\lib\\site-packages (from scikit-learn<2->mlflow) (1.4.2)\n",
      "Requirement already satisfied: threadpoolctl>=2.0.0 in c:\\users\\tcala\\anaconda3\\lib\\site-packages (from scikit-learn<2->mlflow) (2.2.0)\n",
      "Requirement already satisfied: greenlet!=0.4.17 in c:\\users\\tcala\\anaconda3\\lib\\site-packages (from sqlalchemy<3,>=1.4.0->mlflow) (3.0.1)\n",
      "Requirement already satisfied: colorama in c:\\users\\tcala\\anaconda3\\lib\\site-packages (from click<9,>=7.0->mlflow-skinny==2.20.1->mlflow) (0.4.6)\n",
      "Collecting google-auth~=2.0 (from databricks-sdk<1,>=0.20.0->mlflow-skinny==2.20.1->mlflow)\n",
      "  Downloading google_auth-2.38.0-py2.py3-none-any.whl.metadata (4.8 kB)\n",
      "Requirement already satisfied: gitdb<5,>=4.0.1 in c:\\users\\tcala\\anaconda3\\lib\\site-packages (from gitpython<4,>=3.1.9->mlflow-skinny==2.20.1->mlflow) (4.0.7)\n",
      "Requirement already satisfied: zipp>=0.5 in c:\\users\\tcala\\anaconda3\\lib\\site-packages (from importlib_metadata!=4.7.0,<9,>=3.7.0->mlflow-skinny==2.20.1->mlflow) (3.17.0)\n",
      "Collecting deprecated>=1.2.6 (from opentelemetry-api<3,>=1.9.0->mlflow-skinny==2.20.1->mlflow)\n",
      "  Downloading Deprecated-1.2.18-py2.py3-none-any.whl.metadata (5.7 kB)\n",
      "Collecting opentelemetry-semantic-conventions==0.51b0 (from opentelemetry-sdk<3,>=1.9.0->mlflow-skinny==2.20.1->mlflow)\n",
      "  Downloading opentelemetry_semantic_conventions-0.51b0-py3-none-any.whl.metadata (2.5 kB)\n",
      "Requirement already satisfied: annotated-types>=0.6.0 in c:\\users\\tcala\\anaconda3\\lib\\site-packages (from pydantic<3,>=1.0->mlflow-skinny==2.20.1->mlflow) (0.6.0)\n",
      "Requirement already satisfied: pydantic-core==2.27.1 in c:\\users\\tcala\\anaconda3\\lib\\site-packages (from pydantic<3,>=1.0->mlflow-skinny==2.20.1->mlflow) (2.27.1)\n",
      "Requirement already satisfied: six>=1.5 in c:\\users\\tcala\\anaconda3\\lib\\site-packages (from python-dateutil<3,>=2.7.0->graphene<4->mlflow) (1.16.0)\n",
      "Requirement already satisfied: charset-normalizer<4,>=2 in c:\\users\\tcala\\anaconda3\\lib\\site-packages (from requests<3,>=2.17.3->mlflow-skinny==2.20.1->mlflow) (2.0.4)\n",
      "Requirement already satisfied: idna<4,>=2.5 in c:\\users\\tcala\\anaconda3\\lib\\site-packages (from requests<3,>=2.17.3->mlflow-skinny==2.20.1->mlflow) (3.7)\n",
      "Requirement already satisfied: certifi>=2017.4.17 in c:\\users\\tcala\\anaconda3\\lib\\site-packages (from requests<3,>=2.17.3->mlflow-skinny==2.20.1->mlflow) (2025.1.31)\n",
      "Requirement already satisfied: wrapt<2,>=1.10 in c:\\users\\tcala\\anaconda3\\lib\\site-packages (from deprecated>=1.2.6->opentelemetry-api<3,>=1.9.0->mlflow-skinny==2.20.1->mlflow) (1.14.1)\n",
      "Requirement already satisfied: smmap<5,>=3.0.1 in c:\\users\\tcala\\anaconda3\\lib\\site-packages (from gitdb<5,>=4.0.1->gitpython<4,>=3.1.9->mlflow-skinny==2.20.1->mlflow) (4.0.0)\n",
      "Requirement already satisfied: pyasn1-modules>=0.2.1 in c:\\users\\tcala\\anaconda3\\lib\\site-packages (from google-auth~=2.0->databricks-sdk<1,>=0.20.0->mlflow-skinny==2.20.1->mlflow) (0.2.8)\n",
      "Collecting rsa<5,>=3.1.4 (from google-auth~=2.0->databricks-sdk<1,>=0.20.0->mlflow-skinny==2.20.1->mlflow)\n",
      "  Downloading rsa-4.9-py3-none-any.whl.metadata (4.2 kB)\n",
      "Requirement already satisfied: pyasn1<0.5.0,>=0.4.6 in c:\\users\\tcala\\anaconda3\\lib\\site-packages (from pyasn1-modules>=0.2.1->google-auth~=2.0->databricks-sdk<1,>=0.20.0->mlflow-skinny==2.20.1->mlflow) (0.4.8)\n",
      "Downloading mlflow-2.20.1-py3-none-any.whl (28.3 MB)\n",
      "   ---------------------------------------- 0.0/28.3 MB ? eta -:--:--\n",
      "    --------------------------------------- 0.4/28.3 MB 9.2 MB/s eta 0:00:04\n",
      "   - -------------------------------------- 0.8/28.3 MB 8.1 MB/s eta 0:00:04\n",
      "   - -------------------------------------- 1.1/28.3 MB 7.6 MB/s eta 0:00:04\n",
      "   - -------------------------------------- 1.4/28.3 MB 7.2 MB/s eta 0:00:04\n",
      "   -- ------------------------------------- 1.7/28.3 MB 7.1 MB/s eta 0:00:04\n",
      "   -- ------------------------------------- 2.0/28.3 MB 7.0 MB/s eta 0:00:04\n",
      "   --- ------------------------------------ 2.3/28.3 MB 7.0 MB/s eta 0:00:04\n",
      "   --- ------------------------------------ 2.6/28.3 MB 7.0 MB/s eta 0:00:04\n",
      "   ---- ----------------------------------- 2.9/28.3 MB 6.9 MB/s eta 0:00:04\n",
      "   ---- ----------------------------------- 3.3/28.3 MB 6.9 MB/s eta 0:00:04\n",
      "   ----- ---------------------------------- 3.6/28.3 MB 6.9 MB/s eta 0:00:04\n",
      "   ----- ---------------------------------- 3.9/28.3 MB 6.9 MB/s eta 0:00:04\n",
      "   ----- ---------------------------------- 4.2/28.3 MB 6.9 MB/s eta 0:00:04\n",
      "   ------ --------------------------------- 4.5/28.3 MB 6.9 MB/s eta 0:00:04\n",
      "   ------ --------------------------------- 4.8/28.3 MB 6.9 MB/s eta 0:00:04\n",
      "   ------- -------------------------------- 5.2/28.3 MB 6.9 MB/s eta 0:00:04\n",
      "   ------- -------------------------------- 5.5/28.3 MB 6.8 MB/s eta 0:00:04\n",
      "   -------- ------------------------------- 5.8/28.3 MB 6.8 MB/s eta 0:00:04\n",
      "   -------- ------------------------------- 6.1/28.3 MB 6.8 MB/s eta 0:00:04\n",
      "   --------- ------------------------------ 6.4/28.3 MB 6.8 MB/s eta 0:00:04\n",
      "   --------- ------------------------------ 6.7/28.3 MB 6.8 MB/s eta 0:00:04\n",
      "   --------- ------------------------------ 7.0/28.3 MB 6.8 MB/s eta 0:00:04\n",
      "   ---------- ----------------------------- 7.3/28.3 MB 6.8 MB/s eta 0:00:04\n",
      "   ---------- ----------------------------- 7.6/28.3 MB 6.8 MB/s eta 0:00:04\n",
      "   ----------- ---------------------------- 8.0/28.3 MB 6.8 MB/s eta 0:00:04\n",
      "   ----------- ---------------------------- 8.3/28.3 MB 6.8 MB/s eta 0:00:03\n",
      "   ------------ --------------------------- 8.6/28.3 MB 6.8 MB/s eta 0:00:03\n",
      "   ------------ --------------------------- 8.9/28.3 MB 6.8 MB/s eta 0:00:03\n",
      "   ------------ --------------------------- 9.2/28.3 MB 6.8 MB/s eta 0:00:03\n",
      "   ------------- -------------------------- 9.5/28.3 MB 6.8 MB/s eta 0:00:03\n",
      "   ------------- -------------------------- 9.8/28.3 MB 6.8 MB/s eta 0:00:03\n",
      "   -------------- ------------------------- 10.1/28.3 MB 6.7 MB/s eta 0:00:03\n",
      "   -------------- ------------------------- 10.4/28.3 MB 6.7 MB/s eta 0:00:03\n",
      "   --------------- ------------------------ 10.8/28.3 MB 6.7 MB/s eta 0:00:03\n",
      "   --------------- ------------------------ 11.1/28.3 MB 6.7 MB/s eta 0:00:03\n",
      "   ---------------- ----------------------- 11.4/28.3 MB 6.7 MB/s eta 0:00:03\n",
      "   ---------------- ----------------------- 11.7/28.3 MB 6.7 MB/s eta 0:00:03\n",
      "   ---------------- ----------------------- 12.0/28.3 MB 6.7 MB/s eta 0:00:03\n",
      "   ----------------- ---------------------- 12.3/28.3 MB 6.7 MB/s eta 0:00:03\n",
      "   ----------------- ---------------------- 12.6/28.3 MB 6.7 MB/s eta 0:00:03\n",
      "   ------------------ --------------------- 12.9/28.3 MB 6.7 MB/s eta 0:00:03\n",
      "   ------------------ --------------------- 13.3/28.3 MB 6.7 MB/s eta 0:00:03\n",
      "   ------------------- -------------------- 13.6/28.3 MB 6.7 MB/s eta 0:00:03\n",
      "   ------------------- -------------------- 13.9/28.3 MB 6.7 MB/s eta 0:00:03\n",
      "   -------------------- ------------------- 14.2/28.3 MB 6.7 MB/s eta 0:00:03\n",
      "   -------------------- ------------------- 14.5/28.3 MB 6.7 MB/s eta 0:00:03\n",
      "   -------------------- ------------------- 14.8/28.3 MB 6.7 MB/s eta 0:00:03\n",
      "   --------------------- ------------------ 15.1/28.3 MB 6.7 MB/s eta 0:00:02\n",
      "   --------------------- ------------------ 15.4/28.3 MB 6.7 MB/s eta 0:00:02\n",
      "   ---------------------- ----------------- 15.8/28.3 MB 6.7 MB/s eta 0:00:02\n",
      "   ---------------------- ----------------- 16.1/28.3 MB 6.7 MB/s eta 0:00:02\n",
      "   ----------------------- ---------------- 16.4/28.3 MB 6.7 MB/s eta 0:00:02\n",
      "   ----------------------- ---------------- 16.7/28.3 MB 6.7 MB/s eta 0:00:02\n",
      "   ------------------------ --------------- 17.0/28.3 MB 6.7 MB/s eta 0:00:02\n",
      "   ------------------------ --------------- 17.3/28.3 MB 6.7 MB/s eta 0:00:02\n",
      "   ------------------------ --------------- 17.6/28.3 MB 6.7 MB/s eta 0:00:02\n",
      "   ------------------------- -------------- 18.0/28.3 MB 6.7 MB/s eta 0:00:02\n",
      "   ------------------------- -------------- 18.2/28.3 MB 6.7 MB/s eta 0:00:02\n",
      "   -------------------------- ------------- 18.6/28.3 MB 6.7 MB/s eta 0:00:02\n",
      "   -------------------------- ------------- 18.9/28.3 MB 6.7 MB/s eta 0:00:02\n",
      "   --------------------------- ------------ 19.2/28.3 MB 6.7 MB/s eta 0:00:02\n",
      "   --------------------------- ------------ 19.5/28.3 MB 6.7 MB/s eta 0:00:02\n",
      "   ---------------------------- ----------- 19.8/28.3 MB 6.7 MB/s eta 0:00:02\n",
      "   ---------------------------- ----------- 20.2/28.3 MB 6.7 MB/s eta 0:00:02\n",
      "   ---------------------------- ----------- 20.4/28.3 MB 6.7 MB/s eta 0:00:02\n",
      "   ----------------------------- ---------- 20.8/28.3 MB 6.7 MB/s eta 0:00:02\n",
      "   ----------------------------- ---------- 21.1/28.3 MB 6.7 MB/s eta 0:00:02\n",
      "   ------------------------------ --------- 21.4/28.3 MB 6.7 MB/s eta 0:00:02\n",
      "   ------------------------------ --------- 21.7/28.3 MB 6.7 MB/s eta 0:00:01\n",
      "   ------------------------------- -------- 22.0/28.3 MB 6.7 MB/s eta 0:00:01\n",
      "   ------------------------------- -------- 22.3/28.3 MB 6.7 MB/s eta 0:00:01\n",
      "   ------------------------------- -------- 22.6/28.3 MB 6.7 MB/s eta 0:00:01\n",
      "   -------------------------------- ------- 23.0/28.3 MB 6.7 MB/s eta 0:00:01\n",
      "   -------------------------------- ------- 23.3/28.3 MB 6.7 MB/s eta 0:00:01\n",
      "   --------------------------------- ------ 23.6/28.3 MB 6.7 MB/s eta 0:00:01\n",
      "   --------------------------------- ------ 23.9/28.3 MB 6.7 MB/s eta 0:00:01\n",
      "   ---------------------------------- ----- 24.2/28.3 MB 6.7 MB/s eta 0:00:01\n",
      "   ---------------------------------- ----- 24.5/28.3 MB 6.7 MB/s eta 0:00:01\n",
      "   ----------------------------------- ---- 24.8/28.3 MB 6.7 MB/s eta 0:00:01\n",
      "   ----------------------------------- ---- 25.1/28.3 MB 6.7 MB/s eta 0:00:01\n",
      "   ----------------------------------- ---- 25.4/28.3 MB 6.7 MB/s eta 0:00:01\n",
      "   ------------------------------------ --- 25.8/28.3 MB 6.7 MB/s eta 0:00:01\n",
      "   ------------------------------------ --- 26.1/28.3 MB 6.7 MB/s eta 0:00:01\n",
      "   ------------------------------------- -- 26.4/28.3 MB 6.7 MB/s eta 0:00:01\n",
      "   ------------------------------------- -- 26.7/28.3 MB 6.7 MB/s eta 0:00:01\n",
      "   -------------------------------------- - 27.0/28.3 MB 6.7 MB/s eta 0:00:01\n",
      "   -------------------------------------- - 27.3/28.3 MB 6.7 MB/s eta 0:00:01\n",
      "   ---------------------------------------  27.6/28.3 MB 6.7 MB/s eta 0:00:01\n",
      "   ---------------------------------------  27.9/28.3 MB 6.7 MB/s eta 0:00:01\n",
      "   ---------------------------------------  28.2/28.3 MB 6.7 MB/s eta 0:00:01\n",
      "   ---------------------------------------  28.3/28.3 MB 6.7 MB/s eta 0:00:01\n",
      "   ---------------------------------------- 28.3/28.3 MB 6.4 MB/s eta 0:00:00\n",
      "Downloading mlflow_skinny-2.20.1-py3-none-any.whl (6.0 MB)\n",
      "   ---------------------------------------- 0.0/6.0 MB ? eta -:--:--\n",
      "   --- ------------------------------------ 0.5/6.0 MB 9.4 MB/s eta 0:00:01\n",
      "   ----- ---------------------------------- 0.8/6.0 MB 8.1 MB/s eta 0:00:01\n",
      "   ------- -------------------------------- 1.1/6.0 MB 7.6 MB/s eta 0:00:01\n",
      "   --------- ------------------------------ 1.4/6.0 MB 7.4 MB/s eta 0:00:01\n",
      "   ----------- ---------------------------- 1.7/6.0 MB 7.2 MB/s eta 0:00:01\n",
      "   ------------- -------------------------- 2.0/6.0 MB 7.1 MB/s eta 0:00:01\n",
      "   --------------- ------------------------ 2.3/6.0 MB 7.1 MB/s eta 0:00:01\n",
      "   ----------------- ---------------------- 2.6/6.0 MB 7.0 MB/s eta 0:00:01\n",
      "   ------------------- -------------------- 2.9/6.0 MB 7.0 MB/s eta 0:00:01\n",
      "   --------------------- ------------------ 3.3/6.0 MB 6.9 MB/s eta 0:00:01\n",
      "   ----------------------- ---------------- 3.6/6.0 MB 6.9 MB/s eta 0:00:01\n",
      "   ------------------------- -------------- 3.9/6.0 MB 6.9 MB/s eta 0:00:01\n",
      "   ---------------------------- ----------- 4.2/6.0 MB 6.9 MB/s eta 0:00:01\n",
      "   ------------------------------ --------- 4.5/6.0 MB 6.9 MB/s eta 0:00:01\n",
      "   -------------------------------- ------- 4.8/6.0 MB 6.9 MB/s eta 0:00:01\n",
      "   ---------------------------------- ----- 5.1/6.0 MB 6.8 MB/s eta 0:00:01\n",
      "   ------------------------------------ --- 5.4/6.0 MB 6.8 MB/s eta 0:00:01\n",
      "   -------------------------------------- - 5.8/6.0 MB 6.8 MB/s eta 0:00:01\n",
      "   ---------------------------------------  6.0/6.0 MB 6.8 MB/s eta 0:00:01\n",
      "   ---------------------------------------- 6.0/6.0 MB 6.7 MB/s eta 0:00:00\n",
      "Downloading docker-7.1.0-py3-none-any.whl (147 kB)\n",
      "   ---------------------------------------- 0.0/147.8 kB ? eta -:--:--\n",
      "   ---------------------------------------- 147.8/147.8 kB 8.6 MB/s eta 0:00:00\n",
      "Downloading graphene-3.4.3-py2.py3-none-any.whl (114 kB)\n",
      "   ---------------------------------------- 0.0/114.9 kB ? eta -:--:--\n",
      "   ---------------------------------------- 114.9/114.9 kB 6.5 MB/s eta 0:00:00\n",
      "Downloading waitress-3.0.2-py3-none-any.whl (56 kB)\n",
      "   ---------------------------------------- 0.0/56.2 kB ? eta -:--:--\n",
      "   ---------------------------------------- 56.2/56.2 kB 3.1 MB/s eta 0:00:00\n",
      "Downloading databricks_sdk-0.43.0-py3-none-any.whl (647 kB)\n",
      "   ---------------------------------------- 0.0/647.4 kB ? eta -:--:--\n",
      "   --------------------------- ------------ 450.6/647.4 kB 9.4 MB/s eta 0:00:01\n",
      "   ---------------------------------------- 647.4/647.4 kB 8.2 MB/s eta 0:00:00\n",
      "Downloading graphql_core-3.2.6-py3-none-any.whl (203 kB)\n",
      "   ---------------------------------------- 0.0/203.4 kB ? eta -:--:--\n",
      "   --------------------------------------- 203.4/203.4 kB 12.1 MB/s eta 0:00:00\n",
      "Downloading graphql_relay-3.2.0-py3-none-any.whl (16 kB)\n",
      "Downloading opentelemetry_api-1.30.0-py3-none-any.whl (64 kB)\n",
      "   ---------------------------------------- 0.0/65.0 kB ? eta -:--:--\n",
      "   ---------------------------------------- 65.0/65.0 kB ? eta 0:00:00\n",
      "Downloading opentelemetry_sdk-1.30.0-py3-none-any.whl (118 kB)\n",
      "   ---------------------------------------- 0.0/118.7 kB ? eta -:--:--\n",
      "   ---------------------------------------- 118.7/118.7 kB ? eta 0:00:00\n",
      "Downloading opentelemetry_semantic_conventions-0.51b0-py3-none-any.whl (177 kB)\n",
      "   ---------------------------------------- 0.0/177.4 kB ? eta -:--:--\n",
      "   ---------------------------------------- 177.4/177.4 kB ? eta 0:00:00\n",
      "Downloading sqlparse-0.5.3-py3-none-any.whl (44 kB)\n",
      "   ---------------------------------------- 0.0/44.4 kB ? eta -:--:--\n",
      "   ---------------------------------------- 44.4/44.4 kB ? eta 0:00:00\n",
      "Downloading Deprecated-1.2.18-py2.py3-none-any.whl (10.0 kB)\n",
      "Downloading google_auth-2.38.0-py2.py3-none-any.whl (210 kB)\n",
      "   ---------------------------------------- 0.0/210.8 kB ? eta -:--:--\n",
      "   --------------------------------------- 210.8/210.8 kB 12.5 MB/s eta 0:00:00\n",
      "Downloading rsa-4.9-py3-none-any.whl (34 kB)\n",
      "Installing collected packages: waitress, sqlparse, rsa, graphql-core, deprecated, opentelemetry-api, graphql-relay, google-auth, docker, opentelemetry-semantic-conventions, graphene, databricks-sdk, opentelemetry-sdk, mlflow-skinny, mlflow\n",
      "Successfully installed databricks-sdk-0.43.0 deprecated-1.2.18 docker-7.1.0 google-auth-2.38.0 graphene-3.4.3 graphql-core-3.2.6 graphql-relay-3.2.0 mlflow-2.20.1 mlflow-skinny-2.20.1 opentelemetry-api-1.30.0 opentelemetry-sdk-1.30.0 opentelemetry-semantic-conventions-0.51b0 rsa-4.9 sqlparse-0.5.3 waitress-3.0.2\n",
>>>>>>> main
      "Note: you may need to restart the kernel to use updated packages.\n"
     ]
    }
   ],
   "source": [
<<<<<<< HEAD
=======
    "pip install mlflow"
   ]
  },
  {
   "cell_type": "code",
   "execution_count": null,
   "id": "bf659304",
   "metadata": {},
   "outputs": [],
   "source": [
>>>>>>> main
    "pip install --upgrade imbalanced-learn"
   ]
  },
  {
   "cell_type": "code",
<<<<<<< HEAD
   "execution_count": 9,
=======
   "execution_count": 1,
>>>>>>> main
   "id": "64014f33",
   "metadata": {},
   "outputs": [
    {
     "name": "stderr",
     "output_type": "stream",
     "text": [
<<<<<<< HEAD
      "[nltk_data] Downloading package stopwords to C:\\Users\\Fransisca\n",
      "[nltk_data]     Nong\\AppData\\Roaming\\nltk_data...\n",
      "[nltk_data]   Package stopwords is already up-to-date!\n",
      "[nltk_data] Downloading package punkt to C:\\Users\\Fransisca\n",
      "[nltk_data]     Nong\\AppData\\Roaming\\nltk_data...\n",
      "[nltk_data]   Package punkt is already up-to-date!\n",
      "[nltk_data] Downloading package punkt_tab to C:\\Users\\Fransisca\n",
      "[nltk_data]     Nong\\AppData\\Roaming\\nltk_data...\n",
      "[nltk_data]   Package punkt_tab is already up-to-date!\n",
      "[nltk_data] Downloading package wordnet to C:\\Users\\Fransisca\n",
      "[nltk_data]     Nong\\AppData\\Roaming\\nltk_data...\n",
=======
      "[nltk_data] Downloading package stopwords to\n",
      "[nltk_data]     C:\\Users\\lebog\\AppData\\Roaming\\nltk_data...\n",
      "[nltk_data]   Package stopwords is already up-to-date!\n",
      "[nltk_data] Downloading package punkt to\n",
      "[nltk_data]     C:\\Users\\lebog\\AppData\\Roaming\\nltk_data...\n",
      "[nltk_data]   Package punkt is already up-to-date!\n",
      "[nltk_data] Downloading package punkt_tab to\n",
      "[nltk_data]     C:\\Users\\lebog\\AppData\\Roaming\\nltk_data...\n",
      "[nltk_data]   Package punkt_tab is already up-to-date!\n",
      "[nltk_data] Downloading package wordnet to\n",
      "[nltk_data]     C:\\Users\\lebog\\AppData\\Roaming\\nltk_data...\n",
>>>>>>> main
      "[nltk_data]   Package wordnet is already up-to-date!\n"
     ]
    }
   ],
   "source": [
    "import pandas as pd\n",
    "import numpy as np\n",
    "import matplotlib.pyplot as plt\n",
<<<<<<< HEAD
    "import sklearn \n",
    "import imblearn \n",
    "import seaborn as sns\n",
    "from sklearn.model_selection import train_test_split\n",
    "\n",
    "from urllib.parse import urlparse\n",
=======
    "import imblearn \n",
    "import seaborn as sns\n",
    "\n",
    "import sklearn\n",
    "from sklearn.model_selection import train_test_split\n",
    "from sklearn.feature_extraction.text import TfidfVectorizer\n",
    "from sklearn.utils import resample\n",
    "from sklearn.naive_bayes import MultinomialNB\n",
    "from sklearn.pipeline import Pipeline\n",
    "from sklearn.model_selection import GridSearchCV\n",
    "from sklearn.model_selection import RandomizedSearchCV\n",
    "from sklearn.metrics import classification_report, accuracy_score\n",
    "from sklearn.preprocessing import LabelEncoder, StandardScaler\n",
    "from sklearn.ensemble import RandomForestClassifier\n",
    "from sklearn.neighbors import KNeighborsClassifier\n",
    "\n",
    "import mlflow\n",
    "import mlflow.sklearn\n",
    "import scikeras\n",
    "from scikeras.wrappers import KerasClassifier\n",
    "import pickle\n",
    "from mlflow.models import infer_signature\n",
    "\n",
    "from urllib.parse import urlparse\n",
    "import json\n",
    "from scipy.sparse import csr_matrix\n",
    "\n",
    "from imblearn.over_sampling import RandomOverSampler\n",
    "from imblearn.under_sampling import RandomUnderSampler\n",
    "from scipy.sparse import csr_matrix, vstack\n",
    "\n",
    "import tensorflow as tf\n",
    "from tensorflow.keras.layers import Dense, Flatten, Dropout, Input, Masking\n",
    "from tensorflow.keras.models import Sequential\n",
    "from tensorflow.keras.utils import to_categorical, normalize\n",
    "\n",
    "import nltk\n",
>>>>>>> main
    "import re\n",
    "from nltk.tokenize import word_tokenize, TreebankWordTokenizer\n",
    "from nltk.stem import WordNetLemmatizer\n",
    "from nltk.corpus import stopwords\n",
<<<<<<< HEAD
    "from sklearn.feature_extraction.text import TfidfVectorizer\n",
    "from sklearn.utils import resample\n",
    "\n",
    "from sklearn.naive_bayes import MultinomialNB\n",
    "from sklearn.pipeline import Pipeline\n",
    "from sklearn.model_selection import GridSearchCV\n",
    "from imblearn.over_sampling import RandomOverSampler\n",
    "from scipy.sparse import csr_matrix\n",
    "\n",
    "import tensorflow as tf\n",
    "import scikeras\n",
    "from tensorflow.keras.datasets import mnist\n",
    "from tensorflow.keras.layers import Dense, Flatten, Dropout, Input\n",
    "from tensorflow.keras.models import Sequential\n",
    "from tensorflow.keras.utils import to_categorical, normalize\n",
    "from sklearn.metrics import classification_report\n",
    "from scikeras.wrappers import KerasClassifier\n",
    "\n",
    "import nltk\n",
=======
    "\n",
>>>>>>> main
    "nltk.download('stopwords')\n",
    "nltk.download('punkt')\n",
    "nltk.download('punkt_tab')\n",
    "nltk.download('wordnet')\n",
    "\n",
    "import warnings\n",
    "warnings.filterwarnings(\"ignore\")"
   ]
  },
  {
   "cell_type": "markdown",
   "id": "d8eedb7d",
   "metadata": {},
   "source": [
    "#### Datasets"
   ]
  },
  {
   "cell_type": "code",
<<<<<<< HEAD
   "execution_count": 11,
=======
   "execution_count": 2,
>>>>>>> main
   "id": "241ffc87",
   "metadata": {
    "scrolled": true
   },
   "outputs": [],
   "source": [
    "#importing the dataset:the train dataset \n",
    "train_df = pd.read_csv(\"Data/processed/train.csv\")\n",
    "# train_df.head(5)"
   ]
  },
  {
   "cell_type": "code",
<<<<<<< HEAD
   "execution_count": 12,
=======
   "execution_count": 3,
>>>>>>> main
   "id": "c90f6f9f",
   "metadata": {},
   "outputs": [],
   "source": [
    "#importing the dataset: the test \n",
    "test_df = pd.read_csv(\"Data/processed/test.csv\")\n",
    "# test_df.head(5)"
   ]
  },
  {
   "cell_type": "markdown",
   "id": "ac9a5e2b",
<<<<<<< HEAD
   "metadata": {},
   "source": [
    "#### 2.1 Data inspection"
=======
   "metadata": {
    "jp-MarkdownHeadingCollapsed": true
   },
   "source": [
    "<h3>2.1 Data inspection</h3>"
>>>>>>> main
   ]
  },
  {
   "cell_type": "code",
<<<<<<< HEAD
   "execution_count": 14,
=======
   "execution_count": 4,
>>>>>>> main
   "id": "e821ad56",
   "metadata": {},
   "outputs": [
    {
     "name": "stdout",
     "output_type": "stream",
     "text": [
      "The dimensions for the Train set are: (5520, 5)\n",
      "The dimensions for the test set are: (2000, 5)\n"
     ]
    }
   ],
   "source": [
    "print(\"The dimensions for the Train set are:\", train_df.shape)\n",
    "print(\"The dimensions for the test set are:\",test_df.shape)"
   ]
  },
  {
   "cell_type": "code",
<<<<<<< HEAD
   "execution_count": 15,
=======
   "execution_count": 5,
>>>>>>> main
   "id": "19bc4336",
   "metadata": {},
   "outputs": [
    {
     "name": "stdout",
     "output_type": "stream",
     "text": [
      "<class 'pandas.core.frame.DataFrame'>\n",
      "RangeIndex: 5520 entries, 0 to 5519\n",
      "Data columns (total 5 columns):\n",
      " #   Column       Non-Null Count  Dtype \n",
      "---  ------       --------------  ----- \n",
      " 0   headlines    5520 non-null   object\n",
      " 1   description  5520 non-null   object\n",
      " 2   content      5520 non-null   object\n",
      " 3   url          5520 non-null   object\n",
      " 4   category     5520 non-null   object\n",
      "dtypes: object(5)\n",
      "memory usage: 215.8+ KB\n",
      "<class 'pandas.core.frame.DataFrame'>\n",
      "RangeIndex: 2000 entries, 0 to 1999\n",
      "Data columns (total 5 columns):\n",
      " #   Column       Non-Null Count  Dtype \n",
      "---  ------       --------------  ----- \n",
      " 0   headlines    2000 non-null   object\n",
      " 1   description  2000 non-null   object\n",
      " 2   content      2000 non-null   object\n",
      " 3   url          2000 non-null   object\n",
      " 4   category     2000 non-null   object\n",
      "dtypes: object(5)\n",
      "memory usage: 78.3+ KB\n"
     ]
    },
    {
     "data": {
      "text/plain": [
       "None"
      ]
     },
     "metadata": {},
     "output_type": "display_data"
    },
    {
     "data": {
      "text/plain": [
       "None"
      ]
     },
     "metadata": {},
     "output_type": "display_data"
    }
   ],
   "source": [
    "display(train_df.info(), test_df.info())"
   ]
  },
  {
   "cell_type": "markdown",
   "id": "dbf51bf5",
   "metadata": {},
   "source": [
    "There are no missing values in both the train and test dataset"
   ]
  },
  {
   "cell_type": "code",
<<<<<<< HEAD
   "execution_count": 17,
=======
   "execution_count": 6,
>>>>>>> main
   "id": "4bfc2cf8",
   "metadata": {},
   "outputs": [
    {
     "name": "stdout",
     "output_type": "stream",
     "text": [
      "             Train Null Count  Test Null Count\n",
      "headlines                   0                0\n",
      "description                 0                0\n",
      "content                     0                0\n",
      "url                         0                0\n",
      "category                    0                0\n"
     ]
    }
   ],
   "source": [
    "null_counts = pd.DataFrame({\n",
    "    \"Train Null Count\": train_df.isnull().sum(),\n",
    "    \"Test Null Count\": test_df.isnull().sum()\n",
    "})\n",
    "print(null_counts)"
   ]
  },
  {
   "cell_type": "code",
<<<<<<< HEAD
   "execution_count": 18,
=======
   "execution_count": 7,
>>>>>>> main
   "id": "a820a583",
   "metadata": {},
   "outputs": [
    {
     "data": {
      "text/plain": [
       "0"
      ]
     },
     "metadata": {},
     "output_type": "display_data"
    },
    {
     "data": {
      "text/plain": [
       "0"
      ]
     },
     "metadata": {},
     "output_type": "display_data"
    }
   ],
   "source": [
    "display(train_df.duplicated().sum(), test_df.duplicated().sum())"
   ]
  },
  {
   "cell_type": "markdown",
   "id": "20c4c820",
   "metadata": {},
   "source": [
    "Number of duplicate for train set rows: 0\n",
    "\n",
    "Number of duplicate for test set rows: 0"
   ]
  },
  {
   "cell_type": "code",
<<<<<<< HEAD
   "execution_count": 20,
=======
   "execution_count": 8,
>>>>>>> main
   "id": "dcf638e5",
   "metadata": {},
   "outputs": [
    {
     "name": "stdout",
     "output_type": "stream",
     "text": [
      "                 Metric  Train Dataset  Test Dataset\n",
      "0        Number of Rows           5520          2000\n",
      "1     Number of Columns              5             5\n",
      "2  Total Missing Values              0             0\n",
      "3        Duplicate Rows              0             0\n",
      "4     Numerical Columns              0             0\n",
      "5   Categorical Columns              5             5\n"
     ]
    }
   ],
   "source": [
    "def inspect_dataset(df):\n",
    "    return {\n",
    "        \"Number of Rows\": df.shape[0],\n",
    "        \"Number of Columns\": df.shape[1],\n",
    "        \"Total Missing Values\": df.isnull().sum().sum(),\n",
    "        \"Duplicate Rows\": df.duplicated().sum(),\n",
    "        \"Numerical Columns\": df.select_dtypes(include='number').shape[1],\n",
    "        \"Categorical Columns\": df.select_dtypes(include='object').shape[1],\n",
    "    }\n",
    "\n",
    "train_inspection = inspect_dataset(train_df)\n",
    "test_inspection = inspect_dataset(test_df)\n",
    "\n",
    "inspection_results = pd.DataFrame({\n",
    "    \"Metric\": train_inspection.keys(),\n",
    "    \"Train Dataset\": train_inspection.values(),\n",
    "    \"Test Dataset\": test_inspection.values(),\n",
    "})\n",
    "\n",
    "print(inspection_results)"
   ]
  },
  {
   "cell_type": "code",
<<<<<<< HEAD
   "execution_count": 21,
=======
   "execution_count": 9,
>>>>>>> main
   "id": "2cb9fec8",
   "metadata": {},
   "outputs": [
    {
     "data": {
      "text/html": [
       "<div>\n",
       "<style scoped>\n",
       "    .dataframe tbody tr th:only-of-type {\n",
       "        vertical-align: middle;\n",
       "    }\n",
       "\n",
       "    .dataframe tbody tr th {\n",
       "        vertical-align: top;\n",
       "    }\n",
       "\n",
       "    .dataframe thead th {\n",
       "        text-align: right;\n",
       "    }\n",
       "</style>\n",
       "<table border=\"1\" class=\"dataframe\">\n",
       "  <thead>\n",
       "    <tr style=\"text-align: right;\">\n",
       "      <th></th>\n",
       "      <th>count</th>\n",
       "      <th>unique</th>\n",
       "      <th>top</th>\n",
       "      <th>freq</th>\n",
       "    </tr>\n",
       "  </thead>\n",
       "  <tbody>\n",
       "    <tr>\n",
       "      <th>headlines</th>\n",
       "      <td>5520</td>\n",
       "      <td>5512</td>\n",
       "      <td>International Education Day 2024: Know why it ...</td>\n",
       "      <td>2</td>\n",
       "    </tr>\n",
       "    <tr>\n",
       "      <th>description</th>\n",
       "      <td>5520</td>\n",
       "      <td>5508</td>\n",
       "      <td>The university has removed the requirements of...</td>\n",
       "      <td>2</td>\n",
       "    </tr>\n",
       "    <tr>\n",
       "      <th>content</th>\n",
       "      <td>5520</td>\n",
       "      <td>5513</td>\n",
       "      <td>Grand Slam fever grips tennis fans all over th...</td>\n",
       "      <td>5</td>\n",
       "    </tr>\n",
       "    <tr>\n",
       "      <th>url</th>\n",
       "      <td>5520</td>\n",
       "      <td>5514</td>\n",
       "      <td>https://indianexpress.com/article/education/kc...</td>\n",
       "      <td>2</td>\n",
       "    </tr>\n",
       "    <tr>\n",
       "      <th>category</th>\n",
       "      <td>5520</td>\n",
       "      <td>5</td>\n",
       "      <td>education</td>\n",
       "      <td>1520</td>\n",
       "    </tr>\n",
       "  </tbody>\n",
       "</table>\n",
       "</div>"
      ],
      "text/plain": [
       "            count unique                                                top  \\\n",
       "headlines    5520   5512  International Education Day 2024: Know why it ...   \n",
       "description  5520   5508  The university has removed the requirements of...   \n",
       "content      5520   5513  Grand Slam fever grips tennis fans all over th...   \n",
       "url          5520   5514  https://indianexpress.com/article/education/kc...   \n",
       "category     5520      5                                          education   \n",
       "\n",
       "             freq  \n",
       "headlines       2  \n",
       "description     2  \n",
       "content         5  \n",
       "url             2  \n",
       "category     1520  "
      ]
     },
<<<<<<< HEAD
     "execution_count": 21,
=======
     "execution_count": 9,
>>>>>>> main
     "metadata": {},
     "output_type": "execute_result"
    }
   ],
   "source": [
    "train_df.describe().T\n",
    "#check if there are duplicates "
   ]
  },
  {
   "cell_type": "code",
<<<<<<< HEAD
   "execution_count": 22,
=======
   "execution_count": 10,
>>>>>>> main
   "id": "fca3a19b-a61a-4dd2-abdf-bd45324bcf1c",
   "metadata": {},
   "outputs": [
    {
     "name": "stdout",
     "output_type": "stream",
     "text": [
      "                                           headlines  \\\n",
      "0  NLC India wins contract for power supply to Ra...   \n",
      "1  SBI Clerk prelims exams dates announced; admit...   \n",
      "2  Golden Globes: Michelle Yeoh, Will Ferrell, An...   \n",
      "3  OnePlus Nord 3 at Rs 27,999 as part of new pri...   \n",
      "4  Adani family’s partners used ‘opaque’ funds to...   \n",
      "\n",
      "                                         description  \\\n",
      "0  State-owned firm NLC India Ltd (NLCIL) on Mond...   \n",
      "1  SBI Clerk Prelims Exam: The SBI Clerk prelims ...   \n",
      "2  Barbie is the top nominee this year, followed ...   \n",
      "3  New deal makes the OnePlus Nord 3 an easy purc...   \n",
      "4  Citing review of files from multiple tax haven...   \n",
      "\n",
      "                                             content  \\\n",
      "0  State-owned firm NLC India Ltd (NLCIL) on Mond...   \n",
      "1  SBI Clerk Prelims Exam: The State Bank of Indi...   \n",
      "2  Michelle Yeoh, Will Ferrell, Angela Bassett an...   \n",
      "3  In our review of the OnePlus Nord 3 5G, we pra...   \n",
      "4  Millions of dollars were invested in some publ...   \n",
      "\n",
      "                                                 url       category  \n",
      "0  https://indianexpress.com/article/business/com...       business  \n",
      "1  https://indianexpress.com/article/education/sb...      education  \n",
      "2  https://indianexpress.com/article/entertainmen...  entertainment  \n",
      "3  https://indianexpress.com/article/technology/t...     technology  \n",
      "4  https://indianexpress.com/article/business/ada...       business  \n"
     ]
    }
   ],
   "source": [
    "categories = train_df.category.unique()\n",
    "print(test_df.head())"
   ]
  },
  {
   "cell_type": "markdown",
   "id": "4da7e3d5",
   "metadata": {},
   "source": [
    "<h3>2.2. Data Preprocessing</h3>"
   ]
  },
  {
   "cell_type": "markdown",
   "id": "566757dc-4f10-4094-9ca1-03c50dace47f",
   "metadata": {},
   "source": [
    "<h4> Preprocessing function that tokenizes, removes stop words and lematizes the text</h4>"
   ]
  },
  {
   "cell_type": "code",
<<<<<<< HEAD
   "execution_count": 25,
=======
   "execution_count": 11,
>>>>>>> main
   "id": "25e4619f-aa90-4e3d-a190-c3a4371c4c81",
   "metadata": {},
   "outputs": [],
   "source": [
    "def preprocess_text(text):\n",
    "    # Tokenize the text\n",
    "    tokens = nltk.word_tokenize(text)\n",
    "\n",
    "    # Remove stopwords\n",
    "    stop_words = set(stopwords.words('english'))\n",
    "    no_stop_words = [word for word in tokens if word.lower() not in stop_words]\n",
    "\n",
    "    # Remove punctuation\n",
    "    no_puntuation = [word for word in no_stop_words if word.isalnum()]\n",
    "\n",
    "    # Lemmatize tokens\n",
    "    lemmatizer = WordNetLemmatizer()\n",
    "    lemmatized_tokens = [lemmatizer.lemmatize(word) for word in no_puntuation]\n",
    "\n",
    "    # Join tokens back into a single string\n",
    "    return ' '.join(lemmatized_tokens)\n"
   ]
  },
  {
   "cell_type": "code",
<<<<<<< HEAD
   "execution_count": 26,
=======
   "execution_count": 12,
>>>>>>> main
   "id": "987db596-a08d-41f2-b7c9-874ca17c3af3",
   "metadata": {},
   "outputs": [],
   "source": [
    "columns_to_process = ['headlines', 'description', 'content'] #We will deal with URLs later\n",
    "\n",
    "for col in columns_to_process:\n",
    "    train_df[col] = train_df[col].apply(preprocess_text)\n",
    "    test_df[col] = test_df[col].apply(preprocess_text)"
   ]
  },
  {
   "cell_type": "code",
<<<<<<< HEAD
   "execution_count": 27,
=======
   "execution_count": 13,
>>>>>>> main
   "id": "467190dc-5a08-4773-809d-1f568d27107a",
   "metadata": {},
   "outputs": [
    {
     "name": "stdout",
     "output_type": "stream",
     "text": [
      "                                           headlines  \\\n",
      "0           RBI revise definition person KYC purpose   \n",
      "1  NDTV Q2 net profit fall Rs crore impacted lowe...   \n",
      "2  Akasa Air well capitalised grow much faster CE...   \n",
      "3  India current account deficit decline sharply ...   \n",
      "4      States borrowing cost soar highest far fiscal   \n",
      "\n",
      "                                         description  \\\n",
      "0  central bank also asked chairperson chief exec...   \n",
      "1  NDTV consolidated revenue operation Rs crore R...   \n",
      "2  initial share sale open public subscription Ju...   \n",
      "3  current account deficit CAD per cent GDP USD b...   \n",
      "4  price shot reflecting overall higher risk aver...   \n",
      "\n",
      "                                             content  \\\n",
      "0  Reserve Bank India RBI changed definition Pers...   \n",
      "1  Broadcaster New Delhi Television Ltd Monday re...   \n",
      "2  Homegrown server maker Netweb Technologies Ind...   \n",
      "3  India current account deficit declined sharply...   \n",
      "4  States forced pay nose weekly auction debt Tue...   \n",
      "\n",
      "                                                 url  category  \n",
      "0  https://indianexpress.com/article/business/ban...  business  \n",
      "1  https://indianexpress.com/article/business/com...  business  \n",
      "2  https://indianexpress.com/article/business/mar...  business  \n",
      "3  https://indianexpress.com/article/business/eco...  business  \n",
      "4  https://indianexpress.com/article/business/eco...  business  \n",
      "                                           headlines  \\\n",
      "0  NLC India win contract power supply Rajasthan ...   \n",
      "1  SBI Clerk prelim exam date announced admit car...   \n",
      "2  Golden Globes Michelle Yeoh Ferrell Angela Bas...   \n",
      "3               OnePlus Nord 3 Rs part new price cut   \n",
      "4  Adani family partner used opaque fund invest s...   \n",
      "\n",
      "                                         description  \\\n",
      "0  firm NLC India Ltd NLCIL Monday said emerged s...   \n",
      "1  SBI Clerk Prelims Exam SBI Clerk prelim exam 2...   \n",
      "2  Barbie top nominee year followed closely Oppen...   \n",
      "3  New deal make OnePlus Nord 3 easy purchase Rs 30k   \n",
      "4  Citing review file multiple tax haven internal...   \n",
      "\n",
      "                                             content  \\\n",
      "0  firm NLC India Ltd NLCIL Monday said emerged s...   \n",
      "1  SBI Clerk Prelims Exam State Bank Indian SBI a...   \n",
      "2  Michelle Yeoh Ferrell Angela Bassett Amanda Se...   \n",
      "3  review OnePlus Nord 3 5G praised balanced comb...   \n",
      "4  Millions dollar invested publicly traded stock...   \n",
      "\n",
      "                                                 url       category  \n",
      "0  https://indianexpress.com/article/business/com...       business  \n",
      "1  https://indianexpress.com/article/education/sb...      education  \n",
      "2  https://indianexpress.com/article/entertainmen...  entertainment  \n",
      "3  https://indianexpress.com/article/technology/t...     technology  \n",
      "4  https://indianexpress.com/article/business/ada...       business  \n"
     ]
    }
   ],
   "source": [
    "print(train_df.head())\n",
    "print(test_df.head())"
   ]
  },
  {
   "cell_type": "markdown",
   "id": "57a4780e-e273-4939-a559-5cf43f398309",
   "metadata": {},
   "source": [
<<<<<<< HEAD
    "<h4>2.2.4. Handling URLs</h4>"
=======
    "<h4> Handling URLs</h4>"
>>>>>>> main
   ]
  },
  {
   "cell_type": "markdown",
   "id": "b74abde7-4878-4a77-b9e6-86d818d6c961",
   "metadata": {},
   "source": [
<<<<<<< HEAD
    "Some URLs tend to have the category of the article in them while some don't the following code will be used to extract that URL in the case that the category is there, and leave \"uncategorised\" if there is no category "
=======
    "The URL columns may not always reliably provide information on the category, so we drop the column. Even if the column has the category, this may negatively impact our model performance as this will lead to 100% accuracy in our models on training data. This is unrealistic as in practice, URLs may not have the category in them or in the expected sequence, causing the model to perform poorly."
>>>>>>> main
   ]
  },
  {
   "cell_type": "code",
<<<<<<< HEAD
   "execution_count": 30,
   "id": "f4b46f7a-02e1-4686-92fb-2b3a82c28eee",
   "metadata": {},
   "outputs": [],
   "source": [
    "# Getting the categories from our data frames\n",
    "train_categories_df = pd.DataFrame({'category': train_df.category.unique()})\n",
    "\n",
    "# Converting the category column to a set for faster lookup\n",
    "predefined_categories = set(train_categories_df['category'].str.lower())\n"
   ]
  },
  {
   "cell_type": "code",
   "execution_count": 31,
   "id": "e53ce5c4-abba-413e-8d59-50b9584fa570",
   "metadata": {},
   "outputs": [],
   "source": [
    "def extract_category(url):\n",
    "    \n",
    "    # Parsing the URL to extract the path\n",
    "    parsed_url = urlparse(url)\n",
    "    path = parsed_url.path.strip('/')\n",
    "\n",
    "    # Splitting the path into segments\n",
    "    path_segments = path.split('/')\n",
    "\n",
    "    # Defining a default category in case there is no clear category found within the URL\n",
    "    default_category = 'uncategorized'\n",
    "\n",
    "    # Checking if the URL contains the word 'article' and extracting the category \n",
    "    if 'article' in path_segments:\n",
    "        \n",
    "        # Finding the position of 'article' and assume the next segment is the category\n",
    "        #This is for the URLs that have the category directly after the '/article/' in the URL\n",
    "        index = path_segments.index('article')\n",
    "        if index + 1 < len(path_segments):\n",
    "            category = path_segments[index + 1].lower()\n",
    "            if category in predefined_categories:\n",
    "                return category\n",
    "    \n",
    "    # Check for cases where the category is not directly after 'article', or if 'article' is missing\n",
    "    for segment in path_segments:\n",
    "        # Match alphanumeric categories and check against predefined categories\n",
    "        category = segment.lower()\n",
    "        if re.match(r'^[a-zA-Z\\-]+$', category) and category in predefined_categories:\n",
    "            return category\n",
    "\n",
    "    # Return the default category if no category is found\n",
    "    return default_category"
   ]
  },
  {
   "cell_type": "code",
   "execution_count": 32,
=======
   "execution_count": 14,
>>>>>>> main
   "id": "d16645ee-8be9-40f6-8f90-f26e5b66db23",
   "metadata": {},
   "outputs": [
    {
     "data": {
      "text/html": [
       "<div>\n",
       "<style scoped>\n",
       "    .dataframe tbody tr th:only-of-type {\n",
       "        vertical-align: middle;\n",
       "    }\n",
       "\n",
       "    .dataframe tbody tr th {\n",
       "        vertical-align: top;\n",
       "    }\n",
       "\n",
       "    .dataframe thead th {\n",
       "        text-align: right;\n",
       "    }\n",
       "</style>\n",
       "<table border=\"1\" class=\"dataframe\">\n",
       "  <thead>\n",
       "    <tr style=\"text-align: right;\">\n",
       "      <th></th>\n",
       "      <th>headlines</th>\n",
       "      <th>description</th>\n",
       "      <th>content</th>\n",
       "      <th>category</th>\n",
       "    </tr>\n",
       "  </thead>\n",
       "  <tbody>\n",
       "    <tr>\n",
       "      <th>0</th>\n",
       "      <td>RBI revise definition person KYC purpose</td>\n",
       "      <td>central bank also asked chairperson chief exec...</td>\n",
       "      <td>Reserve Bank India RBI changed definition Pers...</td>\n",
       "      <td>business</td>\n",
       "    </tr>\n",
       "    <tr>\n",
       "      <th>1</th>\n",
       "      <td>NDTV Q2 net profit fall Rs crore impacted lowe...</td>\n",
       "      <td>NDTV consolidated revenue operation Rs crore R...</td>\n",
       "      <td>Broadcaster New Delhi Television Ltd Monday re...</td>\n",
       "      <td>business</td>\n",
       "    </tr>\n",
       "    <tr>\n",
       "      <th>2</th>\n",
       "      <td>Akasa Air well capitalised grow much faster CE...</td>\n",
       "      <td>initial share sale open public subscription Ju...</td>\n",
       "      <td>Homegrown server maker Netweb Technologies Ind...</td>\n",
       "      <td>business</td>\n",
       "    </tr>\n",
       "    <tr>\n",
       "      <th>3</th>\n",
       "      <td>India current account deficit decline sharply ...</td>\n",
       "      <td>current account deficit CAD per cent GDP USD b...</td>\n",
       "      <td>India current account deficit declined sharply...</td>\n",
       "      <td>business</td>\n",
       "    </tr>\n",
       "    <tr>\n",
       "      <th>4</th>\n",
       "      <td>States borrowing cost soar highest far fiscal</td>\n",
       "      <td>price shot reflecting overall higher risk aver...</td>\n",
       "      <td>States forced pay nose weekly auction debt Tue...</td>\n",
       "      <td>business</td>\n",
       "    </tr>\n",
       "  </tbody>\n",
       "</table>\n",
       "</div>"
      ],
      "text/plain": [
       "                                           headlines  \\\n",
       "0           RBI revise definition person KYC purpose   \n",
       "1  NDTV Q2 net profit fall Rs crore impacted lowe...   \n",
       "2  Akasa Air well capitalised grow much faster CE...   \n",
       "3  India current account deficit decline sharply ...   \n",
       "4      States borrowing cost soar highest far fiscal   \n",
       "\n",
       "                                         description  \\\n",
       "0  central bank also asked chairperson chief exec...   \n",
       "1  NDTV consolidated revenue operation Rs crore R...   \n",
       "2  initial share sale open public subscription Ju...   \n",
       "3  current account deficit CAD per cent GDP USD b...   \n",
       "4  price shot reflecting overall higher risk aver...   \n",
       "\n",
       "                                             content  category  \n",
       "0  Reserve Bank India RBI changed definition Pers...  business  \n",
       "1  Broadcaster New Delhi Television Ltd Monday re...  business  \n",
       "2  Homegrown server maker Netweb Technologies Ind...  business  \n",
       "3  India current account deficit declined sharply...  business  \n",
       "4  States forced pay nose weekly auction debt Tue...  business  "
      ]
     },
<<<<<<< HEAD
     "execution_count": 32,
=======
     "execution_count": 14,
>>>>>>> main
     "metadata": {},
     "output_type": "execute_result"
    }
   ],
   "source": [
<<<<<<< HEAD
    "train_df['url'] = train_df['url'].apply(extract_category)\n",
    "test_df['url'] = test_df['url'].apply(extract_category)\n",
    "\n",
    "#The URL columns may not always reliably provide information on the category, so we drop the column\n",
=======
>>>>>>> main
    "train_df = train_df.drop(columns='url', axis=1)\n",
    "test_df = test_df.drop(columns='url', axis=1)\n",
    "\n",
    "train_df.head()"
   ]
  },
  {
   "cell_type": "markdown",
   "id": "2326a3aa-7158-44d5-bb16-b6bc7931b8d8",
   "metadata": {},
   "source": [
    "<h4> Vectorizing</h4>"
   ]
  },
  {
   "cell_type": "markdown",
   "id": "1f068c64-a69e-474f-bec2-6cff28a3b0cd",
   "metadata": {},
   "source": [
    "Before performing the train test split, we will use a TF-IDF vectorizer to draw out important words that may help in predicting the category of an article"
   ]
  },
  {
   "cell_type": "code",
<<<<<<< HEAD
   "execution_count": 35,
=======
   "execution_count": 15,
>>>>>>> main
   "id": "8145a0e4-2a9b-4545-8dae-61cf8a8b9faf",
   "metadata": {},
   "outputs": [],
   "source": [
    "text_columns = ['headlines', 'description', 'content']"
   ]
  },
  {
   "cell_type": "code",
<<<<<<< HEAD
   "execution_count": 36,
=======
   "execution_count": 16,
>>>>>>> main
   "id": "a42982e7-d4ac-41a1-b4d8-33717a38221c",
   "metadata": {},
   "outputs": [],
   "source": [
    "tfidf_vectorizers = {}\n",
    "vectorized_texts = []"
   ]
  },
  {
   "cell_type": "code",
<<<<<<< HEAD
   "execution_count": 37,
   "id": "aaeb26a8-0649-4c76-8d22-074506f33009",
   "metadata": {},
   "outputs": [],
   "source": [
    "# Initialize TF-IDF Vectorizer for each text column\n",
    "vectorizers = {col: TfidfVectorizer() for col in text_columns}\n",
    "\n",
    "# Vectorize train and test data\n",
    "train_vectorized_dfs = []\n",
    "test_vectorized_dfs = []\n",
    "\n",
    "for col in text_columns:\n",
    "    # Fit the vectorizer on the training data\n",
    "    vectorizer = vectorizers[col]\n",
    "    train_vec_data = vectorizer.fit_transform(train_df[col])\n",
    "    test_vec_data = vectorizer.transform(test_df[col])\n",
    "    \n",
    "    # Create DataFrames for the vectorized data\n",
    "    train_vec_df = pd.DataFrame(train_vec_data.toarray(), columns=[f\"{col}_{feat}\" for feat in vectorizer.get_feature_names_out()])\n",
    "    test_vec_df = pd.DataFrame(test_vec_data.toarray(), columns=[f\"{col}_{feat}\" for feat in vectorizer.get_feature_names_out()])\n",
    "    \n",
    "    # Append vectorized DataFrames\n",
    "    train_vectorized_dfs.append(train_vec_df)\n",
    "    test_vectorized_dfs.append(test_vec_df)\n",
    "\n",
    "# Combine vectorized columns and add the target variable\n",
    "train_vectorized_df = pd.concat(train_vectorized_dfs, axis=1)\n",
    "train_vectorized_df['category'] = train_df['category']\n",
    "\n",
    "test_vectorized_df = pd.concat(test_vectorized_dfs, axis=1)\n",
    "test_vectorized_df['category'] = test_df['category']\n",
    "\n",
    "# Display the final DataFrame\n",
    "# train_vectorized_df.head()"
=======
   "execution_count": 17,
   "id": "eed98cbb-57f5-4237-980d-1020a81ffb70",
   "metadata": {},
   "outputs": [],
   "source": [
    "# Extract the top 500 features per category\n",
    "def get_top_n_tfidf_features(X, y, n=5000):\n",
    "    vectorizer = TfidfVectorizer(stop_words='english', max_features=n)\n",
    "    X_tfidf = vectorizer.fit_transform(X)\n",
    "    feature_names = vectorizer.get_feature_names_out()\n",
    "    \n",
    "    category_features = {}\n",
    "    for category in y.unique():\n",
    "        idx = (y == category)\n",
    "        tfidf_scores = X_tfidf[idx].mean(axis=0).A1\n",
    "        top_indices = tfidf_scores.argsort()[-n:][::-1]\n",
    "        category_features[category] = [feature_names[i] for i in top_indices]\n",
    "\n",
    "    feature_df = pd.DataFrame(dict([(k, pd.Series(v)) for k, v in category_features.items()]))\n",
    "\n",
    "    # Pickling the vectorizer so that it can be used in by the streamlit.py \n",
    "    with open(\"tfidf_vectorizer.pkl\", \"wb\") as f:\n",
    "        pickle.dump(vectorizer, f)\n",
    "    \n",
    "    return feature_df\n"
   ]
  },
  {
   "cell_type": "code",
   "execution_count": 18,
   "id": "9a2261cc-6de2-4d19-bc82-9526fa594495",
   "metadata": {},
   "outputs": [
    {
     "data": {
      "text/html": [
       "<div>\n",
       "<style scoped>\n",
       "    .dataframe tbody tr th:only-of-type {\n",
       "        vertical-align: middle;\n",
       "    }\n",
       "\n",
       "    .dataframe tbody tr th {\n",
       "        vertical-align: top;\n",
       "    }\n",
       "\n",
       "    .dataframe thead th {\n",
       "        text-align: right;\n",
       "    }\n",
       "</style>\n",
       "<table border=\"1\" class=\"dataframe\">\n",
       "  <thead>\n",
       "    <tr style=\"text-align: right;\">\n",
       "      <th></th>\n",
       "      <th>business</th>\n",
       "      <th>sports</th>\n",
       "      <th>entertainment</th>\n",
       "      <th>education</th>\n",
       "      <th>technology</th>\n",
       "    </tr>\n",
       "  </thead>\n",
       "  <tbody>\n",
       "    <tr>\n",
       "      <th>0</th>\n",
       "      <td>cent</td>\n",
       "      <td>australia</td>\n",
       "      <td>film</td>\n",
       "      <td>student</td>\n",
       "      <td>ai</td>\n",
       "    </tr>\n",
       "    <tr>\n",
       "      <th>1</th>\n",
       "      <td>rs</td>\n",
       "      <td>team</td>\n",
       "      <td>latest</td>\n",
       "      <td>exam</td>\n",
       "      <td>apple</td>\n",
       "    </tr>\n",
       "    <tr>\n",
       "      <th>2</th>\n",
       "      <td>said</td>\n",
       "      <td>india</td>\n",
       "      <td>update</td>\n",
       "      <td>2023</td>\n",
       "      <td>new</td>\n",
       "    </tr>\n",
       "    <tr>\n",
       "      <th>3</th>\n",
       "      <td>bank</td>\n",
       "      <td>match</td>\n",
       "      <td>actor</td>\n",
       "      <td>university</td>\n",
       "      <td>user</td>\n",
       "    </tr>\n",
       "    <tr>\n",
       "      <th>4</th>\n",
       "      <td>crore</td>\n",
       "      <td>test</td>\n",
       "      <td>news</td>\n",
       "      <td>2024</td>\n",
       "      <td>google</td>\n",
       "    </tr>\n",
       "  </tbody>\n",
       "</table>\n",
       "</div>"
      ],
      "text/plain": [
       "  business     sports entertainment   education technology\n",
       "0     cent  australia          film     student         ai\n",
       "1       rs       team        latest        exam      apple\n",
       "2     said      india        update        2023        new\n",
       "3     bank      match         actor  university       user\n",
       "4    crore       test          news        2024     google"
      ]
     },
     "execution_count": 18,
     "metadata": {},
     "output_type": "execute_result"
    }
   ],
   "source": [
    "# Applying function on train and test dataset\n",
    "top_features_df = get_top_n_tfidf_features(train_df['headlines'] + ' ' + train_df['content'] + ' ' + train_df['description'], train_df['category'])\n",
    "\n",
    "# top_features_df.to_csv('top_features.csv', index=False)\n",
    "top_features_df.head(5)"
   ]
  },
  {
   "cell_type": "code",
   "execution_count": 19,
   "id": "1ff2e4c8-83a3-43ab-a021-853bba60110e",
   "metadata": {},
   "outputs": [],
   "source": [
    "#Flatten the DataFrame into a list of unique words\n",
    "top_features_list = top_features_df.melt(value_name=\"word\")['word'].dropna().unique().tolist()\n",
    "\n",
    "# Vectorize the dataset using only the selected vocabulary\n",
    "vectorizer = TfidfVectorizer(stop_words='english', vocabulary=top_features_list)\n"
>>>>>>> main
   ]
  },
  {
   "cell_type": "markdown",
   "id": "81f011f9-6f79-46dc-9e8a-3c6a9b8c13e8",
<<<<<<< HEAD
   "metadata": {},
   "source": [
    "<h4>2.3. Train-test split</h4>"
=======
   "metadata": {
    "jp-MarkdownHeadingCollapsed": true
   },
   "source": [
    "<h2>Train-test split</h2>"
>>>>>>> main
   ]
  },
  {
   "cell_type": "markdown",
   "id": "72dbb259-5852-40cb-9bb4-905904aa7a12",
   "metadata": {},
   "source": [
    "Given that the data has already been separated into training and testing data, we will perform a train test split on the training data to create a validation set."
   ]
  },
  {
   "cell_type": "code",
<<<<<<< HEAD
   "execution_count": 40,
=======
   "execution_count": 20,
>>>>>>> main
   "id": "6b444de7-4490-4036-a481-ed3df3e0c068",
   "metadata": {},
   "outputs": [],
   "source": [
<<<<<<< HEAD
    "# Perform a train-validation split (e.g., 80% train, 20% validation)\n",
    "X = train_vectorized_df.drop(columns = ['category'])\n",
    "y = train_vectorized_df['category']\n",
    "\n",
    "X_train, X_val, y_train, y_val  = train_test_split(X, y, test_size=0.2, random_state=42)\n",
    "\n",
    "X_test = test_vectorized_df.drop(columns='category', axis=1)\n",
    "y_test = test_vectorized_df['category']\n"
=======
    "# Perform a train-validation split (80% train, 20% validation)\n",
    "X = vectorizer.fit_transform(train_df['headlines'] + ' ' + train_df['content'] + ' ' + train_df['description'])\n",
    "y = train_df['category']\n",
    "\n",
    "X_train, X_val, y_train, y_val  = train_test_split(X, y, test_size=0.2, random_state=42)\n",
    "\n",
    "X_test = vectorizer.fit_transform(test_df['headlines'] + ' ' + test_df['content'] + ' ' + test_df['description'])\n",
    "y_test = test_df['category']\n"
>>>>>>> main
   ]
  },
  {
   "cell_type": "markdown",
   "id": "629b5ecb-68f5-44a8-9066-b4e1bd5892eb",
<<<<<<< HEAD
   "metadata": {},
   "source": [
    "<h4>2.4. Handling Class Imbalances</h4> "
=======
   "metadata": {
    "jp-MarkdownHeadingCollapsed": true
   },
   "source": [
    "<h2>Handling Class Imbalances</h2> "
>>>>>>> main
   ]
  },
  {
   "cell_type": "markdown",
   "id": "96d240d5-994d-49da-a131-1f3cdb9b5a41",
   "metadata": {},
   "source": [
    "Now, we will check if the categories have an equal spread of observations. If there is a class imbalance this can lead to overfitting and models being able to predict the majority categories better, while poorly predicting the minority categories."
   ]
  },
  {
   "cell_type": "code",
<<<<<<< HEAD
   "execution_count": 43,
=======
   "execution_count": 21,
>>>>>>> main
   "id": "95d3fdba-e97d-42a7-b8e6-084545072b0d",
   "metadata": {},
   "outputs": [
    {
     "data": {
      "text/plain": [
       "category\n",
       "education        1246\n",
       "technology       1010\n",
       "business          875\n",
       "entertainment     782\n",
       "sports            503\n",
       "Name: count, dtype: int64"
      ]
     },
<<<<<<< HEAD
     "execution_count": 43,
=======
     "execution_count": 21,
>>>>>>> main
     "metadata": {},
     "output_type": "execute_result"
    }
   ],
   "source": [
    "#Getting an idea of the counts of each category\n",
    "y_train.value_counts()"
   ]
  },
  {
   "cell_type": "code",
<<<<<<< HEAD
   "execution_count": 44,
=======
   "execution_count": 22,
>>>>>>> main
   "id": "a4ea59f3-9c75-48d8-9b8b-a73b10a3973e",
   "metadata": {},
   "outputs": [
    {
     "data": {
<<<<<<< HEAD
      "image/png": "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",
=======
      "image/png": "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",
>>>>>>> main
      "text/plain": [
       "<Figure size 640x480 with 1 Axes>"
      ]
     },
     "metadata": {},
     "output_type": "display_data"
    }
   ],
   "source": [
    "#Storing the count of each category, which will be used later for visualising them\n",
    "category_counts = y_train.value_counts()\n",
    "\n",
    "#Plotting a bar graph that shows the differing counts of each category\n",
    "category_counts.plot(kind='bar', color='skyblue')\n",
    "plt.title('Category Counts')\n",
    "plt.xlabel('Category')\n",
    "plt.ylabel('Count')\n",
    "plt.xticks(rotation=0)\n",
    "plt.show()\n"
   ]
  },
  {
   "cell_type": "markdown",
   "id": "ecf5f5ec-b150-41d2-af78-ed889c6b6e76",
   "metadata": {},
   "source": [
    "From this bar graph we can clearly see that there is a class imbalance within the training data. If not addressed, this could lead the model to being good at predicting the majority categories (education and technology) and not so much the minorities (sports and entertainment). To ensure that the model is equally effectivce at predicting all the categories, we will implement both upsampling and downsampling on the categories below."
   ]
  },
  {
<<<<<<< HEAD
   "cell_type": "code",
   "execution_count": 46,
   "id": "8b8e69e5-502a-4379-8eb4-333aba81f184",
   "metadata": {},
   "outputs": [
    {
     "data": {
      "text/html": [
       "<div>\n",
       "<style scoped>\n",
       "    .dataframe tbody tr th:only-of-type {\n",
       "        vertical-align: middle;\n",
       "    }\n",
       "\n",
       "    .dataframe tbody tr th {\n",
       "        vertical-align: top;\n",
       "    }\n",
       "\n",
       "    .dataframe thead th {\n",
       "        text-align: right;\n",
       "    }\n",
       "</style>\n",
       "<table border=\"1\" class=\"dataframe\">\n",
       "  <thead>\n",
       "    <tr style=\"text-align: right;\">\n",
       "      <th></th>\n",
       "      <th>headlines_007</th>\n",
       "      <th>headlines_10</th>\n",
       "      <th>headlines_100</th>\n",
       "      <th>headlines_100b</th>\n",
       "      <th>headlines_100th</th>\n",
       "      <th>headlines_100x</th>\n",
       "      <th>headlines_101st</th>\n",
       "      <th>headlines_103</th>\n",
       "      <th>headlines_103rd</th>\n",
       "      <th>headlines_1070</th>\n",
       "      <th>...</th>\n",
       "      <th>content_𝗥𝗘𝗣𝗟𝗔𝗬</th>\n",
       "      <th>content_𝗧𝗵𝗮𝘁</th>\n",
       "      <th>content_𝗩𝗶𝗰𝘁𝗼𝗿𝘆</th>\n",
       "      <th>content_𝗪𝗛𝗔𝗧</th>\n",
       "      <th>content_𝗪𝗮𝘀</th>\n",
       "      <th>content_𝗶𝗻</th>\n",
       "      <th>content_𝙈𝘼𝙉</th>\n",
       "      <th>content_𝙈𝘼𝙏𝘾𝙃</th>\n",
       "      <th>content_𝙊𝙁</th>\n",
       "      <th>content_𝙏𝙃𝙀</th>\n",
       "    </tr>\n",
       "  </thead>\n",
       "  <tbody>\n",
       "    <tr>\n",
       "      <th>0</th>\n",
       "      <td>0.0</td>\n",
       "      <td>0.0</td>\n",
       "      <td>0.0</td>\n",
       "      <td>0.0</td>\n",
       "      <td>0.0</td>\n",
       "      <td>0.0</td>\n",
       "      <td>0.0</td>\n",
       "      <td>0.0</td>\n",
       "      <td>0.0</td>\n",
       "      <td>0.0</td>\n",
       "      <td>...</td>\n",
       "      <td>0.0</td>\n",
       "      <td>0.0</td>\n",
       "      <td>0.0</td>\n",
       "      <td>0.0</td>\n",
       "      <td>0.0</td>\n",
       "      <td>0.0</td>\n",
       "      <td>0.0</td>\n",
       "      <td>0.0</td>\n",
       "      <td>0.0</td>\n",
       "      <td>0.0</td>\n",
       "    </tr>\n",
       "    <tr>\n",
       "      <th>1</th>\n",
       "      <td>0.0</td>\n",
       "      <td>0.0</td>\n",
       "      <td>0.0</td>\n",
       "      <td>0.0</td>\n",
       "      <td>0.0</td>\n",
       "      <td>0.0</td>\n",
       "      <td>0.0</td>\n",
       "      <td>0.0</td>\n",
       "      <td>0.0</td>\n",
       "      <td>0.0</td>\n",
       "      <td>...</td>\n",
       "      <td>0.0</td>\n",
       "      <td>0.0</td>\n",
       "      <td>0.0</td>\n",
       "      <td>0.0</td>\n",
       "      <td>0.0</td>\n",
       "      <td>0.0</td>\n",
       "      <td>0.0</td>\n",
       "      <td>0.0</td>\n",
       "      <td>0.0</td>\n",
       "      <td>0.0</td>\n",
       "    </tr>\n",
       "    <tr>\n",
       "      <th>2</th>\n",
       "      <td>0.0</td>\n",
       "      <td>0.0</td>\n",
       "      <td>0.0</td>\n",
       "      <td>0.0</td>\n",
       "      <td>0.0</td>\n",
       "      <td>0.0</td>\n",
       "      <td>0.0</td>\n",
       "      <td>0.0</td>\n",
       "      <td>0.0</td>\n",
       "      <td>0.0</td>\n",
       "      <td>...</td>\n",
       "      <td>0.0</td>\n",
       "      <td>0.0</td>\n",
       "      <td>0.0</td>\n",
       "      <td>0.0</td>\n",
       "      <td>0.0</td>\n",
       "      <td>0.0</td>\n",
       "      <td>0.0</td>\n",
       "      <td>0.0</td>\n",
       "      <td>0.0</td>\n",
       "      <td>0.0</td>\n",
       "    </tr>\n",
       "    <tr>\n",
       "      <th>3</th>\n",
       "      <td>0.0</td>\n",
       "      <td>0.0</td>\n",
       "      <td>0.0</td>\n",
       "      <td>0.0</td>\n",
       "      <td>0.0</td>\n",
       "      <td>0.0</td>\n",
       "      <td>0.0</td>\n",
       "      <td>0.0</td>\n",
       "      <td>0.0</td>\n",
       "      <td>0.0</td>\n",
       "      <td>...</td>\n",
       "      <td>0.0</td>\n",
       "      <td>0.0</td>\n",
       "      <td>0.0</td>\n",
       "      <td>0.0</td>\n",
       "      <td>0.0</td>\n",
       "      <td>0.0</td>\n",
       "      <td>0.0</td>\n",
       "      <td>0.0</td>\n",
       "      <td>0.0</td>\n",
       "      <td>0.0</td>\n",
       "    </tr>\n",
       "    <tr>\n",
       "      <th>4</th>\n",
       "      <td>0.0</td>\n",
       "      <td>0.0</td>\n",
       "      <td>0.0</td>\n",
       "      <td>0.0</td>\n",
       "      <td>0.0</td>\n",
       "      <td>0.0</td>\n",
       "      <td>0.0</td>\n",
       "      <td>0.0</td>\n",
       "      <td>0.0</td>\n",
       "      <td>0.0</td>\n",
       "      <td>...</td>\n",
       "      <td>0.0</td>\n",
       "      <td>0.0</td>\n",
       "      <td>0.0</td>\n",
       "      <td>0.0</td>\n",
       "      <td>0.0</td>\n",
       "      <td>0.0</td>\n",
       "      <td>0.0</td>\n",
       "      <td>0.0</td>\n",
       "      <td>0.0</td>\n",
       "      <td>0.0</td>\n",
       "    </tr>\n",
       "  </tbody>\n",
       "</table>\n",
       "<p>5 rows × 58065 columns</p>\n",
       "</div>"
      ],
      "text/plain": [
       "   headlines_007  headlines_10  headlines_100  headlines_100b  \\\n",
       "0            0.0           0.0            0.0             0.0   \n",
       "1            0.0           0.0            0.0             0.0   \n",
       "2            0.0           0.0            0.0             0.0   \n",
       "3            0.0           0.0            0.0             0.0   \n",
       "4            0.0           0.0            0.0             0.0   \n",
       "\n",
       "   headlines_100th  headlines_100x  headlines_101st  headlines_103  \\\n",
       "0              0.0             0.0              0.0            0.0   \n",
       "1              0.0             0.0              0.0            0.0   \n",
       "2              0.0             0.0              0.0            0.0   \n",
       "3              0.0             0.0              0.0            0.0   \n",
       "4              0.0             0.0              0.0            0.0   \n",
       "\n",
       "   headlines_103rd  headlines_1070  ...  content_𝗥𝗘𝗣𝗟𝗔𝗬  content_𝗧𝗵𝗮𝘁  \\\n",
       "0              0.0             0.0  ...             0.0           0.0   \n",
       "1              0.0             0.0  ...             0.0           0.0   \n",
       "2              0.0             0.0  ...             0.0           0.0   \n",
       "3              0.0             0.0  ...             0.0           0.0   \n",
       "4              0.0             0.0  ...             0.0           0.0   \n",
       "\n",
       "   content_𝗩𝗶𝗰𝘁𝗼𝗿𝘆  content_𝗪𝗛𝗔𝗧  content_𝗪𝗮𝘀  content_𝗶𝗻  content_𝙈𝘼𝙉  \\\n",
       "0              0.0           0.0          0.0         0.0          0.0   \n",
       "1              0.0           0.0          0.0         0.0          0.0   \n",
       "2              0.0           0.0          0.0         0.0          0.0   \n",
       "3              0.0           0.0          0.0         0.0          0.0   \n",
       "4              0.0           0.0          0.0         0.0          0.0   \n",
       "\n",
       "   content_𝙈𝘼𝙏𝘾𝙃  content_𝙊𝙁  content_𝙏𝙃𝙀  \n",
       "0            0.0         0.0          0.0  \n",
       "1            0.0         0.0          0.0  \n",
       "2            0.0         0.0          0.0  \n",
       "3            0.0         0.0          0.0  \n",
       "4            0.0         0.0          0.0  \n",
       "\n",
       "[5 rows x 58065 columns]"
      ]
     },
     "execution_count": 46,
     "metadata": {},
     "output_type": "execute_result"
    }
   ],
   "source": [
    "X = train_vectorized_df.drop(columns = ['category'])\n",
    "y = train_vectorized_df['category']\n",
    "\n",
    "X.head()"
=======
   "cell_type": "markdown",
   "id": "7b5bf6ee-c5b1-4ee5-a7a0-c850276ee004",
   "metadata": {
    "jp-MarkdownHeadingCollapsed": true
   },
   "source": [
    "<h4>Sampling</h4>"
>>>>>>> main
   ]
  },
  {
   "cell_type": "code",
<<<<<<< HEAD
   "execution_count": 47,
   "id": "dd5afd69",
   "metadata": {},
   "outputs": [],
   "source": [
    "from scipy.sparse import csr_matrix, vstack\n",
    "from sklearn.preprocessing import LabelEncoder\n",
    "\n",
    "# Ensure X is a sparse matrix\n",
    "try:\n",
    "    X_sparse = csr_matrix(X, dtype=np.float32)\n",
    "except MemoryError:\n",
    "    print(\"MemoryError: Unable to create full sparse matrix. Try chunk-wise processing.\")\n",
    "    X_sparse = csr_matrix(X.astype(np.float32))\n",
    "\n",
    "# Convert y to numeric labels\n",
    "label_encoder = LabelEncoder()\n",
    "y_numeric = label_encoder.fit_transform(y)  # Convert labels to numbers\n",
    "\n",
    "# Define the oversampler\n",
    "oversampler = RandomOverSampler(sampling_strategy='auto', random_state=42)\n",
    "\n",
    "# Apply resampling\n",
    "X_resampled, y_resampled = oversampler.fit_resample(X_sparse, y_numeric)\n",
    "\n",
    "# Convert back to sparse format\n",
    "X_resampled = csr_matrix(X_resampled, dtype=np.float32)\n",
    "\n",
    "# Convert y back to original labels\n",
    "y_resampled_labels = label_encoder.inverse_transform(y_resampled)\n",
    "\n",
    "# Get feature names AFTER resampling\n",
    "feature_names = X.columns  # Keep original feature names\n",
    "\n",
    "# Ensure feature name count matches resampled matrix\n",
    "if X_resampled.shape[1] != len(feature_names):\n",
    "    raise ValueError(f\"Mismatch: Resampled features ({X_resampled.shape[1]}) vs Feature Names ({len(feature_names)})\")\n",
    "\n",
    "# Create DataFrame\n",
    "X_resampled_df = pd.DataFrame(X_resampled.toarray(), columns=feature_names)\n",
    "X_resampled_df['category'] = y_resampled_labels  # Store original labels\n",
    "\n",
    "# Final dataset\n",
    "over_sampled_df = X_resampled_df\n",
    "\n"
=======
   "execution_count": 23,
   "id": "3d1ce44a-1460-4d52-bfdc-1de31558bd73",
   "metadata": {},
   "outputs": [],
   "source": [
    "# Combine the training data into a single DataFrame\n",
    "train_data = pd.DataFrame(X_train.toarray(), columns=vectorizer.get_feature_names_out())\n",
    "train_data['category'] = y_train\n",
    "\n",
    "# Separate each class (education, sports, technology, entertainment, business)\n",
    "education_data = train_data[train_data['category'] == 'education']\n",
    "sports_data = train_data[train_data['category'] == 'sports']\n",
    "technology_data = train_data[train_data['category'] == 'technology']\n",
    "entertainment_data = train_data[train_data['category'] == 'entertainment']\n",
    "business_data = train_data[train_data['category'] == 'business']\n"
>>>>>>> main
   ]
  },
  {
   "cell_type": "code",
<<<<<<< HEAD
   "execution_count": 48,
   "id": "1a644b12-44a1-4040-9d8b-8a43be1fc941",
   "metadata": {},
   "outputs": [],
   "source": [
    "from imblearn.under_sampling import RandomUnderSampler\n",
    "\n",
    "target_len = int(len(y_train) / len(y_train.unique()))\n",
    "\n",
    "X = over_sampled_df.drop(columns = ['category'])\n",
    "y = over_sampled_df['category']\n",
    "\n",
    "undersampler = RandomUnderSampler(sampling_strategy={cls: target_len for cls in set(y)})\n",
    "X_resampled, y_resampled = undersampler.fit_resample(X, y)\n",
    "\n",
    "resampled_df = pd.DataFrame(X_resampled, columns=vectorizer.get_feature_names_out())\n",
    "resampled_df['category'] = y_resampled\n",
    "\n",
    "X_train = X_resampled\n",
    "y_train = y_resampled"
=======
   "execution_count": 24,
   "id": "019b3ddc-c316-49e4-86d8-343c9db1fd8a",
   "metadata": {},
   "outputs": [],
   "source": [
    "# Define the list of categories\n",
    "categories = ['education', 'sports', 'technology', 'entertainment', 'business']\n",
    "\n",
    "# Define the target size for each class\n",
    "target_len = int(len(y_train) / len(y_train.unique()))\n",
    "\n",
    "# Iterate through each class to downsample or upsample based on size\n",
    "balanced_data = []\n",
    "\n",
    "for category in categories:\n",
    "    # Separate the data for the current category\n",
    "    category_data = train_data[train_data['category'] == category]\n",
    "    \n",
    "    # If the class size is greater than the target size, downsample\n",
    "    if len(category_data) > target_len:\n",
    "        downsampled_class = resample(category_data, \n",
    "                                     replace=False,  # Sample without replacement\n",
    "                                     n_samples=target_len,  # Reduce to target size\n",
    "                                     random_state=42)\n",
    "        balanced_data.append(downsampled_class)\n",
    "    \n",
    "    # If the class size is less than the target size, upsample\n",
    "    elif len(category_data) < target_len:\n",
    "        upsampled_class = resample(category_data, \n",
    "                                   replace=True,  # Sample with replacement\n",
    "                                   n_samples=target_len,  # Increase to target size\n",
    "                                   random_state=42)\n",
    "        balanced_data.append(upsampled_class)\n",
    "    \n",
    "    # If the class size is exactly the target size, just append it as is\n",
    "    else:\n",
    "        balanced_data.append(category_data)\n",
    "\n",
    "# Combine all balanced class data\n",
    "final_balanced_data = pd.concat(balanced_data)\n"
>>>>>>> main
   ]
  },
  {
   "cell_type": "code",
<<<<<<< HEAD
   "execution_count": 49,
=======
   "execution_count": 25,
   "id": "4b8ba716-3229-4499-9f90-ef0b256e9b03",
   "metadata": {},
   "outputs": [],
   "source": [
    "X_train = final_balanced_data.drop(columns = ['category'])\n",
    "y_train = final_balanced_data['category']"
   ]
  },
  {
   "cell_type": "code",
   "execution_count": 26,
>>>>>>> main
   "id": "5686e1ea-6639-40e0-b636-26b1e532e287",
   "metadata": {},
   "outputs": [
    {
     "data": {
      "text/plain": [
       "category\n",
<<<<<<< HEAD
       "business         883\n",
       "education        883\n",
       "entertainment    883\n",
       "sports           883\n",
       "technology       883\n",
       "Name: count, dtype: int64"
      ]
     },
     "execution_count": 49,
=======
       "education        883\n",
       "sports           883\n",
       "technology       883\n",
       "entertainment    883\n",
       "business         883\n",
       "Name: count, dtype: int64"
      ]
     },
     "execution_count": 26,
>>>>>>> main
     "metadata": {},
     "output_type": "execute_result"
    }
   ],
   "source": [
    "y_train.value_counts()"
   ]
  },
  {
   "cell_type": "code",
<<<<<<< HEAD
   "execution_count": 50,
=======
   "execution_count": 27,
>>>>>>> main
   "id": "792b2a83-63f1-4026-9fc9-1150edc24614",
   "metadata": {},
   "outputs": [
    {
     "data": {
<<<<<<< HEAD
      "image/png": "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",
=======
      "image/png": "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",
>>>>>>> main
      "text/plain": [
       "<Figure size 640x480 with 1 Axes>"
      ]
     },
     "metadata": {},
     "output_type": "display_data"
    }
   ],
   "source": [
    "category_counts = y_train.value_counts()\n",
    "\n",
    "category_counts.plot(kind='bar', color='skyblue')\n",
    "plt.title('Category Counts')\n",
    "plt.xlabel('Category')\n",
    "plt.ylabel('Count')\n",
    "plt.xticks(rotation=0)\n",
    "plt.show()\n"
   ]
  },
  {
   "cell_type": "markdown",
   "id": "d4c25792-19d6-4b50-aabd-0960df077e57",
   "metadata": {},
   "source": [
    "As we can see, all the categories have been resampled to where they have the same number of observations."
   ]
  },
  {
   "cell_type": "markdown",
   "id": "72206412-afd1-48d6-ac21-bd707c766b0e",
   "metadata": {},
   "source": [
<<<<<<< HEAD
    "<h3>Models</h3>"
=======
    "<h1>Models</h1>"
>>>>>>> main
   ]
  },
  {
   "cell_type": "markdown",
   "id": "1c1198df-3aa6-4e5b-b551-05aa4181de54",
<<<<<<< HEAD
   "metadata": {},
   "source": [
    "<h4>Neural Network</h4>"
=======
   "metadata": {
    "jp-MarkdownHeadingCollapsed": true
   },
   "source": [
    "<h2>Neural Network</h2>"
>>>>>>> main
   ]
  },
  {
   "cell_type": "code",
<<<<<<< HEAD
   "execution_count": 54,
   "id": "0c35f720-343c-42a4-85b2-88c42181e4f0",
   "metadata": {},
   "outputs": [],
   "source": [
    "#Creating variablex to be used specifically for training the Neural Network\n",
    "X_train_nn = X_train\n",
    "y_train_nn = y_train\n",
    "\n",
    "X_test_nn = X_val\n",
    "y_test_nn = y_val"
=======
   "execution_count": 348,
   "id": "553319d5-6ec3-4644-bb1e-f9703cb2e1f0",
   "metadata": {},
   "outputs": [],
   "source": [
    "# Convert sparse matrix to dense numpy array\n",
    "X_train = X_train.toarray() if isinstance(X_train, csr_matrix) else X_train\n",
    "X_val = X_val.toarray() if isinstance(X_val, csr_matrix) else X_val\n",
    "X_test = X_test.toarray() if isinstance(X_test, csr_matrix) else X_test\n",
    "\n",
    "# # Now slice the dense arrays to keep only the first 499 columns\n",
    "X_val = X_val[:, :4999]\n",
    "X_test = X_test[:, :4999]\n"
>>>>>>> main
   ]
  },
  {
   "cell_type": "code",
<<<<<<< HEAD
   "execution_count": 55,
=======
   "execution_count": 350,
>>>>>>> main
   "id": "4cb1eb25-3274-4215-a14f-85f457466396",
   "metadata": {},
   "outputs": [],
   "source": [
<<<<<<< HEAD
    "from sklearn.preprocessing import LabelEncoder\n",
    "from tensorflow.keras.utils import to_categorical\n",
    "\n",
    "# Initialize the label encoder\n",
    "label_encoder = LabelEncoder()\n",
    "\n",
    "# Fit the encoder on the training labels and transform them\n",
    "y_train_nn = label_encoder.fit_transform(y_train_nn)\n",
    "y_test_nn = label_encoder.transform(y_test_nn)\n",
    "\n",
    "# Convert to one-hot encoding\n",
    "y_train_nn = to_categorical(y_train_nn)\n",
    "y_test_nn = to_categorical(y_test_nn)"
=======
    "# Initialise the label encoder\n",
    "label_encoder = LabelEncoder()\n",
    "\n",
    "# Fit the encoder on the training labels and transform them\n",
    "y_train_nn = label_encoder.fit_transform(y_train)\n",
    "y_val_nn = label_encoder.transform(y_val)\n",
    "y_test_nn = label_encoder.transform(y_test)\n",
    "\n",
    "# Convert to one-hot encoding\n",
    "y_train_nn = to_categorical(y_train_nn)\n",
    "y_val_nn = to_categorical(y_val_nn)\n",
    "y_test_nn = to_categorical(y_test_nn)\n"
>>>>>>> main
   ]
  },
  {
   "cell_type": "code",
<<<<<<< HEAD
   "execution_count": 56,
=======
   "execution_count": 352,
   "id": "8c9b4251-ab99-439f-b076-51276810c9c3",
   "metadata": {},
   "outputs": [],
   "source": [
    "# Hyperparameters\n",
    "input_dims = X_train.shape[1]\n",
    "batch_size = 32\n",
    "epochs = 10\n",
    "num_classes = len(y_train.unique())\n"
   ]
  },
  {
   "cell_type": "code",
   "execution_count": 354,
>>>>>>> main
   "id": "c193c29c-cfa8-484b-b435-4488804c9675",
   "metadata": {},
   "outputs": [],
   "source": [
<<<<<<< HEAD
    "num_classes = len(y_train.unique())\n",
    "\n",
    "model_nn = Sequential([\n",
    "    Input(shape=(X_train.shape[1],)),  # Input layer matching feature size\n",
    "    Dense(128, activation='relu'),  # First hidden layer\n",
    "    Dropout(0.3),  # Regularization\n",
    "    Dense(64, activation='relu'),  # Second hidden layer\n",
=======
    "#Creating the Neural network\n",
    "model_nn = Sequential([\n",
    "    Dense(4999, activation='relu', input_dim=input_dims),  # Input Layer\n",
    "    Dropout(0.3),  # Regularization\n",
    "    Dense(4500, activation='relu'),  # First hidden layer\n",
    "    Dropout(0.2),  # Regularization\n",
    "    Dense(3500, activation='relu'),  # Second hidden layer\n",
    "    Dropout(0.2),  # Regularization\n",
    "    Dense(3000, activation='relu'),  # Third hidden layer\n",
    "    Dropout(0.2),  # Regularization\n",
    "    Dense(2000, activation='relu'),  # Fourth hidden layer\n",
    "    Dropout(0.2),  # Regularization\n",
    "    Dense(1000, activation='relu'),  # Fifth hidden layer\n",
    "    Dropout(0.2),  # Regularization\n",
    "    Dense(500, activation='relu'),  # Sixth hidden layer\n",
    "    Dropout(0.2),  # Regularization\n",
    "    Dense(100, activation='relu'),  # Seventh hidden layer\n",
>>>>>>> main
    "    Dropout(0.2),  # Regularization\n",
    "    Dense(num_classes, activation='softmax')  # Output layer for classification\n",
    "])"
   ]
  },
  {
<<<<<<< HEAD
   "cell_type": "code",
   "execution_count": 57,
   "id": "55fae63a-fda5-4d1e-99bc-3c34258725ab",
   "metadata": {},
   "outputs": [],
   "source": [
    "model_nn.compile(optimizer='adam', loss='categorical_crossentropy', metrics=['accuracy'])"
=======
   "cell_type": "markdown",
   "id": "eb9a6a80-2f46-4527-b80d-a4fae545ab08",
   "metadata": {},
   "source": [
    "<h4>Training</h4>"
>>>>>>> main
   ]
  },
  {
   "cell_type": "code",
<<<<<<< HEAD
   "execution_count": 58,
=======
   "execution_count": 356,
   "id": "55fae63a-fda5-4d1e-99bc-3c34258725ab",
   "metadata": {},
   "outputs": [],
   "source": [
    "# Compile the model\n",
    "model_nn.compile(optimizer='adam', loss='categorical_crossentropy', metrics=['accuracy'])\n"
   ]
  },
  {
   "cell_type": "code",
   "execution_count": 358,
>>>>>>> main
   "id": "883799fc-f9c2-4d33-9119-15c2af05e314",
   "metadata": {},
   "outputs": [
    {
     "name": "stdout",
     "output_type": "stream",
     "text": [
      "Epoch 1/10\n",
<<<<<<< HEAD
      "\u001b[1m69/69\u001b[0m \u001b[32m━━━━━━━━━━━━━━━━━━━━\u001b[0m\u001b[37m\u001b[0m \u001b[1m14s\u001b[0m 160ms/step - accuracy: 0.7229 - loss: 1.2585 - val_accuracy: 0.9918 - val_loss: 0.0900\n",
      "Epoch 2/10\n",
      "\u001b[1m69/69\u001b[0m \u001b[32m━━━━━━━━━━━━━━━━━━━━\u001b[0m\u001b[37m\u001b[0m \u001b[1m6s\u001b[0m 84ms/step - accuracy: 0.9962 - loss: 0.0517 - val_accuracy: 0.9955 - val_loss: 0.0210\n",
      "Epoch 3/10\n",
      "\u001b[1m69/69\u001b[0m \u001b[32m━━━━━━━━━━━━━━━━━━━━\u001b[0m\u001b[37m\u001b[0m \u001b[1m8s\u001b[0m 121ms/step - accuracy: 1.0000 - loss: 0.0083 - val_accuracy: 0.9964 - val_loss: 0.0153\n",
      "Epoch 4/10\n",
      "\u001b[1m69/69\u001b[0m \u001b[32m━━━━━━━━━━━━━━━━━━━━\u001b[0m\u001b[37m\u001b[0m \u001b[1m7s\u001b[0m 97ms/step - accuracy: 1.0000 - loss: 0.0037 - val_accuracy: 0.9964 - val_loss: 0.0137\n",
      "Epoch 5/10\n",
      "\u001b[1m69/69\u001b[0m \u001b[32m━━━━━━━━━━━━━━━━━━━━\u001b[0m\u001b[37m\u001b[0m \u001b[1m8s\u001b[0m 113ms/step - accuracy: 1.0000 - loss: 0.0024 - val_accuracy: 0.9964 - val_loss: 0.0126\n",
      "Epoch 6/10\n",
      "\u001b[1m69/69\u001b[0m \u001b[32m━━━━━━━━━━━━━━━━━━━━\u001b[0m\u001b[37m\u001b[0m \u001b[1m6s\u001b[0m 90ms/step - accuracy: 1.0000 - loss: 0.0015 - val_accuracy: 0.9964 - val_loss: 0.0129\n",
      "Epoch 7/10\n",
      "\u001b[1m69/69\u001b[0m \u001b[32m━━━━━━━━━━━━━━━━━━━━\u001b[0m\u001b[37m\u001b[0m \u001b[1m7s\u001b[0m 104ms/step - accuracy: 1.0000 - loss: 0.0011 - val_accuracy: 0.9964 - val_loss: 0.0119\n",
      "Epoch 8/10\n",
      "\u001b[1m69/69\u001b[0m \u001b[32m━━━━━━━━━━━━━━━━━━━━\u001b[0m\u001b[37m\u001b[0m \u001b[1m7s\u001b[0m 92ms/step - accuracy: 1.0000 - loss: 8.5930e-04 - val_accuracy: 0.9964 - val_loss: 0.0115\n",
      "Epoch 9/10\n",
      "\u001b[1m69/69\u001b[0m \u001b[32m━━━━━━━━━━━━━━━━━━━━\u001b[0m\u001b[37m\u001b[0m \u001b[1m6s\u001b[0m 82ms/step - accuracy: 1.0000 - loss: 6.2740e-04 - val_accuracy: 0.9964 - val_loss: 0.0114\n",
      "Epoch 10/10\n",
      "\u001b[1m69/69\u001b[0m \u001b[32m━━━━━━━━━━━━━━━━━━━━\u001b[0m\u001b[37m\u001b[0m \u001b[1m7s\u001b[0m 106ms/step - accuracy: 1.0000 - loss: 5.5465e-04 - val_accuracy: 0.9964 - val_loss: 0.0110\n"
     ]
    },
    {
     "data": {
      "text/plain": [
       "<keras.src.callbacks.history.History at 0x1b3c79220f0>"
      ]
     },
     "execution_count": 58,
     "metadata": {},
     "output_type": "execute_result"
    }
   ],
   "source": [
    "model_nn.fit(X_train_nn, y_train_nn, validation_data=(X_test_nn, y_test_nn), epochs=10, batch_size=64)"
=======
      "\u001b[1m138/138\u001b[0m \u001b[32m━━━━━━━━━━━━━━━━━━━━\u001b[0m\u001b[37m\u001b[0m \u001b[1m186s\u001b[0m 1s/step - accuracy: 0.2531 - loss: 1.5225 - val_accuracy: 0.1223 - val_loss: 1.8538\n",
      "Epoch 2/10\n",
      "\u001b[1m138/138\u001b[0m \u001b[32m━━━━━━━━━━━━━━━━━━━━\u001b[0m\u001b[37m\u001b[0m \u001b[1m185s\u001b[0m 1s/step - accuracy: 0.4656 - loss: 1.1265 - val_accuracy: 0.2047 - val_loss: 2.1721\n",
      "Epoch 3/10\n",
      "\u001b[1m138/138\u001b[0m \u001b[32m━━━━━━━━━━━━━━━━━━━━\u001b[0m\u001b[37m\u001b[0m \u001b[1m226s\u001b[0m 1s/step - accuracy: 0.6466 - loss: 0.8148 - val_accuracy: 0.2219 - val_loss: 3.2227\n",
      "Epoch 4/10\n",
      "\u001b[1m138/138\u001b[0m \u001b[32m━━━━━━━━━━━━━━━━━━━━\u001b[0m\u001b[37m\u001b[0m \u001b[1m201s\u001b[0m 1s/step - accuracy: 0.8091 - loss: 0.5214 - val_accuracy: 0.2192 - val_loss: 2.8839\n",
      "Epoch 5/10\n",
      "\u001b[1m138/138\u001b[0m \u001b[32m━━━━━━━━━━━━━━━━━━━━\u001b[0m\u001b[37m\u001b[0m \u001b[1m206s\u001b[0m 1s/step - accuracy: 0.8904 - loss: 0.3574 - val_accuracy: 0.2147 - val_loss: 4.2200\n",
      "Epoch 6/10\n",
      "\u001b[1m138/138\u001b[0m \u001b[32m━━━━━━━━━━━━━━━━━━━━\u001b[0m\u001b[37m\u001b[0m \u001b[1m183s\u001b[0m 1s/step - accuracy: 0.9322 - loss: 0.2248 - val_accuracy: 0.2446 - val_loss: 4.0189\n",
      "Epoch 7/10\n",
      "\u001b[1m138/138\u001b[0m \u001b[32m━━━━━━━━━━━━━━━━━━━━\u001b[0m\u001b[37m\u001b[0m \u001b[1m179s\u001b[0m 1s/step - accuracy: 0.9487 - loss: 0.1716 - val_accuracy: 0.2237 - val_loss: 8.7559\n",
      "Epoch 8/10\n",
      "\u001b[1m138/138\u001b[0m \u001b[32m━━━━━━━━━━━━━━━━━━━━\u001b[0m\u001b[37m\u001b[0m \u001b[1m181s\u001b[0m 1s/step - accuracy: 0.9599 - loss: 0.1725 - val_accuracy: 0.2908 - val_loss: 9.6344\n",
      "Epoch 9/10\n",
      "\u001b[1m138/138\u001b[0m \u001b[32m━━━━━━━━━━━━━━━━━━━━\u001b[0m\u001b[37m\u001b[0m \u001b[1m178s\u001b[0m 1s/step - accuracy: 0.9718 - loss: 0.1696 - val_accuracy: 0.2147 - val_loss: 4.7663\n",
      "Epoch 10/10\n",
      "\u001b[1m138/138\u001b[0m \u001b[32m━━━━━━━━━━━━━━━━━━━━\u001b[0m\u001b[37m\u001b[0m \u001b[1m201s\u001b[0m 1s/step - accuracy: 0.9661 - loss: 0.1863 - val_accuracy: 0.2536 - val_loss: 5.6720\n"
     ]
    }
   ],
   "source": [
    "history = model_nn.fit(X_train, y_train_nn, validation_data=(X_val, y_val_nn), epochs=epochs, batch_size=batch_size)"
>>>>>>> main
   ]
  },
  {
   "cell_type": "markdown",
   "id": "a94dba57-a370-4c4a-8ea8-1bb328336887",
   "metadata": {},
   "source": [
<<<<<<< HEAD
    "<h4>Model Evaluation</h4>"
=======
    "<h4>Evaluation</h4>"
>>>>>>> main
   ]
  },
  {
   "cell_type": "code",
<<<<<<< HEAD
   "execution_count": 60,
=======
   "execution_count": 360,
>>>>>>> main
   "id": "730ff7fb-e262-4036-9866-b5ec53d2d602",
   "metadata": {},
   "outputs": [
    {
     "name": "stdout",
     "output_type": "stream",
     "text": [
<<<<<<< HEAD
      "\u001b[1m35/35\u001b[0m \u001b[32m━━━━━━━━━━━━━━━━━━━━\u001b[0m\u001b[37m\u001b[0m \u001b[1m1s\u001b[0m 29ms/step - accuracy: 0.9987 - loss: 0.0081\n",
      "Test Loss: 0.011014483869075775\n",
      "Test Accuracy: 0.9963768124580383\n"
=======
      "\u001b[1m63/63\u001b[0m \u001b[32m━━━━━━━━━━━━━━━━━━━━\u001b[0m\u001b[37m\u001b[0m \u001b[1m11s\u001b[0m 172ms/step - accuracy: 0.2108 - loss: 6.0261\n",
      "Test Loss: 6.086636543273926\n",
      "Test Accuracy: 0.20749999582767487\n"
>>>>>>> main
     ]
    }
   ],
   "source": [
<<<<<<< HEAD
    "test_loss, test_accuracy = model_nn.evaluate(X_test_nn, y_test_nn, batch_size=32)\n",
    "\n",
=======
    "# Now evaluate the model (do not overwrite model_nn with history)\n",
    "test_loss, test_accuracy = model_nn.evaluate(X_test, y_test_nn, batch_size=32)\n",
    "\n",
    "# Print results\n",
>>>>>>> main
    "print(f\"Test Loss: {test_loss}\")\n",
    "print(f\"Test Accuracy: {test_accuracy}\")"
   ]
  },
  {
   "cell_type": "markdown",
   "id": "4023d323-6fc7-400d-89d5-8ae7b246d802",
   "metadata": {},
   "source": [
    "<h4>Model Tuning</h4>"
   ]
  },
  {
   "cell_type": "code",
<<<<<<< HEAD
   "execution_count": 62,
=======
   "execution_count": 362,
>>>>>>> main
   "id": "d2060515-c026-41bd-ad1e-b522c84afb2b",
   "metadata": {},
   "outputs": [],
   "source": [
    "def create_nn_model(optimizer='adam', dropout_rate=0.2, num_units=64):\n",
    "    model = Sequential([\n",
<<<<<<< HEAD
    "        Dense(num_units, activation='relu', input_dim=X_train.shape[1]),\n",
    "        Dropout(dropout_rate),\n",
    "        Dense(64, activation='relu'),\n",
    "        Dropout(dropout_rate),\n",
    "        Dense(num_classes, activation='softmax')\n",
=======
    "        Dense(4999, activation='relu', input_dim=input_dims),\n",
    "        Dropout(0.3),\n",
    "        Dense(4500, activation='relu'),\n",
    "        Dropout(0.2), \n",
    "        Dense(3500, activation='relu'),\n",
    "        Dropout(0.2),\n",
    "        Dense(3000, activation='relu'),\n",
    "        Dropout(0.2),\n",
    "        Dense(2000, activation='relu'),\n",
    "        Dropout(0.2),\n",
    "        Dense(1000, activation='relu'), \n",
    "        Dropout(0.2),\n",
    "        Dense(500, activation='relu'),\n",
    "        Dropout(0.2), \n",
    "        Dense(100, activation='relu'),\n",
    "        Dropout(0.2),\n",
    "        Dense(num_classes, activation='softmax') \n",
>>>>>>> main
    "    ])\n",
    "    # Compile model\n",
    "    model.compile(optimizer=optimizer, loss='categorical_crossentropy', metrics=['accuracy'])\n",
    "    \n",
<<<<<<< HEAD
    "    return model"
=======
    "    return model\n",
    "    "
>>>>>>> main
   ]
  },
  {
   "cell_type": "code",
<<<<<<< HEAD
   "execution_count": 63,
=======
   "execution_count": 223,
>>>>>>> main
   "id": "7c4806ed-5e7b-4214-968f-8eb3b67e3100",
   "metadata": {},
   "outputs": [],
   "source": [
<<<<<<< HEAD
    "model_nn_tune = KerasClassifier(build_fn=create_nn_model, epochs=10, batch_size=32, verbose=0, dropout_rate=0.2)"
=======
    "model_nn_tune = KerasClassifier(build_fn=create_nn_model, epochs=10, batch_size=32, verbose=0, dropout_rate=0.2)\n"
>>>>>>> main
   ]
  },
  {
   "cell_type": "code",
<<<<<<< HEAD
   "execution_count": 64,
=======
   "execution_count": 225,
>>>>>>> main
   "id": "892bb054-7234-468f-9267-851aa1778414",
   "metadata": {},
   "outputs": [],
   "source": [
    "param_grid = {\n",
    "    'optimizer': ['adam', 'rmsprop'],\n",
    "    'dropout_rate': [0.2, 0.3, 0.5],\n",
<<<<<<< HEAD
    "    'batch_size': [32, 64]\n",
=======
    "    'batch_size': [32, 64],\n",
    "    'epochs': [10, 20, 30],\n",
    "    'loss': ['categorical_crossentropy', 'binary_crossentropy']\n",
>>>>>>> main
    "}\n"
   ]
  },
  {
   "cell_type": "markdown",
   "id": "21cb7b57-9811-4216-aa52-8098c19b18e3",
   "metadata": {},
   "source": [
    "Running the following code cell will take a while as it is going a while as it is performing a significant number of tests in an attenmpt to to find the best combination of parameters that will yield the best performing neural network "
   ]
  },
  {
   "cell_type": "code",
<<<<<<< HEAD
   "execution_count": 91,
=======
   "execution_count": null,
>>>>>>> main
   "id": "45da93f8-5571-46a6-b285-1ceb2398bda6",
   "metadata": {},
   "outputs": [],
   "source": [
    "#Using GridSearchCV to get the best hyperparameters for the NN model\n",
    "grid_search = GridSearchCV(estimator=model_nn_tune, param_grid=param_grid, n_jobs=-1, cv=5)\n",
<<<<<<< HEAD
    "grid_search.fit(X_train_nn, y_train_nn)\n",
=======
    "grid_search.fit(X_train, y_train_nn)\n",
>>>>>>> main
    "\n",
    "# Get the best hyperparameters\n",
    "print(\"Best parameters found: \", grid_search.best_params_)"
   ]
  },
  {
   "cell_type": "markdown",
   "id": "8eee02c0-2456-4a4a-a735-ca672d49a745",
<<<<<<< HEAD
   "metadata": {
    "jp-MarkdownHeadingCollapsed": true
   },
=======
   "metadata": {},
>>>>>>> main
   "source": [
    "<h4>Testing the 'best' model</h4>"
   ]
  },
  {
   "cell_type": "code",
<<<<<<< HEAD
   "execution_count": null,
=======
   "execution_count": 364,
>>>>>>> main
   "id": "4ed88693-6d13-4b5a-be3a-b0792e122a49",
   "metadata": {},
   "outputs": [],
   "source": [
<<<<<<< HEAD
    "num_classes = len(y_train.unique())\n",
    "\n",
    "model_best = Sequential([\n",
    "    Input(shape=(X_train.shape[1],)),  \n",
    "    Dense(128, activation='relu'),\n",
    "    Dropout(0.5),\n",
    "    Dense(64, activation='relu'),\n",
    "    Dropout(0.5), \n",
=======
    "model_best = Sequential([\n",
    "    Input(shape=(X_train.shape[1],)),  \n",
    "    Dense(4999, activation='relu'),\n",
    "    Dropout(0.3),\n",
    "    Dense(4500, activation='relu'),\n",
    "    Dropout(0.2), \n",
    "    Dense(3500, activation='relu'),\n",
    "    Dropout(0.2),\n",
    "    Dense(3000, activation='relu'),\n",
    "    Dropout(0.2),\n",
    "    Dense(2000, activation='relu'),\n",
    "    Dropout(0.2),\n",
    "    Dense(1000, activation='relu'), \n",
    "    Dropout(0.2),\n",
    "    Dense(500, activation='relu'),\n",
    "    Dropout(0.2), \n",
    "    Dense(100, activation='relu'),\n",
    "    Dropout(0.2),\n",
>>>>>>> main
    "    Dense(num_classes, activation='softmax') \n",
    "])"
   ]
  },
  {
   "cell_type": "code",
<<<<<<< HEAD
   "execution_count": null,
=======
   "execution_count": 366,
>>>>>>> main
   "id": "c71d04c0-5cfc-44dc-ad4f-b6331ef95d81",
   "metadata": {},
   "outputs": [],
   "source": [
<<<<<<< HEAD
    "model_best.compile(optimizer='rmsprop', loss='categorical_crossentropy', metrics=['accuracy'])"
=======
    "model_best.compile(optimizer='adam', loss='categorical_crossentropy', metrics=['accuracy'])"
>>>>>>> main
   ]
  },
  {
   "cell_type": "code",
<<<<<<< HEAD
   "execution_count": null,
   "id": "6e63e579-099c-4c43-82ed-6752c7b5e6d6",
   "metadata": {},
   "outputs": [],
   "source": [
    "model_best.fit(X_train, y_train, validation_data=(X_test_nn, y_test_nn), epochs=10, batch_size=32)"
=======
   "execution_count": 372,
   "id": "836a237f-8d52-4c13-860c-181cbcd67acd",
   "metadata": {},
   "outputs": [
    {
     "name": "stdout",
     "output_type": "stream",
     "text": [
      "Epoch 1/10\n",
      "\u001b[1m138/138\u001b[0m \u001b[32m━━━━━━━━━━━━━━━━━━━━\u001b[0m\u001b[37m\u001b[0m \u001b[1m191s\u001b[0m 1s/step - accuracy: 0.2166 - loss: 1.5929 - val_accuracy: 0.2092 - val_loss: 1.6504\n",
      "Epoch 2/10\n",
      "\u001b[1m138/138\u001b[0m \u001b[32m━━━━━━━━━━━━━━━━━━━━\u001b[0m\u001b[37m\u001b[0m \u001b[1m176s\u001b[0m 1s/step - accuracy: 0.4002 - loss: 1.2439 - val_accuracy: 0.1658 - val_loss: 2.1035\n",
      "Epoch 3/10\n",
      "\u001b[1m138/138\u001b[0m \u001b[32m━━━━━━━━━━━━━━━━━━━━\u001b[0m\u001b[37m\u001b[0m \u001b[1m181s\u001b[0m 1s/step - accuracy: 0.5729 - loss: 0.8987 - val_accuracy: 0.2047 - val_loss: 2.8400\n",
      "Epoch 4/10\n",
      "\u001b[1m138/138\u001b[0m \u001b[32m━━━━━━━━━━━━━━━━━━━━\u001b[0m\u001b[37m\u001b[0m \u001b[1m179s\u001b[0m 1s/step - accuracy: 0.7011 - loss: 0.6231 - val_accuracy: 0.2301 - val_loss: 2.9551\n",
      "Epoch 5/10\n",
      "\u001b[1m138/138\u001b[0m \u001b[32m━━━━━━━━━━━━━━━━━━━━\u001b[0m\u001b[37m\u001b[0m \u001b[1m179s\u001b[0m 1s/step - accuracy: 0.8184 - loss: 0.4535 - val_accuracy: 0.2292 - val_loss: 3.1324\n",
      "Epoch 6/10\n",
      "\u001b[1m138/138\u001b[0m \u001b[32m━━━━━━━━━━━━━━━━━━━━\u001b[0m\u001b[37m\u001b[0m \u001b[1m200s\u001b[0m 1s/step - accuracy: 0.9078 - loss: 0.3145 - val_accuracy: 0.1911 - val_loss: 3.1580\n",
      "Epoch 7/10\n",
      "\u001b[1m138/138\u001b[0m \u001b[32m━━━━━━━━━━━━━━━━━━━━\u001b[0m\u001b[37m\u001b[0m \u001b[1m177s\u001b[0m 1s/step - accuracy: 0.9561 - loss: 0.2375 - val_accuracy: 0.2147 - val_loss: 4.5481\n",
      "Epoch 8/10\n",
      "\u001b[1m138/138\u001b[0m \u001b[32m━━━━━━━━━━━━━━━━━━━━\u001b[0m\u001b[37m\u001b[0m \u001b[1m171s\u001b[0m 1s/step - accuracy: 0.9620 - loss: 0.1669 - val_accuracy: 0.1993 - val_loss: 8.2252\n",
      "Epoch 9/10\n",
      "\u001b[1m138/138\u001b[0m \u001b[32m━━━━━━━━━━━━━━━━━━━━\u001b[0m\u001b[37m\u001b[0m \u001b[1m184s\u001b[0m 1s/step - accuracy: 0.9709 - loss: 0.1336 - val_accuracy: 0.1730 - val_loss: 5.0649\n",
      "Epoch 10/10\n",
      "\u001b[1m138/138\u001b[0m \u001b[32m━━━━━━━━━━━━━━━━━━━━\u001b[0m\u001b[37m\u001b[0m \u001b[1m180s\u001b[0m 1s/step - accuracy: 0.9808 - loss: 0.0812 - val_accuracy: 0.2274 - val_loss: 9.5875\n"
     ]
    },
    {
     "data": {
      "text/plain": [
       "<keras.src.callbacks.history.History at 0x223aeb1e480>"
      ]
     },
     "execution_count": 372,
     "metadata": {},
     "output_type": "execute_result"
    }
   ],
   "source": [
    "model_best.fit(X_train, y_train_nn, validation_data=(X_val, y_val_nn), epochs=epochs, batch_size=batch_size)"
>>>>>>> main
   ]
  },
  {
   "cell_type": "code",
<<<<<<< HEAD
   "execution_count": null,
   "id": "4bbdc9ce-94da-48a8-90bc-7dccb88e5c31",
   "metadata": {},
   "outputs": [],
   "source": [
    "test_loss, test_accuracy = model_best.evaluate(X_test_nn, y_test_nn, batch_size=32)\n",
=======
   "execution_count": 373,
   "id": "4bbdc9ce-94da-48a8-90bc-7dccb88e5c31",
   "metadata": {},
   "outputs": [
    {
     "name": "stdout",
     "output_type": "stream",
     "text": [
      "\u001b[1m63/63\u001b[0m \u001b[32m━━━━━━━━━━━━━━━━━━━━\u001b[0m\u001b[37m\u001b[0m \u001b[1m10s\u001b[0m 164ms/step - accuracy: 0.2101 - loss: 8.9889\n",
      "Test Loss: 8.88204574584961\n",
      "Test Accuracy: 0.20800000429153442\n"
     ]
    }
   ],
   "source": [
    "test_loss, test_accuracy = model_best.evaluate(X_test, y_test_nn, batch_size=32)\n",
>>>>>>> main
    "\n",
    "print(f\"Test Loss: {test_loss}\")\n",
    "print(f\"Test Accuracy: {test_accuracy}\")"
   ]
  },
  {
   "cell_type": "markdown",
<<<<<<< HEAD
   "id": "77b443f0-8fa8-4189-b7df-8985ab71f507",
   "metadata": {},
   "source": [
    "<h3>Random Forest</h3>"
   ]
  },
  {
   "cell_type": "code",
   "execution_count": null,
   "id": "32d19cc8-0c0c-4eda-b592-07f37a43d139",
   "metadata": {},
   "outputs": [],
   "source": [
    "from sklearn.feature_extraction.text import TfidfVectorizer\n",
    "from sklearn.model_selection import train_test_split\n",
    "from sklearn.ensemble import RandomForestClassifier\n",
    "from sklearn.metrics import classification_report, accuracy_score\n",
    "\n",
    "X_train_rf = X_train\n",
    "y_train_rf = y_train\n",
    "\n",
    "X_test_rf = X_val\n",
    "y_test_rf = y_val\n",
    "\n",
    "# Train and evaluate the Random Forest model\n",
    "rf_model = RandomForestClassifier(n_estimators=100, random_state=42)\n",
    "rf_model.fit(X_train_rf, y_train_rf)\n",
    "\n",
    "y_pred = rf_model.predict(X_test_rf)\n",
    "\n",
    "print(\"Accuracy Score:\", accuracy_score(y_test_nn, y_pred))\n",
    "print(\"\\nClassification Report:\\n\", classification_report(y_test_rf, y_pred))\n"
   ]
  },
  {
   "cell_type": "code",
   "execution_count": null,
   "id": "271f4f3b-23ca-4e9f-90b0-4f55eb341136",
   "metadata": {},
   "outputs": [],
   "source": [
    "from sklearn.model_selection import GridSearchCV\n",
    "\n",
    "# Define the parameter grid\n",
    "param_grid = {\n",
    "    'n_estimators': [50, 100, 200],  # Number of trees\n",
    "    'max_depth': [None, 10, 20, 30],  # Maximum depth of trees\n",
    "    'min_samples_split': [2, 5, 10],  # Minimum samples to split a node\n",
    "    'min_samples_leaf': [1, 2, 4],  # Minimum samples per leaf\n",
    "    'bootstrap': [True, False]  # Whether to bootstrap samples\n",
    "}\n",
    "\n",
    "# Initialize the Random Forest model\n",
    "rf_model = RandomForestClassifier(random_state=42)\n",
    "\n",
    "# Initialize GridSearchCV\n",
    "grid_search = GridSearchCV(estimator=rf_model, param_grid=param_grid, \n",
    "                           cv=3, n_jobs=-1, verbose=2, scoring='accuracy')\n",
    "\n",
    "# Fit the grid search to the data\n",
    "grid_search.fit(X_train_rf, y_train_rf)\n",
    "\n",
    "# Best parameters and score\n",
    "print(\"Best Parameters:\", grid_search.best_params_)\n",
    "print(\"Best Accuracy:\", grid_search.best_score_)\n",
    "\n",
    "# Use the best model to predict on the test set\n",
    "best_rf_model = grid_search.best_estimator_\n",
    "y_pred_optimized = best_rf_model.predict(X_test_rf)\n",
    "\n",
    "# Evaluate the optimized model\n",
    "print(\"\\nOptimized Accuracy Score:\", accuracy_score(y_test_rd, y_pred_optimized))\n",
    "print(\"\\nOptimized Classification Report:\\n\", classification_report(y_test_rf, y_pred_optimized))\n"
   ]
  },
  {
   "cell_type": "code",
   "execution_count": null,
   "id": "033d75fd-6938-4ff6-812e-5075a6fa81b3",
   "metadata": {},
   "outputs": [],
   "source": [
    "import joblib\n",
    "\n",
    "# Save the optimized model\n",
    "joblib.dump(grid_search.best_estimator_, 'optimized_rf_model.pkl')\n",
    "print(\"Model saved as 'optimized_rf_model.pkl'\")\n"
   ]
  },
  {
   "cell_type": "code",
   "execution_count": null,
   "id": "d630630f-c4dd-4fde-b801-22c8faf534c4",
   "metadata": {},
   "outputs": [],
   "source": [
    "from sklearn.metrics import ConfusionMatrixDisplay\n",
    "\n",
    "# Plot confusion matrix\n",
    "ConfusionMatrixDisplay.from_estimator(grid_search.best_estimator_, X_test_rf, y_test_rf, cmap='Blues')\n",
    "plt.title(\"Confusion Matrix\")\n",
    "plt.show()\n"
   ]
  },
  {
   "cell_type": "code",
   "execution_count": null,
   "id": "5ae88543-d8c8-4f3e-876f-f7d286e4881c",
   "metadata": {},
   "outputs": [],
   "source": [
    "print(len(features))\n",
    "print(len(importances))\n"
   ]
  },
  {
   "cell_type": "code",
   "execution_count": null,
   "id": "280f1354-916c-4b6f-ae79-27a5641d2469",
   "metadata": {},
   "outputs": [],
   "source": [
    "# Trim the importances array to match the number of features\n",
    "importances = importances[:len(features)]\n"
   ]
  },
  {
   "cell_type": "code",
   "execution_count": null,
   "id": "972d2bfd-3691-4c10-8691-b6a71139ebe4",
   "metadata": {},
   "outputs": [],
   "source": [
    "# Create the DataFrame with feature names and importances\n",
    "importance_df = pd.DataFrame({'Feature': features, 'Importance': importances})\n",
    "\n",
    "# Sort the DataFrame by importance in descending order and take the top 10\n",
    "importance_df = importance_df.sort_values(by='Importance', ascending=False).head(10)\n",
    "\n",
    "# Display the top 10 most important features\n",
    "print(importance_df)\n"
=======
   "id": "d64c530e-79a9-4dda-b0d6-2f584b09f176",
   "metadata": {},
   "source": [
    "<h4>MLFlow</h4>"
   ]
  },
  {
   "cell_type": "markdown",
   "id": "af7571ad-04cd-426f-ab3c-1ae32923fc0d",
   "metadata": {},
   "source": [
    "The following function will, using MLFlow, create an experiment that will track the model passed to it, and log its parameters and metrics"
   ]
  },
  {
   "cell_type": "code",
   "execution_count": 376,
   "id": "91becc4a-6638-46b2-9917-9c402f1cc20a",
   "metadata": {},
   "outputs": [],
   "source": [
    "mlflow.set_tracking_uri(\"http://127.0.0.1:5000\")"
   ]
  },
  {
   "cell_type": "code",
   "execution_count": 378,
   "id": "a7972318-6e94-4069-808a-98cfab98246e",
   "metadata": {},
   "outputs": [],
   "source": [
    "def train_and_evaluate_model(X_train, y_train, X_val, y_val, X_test, y_test, model, model_name):\n",
    "\n",
    "    with mlflow.start_run(run_name = model_name):\n",
    "        # Log hyperparameters\n",
    "        mlflow.log_param(\"batch_size\", batch_size)\n",
    "        mlflow.log_param(\"epochs\", epochs)\n",
    "        mlflow.log_param(\"input_dims\", input_dims)\n",
    "        mlflow.log_param(\"num_classes\", num_classes)\n",
    "\n",
    "        # Train the model\n",
    "        history = model.fit(X_train, y_train, epochs=epochs, batch_size=batch_size,\n",
    "                               validation_data=(X_val, y_val), verbose=1)\n",
    "\n",
    "        # Log final validation metrics\n",
    "        val_loss, val_accuracy = model.evaluate(X_val, y_val, verbose=0)\n",
    "        mlflow.log_metric(\"val_loss\", val_loss)\n",
    "        mlflow.log_metric(\"val_accuracy\", val_accuracy)\n",
    "\n",
    "        # Evaluate on test data\n",
    "        test_loss, test_accuracy = model.evaluate(X_test, y_test, verbose=0)\n",
    "        mlflow.log_metric(\"test_loss\", test_loss)\n",
    "        mlflow.log_metric(\"test_accuracy\", test_accuracy)\n",
    "\n",
    "        # Make predictions on test set\n",
    "        y_pred = model.predict(X_test)\n",
    "        y_pred_classes = y_pred.argmax(axis=1)\n",
    "        y_true_classes = y_test.argmax(axis=1)\n",
    "\n",
    "        # Generate classification report\n",
    "        report = classification_report(y_true_classes, y_pred_classes, output_dict=True)\n",
    "        mlflow.log_dict(report, \"classification_report.json\")\n",
    "\n",
    "        # #logging the model\n",
    "        signature = infer_signature(X_train.iloc[:5].to_numpy(), model.predict(X_train.iloc[:5].to_numpy()))\n",
    "        mlflow.keras.log_model(model, \"Neural Network model\", signature=signature)\n",
    "\n",
    "    return model"
   ]
  },
  {
   "cell_type": "code",
   "execution_count": 380,
   "id": "4febaf73-b459-4412-959c-301940ac5012",
   "metadata": {},
   "outputs": [
    {
     "name": "stdout",
     "output_type": "stream",
     "text": [
      "Epoch 1/10\n",
      "\u001b[1m138/138\u001b[0m \u001b[32m━━━━━━━━━━━━━━━━━━━━\u001b[0m\u001b[37m\u001b[0m \u001b[1m189s\u001b[0m 1s/step - accuracy: 0.9737 - loss: 0.1877 - val_accuracy: 0.2518 - val_loss: 5.5096\n",
      "Epoch 2/10\n",
      "\u001b[1m138/138\u001b[0m \u001b[32m━━━━━━━━━━━━━━━━━━━━\u001b[0m\u001b[37m\u001b[0m \u001b[1m196s\u001b[0m 1s/step - accuracy: 0.9736 - loss: 0.1001 - val_accuracy: 0.2418 - val_loss: 6.4947\n",
      "Epoch 3/10\n",
      "\u001b[1m138/138\u001b[0m \u001b[32m━━━━━━━━━━━━━━━━━━━━\u001b[0m\u001b[37m\u001b[0m \u001b[1m201s\u001b[0m 1s/step - accuracy: 0.9847 - loss: 0.0866 - val_accuracy: 0.2500 - val_loss: 4.8937\n",
      "Epoch 4/10\n",
      "\u001b[1m138/138\u001b[0m \u001b[32m━━━━━━━━━━━━━━━━━━━━\u001b[0m\u001b[37m\u001b[0m \u001b[1m186s\u001b[0m 1s/step - accuracy: 0.9806 - loss: 0.1057 - val_accuracy: 0.2418 - val_loss: 5.4778\n",
      "Epoch 5/10\n",
      "\u001b[1m138/138\u001b[0m \u001b[32m━━━━━━━━━━━━━━━━━━━━\u001b[0m\u001b[37m\u001b[0m \u001b[1m165s\u001b[0m 1s/step - accuracy: 0.9887 - loss: 0.1021 - val_accuracy: 0.2464 - val_loss: 8.2185\n",
      "Epoch 6/10\n",
      "\u001b[1m138/138\u001b[0m \u001b[32m━━━━━━━━━━━━━━━━━━━━\u001b[0m\u001b[37m\u001b[0m \u001b[1m97s\u001b[0m 699ms/step - accuracy: 0.9884 - loss: 0.1210 - val_accuracy: 0.2246 - val_loss: 16.7374\n",
      "Epoch 7/10\n",
      "\u001b[1m138/138\u001b[0m \u001b[32m━━━━━━━━━━━━━━━━━━━━\u001b[0m\u001b[37m\u001b[0m \u001b[1m97s\u001b[0m 702ms/step - accuracy: 0.9865 - loss: 0.0617 - val_accuracy: 0.2409 - val_loss: 4.8960\n",
      "Epoch 8/10\n",
      "\u001b[1m138/138\u001b[0m \u001b[32m━━━━━━━━━━━━━━━━━━━━\u001b[0m\u001b[37m\u001b[0m \u001b[1m108s\u001b[0m 785ms/step - accuracy: 0.9948 - loss: 0.0326 - val_accuracy: 0.2237 - val_loss: 30.6544\n",
      "Epoch 9/10\n",
      "\u001b[1m138/138\u001b[0m \u001b[32m━━━━━━━━━━━━━━━━━━━━\u001b[0m\u001b[37m\u001b[0m \u001b[1m143s\u001b[0m 1s/step - accuracy: 0.9929 - loss: 0.0394 - val_accuracy: 0.2717 - val_loss: 14.2304\n",
      "Epoch 10/10\n",
      "\u001b[1m138/138\u001b[0m \u001b[32m━━━━━━━━━━━━━━━━━━━━\u001b[0m\u001b[37m\u001b[0m \u001b[1m147s\u001b[0m 1s/step - accuracy: 0.9788 - loss: 0.2214 - val_accuracy: 0.2527 - val_loss: 5.5648\n",
      "\u001b[1m63/63\u001b[0m \u001b[32m━━━━━━━━━━━━━━━━━━━━\u001b[0m\u001b[37m\u001b[0m \u001b[1m9s\u001b[0m 132ms/step\n",
      "\u001b[1m1/1\u001b[0m \u001b[32m━━━━━━━━━━━━━━━━━━━━\u001b[0m\u001b[37m\u001b[0m \u001b[1m0s\u001b[0m 118ms/step\n",
      "🏃 View run Base Model at: http://127.0.0.1:5000/#/experiments/0/runs/a3ada1140d9d493b8c7284e1155ef66f\n",
      "🧪 View experiment at: http://127.0.0.1:5000/#/experiments/0\n"
     ]
    },
    {
     "data": {
      "text/plain": [
       "<Sequential name=sequential_18, built=True>"
      ]
     },
     "execution_count": 380,
     "metadata": {},
     "output_type": "execute_result"
    }
   ],
   "source": [
    "train_and_evaluate_model(X_train, y_train_nn, X_val, y_val_nn, X_test, y_test_nn, model_nn, model_name = \"Base Model\")"
   ]
  },
  {
   "cell_type": "code",
   "execution_count": 381,
   "id": "f77b51c9-4701-4a81-8bc1-8553e55e9557",
   "metadata": {},
   "outputs": [
    {
     "name": "stdout",
     "output_type": "stream",
     "text": [
      "Epoch 1/10\n",
      "\u001b[1m138/138\u001b[0m \u001b[32m━━━━━━━━━━━━━━━━━━━━\u001b[0m\u001b[37m\u001b[0m \u001b[1m120s\u001b[0m 867ms/step - accuracy: 0.9737 - loss: 0.1383 - val_accuracy: 0.2274 - val_loss: 11.7914\n",
      "Epoch 2/10\n",
      "\u001b[1m138/138\u001b[0m \u001b[32m━━━━━━━━━━━━━━━━━━━━\u001b[0m\u001b[37m\u001b[0m \u001b[1m152s\u001b[0m 1s/step - accuracy: 0.9782 - loss: 0.1773 - val_accuracy: 0.2011 - val_loss: 7.2205\n",
      "Epoch 3/10\n",
      "\u001b[1m138/138\u001b[0m \u001b[32m━━━━━━━━━━━━━━━━━━━━\u001b[0m\u001b[37m\u001b[0m \u001b[1m147s\u001b[0m 1s/step - accuracy: 0.9724 - loss: 0.1247 - val_accuracy: 0.1812 - val_loss: 10.4630\n",
      "Epoch 4/10\n",
      "\u001b[1m138/138\u001b[0m \u001b[32m━━━━━━━━━━━━━━━━━━━━\u001b[0m\u001b[37m\u001b[0m \u001b[1m146s\u001b[0m 1s/step - accuracy: 0.9843 - loss: 0.0744 - val_accuracy: 0.1902 - val_loss: 25.1676\n",
      "Epoch 5/10\n",
      "\u001b[1m138/138\u001b[0m \u001b[32m━━━━━━━━━━━━━━━━━━━━\u001b[0m\u001b[37m\u001b[0m \u001b[1m141s\u001b[0m 1s/step - accuracy: 0.9888 - loss: 0.0509 - val_accuracy: 0.1775 - val_loss: 9.9322\n",
      "Epoch 6/10\n",
      "\u001b[1m138/138\u001b[0m \u001b[32m━━━━━━━━━━━━━━━━━━━━\u001b[0m\u001b[37m\u001b[0m \u001b[1m149s\u001b[0m 1s/step - accuracy: 0.9849 - loss: 0.0697 - val_accuracy: 0.1839 - val_loss: 9.8404\n",
      "Epoch 7/10\n",
      "\u001b[1m138/138\u001b[0m \u001b[32m━━━━━━━━━━━━━━━━━━━━\u001b[0m\u001b[37m\u001b[0m \u001b[1m127s\u001b[0m 920ms/step - accuracy: 0.9814 - loss: 0.1429 - val_accuracy: 0.2092 - val_loss: 6.2444\n",
      "Epoch 8/10\n",
      "\u001b[1m138/138\u001b[0m \u001b[32m━━━━━━━━━━━━━━━━━━━━\u001b[0m\u001b[37m\u001b[0m \u001b[1m144s\u001b[0m 1s/step - accuracy: 0.9841 - loss: 0.0906 - val_accuracy: 0.1694 - val_loss: 6.5750\n",
      "Epoch 9/10\n",
      "\u001b[1m138/138\u001b[0m \u001b[32m━━━━━━━━━━━━━━━━━━━━\u001b[0m\u001b[37m\u001b[0m \u001b[1m129s\u001b[0m 931ms/step - accuracy: 0.9877 - loss: 0.0986 - val_accuracy: 0.1839 - val_loss: 24.4721\n",
      "Epoch 10/10\n",
      "\u001b[1m138/138\u001b[0m \u001b[32m━━━━━━━━━━━━━━━━━━━━\u001b[0m\u001b[37m\u001b[0m \u001b[1m122s\u001b[0m 888ms/step - accuracy: 0.9919 - loss: 0.0884 - val_accuracy: 0.1830 - val_loss: 12.5628\n",
      "\u001b[1m63/63\u001b[0m \u001b[32m━━━━━━━━━━━━━━━━━━━━\u001b[0m\u001b[37m\u001b[0m \u001b[1m8s\u001b[0m 121ms/step\n",
      "\u001b[1m1/1\u001b[0m \u001b[32m━━━━━━━━━━━━━━━━━━━━\u001b[0m\u001b[37m\u001b[0m \u001b[1m0s\u001b[0m 119ms/step\n",
      "🏃 View run Tuned Model at: http://127.0.0.1:5000/#/experiments/0/runs/02b8ea47d0074398a2767b6ab7b2be3e\n",
      "🧪 View experiment at: http://127.0.0.1:5000/#/experiments/0\n"
     ]
    },
    {
     "data": {
      "text/plain": [
       "<Sequential name=sequential_19, built=True>"
      ]
     },
     "execution_count": 381,
     "metadata": {},
     "output_type": "execute_result"
    }
   ],
   "source": [
    "train_and_evaluate_model(X_train, y_train_nn, X_val, y_val_nn, X_test, y_test_nn, model_best, model_name = \"Tuned Model\")"
   ]
  },
  {
   "cell_type": "markdown",
   "id": "a653ad02-9228-4a75-8b40-f12349fc0f91",
   "metadata": {},
   "source": [
    "Having looked at the models' performance on MLFlow, the tuned model outperformed the base model and now, it will be registered and saved for export and future use."
   ]
  },
  {
   "cell_type": "markdown",
   "id": "716f4974-a795-4732-910e-389ad4eb4280",
   "metadata": {},
   "source": [
    "<h5>Registering the better performing model</h5>"
   ]
  },
  {
   "cell_type": "code",
   "execution_count": 389,
   "id": "0db60828-9b96-4f3f-b354-5a76b75498a0",
   "metadata": {},
   "outputs": [
    {
     "name": "stdin",
     "output_type": "stream",
     "text": [
      "Enter Run ID:  02b8ea47d0074398a2767b6ab7b2be3e\n"
     ]
    },
    {
     "name": "stderr",
     "output_type": "stream",
     "text": [
      "Registered model 'Tuned Model' already exists. Creating a new version of this model...\n",
      "2025/02/05 10:31:14 INFO mlflow.store.model_registry.abstract_store: Waiting up to 300 seconds for model version to finish creation. Model name: Tuned Model, version 2\n",
      "Created version '2' of model 'Tuned Model'.\n"
     ]
    }
   ],
   "source": [
    "model_name = \"Tuned Model\"\n",
    "run_id = input(\"Enter Run ID: \") #\"4cc744832cfa4cd3b3e2080144b83c84\"\n",
    "model_uri = f\"runs:/{run_id}/{model_name}\"\n",
    "\n",
    "result = mlflow.register_model(\n",
    "    model_uri, model_name\n",
    ")"
   ]
  },
  {
   "cell_type": "code",
   "execution_count": 391,
   "id": "e02f6b4c-d986-4db3-a005-71685ff34677",
   "metadata": {},
   "outputs": [],
   "source": [
    "filename = \"NN_model.pkl\"\n",
    "pickle.dump(model_best, open(filename, \"wb\"))"
   ]
  },
  {
   "cell_type": "markdown",
   "id": "77b443f0-8fa8-4189-b7df-8985ab71f507",
   "metadata": {},
   "source": [
    "<h2>Random Forest</h2>"
>>>>>>> main
   ]
  },
  {
   "cell_type": "markdown",
<<<<<<< HEAD
   "id": "e6df7d92-bf06-4a70-939e-467f272028e4",
   "metadata": {},
   "source": [
    "<h4>KNN</h4>"
=======
   "id": "132043af",
   "metadata": {},
   "source": [
    "#### Training "
>>>>>>> main
   ]
  },
  {
   "cell_type": "code",
<<<<<<< HEAD
   "execution_count": null,
   "id": "7cf6cb6a-672e-45cc-949f-7afbb262a1bd",
   "metadata": {},
   "outputs": [],
   "source": [
    "X_train_knn = X_train\n",
    "y_train_knn = y_train\n",
    "\n",
    "X_test_knn = X_val\n",
    "y_test_knn = y_val"
   ]
  },
  {
   "cell_type": "code",
   "execution_count": null,
   "id": "052492d5",
   "metadata": {},
   "outputs": [],
   "source": [
    "from scipy.sparse import csr_matrix\n",
    "X_train_sparse = csr_matrix(X_train_knn)\n",
    "X_test_sparse = csr_matrix(X_test_knn)\n",
    "\n",
    "scaler = StandardScaler(with_mean=False)  # Important for sparse matrices\n",
    "X_train_scaled = scaler.fit_transform(X_train_sparse)\n",
    "X_test_scaled = scaler.transform(X_test_sparse)"
   ]
  },
  {
   "cell_type": "code",
   "execution_count": null,
   "id": "e6c61f62",
   "metadata": {},
   "outputs": [],
   "source": [
    "X_train_sampled, _, y_train_sampled, _ = train_test_split(X_train_knn, y_train_knn, train_size=0.1, random_state=42)"
   ]
  },
  {
   "cell_type": "code",
   "execution_count": null,
   "id": "10be6b77-bffc-48c8-bebb-2eee0afdca0a",
   "metadata": {},
   "outputs": [],
   "source": [
    "# Train the KNN model (multi-label classification assumes one-vs-rest by default)\n",
    "knn = KNeighborsClassifier(n_neighbors=k, algorithm='ball_tree')"
   ]
  },
  {
   "cell_type": "code",
   "execution_count": null,
   "id": "727fd540-435d-42f0-beda-bc8c0e860d51",
   "metadata": {},
   "outputs": [],
   "source": [
    "knn.fit(X_train_scaled, y_train_knn)"
   ]
  },
  {
   "cell_type": "code",
   "execution_count": null,
   "id": "16ef5cc6-2004-4d37-95d6-43fb8c03e6da",
   "metadata": {},
   "outputs": [],
   "source": [
    "y_pred_knn = knn.predict(X_test_scaled)\n"
   ]
  },
  {
   "cell_type": "code",
   "execution_count": null,
   "id": "48a767ac-4d1c-44ba-8c0a-df940ba6c328",
   "metadata": {},
   "outputs": [],
   "source": [
    "#For the n neigbors = 3\n",
    "from sklearn.metrics import accuracy_score\n",
    "\n",
    "k_values = [1, 3, 5, 7, 9, 15, 20]\n",
    "\n",
    "# List to store accuracy scores of each KNN model for comparison\n",
    "scores = []\n",
    "\n",
    "# Loop over each value of k \n",
    "for k in k_values:\n",
    "    knn = KNeighborsClassifier(n_neighbors=k)\n",
    "    knn.fit(X_train_sampled, y_train_sampled)\n",
    "    y_pred_knn = knn.predict(X_test_scaled)\n",
    "    accuracy = accuracy_score(y_test_knn, y_pred_knn)\n",
    "    scores.append(accuracy)\n",
    "    print(f\"Accuracy for K={k}: {accuracy:.4f}\")"
   ]
  },
  {
   "cell_type": "code",
   "execution_count": null,
   "id": "721867b1-3c92-4ec6-ad07-5257b03a6cdf",
   "metadata": {},
   "outputs": [],
   "source": [
    "from sklearn.metrics import accuracy_score, precision_score, recall_score, f1_score, log_loss\n",
    "\n",
    "\n",
    "# List of k values to evaluate\n",
    "k_values = [1, 3, 5, 7, 9, 15, 20]\n",
    "\n",
    "# List to store metrics for comparison\n",
    "metrics = {\n",
    "    'k': [],\n",
    "    'accuracy': [],\n",
    "    'precision': [],\n",
    "    'recall': [],\n",
    "    'f1_score': [],\n",
    "    'log_loss': []  # Add log_loss to the metrics\n",
    "}\n",
    "\n",
    "# Loop over each value of k\n",
    "for k in k_values:\n",
    "    # Initialize and train the KNN model\n",
    "    knn = KNeighborsClassifier(n_neighbors=k)\n",
    "    knn.fit(X_train_sampled, y_train_sampled)  # Use X_train_sampled instead of X_train_knn\n",
    "    \n",
    "    # Get predictions\n",
    "    y_pred_knn = knn.predict(X_test_scaled)  # Use X_test_sampled instead of X_test_knn\n",
    "    y_pred_proba_knn = knn.predict_proba(X_test_scaled)  # Predicted probabilities for log loss\n",
    "    \n",
    "    # Compute metrics\n",
    "    accuracy = accuracy_score(y_test_knn, y_pred_knn)\n",
    "    precision = precision_score(y_test_knn, y_pred_knn, average='weighted', zero_division=0)\n",
    "    recall = recall_score(y_test_knn, y_pred_knn, average='weighted', zero_division=0)\n",
    "    f1 = f1_score(y_test_knn, y_pred_knn, average='weighted')\n",
    "    loss = log_loss(y_test_knn, y_pred_proba_knn)  # Log loss calculation\n",
    "    \n",
    "    # Store the metrics\n",
    "    metrics['k'].append(k)\n",
    "    metrics['accuracy'].append(accuracy)\n",
    "    metrics['precision'].append(precision)\n",
    "    metrics['recall'].append(recall)\n",
    "    metrics['f1_score'].append(f1)\n",
    "    metrics['log_loss'].append(loss)  # Add log_loss to the list\n",
    "\n",
    "# Convert metrics to DataFrame for tabular display\n",
    "metrics_df = pd.DataFrame(metrics)\n",
    "\n",
    "# Print the table\n",
    "print(metrics_df)\n",
    "\n",
    "# Find the best k based on log loss (or any other metric of choice)\n",
    "best_k = metrics['k'][np.argmin(metrics['log_loss'])]  # Use np.argmin for log loss\n",
    "print(f\"\\nBest performing K based on Log Loss: {best_k}\")\n"
   ]
  },
  {
   "cell_type": "code",
   "execution_count": null,
   "id": "57fe7f4f-5d23-40be-a1b8-5ecea8d2deae",
   "metadata": {},
   "outputs": [],
   "source": [
    "# Step 2: Define Hyperparameter Ranges for Tuning\n",
    "param_grid = {\n",
    "    'n_neighbors': [ 5,7, 9,15],          # Number of neighbors\n",
    "    'weights': ['uniform', 'distance'],      # Weighting scheme\n",
    "    'metric': ['euclidean', 'manhattan']     # Distance metrics\n",
    "}\n",
    "\n",
    "# Step 3: Initialize and Perform Grid Search\n",
    "knn = KNeighborsClassifier()\n",
    "grid_search = GridSearchCV(knn, param_grid, cv=5, scoring='accuracy', verbose=1)\n",
    "grid_search.fit(X_train_scaled, y_train_knn)\n",
    "\n",
    "# Step 4: Display the Best Hyperparameters\n",
    "print(\"Best Hyperparameters:\", grid_search.best_params_)"
   ]
  },
  {
   "cell_type": "code",
   "execution_count": null,
   "id": "7c403b37-9cb6-470c-b39a-4d18852e7998",
   "metadata": {},
   "outputs": [],
   "source": [
    "best_knn = grid_search.best_estimator_\n",
    "y_test_pred = best_knn.predict(X_test_scaled)\n",
    "\n",
    "print(\"\\nClassification Report (Test Dataset):\")\n",
    "print(classification_report(y_test_knn, y_test_pred))"
   ]
  },
  {
   "cell_type": "code",
   "execution_count": null,
   "id": "a83604b0",
   "metadata": {},
   "outputs": [],
   "source": [
    "import mlflow "
   ]
  },
  {
   "cell_type": "code",
   "execution_count": null,
   "id": "25cc5756",
   "metadata": {},
   "outputs": [],
   "source": [
    "import mlflow\n",
    "import mlflow.sklearn\n",
    "import joblib\n",
    "from sklearn.model_selection import GridSearchCV\n",
    "from sklearn.neighbors import KNeighborsClassifier\n",
    "from sklearn.metrics import accuracy_score\n",
    "\n",
    "# Step 1: Define Hyperparameter Ranges for Tuning\n",
    "param_grid = {\n",
    "    'n_neighbors': [5, 7, 9, 15],  # Number of neighbors\n",
    "    'weights': ['uniform', 'distance'],  # Weighting scheme\n",
    "    'metric': ['euclidean', 'manhattan']  # Distance metrics\n",
    "}\n",
    "\n",
    "# Step 2: Initialize KNN and GridSearchCV\n",
    "knn = KNeighborsClassifier()\n",
    "grid_search = GridSearchCV(knn, param_grid, cv=5, scoring='accuracy', verbose=1)\n",
    "\n",
    "# Step 3: Fit the GridSearchCV on the training data\n",
    "grid_search.fit(X_train_scaled, y_train_knn)\n",
    "\n",
    "# Step 4: Display the Best Hyperparameters\n",
    "print(\"Best Hyperparameters:\", grid_search.best_params_)\n",
    "\n",
    "# Step 5: Log the best model to MLflow\n",
    "with mlflow.start_run():\n",
    "    mlflow.sklearn.log_model(grid_search.best_estimator_, \"knn_model\")\n",
    "\n",
    "    # Log the accuracy of the model\n",
    "    accuracy = accuracy_score(y_test_knn, grid_search.best_estimator_.predict(X_test_scaled))\n",
    "    mlflow.log_metric(\"accuracy\", accuracy)\n",
    "\n",
    "    print(f\"Logged best KNN model with accuracy: {accuracy:.4f} to MLflow\")\n",
    "\n",
    "# Step 6: Save the best model locally using joblib\n",
    "joblib.dump(grid_search.best_estimator_, \"best_knn_model.pkl\")\n",
    "print(\"Best KNN model saved locally as 'best_knn_model.pkl'\")\n"
   ]
  },
  {
   "cell_type": "markdown",
   "id": "9681cead-fc9c-4956-8819-a5d9800044ae",
   "metadata": {},
   "source": [
    "Naive Baye's"
   ]
  },
  {
   "cell_type": "code",
   "execution_count": 99,
   "id": "9ab10940-33cc-4ae6-b55b-71712f7c28cd",
   "metadata": {},
   "outputs": [
    {
     "name": "stdout",
     "output_type": "stream",
     "text": [
      "Accuracy: 0.964975845410628\n",
      "               precision    recall  f1-score   support\n",
      "\n",
      "     business       0.96      0.95      0.95       373\n",
      "    education       0.99      0.97      0.98       426\n",
      "entertainment       0.98      0.99      0.98       263\n",
      "       sports       0.97      0.97      0.97       199\n",
      "   technology       0.94      0.95      0.94       395\n",
      "\n",
      "     accuracy                           0.96      1656\n",
      "    macro avg       0.97      0.97      0.97      1656\n",
      " weighted avg       0.97      0.96      0.97      1656\n",
      "\n"
     ]
    }
   ],
   "source": [
    "# Dropping the columns 'headlines' and 'description' to get the feature set\n",
    "X = train_df.drop(columns=['category']) \n",
    "y = train_df['category'] \n",
    "\n",
    "# Splitting the dataset into 70% training and 30% testing\n",
    "from sklearn.model_selection import train_test_split\n",
    "X_train, X_test, y_train, y_test = train_test_split(X, y, test_size=0.3, random_state=42)\n",
    "\n",
    "# Fit a Naive Bayes model\n",
    "from sklearn.naive_bayes import MultinomialNB\n",
    "from sklearn.feature_extraction.text import TfidfVectorizer\n",
    "\n",
    "# Vectorize text data using TF-IDF for the 'content' column\n",
    "tfidf = TfidfVectorizer(max_features=1000)\n",
    "X_train_tfidf = tfidf.fit_transform(X_train['content'])\n",
    "X_test_tfidf = tfidf.transform(X_test['content'])\n",
    "\n",
    "# Train the Naive Bayes classifier\n",
    "nb = MultinomialNB()\n",
    "nb.fit(X_train_tfidf, y_train)\n",
    "\n",
    "# Predict on the test set\n",
    "y_pred = nb.predict(X_test_tfidf)\n",
    "\n",
    "# Evaluate the model\n",
    "from sklearn.metrics import classification_report, accuracy_score\n",
    "print(f\"Accuracy: {accuracy_score(y_test, y_pred)}\")\n",
    "print(classification_report(y_test, y_pred))\n"
   ]
  },
  {
   "cell_type": "code",
   "execution_count": 101,
   "id": "781ae33e-abfd-4fd8-8023-f328e11d09d1",
   "metadata": {},
   "outputs": [
    {
     "name": "stdout",
     "output_type": "stream",
     "text": [
      "Fitting 5 folds for each of 12 candidates, totalling 60 fits\n",
      "Best Parameters: {'nb__alpha': 0.1, 'tfidf__max_features': 1500}\n",
      "Best Cross-validation Accuracy: 0.9679108379304104\n",
      "Accuracy on Test Data: 0.9698067632850241\n",
      "               precision    recall  f1-score   support\n",
      "\n",
      "     business       0.96      0.95      0.96       373\n",
      "    education       1.00      0.98      0.99       426\n",
      "entertainment       0.97      0.99      0.98       263\n",
      "       sports       0.97      0.97      0.97       199\n",
      "   technology       0.95      0.96      0.95       395\n",
      "\n",
      "     accuracy                           0.97      1656\n",
      "    macro avg       0.97      0.97      0.97      1656\n",
      " weighted avg       0.97      0.97      0.97      1656\n",
      "\n"
     ]
    }
   ],
   "source": [
    "from sklearn.model_selection import GridSearchCV\n",
    "from sklearn.naive_bayes import MultinomialNB\n",
    "from sklearn.feature_extraction.text import TfidfVectorizer\n",
    "\n",
    "# The TF-IDF Vectorizer and Naive Bayes\n",
    "tfidf = TfidfVectorizer(stop_words='english')\n",
    "nb = MultinomialNB()\n",
    "\n",
    "# Define parameter grid\n",
    "param_grid = {\n",
    "    'tfidf__max_features': [500, 1000, 1500],  # Number of features for TF-IDF\n",
    "    'nb__alpha': [0.1, 0.5, 1.0, 2.0]  # Regularization parameter for Naive Bayes\n",
    "}\n",
    "\n",
    "# Set up the pipeline for grid search\n",
    "from sklearn.pipeline import Pipeline\n",
    "pipeline = Pipeline([\n",
    "    ('tfidf', tfidf),\n",
    "    ('nb', nb)\n",
    "])\n",
    "\n",
    "# Perform grid search with cross-validation\n",
    "grid_search = GridSearchCV(pipeline, param_grid, cv=5, scoring='accuracy', n_jobs=-1, verbose=2)\n",
    "\n",
    "# Fit the model\n",
    "grid_search.fit(X_train['content'], y_train)\n",
    "\n",
    "# Print the best parameters and the best score\n",
    "print(\"Best Parameters:\", grid_search.best_params_)\n",
    "print(\"Best Cross-validation Accuracy:\", grid_search.best_score_)\n",
    "\n",
    "# Evaluate the model with the best parameters\n",
    "best_model = grid_search.best_estimator_\n",
    "y_pred = best_model.predict(X_test['content'])\n",
    "\n",
    "# Evaluate the final model\n",
    "from sklearn.metrics import accuracy_score, classification_report\n",
    "print(f\"Accuracy on Test Data: {accuracy_score(y_test, y_pred)}\")\n",
    "print(classification_report(y_test, y_pred))\n"
   ]
  },
  {
   "cell_type": "code",
   "execution_count": 103,
   "id": "39f1a429-c4c3-4b51-8223-3e1f91592140",
   "metadata": {},
   "outputs": [
    {
     "data": {
      "image/png": "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",
      "text/plain": [
       "<Figure size 1000x700 with 2 Axes>"
      ]
     },
     "metadata": {},
     "output_type": "display_data"
    }
   ],
   "source": [
    "from sklearn.metrics import confusion_matrix\n",
    "import seaborn as sns\n",
    "import matplotlib.pyplot as plt\n",
    "\n",
    "# Confusion matrix\n",
    "cm = confusion_matrix(y_test, y_pred)\n",
    "\n",
    "# Class labels from the training data\n",
    "class_labels = y_train.unique()\n",
    "\n",
    "# Confusion matrix as a heatmap\n",
    "plt.figure(figsize=(10, 7))\n",
    "sns.heatmap(cm, annot=True, fmt='d', cmap='Blues', xticklabels=class_labels, yticklabels=class_labels)\n",
    "plt.xlabel('Predicted')\n",
    "plt.ylabel('True')\n",
    "plt.title('Confusion Matrix')\n",
    "plt.show()"
   ]
  },
  {
   "cell_type": "code",
   "execution_count": 105,
   "id": "2ec7ae8a-f600-44a3-8ec3-48ce06cacab9",
   "metadata": {},
   "outputs": [
    {
     "data": {
      "image/png": "iVBORw0KGgoAAAANSUhEUgAAA3MAAAIhCAYAAADkeOMyAAAAOXRFWHRTb2Z0d2FyZQBNYXRwbG90bGliIHZlcnNpb24zLjguNCwgaHR0cHM6Ly9tYXRwbG90bGliLm9yZy8fJSN1AAAACXBIWXMAAA9hAAAPYQGoP6dpAAB+vUlEQVR4nOzdd3QV1f7+8eeknfRDCyFAIEAgFEPoSpEiVcqlSBGp0kREBJSSKyVRIYIiYAEVlWIBlHaVjkAAQekRlAgYiaAEIyA51ADJ/P7gx/l6SIAEEpKTvF9rzbqZmT17PjPMWvc+d8/ZYzIMwxAAAAAAwKE45XQBAAAAAIDMI8wBAAAAgAMizAEAAACAAyLMAQAAAIADIswBAAAAgAMizAEAAACAAyLMAQAAAIADIswBAAAAgAMizAEAAACAAyLMAUAeZTKZMrRER0dnax0JCQkaN26c6tatqyJFisjX11c1a9bUhx9+qJSUlDTtL1y4oOHDh6t48eJyd3dXtWrVtGjRogydKyIiQiaTSadPn87qy3hgZs2apXnz5j2Qc+3YsUMRERE6d+5chtrfvL/pLe+++26uqBEA8hOXnC4AAJA9vv/+e7v1V199VZs3b9amTZvstleuXDlb69i7d68WLFig3r17a/z48XJ1ddWaNWv07LPP6ocfftAnn3xi175Tp07avXu3Xn/9dVWoUEFffPGFunfvrtTUVD311FPZWmtuMGvWLBUpUkR9+/bN9nPt2LFDkZGR6tu3rwoUKJDh49auXSuLxWK3rUyZMllc3Q33WiMA5AeEOQDIox555BG7dT8/Pzk5OaXZnt3q16+vuLg4ubq62rY1b95cV69e1XvvvafIyEgFBgZKklavXq0NGzbYApwkNWnSRL///rtGjRqlbt26ydnZ+YHW/6BcunRJnp6eOV1GhtSsWVNFihTJ6TLuy+XLl+Xu7i6TyZTTpQDAPeM1SwDIx86ePashQ4aoRIkScnNzU9myZfXyyy8rOTnZrp3JZNLQoUP1wQcfqEKFCjKbzapcuXKGXn8sWLCgXZC7qU6dOpKkP/74w7Zt+fLl8vb2VpcuXezaPv300zp58qR27tyZ6Wts3LixHnroIX3//feqV6+ePDw8FBQUpLlz50qSVq1apRo1asjT01OhoaFau3at3fE3Xy3cv3+/OnXqJF9fX1ksFvXs2VN///23XdvU1FRNnTpVFStWlNlsVtGiRdW7d2+7a/x3TVu3blW9evXk6empfv36KSgoSD///LO2bNlie30xKChIknTlyhW9+OKLqlatmiwWiwoVKqS6devqf//7X5prvvnv9emnn6pSpUry9PRUWFiYVq5caXddo0aNknRjVC2rXrs1DEOzZs1StWrV5OHhoYIFC6pz58767bff7Npt2LBB7du3V8mSJeXu7q7g4GA988wzdq/I3q1Gk8mkiIiINDUEBQXZjWzOmzdPJpNJ69evV79+/eTn5ydPT0/bc7548WLVrVtXXl5e8vb2VsuWLbV//367Pn/77Tc9+eSTKl68uMxms/z9/dW0aVPFxMTc1/0CgPvByBwA5FNXrlxRkyZNFBcXp8jISFWtWlXbtm1TVFSUYmJitGrVKrv2X3/9tTZv3qxXXnlFXl5emjVrlrp37y4XFxd17tw50+fftGmTXFxcVKFCBdu2n376SZUqVZKLi/1/PVWtWtW2v169epk+16lTp/T0009r9OjRKlmypN555x3169dPJ06c0JIlS/Tf//5XFotFr7zyijp06KDffvtNxYsXt+ujY8eO6tq1qwYPHqyff/5Z48eP16FDh7Rz505bWH322Wf14YcfaujQoWrbtq3i4+M1fvx4RUdHa9++fXajWQkJCerZs6dGjx6tyZMny8nJSWPGjFHnzp1lsVg0a9YsSZLZbJYkJScn6+zZs3rppZdUokQJXb16Vd9++606deqkuXPnqnfv3nb1rlq1Srt379Yrr7wib29vTZ06VR07dtThw4dVtmxZDRgwQGfPntU777yjZcuWKSAgQFLGXrtNSUnR9evXbesmk8k2YvrMM89o3rx5GjZsmKZMmaKzZ8/qlVdeUb169fTjjz/K399fkhQXF6e6detqwIABslgsio+P11tvvaUGDRro4MGDcnV1va8a09OvXz+1adNGn376qS5evChXV1dNnjxZ48aN09NPP61x48bp6tWreuONN/Too49q165dtnO1bt1aKSkpmjp1qkqVKqXTp09rx44d/JYPQM4yAAD5Qp8+fQwvLy/b+vvvv29IMr788ku7dlOmTDEkGevXr7dtk2R4eHgYp06dsm27fv26UbFiRSM4ODjTtaxbt85wcnIyRowYYbe9fPnyRsuWLdO0P3nypCHJmDx58h37nThxoiHJ+Pvvv23bGjVqZEgy9uzZY9t25swZw9nZ2fDw8DD+/PNP2/aYmBhDkvH222+n6fPWWj///HNDkvHZZ58ZhmEYsbGxhiRjyJAhdu127txpSDL++9//pqlp48aNaa6hSpUqRqNGje54nYZx4/5fu3bN6N+/v1G9enW7fZIMf39/w2q12radOnXKcHJyMqKiomzb3njjDUOScezYsbuezzD+717cupQoUcIwDMP4/vvvDUnGtGnT7I47ceKE4eHhYYwePTrdflNTU41r164Zv//+uyHJ+N///pehGiUZEydOTLO9dOnSRp8+fWzrc+fONSQZvXv3tmt3/Phxw8XFxXj++efttp8/f94oVqyY0bVrV8MwDOP06dOGJGPGjBm3vTcAkBN4zRIA8qlNmzbJy8srzajazdfTNm7caLe9adOmtlEVSXJ2dla3bt3066+/pnmN8E727dunrl276pFHHlFUVFSa/Xf6DdO9/r4pICBANWvWtK0XKlRIRYsWVbVq1exG4CpVqiRJ+v3339P00aNHD7v1rl27ysXFRZs3b5Yk23/eOnFJnTp1VKlSpTT3s2DBgnrssccydR1fffWV6tevL29vb7m4uMjV1VUff/yxYmNj07Rt0qSJfHx8bOv+/v4qWrRouteWWd9++612795tW1avXi1JWrlypUwmk3r27Knr16/blmLFiiksLMzuFc7ExEQNHjxYgYGBtmspXbq0JKV7PVnhiSeesFtft26drl+/rt69e9vV6+7urkaNGtnqLVSokMqVK6c33nhDb731lvbv36/U1NRsqREAMoPXLAEgnzpz5oyKFSuWJiAVLVpULi4uOnPmjN32YsWKpenj5rYzZ86oZMmSdz3n/v371bx5c5UvX16rV6+2vUJ4U+HChdOcV7rx2z7pxv+ovhfpHefm5pZmu5ubm6Qbr6De6tbrd3Fxsav35n/efBXw34oXL54mRKXX7k6WLVumrl27qkuXLho1apSKFSsmFxcXzZ49O82MoNKNe3krs9msy5cvZ+q86QkLC0t3ApS//vpLhmHYhf5/K1u2rKQbvy1s0aKFTp48qfHjxys0NFReXl5KTU3VI488kiU1pufWe/7XX39JkmrXrp1ueyenG/+ft8lk0saNG/XKK69o6tSpevHFF1WoUCH16NFDkyZNsgvNAPAgEeYAIJ8qXLiwdu7cKcMw7AJdYmKirl+/nuZ/rJ86dSpNHze3pRccbrV//341a9ZMpUuX1vr169NMbS9JoaGhWrhwoa5fv273u7mDBw9Kkh566KGMXVw2OHXqlEqUKGFbv379us6cOWO79pv/mZCQkCbYnjx5Ms39zOwo42effaYyZcpo8eLFdsfeOllNTipSpIhMJpO2bduWJqhL//f7v59++kk//vij5s2bpz59+tj2//rrr5k6n9lsTvf60/s/BKS09/zmv8mSJUtso4K3U7p0aX388ceSpCNHjujLL79URESErl69qvfffz9TdQNAVuE1SwDIp5o2baoLFy5oxYoVdtsXLFhg2/9vGzdutI1kSDcmwVi8eLHKlSt311G5mJgYNWvWTCVLltSGDRtUsGDBdNt17NhRFy5c0NKlS+22z58/X8WLF9fDDz+c0cvLcp9//rnd+pdffqnr16+rcePGkmR7ZfKzzz6za7d7927FxsamuZ+3c7vRM5PJJDc3N7tAcurUqXRns8yom+Eqq0bC2rZtK8Mw9Oeff6pWrVppltDQUEn/F6puDXwffPBBpmoMCgrSgQMH7LZt2rRJFy5cyFC9LVu2lIuLi+Li4tKtt1atWukeV6FCBY0bN06hoaHat29fhs4FANmBkTkAyKd69+6t9957T3369FF8fLxCQ0P13XffafLkyWrdurWaNWtm175IkSJ67LHHNH78eNtslr/88stdP09w+PBhW1+TJk3S0aNHdfToUdv+cuXKyc/PT5L0+OOPq3nz5nr22WdltVoVHByshQsXau3atfrss89y9Btzy5Ytk4uLi5o3b26bzTIsLExdu3aVJIWEhGjQoEF655135OTkpMcff9w2m2VgYKBGjBiRofOEhoZq0aJFWrx4scqWLSt3d3eFhoaqbdu2WrZsmYYMGaLOnTvrxIkTevXVVxUQEGB3PzPjZriaOXOm+vTpI1dXV4WEhNzza4P169fXoEGD9PTTT2vPnj1q2LChvLy8lJCQoO+++06hoaF69tlnVbFiRZUrV05jx46VYRgqVKiQvvnmG23YsCFTNfbq1Uvjx4/XhAkT1KhRIx06dEjvvvtuuqO+6QkKCtIrr7yil19+Wb/99ptatWqlggUL6q+//tKuXbvk5eWlyMhIHThwQEOHDlWXLl1Uvnx5ubm5adOmTTpw4IDGjh17T/cKALJEzs6/AgB4UG6dzdIwbszqOHjwYCMgIMBwcXExSpcubYSHhxtXrlyxayfJeO6554xZs2YZ5cqVM1xdXY2KFSsan3/++V3Pe3Mmwdstc+fOtWt//vx5Y9iwYUaxYsUMNzc3o2rVqsbChQszdI23m82ySpUqadqWLl3aaNOmTZrtN6/11j737t1rtGvXzvD29jZ8fHyM7t27G3/99ZfdsSkpKcaUKVOMChUqGK6urkaRIkWMnj17GidOnLBrd7uaDMMw4uPjjRYtWhg+Pj6GJKN06dK2fa+//roRFBRkmM1mo1KlSsacOXNs9d3pGv59zf+e5dEwDCM8PNwoXry44eTkZEgyNm/enG5d/74X/76/6fnkk0+Mhx9+2PDy8jI8PDyMcuXKGb1797abUfTQoUNG8+bNDR8fH6NgwYJGly5djOPHj6c7Q+XtakxOTjZGjx5tBAYGGh4eHkajRo2MmJiY285muXv37nTrXbFihdGkSRPD19fXMJvNRunSpY3OnTsb3377rWEYhvHXX38Zffv2NSpWrGh4eXkZ3t7eRtWqVY3p06cb169fv+O9AIDsZDIMw3jA+REA4GBMJpOee+45vfvuuzldygMXERGhyMhI/f333+lO+gEAQE7hN3MAAAAA4IAIcwAAAADggHjNEgAAAAAcECNzAAAAAOCACHMAAAAA4IAIcwAAAADggPhoeC6QmpqqkydPysfHRyaTKafLAQAAAJBDDMPQ+fPnVbx4cTk53XnsjTCXC5w8eVKBgYE5XQYAAACAXOLEiRMqWbLkHdsQ5nIBHx8fSTf+wXx9fXO4GgAAAAA5xWq1KjAw0JYR7oQwlwvcfLXS19eXMAcAAAAgQz+/YgIUAAAAAHBAhDkAAAAAcECEOQAAAABwQIQ5AAAAAHBAhDkAAAAAcECEOQAAAABwQIQ5AAAAAHBAhDkAAAAAcECEOQAAAABwQIQ5AAAAAHBAhDkAAAAAcECEOQAAAABwQIQ5AAAAAHBAhDkAAAAAcECEOQAAAABwQIQ5AAAAAHBAhDkAAAAAcECEOQAAAABwQC45XQD+jyUqSnJ3z+kyAABAPmVMnJjTJQDIBEbmAAAAAMABEeYAAAAAwAHl+TDXt29fdejQwbbeuHFjDR8+PMfqAQAAAICskOfDHAAAAADkRYQ5AAAAAHBADhHmUlNTNWXKFAUHB8tsNqtUqVKaNGmSJOngwYN67LHH5OHhocKFC2vQoEG6cOFChvu+evWqRo8erRIlSsjLy0sPP/ywoqOj7drMmTNHgYGB8vT0VMeOHfXWW2+pQIECdm2++eYb1axZU+7u7ipbtqwiIyN1/fr1+710AAAAAEiXQ4S58PBwTZkyRePHj9ehQ4f0xRdfyN/fX5cuXVKrVq1UsGBB7d69W1999ZW+/fZbDR06NMN9P/3009q+fbsWLVqkAwcOqEuXLmrVqpWOHj0qSdq+fbsGDx6sF154QTExMWrevLktSN60bt069ezZU8OGDdOhQ4f0wQcfaN68eWna3ZScnCyr1Wq3AAAAAEBmmAzDMHK6iDs5f/68/Pz89O6772rAgAF2++bMmaMxY8boxIkT8vLykiStXr1a7dq108mTJ+Xv76++ffvq3LlzWrFihaQbE6BUq1ZNM2bMUFxcnMqXL68//vhDxYsXt/XbrFkz1alTR5MnT9aTTz6pCxcuaOXKlbb9PXv21MqVK3Xu3DlJUsOGDfX4448rPDzc1uazzz7T6NGjdfLkyTTXFBERocjIyLQXO3Ys35kDAAA5hu/MATnParXKYrEoKSlJvr6+d2yb60fmYmNjlZycrKZNm6a7LywszBbkJKl+/fpKTU3V4cOH79r3vn37ZBiGKlSoIG9vb9uyZcsWxcXFSZIOHz6sOnXq2B136/revXv1yiuv2PUxcOBAJSQk6NKlS2nOGx4erqSkJNty4sSJDN0LAAAAALjJJacLuBsPD4/b7jMMQyaTKd19t9v+b6mpqXJ2dtbevXvl7Oxst8/b2/u257h1MDM1NVWRkZHq1KlTmnO4pzPSZjabZTab71ofAAAAANxOrg9z5cuXl4eHhzZu3JjmNcvKlStr/vz5unjxom10bvv27XJyclKFChXu2nf16tWVkpKixMREPfroo+m2qVixonbt2mW3bc+ePXbrNWrU0OHDhxUcHJyZSwMAAACAe5brw5y7u7vGjBmj0aNHy83NTfXr19fff/+tn3/+WT169NDEiRPVp08fRURE6O+//9bzzz+vXr16yd/f/659V6hQQT169FDv3r01bdo0Va9eXadPn9amTZsUGhqq1q1b6/nnn1fDhg311ltvqV27dtq0aZPWrFljN1o3YcIEtW3bVoGBgerSpYucnJx04MABHTx4UK+99lp23h4AAAAA+VSu/82cJI0fP14vvviiJkyYoEqVKqlbt25KTEyUp6en1q1bp7Nnz6p27drq3LmzmjZtqnfffTfDfc+dO1e9e/fWiy++qJCQEP3nP//Rzp07FRgYKOnGb/Def/99vfXWWwoLC9PatWs1YsQIu9cnW7ZsqZUrV2rDhg2qXbu2HnnkEb311lsqXbp0lt8LAAAAAJAcYDbL3GjgwIH65ZdftG3btizp7+aMNcxmCQAAchKzWQI5LzOzWeb61yxzgzfffFPNmzeXl5eX1qxZo/nz52vWrFk5XRYAAACAfIwwlwG7du3S1KlTdf78eZUtW1Zvv/12mslYAAAAAOBB4jXLXCAzQ6kAAAAA8q489dFwAAAAAEBahDkAAAAAcECEOQAAAABwQEyAkotYoqL4NAEAAMg1+FQBkLsxMgcAAAAADogwBwAAAAAOiDAHAAAAAA6IMJeOvn37qkOHDjldBgAAAADcFhOgpGPmzJniW+oAAAAAcjPCXDosFktOlwAAAAAAd8Rrlun492uWhmFo6tSpKlu2rDw8PBQWFqYlS5bYtT906JBat24tb29v+fv7q1evXjp9+vRt+09OTpbVarVbAAAAACAzCHN3MW7cOM2dO1ezZ8/Wzz//rBEjRqhnz57asmWLJCkhIUGNGjVStWrVtGfPHq1du1Z//fWXunbtets+o6KiZLFYbEtgYOCDuhwAAAAAeYTJ4MdhafTt21fnzp3T559/riJFimjTpk2qW7eubf+AAQN06dIlffHFF5owYYJ27typdevW2fb/8ccfCgwM1OHDh1WhQoU0/ScnJys5Odm2brVabwS6sWP5aDgAAMg1+Gg48OBZrVZZLBYlJSXJ19f3jm35zdwdHDp0SFeuXFHz5s3ttl+9elXVq1eXJO3du1ebN2+Wt7d3muPj4uLSDXNms1lmszl7igYAAACQLxDm7iA1NVWStGrVKpUoUcJu380wlpqaqnbt2mnKlClpjg8ICMj+IgEAAADkS4S5O6hcubLMZrOOHz+uRo0apdumRo0aWrp0qYKCguTiwu0EAAAA8GAwAcod+Pj46KWXXtKIESM0f/58xcXFaf/+/Xrvvfc0f/58SdJzzz2ns2fPqnv37tq1a5d+++03rV+/Xv369VNKSkoOXwEAAACAvIqhpLt49dVXVbRoUUVFRem3335TgQIFVKNGDf33v/+VJBUvXlzbt2/XmDFj1LJlSyUnJ6t06dJq1aqVnJzIygAAAACyB2EuHcnJybYJTUwmk4YNG6Zhw4bdtn358uW1bNmyB1UeAAAAAPCa5b9dv35dhw4d0vfff68qVarkdDkAAAAAcFuMzP3LTz/9pHr16qlJkyYaPHjwAz9/Unj4Xb8lAQAAAAASYc5OtWrVdOnSpZwuAwAAAADuitcsAQAAAMABEeYAAAAAwAHxmmUuYomKktzdc7oMAACAOzImTszpEgCIkTkAAAAAcEiEOQAAAABwQIQ5AAAAAHBA+S7MRUREqFq1arb1vn37qkOHDrb1xo0ba/jw4Q+8LgAAAADIDCZAucWyZcvk6uqa02UAAAAAwB0R5m5RqFChnC4BAAAAAO4q069ZpqamasqUKQoODpbZbFapUqU0adIkSdLBgwf12GOPycPDQ4ULF9agQYN04cIF27HpvcLYoUMH9e3b17YeFBSkyZMnq1+/fvLx8VGpUqX04Ycf2vZfvXpVQ4cOVUBAgNzd3RUUFKSoqCjb/qSkJA0aNEhFixaVr6+vHnvsMf34448Zvr5ba7xbPZK0Y8cOVatWTe7u7qpVq5ZWrFghk8mkmJiYDJ8XAAAAADIj02EuPDxcU6ZM0fjx43Xo0CF98cUX8vf316VLl9SqVSsVLFhQu3fv1ldffaVvv/1WQ4cOzXRR06ZNU61atbR//34NGTJEzz77rH755RdJ0ttvv62vv/5aX375pQ4fPqzPPvtMQUFBkiTDMNSmTRudOnVKq1ev1t69e1WjRg01bdpUZ8+ezXQdGann/PnzateunUJDQ7Vv3z69+uqrGjNmzB37S05OltVqtVsAAAAAIDMy9Zrl+fPnNXPmTL377rvq06ePJKlcuXJq0KCB5syZo8uXL2vBggXy8vKSJL377rtq166dpkyZIn9//wyfp3Xr1hoyZIgkacyYMZo+fbqio6NVsWJFHT9+XOXLl1eDBg1kMplUunRp23GbN2/WwYMHlZiYKLPZLEl68803tWLFCi1ZskSDBg3KzOVmqJ7PP/9cJpNJc+bMkbu7uypXrqw///xTAwcOvG1/UVFRioyMvKdaAAAAAEDK5MhcbGyskpOT1bRp03T3hYWF2YKcJNWvX1+pqak6fPhwpoqqWrWq7W+TyaRixYopMTFR0o3ZJ2NiYhQSEqJhw4Zp/fr1trZ79+7VhQsXVLhwYXl7e9uWY8eOKS4uLlM1ZLSew4cPq2rVqnJ3d7e1qVOnzh37Cw8PV1JSkm05ceLEPdcGAAAAIH/K1Mich4fHbfcZhiGTyZTuvpvbnZycZBiG3b5r166laX/rbJImk0mpqamSpBo1aujYsWNas2aNvv32W3Xt2lXNmjXTkiVLlJqaqoCAAEVHR6fps0CBAne6tDu6Uz3pXfet13grs9lsGzkEAAAAgHuRqZG58uXLy8PDQxs3bkyzr3LlyoqJidHFixdt27Zv3y4nJydVqFBBkuTn56eEhATb/pSUFP3000+ZLtrX11fdunXTnDlztHjxYi1dulRnz55VjRo1dOrUKbm4uCg4ONhuKVKkSKbPkxEVK1bUgQMHlJycbNu2Z8+ebDkXAAAAANyUqTDn7u6uMWPGaPTo0VqwYIHi4uL0ww8/6OOPP1aPHj3k7u6uPn366KefftLmzZv1/PPPq1evXrbfyz322GNatWqVVq1apV9++UVDhgzRuXPnMlXw9OnTtWjRIv3yyy86cuSIvvrqKxUrVkwFChRQs2bNVLduXXXo0EHr1q1TfHy8duzYoXHjxmVbwHrqqaeUmpqqQYMGKTY2VuvWrdObb74pSbcdqQQAAACA+5Xp78yNHz9eLi4umjBhgk6ePKmAgAANHjxYnp6eWrdunV544QXVrl1bnp6eeuKJJ/TWW2/Zju3Xr59+/PFH9e7dWy4uLhoxYoSaNGmSqfN7e3trypQpOnr0qJydnVW7dm2tXr1aTk43cunq1av18ssvq1+/fvr7779VrFgxNWzYMFMTsGSGr6+vvvnmGz377LOqVq2aQkNDNWHCBD311FN2v6MDAAAAgKxkMu72Ay9k2ueff66nn35aSUlJd/yd4U1Wq1UWi0UaO1YiAAIAgFzOmDgxp0sA8qyb2SApKUm+vr53bJvpkTmktWDBApUtW1YlSpTQjz/+qDFjxqhr164ZCnIAAAAAcC8Ic1ng1KlTmjBhgk6dOqWAgAB16dJFkyZNynQ/SeHhd03fAAAAACDxmmWukJmhVAAAAAB5V2ayQaZmswQAAAAA5A6EOQAAAABwQPxmLhexREUxmyUAAHAIzGgJ5DxG5gAAAADAARHmAAAAAMABEeYAAAAAwAHlyzDXuHFjDR8+3LYeFBSkGTNmZFv/AAAAAJDVmABF0u7du+Xl5ZXTZQAAAABAhhHmJPn5+eV0CQAAAACQKbnqNcvGjRvr+eef1/Dhw1WwYEH5+/vrww8/1MWLF/X000/Lx8dH5cqV05o1a2zHHDp0SK1bt5a3t7f8/f3Vq1cvnT592rb/4sWL6t27t7y9vRUQEKBp06alOe+tr1meO3dOgwYNkr+/v9zd3fXQQw9p5cqVkqQzZ86oe/fuKlmypDw9PRUaGqqFCxdm300BAAAAgHTkqjAnSfPnz1eRIkW0a9cuPf/883r22WfVpUsX1atXT/v27VPLli3Vq1cvXbp0SQkJCWrUqJGqVaumPXv2aO3atfrrr7/UtWtXW3+jRo3S5s2btXz5cq1fv17R0dHau3fvbc+fmpqqxx9/XDt27NBnn32mQ4cO6fXXX5ezs7Mk6cqVK6pZs6ZWrlypn376SYMGDVKvXr20c+fODF9jcnKyrFar3QIAAAAAmZHrXrMMCwvTuHHjJEnh4eF6/fXXVaRIEQ0cOFCSNGHCBM2ePVsHDhzQ6tWrVaNGDU2ePNl2/CeffKLAwEAdOXJExYsX18cff6wFCxaoefPmkm6ExZIlS972/N9++6127dql2NhYVahQQZJUtmxZ2/4SJUropZdesq0///zzWrt2rb766is9/PDDGbrGqKgoRUZGZvCOAAAAAEBauS7MVa1a1fa3s7OzChcurNDQUNs2f39/SVJiYqL27t2rzZs3y9vbO00/cXFxunz5sq5evaq6devathcqVEghISG3PX9MTIxKlixpC3K3SklJ0euvv67Fixfrzz//VHJyspKTkzM1gUp4eLhGjhxpW7darQoMDMzw8QAAAACQ68Kcq6ur3brJZLLbZjKZJN14HTI1NVXt2rXTlClT0vQTEBCgo0ePZvr8Hh4ed9w/bdo0TZ8+XTNmzFBoaKi8vLw0fPhwXb16NcPnMJvNMpvNma4NAAAAAG7KdWEuM2rUqKGlS5cqKChILi5pLyU4OFiurq764YcfVKpUKUnSP//8oyNHjqhRo0bp9lm1alX98ccfOnLkSLqjc9u2bVP79u3Vs2dPSTdC5dGjR1WpUqUsvDIAAAAAuLNcNwFKZjz33HM6e/asunfvrl27dum3337T+vXr1a9fP6WkpMjb21v9+/fXqFGjtHHjRv3000/q27evnJxuf9mNGjVSw4YN9cQTT2jDhg06duyY1qxZo7Vr10q6ERA3bNigHTt2KDY2Vs8884xOnTr1oC4ZAAAAACQ5eJgrXry4tm/frpSUFLVs2VIPPfSQXnjhBVksFltge+ONN9SwYUP95z//UbNmzdSgQQPVrFnzjv0uXbpUtWvXVvfu3VW5cmWNHj1aKSkpkqTx48erRo0aatmypRo3bqxixYqpQ4cO2X2pAAAAAGDHZBiGkdNF5HdWq1UWi0UaO1Zyd8/pcgAAAO7KmDgxp0sA8qSb2SApKUm+vr53bOvQI3MAAAAAkF859AQoeU1SePhd0zcAAAAASIzMAQAAAIBDIswBAAAAgAMizAEAAACAAyLMAQAAAIADYgKUXMQSFcWnCQAAgMPhMwVAzmBkDgAAAAAcEGEOAAAAABwQYQ4AAAAAHBBhLosFBQVpxowZOV0GAAAAgDyOMAcAAAAADijfhbnU1FRNmTJFwcHBMpvNKlWqlCZNmqTo6GiZTCadO3fO1jYmJkYmk0nx8fG2bTt27FDDhg3l4eGhwMBADRs2TBcvXpQkNW7cWL///rtGjBghk8kkk8n0gK8OAAAAQH6R78JceHi4pkyZovHjx+vQoUP64osv5O/vn6FjDx48qJYtW6pTp046cOCAFi9erO+++05Dhw6VJC1btkwlS5bUK6+8ooSEBCUkJKTbT3JysqxWq90CAAAAAJmRr74zd/78ec2cOVPvvvuu+vTpI0kqV66cGjRooOjo6Lse/8Ybb+ipp57S8OHDJUnly5fX22+/rUaNGmn27NkqVKiQnJ2d5ePjo2LFit22n6ioKEVGRmbFJQEAAADIp/LVyFxsbKySk5PVtGnTezp+7969mjdvnry9vW1Ly5YtlZqaqmPHjmW4n/DwcCUlJdmWEydO3FM9AAAAAPKvfDUy5+Hhcdt9Tk43cq1hGLZt165ds2uTmpqqZ555RsOGDUtzfKlSpTJch9lsltlsznB7AAAAALhVvgpz5cuXl4eHhzZu3KgBAwbY7fPz85MkJSQkqGDBgpJuTIDybzVq1NDPP/+s4ODg257Dzc1NKSkpWVs4AAAAANwiX71m6e7urjFjxmj06NFasGCB4uLi9MMPP+jjjz9WcHCwAgMDFRERoSNHjmjVqlWaNm2a3fFjxozR999/r+eee04xMTE6evSovv76az3//PO2NkFBQdq6dav+/PNPnT59+kFfIgAAAIB8Il+FOUkaP368XnzxRU2YMEGVKlVSt27dlJiYKFdXVy1cuFC//PKLwsLCNGXKFL322mt2x1atWlVbtmzR0aNH9eijj6p69eoaP368AgICbG1eeeUVxcfHq1y5crbRPgAAAADIaibj3z8SQ46wWq2yWCzS2LGSu3tOlwMAAJApxsSJOV0CkGfczAZJSUny9fW9Y9t8NzIHAAAAAHkBYQ4AAAAAHFC+ms0yt0sKD7/rUCoAAAAASIzMAQAAAIBDIswBAAAAgAMizAEAAACAA+I3c7mIJSqKTxMAAIA8i08YAFmLkTkAAAAAcECEOQAAAABwQLkizEVHR8tkMuncuXM5XYqCgoI0Y8aMnC4DAAAAAO4oV4S5nDBv3jwVKFAgzfbdu3dr0KBBD74gAAAAAMgEJkC5hZ+fX06XAAAAAAB3lS0jc4ZhaOrUqSpbtqw8PDwUFhamJUuW2PavXr1aFSpUkIeHh5o0aaL4+Hi74yMiIlStWjW7bTNmzFBQUJDdtk8++URVqlSR2WxWQECAhg4datv31ltvKTQ0VF5eXgoMDNSQIUN04cIFSTde63z66aeVlJQkk8kkk8mkiIgISWlfszx+/Ljat28vb29v+fr6qmvXrvrrr7/S1Prpp58qKChIFotFTz75pM6fP3/vNxAAAAAA7iJbwty4ceM0d+5czZ49Wz///LNGjBihnj17asuWLTpx4oQ6deqk1q1bKyYmRgMGDNDYsWMzfY7Zs2frueee06BBg3Tw4EF9/fXXCg4Otu13cnLS22+/rZ9++knz58/Xpk2bNHr0aElSvXr1NGPGDPn6+iohIUEJCQl66aWX0pzDMAx16NBBZ8+e1ZYtW7RhwwbFxcWpW7dudu3i4uK0YsUKrVy5UitXrtSWLVv0+uuv37b25ORkWa1WuwUAAAAAMiPLX7O8ePGi3nrrLW3atEl169aVJJUtW1bfffedPvjgAwUFBals2bKaPn26TCaTQkJCdPDgQU2ZMiVT53nttdf04osv6oUXXrBtq127tu3v4cOH2/4uU6aMXn31VT377LOaNWuW3NzcZLFYZDKZVKxYsdue49tvv9WBAwd07NgxBQYGSpI+/fRTValSRbt377adLzU1VfPmzZOPj48kqVevXtq4caMmTZqUbr9RUVGKjIzM1PUCAAAAwL9leZg7dOiQrly5oubNm9ttv3r1qqpXr67Lly/rkUcekclksu27GfoyKjExUSdPnlTTpk1v22bz5s2aPHmyDh06JKvVquvXr+vKlSu6ePGivLy8MnSe2NhYBQYG2oKcJFWuXFkFChRQbGysLcwFBQXZgpwkBQQEKDEx8bb9hoeHa+TIkbZ1q9Vqdw4AAAAAuJssD3OpqamSpFWrVqlEiRJ2+8xms55//vm79uHk5CTDMOy2Xbt2zfa3h4fHHY///fff1bp1aw0ePFivvvqqChUqpO+++079+/e36+duDMOwC5232+7q6mq332Qy2e5Desxms8xmc4brAAAAAIBbZXmYq1y5ssxms44fP65GjRqlu3/FihV223744Qe7dT8/P506dcouNMXExNj2+/j4KCgoSBs3blSTJk3SnGPPnj26fv26pk2bJienGz8L/PLLL+3auLm5KSUl5a7Xcvz4cZ04ccI2cnbo0CElJSWpUqVKdzwWAAAAALJTloc5Hx8fvfTSSxoxYoRSU1PVoEEDWa1W7dixQ97e3ho8eLCmTZumkSNH6plnntHevXs1b948uz4aN26sv//+W1OnTlXnzp21du1arVmzRr6+vrY2ERERGjx4sIoWLarHH39c58+f1/bt2/X888+rXLlyun79ut555x21a9dO27dv1/vvv293jqCgIF24cEEbN25UWFiYPD095enpademWbNmqlq1qnr06KEZM2bo+vXrGjJkiBo1aqRatWpl9a0DAAAAgAzLltksX331VU2YMEFRUVGqVKmSWrZsqW+++UZlypRRqVKltHTpUn3zzTcKCwvT+++/r8mTJ9sdX6lSJc2aNUvvvfeewsLCtGvXrjSzTfbp00czZszQrFmzVKVKFbVt21ZHjx6VJFWrVk1vvfWWpkyZooceekiff/65oqKi7I6vV6+eBg8erG7dusnPz09Tp05Ncx0mk0krVqxQwYIF1bBhQzVr1kxly5bV4sWLs/iOAQAAAEDmmIxbf5yGB85qtcpisUhjx0ru7jldDgAAQLYwJk7M6RKAXO9mNkhKSrJ7MzE92TIyBwAAAADIXoQ5AAAAAHBAWT4BCu5dUnj4XYdSAQAAAEBiZA4AAAAAHBJhDgAAAAAcEGEOAAAAABwQv5nLRSxRUXyaAAAA5Ht8wgDIGEbmAAAAAMABEeYAAAAAwAER5gAAAADAARHmAAAAAMAB5esw17hxYw0fPjzL+uvbt686dOiQZf0BAAAAwO3k6zAHAAAAAI4q34a5vn37asuWLZo5c6ZMJpNMJpPi4+N16NAhtW7dWt7e3vL391evXr10+vRp23FLlixRaGioPDw8VLhwYTVr1kwXL15URESE5s+fr//973+2/qKjo9M9d3JysqxWq90CAAAAAJmRb8PczJkzVbduXQ0cOFAJCQlKSEiQq6urGjVqpGrVqmnPnj1au3at/vrrL3Xt2lWSlJCQoO7du6tfv36KjY1VdHS0OnXqJMMw9NJLL6lr165q1aqVrb969eqle+6oqChZLBbbEhgY+CAvHQAAAEAekG8/Gm6xWOTm5iZPT08VK1ZMkjRhwgTVqFFDkydPtrX75JNPFBgYqCNHjujChQu6fv26OnXqpNKlS0uSQkNDbW09PDyUnJxs6+92wsPDNXLkSNu61Wol0AEAAADIlHwb5tKzd+9ebd68Wd7e3mn2xcXFqUWLFmratKlCQ0PVsmVLtWjRQp07d1bBggUzdR6z2Syz2ZxVZQMAAADIh/Lta5bpSU1NVbt27RQTE2O3HD16VA0bNpSzs7M2bNigNWvWqHLlynrnnXcUEhKiY8eO5XTpAAAAAPKZfB3m3NzclJKSYluvUaOGfv75ZwUFBSk4ONhu8fLykiSZTCbVr19fkZGR2r9/v9zc3LR8+fJ0+wMAAACA7JKvw1xQUJB27typ+Ph4nT59Ws8995zOnj2r7t27a9euXfrtt9+0fv169evXTykpKdq5c6cmT56sPXv26Pjx41q2bJn+/vtvVapUydbfgQMHdPjwYZ0+fVrXrl3L4SsEAAAAkFfl6zD30ksvydnZWZUrV5afn5+uXr2q7du3KyUlRS1bttRDDz2kF154QRaLRU5OTvL19dXWrVvVunVrVahQQePGjdO0adP0+OOPS5IGDhyokJAQ1apVS35+ftq+fXsOXyEAAACAvMpkGIaR00Xkd1arVRaLRRo7VnJ3z+lyAAAAcpQxcWJOlwDkmJvZICkpSb6+vndsm69H5gAAAADAUfFpglwkKTz8rukbAAAAACRG5gAAAADAIRHmAAAAAMABEeYAAAAAwAHxm7lcxBIVxWyWAAAAd8BMl8D/YWQOAAAAABwQYQ4AAAAAHBBhDgAAAAAcUI6Hufj4eJlMJsXExNxXP40bN9bw4cPvu56+ffuqQ4cO990PAAAAAGSnPDMByrJly+Tq6nrf/cycOVOGYWRBRQAAAACQffJMmCtUqFCW9GOxWLKkHwAAAADITln+muXatWvVoEEDFShQQIULF1bbtm0VFxdn279r1y5Vr15d7u7uqlWrlvbv3293fHR0tEwmk9atW6fq1avLw8NDjz32mBITE7VmzRpVqlRJvr6+6t69uy5dumQ77tbXLGfNmqXy5cvL3d1d/v7+6ty5s23fkiVLFBoaKg8PDxUuXFjNmjXTxYsXJaV9zTI5OVnDhg1T0aJF5e7urgYNGmj37t1p6t24caNq1aolT09P1atXT4cPH86qWwoAAAAAaWR5mLt48aJGjhyp3bt3a+PGjXJyclLHjh2Vmpqqixcvqm3btgoJCdHevXsVERGhl156Kd1+IiIi9O6772rHjh06ceKEunbtqhkzZuiLL77QqlWrtGHDBr3zzjvpHrtnzx4NGzZMr7zyig4fPqy1a9eqYcOGkqSEhAR1795d/fr1U2xsrKKjo9WpU6fbvlo5evRoLV26VPPnz9e+ffsUHBysli1b6uzZs3btXn75ZU2bNk179uyRi4uL+vXrd9t7lJycLKvVarcAAAAAQGZk+WuWTzzxhN36xx9/rKJFi+rQoUPasWOHUlJS9Mknn8jT01NVqlTRH3/8oWeffTZNP6+99prq168vSerfv7/Cw8MVFxensmXLSpI6d+6szZs3a8yYMWmOPX78uLy8vNS2bVv5+PiodOnSql69uqQbYe769evq1KmTSpcuLUkKDQ1N91ouXryo2bNna968eXr88cclSXPmzNGGDRv08ccfa9SoUba2kyZNUqNGjSRJY8eOVZs2bXTlyhW5p/MR8KioKEVGRt75RgIAAADAHWT5yFxcXJyeeuoplS1bVr6+vipTpoykGwErNjZWYWFh8vT0tLWvW7duuv1UrVrV9re/v788PT1tQe7mtsTExHSPbd68uUqXLq2yZcuqV69e+vzzz22vZIaFhalp06YKDQ1Vly5dNGfOHP3zzz+3vZZr167ZQqUkubq6qk6dOoqNjb1tvQEBAZJ02/rCw8OVlJRkW06cOJFuOwAAAAC4nSwPc+3atdOZM2c0Z84c7dy5Uzt37pQkXb16NVOzRP57ZkqTyZRmpkqTyaTU1NR0j/Xx8dG+ffu0cOFCBQQEaMKECQoLC9O5c+fk7OysDRs2aM2aNapcubLeeecdhYSE6NixY2n6uVmvyWRKs/3WbbfWK+m29ZnNZvn6+totAAAAAJAZWRrmzpw5o9jYWI0bN05NmzZVpUqV7Ea9KleurB9//FGXL1+2bfvhhx+ysgQbFxcXNWvWTFOnTtWBAwcUHx+vTZs2SboRturXr6/IyEjt379fbm5uWr58eZo+goOD5ebmpu+++8627dq1a9qzZ48qVaqULXUDAAAAQEZk6W/mChYsqMKFC+vDDz9UQECAjh8/rrFjx9r2P/XUU3r55ZfVv39/jRs3TvHx8XrzzTezsgRJ0sqVK/Xbb7+pYcOGKliwoFavXq3U1FSFhIRo586d2rhxo1q0aKGiRYtq586d+vvvv9MNZ15eXnr22Wc1atQoFSpUSKVKldLUqVN16dIl9e/fP8vrBgAAAICMytIw5+TkpEWLFmnYsGF66KGHFBISorfffluNGzeWJHl7e+ubb77R4MGDVb16dVWuXFlTpkxJM2nK/SpQoICWLVumiIgIXblyReXLl9fChQtVpUoVxcbGauvWrZoxY4asVqtKly6tadOm2SY4udXrr7+u1NRU9erVS+fPn1etWrW0bt06FSxYMEtrBgAAAIDMMBmZ+SEbsoXVar3xsfKxY6V0Zr8EAADADcbEiTldApCtbmaDpKSku86tkeUToAAAAAAAsl+Wf2cO9y4pPJyZLQEAAABkCCNzAAAAAOCACHMAAAAA4IAIcwAAAADggPjNXC5iiYpiNksAAIAMYFZLgJE5AAAAAHBIhDkAAAAAcECEOQAAAABwQPk2zMXHx8tkMikmJianSwEAAACATMu3YQ4AAAAAHBlhDgAAAAAcUJ4Pc6mpqZoyZYqCg4NlNptVqlQpTZo0KU27lJQU9e/fX2XKlJGHh4dCQkI0c+ZMuzbR0dGqU6eOvLy8VKBAAdWvX1+///67JOnHH39UkyZN5OPjI19fX9WsWVN79ux5INcIAAAAIP/J89+ZCw8P15w5czR9+nQ1aNBACQkJ+uWXX9K0S01NVcmSJfXll1+qSJEi2rFjhwYNGqSAgAB17dpV169fV4cOHTRw4EAtXLhQV69e1a5du2QymSRJPXr0UPXq1TV79mw5OzsrJiZGrq6u6daUnJys5ORk27rVas2eiwcAAACQZ5kMwzByuojscv78efn5+endd9/VgAED7PbFx8erTJky2r9/v6pVq5bu8c8995z++usvLVmyRGfPnlXhwoUVHR2tRo0apWnr6+urd955R3369LlrXREREYqMjEy7Y+xYPhoOAACQAXw0HHmV1WqVxWJRUlKSfH1979g2T79mGRsbq+TkZDVt2jRD7d9//33VqlVLfn5+8vb21pw5c3T8+HFJUqFChdS3b1+1bNlS7dq108yZM5WQkGA7duTIkRowYICaNWum119/XXFxcbc9T3h4uJKSkmzLiRMn7u9CAQAAAOQ7eTrMeXh4ZLjtl19+qREjRqhfv35av369YmJi9PTTT+vq1au2NnPnztX333+vevXqafHixapQoYJ++OEHSTdG237++We1adNGmzZtUuXKlbV8+fJ0z2U2m+Xr62u3AAAAAEBm5OkwV758eXl4eGjjxo13bbtt2zbVq1dPQ4YMUfXq1RUcHJzu6Fr16tUVHh6uHTt26KGHHtIXX3xh21ehQgWNGDFC69evV6dOnTR37twsvR4AAAAAuClPhzl3d3eNGTNGo0eP1oIFCxQXF6cffvhBH3/8cZq2wcHB2rNnj9atW6cjR45o/Pjx2r17t23/sWPHFB4eru+//16///671q9fryNHjqhSpUq6fPmyhg4dqujoaP3+++/avn27du/erUqVKj3IywUAAACQj+T52SzHjx8vFxcXTZgwQSdPnlRAQIAGDx6cpt3gwYMVExOjbt26yWQyqXv37hoyZIjWrFkjSfL09NQvv/yi+fPn68yZMwoICNDQoUP1zDPP6Pr16zpz5ox69+6tv/76S0WKFFGnTp3Sn+QEAAAAALJAnp7N0lHcnLGG2SwBAAAyhtkskVcxmyUAAAAA5HF5/jVLR5IUHs7MlgAAAAAyhJE5AAAAAHBAhDkAAAAAcECEOQAAAABwQIQ5AAAAAHBATICSi1iiovg0AQAAQCbwiQLkZ4zMAQAAAIADIswBAAAAgAMizAEAAACAA3K4MBcREaFq1arldBkAAAAAkKMcLsxl1LVr13K6BAAAAADINg88zBmGoalTp6ps2bLy8PBQWFiYlixZIkmKjo6WyWTSxo0bVatWLXl6eqpevXo6fPiwJGnevHmKjIzUjz/+KJPJJJPJpHnz5kmSTCaT3n//fbVv315eXl567bXXlJKSov79+6tMmTLy8PBQSEiIZs6caVdP37591aFDB7355psKCAhQ4cKF9dxzz9mFweTkZI0ePVqBgYEym80qX768Pv74Y9v+Q4cOqXXr1vL29pa/v7969eql06dPZ/OdBAAAAJCfPfBPE4wbN07Lli3T7NmzVb58eW3dulU9e/aUn5+frc3LL7+sadOmyc/PT4MHD1a/fv20fft2devWTT/99JPWrl2rb7/9VpJksVhsx02cOFFRUVGaPn26nJ2dlZqaqpIlS+rLL79UkSJFtGPHDg0aNEgBAQHq2rWr7bjNmzcrICBAmzdv1q+//qpu3bqpWrVqGjhwoCSpd+/e+v777/X2228rLCxMx44ds4W1hIQENWrUSAMHDtRbb72ly5cva8yYMeratas2bdqU7j1ITk5WcnKybd1qtWbdDQYAAACQL5gMwzAe1MkuXryoIkWKaNOmTapbt65t+4ABA3Tp0iUNGjRITZo00bfffqumTZtKklavXq02bdro8uXLcnd3V0REhFasWKGYmBj7CzGZNHz4cE2fPv2ONTz33HP666+/bKOBffv2VXR0tOLi4uTs7CxJ6tq1q5ycnLRo0SIdOXJEISEh2rBhg5o1a5amvwkTJmjnzp1at26dbdsff/yhwMBAHT58WBUqVEhzTEREhCIjI9MWN3Ys35kDAADIBL4zh7zGarXKYrEoKSlJvr6+d2z7QEfmDh06pCtXrqh58+Z2269evarq1avb1qtWrWr7OyAgQJKUmJioUqVK3bH/WrVqpdn2/vvv66OPPtLvv/+uy5cv6+rVq2kmUKlSpYotyN0858GDByVJMTExcnZ2VqNGjdI95969e7V582Z5e3un2RcXF5dumAsPD9fIkSNt61arVYGBgXe8NgAAAAD4twca5lJTUyVJq1atUokSJez2mc1mxcXFSZJcXV1t200mk92xd+Ll5WW3/uWXX2rEiBGaNm2a6tatKx8fH73xxhvauXOnXbt/n+/mOW+ez8PD467X1K5dO02ZMiXNvptB9FZms1lms/mu1wMAAAAAt/NAw1zlypVlNpt1/PjxdEe6boa5O3Fzc1NKSkqGzrdt2zbVq1dPQ4YMydQ5/i00NFSpqanasmVLuq9Z1qhRQ0uXLlVQUJBcXB74TxABAAAA5FMPdDZLHx8fvfTSSxoxYoTmz5+vuLg47d+/X++9957mz5+foT6CgoJ07NgxxcTE6PTp03YTidwqODhYe/bs0bp163TkyBGNHz9eu3fvzlTNQUFB6tOnj/r166cVK1bo2LFjio6O1pdffinpxm/wzp49q+7du2vXrl367bfftH79evXr1y/DoRMAAAAAMuuBf5rg1Vdf1YQJExQVFaVKlSqpZcuW+uabb1SmTJkMHf/EE0+oVatWatKkifz8/LRw4cLbth08eLA6deqkbt266eGHH9aZM2fsRukyavbs2ercubOGDBmiihUrauDAgbp48aIkqXjx4tq+fbtSUlLUsmVLPfTQQ3rhhRdksVjk5JRnP+MHAAAAIIc90Nkskb6bM9YwmyUAAEDmMJsl8prMzGbJ0BEAAAAAOCDCHAAAAAA4IKZfzEWSwsPvOpQKAAAAABIjcwAAAADgkAhzAAAAAOCACHMAAAAA4ID4zVwuYomK4tMEAAAA94BPFCA/YmQOAAAAABwQYQ4AAAAAHFCeCXONGzfW8OHDbetBQUGaMWPGHY8xmUxasWJFttYFAAAAANkhz/5mbvfu3fLy8srSPiMiIrRixQrFxMRkab8AAAAAkFl5Nsz5+fnldAkAAAAAkG2y5TXL1NRUTZkyRcHBwTKbzSpVqpQmTZokSRozZowqVKggT09PlS1bVuPHj9e1a9dsx0ZERKhatWr69NNPFRQUJIvFoieffFLnz5+3tbl48aJ69+4tb29vBQQEaNq0aWlquPU1y6NHj6phw4Zyd3dX5cqVtWHDhjTH3Km2efPmKTIyUj/++KNMJpNMJpPmzZsnSUpKStKgQYNUtGhR+fr66rHHHtOPP/6YFbcSAAAAANKVLSNz4eHhmjNnjqZPn64GDRooISFBv/zyiyTJx8dH8+bNU/HixXXw4EENHDhQPj4+Gj16tO34uLg4rVixQitXrtQ///yjrl276vXXX7cFwlGjRmnz5s1avny5ihUrpv/+97/au3evqlWrlm49qamp6tSpk4oUKaIffvhBVqvV7vd1N92ptm7duumnn37S2rVr9e2330qSLBaLDMNQmzZtVKhQIa1evVoWi0UffPCBmjZtqiNHjqhQoUJpzpOcnKzk5GTbutVqvddbDQAAACCfyvIwd/78ec2cOVPvvvuu+vTpI0kqV66cGjRoIEkaN26crW1QUJBefPFFLV682C7Mpaamat68efLx8ZEk9erVSxs3btSkSZN04cIFffzxx1qwYIGaN28uSZo/f75Klix525q+/fZbxcbGKj4+3tZu8uTJevzxx+3a3ak2Dw8PeXt7y8XFRcWKFbO127Rpkw4ePKjExESZzWZJ0ptvvqkVK1ZoyZIlGjRoUJp6oqKiFBkZmYG7CQAAAADpy/IwFxsbq+TkZDVt2jTd/UuWLNGMGTP066+/6sKFC7p+/bp8fX3t2gQFBdmCnCQFBAQoMTFR0o1Ru6tXr6pu3bq2/YUKFVJISMgdaypVqpRd4Pv38Zmp7VZ79+7VhQsXVLhwYbvtly9fVlxcXLrHhIeHa+TIkbZ1q9WqwMDAO54HAAAAAP4ty8Och4fHbff98MMPevLJJxUZGamWLVvKYrFo0aJFaX7z5urqarduMpmUmpoqSTIMI9M1pXeMyWS6p9pulZqaqoCAAEVHR6fZV6BAgXSPMZvNtlE8AAAAALgXWR7mypcvLw8PD23cuFEDBgyw27d9+3aVLl1aL7/8sm3b77//nqn+g4OD5erqqh9++EGlSpWSJP3zzz86cuSIGjVqlO4xlStX1vHjx3Xy5EkVL15ckvT9999nujY3NzelpKTYbatRo4ZOnTolFxcXBQUFZepaAAAAAOBeZXmYc3d315gxYzR69Gi5ubmpfv36+vvvv/Xzzz8rODhYx48f16JFi1S7dm2tWrVKy5cvz1T/3t7e6t+/v0aNGqXChQvL399fL7/8spycbj8xZ7NmzRQSEqLevXtr2rRpslqtdqFNUoZqCwoK0rFjxxQTE6OSJUvKx8dHzZo1U926ddWhQwdNmTJFISEhOnnypFavXq0OHTqoVq1ambo+AAAAAMiIbPk0wfjx4/Xiiy9qwoQJqlSpkrp166bExES1b99eI0aM0NChQ1WtWjXt2LFD48ePz3T/b7zxhho2bKj//Oc/atasmRo0aKCaNWvetr2Tk5OWL1+u5ORk1alTRwMGDLDNjHlTRmp74okn1KpVKzVp0kR+fn5auHChTCaTVq9erYYNG6pfv36qUKGCnnzyScXHx8vf3z/T1wYAAAAAGWEy7uVHaMhSVqtVFotFGjtWcnfP6XIAAAAcjjFxYk6XAGSJm9kgKSnprpMxZsvIHAAAAAAgexHmAAAAAMABZfkEKLh3SeHhdx1KBQAAAACJkTkAAAAAcEiEOQAAAABwQIQ5AAAAAHBA/GYuF7FERfFpAgAAgGzApwuQFzEyBwAAAAAOiDAHAAAAAA6IMAcAAAAADijfhTmTyaQVK1Zk6zmio6NlMpl07ty5bD0PAAAAgPwr34U5AAAAAMgLCHMAAAAA4IAcNswtWbJEoaGh8vDwUOHChdWsWTNdvHhRkvTJJ5+oSpUqMpvNCggI0NChQ+2OPX36tDp27ChPT0+VL19eX3/9td3+LVu2qE6dOrbjx44dq+vXr9v2Jycna9iwYSpatKjc3d3VoEED7d69O/svGgAAAAD+P4cMcwkJCerevbv69eun2NhYRUdHq1OnTjIMQ7Nnz9Zzzz2nQYMG6eDBg/r6668VHBxsd3xkZKS6du2qAwcOqHXr1urRo4fOnj0rSfrzzz/VunVr1a5dWz/++KNmz56tjz/+WK+99prt+NGjR2vp0qWaP3++9u3bp+DgYLVs2dLWx90kJyfLarXaLQAAAACQGSbDMIycLiKz9u3bp5o1ayo+Pl6lS5e221eiRAk9/fTTduHr30wmk8aNG6dXX31VknTx4kX5+Pho9erVatWqlV5++WUtXbpUsbGxMplMkqRZs2ZpzJgxSkpK0uXLl1WwYEHNmzdPTz31lCTp2rVrCgoK0vDhwzVq1ChFR0erSZMm+ueff1SgQIE0NURERCgyMjJtcWPH8tFwAACAbMBHw+EorFarLBaLkpKS5Ovre8e2DjkyFxYWpqZNmyo0NFRdunTRnDlz9M8//ygxMVEnT55U06ZN73h81apVbX97eXnJx8dHiYmJkqTY2FjVrVvXFuQkqX79+rpw4YL++OMPxcXF6dq1a6pfv75tv6urq+rUqaPY2NgM1R8eHq6kpCTbcuLEicxcPgAAAAA4ZphzdnbWhg0btGbNGlWuXFnvvPOOQkJC9Ndff2XoeFdXV7t1k8mk1NRUSZJhGHZB7ua2m+3+/fetbW7ddjtms1m+vr52CwAAAABkhkOGOelGmKpfv74iIyO1f/9+ubm5acOGDQoKCtLGjRvvud/KlStrx44d+vfbpzt27JCPj49KlCih4OBgubm56bvvvrPtv3btmvbs2aNKlSrd1zUBAAAAQEa55HQB92Lnzp3auHGjWrRooaJFi2rnzp36+++/ValSJUVERGjw4MEqWrSoHn/8cZ0/f17bt2/X888/n6G+hwwZohkzZuj555/X0KFDdfjwYU2cOFEjR46Uk5OTvLy89Oyzz2rUqFEqVKiQSpUqpalTp+rSpUvq379/Nl85AAAAANzgkGHO19dXW7du1YwZM2S1WlW6dGlNmzZNjz/+uCTpypUrmj59ul566SUVKVJEnTt3znDfJUqU0OrVqzVq1CiFhYWpUKFC6t+/v8aNG2dr8/rrrys1NVW9evXS+fPnVatWLa1bt04FCxbM8msFAAAAgPQ45GyWec3NGWuYzRIAACB7MJslHEWen80SAAAAAPI7h3zNMq9KCg9nZksAAAAAGcLIHAAAAAA4IMIcAAAAADggwhwAAAAAOCB+M5eLWKKimM0SAADgAWKWSzgyRuYAAAAAwAER5gAAAADAARHmAAAAAMABEeYAAAAAwAER5rKQyWTSihUrcroMAAAAAPkAYQ4AAAAAHFC+CXONGzfWsGHDNHr0aBUqVEjFihVTRESEbX9SUpIGDRqkokWLytfXV4899ph+/PFHuz6++eYb1axZU+7u7ipbtqwiIyN1/fp1SVJQUJAkqWPHjjKZTLZ1AAAAAMgO+SbMSdL8+fPl5eWlnTt3aurUqXrllVe0YcMGGYahNm3a6NSpU1q9erX27t2rGjVqqGnTpjp79qwkad26derZs6eGDRumQ4cO6YMPPtC8efM0adIkSdLu3bslSXPnzlVCQoJtPT3JycmyWq12CwAAAABkhskwDCOni3gQGjdurJSUFG3bts22rU6dOnrsscfUokULdezYUYmJiTKbzbb9wcHBGj16tAYNGqSGDRvq8ccfV3h4uG3/Z599ptGjR+vkyZOSbvxmbvny5erQocMda4mIiFBkZGTaHWPH8tFwAACAB4iPhiO3sVqtslgsSkpKkq+v7x3bujygmnKFqlWr2q0HBAQoMTFRe/fu1YULF1S4cGG7/ZcvX1ZcXJwkae/evdq9e7dtJE6SUlJSdOXKFV26dEmenp4ZriM8PFwjR460rVutVgUGBt7LJQEAAADIp/JVmHN1dbVbN5lMSk1NVWpqqgICAhQdHZ3mmAIFCkiSUlNTFRkZqU6dOqVp457J0TSz2Ww3AggAAAAAmZWvwtzt1KhRQ6dOnZKLi8ttJy6pUaOGDh8+rODg4Nv24+rqqpSUlGyqEgAAAAD+D2FOUrNmzVS3bl116NBBU6ZMUUhIiE6ePKnVq1erQ4cOqlWrliZMmKC2bdsqMDBQXbp0kZOTkw4cOKCDBw/qtddek3RjRsuNGzeqfv36MpvNKliwYA5fGQAAAIC8Kl/NZnk7JpNJq1evVsOGDdWvXz9VqFBBTz75pOLj4+Xv7y9JatmypVauXKkNGzaodu3aeuSRR/TWW2+pdOnStn6mTZumDRs2KDAwUNWrV8+pywEAAACQD+Sb2Sxzs5sz1jCbJQAAwIPFbJbIbTIzmyUjcwAAAADggPjNXC6SFB5+1/QNAAAAABIjcwAAAADgkAhzAAAAAOCACHMAAAAA4ID4zVwuYomKYjZLAACAHMLMlnA0jMwBAAAAgAMizAEAAACAAyLMAQAAAIADyndhzmQyacWKFbfdHx0dLZPJpHPnzj2wmgAAAAAgs/JdmLubevXqKSEhQRaLJadLAQAAAIDbylNh7tq1a/fdh5ubm4oVKyaTyZQFFQEAAABA9sjVYW7t2rVq0KCBChQooMKFC6tt27aKi4uTJMXHx8tkMunLL79U48aN5e7urs8++0yS9Mknn6hKlSoym80KCAjQ0KFD7fo9ffq0OnbsKE9PT5UvX15ff/21bd+/X7NMSkqSh4eH1q5da3f8smXL5OXlpQsXLkiS/vzzT3Xr1k0FCxZU4cKF1b59e8XHx2fjnQEAAACQ3+XqMHfx4kWNHDlSu3fv1saNG+Xk5KSOHTsqNTXV1mbMmDEaNmyYYmNj1bJlS82ePVvPPfecBg0apIMHD+rrr79WcHCwXb+RkZHq2rWrDhw4oNatW6tHjx46e/ZsmvNbLBa1adNGn3/+ud32L774Qu3bt5e3t7cuXbqkJk2ayNvbW1u3btV3330nb29vtWrVSlevXk33upKTk2W1Wu0WAAAAAMiMXP3R8CeeeMJu/eOPP1bRokV16NAheXt7S5KGDx+uTp062dq89tprevHFF/XCCy/YttWuXduun759+6p79+6SpMmTJ+udd97Rrl271KpVqzQ19OjRQ71799alS5fk6ekpq9WqVatWaenSpZKkRYsWycnJSR999JHt1cy5c+eqQIECio6OVosWLdL0GRUVpcjIyHu5JQAAAAAgKZePzMXFxempp55S2bJl5evrqzJlykiSjh8/bmtTq1Yt29+JiYk6efKkmjZtesd+q1atavvby8tLPj4+SkxMTLdtmzZt5OLiYnsVc+nSpfLx8bGFtL179+rXX3+Vj4+PvL295e3trUKFCunKlSu2V0JvFR4erqSkJNty4sSJDNwNAAAAAPg/uXpkrl27dgoMDNScOXNUvHhxpaam6qGHHrJ7fdHLy8v2t4eHR4b6dXV1tVs3mUx2r27+m5ubmzp37qwvvvhCTz75pL744gt169ZNLi43bl1qaqpq1qyZ5lVMSfLz80u3T7PZLLPZnKFaAQAAACA9uTbMnTlzRrGxsfrggw/06KOPSpK+++67Ox7j4+OjoKAgbdy4UU2aNMmyWnr06KEWLVro559/1ubNm/Xqq6/a9tWoUUOLFy9W0aJF5evrm2XnBAAAAIA7ybWvWd6cGfLDDz/Ur7/+qk2bNmnkyJF3PS4iIkLTpk3T22+/raNHj2rfvn1655137quWRo0ayd/fXz169FBQUJAeeeQR274ePXqoSJEiat++vbZt26Zjx45py5YteuGFF/THH3/c13kBAAAA4HZybZhzcnLSokWLtHfvXj300EMaMWKE3njjjbse16dPH82YMUOzZs1SlSpV1LZtWx09evS+ajGZTOrevbt+/PFH9ejRw26fp6entm7dqlKlSqlTp06qVKmS+vXrp8uXLzNSBwAAACDbmAzDMHK6iPzOarXKYrFIY8dK7u45XQ4AAEC+ZEycmNMlALZskJSUdNfBoVw7MgcAAAAAuL1cOwFKfpQUHs6rmQAAAAAyhJE5AAAAAHBAhDkAAAAAcECEOQAAAABwQIQ5AAAAAHBATICSi1iiovg0AQAAQA7jEwVwFIzMAQAAAIADIswBAAAAgAMizAEAAACAAyLMAQAAAIADIswBAAAAgAMizN1FUFCQZsyYYbetWrVqioiIkCT98ssvatCggdzd3VW5cmV9++23MplMWrFixQOvFQAAAED+wacJ7kNqaqo6dOigUqVKaefOnTp//rxefPHFux6XnJys5ORk27rVas3OMgEAAADkQYzM3Yf169crLi5OCxYsUFhYmBo0aKBJkybd9bioqChZLBbbEhgY+ACqBQAAAJCXEObuw+HDhxUYGKhixYrZttWpU+eux4WHhyspKcm2nDhxIjvLBAAAAJAH8ZrlXTg5OckwDLtt165dkyQZhiGTyZTpPs1ms8xmc5bUBwAAACB/YmTuLvz8/JSQkGBbt1qtOnbsmCSpYsWKOn78uP766y/b/t27dz/wGgEAAADkP4S5u3jsscf06aefatu2bfrpp5/Up08fOTs7S5KaN2+ucuXKqU+fPjpw4IC2b9+ul19+WZLuacQOAAAAADKKMHcX4eHhatiwodq2bavWrVurQ4cOKleunCTJ2dlZK1as0IULF1S7dm0NGDBA48aNkyS5u7vnZNkAAAAA8jh+M3cXvr6+Wrx4sd22Pn362P6uWLGivvvuO9v69u3bJUnBwcEPpkAAAAAA+RJh7j4tX75c3t7eKl++vH799Ve98MILql+/vm30DgAAAACyA2HuPp0/f16jR4/WiRMnVKRIETVr1kzTpk3L6bIAAAAA5HEm49Z59/HAWa1WWSwWJSUlydfXN6fLAQAAAJBDMpMNmAAFAAAAABwQYQ4AAAAAHBBhDgAAAAAcEBOg5CKWqCiJ79MBAADkacbEiTldAvIIRuYAAAAAwAER5gAAAADAARHmAAAAAMAB5XiYa9y4sYYPH55t/UdERKhatWrZ1j8AAAAA5IQcD3PLli3Tq6++miV9mUwmrVixwm7bSy+9pI0bN9rW+/btqw4dOmS673nz5qlAgQL3VyAAAAAAZJEcn82yUKFC2dq/t7e3vL29s/UcAAAAAPCg5fjI3L9fswwKCtLkyZPVr18/+fj4qFSpUvrwww9tba9evaqhQ4cqICBA7u7uCgoKUlRUlO1YSerYsaNMJpNt/d+vWUZERGj+/Pn63//+J5PJJJPJpOjoaEVHR8tkMuncuXO2c8XExMhkMik+Pl7R0dF6+umnlZSUZDsuIiLCVtPo0aNVokQJeXl56eGHH1Z0dPQdrzk5OVlWq9VuAQAAAIDMyPEwd6tp06apVq1a2r9/v4YMGaJnn31Wv/zyiyTp7bff1tdff60vv/xShw8f1meffWYLbbt375YkzZ07VwkJCbb1f3vppZfUtWtXtWrVSgkJCUpISFC9evXuWlO9evU0Y8YM+fr62o576aWXJElPP/20tm/frkWLFunAgQPq0qWLWrVqpaNHj962v6ioKFksFtsSGBiY2dsEAAAAIJ/L8dcsb9W6dWsNGTJEkjRmzBhNnz5d0dHRqlixoo4fP67y5curQYMGMplMKl26tO04Pz8/SVKBAgVUrFixdPv29vaWh4eHkpOTb9smPW5ubrJYLDKZTHbHxcXFaeHChfrjjz9UvHhxSTcC49q1azV37lxNnjw53f7Cw8M1cuRI27rVaiXQAQAAAMiUXBfmqlatavv7ZnhKTEyUdGPykubNmyskJEStWrVS27Zt1aJFi5wqVfv27ZNhGKpQoYLd9uTkZBUuXPi2x5nNZpnN5uwuDwAAAEAeluvCnKurq926yWRSamqqJKlGjRo6duyY1qxZo2+//VZdu3ZVs2bNtGTJkvs6p5PTjbdNDcOwbbt27dpdj0tNTZWzs7P27t0rZ2dnu31MugIAAAAgO+W6MHc3vr6+6tatm7p166bOnTurVatWOnv2rAoVKiRXV1elpKTc8Xg3N7c0bW6+opmQkKCCBQtKujEByt2Oq169ulJSUpSYmKhHH330Pq8MAAAAADIu102AcifTp0/XokWL9Msvv+jIkSP66quvVKxYMdv334KCgrRx40adOnVK//zzT7p9BAUF6cCBAzp8+LBOnz6ta9euKTg4WIGBgYqIiNCRI0e0atUqTZs2Lc1xFy5c0MaNG3X69GldunRJFSpUUI8ePdS7d28tW7ZMx44d0+7duzVlyhStXr06u28HAAAAgHzMocKct7e3pkyZolq1aql27dqKj4/X6tWrba9JTps2TRs2bFBgYKCqV6+ebh8DBw5USEiIatWqJT8/P23fvl2urq5auHChfvnlF4WFhWnKlCl67bXX7I6rV6+eBg8erG7dusnPz09Tp06VdGP2zN69e+vFF19USEiI/vOf/2jnzp1MaAIAAAAgW5mMf/9QDDnCarXKYrFIY8dK7u45XQ4AAACykTFxYk6XgFzsZjZISkqSr6/vHds61MgcAAAAAOAGh5sAJS9LCg+/a/oGAAAAAImROQAAAABwSIQ5AAAAAHBAhDkAAAAAcED8Zi4XsURFMZslAABAPsCMlsgKjMwBAAAAgAMizAEAAACAAyLMAQAAAIADIsxlUuPGjTV8+HBJUlBQkGbMmJGj9QAAAADIn5gAJZOWLVsmV1dXSdLu3bvl5eVl22cymbR8+XJ16NAhh6oDAAAAkF8Q5jKpUKFCtr/9/PxysBIAAAAA+RmvWWbS7V6zDAoKkiR17NhRJpPJtg4AAAAA2YGRuSyye/duFS1aVHPnzlWrVq3k7Ox827bJyclKTk62rVut1gdRIgAAAIA8hJG5LHLzlcsCBQqoWLFid3wFMyoqShaLxbYEBgY+qDIBAAAA5BGEuRwQHh6upKQk23LixImcLgkAAACAg+E1yxxgNptlNptzugwAAAAADoyRuSzk6uqqlJSUnC4DAAAAQD5AmMtCQUFB2rhxo06dOqV//vknp8sBAAAAkIcR5rLQtGnTtGHDBgUGBqp69eo5XQ4AAACAPIzfzGVSdHS07e/4+Hi7fe3atVO7du0ebEEAAAAA8iVG5gAAAADAATEyl4skhYfL19c3p8sAAAAA4AAYmQMAAAAAB0SYAwAAAAAHRJgDAAAAAAfEb+ZyEUtUlOTuntNlAAAAwAEZEyfmdAl4wBiZAwAAAAAHRJgDAAAAAAdEmAMAAAAAB5Qrw1x0dLRMJpPOnTuXo3U0btxYw4cPz9EaAAAAACA9uXIClHr16ikhIUEWiyVH61i2bJlcXV1t60FBQRo+fDgBDwAAAECOy5Vhzs3NTcWKFcvWc1y9elVubm53bFOoUKFsrQEAAAAA7lW2vGYZFBSkGTNm2G2rVq2aIiIiJEkmk0kfffSROnbsKE9PT5UvX15ff/21re2/X7NMSkqSh4eH1q5da9ffsmXL5OXlpQsXLkiS/vzzT3Xr1k0FCxZU4cKF1b59e8XHx9va9+3bVx06dFBUVJSKFy+uChUqSJJmzZql8uXLy93dXf7+/urcubPtmH+/Ztm4cWP9/vvvGjFihEwmk0wmky5evChfX18tWbLErrZvvvlGXl5eOn/+/P3cRgAAAAC4rRz7zVxkZKS6du2qAwcOqHXr1urRo4fOnj2bpp3FYlGbNm30+eef223/4osv1L59e3l7e+vSpUtq0qSJvL29tXXrVn333Xfy9vZWq1atdPXqVdsxGzduVGxsrDZs2KCVK1dqz549GjZsmF555RUdPnxYa9euVcOGDdOtd9myZSpZsqReeeUVJSQkKCEhQV5eXnryySc1d+5cu7Zz585V586d5ePjk25fycnJslqtdgsAAAAAZEaOhbm+ffuqe/fuCg4O1uTJk3Xx4kXt2rUr3bY9evTQihUrdOnSJUmS1WrVqlWr1LNnT0nSokWL5OTkpI8++kihoaGqVKmS5s6dq+PHjys6OtrWj5eXlz766CNVqVJFDz30kI4fPy4vLy+1bdtWpUuXVvXq1TVs2LB0ayhUqJCcnZ3l4+OjYsWK2V4DHTBggNatW6eTJ09Kkk6fPq2VK1eqX79+t732qKgoWSwW2xIYGJjp+wcAAAAgf8uxMFe1alXb315eXvLx8VFiYmK6bdu0aSMXFxfbq5hLly6Vj4+PWrRoIUnau3evfv31V/n4+Mjb21ve3t4qVKiQrly5ori4OFs/oaGhdr+Ta968uUqXLq2yZcuqV69e+vzzz22BMaPq1KmjKlWqaMGCBZKkTz/9VKVKlbrtCJ8khYeHKykpybacOHEiU+cEAAAAgGwJc05OTjIMw27btWvX7Nb/PUukdON3dKmpqen25+bmps6dO+uLL76QdOMVy27dusnF5cb8LampqapZs6ZiYmLsliNHjuipp56y9ePl5WXXr4+Pj/bt26eFCxcqICBAEyZMUFhYWKY/iTBgwADbq5Zz587V008/LZPJdNv2ZrNZvr6+dgsAAAAAZEa2hDk/Pz8lJCTY1q1Wq44dO3Zfffbo0UNr167Vzz//rM2bN6tHjx62fTVq1NDRo0dVtGhRBQcH2y13+7yBi4uLmjVrpqlTp+rAgQOKj4/Xpk2b0m3r5uamlJSUNNt79uyp48eP6+2339bPP/+sPn363Ne1AgAAAMDdZEuYe+yxx/Tpp59q27Zt+umnn9SnTx85OzvfV5+NGjWSv7+/evTooaCgID3yyCO2fT169FCRIkXUvn17bdu2TceOHdOWLVv0wgsv6I8//rhtnytXrtTbb7+tmJgY/f7771qwYIFSU1MVEhKSbvugoCBt3bpVf/75p06fPm3bXrBgQXXq1EmjRo1SixYtVLJkyfu6VgAAAAC4m2wJc+Hh4WrYsKHatm2r1q1bq0OHDipXrtx99WkymdS9e3f9+OOPdqNykuTp6amtW7eqVKlS6tSpkypVqqR+/frp8uXLd3yFsUCBAlq2bJkee+wxVapUSe+//74WLlyoKlWqpNv+lVdeUXx8vMqVKyc/Pz+7ff3799fVq1fvOPEJAAAAAGQVk3Hrj9twTz7//HO98MILOnny5F0/Rn4rq9V643XQsWMld/dsqhAAAAB5mTFxYk6XgCxwMxskJSXddW4NlwdUU5516dIlHTt2TFFRUXrmmWcyHeQAAAAA4F4wMnefIiIiNGnSJDVs2FD/+9//5O3tnek+MpO+AQAAAORdmckGhLlcgDAHAAAAQMpcNsixj4YDAAAAAO4dYQ4AAAAAHBBhDgAAAAAcELNZ5iKWqCg+TQAAAIA8j88oZA1G5gAAAADAARHmAAAAAMAB5dswN2/ePBUoUCCnywAAAACAe+JQYa5v377q0KFDTpdxW9HR0TKZTDp37lxOlwIAAAAgj3OoMAcAAAAAuCFXhrklS5YoNDRUHh4eKly4sJo1a6ZRo0Zp/vz5+t///ieTySSTyaTo6Oh0R8NiYmJkMpkUHx9v2zZv3jyVKlVKnp6e6tixo86cOZPmvN98841q1qwpd3d3lS1bVpGRkbp+/bptv8lk0kcffaSOHTvK09NT5cuX19dffy1Jio+PV5MmTSRJBQsWlMlkUt++fbPl/gAAAABArgtzCQkJ6t69u/r166fY2FhFR0erU6dOmjhxorp27apWrVopISFBCQkJqlevXob63Llzp/r166chQ4YoJiZGTZo00WuvvWbXZt26derZs6eGDRumQ4cO6YMPPtC8efM0adIku3aRkZHq2rWrDhw4oNatW6tHjx46e/asAgMDtXTpUknS4cOHlZCQoJkzZ6ZbT3JysqxWq90CAAAAAJmRK8Pc9evX1alTJwUFBSk0NFRDhgyRt7e3PDw8ZDabVaxYMRUrVkxubm4Z6nPmzJlq2bKlxo4dqwoVKmjYsGFq2bKlXZtJkyZp7Nix6tOnj8qWLavmzZvr1Vdf1QcffGDXrm/fvurevbuCg4M1efJkXbx4Ubt27ZKzs7MKFSokSSpatKiKFSsmi8WSbj1RUVGyWCy2JTAw8B7uFAAAAID8LNeFubCwMDVt2lShoaHq0qWL5syZo3/++ee++oyNjVXdunXttt26vnfvXr3yyivy9va2LQMHDlRCQoIuXbpka1e1alXb315eXvLx8VFiYmKm6gkPD1dSUpJtOXHixD1cFQAAAID8zCWnC7iVs7OzNmzYoB07dmj9+vV655139PLLL2vnzp3ptndyupFHDcOwbbt27Zpdm3/vu53U1FRFRkaqU6dOafa5u7vb/nZ1dbXbZzKZlJqaetf+/81sNstsNmfqGAAAAAD4t1wX5qQbAal+/fqqX7++JkyYoNKlS2v58uVyc3NTSkqKXVs/Pz9JN17PLFiwoKQbE6D8W+XKlfXDDz/Ybbt1vUaNGjp8+LCCg4Pvue6br33eWiMAAAAAZLVcF+Z27typjRs3qkWLFipatKh27typv//+W5UqVdKVK1e0bt06HT58WIULF5bFYlFwcLACAwMVERGh1157TUePHtW0adPs+hw2bJjq1aunqVOnqkOHDlq/fr3Wrl1r12bChAlq27atAgMD1aVLFzk5OenAgQM6ePBgmslSbqd06dIymUxauXKlWrduLQ8PD3l7e2fZvQEAAACAm3Ldb+Z8fX21detWtW7dWhUqVNC4ceM0bdo0Pf744xo4cKBCQkJUq1Yt+fn5afv27XJ1ddXChQv1yy+/KCwsTFOmTEkTvh555BF99NFHeuedd1StWjWtX79e48aNs2vTsmVLrVy5Uhs2bFDt2rX1yCOP6K233lLp0qUzXHuJEiUUGRmpsWPHyt/fX0OHDs2SewIAAAAAtzIZGflBGbKV1Wq9MfPl2LHSv36fBwAAAORFxsSJOV1CrnUzGyQlJcnX1/eObXPdyBwAAAAA4O4IcwAAAADggHLdBCj5WVJ4+F2HUgEAAABAYmQOAAAAABwSYQ4AAAAAHBBhDgAAAAAcEL+Zy0UsUVF8mgAAAAB4gBz5MwmMzAEAAACAAyLMAQAAAIADIswBAAAAgAMizAEAAACAAyLMAQAAAIADynNhzjAMTZ06VWXLlpWHh4fCwsK0ZMkSGYahZs2aqVWrVjIMQ5J07tw5lSpVSi+//LIkKSUlRf3791eZMmXk4eGhkJAQzZw5067/vn37qkOHDpo8ebL8/f1VoEABRUZG6vr16xo1apQKFSqkkiVL6pNPPnng1w4AAAAg/8hznyYYN26cli1bptmzZ6t8+fLaunWrevbsKT8/P82fP1+hoaF6++239cILL2jw4MHy9/dXRESEJCk1NVUlS5bUl19+qSJFimjHjh0aNGiQAgIC1LVrV9s5Nm3apJIlS2rr1q3avn27+vfvr++//14NGzbUzp07tXjxYg0ePFjNmzdXYGBgmhqTk5OVnJxsW7dardl+XwAAAADkLSbj5jBVHnDx4kUVKVJEmzZtUt26dW3bBwwYoEuXLumLL77QV199pV69emnkyJGaOXOm9u/frwoVKty2z+eee05//fWXlixZIunGyFx0dLR+++03OTndGNisWLGiihYtqq1bt0q6McJnsVj00Ucf6cknn0zTZ0REhCIjI9OebOxYvjMHAAAAPEC57TtzVqtVFotFSUlJ8vX1vWPbPDUyd+jQIV25ckXNmze323716lVVr15dktSlSxctX75cUVFRmj17dpog9/777+ujjz7S77//rsuXL+vq1auqVq2aXZsqVarYgpwk+fv766GHHrKtOzs7q3DhwkpMTEy3zvDwcI0cOdK2brVa0x3BAwAAAIDbyVNhLjU1VZK0atUqlShRwm6f2WyWJF26dEl79+6Vs7Ozjh49atfmyy+/1IgRIzRt2jTVrVtXPj4+euONN7Rz5067dq6urnbrJpMp3W0367mV2Wy21QMAAAAA9yJPhbnKlSvLbDbr+PHjatSoUbptXnzxRTk5OWnNmjVq3bq12rRpo8cee0yStG3bNtWrV09DhgyxtY+Li3sgtQMAAABAZuSpMOfj46OXXnpJI0aMUGpqqho0aCCr1aodO3bI29tbRYoU0SeffKLvv/9eNWrU0NixY9WnTx8dOHBABQsWVHBwsBYsWKB169apTJky+vTTT7V7926VKVMmpy8NAAAAAOzkuU8TvPrqq5owYYKioqJUqVIltWzZUt98842CgoLUv39/RUREqEaNGpKkiRMnqnjx4ho8eLAkafDgwerUqZO6deumhx9+WGfOnLEbpQMAAACA3CJPzWbpqG7OWMNslgAAAMCD5cizWea5kTkAAAAAyA8IcwAAAADggPLUBCiOLik8/K5DqQAAAAAgMTIHAAAAAA6JMAcAAAAADogwBwAAAAAOiDAHAAAAAA6IMAcAAAAADogwBwAAAAAOiDAHAAAAAA6IMAcAAAAADogwBwAAAAAOiDAHAAAAAA6IMAcAAAAADogwBwAAAAAOiDAHAAAAAA6IMAcAAAAADogwBwAAAAAOiDAHAAAAAA6IMAcAAAAADogwBwAAAAAOiDAHAAAAAA7IJacLgGQYhiTJarXmcCUAAAAActLNTHAzI9wJYS4XOHPmjCQpMDAwhysBAAAAkBucP39eFovljm0Ic7lAoUKFJEnHjx+/6z8Y7p/ValVgYKBOnDghX1/fnC4nT+NePzjc6weHe/1gcb8fHO71g8O9frAc7X4bhqHz58+rePHid21LmMsFnJxu/HTRYrE4xAOWV/j6+nK/HxDu9YPDvX5wuNcPFvf7weFePzjc6wfLke53Rgd4mAAFAAAAABwQYQ4AAAAAHBBhLhcwm82aOHGizGZzTpeSL3C/Hxzu9YPDvX5wuNcPFvf7weFePzjc6wcrL99vk5GROS8BAAAAALkKI3MAAAAA4IAIcwAAAADggAhzAAAAAOCACHMAAAAA4IAIcw/IrFmzVKZMGbm7u6tmzZratm3bHdtv2bJFNWvWlLu7u8qWLav333//AVXq+DJzr6Ojo2UymdIsv/zyywOs2DFt3bpV7dq1U/HixWUymbRixYq7HsNzfe8ye795tu9NVFSUateuLR8fHxUtWlQdOnTQ4cOH73ocz/a9uZf7zbN9b2bPnq2qVavaPppct25drVmz5o7H8Fzfm8zea57prBMVFSWTyaThw4ffsV1eerYJcw/A4sWLNXz4cL388svav3+/Hn30UT3++OM6fvx4uu2PHTum1q1b69FHH9X+/fv13//+V8OGDdPSpUsfcOWOJ7P3+qbDhw8rISHBtpQvX/4BVey4Ll68qLCwML377rsZas9zfX8ye79v4tnOnC1btui5557TDz/8oA0bNuj69etq0aKFLl68eNtjeLbv3b3c75t4tjOnZMmSev3117Vnzx7t2bNHjz32mNq3b6+ff/453fY81/cus/f6Jp7p+7N79259+OGHqlq16h3b5bln20C2q1OnjjF48GC7bRUrVjTGjh2bbvvRo0cbFStWtNv2zDPPGI888ki21ZhXZPZeb9682ZBk/PPPPw+gurxLkrF8+fI7tuG5zjoZud8821kjMTHRkGRs2bLltm14trNORu43z3bWKViwoPHRRx+lu4/nOmvd6V7zTN+/8+fPG+XLlzc2bNhgNGrUyHjhhRdu2zavPduMzGWzq1evau/evWrRooXd9hYtWmjHjh3pHvP999+nad+yZUvt2bNH165dy7ZaHd293OubqlevroCAADVt2lSbN2/OzjLzLZ7rnMGzfX+SkpIkSYUKFbptG57trJOR+30Tz/a9S0lJ0aJFi3Tx4kXVrVs33TY811kjI/f6Jp7pe/fcc8+pTZs2atas2V3b5rVnmzCXzU6fPq2UlBT5+/vbbff399epU6fSPebUqVPptr9+/bpOnz6dbbU6unu51wEBAfrwww+1dOlSLVu2TCEhIWratKm2bt36IErOV3iuHyye7ftnGIZGjhypBg0a6KGHHrptO57trJHR+82zfe8OHjwob29vmc1mDR48WMuXL1flypXTbctzfX8yc695pu/PokWLtG/fPkVFRWWofV57tl1yuoD8wmQy2a0bhpFm293ap7cdaWXmXoeEhCgkJMS2XrduXZ04cUJvvvmmGjZsmK115kc81w8Oz/b9Gzp0qA4cOKDvvvvurm15tu9fRu83z/a9CwkJUUxMjM6dO6elS5eqT58+2rJly21DBs/1vcvMveaZvncnTpzQCy+8oPXr18vd3T3Dx+WlZ5uRuWxWpEgROTs7pxkZSkxMTPP/CtxUrFixdNu7uLiocOHC2Varo7uXe52eRx55REePHs3q8vI9nuucx7Odcc8//7y+/vprbd68WSVLlrxjW57t+5eZ+50enu2McXNzU3BwsGrVqqWoqCiFhYVp5syZ6bblub4/mbnX6eGZzpi9e/cqMTFRNWvWlIuLi1xcXLRlyxa9/fbbcnFxUUpKSppj8tqzTZjLZm5ubqpZs6Y2bNhgt33Dhg2qV69eusfUrVs3Tfv169erVq1acnV1zbZaHd293Ov07N+/XwEBAVldXr7Hc53zeLbvzjAMDR06VMuWLdOmTZtUpkyZux7Ds33v7uV+p4dn+94YhqHk5OR09/FcZ6073ev08ExnTNOmTXXw4EHFxMTYllq1aqlHjx6KiYmRs7NzmmPy3LOdI9Ou5DOLFi0yXF1djY8//tg4dOiQMXz4cMPLy8uIj483DMMwxo4da/Tq1cvW/rfffjM8PT2NESNGGIcOHTI+/vhjw9XV1ViyZElOXYLDyOy9nj59urF8+XLjyJEjxk8//WSMHTvWkGQsXbo0py7BYZw/f97Yv3+/sX//fkOS8dZbbxn79+83fv/9d8MweK6zWmbvN8/2vXn22WcNi8ViREdHGwkJCbbl0qVLtjY821nnXu43z/a9CQ8PN7Zu3WocO3bMOHDggPHf//7XcHJyMtavX28YBs91VsrsveaZzlq3zmaZ159twtwD8t577xmlS5c23NzcjBo1athNu9ynTx+jUaNGdu2jo6ON6tWrG25ubkZQUJAxe/bsB1yx48rMvZ4yZYpRrlw5w93d3ShYsKDRoEEDY9WqVTlQteO5OZXyrUufPn0Mw+C5zmqZvd882/cmvXssyZg7d66tDc921rmX+82zfW/69etn++9GPz8/o2nTprZwYRg811kps/eaZzpr3Rrm8vqzbTKM//+LPwAAAACAw+A3cwAAAADggAhzAAAAAOCACHMAAAAA4IAIcwAAAADggAhzAAAAAOCACHMAAAAA4IAIcwAAAADggAhzAAAAAOCACHMAgHwpOjpaJpNJ586du69+GjdurOHDh9+xTVBQkGbMmGFbN5lMWrFihSQpPj5eJpNJMTEx91XH/Zg3b54KFChgt+3DDz9UYGCgnJycbLWntw0AkHMIcwCADOvbt686dOjwQM85b948mUwm2xIQEKCuXbvq2LFjD7SO+7F7924NGjQo3X2BgYFKSEjQQw89JCnrQqYku/vm5eWl8uXLq2/fvtq7d69du27duunIkSO2davVqqFDh2rMmDH6888/NWjQoHS3AQByFmEOAJDr+fr6KiEhQSdPntQXX3yhmJgY/ec//1FKSkqatoZh6Pr16zlQ5e35+fnJ09Mz3X3Ozs4qVqyYXFxcsuXcc+fOVUJCgn7++We99957unDhgh5++GEtWLDA1sbDw0NFixa1rR8/flzXrl1TmzZtFBAQIE9Pz3S33Ytr167d9zUBAG4gzAEAssyWLVtUp04dmc1mBQQEaOzYsXbB6vz58+rRo4e8vLwUEBCg6dOnZ+g1RZPJpGLFiikgIEBNmjTRxIkT9dNPP+nXX3+1jWStW7dOtWrVktls1rZt25ScnKxhw4apaNGicnd3V4MGDbR79+40fW/fvl1hYWFyd3fXww8/rIMHD9r2nTlzRt27d1fJkiXl6emp0NBQLVy4ME0f169f19ChQ1WgQAEVLlxY48aNk2EYtv23vmb5b/9+zTI+Pl5NmjSRJBUsWFAmk0l9+/bVggULVLhwYSUnJ9sd+8QTT6h37953vHcFChRQsWLFFBQUpBYtWmjJkiXq0aOHhg4dqn/++UeS/WuW8+bNU2hoqCSpbNmyMplM6W6Lj4+XJH3zzTeqWbOm3N3dVbZsWUVGRtr9m5tMJr3//vtq3769vLy89Nprr2X4uI8++kgdO3aUp6enypcvr6+//tru2n7++We1adNGvr6+8vHx0aOPPqq4uDjb/rlz56pSpUpyd3dXxYoVNWvWrDveKwBwNIQ5AECW+PPPP9W6dWvVrl1bP/74o2bPnq2PP/7Y9j/eJWnkyJHavn27vv76a23YsEHbtm3Tvn37Mn0uDw8PSfajPKNHj1ZUVJRiY2NVtWpVjR49WkuXLtX8+fO1b98+BQcHq2XLljp79qxdX6NGjdKbb76p3bt3q2jRovrPf/5j6/fKlSuqWbOmVq5cqZ9++kmDBg1Sr169tHPnTrs+5s+fLxcXF+3cuVNvv/22pk+fro8++ijT1xUYGKilS5dKkg4fPqyEhATNnDlTXbp0UUpKil2YOX36tFauXKmnn3460+cZMWKEzp8/rw0bNqTZ161bN3377beSpF27dikhIUFdunRJsy0wMFDr1q1Tz549NWzYMB06dEgffPCB5s2bp0mTJtn1OXHiRLVv314HDx5Uv379MnxcZGSkunbtqgMHDqh169bq0aOH7d/vzz//VMOGDeXu7q5NmzZp79696tevny0QzpkzRy+//LImTZqk2NhYTZ48WePHj9f8+fMzfb8AINcyAADIoD59+hjt27dPd99///tfIyQkxEhNTbVte++99wxvb28jJSXFsFqthqurq/HVV1/Z9p87d87w9PQ0Xnjhhduec+7cuYbFYrGtnzhxwnjkkUeMkiVLGsnJycbmzZsNScaKFStsbS5cuGC4uroan3/+uW3b1atXjeLFixtTp041DMOwHbdo0SJbmzNnzhgeHh7G4sWLb1tP69atjRdffNG23qhRI6NSpUp21z1mzBijUqVKtvXSpUsb06dPt61LMpYvX24YhmEcO3bMkGTs37/frq5//vnH7rzPPvus8fjjj9vWZ8yYYZQtW9buvLf693n+7fLly4YkY8qUKYZhpL3H+/fvNyQZx44du+O2Rx991Jg8ebJd359++qkREBBgV8Pw4cPt2mT0uHHjxtnWL1y4YJhMJmPNmjWGYRhGeHi4UaZMGePq1avpXntgYKDxxRdf2G179dVXjbp166bbHgAcUfa8oA8AyHdiY2NVt25dmUwm27b69evrwoUL+uOPP/TPP//o2rVrqlOnjm2/xWJRSEjIXftOSkqSt7e3DMPQpUuXVKNGDS1btkxubm62NrVq1bL9HRcXp2vXrql+/fq2ba6urqpTp45iY2Pt+q5bt67t70KFCikkJMTWJiUlRa+//roWL16sP//8U8nJyUpOTpaXl5ddH4888ojdddetW1fTpk1TSkqKnJ2d73p9GTFw4EDVrl1bf/75p0qUKKG5c+eqb9++dufNKOP/vwJ6L8f+2969e7V79267EbWUlBRduXJFly5dsv2u7t//Npk5rmrVqrb9Xl5e8vHxUWJioiQpJiZGjz76qFxdXdPU9ffff+vEiRPq37+/Bg4caNt+/fp1WSyW+7pmAMhNCHMAgCxhGEaacPDv0HC7AGH867dlt+Pj46N9+/bJyclJ/v7+acKUJLttdzpXRgLMzTbTpk3T9OnTNWPGDIWGhsrLy0vDhw/X1atX79pHVqtevbrCwsK0YMECtWzZUgcPHtQ333xzT33dDKtlypS5r5pSU1MVGRmpTp06pdnn7u5u+/vWf6+MHndrUDOZTEpNTZX0f6/a3q4u6carlg8//LDdvqwK1wCQGxDmAABZonLlylq6dKldYNqxY4d8fHxUokQJFShQQK6urtq1a5cCAwMl3ZgC/+jRo2rUqNEd+3ZyclJwcHCGawkODpabm5u+++47PfXUU5Ju/L5uz549aSZb+eGHH1SqVClJ0j///KMjR46oYsWKkqRt27apffv26tmzp6QbIeHo0aOqVKlSmj5uXS9fvvw9BYebo43pzdQ5YMAATZ8+XX/++aeaNWtmu4+ZNWPGDPn6+v6/9u4lJLUtDgP4l1KUluGDHEg1CapBLwtHQZNCCqEggkBSQumFFkhK0cNyVJYS2SSaWPMgwoIaSBBERBTUJAtq4MRRJlEhQfcOLifyerm3xznHvHy/4Watvf+bPfpYa+0/GhsbPzX/B7VajVAo9KFv85V5b1VWVmJ1dRXPz89JoU+pVEKlUuH6+hp6vf7TzyAi+u4Y5oiI6ENisVhSg2uZTIaBgQEsLCzAarXCYrEgFArB6XTCZrNBIBAgLy8PRqMRdrsdMpkMBQUFcDqdEAgEX97u93disRj9/f2vzyoqKoLb7cbj4yNMJlPCWJfLBblcDqVSibGxMSgUitdeeiUlJVhfX8fBwQGkUim8Xi8ikUhSmAuHw7DZbOjt7cXJyQl8Ph88Hs+nai8uLkZGRgYCgQBaWlqQk5OD3NxcAIBer8fw8DBWVlYSWgv8m7u7O0QiEcTjcVxeXmJ5eRkbGxtYW1tLahT+UZOTk9DpdCgsLERHRwcEAgHOzs5wfn6e8OObnzXvLYvFAp/Ph87OToyOjiI/Px+Hh4fQaDQoLS3F1NQUBgcHIZFI0NzcjHg8juPjY0SjUdhsti+9NxHRd8EwR0REH7K3t4eampqEa0ajEX6/H9vb27Db7aiqqoJMJoPJZML4+PjrOK/Xi76+Puh0OkgkEjgcDoTD4YStdT/LzMwMXl5e0NXVhfv7e9TV1WFnZwdSqTRp3NDQEK6urlBVVYXNzc3X1bGJiQnc3NxAq9VCJBKhp6cHbW1tiMViCfcwGAx4enqCRqOBUCiE1Wr9dFNtlUqF6elpjIyMoLu7GwaDAX6/H8Bf/fba29uxtbX17ubtP/52mZ2dDZVKhfr6ehwdHUGtVn+qvre0Wi0CgQBcLhfcbjcyMzNRVlYGs9n8S+a9JZfLEQwGYbfb0dDQAKFQiOrq6tdzkmazGSKRCHNzc3A4HBCLxaioqPjPNhhEROkk44/3HFYgIiL6BR4eHqBSqeDxeJJWzOifNTU1oby8HIuLi6kuhYiIUowrc0RE9Nucnp7i4uICGo0GsVgMLpcLANDa2priyr6/29tb7O7uIhgMYmlpKdXlEBHRN8AwR0REv9X8/DxCoRCysrJQW1uL/f19KBSKVJf17anVakSjUczOzr6rnQMREf3/cZslERERERFRGhKkugAiIiIiIiL6OIY5IiIiIiKiNMQwR0RERERElIYY5oiIiIiIiNIQwxwREREREVEaYpgjIiIiIiJKQwxzREREREREaYhhjoiIiIiIKA39CTomfJifJDDfAAAAAElFTkSuQmCC",
      "text/plain": [
       "<Figure size 1000x600 with 1 Axes>"
      ]
     },
     "metadata": {},
     "output_type": "display_data"
    }
   ],
   "source": [
    "# Ensure TfidfVectorizer and Naive Bayes are fitted\n",
    "tfidf = TfidfVectorizer(max_features=1000)\n",
    "X_train_tfidf = tfidf.fit_transform(X_train['content'])\n",
    "X_test_tfidf = tfidf.transform(X_test['content'])\n",
    "\n",
    "nb = MultinomialNB()\n",
    "nb.fit(X_train_tfidf, y_train) \n",
    "\n",
    "# Get the feature names from TfidfVectorizer\n",
    "feature_names = tfidf.get_feature_names_out()\n",
    "\n",
    "# Calculate the difference of log probabilities for the classes\n",
    "class_diff = nb.feature_log_prob_\n",
    "\n",
    "# Visualize the differences between two specific classes\n",
    "if class_diff.shape[0] > 1:\n",
    "    importance = class_diff[1] - class_diff[0] \n",
    "else:\n",
    "    importance = class_diff[0]\n",
    "\n",
    "# Sort the features based on importance\n",
    "sorted_idx = importance.argsort()\n",
    "\n",
    "# Plot the most important features\n",
    "top_n = 20  # Number of features to display\n",
    "top_features = feature_names[sorted_idx[-top_n:]]  # Top features\n",
    "top_importance = importance[sorted_idx[-top_n:]]\n",
    "\n",
    "# Plot the top features\n",
    "plt.figure(figsize=(10, 6))\n",
    "plt.barh(top_features, top_importance, color='teal')\n",
    "plt.xlabel('Log Probability Difference')\n",
    "plt.title(f'Top {top_n} Important Features')\n",
    "plt.gca().invert_yaxis()  # Highest coefficients at the top\n",
    "plt.show()\n"
   ]
  },
  {
   "cell_type": "code",
   "execution_count": 107,
   "id": "429b36a6-9730-4dea-88a4-da2d11f20982",
=======
   "execution_count": 29,
   "id": "e606b6d4",
>>>>>>> main
   "metadata": {},
   "outputs": [
    {
     "data": {
      "text/html": [
       "<style>#sk-container-id-1 {\n",
       "  /* Definition of color scheme common for light and dark mode */\n",
<<<<<<< HEAD
       "  --sklearn-color-text: black;\n",
=======
       "  --sklearn-color-text: #000;\n",
       "  --sklearn-color-text-muted: #666;\n",
>>>>>>> main
       "  --sklearn-color-line: gray;\n",
       "  /* Definition of color scheme for unfitted estimators */\n",
       "  --sklearn-color-unfitted-level-0: #fff5e6;\n",
       "  --sklearn-color-unfitted-level-1: #f6e4d2;\n",
       "  --sklearn-color-unfitted-level-2: #ffe0b3;\n",
       "  --sklearn-color-unfitted-level-3: chocolate;\n",
       "  /* Definition of color scheme for fitted estimators */\n",
       "  --sklearn-color-fitted-level-0: #f0f8ff;\n",
       "  --sklearn-color-fitted-level-1: #d4ebff;\n",
       "  --sklearn-color-fitted-level-2: #b3dbfd;\n",
       "  --sklearn-color-fitted-level-3: cornflowerblue;\n",
       "\n",
       "  /* Specific color for light theme */\n",
       "  --sklearn-color-text-on-default-background: var(--sg-text-color, var(--theme-code-foreground, var(--jp-content-font-color1, black)));\n",
       "  --sklearn-color-background: var(--sg-background-color, var(--theme-background, var(--jp-layout-color0, white)));\n",
       "  --sklearn-color-border-box: var(--sg-text-color, var(--theme-code-foreground, var(--jp-content-font-color1, black)));\n",
       "  --sklearn-color-icon: #696969;\n",
       "\n",
       "  @media (prefers-color-scheme: dark) {\n",
       "    /* Redefinition of color scheme for dark theme */\n",
       "    --sklearn-color-text-on-default-background: var(--sg-text-color, var(--theme-code-foreground, var(--jp-content-font-color1, white)));\n",
       "    --sklearn-color-background: var(--sg-background-color, var(--theme-background, var(--jp-layout-color0, #111)));\n",
       "    --sklearn-color-border-box: var(--sg-text-color, var(--theme-code-foreground, var(--jp-content-font-color1, white)));\n",
       "    --sklearn-color-icon: #878787;\n",
       "  }\n",
       "}\n",
       "\n",
       "#sk-container-id-1 {\n",
       "  color: var(--sklearn-color-text);\n",
       "}\n",
       "\n",
       "#sk-container-id-1 pre {\n",
       "  padding: 0;\n",
       "}\n",
       "\n",
       "#sk-container-id-1 input.sk-hidden--visually {\n",
       "  border: 0;\n",
       "  clip: rect(1px 1px 1px 1px);\n",
       "  clip: rect(1px, 1px, 1px, 1px);\n",
       "  height: 1px;\n",
       "  margin: -1px;\n",
       "  overflow: hidden;\n",
       "  padding: 0;\n",
       "  position: absolute;\n",
       "  width: 1px;\n",
       "}\n",
       "\n",
       "#sk-container-id-1 div.sk-dashed-wrapped {\n",
       "  border: 1px dashed var(--sklearn-color-line);\n",
       "  margin: 0 0.4em 0.5em 0.4em;\n",
       "  box-sizing: border-box;\n",
       "  padding-bottom: 0.4em;\n",
       "  background-color: var(--sklearn-color-background);\n",
       "}\n",
       "\n",
       "#sk-container-id-1 div.sk-container {\n",
       "  /* jupyter's `normalize.less` sets `[hidden] { display: none; }`\n",
       "     but bootstrap.min.css set `[hidden] { display: none !important; }`\n",
       "     so we also need the `!important` here to be able to override the\n",
       "     default hidden behavior on the sphinx rendered scikit-learn.org.\n",
       "     See: https://github.com/scikit-learn/scikit-learn/issues/21755 */\n",
       "  display: inline-block !important;\n",
       "  position: relative;\n",
       "}\n",
       "\n",
       "#sk-container-id-1 div.sk-text-repr-fallback {\n",
       "  display: none;\n",
       "}\n",
       "\n",
       "div.sk-parallel-item,\n",
       "div.sk-serial,\n",
       "div.sk-item {\n",
       "  /* draw centered vertical line to link estimators */\n",
       "  background-image: linear-gradient(var(--sklearn-color-text-on-default-background), var(--sklearn-color-text-on-default-background));\n",
       "  background-size: 2px 100%;\n",
       "  background-repeat: no-repeat;\n",
       "  background-position: center center;\n",
       "}\n",
       "\n",
       "/* Parallel-specific style estimator block */\n",
       "\n",
       "#sk-container-id-1 div.sk-parallel-item::after {\n",
       "  content: \"\";\n",
       "  width: 100%;\n",
       "  border-bottom: 2px solid var(--sklearn-color-text-on-default-background);\n",
       "  flex-grow: 1;\n",
       "}\n",
       "\n",
       "#sk-container-id-1 div.sk-parallel {\n",
       "  display: flex;\n",
       "  align-items: stretch;\n",
       "  justify-content: center;\n",
       "  background-color: var(--sklearn-color-background);\n",
       "  position: relative;\n",
       "}\n",
       "\n",
       "#sk-container-id-1 div.sk-parallel-item {\n",
       "  display: flex;\n",
       "  flex-direction: column;\n",
       "}\n",
       "\n",
       "#sk-container-id-1 div.sk-parallel-item:first-child::after {\n",
       "  align-self: flex-end;\n",
       "  width: 50%;\n",
       "}\n",
       "\n",
       "#sk-container-id-1 div.sk-parallel-item:last-child::after {\n",
       "  align-self: flex-start;\n",
       "  width: 50%;\n",
       "}\n",
       "\n",
       "#sk-container-id-1 div.sk-parallel-item:only-child::after {\n",
       "  width: 0;\n",
       "}\n",
       "\n",
       "/* Serial-specific style estimator block */\n",
       "\n",
       "#sk-container-id-1 div.sk-serial {\n",
       "  display: flex;\n",
       "  flex-direction: column;\n",
       "  align-items: center;\n",
       "  background-color: var(--sklearn-color-background);\n",
       "  padding-right: 1em;\n",
       "  padding-left: 1em;\n",
       "}\n",
       "\n",
       "\n",
       "/* Toggleable style: style used for estimator/Pipeline/ColumnTransformer box that is\n",
       "clickable and can be expanded/collapsed.\n",
       "- Pipeline and ColumnTransformer use this feature and define the default style\n",
       "- Estimators will overwrite some part of the style using the `sk-estimator` class\n",
       "*/\n",
       "\n",
       "/* Pipeline and ColumnTransformer style (default) */\n",
       "\n",
       "#sk-container-id-1 div.sk-toggleable {\n",
       "  /* Default theme specific background. It is overwritten whether we have a\n",
       "  specific estimator or a Pipeline/ColumnTransformer */\n",
       "  background-color: var(--sklearn-color-background);\n",
       "}\n",
       "\n",
       "/* Toggleable label */\n",
       "#sk-container-id-1 label.sk-toggleable__label {\n",
       "  cursor: pointer;\n",
<<<<<<< HEAD
       "  display: block;\n",
=======
       "  display: flex;\n",
>>>>>>> main
       "  width: 100%;\n",
       "  margin-bottom: 0;\n",
       "  padding: 0.5em;\n",
       "  box-sizing: border-box;\n",
       "  text-align: center;\n",
<<<<<<< HEAD
=======
       "  align-items: start;\n",
       "  justify-content: space-between;\n",
       "  gap: 0.5em;\n",
       "}\n",
       "\n",
       "#sk-container-id-1 label.sk-toggleable__label .caption {\n",
       "  font-size: 0.6rem;\n",
       "  font-weight: lighter;\n",
       "  color: var(--sklearn-color-text-muted);\n",
>>>>>>> main
       "}\n",
       "\n",
       "#sk-container-id-1 label.sk-toggleable__label-arrow:before {\n",
       "  /* Arrow on the left of the label */\n",
       "  content: \"▸\";\n",
       "  float: left;\n",
       "  margin-right: 0.25em;\n",
       "  color: var(--sklearn-color-icon);\n",
       "}\n",
       "\n",
       "#sk-container-id-1 label.sk-toggleable__label-arrow:hover:before {\n",
       "  color: var(--sklearn-color-text);\n",
       "}\n",
       "\n",
       "/* Toggleable content - dropdown */\n",
       "\n",
       "#sk-container-id-1 div.sk-toggleable__content {\n",
       "  max-height: 0;\n",
       "  max-width: 0;\n",
       "  overflow: hidden;\n",
       "  text-align: left;\n",
       "  /* unfitted */\n",
       "  background-color: var(--sklearn-color-unfitted-level-0);\n",
       "}\n",
       "\n",
       "#sk-container-id-1 div.sk-toggleable__content.fitted {\n",
       "  /* fitted */\n",
       "  background-color: var(--sklearn-color-fitted-level-0);\n",
       "}\n",
       "\n",
       "#sk-container-id-1 div.sk-toggleable__content pre {\n",
       "  margin: 0.2em;\n",
       "  border-radius: 0.25em;\n",
       "  color: var(--sklearn-color-text);\n",
       "  /* unfitted */\n",
       "  background-color: var(--sklearn-color-unfitted-level-0);\n",
       "}\n",
       "\n",
       "#sk-container-id-1 div.sk-toggleable__content.fitted pre {\n",
       "  /* unfitted */\n",
       "  background-color: var(--sklearn-color-fitted-level-0);\n",
       "}\n",
       "\n",
       "#sk-container-id-1 input.sk-toggleable__control:checked~div.sk-toggleable__content {\n",
       "  /* Expand drop-down */\n",
       "  max-height: 200px;\n",
       "  max-width: 100%;\n",
       "  overflow: auto;\n",
       "}\n",
       "\n",
       "#sk-container-id-1 input.sk-toggleable__control:checked~label.sk-toggleable__label-arrow:before {\n",
       "  content: \"▾\";\n",
       "}\n",
       "\n",
       "/* Pipeline/ColumnTransformer-specific style */\n",
       "\n",
       "#sk-container-id-1 div.sk-label input.sk-toggleable__control:checked~label.sk-toggleable__label {\n",
       "  color: var(--sklearn-color-text);\n",
       "  background-color: var(--sklearn-color-unfitted-level-2);\n",
       "}\n",
       "\n",
       "#sk-container-id-1 div.sk-label.fitted input.sk-toggleable__control:checked~label.sk-toggleable__label {\n",
       "  background-color: var(--sklearn-color-fitted-level-2);\n",
       "}\n",
       "\n",
       "/* Estimator-specific style */\n",
       "\n",
       "/* Colorize estimator box */\n",
       "#sk-container-id-1 div.sk-estimator input.sk-toggleable__control:checked~label.sk-toggleable__label {\n",
       "  /* unfitted */\n",
       "  background-color: var(--sklearn-color-unfitted-level-2);\n",
       "}\n",
       "\n",
       "#sk-container-id-1 div.sk-estimator.fitted input.sk-toggleable__control:checked~label.sk-toggleable__label {\n",
       "  /* fitted */\n",
       "  background-color: var(--sklearn-color-fitted-level-2);\n",
       "}\n",
       "\n",
       "#sk-container-id-1 div.sk-label label.sk-toggleable__label,\n",
       "#sk-container-id-1 div.sk-label label {\n",
       "  /* The background is the default theme color */\n",
       "  color: var(--sklearn-color-text-on-default-background);\n",
       "}\n",
       "\n",
       "/* On hover, darken the color of the background */\n",
       "#sk-container-id-1 div.sk-label:hover label.sk-toggleable__label {\n",
       "  color: var(--sklearn-color-text);\n",
       "  background-color: var(--sklearn-color-unfitted-level-2);\n",
       "}\n",
       "\n",
       "/* Label box, darken color on hover, fitted */\n",
       "#sk-container-id-1 div.sk-label.fitted:hover label.sk-toggleable__label.fitted {\n",
       "  color: var(--sklearn-color-text);\n",
       "  background-color: var(--sklearn-color-fitted-level-2);\n",
       "}\n",
       "\n",
       "/* Estimator label */\n",
       "\n",
       "#sk-container-id-1 div.sk-label label {\n",
       "  font-family: monospace;\n",
       "  font-weight: bold;\n",
       "  display: inline-block;\n",
       "  line-height: 1.2em;\n",
       "}\n",
       "\n",
       "#sk-container-id-1 div.sk-label-container {\n",
       "  text-align: center;\n",
       "}\n",
       "\n",
       "/* Estimator-specific */\n",
       "#sk-container-id-1 div.sk-estimator {\n",
       "  font-family: monospace;\n",
       "  border: 1px dotted var(--sklearn-color-border-box);\n",
       "  border-radius: 0.25em;\n",
       "  box-sizing: border-box;\n",
       "  margin-bottom: 0.5em;\n",
       "  /* unfitted */\n",
       "  background-color: var(--sklearn-color-unfitted-level-0);\n",
       "}\n",
       "\n",
       "#sk-container-id-1 div.sk-estimator.fitted {\n",
       "  /* fitted */\n",
       "  background-color: var(--sklearn-color-fitted-level-0);\n",
       "}\n",
       "\n",
       "/* on hover */\n",
       "#sk-container-id-1 div.sk-estimator:hover {\n",
       "  /* unfitted */\n",
       "  background-color: var(--sklearn-color-unfitted-level-2);\n",
       "}\n",
       "\n",
       "#sk-container-id-1 div.sk-estimator.fitted:hover {\n",
       "  /* fitted */\n",
       "  background-color: var(--sklearn-color-fitted-level-2);\n",
       "}\n",
       "\n",
       "/* Specification for estimator info (e.g. \"i\" and \"?\") */\n",
       "\n",
       "/* Common style for \"i\" and \"?\" */\n",
       "\n",
       ".sk-estimator-doc-link,\n",
       "a:link.sk-estimator-doc-link,\n",
       "a:visited.sk-estimator-doc-link {\n",
       "  float: right;\n",
       "  font-size: smaller;\n",
       "  line-height: 1em;\n",
       "  font-family: monospace;\n",
       "  background-color: var(--sklearn-color-background);\n",
       "  border-radius: 1em;\n",
       "  height: 1em;\n",
       "  width: 1em;\n",
       "  text-decoration: none !important;\n",
<<<<<<< HEAD
       "  margin-left: 1ex;\n",
=======
       "  margin-left: 0.5em;\n",
       "  text-align: center;\n",
>>>>>>> main
       "  /* unfitted */\n",
       "  border: var(--sklearn-color-unfitted-level-1) 1pt solid;\n",
       "  color: var(--sklearn-color-unfitted-level-1);\n",
       "}\n",
       "\n",
       ".sk-estimator-doc-link.fitted,\n",
       "a:link.sk-estimator-doc-link.fitted,\n",
       "a:visited.sk-estimator-doc-link.fitted {\n",
       "  /* fitted */\n",
       "  border: var(--sklearn-color-fitted-level-1) 1pt solid;\n",
       "  color: var(--sklearn-color-fitted-level-1);\n",
       "}\n",
       "\n",
       "/* On hover */\n",
       "div.sk-estimator:hover .sk-estimator-doc-link:hover,\n",
       ".sk-estimator-doc-link:hover,\n",
       "div.sk-label-container:hover .sk-estimator-doc-link:hover,\n",
       ".sk-estimator-doc-link:hover {\n",
       "  /* unfitted */\n",
       "  background-color: var(--sklearn-color-unfitted-level-3);\n",
       "  color: var(--sklearn-color-background);\n",
       "  text-decoration: none;\n",
       "}\n",
       "\n",
       "div.sk-estimator.fitted:hover .sk-estimator-doc-link.fitted:hover,\n",
       ".sk-estimator-doc-link.fitted:hover,\n",
       "div.sk-label-container:hover .sk-estimator-doc-link.fitted:hover,\n",
       ".sk-estimator-doc-link.fitted:hover {\n",
       "  /* fitted */\n",
       "  background-color: var(--sklearn-color-fitted-level-3);\n",
       "  color: var(--sklearn-color-background);\n",
       "  text-decoration: none;\n",
       "}\n",
       "\n",
       "/* Span, style for the box shown on hovering the info icon */\n",
       ".sk-estimator-doc-link span {\n",
       "  display: none;\n",
       "  z-index: 9999;\n",
       "  position: relative;\n",
       "  font-weight: normal;\n",
       "  right: .2ex;\n",
       "  padding: .5ex;\n",
       "  margin: .5ex;\n",
       "  width: min-content;\n",
       "  min-width: 20ex;\n",
       "  max-width: 50ex;\n",
       "  color: var(--sklearn-color-text);\n",
       "  box-shadow: 2pt 2pt 4pt #999;\n",
       "  /* unfitted */\n",
       "  background: var(--sklearn-color-unfitted-level-0);\n",
       "  border: .5pt solid var(--sklearn-color-unfitted-level-3);\n",
       "}\n",
       "\n",
       ".sk-estimator-doc-link.fitted span {\n",
       "  /* fitted */\n",
       "  background: var(--sklearn-color-fitted-level-0);\n",
       "  border: var(--sklearn-color-fitted-level-3);\n",
       "}\n",
       "\n",
       ".sk-estimator-doc-link:hover span {\n",
       "  display: block;\n",
       "}\n",
       "\n",
       "/* \"?\"-specific style due to the `<a>` HTML tag */\n",
       "\n",
       "#sk-container-id-1 a.estimator_doc_link {\n",
       "  float: right;\n",
       "  font-size: 1rem;\n",
       "  line-height: 1em;\n",
       "  font-family: monospace;\n",
       "  background-color: var(--sklearn-color-background);\n",
       "  border-radius: 1rem;\n",
       "  height: 1rem;\n",
       "  width: 1rem;\n",
       "  text-decoration: none;\n",
       "  /* unfitted */\n",
       "  color: var(--sklearn-color-unfitted-level-1);\n",
       "  border: var(--sklearn-color-unfitted-level-1) 1pt solid;\n",
       "}\n",
       "\n",
       "#sk-container-id-1 a.estimator_doc_link.fitted {\n",
       "  /* fitted */\n",
       "  border: var(--sklearn-color-fitted-level-1) 1pt solid;\n",
       "  color: var(--sklearn-color-fitted-level-1);\n",
       "}\n",
       "\n",
       "/* On hover */\n",
       "#sk-container-id-1 a.estimator_doc_link:hover {\n",
       "  /* unfitted */\n",
       "  background-color: var(--sklearn-color-unfitted-level-3);\n",
       "  color: var(--sklearn-color-background);\n",
       "  text-decoration: none;\n",
       "}\n",
       "\n",
       "#sk-container-id-1 a.estimator_doc_link.fitted:hover {\n",
       "  /* fitted */\n",
       "  background-color: var(--sklearn-color-fitted-level-3);\n",
       "}\n",
<<<<<<< HEAD
       "</style><div id=\"sk-container-id-1\" class=\"sk-top-container\"><div class=\"sk-text-repr-fallback\"><pre>MultinomialNB()</pre><b>In a Jupyter environment, please rerun this cell to show the HTML representation or trust the notebook. <br />On GitHub, the HTML representation is unable to render, please try loading this page with nbviewer.org.</b></div><div class=\"sk-container\" hidden><div class=\"sk-item\"><div class=\"sk-estimator fitted sk-toggleable\"><input class=\"sk-toggleable__control sk-hidden--visually\" id=\"sk-estimator-id-1\" type=\"checkbox\" checked><label for=\"sk-estimator-id-1\" class=\"sk-toggleable__label fitted sk-toggleable__label-arrow fitted\">&nbsp;&nbsp;MultinomialNB<a class=\"sk-estimator-doc-link fitted\" rel=\"noreferrer\" target=\"_blank\" href=\"https://scikit-learn.org/1.4/modules/generated/sklearn.naive_bayes.MultinomialNB.html\">?<span>Documentation for MultinomialNB</span></a><span class=\"sk-estimator-doc-link fitted\">i<span>Fitted</span></span></label><div class=\"sk-toggleable__content fitted\"><pre>MultinomialNB()</pre></div> </div></div></div></div>"
      ],
      "text/plain": [
       "MultinomialNB()"
      ]
     },
     "execution_count": 107,
=======
       "</style><div id=\"sk-container-id-1\" class=\"sk-top-container\"><div class=\"sk-text-repr-fallback\"><pre>RandomForestClassifier(max_depth=3, n_estimators=5, random_state=42)</pre><b>In a Jupyter environment, please rerun this cell to show the HTML representation or trust the notebook. <br />On GitHub, the HTML representation is unable to render, please try loading this page with nbviewer.org.</b></div><div class=\"sk-container\" hidden><div class=\"sk-item\"><div class=\"sk-estimator fitted sk-toggleable\"><input class=\"sk-toggleable__control sk-hidden--visually\" id=\"sk-estimator-id-1\" type=\"checkbox\" checked><label for=\"sk-estimator-id-1\" class=\"sk-toggleable__label fitted sk-toggleable__label-arrow\"><div><div>RandomForestClassifier</div></div><div><a class=\"sk-estimator-doc-link fitted\" rel=\"noreferrer\" target=\"_blank\" href=\"https://scikit-learn.org/1.6/modules/generated/sklearn.ensemble.RandomForestClassifier.html\">?<span>Documentation for RandomForestClassifier</span></a><span class=\"sk-estimator-doc-link fitted\">i<span>Fitted</span></span></div></label><div class=\"sk-toggleable__content fitted\"><pre>RandomForestClassifier(max_depth=3, n_estimators=5, random_state=42)</pre></div> </div></div></div></div>"
      ],
      "text/plain": [
       "RandomForestClassifier(max_depth=3, n_estimators=5, random_state=42)"
      ]
     },
     "execution_count": 29,
>>>>>>> main
     "metadata": {},
     "output_type": "execute_result"
    }
   ],
   "source": [
<<<<<<< HEAD
    "from sklearn.naive_bayes import MultinomialNB\n",
    "\n",
    "model = MultinomialNB()\n",
    "\n",
    "# Fit the model on the training data\n",
    "model.fit(X_train_tfidf, y_train)"
=======
    "rf_model = RandomForestClassifier(n_estimators=5, max_depth=3, min_samples_split=2, min_samples_leaf=1, random_state=42)\n",
    "rf_model.fit(X_train, y_train)\n"
   ]
  },
  {
   "cell_type": "markdown",
   "id": "6d765a40",
   "metadata": {},
   "source": [
    "#### Evaluation"
>>>>>>> main
   ]
  },
  {
   "cell_type": "code",
<<<<<<< HEAD
   "execution_count": 109,
   "id": "706c9f98-110d-48fc-b2db-9827283b6813",
   "metadata": {},
   "outputs": [],
   "source": [
    "y_pred = model.predict(X_test_tfidf)"
=======
   "execution_count": 40,
   "id": "32d19cc8-0c0c-4eda-b592-07f37a43d139",
   "metadata": {},
   "outputs": [
    {
     "name": "stdout",
     "output_type": "stream",
     "text": [
      "Accuracy Score: 0.17572463768115942\n",
      "\n",
      "Classification Report:\n",
      "                precision    recall  f1-score   support\n",
      "\n",
      "     business       0.26      0.08      0.12       245\n",
      "    education       0.00      0.00      0.00       274\n",
      "entertainment       0.17      0.89      0.29       178\n",
      "       sports       0.00      0.00      0.00       137\n",
      "   technology       0.16      0.06      0.09       270\n",
      "\n",
      "     accuracy                           0.18      1104\n",
      "    macro avg       0.12      0.21      0.10      1104\n",
      " weighted avg       0.12      0.18      0.09      1104\n",
      "\n"
     ]
    }
   ],
   "source": [
    "# Train and evaluate the Random Forest model\n",
    "# Convert sparse matrix to dense numpy array\n",
    "X_train = X_train.toarray() if isinstance(X_train, csr_matrix) else X_train\n",
    "X_val = X_val.toarray() if isinstance(X_val, csr_matrix) else X_val\n",
    "X_test = X_test.toarray() if isinstance(X_test, csr_matrix) else X_test\n",
    "\n",
    "# # Now slice the dense arrays to keep only the first 499 columns\n",
    "X_val = X_val[:, :4999]\n",
    "X_test = X_test[:, :4999]\n",
    "\n",
    "\n",
    "print(\"Accuracy Score:\", accuracy_score(y_val, y_pred))\n",
    "print(\"\\nClassification Report:\\n\", classification_report(y_val, y_pred))"
   ]
  },
  {
   "cell_type": "code",
   "execution_count": 41,
   "id": "271f4f3b-23ca-4e9f-90b0-4f55eb341136",
   "metadata": {},
   "outputs": [],
   "source": [
    "#Converting the data into arrays to be used by the RandomSearchCV\n",
    "X_train_rf = np.array(X_train)\n",
    "y_train_rf = np.array(y_train)\n",
    "X_test_rf = np.array(X_val)\n",
    "y_test_rf = np.array(y_val)\n",
    "\n",
    "# Define the parameter grid\n",
    "param_grid = {\n",
    "    'n_estimators': [3, 5, 10],  # Number of trees\n",
    "    'max_depth': [3, 4, 5]  # Maximum depth of trees\n",
    "}\n",
    "\n",
    "# Initialize the Random Forest model\n",
    "rf_model = RandomForestClassifier(n_estimators=5, max_depth=3, min_samples_split=2, min_samples_leaf=1, random_state=42)\n"
>>>>>>> main
   ]
  },
  {
   "cell_type": "code",
<<<<<<< HEAD
   "execution_count": 111,
   "id": "0dda63f7-7906-403b-a954-8afd24b8ddc6",
=======
   "execution_count": 42,
   "id": "c7d9efe8-58ee-4f5b-a80d-b0b06adcb9c2",
   "metadata": {},
   "outputs": [],
   "source": [
    "# Use RandomizedSearchCV for efficiency\n",
    "random_search = RandomizedSearchCV(\n",
    "    estimator=rf_model, \n",
    "    param_distributions=param_grid, \n",
    "    n_iter=10,  # Randomly sample 10 combinations\n",
    "    cv=5, \n",
    "    n_jobs=1,  # Prevent memory issues\n",
    "    verbose=2, \n",
    "    scoring='accuracy',\n",
    "    random_state=42\n",
    ")\n"
   ]
  },
  {
   "cell_type": "code",
   "execution_count": 43,
   "id": "5a8125ea-10b8-42fc-9f17-22fcc70ede6d",
>>>>>>> main
   "metadata": {},
   "outputs": [
    {
     "name": "stdout",
     "output_type": "stream",
     "text": [
<<<<<<< HEAD
      "Cross-Validation Accuracy: 0.9614 ± 0.0047\n"
=======
      "Fitting 5 folds for each of 9 candidates, totalling 45 fits\n",
      "[CV] END ........................max_depth=3, n_estimators=3; total time=   0.9s\n",
      "[CV] END ........................max_depth=3, n_estimators=3; total time=   0.9s\n",
      "[CV] END ........................max_depth=3, n_estimators=3; total time=   0.8s\n",
      "[CV] END ........................max_depth=3, n_estimators=3; total time=   0.8s\n",
      "[CV] END ........................max_depth=3, n_estimators=3; total time=   0.9s\n",
      "[CV] END ........................max_depth=3, n_estimators=5; total time=   1.0s\n",
      "[CV] END ........................max_depth=3, n_estimators=5; total time=   1.0s\n",
      "[CV] END ........................max_depth=3, n_estimators=5; total time=   1.0s\n",
      "[CV] END ........................max_depth=3, n_estimators=5; total time=   1.0s\n",
      "[CV] END ........................max_depth=3, n_estimators=5; total time=   1.0s\n",
      "[CV] END .......................max_depth=3, n_estimators=10; total time=   1.1s\n",
      "[CV] END .......................max_depth=3, n_estimators=10; total time=   1.1s\n",
      "[CV] END .......................max_depth=3, n_estimators=10; total time=   1.1s\n",
      "[CV] END .......................max_depth=3, n_estimators=10; total time=   1.1s\n",
      "[CV] END .......................max_depth=3, n_estimators=10; total time=   1.1s\n",
      "[CV] END ........................max_depth=4, n_estimators=3; total time=   0.9s\n",
      "[CV] END ........................max_depth=4, n_estimators=3; total time=   0.9s\n",
      "[CV] END ........................max_depth=4, n_estimators=3; total time=   1.0s\n",
      "[CV] END ........................max_depth=4, n_estimators=3; total time=   0.9s\n",
      "[CV] END ........................max_depth=4, n_estimators=3; total time=   1.0s\n",
      "[CV] END ........................max_depth=4, n_estimators=5; total time=   0.9s\n",
      "[CV] END ........................max_depth=4, n_estimators=5; total time=   1.0s\n",
      "[CV] END ........................max_depth=4, n_estimators=5; total time=   0.9s\n",
      "[CV] END ........................max_depth=4, n_estimators=5; total time=   1.0s\n",
      "[CV] END ........................max_depth=4, n_estimators=5; total time=   1.0s\n",
      "[CV] END .......................max_depth=4, n_estimators=10; total time=   1.2s\n",
      "[CV] END .......................max_depth=4, n_estimators=10; total time=   1.2s\n",
      "[CV] END .......................max_depth=4, n_estimators=10; total time=   1.2s\n",
      "[CV] END .......................max_depth=4, n_estimators=10; total time=   1.2s\n",
      "[CV] END .......................max_depth=4, n_estimators=10; total time=   1.2s\n",
      "[CV] END ........................max_depth=5, n_estimators=3; total time=   0.9s\n",
      "[CV] END ........................max_depth=5, n_estimators=3; total time=   0.9s\n",
      "[CV] END ........................max_depth=5, n_estimators=3; total time=   0.9s\n",
      "[CV] END ........................max_depth=5, n_estimators=3; total time=   1.0s\n",
      "[CV] END ........................max_depth=5, n_estimators=3; total time=   1.0s\n",
      "[CV] END ........................max_depth=5, n_estimators=5; total time=   1.1s\n",
      "[CV] END ........................max_depth=5, n_estimators=5; total time=   1.0s\n",
      "[CV] END ........................max_depth=5, n_estimators=5; total time=   1.0s\n",
      "[CV] END ........................max_depth=5, n_estimators=5; total time=   1.0s\n",
      "[CV] END ........................max_depth=5, n_estimators=5; total time=   1.1s\n",
      "[CV] END .......................max_depth=5, n_estimators=10; total time=   1.2s\n",
      "[CV] END .......................max_depth=5, n_estimators=10; total time=   1.2s\n",
      "[CV] END .......................max_depth=5, n_estimators=10; total time=   1.2s\n",
      "[CV] END .......................max_depth=5, n_estimators=10; total time=   1.2s\n",
      "[CV] END .......................max_depth=5, n_estimators=10; total time=   1.2s\n",
      "Best Parameters: {'n_estimators': 10, 'max_depth': 5}\n",
      "Best Accuracy: 0.32480181200453\n"
>>>>>>> main
     ]
    }
   ],
   "source": [
<<<<<<< HEAD
    "from sklearn.model_selection import cross_val_score\n",
    "\n",
    "cv_scores = cross_val_score(model, X_train_tfidf, y_train, cv=5, scoring='accuracy')\n",
    "\n",
    "print(f\"Cross-Validation Accuracy: {cv_scores.mean():.4f} ± {cv_scores.std():.4f}\")"
=======
    "# Fit the model\n",
    "random_search.fit(X_train_rf, y_train_rf)\n",
    "\n",
    "# Initialize GridSearchCV\n",
    "grid_search = GridSearchCV(estimator=rf_model, param_grid=param_grid, \n",
    "                           cv=5, n_jobs=-1, verbose=2, scoring='accuracy')\n",
    "\n",
    "# Get the best parameters and model\n",
    "best_rf_model = random_search.best_estimator_\n",
    "print(\"Best Parameters:\", random_search.best_params_)\n",
    "print(\"Best Accuracy:\", random_search.best_score_)\n"
   ]
  },
  {
   "cell_type": "markdown",
   "id": "bc48710d",
   "metadata": {},
   "source": [
    "#### Model Tuning"
>>>>>>> main
   ]
  },
  {
   "cell_type": "code",
<<<<<<< HEAD
   "execution_count": 115,
   "id": "26b59a6e-d105-41ea-b35a-c7a2d6119088",
=======
   "execution_count": 44,
   "id": "6dc979e8-5561-4c49-825f-e1a758c4ac7d",
>>>>>>> main
   "metadata": {},
   "outputs": [
    {
     "name": "stdout",
     "output_type": "stream",
     "text": [
<<<<<<< HEAD
      "Note: you may need to restart the kernel to use updated packages.Collecting mlflow\n",
      "  Downloading mlflow-2.20.1-py3-none-any.whl.metadata (30 kB)\n",
      "Collecting mlflow-skinny==2.20.1 (from mlflow)\n",
      "  Downloading mlflow_skinny-2.20.1-py3-none-any.whl.metadata (31 kB)\n",
      "Requirement already satisfied: Flask<4 in c:\\users\\fransisca nong\\anaconda3\\lib\\site-packages (from mlflow) (3.0.3)\n",
      "Requirement already satisfied: Jinja2<4,>=3.0 in c:\\users\\fransisca nong\\anaconda3\\lib\\site-packages (from mlflow) (3.1.4)\n",
      "Collecting alembic!=1.10.0,<2 (from mlflow)\n",
      "  Using cached alembic-1.14.1-py3-none-any.whl.metadata (7.4 kB)\n",
      "Collecting docker<8,>=4.0.0 (from mlflow)\n",
      "  Using cached docker-7.1.0-py3-none-any.whl.metadata (3.8 kB)\n",
      "Collecting graphene<4 (from mlflow)\n",
      "  Using cached graphene-3.4.3-py2.py3-none-any.whl.metadata (6.9 kB)\n",
      "Requirement already satisfied: markdown<4,>=3.3 in c:\\users\\fransisca nong\\anaconda3\\lib\\site-packages (from mlflow) (3.4.1)\n",
      "Requirement already satisfied: matplotlib<4 in c:\\users\\fransisca nong\\anaconda3\\lib\\site-packages (from mlflow) (3.8.4)\n",
      "Requirement already satisfied: numpy<3 in c:\\users\\fransisca nong\\anaconda3\\lib\\site-packages (from mlflow) (1.26.4)\n",
      "Requirement already satisfied: pandas<3 in c:\\users\\fransisca nong\\anaconda3\\lib\\site-packages (from mlflow) (2.2.2)\n",
      "Requirement already satisfied: pyarrow<19,>=4.0.0 in c:\\users\\fransisca nong\\anaconda3\\lib\\site-packages (from mlflow) (14.0.2)\n",
      "Requirement already satisfied: scikit-learn<2 in c:\\users\\fransisca nong\\anaconda3\\lib\\site-packages (from mlflow) (1.4.2)\n",
      "Requirement already satisfied: scipy<2 in c:\\users\\fransisca nong\\anaconda3\\lib\\site-packages (from mlflow) (1.13.1)\n",
      "Requirement already satisfied: sqlalchemy<3,>=1.4.0 in c:\\users\\fransisca nong\\anaconda3\\lib\\site-packages (from mlflow) (2.0.30)\n",
      "Collecting waitress<4 (from mlflow)\n",
      "  Using cached waitress-3.0.2-py3-none-any.whl.metadata (5.8 kB)\n",
      "Requirement already satisfied: cachetools<6,>=5.0.0 in c:\\users\\fransisca nong\\anaconda3\\lib\\site-packages (from mlflow-skinny==2.20.1->mlflow) (5.3.3)\n",
      "Requirement already satisfied: click<9,>=7.0 in c:\\users\\fransisca nong\\anaconda3\\lib\\site-packages (from mlflow-skinny==2.20.1->mlflow) (8.1.7)\n",
      "Requirement already satisfied: cloudpickle<4 in c:\\users\\fransisca nong\\anaconda3\\lib\\site-packages (from mlflow-skinny==2.20.1->mlflow) (2.2.1)\n",
      "Collecting databricks-sdk<1,>=0.20.0 (from mlflow-skinny==2.20.1->mlflow)\n",
      "  Downloading databricks_sdk-0.42.0-py3-none-any.whl.metadata (38 kB)\n",
      "Requirement already satisfied: gitpython<4,>=3.1.9 in c:\\users\\fransisca nong\\anaconda3\\lib\\site-packages (from mlflow-skinny==2.20.1->mlflow) (3.1.37)\n",
      "Requirement already satisfied: importlib_metadata!=4.7.0,<9,>=3.7.0 in c:\\users\\fransisca nong\\anaconda3\\lib\\site-packages (from mlflow-skinny==2.20.1->mlflow) (7.0.1)\n",
      "Collecting opentelemetry-api<3,>=1.9.0 (from mlflow-skinny==2.20.1->mlflow)\n",
      "  Using cached opentelemetry_api-1.29.0-py3-none-any.whl.metadata (1.4 kB)\n",
      "Collecting opentelemetry-sdk<3,>=1.9.0 (from mlflow-skinny==2.20.1->mlflow)\n",
      "  Using cached opentelemetry_sdk-1.29.0-py3-none-any.whl.metadata (1.5 kB)\n",
      "Requirement already satisfied: packaging<25 in c:\\users\\fransisca nong\\appdata\\roaming\\python\\python312\\site-packages (from mlflow-skinny==2.20.1->mlflow) (24.1)\n",
      "Requirement already satisfied: protobuf<6,>=3.12.0 in c:\\users\\fransisca nong\\anaconda3\\lib\\site-packages (from mlflow-skinny==2.20.1->mlflow) (3.20.3)\n",
      "Requirement already satisfied: pydantic<3,>=1.0 in c:\\users\\fransisca nong\\anaconda3\\lib\\site-packages (from mlflow-skinny==2.20.1->mlflow) (2.5.3)\n",
      "Requirement already satisfied: pyyaml<7,>=5.1 in c:\\users\\fransisca nong\\anaconda3\\lib\\site-packages (from mlflow-skinny==2.20.1->mlflow) (6.0.1)\n",
      "Requirement already satisfied: requests<3,>=2.17.3 in c:\\users\\fransisca nong\\anaconda3\\lib\\site-packages (from mlflow-skinny==2.20.1->mlflow) (2.32.2)\n",
      "Collecting sqlparse<1,>=0.4.0 (from mlflow-skinny==2.20.1->mlflow)\n",
      "  Using cached sqlparse-0.5.3-py3-none-any.whl.metadata (3.9 kB)\n",
      "Requirement already satisfied: typing-extensions<5,>=4.0.0 in c:\\users\\fransisca nong\\anaconda3\\lib\\site-packages (from mlflow-skinny==2.20.1->mlflow) (4.11.0)\n",
      "Collecting Mako (from alembic!=1.10.0,<2->mlflow)\n",
      "  Using cached Mako-1.3.8-py3-none-any.whl.metadata (2.9 kB)\n",
      "Requirement already satisfied: pywin32>=304 in c:\\users\\fransisca nong\\appdata\\roaming\\python\\python312\\site-packages (from docker<8,>=4.0.0->mlflow) (308)\n",
      "Requirement already satisfied: urllib3>=1.26.0 in c:\\users\\fransisca nong\\anaconda3\\lib\\site-packages (from docker<8,>=4.0.0->mlflow) (2.2.2)\n",
      "Requirement already satisfied: Werkzeug>=3.0.0 in c:\\users\\fransisca nong\\anaconda3\\lib\\site-packages (from Flask<4->mlflow) (3.0.3)\n",
      "Requirement already satisfied: itsdangerous>=2.1.2 in c:\\users\\fransisca nong\\anaconda3\\lib\\site-packages (from Flask<4->mlflow) (2.2.0)\n",
      "Requirement already satisfied: blinker>=1.6.2 in c:\\users\\fransisca nong\\anaconda3\\lib\\site-packages (from Flask<4->mlflow) (1.6.2)\n",
      "Collecting graphql-core<3.3,>=3.1 (from graphene<4->mlflow)\n",
      "  Using cached graphql_core-3.2.6-py3-none-any.whl.metadata (11 kB)\n",
      "Collecting graphql-relay<3.3,>=3.1 (from graphene<4->mlflow)\n",
      "  Using cached graphql_relay-3.2.0-py3-none-any.whl.metadata (12 kB)\n",
      "Requirement already satisfied: python-dateutil<3,>=2.7.0 in c:\\users\\fransisca nong\\appdata\\roaming\\python\\python312\\site-packages (from graphene<4->mlflow) (2.9.0.post0)\n",
      "Requirement already satisfied: MarkupSafe>=2.0 in c:\\users\\fransisca nong\\anaconda3\\lib\\site-packages (from Jinja2<4,>=3.0->mlflow) (2.1.3)\n",
      "Requirement already satisfied: contourpy>=1.0.1 in c:\\users\\fransisca nong\\anaconda3\\lib\\site-packages (from matplotlib<4->mlflow) (1.2.0)\n",
      "Requirement already satisfied: cycler>=0.10 in c:\\users\\fransisca nong\\anaconda3\\lib\\site-packages (from matplotlib<4->mlflow) (0.11.0)\n",
      "Requirement already satisfied: fonttools>=4.22.0 in c:\\users\\fransisca nong\\anaconda3\\lib\\site-packages (from matplotlib<4->mlflow) (4.51.0)\n",
      "Requirement already satisfied: kiwisolver>=1.3.1 in c:\\users\\fransisca nong\\anaconda3\\lib\\site-packages (from matplotlib<4->mlflow) (1.4.4)\n",
      "Requirement already satisfied: pillow>=8 in c:\\users\\fransisca nong\\anaconda3\\lib\\site-packages (from matplotlib<4->mlflow) (10.3.0)\n",
      "Requirement already satisfied: pyparsing>=2.3.1 in c:\\users\\fransisca nong\\anaconda3\\lib\\site-packages (from matplotlib<4->mlflow) (3.0.9)\n",
      "Requirement already satisfied: pytz>=2020.1 in c:\\users\\fransisca nong\\anaconda3\\lib\\site-packages (from pandas<3->mlflow) (2024.1)\n",
      "Requirement already satisfied: tzdata>=2022.7 in c:\\users\\fransisca nong\\anaconda3\\lib\\site-packages (from pandas<3->mlflow) (2023.3)\n",
      "Requirement already satisfied: joblib>=1.2.0 in c:\\users\\fransisca nong\\anaconda3\\lib\\site-packages (from scikit-learn<2->mlflow) (1.4.2)\n",
      "Requirement already satisfied: threadpoolctl>=2.0.0 in c:\\users\\fransisca nong\\anaconda3\\lib\\site-packages (from scikit-learn<2->mlflow) (2.2.0)\n",
      "Requirement already satisfied: greenlet!=0.4.17 in c:\\users\\fransisca nong\\anaconda3\\lib\\site-packages (from sqlalchemy<3,>=1.4.0->mlflow) (3.0.1)\n",
      "Requirement already satisfied: colorama in c:\\users\\fransisca nong\\appdata\\roaming\\python\\python312\\site-packages (from click<9,>=7.0->mlflow-skinny==2.20.1->mlflow) (0.4.6)\n",
      "Collecting google-auth~=2.0 (from databricks-sdk<1,>=0.20.0->mlflow-skinny==2.20.1->mlflow)\n",
      "  Using cached google_auth-2.38.0-py2.py3-none-any.whl.metadata (4.8 kB)\n",
      "Requirement already satisfied: gitdb<5,>=4.0.1 in c:\\users\\fransisca nong\\anaconda3\\lib\\site-packages (from gitpython<4,>=3.1.9->mlflow-skinny==2.20.1->mlflow) (4.0.7)\n",
      "Requirement already satisfied: zipp>=0.5 in c:\\users\\fransisca nong\\anaconda3\\lib\\site-packages (from importlib_metadata!=4.7.0,<9,>=3.7.0->mlflow-skinny==2.20.1->mlflow) (3.17.0)\n",
      "Collecting deprecated>=1.2.6 (from opentelemetry-api<3,>=1.9.0->mlflow-skinny==2.20.1->mlflow)\n",
      "  Using cached Deprecated-1.2.18-py2.py3-none-any.whl.metadata (5.7 kB)\n",
      "Collecting opentelemetry-semantic-conventions==0.50b0 (from opentelemetry-sdk<3,>=1.9.0->mlflow-skinny==2.20.1->mlflow)\n",
      "  Using cached opentelemetry_semantic_conventions-0.50b0-py3-none-any.whl.metadata (2.3 kB)\n",
      "Requirement already satisfied: annotated-types>=0.4.0 in c:\\users\\fransisca nong\\anaconda3\\lib\\site-packages (from pydantic<3,>=1.0->mlflow-skinny==2.20.1->mlflow) (0.6.0)\n",
      "Requirement already satisfied: pydantic-core==2.14.6 in c:\\users\\fransisca nong\\anaconda3\\lib\\site-packages (from pydantic<3,>=1.0->mlflow-skinny==2.20.1->mlflow) (2.14.6)\n",
      "Requirement already satisfied: six>=1.5 in c:\\users\\fransisca nong\\appdata\\roaming\\python\\python312\\site-packages (from python-dateutil<3,>=2.7.0->graphene<4->mlflow) (1.16.0)\n",
      "Requirement already satisfied: charset-normalizer<4,>=2 in c:\\users\\fransisca nong\\anaconda3\\lib\\site-packages (from requests<3,>=2.17.3->mlflow-skinny==2.20.1->mlflow) (2.0.4)\n",
      "Requirement already satisfied: idna<4,>=2.5 in c:\\users\\fransisca nong\\anaconda3\\lib\\site-packages (from requests<3,>=2.17.3->mlflow-skinny==2.20.1->mlflow) (3.7)\n",
      "Requirement already satisfied: certifi>=2017.4.17 in c:\\users\\fransisca nong\\anaconda3\\lib\\site-packages (from requests<3,>=2.17.3->mlflow-skinny==2.20.1->mlflow) (2024.7.4)\n",
      "Requirement already satisfied: wrapt<2,>=1.10 in c:\\users\\fransisca nong\\anaconda3\\lib\\site-packages (from deprecated>=1.2.6->opentelemetry-api<3,>=1.9.0->mlflow-skinny==2.20.1->mlflow) (1.14.1)\n",
      "Requirement already satisfied: smmap<5,>=3.0.1 in c:\\users\\fransisca nong\\anaconda3\\lib\\site-packages (from gitdb<5,>=4.0.1->gitpython<4,>=3.1.9->mlflow-skinny==2.20.1->mlflow) (4.0.0)\n",
      "Requirement already satisfied: pyasn1-modules>=0.2.1 in c:\\users\\fransisca nong\\anaconda3\\lib\\site-packages (from google-auth~=2.0->databricks-sdk<1,>=0.20.0->mlflow-skinny==2.20.1->mlflow) (0.2.8)\n",
      "Collecting rsa<5,>=3.1.4 (from google-auth~=2.0->databricks-sdk<1,>=0.20.0->mlflow-skinny==2.20.1->mlflow)\n",
      "  Using cached rsa-4.9-py3-none-any.whl.metadata (4.2 kB)\n",
      "Requirement already satisfied: pyasn1<0.5.0,>=0.4.6 in c:\\users\\fransisca nong\\anaconda3\\lib\\site-packages (from pyasn1-modules>=0.2.1->google-auth~=2.0->databricks-sdk<1,>=0.20.0->mlflow-skinny==2.20.1->mlflow) (0.4.8)\n",
      "Downloading mlflow-2.20.1-py3-none-any.whl (28.3 MB)\n",
      "   ---------------------------------------- 0.0/28.3 MB ? eta -:--:--\n",
      "   ---------------------------------------- 0.1/28.3 MB 1.7 MB/s eta 0:00:18\n",
      "   ---------------------------------------- 0.2/28.3 MB 2.1 MB/s eta 0:00:14\n",
      "    --------------------------------------- 0.4/28.3 MB 2.5 MB/s eta 0:00:11\n",
      "    --------------------------------------- 0.6/28.3 MB 3.4 MB/s eta 0:00:09\n",
      "   - -------------------------------------- 0.8/28.3 MB 3.7 MB/s eta 0:00:08\n",
      "   - -------------------------------------- 1.1/28.3 MB 4.2 MB/s eta 0:00:07\n",
      "   - -------------------------------------- 1.3/28.3 MB 4.2 MB/s eta 0:00:07\n",
      "   -- ------------------------------------- 1.6/28.3 MB 4.6 MB/s eta 0:00:06\n",
      "   -- ------------------------------------- 1.8/28.3 MB 4.6 MB/s eta 0:00:06\n",
      "   -- ------------------------------------- 2.0/28.3 MB 4.6 MB/s eta 0:00:06\n",
      "   --- ------------------------------------ 2.2/28.3 MB 4.7 MB/s eta 0:00:06\n",
      "   --- ------------------------------------ 2.4/28.3 MB 4.9 MB/s eta 0:00:06\n",
      "   --- ------------------------------------ 2.7/28.3 MB 4.8 MB/s eta 0:00:06\n",
      "   ---- ----------------------------------- 2.9/28.3 MB 4.9 MB/s eta 0:00:06\n",
      "   ---- ----------------------------------- 3.1/28.3 MB 4.9 MB/s eta 0:00:06\n",
      "   ---- ----------------------------------- 3.5/28.3 MB 5.0 MB/s eta 0:00:05\n",
      "   ----- ---------------------------------- 3.7/28.3 MB 5.1 MB/s eta 0:00:05\n",
      "   ----- ---------------------------------- 4.0/28.3 MB 5.1 MB/s eta 0:00:05\n",
      "   ----- ---------------------------------- 4.2/28.3 MB 5.1 MB/s eta 0:00:05\n",
      "   ------ --------------------------------- 4.4/28.3 MB 5.1 MB/s eta 0:00:05\n",
      "   ------ --------------------------------- 4.7/28.3 MB 5.2 MB/s eta 0:00:05\n",
      "   ------ --------------------------------- 4.9/28.3 MB 5.2 MB/s eta 0:00:05\n",
      "   ------- -------------------------------- 5.1/28.3 MB 5.1 MB/s eta 0:00:05\n",
      "   ------- -------------------------------- 5.3/28.3 MB 5.2 MB/s eta 0:00:05\n",
      "   ------- -------------------------------- 5.6/28.3 MB 5.2 MB/s eta 0:00:05\n",
      "   -------- ------------------------------- 5.8/28.3 MB 5.2 MB/s eta 0:00:05\n",
      "   -------- ------------------------------- 6.1/28.3 MB 5.3 MB/s eta 0:00:05\n",
      "   --------- ------------------------------ 6.4/28.3 MB 5.3 MB/s eta 0:00:05\n",
      "   --------- ------------------------------ 6.5/28.3 MB 5.3 MB/s eta 0:00:05\n",
      "   --------- ------------------------------ 6.8/28.3 MB 5.3 MB/s eta 0:00:05\n",
      "   ---------- ----------------------------- 7.1/28.3 MB 5.3 MB/s eta 0:00:04\n",
      "   ---------- ----------------------------- 7.4/28.3 MB 5.3 MB/s eta 0:00:04\n",
      "   ---------- ----------------------------- 7.6/28.3 MB 5.4 MB/s eta 0:00:04\n",
      "   ---------- ----------------------------- 7.8/28.3 MB 5.4 MB/s eta 0:00:04\n",
      "   ----------- ---------------------------- 8.0/28.3 MB 5.4 MB/s eta 0:00:04\n",
      "   ----------- ---------------------------- 8.3/28.3 MB 5.4 MB/s eta 0:00:04\n",
      "   ------------ --------------------------- 8.6/28.3 MB 5.4 MB/s eta 0:00:04\n",
      "   ------------ --------------------------- 8.8/28.3 MB 5.4 MB/s eta 0:00:04\n",
      "   ------------ --------------------------- 9.1/28.3 MB 5.4 MB/s eta 0:00:04\n",
      "   ------------- -------------------------- 9.3/28.3 MB 5.4 MB/s eta 0:00:04\n",
      "   ------------- -------------------------- 9.4/28.3 MB 5.4 MB/s eta 0:00:04\n",
      "   ------------- -------------------------- 9.7/28.3 MB 5.4 MB/s eta 0:00:04\n",
      "   -------------- ------------------------- 10.0/28.3 MB 5.4 MB/s eta 0:00:04\n",
      "   -------------- ------------------------- 10.0/28.3 MB 5.4 MB/s eta 0:00:04\n",
      "   -------------- ------------------------- 10.1/28.3 MB 5.2 MB/s eta 0:00:04\n",
      "   -------------- ------------------------- 10.3/28.3 MB 5.3 MB/s eta 0:00:04\n",
      "   -------------- ------------------------- 10.5/28.3 MB 5.4 MB/s eta 0:00:04\n",
      "   --------------- ------------------------ 10.8/28.3 MB 5.4 MB/s eta 0:00:04\n",
      "   --------------- ------------------------ 11.0/28.3 MB 5.4 MB/s eta 0:00:04\n",
      "   --------------- ------------------------ 11.3/28.3 MB 5.4 MB/s eta 0:00:04\n",
      "   ---------------- ----------------------- 11.5/28.3 MB 5.4 MB/s eta 0:00:04\n",
      "   ---------------- ----------------------- 11.8/28.3 MB 5.5 MB/s eta 0:00:04\n",
      "   ----------------- ---------------------- 12.1/28.3 MB 5.4 MB/s eta 0:00:03\n",
      "   ----------------- ---------------------- 12.3/28.3 MB 5.5 MB/s eta 0:00:03\n",
      "   ----------------- ---------------------- 12.6/28.3 MB 5.5 MB/s eta 0:00:03\n",
      "   ------------------ --------------------- 12.9/28.3 MB 5.5 MB/s eta 0:00:03\n",
      "   ------------------ --------------------- 13.1/28.3 MB 5.5 MB/s eta 0:00:03\n",
      "   ------------------ --------------------- 13.4/28.3 MB 5.5 MB/s eta 0:00:03\n",
      "   ------------------- -------------------- 13.6/28.3 MB 5.5 MB/s eta 0:00:03\n",
      "   ------------------- -------------------- 13.9/28.3 MB 5.5 MB/s eta 0:00:03\n",
      "   ------------------- -------------------- 14.1/28.3 MB 5.5 MB/s eta 0:00:03\n",
      "   -------------------- ------------------- 14.3/28.3 MB 5.5 MB/s eta 0:00:03\n",
      "   -------------------- ------------------- 14.3/28.3 MB 5.4 MB/s eta 0:00:03\n",
      "   -------------------- ------------------- 14.4/28.3 MB 5.3 MB/s eta 0:00:03\n",
      "   -------------------- ------------------- 14.5/28.3 MB 5.2 MB/s eta 0:00:03\n",
      "   -------------------- ------------------- 14.6/28.3 MB 5.2 MB/s eta 0:00:03\n",
      "   -------------------- ------------------- 14.8/28.3 MB 5.2 MB/s eta 0:00:03\n",
      "   --------------------- ------------------ 15.0/28.3 MB 5.1 MB/s eta 0:00:03\n",
      "   --------------------- ------------------ 15.2/28.3 MB 5.1 MB/s eta 0:00:03\n",
      "   --------------------- ------------------ 15.4/28.3 MB 5.1 MB/s eta 0:00:03\n",
      "   ---------------------- ----------------- 15.6/28.3 MB 5.1 MB/s eta 0:00:03\n",
      "   ---------------------- ----------------- 15.8/28.3 MB 5.1 MB/s eta 0:00:03\n",
      "   ---------------------- ----------------- 16.0/28.3 MB 5.0 MB/s eta 0:00:03\n",
      "   ---------------------- ----------------- 16.1/28.3 MB 5.0 MB/s eta 0:00:03\n",
      "   ----------------------- ---------------- 16.3/28.3 MB 5.0 MB/s eta 0:00:03\n",
      "   ----------------------- ---------------- 16.5/28.3 MB 5.0 MB/s eta 0:00:03\n",
      "   ----------------------- ---------------- 16.7/28.3 MB 5.0 MB/s eta 0:00:03\n",
      "   ------------------------ --------------- 17.0/28.3 MB 5.0 MB/s eta 0:00:03\n",
      "   ------------------------ --------------- 17.2/28.3 MB 5.0 MB/s eta 0:00:03\n",
      "   ------------------------ --------------- 17.4/28.3 MB 4.9 MB/s eta 0:00:03\n",
      "   ------------------------ --------------- 17.6/28.3 MB 4.9 MB/s eta 0:00:03\n",
      "   ------------------------- -------------- 17.9/28.3 MB 4.9 MB/s eta 0:00:03\n",
      "   ------------------------- -------------- 17.9/28.3 MB 4.9 MB/s eta 0:00:03\n",
      "   ------------------------- -------------- 18.0/28.3 MB 4.8 MB/s eta 0:00:03\n",
      "   ------------------------- -------------- 18.0/28.3 MB 4.7 MB/s eta 0:00:03\n",
      "   ------------------------- -------------- 18.1/28.3 MB 4.7 MB/s eta 0:00:03\n",
      "   ------------------------- -------------- 18.1/28.3 MB 4.6 MB/s eta 0:00:03\n",
      "   ------------------------- -------------- 18.1/28.3 MB 4.6 MB/s eta 0:00:03\n",
      "   ------------------------- -------------- 18.1/28.3 MB 4.4 MB/s eta 0:00:03\n",
      "   ------------------------- -------------- 18.1/28.3 MB 4.4 MB/s eta 0:00:03\n",
      "   ------------------------- -------------- 18.2/28.3 MB 4.3 MB/s eta 0:00:03\n",
      "   ------------------------- -------------- 18.3/28.3 MB 4.2 MB/s eta 0:00:03\n",
      "   ------------------------- -------------- 18.4/28.3 MB 4.2 MB/s eta 0:00:03\n",
      "   ------------------------- -------------- 18.4/28.3 MB 4.2 MB/s eta 0:00:03\n",
      "   -------------------------- ------------- 18.4/28.3 MB 4.1 MB/s eta 0:00:03\n",
      "   -------------------------- ------------- 18.4/28.3 MB 4.1 MB/s eta 0:00:03\n",
      "   -------------------------- ------------- 18.4/28.3 MB 4.1 MB/s eta 0:00:03\n",
      "   -------------------------- ------------- 18.4/28.3 MB 4.1 MB/s eta 0:00:03\n",
      "   -------------------------- ------------- 18.4/28.3 MB 4.1 MB/s eta 0:00:03\n",
      "   -------------------------- ------------- 18.4/28.3 MB 4.1 MB/s eta 0:00:03\n",
      "   -------------------------- ------------- 18.4/28.3 MB 4.1 MB/s eta 0:00:03\n",
      "   -------------------------- ------------- 18.4/28.3 MB 4.1 MB/s eta 0:00:03\n",
      "   -------------------------- ------------- 18.4/28.3 MB 4.1 MB/s eta 0:00:03\n",
      "   -------------------------- ------------- 18.4/28.3 MB 4.1 MB/s eta 0:00:03\n",
      "   -------------------------- ------------- 18.4/28.3 MB 4.1 MB/s eta 0:00:03\n",
      "   -------------------------- ------------- 18.4/28.3 MB 4.1 MB/s eta 0:00:03\n",
      "   -------------------------- ------------- 18.4/28.3 MB 4.1 MB/s eta 0:00:03\n",
      "   -------------------------- ------------- 18.4/28.3 MB 4.1 MB/s eta 0:00:03\n",
      "   -------------------------- ------------- 18.6/28.3 MB 3.3 MB/s eta 0:00:03\n",
      "   -------------------------- ------------- 18.8/28.3 MB 3.3 MB/s eta 0:00:03\n",
      "   -------------------------- ------------- 19.1/28.3 MB 3.3 MB/s eta 0:00:03\n",
      "   --------------------------- ------------ 19.3/28.3 MB 3.3 MB/s eta 0:00:03\n",
      "   --------------------------- ------------ 19.4/28.3 MB 3.3 MB/s eta 0:00:03\n",
      "   --------------------------- ------------ 19.6/28.3 MB 3.3 MB/s eta 0:00:03\n",
      "   ---------------------------- ----------- 20.2/28.3 MB 3.3 MB/s eta 0:00:03\n",
      "   ---------------------------- ----------- 20.4/28.3 MB 3.4 MB/s eta 0:00:03\n",
      "   ---------------------------- ----------- 20.4/28.3 MB 3.4 MB/s eta 0:00:03\n",
      "   ---------------------------- ----------- 20.4/28.3 MB 3.4 MB/s eta 0:00:03\n",
      "   ---------------------------- ----------- 20.5/28.3 MB 3.3 MB/s eta 0:00:03\n",
      "   ----------------------------- ---------- 20.6/28.3 MB 3.3 MB/s eta 0:00:03\n",
      "   ----------------------------- ---------- 20.7/28.3 MB 3.2 MB/s eta 0:00:03\n",
      "   ----------------------------- ---------- 20.7/28.3 MB 3.2 MB/s eta 0:00:03\n",
      "   ----------------------------- ---------- 20.8/28.3 MB 3.2 MB/s eta 0:00:03\n",
      "   ----------------------------- ---------- 20.9/28.3 MB 3.1 MB/s eta 0:00:03\n",
      "   ----------------------------- ---------- 21.1/28.3 MB 3.1 MB/s eta 0:00:03\n",
      "   ----------------------------- ---------- 21.1/28.3 MB 3.1 MB/s eta 0:00:03\n",
      "   ----------------------------- ---------- 21.1/28.3 MB 3.1 MB/s eta 0:00:03\n",
      "   ----------------------------- ---------- 21.1/28.3 MB 3.1 MB/s eta 0:00:03\n",
      "   ----------------------------- ---------- 21.2/28.3 MB 3.0 MB/s eta 0:00:03\n",
      "   ----------------------------- ---------- 21.2/28.3 MB 2.9 MB/s eta 0:00:03\n",
      "   ------------------------------ --------- 21.4/28.3 MB 2.9 MB/s eta 0:00:03\n",
      "   ------------------------------ --------- 21.5/28.3 MB 2.9 MB/s eta 0:00:03\n",
      "   ------------------------------ --------- 21.6/28.3 MB 2.9 MB/s eta 0:00:03\n",
      "   ------------------------------ --------- 21.8/28.3 MB 2.9 MB/s eta 0:00:03\n",
      "   ------------------------------- -------- 22.0/28.3 MB 2.9 MB/s eta 0:00:03\n",
      "   ------------------------------- -------- 22.1/28.3 MB 2.9 MB/s eta 0:00:03\n",
      "   ------------------------------- -------- 22.3/28.3 MB 2.8 MB/s eta 0:00:03\n",
      "   ------------------------------- -------- 22.4/28.3 MB 2.8 MB/s eta 0:00:03\n",
      "   ------------------------------- -------- 22.5/28.3 MB 2.8 MB/s eta 0:00:03\n",
      "   ------------------------------- -------- 22.6/28.3 MB 2.8 MB/s eta 0:00:03\n",
      "   ------------------------------- -------- 22.6/28.3 MB 2.8 MB/s eta 0:00:03\n",
      "   -------------------------------- ------- 22.8/28.3 MB 2.8 MB/s eta 0:00:02\n",
      "   -------------------------------- ------- 23.1/28.3 MB 2.8 MB/s eta 0:00:02\n",
      "   -------------------------------- ------- 23.3/28.3 MB 2.8 MB/s eta 0:00:02\n",
      "   --------------------------------- ------ 23.5/28.3 MB 2.8 MB/s eta 0:00:02\n",
      "   --------------------------------- ------ 23.8/28.3 MB 2.8 MB/s eta 0:00:02\n",
      "   --------------------------------- ------ 23.9/28.3 MB 2.8 MB/s eta 0:00:02\n",
      "   ---------------------------------- ----- 24.1/28.3 MB 2.7 MB/s eta 0:00:02\n",
      "   ---------------------------------- ----- 24.1/28.3 MB 2.7 MB/s eta 0:00:02\n",
      "   ---------------------------------- ----- 24.1/28.3 MB 2.7 MB/s eta 0:00:02\n",
      "   ---------------------------------- ----- 24.4/28.3 MB 2.7 MB/s eta 0:00:02\n",
      "   ---------------------------------- ----- 24.5/28.3 MB 2.7 MB/s eta 0:00:02\n",
      "   ---------------------------------- ----- 24.7/28.3 MB 2.8 MB/s eta 0:00:02\n",
      "   ----------------------------------- ---- 24.9/28.3 MB 2.8 MB/s eta 0:00:02\n",
      "   ----------------------------------- ---- 24.9/28.3 MB 2.8 MB/s eta 0:00:02\n",
      "   ----------------------------------- ---- 24.9/28.3 MB 2.8 MB/s eta 0:00:02\n",
      "   ----------------------------------- ---- 24.9/28.3 MB 2.8 MB/s eta 0:00:02\n",
      "   ----------------------------------- ---- 24.9/28.3 MB 2.8 MB/s eta 0:00:02\n",
      "   ----------------------------------- ---- 24.9/28.3 MB 2.8 MB/s eta 0:00:02\n",
      "   ----------------------------------- ---- 24.9/28.3 MB 2.8 MB/s eta 0:00:02\n",
      "   ----------------------------------- ---- 24.9/28.3 MB 2.6 MB/s eta 0:00:02\n",
      "   ----------------------------------- ---- 25.1/28.3 MB 2.6 MB/s eta 0:00:02\n",
      "   ----------------------------------- ---- 25.3/28.3 MB 2.6 MB/s eta 0:00:02\n",
      "   ----------------------------------- ---- 25.4/28.3 MB 2.5 MB/s eta 0:00:02\n",
      "   ------------------------------------ --- 25.6/28.3 MB 2.6 MB/s eta 0:00:02\n",
      "   ------------------------------------ --- 25.8/28.3 MB 2.5 MB/s eta 0:00:01\n",
      "   ------------------------------------ --- 26.0/28.3 MB 2.5 MB/s eta 0:00:01\n",
      "   ------------------------------------ --- 26.1/28.3 MB 2.6 MB/s eta 0:00:01\n",
      "   ------------------------------------- -- 26.3/28.3 MB 2.5 MB/s eta 0:00:01\n",
      "   ------------------------------------- -- 26.6/28.3 MB 2.6 MB/s eta 0:00:01\n",
      "   ------------------------------------- -- 26.8/28.3 MB 2.5 MB/s eta 0:00:01\n",
      "   -------------------------------------- - 26.9/28.3 MB 2.5 MB/s eta 0:00:01\n",
      "   -------------------------------------- - 27.1/28.3 MB 2.5 MB/s eta 0:00:01\n",
      "   -------------------------------------- - 27.4/28.3 MB 2.5 MB/s eta 0:00:01\n",
      "   -------------------------------------- - 27.5/28.3 MB 2.5 MB/s eta 0:00:01\n",
      "   ---------------------------------------  27.7/28.3 MB 2.5 MB/s eta 0:00:01\n",
      "   ---------------------------------------  27.9/28.3 MB 2.5 MB/s eta 0:00:01\n",
      "   ---------------------------------------  28.1/28.3 MB 2.5 MB/s eta 0:00:01\n",
      "   ---------------------------------------  28.2/28.3 MB 2.5 MB/s eta 0:00:01\n",
      "   ---------------------------------------  28.3/28.3 MB 2.6 MB/s eta 0:00:01\n",
      "   ---------------------------------------  28.3/28.3 MB 2.6 MB/s eta 0:00:01\n",
      "   ---------------------------------------- 28.3/28.3 MB 2.5 MB/s eta 0:00:00\n",
      "Downloading mlflow_skinny-2.20.1-py3-none-any.whl (6.0 MB)\n",
      "   ---------------------------------------- 0.0/6.0 MB ? eta -:--:--\n",
      "    --------------------------------------- 0.1/6.0 MB 4.3 MB/s eta 0:00:02\n",
      "   - -------------------------------------- 0.3/6.0 MB 3.9 MB/s eta 0:00:02\n",
      "   -- ------------------------------------- 0.3/6.0 MB 2.7 MB/s eta 0:00:03\n",
      "   -- ------------------------------------- 0.4/6.0 MB 2.7 MB/s eta 0:00:03\n",
      "   ---- ----------------------------------- 0.7/6.0 MB 3.4 MB/s eta 0:00:02\n",
      "\n",
      "   ----- ---------------------------------- 0.8/6.0 MB 3.6 MB/s eta 0:00:02\n",
      "   ------ --------------------------------- 1.0/6.0 MB 3.5 MB/s eta 0:00:02\n",
      "   ------- -------------------------------- 1.2/6.0 MB 3.7 MB/s eta 0:00:02\n",
      "   -------- ------------------------------- 1.2/6.0 MB 3.6 MB/s eta 0:00:02\n",
      "   --------- ------------------------------ 1.5/6.0 MB 3.8 MB/s eta 0:00:02\n",
      "   ----------- ---------------------------- 1.7/6.0 MB 3.9 MB/s eta 0:00:02\n",
      "   ------------ --------------------------- 1.9/6.0 MB 3.8 MB/s eta 0:00:02\n",
      "   ------------ --------------------------- 1.9/6.0 MB 3.9 MB/s eta 0:00:02\n",
      "   -------------- ------------------------- 2.1/6.0 MB 3.6 MB/s eta 0:00:02\n",
      "   --------------- ------------------------ 2.3/6.0 MB 3.7 MB/s eta 0:00:02\n",
      "   ---------------- ----------------------- 2.4/6.0 MB 3.8 MB/s eta 0:00:01\n",
      "   ----------------- ---------------------- 2.6/6.0 MB 3.8 MB/s eta 0:00:01\n",
      "   ------------------- -------------------- 2.8/6.0 MB 3.9 MB/s eta 0:00:01\n",
      "   ------------------- -------------------- 3.0/6.0 MB 3.8 MB/s eta 0:00:01\n",
      "   --------------------- ------------------ 3.2/6.0 MB 3.9 MB/s eta 0:00:01\n",
      "   ---------------------- ----------------- 3.4/6.0 MB 3.9 MB/s eta 0:00:01\n",
      "   ------------------------ --------------- 3.6/6.0 MB 4.0 MB/s eta 0:00:01\n",
      "   ------------------------- -------------- 3.8/6.0 MB 4.0 MB/s eta 0:00:01\n",
      "   -------------------------- ------------- 4.0/6.0 MB 4.0 MB/s eta 0:00:01\n",
      "   ---------------------------- ----------- 4.2/6.0 MB 4.0 MB/s eta 0:00:01\n",
      "   ----------------------------- ---------- 4.4/6.0 MB 4.0 MB/s eta 0:00:01\n",
      "   ------------------------------ --------- 4.6/6.0 MB 4.1 MB/s eta 0:00:01\n",
      "   ------------------------------- -------- 4.8/6.0 MB 4.1 MB/s eta 0:00:01\n",
      "   -------------------------------- ------- 4.9/6.0 MB 4.1 MB/s eta 0:00:01\n",
      "   --------------------------------- ------ 5.0/6.0 MB 4.0 MB/s eta 0:00:01\n",
      "   --------------------------------- ------ 5.1/6.0 MB 3.9 MB/s eta 0:00:01\n",
      "   ---------------------------------- ----- 5.1/6.0 MB 3.9 MB/s eta 0:00:01\n",
      "   ----------------------------------- ---- 5.3/6.0 MB 3.8 MB/s eta 0:00:01\n",
      "   ----------------------------------- ---- 5.4/6.0 MB 3.8 MB/s eta 0:00:01\n",
      "   ------------------------------------ --- 5.5/6.0 MB 3.8 MB/s eta 0:00:01\n",
      "   -------------------------------------- - 5.8/6.0 MB 3.9 MB/s eta 0:00:01\n",
      "   ---------------------------------------  6.0/6.0 MB 3.9 MB/s eta 0:00:01\n",
      "   ---------------------------------------- 6.0/6.0 MB 3.8 MB/s eta 0:00:00\n",
      "Using cached alembic-1.14.1-py3-none-any.whl (233 kB)\n",
      "Using cached docker-7.1.0-py3-none-any.whl (147 kB)\n",
      "Using cached graphene-3.4.3-py2.py3-none-any.whl (114 kB)\n",
      "Using cached waitress-3.0.2-py3-none-any.whl (56 kB)\n",
      "Downloading databricks_sdk-0.42.0-py3-none-any.whl (643 kB)\n",
      "   ---------------------------------------- 0.0/643.8 kB ? eta -:--:--\n",
      "   ---------- ----------------------------- 163.8/643.8 kB 3.3 MB/s eta 0:00:01\n",
      "   ---------------------- ----------------- 368.6/643.8 kB 3.8 MB/s eta 0:00:01\n",
      "   ----------------------------- ---------- 471.0/643.8 kB 3.7 MB/s eta 0:00:01\n",
      "   ------------------------------- -------- 501.8/643.8 kB 2.9 MB/s eta 0:00:01\n",
      "   ---------------------------------------  634.9/643.8 kB 2.9 MB/s eta 0:00:01\n",
      "   ---------------------------------------- 643.8/643.8 kB 2.9 MB/s eta 0:00:00\n",
      "Using cached graphql_core-3.2.6-py3-none-any.whl (203 kB)\n",
      "Using cached graphql_relay-3.2.0-py3-none-any.whl (16 kB)\n",
      "Using cached opentelemetry_api-1.29.0-py3-none-any.whl (64 kB)\n",
      "Using cached opentelemetry_sdk-1.29.0-py3-none-any.whl (118 kB)\n",
      "Using cached opentelemetry_semantic_conventions-0.50b0-py3-none-any.whl (166 kB)\n",
      "Using cached sqlparse-0.5.3-py3-none-any.whl (44 kB)\n",
      "Using cached Mako-1.3.8-py3-none-any.whl (78 kB)\n",
      "Using cached Deprecated-1.2.18-py2.py3-none-any.whl (10.0 kB)\n",
      "Using cached google_auth-2.38.0-py2.py3-none-any.whl (210 kB)\n",
      "Using cached rsa-4.9-py3-none-any.whl (34 kB)\n",
      "Installing collected packages: waitress, sqlparse, rsa, Mako, graphql-core, deprecated, opentelemetry-api, graphql-relay, google-auth, docker, alembic, opentelemetry-semantic-conventions, graphene, databricks-sdk, opentelemetry-sdk, mlflow-skinny, mlflow\n",
      "Successfully installed Mako-1.3.8 alembic-1.14.1 databricks-sdk-0.42.0 deprecated-1.2.18 docker-7.1.0 google-auth-2.38.0 graphene-3.4.3 graphql-core-3.2.6 graphql-relay-3.2.0 mlflow-2.20.1 mlflow-skinny-2.20.1 opentelemetry-api-1.29.0 opentelemetry-sdk-1.29.0 opentelemetry-semantic-conventions-0.50b0 rsa-4.9 sqlparse-0.5.3 waitress-3.0.2\n"
=======
      "\n",
      "Optimized Accuracy Score: 0.19746376811594202\n",
      "\n",
      "Optimized Classification Report:\n",
      "                precision    recall  f1-score   support\n",
      "\n",
      "     business       0.23      0.07      0.11       245\n",
      "    education       0.39      0.06      0.11       274\n",
      "entertainment       0.12      0.05      0.07       178\n",
      "       sports       0.15      0.80      0.25       137\n",
      "   technology       0.38      0.24      0.29       270\n",
      "\n",
      "     accuracy                           0.20      1104\n",
      "    macro avg       0.25      0.25      0.17      1104\n",
      " weighted avg       0.28      0.20      0.17      1104\n",
      "\n"
>>>>>>> main
     ]
    }
   ],
   "source": [
<<<<<<< HEAD
    "pip install mlflow"
=======
    "# Predict on the test set\n",
    "y_pred_optimized = best_rf_model.predict(X_test_rf)\n",
    "\n",
    "# Evaluate the model\n",
    "print(\"\\nOptimized Accuracy Score:\", accuracy_score(y_test_rf, y_pred_optimized))\n",
    "print(\"\\nOptimized Classification Report:\\n\", classification_report(y_test_rf, y_pred_optimized))\n"
   ]
  },
  {
   "cell_type": "markdown",
   "id": "59417ddc",
   "metadata": {},
   "source": [
    "#### MLFlow"
>>>>>>> main
   ]
  },
  {
   "cell_type": "code",
<<<<<<< HEAD
   "execution_count": 137,
   "id": "74f400b1-e905-4a83-ba67-a8a0638df7e8",
   "metadata": {},
   "outputs": [
    {
     "data": {
      "application/vnd.jupyter.widget-view+json": {
       "model_id": "3632e8177c7c4dc9a6d58dda22d3d32c",
       "version_major": 2,
       "version_minor": 0
      },
      "text/plain": [
       "Downloading artifacts:   0%|          | 0/7 [00:00<?, ?it/s]"
      ]
     },
     "metadata": {},
     "output_type": "display_data"
    },
    {
     "name": "stdout",
     "output_type": "stream",
     "text": [
      "Logged Naive Bayes model with accuracy: 0.9650 to MLflow\n",
      "MLflow URI: file:///C:/Users/Fransisca%20Nong/Downloads/Team5_Project/Group_5_Classification_Project/mlruns\n",
      "Best Naive Bayes model saved locally as 'best_naive_bayes.pkl'\n"
     ]
    }
   ],
   "source": [
    "import mlflow\n",
    "import mlflow.sklearn\n",
    "# import matplotlib.pyplot as plt\n",
    "import numpy as np\n",
    "import joblib\n",
    "from sklearn.feature_extraction.text import TfidfVectorizer\n",
    "from sklearn.naive_bayes import MultinomialNB\n",
    "from sklearn.metrics import accuracy_score\n",
    "\n",
    "# Step 1: Vectorize text data\n",
    "tfidf = TfidfVectorizer(max_features=1000)\n",
    "X_train_tfidf = tfidf.fit_transform(X_train['content'])  # Select 'content' column\n",
    "X_test_tfidf = tfidf.transform(X_test['content'])\n",
    "\n",
    "# Step 2: Train Naive Bayes model\n",
    "nb = MultinomialNB()\n",
    "nb.fit(X_train_tfidf, y_train)\n",
    "\n",
    "# Step 3: Evaluate model\n",
    "y_pred = nb.predict(X_test_tfidf)\n",
    "accuracy = accuracy_score(y_test, y_pred)\n",
    "\n",
    "# Step 4: Get feature importance\n",
    "feature_names = tfidf.get_feature_names_out()\n",
    "class_diff = nb.feature_log_prob_\n",
    "\n",
    "if class_diff.shape[0] == 2:\n",
    "    importance = class_diff[1] - class_diff[0]  \n",
    "else:\n",
    "    importance = np.mean(class_diff, axis=0)  \n",
    "\n",
    "sorted_idx = importance.argsort()\n",
    "top_n = 20\n",
    "top_features = feature_names[sorted_idx[-top_n:]]\n",
    "top_importance = importance[sorted_idx[-top_n:]]\n",
    "\n",
    "# Step 5: Start MLflow run and log data\n",
    "with mlflow.start_run():\n",
    "    # Log the model with an input example\n",
    "    input_example = np.array(X_test_tfidf[0].toarray())  # Convert sparse matrix row to NumPy array\n",
    "    mlflow.sklearn.log_model(nb, \"naive_bayes_model\", input_example=input_example)\n",
    "\n",
    "    # Log accuracy\n",
    "    accuracy = accuracy_score(y_test, nb.predict(X_test_tfidf))\n",
    "    mlflow.log_metric(\"accuracy\", accuracy)\n",
    "    \n",
    "    # Save the vectorizer\n",
    "    joblib.dump(tfidf, \"tfidf_vectorizer.pkl\")\n",
    "    mlflow.log_artifact(\"tfidf_vectorizer.pkl\")\n",
    "    \n",
    "    mlflow.log_artifact(\"feature_importance.png\")  # Log plot as artifact\n",
    "\n",
    "    print(f\"Logged Naive Bayes model with accuracy: {accuracy:.4f} to MLflow\")\n",
    " # Get MLflow URI after logging\n",
    "    tracking_uri = mlflow.get_tracking_uri()\n",
    "    print(f\"MLflow URI: {tracking_uri}\")\n",
    "# Step 6: Save the model locally\n",
    "joblib.dump(nb, \"best_naive_bayes.pkl\")\n",
    "print(\"Best Naive Bayes model saved locally as 'best_naive_bayes.pkl'\")\n"
=======
   "execution_count": 50,
   "id": "e3338152-8d0c-4c97-bd61-8b1f7c0d037f",
   "metadata": {},
   "outputs": [],
   "source": [
    "#Setting the tracking URI, which is where MLFlow will run and log experiments\n",
    "import mlflow\n",
    "import joblib\n",
    "import mlflow.sklearn\n",
    "mlflow.set_tracking_uri(uri=\"http://127.0.0.1:5000\")"
>>>>>>> main
   ]
  },
  {
   "cell_type": "code",
<<<<<<< HEAD
   "execution_count": 139,
   "id": "47563577-6aff-485f-baed-16f016da7739",
   "metadata": {},
   "outputs": [
    {
     "name": "stdout",
     "output_type": "stream",
     "text": [
      "Requirement already satisfied: streamlit in c:\\users\\fransisca nong\\anaconda3\\lib\\site-packages (1.32.0)\n",
      "Requirement already satisfied: altair<6,>=4.0 in c:\\users\\fransisca nong\\anaconda3\\lib\\site-packages (from streamlit) (5.0.1)\n",
      "Requirement already satisfied: blinker<2,>=1.0.0 in c:\\users\\fransisca nong\\anaconda3\\lib\\site-packages (from streamlit) (1.6.2)\n",
      "Requirement already satisfied: cachetools<6,>=4.0 in c:\\users\\fransisca nong\\anaconda3\\lib\\site-packages (from streamlit) (5.3.3)\n",
      "Requirement already satisfied: click<9,>=7.0 in c:\\users\\fransisca nong\\anaconda3\\lib\\site-packages (from streamlit) (8.1.7)\n",
      "Requirement already satisfied: numpy<2,>=1.19.3 in c:\\users\\fransisca nong\\anaconda3\\lib\\site-packages (from streamlit) (1.26.4)\n",
      "Collecting packaging<24,>=16.8 (from streamlit)\n",
      "  Downloading packaging-23.2-py3-none-any.whl.metadata (3.2 kB)\n",
      "Requirement already satisfied: pandas<3,>=1.3.0 in c:\\users\\fransisca nong\\anaconda3\\lib\\site-packages (from streamlit) (2.2.2)\n",
      "Requirement already satisfied: pillow<11,>=7.1.0 in c:\\users\\fransisca nong\\anaconda3\\lib\\site-packages (from streamlit) (10.3.0)\n",
      "Requirement already satisfied: protobuf<5,>=3.20 in c:\\users\\fransisca nong\\anaconda3\\lib\\site-packages (from streamlit) (3.20.3)\n",
      "Requirement already satisfied: pyarrow>=7.0 in c:\\users\\fransisca nong\\anaconda3\\lib\\site-packages (from streamlit) (14.0.2)\n",
      "Requirement already satisfied: requests<3,>=2.27 in c:\\users\\fransisca nong\\anaconda3\\lib\\site-packages (from streamlit) (2.32.2)\n",
      "Requirement already satisfied: rich<14,>=10.14.0 in c:\\users\\fransisca nong\\anaconda3\\lib\\site-packages (from streamlit) (13.3.5)\n",
      "Requirement already satisfied: tenacity<9,>=8.1.0 in c:\\users\\fransisca nong\\anaconda3\\lib\\site-packages (from streamlit) (8.2.2)\n",
      "Requirement already satisfied: toml<2,>=0.10.1 in c:\\users\\fransisca nong\\anaconda3\\lib\\site-packages (from streamlit) (0.10.2)\n",
      "Requirement already satisfied: typing-extensions<5,>=4.3.0 in c:\\users\\fransisca nong\\anaconda3\\lib\\site-packages (from streamlit) (4.11.0)\n",
      "Requirement already satisfied: gitpython!=3.1.19,<4,>=3.0.7 in c:\\users\\fransisca nong\\anaconda3\\lib\\site-packages (from streamlit) (3.1.37)\n",
      "Requirement already satisfied: pydeck<1,>=0.8.0b4 in c:\\users\\fransisca nong\\anaconda3\\lib\\site-packages (from streamlit) (0.8.0)\n",
      "Requirement already satisfied: tornado<7,>=6.0.3 in c:\\users\\fransisca nong\\appdata\\roaming\\python\\python312\\site-packages (from streamlit) (6.4.1)\n",
      "Requirement already satisfied: watchdog>=2.1.5 in c:\\users\\fransisca nong\\anaconda3\\lib\\site-packages (from streamlit) (4.0.1)\n",
      "Requirement already satisfied: jinja2 in c:\\users\\fransisca nong\\anaconda3\\lib\\site-packages (from altair<6,>=4.0->streamlit) (3.1.4)\n",
      "Requirement already satisfied: jsonschema>=3.0 in c:\\users\\fransisca nong\\anaconda3\\lib\\site-packages (from altair<6,>=4.0->streamlit) (4.19.2)\n",
      "Requirement already satisfied: toolz in c:\\users\\fransisca nong\\anaconda3\\lib\\site-packages (from altair<6,>=4.0->streamlit) (0.12.0)\n",
      "Requirement already satisfied: colorama in c:\\users\\fransisca nong\\appdata\\roaming\\python\\python312\\site-packages (from click<9,>=7.0->streamlit) (0.4.6)\n",
      "Requirement already satisfied: gitdb<5,>=4.0.1 in c:\\users\\fransisca nong\\anaconda3\\lib\\site-packages (from gitpython!=3.1.19,<4,>=3.0.7->streamlit) (4.0.7)\n",
      "Requirement already satisfied: python-dateutil>=2.8.2 in c:\\users\\fransisca nong\\appdata\\roaming\\python\\python312\\site-packages (from pandas<3,>=1.3.0->streamlit) (2.9.0.post0)\n",
      "Requirement already satisfied: pytz>=2020.1 in c:\\users\\fransisca nong\\anaconda3\\lib\\site-packages (from pandas<3,>=1.3.0->streamlit) (2024.1)\n",
      "Requirement already satisfied: tzdata>=2022.7 in c:\\users\\fransisca nong\\anaconda3\\lib\\site-packages (from pandas<3,>=1.3.0->streamlit) (2023.3)\n",
      "Requirement already satisfied: charset-normalizer<4,>=2 in c:\\users\\fransisca nong\\anaconda3\\lib\\site-packages (from requests<3,>=2.27->streamlit) (2.0.4)\n",
      "Requirement already satisfied: idna<4,>=2.5 in c:\\users\\fransisca nong\\anaconda3\\lib\\site-packages (from requests<3,>=2.27->streamlit) (3.7)\n",
      "Requirement already satisfied: urllib3<3,>=1.21.1 in c:\\users\\fransisca nong\\anaconda3\\lib\\site-packages (from requests<3,>=2.27->streamlit) (2.2.2)\n",
      "Requirement already satisfied: certifi>=2017.4.17 in c:\\users\\fransisca nong\\anaconda3\\lib\\site-packages (from requests<3,>=2.27->streamlit) (2024.7.4)\n",
      "Requirement already satisfied: markdown-it-py<3.0.0,>=2.2.0 in c:\\users\\fransisca nong\\anaconda3\\lib\\site-packages (from rich<14,>=10.14.0->streamlit) (2.2.0)\n",
      "Requirement already satisfied: pygments<3.0.0,>=2.13.0 in c:\\users\\fransisca nong\\appdata\\roaming\\python\\python312\\site-packages (from rich<14,>=10.14.0->streamlit) (2.18.0)\n",
      "Requirement already satisfied: smmap<5,>=3.0.1 in c:\\users\\fransisca nong\\anaconda3\\lib\\site-packages (from gitdb<5,>=4.0.1->gitpython!=3.1.19,<4,>=3.0.7->streamlit) (4.0.0)\n",
      "Requirement already satisfied: MarkupSafe>=2.0 in c:\\users\\fransisca nong\\anaconda3\\lib\\site-packages (from jinja2->altair<6,>=4.0->streamlit) (2.1.3)\n",
      "Requirement already satisfied: attrs>=22.2.0 in c:\\users\\fransisca nong\\anaconda3\\lib\\site-packages (from jsonschema>=3.0->altair<6,>=4.0->streamlit) (23.1.0)\n",
      "Requirement already satisfied: jsonschema-specifications>=2023.03.6 in c:\\users\\fransisca nong\\anaconda3\\lib\\site-packages (from jsonschema>=3.0->altair<6,>=4.0->streamlit) (2023.7.1)\n",
      "Requirement already satisfied: referencing>=0.28.4 in c:\\users\\fransisca nong\\anaconda3\\lib\\site-packages (from jsonschema>=3.0->altair<6,>=4.0->streamlit) (0.30.2)\n",
      "Requirement already satisfied: rpds-py>=0.7.1 in c:\\users\\fransisca nong\\anaconda3\\lib\\site-packages (from jsonschema>=3.0->altair<6,>=4.0->streamlit) (0.10.6)\n",
      "Requirement already satisfied: mdurl~=0.1 in c:\\users\\fransisca nong\\anaconda3\\lib\\site-packages (from markdown-it-py<3.0.0,>=2.2.0->rich<14,>=10.14.0->streamlit) (0.1.0)\n",
      "Requirement already satisfied: six>=1.5 in c:\\users\\fransisca nong\\appdata\\roaming\\python\\python312\\site-packages (from python-dateutil>=2.8.2->pandas<3,>=1.3.0->streamlit) (1.16.0)\n",
      "Downloading packaging-23.2-py3-none-any.whl (53 kB)\n",
      "   ---------------------------------------- 0.0/53.0 kB ? eta -:--:--\n",
      "   --------------- ------------------------ 20.5/53.0 kB 682.7 kB/s eta 0:00:01\n",
      "   ---------------------------------------- 53.0/53.0 kB 689.9 kB/s eta 0:00:00\n",
      "Installing collected packages: packaging\n",
      "  Attempting uninstall: packaging\n",
      "    Found existing installation: packaging 24.1\n",
      "    Uninstalling packaging-24.1:\n",
      "      Successfully uninstalled packaging-24.1\n",
      "Successfully installed packaging-23.2\n",
      "Note: you may need to restart the kernel to use updated packages.\n"
     ]
    }
   ],
   "source": [
    "pip install streamlit"
=======
   "execution_count": 51,
   "id": "5fe6e3b7-f642-4e1a-87b5-33fcba144593",
   "metadata": {},
   "outputs": [],
   "source": [
    "from sklearn.ensemble import RandomForestClassifier\n",
    "\n",
    "def train_random_forest(X_train, y_train, X_test, y_test, n_estimators, max_depth, min_samples_split,\n",
    "                        min_samples_leaf, model_name=None, random_state=None):\n",
    "    # Function code here\n",
    "\n",
    "    experiment = mlflow.create_experiment(model_name)\n",
    "    # Set MLflow experiment\n",
    "    mlflow.set_experiment(f\"{model_name}_random_forest_experiment\")\n",
    "\n",
    "    # Start a new MLflow run\n",
    "    with mlflow.start_run():\n",
    "        # Create the Random Forest model\n",
    "        rf_model = RandomForestClassifier(\n",
    "            n_estimators=n_estimators,\n",
    "            max_depth=max_depth,\n",
    "            min_samples_split=min_samples_split,\n",
    "            min_samples_leaf=min_samples_leaf,\n",
    "            random_state=random_state\n",
    "        )\n",
    "        \n",
    "        # Train the model\n",
    "        rf_model.fit(X_train_rf, y_train_rf)\n",
    "        \n",
    "        # Predict on test data\n",
    "        y_pred = rf_model.predict(X_test_rf)\n",
    "        \n",
    "        # Log hyperparameters\n",
    "        mlflow.log_param(\"n_estimators\", n_estimators)\n",
    "        mlflow.log_param(\"max_depth\", max_depth)\n",
    "        mlflow.log_param(\"min_samples_split\", min_samples_split)\n",
    "        mlflow.log_param(\"min_samples_leaf\", min_samples_leaf)\n",
    "        \n",
    "        # Calculate and log accuracy as a metric\n",
    "        accuracy = accuracy_score(y_test_rf, y_pred)\n",
    "        mlflow.log_metric(\"accuracy\", accuracy)\n",
    "        \n",
    "        # Optionally: Log the classification report as an artifact\n",
    "        report = classification_report(y_test_rf, y_pred, output_dict=True)\n",
    "        report_path = \"classification_report.json\"\n",
    "        with open(report_path, \"w\") as f:\n",
    "            json.dump(report, f)\n",
    "        \n",
    "        # Log the classification report as an artifact\n",
    "        mlflow.log_artifact(report_path)\n",
    "        \n",
    "        # Log the trained model\n",
    "        mlflow.sklearn.log_model(rf_model, \"random_forest_model\")\n",
    "        \n",
    "        # Optionally: Save the model as a .pkl file and log it\n",
    "        model_path = \"random_forest_model.pkl\"\n",
    "        joblib.dump(rf_model, model_path)\n",
    "        mlflow.log_artifact(model_path)\n",
    "        \n",
    "        # Print and return the accuracy of the model\n",
    "        print(f\"Model training completed with accuracy: {accuracy}\")\n",
    "        return accuracy\n"
>>>>>>> main
   ]
  },
  {
   "cell_type": "code",
<<<<<<< HEAD
   "execution_count": 141,
   "id": "b278a065-ce5d-4346-b0b0-ec0bd497bc9e",
=======
   "execution_count": 53,
   "id": "eb4964c7-ee58-4a49-a4a9-fd58597d88f5",
>>>>>>> main
   "metadata": {},
   "outputs": [
    {
     "name": "stderr",
     "output_type": "stream",
     "text": [
<<<<<<< HEAD
      "2025-01-31 23:24:56.829 \n",
      "  \u001b[33m\u001b[1mWarning:\u001b[0m to view this Streamlit app on a browser, run it with the following\n",
      "  command:\n",
      "\n",
      "    streamlit run C:\\Users\\Fransisca Nong\\AppData\\Roaming\\Python\\Python312\\site-packages\\ipykernel_launcher.py [ARGUMENTS]\n"
=======
      "2025/02/05 13:45:45 INFO mlflow.tracking.fluent: Experiment with name 'base model 5_random_forest_experiment' does not exist. Creating a new experiment.\n",
      "2025/02/05 13:45:50 WARNING mlflow.models.model: Model logged without a signature and input example. Please set `input_example` parameter when logging the model to auto infer the model signature.\n"
     ]
    },
    {
     "name": "stdout",
     "output_type": "stream",
     "text": [
      "Model training completed with accuracy: 0.17572463768115942\n",
      "🏃 View run valuable-panda-74 at: http://127.0.0.1:5000/#/experiments/196306924988680913/runs/cc34a89ac6a0443689d8fd99c503f589\n",
      "🧪 View experiment at: http://127.0.0.1:5000/#/experiments/196306924988680913\n"
     ]
    },
    {
     "data": {
      "text/plain": [
       "0.17572463768115942"
      ]
     },
     "execution_count": 53,
     "metadata": {},
     "output_type": "execute_result"
    }
   ],
   "source": [
    "train_random_forest(X_train, y_train, X_test, y_test, 5, 3, 2, 1, model_name=\"base model 5\", random_state=42)"
   ]
  },
  {
   "cell_type": "code",
   "execution_count": 54,
   "id": "cdf405e1-f831-42e3-8f62-5d63a8cf57a5",
   "metadata": {},
   "outputs": [
    {
     "name": "stderr",
     "output_type": "stream",
     "text": [
      "2025/02/05 13:45:56 INFO mlflow.tracking.fluent: Experiment with name 'optimized model 5_random_forest_experiment' does not exist. Creating a new experiment.\n",
      "2025/02/05 13:46:01 WARNING mlflow.models.model: Model logged without a signature and input example. Please set `input_example` parameter when logging the model to auto infer the model signature.\n"
     ]
    },
    {
     "name": "stdout",
     "output_type": "stream",
     "text": [
      "Model training completed with accuracy: 0.17572463768115942\n",
      "🏃 View run agreeable-auk-153 at: http://127.0.0.1:5000/#/experiments/861176023264081488/runs/9eb030035e434a29af0303ee996b856d\n",
      "🧪 View experiment at: http://127.0.0.1:5000/#/experiments/861176023264081488\n"
     ]
    },
    {
     "data": {
      "text/plain": [
       "0.17572463768115942"
      ]
     },
     "execution_count": 54,
     "metadata": {},
     "output_type": "execute_result"
    }
   ],
   "source": [
    "train_random_forest(X_train, y_train, X_test, y_test, 5, 3, 2, 1 , model_name=\"optimized model 5\", random_state=42)"
   ]
  },
  {
   "cell_type": "code",
   "execution_count": 55,
   "id": "033d75fd-6938-4ff6-812e-5075a6fa81b3",
   "metadata": {},
   "outputs": [
    {
     "name": "stdout",
     "output_type": "stream",
     "text": [
      "Model saved as 'optimized_rf_model.pkl'\n"
>>>>>>> main
     ]
    }
   ],
   "source": [
<<<<<<< HEAD
    "import mlflow\n",
    "import mlflow.sklearn\n",
    "import streamlit as st\n",
    "import numpy as np\n",
    "import joblib\n",
    "from sklearn.feature_extraction.text import TfidfVectorizer\n",
    "\n",
    "# Load the model and vectorizer from MLflow\n",
    "def load_model_from_mlflow():\n",
    "    # Use MLflow to load the model\n",
    "    model_uri = \"runs:/<your_run_id>/naive_bayes_model\"  # Replace with your specific run ID\n",
    "    model = mlflow.sklearn.load_model(model_uri)\n",
    "    \n",
    "    # Load the TF-IDF vectorizer (if saved as an artifact)\n",
    "    vectorizer = joblib.load(\"tfidf_vectorizer.pkl\")\n",
    "    \n",
    "    return model, vectorizer\n",
    "\n",
    "# Function to predict category based on input text\n",
    "def predict_category(model, vectorizer, text_input):\n",
    "    # Transform the input text using the vectorizer\n",
    "    text_tfidf = vectorizer.transform([text_input])\n",
    "    # Make a prediction\n",
    "    prediction = model.predict(text_tfidf)\n",
    "    return prediction[0]\n",
    "\n",
    "# Streamlit UI\n",
    "def run_streamlit_app():\n",
    "    st.title(\"Naive Bayes Text Classifier\")\n",
    "\n",
    "    # Get user input\n",
    "    user_input = st.text_area(\"Enter some text:\")\n",
    "\n",
    "    if st.button(\"Predict\"):\n",
    "        if user_input:\n",
    "            # Load model and vectorizer from MLflow\n",
    "            model, vectorizer = load_model_from_mlflow()\n",
    "            \n",
    "            # Predict and display the result\n",
    "            category = predict_category(model, vectorizer, user_input)\n",
    "            st.write(f\"Predicted Category: {category}\")\n",
    "        else:\n",
    "            st.write(\"Please enter some text to classify.\")\n",
    "\n",
    "if __name__ == \"__main__\":\n",
    "    run_streamlit_app()\n"
=======
    "joblib.dump(best_rf_model, \"optimized_rf_model.pkl\")\n",
    "print(\"Model saved as 'optimized_rf_model.pkl'\")\n"
   ]
  },
  {
   "cell_type": "code",
   "execution_count": 56,
   "id": "d630630f-c4dd-4fde-b801-22c8faf534c4",
   "metadata": {},
   "outputs": [
    {
     "data": {
      "image/png": "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",
      "text/plain": [
       "<Figure size 640x480 with 2 Axes>"
      ]
     },
     "metadata": {},
     "output_type": "display_data"
    }
   ],
   "source": [
    "from sklearn.metrics import ConfusionMatrixDisplay\n",
    "\n",
    "# Plot confusion matrix\n",
    "ConfusionMatrixDisplay.from_estimator(best_rf_model, X_test_rf, y_test_rf, cmap='Blues')\n",
    "plt.title(\"Confusion Matrix\")\n",
    "plt.show()\n"
>>>>>>> main
   ]
  },
  {
   "cell_type": "code",
   "execution_count": null,
<<<<<<< HEAD
   "id": "52f972a1-cf83-4e57-a18b-dd7005cf5fa3",
=======
   "id": "5ae88543-d8c8-4f3e-876f-f7d286e4881c",
   "metadata": {},
   "outputs": [],
   "source": [
    "print(len(features))\n",
    "print(len(importances))\n"
   ]
  },
  {
   "cell_type": "code",
   "execution_count": null,
   "id": "280f1354-916c-4b6f-ae79-27a5641d2469",
   "metadata": {},
   "outputs": [],
   "source": [
    "# Trim the importances array to match the number of features\n",
    "importances = importances[:len(features)]\n"
   ]
  },
  {
   "cell_type": "code",
   "execution_count": null,
   "id": "972d2bfd-3691-4c10-8691-b6a71139ebe4",
   "metadata": {},
   "outputs": [],
   "source": [
    "# Create the DataFrame with feature names and importances\n",
    "importance_df = pd.DataFrame({'Feature': features, 'Importance': importances})\n",
    "\n",
    "# Sort the DataFrame by importance in descending order and take the top 10\n",
    "importance_df = importance_df.sort_values(by='Importance', ascending=False).head(10)\n",
    "\n",
    "# Display the top 10 most important features\n",
    "print(importance_df)\n"
   ]
  },
  {
   "cell_type": "markdown",
   "id": "e6df7d92-bf06-4a70-939e-467f272028e4",
   "metadata": {
    "jp-MarkdownHeadingCollapsed": true
   },
   "source": [
    "<h2>K-Nearest Neighbours</h2>"
   ]
  },
  {
   "cell_type": "code",
   "execution_count": 57,
   "id": "7cf6cb6a-672e-45cc-949f-7afbb262a1bd",
   "metadata": {},
   "outputs": [],
   "source": [
    "X_train_knn = X_train\n",
    "y_train_knn = y_train\n",
    "\n",
    "X_val = X_val[:, :4999]\n",
    "X_test = X_test[:, :4999]\n",
    "\n",
    "X_test_knn = X_val\n",
    "y_test_knn = y_val"
   ]
  },
  {
   "cell_type": "markdown",
   "id": "4ef85f4d",
   "metadata": {
    "jp-MarkdownHeadingCollapsed": true
   },
   "source": [
    "#### Sparse matrices and transformation"
   ]
  },
  {
   "cell_type": "code",
   "execution_count": 58,
   "id": "052492d5",
   "metadata": {},
   "outputs": [],
   "source": [
    "from scipy.sparse import csr_matrix\n",
    "X_train_sparse = csr_matrix(X_train_knn)\n",
    "X_test_sparse = csr_matrix(X_test_knn)\n",
    "\n",
    "scaler = StandardScaler(with_mean=False)  # Important for sparse matrices\n",
    "X_train_scaled = scaler.fit_transform(X_train_sparse)\n",
    "X_test_scaled = scaler.transform(X_test_sparse)"
   ]
  },
  {
   "cell_type": "markdown",
   "id": "95d1c4c7",
   "metadata": {
    "jp-MarkdownHeadingCollapsed": true
   },
   "source": [
    "#### Evaluation"
   ]
  },
  {
   "cell_type": "code",
   "execution_count": 59,
   "id": "e6c61f62",
   "metadata": {},
   "outputs": [],
   "source": [
    "X_train_sampled, _, y_train_sampled, _ = train_test_split(X_train_knn, y_train_knn, train_size=0.1, random_state=42)"
   ]
  },
  {
   "cell_type": "code",
   "execution_count": 62,
   "id": "10be6b77-bffc-48c8-bebb-2eee0afdca0a",
   "metadata": {},
   "outputs": [],
   "source": [
    "# Choose a random k value (e.g., between 1 and 20)\n",
    "import random\n",
    "k = random.randint(1, 20)\n",
    "# Create the KNN classifier\n",
    "knn = KNeighborsClassifier(n_neighbors=k, algorithm='ball_tree')"
   ]
  },
  {
   "cell_type": "code",
   "execution_count": 63,
   "id": "727fd540-435d-42f0-beda-bc8c0e860d51",
   "metadata": {},
   "outputs": [
    {
     "data": {
      "text/html": [
       "<style>#sk-container-id-2 {\n",
       "  /* Definition of color scheme common for light and dark mode */\n",
       "  --sklearn-color-text: #000;\n",
       "  --sklearn-color-text-muted: #666;\n",
       "  --sklearn-color-line: gray;\n",
       "  /* Definition of color scheme for unfitted estimators */\n",
       "  --sklearn-color-unfitted-level-0: #fff5e6;\n",
       "  --sklearn-color-unfitted-level-1: #f6e4d2;\n",
       "  --sklearn-color-unfitted-level-2: #ffe0b3;\n",
       "  --sklearn-color-unfitted-level-3: chocolate;\n",
       "  /* Definition of color scheme for fitted estimators */\n",
       "  --sklearn-color-fitted-level-0: #f0f8ff;\n",
       "  --sklearn-color-fitted-level-1: #d4ebff;\n",
       "  --sklearn-color-fitted-level-2: #b3dbfd;\n",
       "  --sklearn-color-fitted-level-3: cornflowerblue;\n",
       "\n",
       "  /* Specific color for light theme */\n",
       "  --sklearn-color-text-on-default-background: var(--sg-text-color, var(--theme-code-foreground, var(--jp-content-font-color1, black)));\n",
       "  --sklearn-color-background: var(--sg-background-color, var(--theme-background, var(--jp-layout-color0, white)));\n",
       "  --sklearn-color-border-box: var(--sg-text-color, var(--theme-code-foreground, var(--jp-content-font-color1, black)));\n",
       "  --sklearn-color-icon: #696969;\n",
       "\n",
       "  @media (prefers-color-scheme: dark) {\n",
       "    /* Redefinition of color scheme for dark theme */\n",
       "    --sklearn-color-text-on-default-background: var(--sg-text-color, var(--theme-code-foreground, var(--jp-content-font-color1, white)));\n",
       "    --sklearn-color-background: var(--sg-background-color, var(--theme-background, var(--jp-layout-color0, #111)));\n",
       "    --sklearn-color-border-box: var(--sg-text-color, var(--theme-code-foreground, var(--jp-content-font-color1, white)));\n",
       "    --sklearn-color-icon: #878787;\n",
       "  }\n",
       "}\n",
       "\n",
       "#sk-container-id-2 {\n",
       "  color: var(--sklearn-color-text);\n",
       "}\n",
       "\n",
       "#sk-container-id-2 pre {\n",
       "  padding: 0;\n",
       "}\n",
       "\n",
       "#sk-container-id-2 input.sk-hidden--visually {\n",
       "  border: 0;\n",
       "  clip: rect(1px 1px 1px 1px);\n",
       "  clip: rect(1px, 1px, 1px, 1px);\n",
       "  height: 1px;\n",
       "  margin: -1px;\n",
       "  overflow: hidden;\n",
       "  padding: 0;\n",
       "  position: absolute;\n",
       "  width: 1px;\n",
       "}\n",
       "\n",
       "#sk-container-id-2 div.sk-dashed-wrapped {\n",
       "  border: 1px dashed var(--sklearn-color-line);\n",
       "  margin: 0 0.4em 0.5em 0.4em;\n",
       "  box-sizing: border-box;\n",
       "  padding-bottom: 0.4em;\n",
       "  background-color: var(--sklearn-color-background);\n",
       "}\n",
       "\n",
       "#sk-container-id-2 div.sk-container {\n",
       "  /* jupyter's `normalize.less` sets `[hidden] { display: none; }`\n",
       "     but bootstrap.min.css set `[hidden] { display: none !important; }`\n",
       "     so we also need the `!important` here to be able to override the\n",
       "     default hidden behavior on the sphinx rendered scikit-learn.org.\n",
       "     See: https://github.com/scikit-learn/scikit-learn/issues/21755 */\n",
       "  display: inline-block !important;\n",
       "  position: relative;\n",
       "}\n",
       "\n",
       "#sk-container-id-2 div.sk-text-repr-fallback {\n",
       "  display: none;\n",
       "}\n",
       "\n",
       "div.sk-parallel-item,\n",
       "div.sk-serial,\n",
       "div.sk-item {\n",
       "  /* draw centered vertical line to link estimators */\n",
       "  background-image: linear-gradient(var(--sklearn-color-text-on-default-background), var(--sklearn-color-text-on-default-background));\n",
       "  background-size: 2px 100%;\n",
       "  background-repeat: no-repeat;\n",
       "  background-position: center center;\n",
       "}\n",
       "\n",
       "/* Parallel-specific style estimator block */\n",
       "\n",
       "#sk-container-id-2 div.sk-parallel-item::after {\n",
       "  content: \"\";\n",
       "  width: 100%;\n",
       "  border-bottom: 2px solid var(--sklearn-color-text-on-default-background);\n",
       "  flex-grow: 1;\n",
       "}\n",
       "\n",
       "#sk-container-id-2 div.sk-parallel {\n",
       "  display: flex;\n",
       "  align-items: stretch;\n",
       "  justify-content: center;\n",
       "  background-color: var(--sklearn-color-background);\n",
       "  position: relative;\n",
       "}\n",
       "\n",
       "#sk-container-id-2 div.sk-parallel-item {\n",
       "  display: flex;\n",
       "  flex-direction: column;\n",
       "}\n",
       "\n",
       "#sk-container-id-2 div.sk-parallel-item:first-child::after {\n",
       "  align-self: flex-end;\n",
       "  width: 50%;\n",
       "}\n",
       "\n",
       "#sk-container-id-2 div.sk-parallel-item:last-child::after {\n",
       "  align-self: flex-start;\n",
       "  width: 50%;\n",
       "}\n",
       "\n",
       "#sk-container-id-2 div.sk-parallel-item:only-child::after {\n",
       "  width: 0;\n",
       "}\n",
       "\n",
       "/* Serial-specific style estimator block */\n",
       "\n",
       "#sk-container-id-2 div.sk-serial {\n",
       "  display: flex;\n",
       "  flex-direction: column;\n",
       "  align-items: center;\n",
       "  background-color: var(--sklearn-color-background);\n",
       "  padding-right: 1em;\n",
       "  padding-left: 1em;\n",
       "}\n",
       "\n",
       "\n",
       "/* Toggleable style: style used for estimator/Pipeline/ColumnTransformer box that is\n",
       "clickable and can be expanded/collapsed.\n",
       "- Pipeline and ColumnTransformer use this feature and define the default style\n",
       "- Estimators will overwrite some part of the style using the `sk-estimator` class\n",
       "*/\n",
       "\n",
       "/* Pipeline and ColumnTransformer style (default) */\n",
       "\n",
       "#sk-container-id-2 div.sk-toggleable {\n",
       "  /* Default theme specific background. It is overwritten whether we have a\n",
       "  specific estimator or a Pipeline/ColumnTransformer */\n",
       "  background-color: var(--sklearn-color-background);\n",
       "}\n",
       "\n",
       "/* Toggleable label */\n",
       "#sk-container-id-2 label.sk-toggleable__label {\n",
       "  cursor: pointer;\n",
       "  display: flex;\n",
       "  width: 100%;\n",
       "  margin-bottom: 0;\n",
       "  padding: 0.5em;\n",
       "  box-sizing: border-box;\n",
       "  text-align: center;\n",
       "  align-items: start;\n",
       "  justify-content: space-between;\n",
       "  gap: 0.5em;\n",
       "}\n",
       "\n",
       "#sk-container-id-2 label.sk-toggleable__label .caption {\n",
       "  font-size: 0.6rem;\n",
       "  font-weight: lighter;\n",
       "  color: var(--sklearn-color-text-muted);\n",
       "}\n",
       "\n",
       "#sk-container-id-2 label.sk-toggleable__label-arrow:before {\n",
       "  /* Arrow on the left of the label */\n",
       "  content: \"▸\";\n",
       "  float: left;\n",
       "  margin-right: 0.25em;\n",
       "  color: var(--sklearn-color-icon);\n",
       "}\n",
       "\n",
       "#sk-container-id-2 label.sk-toggleable__label-arrow:hover:before {\n",
       "  color: var(--sklearn-color-text);\n",
       "}\n",
       "\n",
       "/* Toggleable content - dropdown */\n",
       "\n",
       "#sk-container-id-2 div.sk-toggleable__content {\n",
       "  max-height: 0;\n",
       "  max-width: 0;\n",
       "  overflow: hidden;\n",
       "  text-align: left;\n",
       "  /* unfitted */\n",
       "  background-color: var(--sklearn-color-unfitted-level-0);\n",
       "}\n",
       "\n",
       "#sk-container-id-2 div.sk-toggleable__content.fitted {\n",
       "  /* fitted */\n",
       "  background-color: var(--sklearn-color-fitted-level-0);\n",
       "}\n",
       "\n",
       "#sk-container-id-2 div.sk-toggleable__content pre {\n",
       "  margin: 0.2em;\n",
       "  border-radius: 0.25em;\n",
       "  color: var(--sklearn-color-text);\n",
       "  /* unfitted */\n",
       "  background-color: var(--sklearn-color-unfitted-level-0);\n",
       "}\n",
       "\n",
       "#sk-container-id-2 div.sk-toggleable__content.fitted pre {\n",
       "  /* unfitted */\n",
       "  background-color: var(--sklearn-color-fitted-level-0);\n",
       "}\n",
       "\n",
       "#sk-container-id-2 input.sk-toggleable__control:checked~div.sk-toggleable__content {\n",
       "  /* Expand drop-down */\n",
       "  max-height: 200px;\n",
       "  max-width: 100%;\n",
       "  overflow: auto;\n",
       "}\n",
       "\n",
       "#sk-container-id-2 input.sk-toggleable__control:checked~label.sk-toggleable__label-arrow:before {\n",
       "  content: \"▾\";\n",
       "}\n",
       "\n",
       "/* Pipeline/ColumnTransformer-specific style */\n",
       "\n",
       "#sk-container-id-2 div.sk-label input.sk-toggleable__control:checked~label.sk-toggleable__label {\n",
       "  color: var(--sklearn-color-text);\n",
       "  background-color: var(--sklearn-color-unfitted-level-2);\n",
       "}\n",
       "\n",
       "#sk-container-id-2 div.sk-label.fitted input.sk-toggleable__control:checked~label.sk-toggleable__label {\n",
       "  background-color: var(--sklearn-color-fitted-level-2);\n",
       "}\n",
       "\n",
       "/* Estimator-specific style */\n",
       "\n",
       "/* Colorize estimator box */\n",
       "#sk-container-id-2 div.sk-estimator input.sk-toggleable__control:checked~label.sk-toggleable__label {\n",
       "  /* unfitted */\n",
       "  background-color: var(--sklearn-color-unfitted-level-2);\n",
       "}\n",
       "\n",
       "#sk-container-id-2 div.sk-estimator.fitted input.sk-toggleable__control:checked~label.sk-toggleable__label {\n",
       "  /* fitted */\n",
       "  background-color: var(--sklearn-color-fitted-level-2);\n",
       "}\n",
       "\n",
       "#sk-container-id-2 div.sk-label label.sk-toggleable__label,\n",
       "#sk-container-id-2 div.sk-label label {\n",
       "  /* The background is the default theme color */\n",
       "  color: var(--sklearn-color-text-on-default-background);\n",
       "}\n",
       "\n",
       "/* On hover, darken the color of the background */\n",
       "#sk-container-id-2 div.sk-label:hover label.sk-toggleable__label {\n",
       "  color: var(--sklearn-color-text);\n",
       "  background-color: var(--sklearn-color-unfitted-level-2);\n",
       "}\n",
       "\n",
       "/* Label box, darken color on hover, fitted */\n",
       "#sk-container-id-2 div.sk-label.fitted:hover label.sk-toggleable__label.fitted {\n",
       "  color: var(--sklearn-color-text);\n",
       "  background-color: var(--sklearn-color-fitted-level-2);\n",
       "}\n",
       "\n",
       "/* Estimator label */\n",
       "\n",
       "#sk-container-id-2 div.sk-label label {\n",
       "  font-family: monospace;\n",
       "  font-weight: bold;\n",
       "  display: inline-block;\n",
       "  line-height: 1.2em;\n",
       "}\n",
       "\n",
       "#sk-container-id-2 div.sk-label-container {\n",
       "  text-align: center;\n",
       "}\n",
       "\n",
       "/* Estimator-specific */\n",
       "#sk-container-id-2 div.sk-estimator {\n",
       "  font-family: monospace;\n",
       "  border: 1px dotted var(--sklearn-color-border-box);\n",
       "  border-radius: 0.25em;\n",
       "  box-sizing: border-box;\n",
       "  margin-bottom: 0.5em;\n",
       "  /* unfitted */\n",
       "  background-color: var(--sklearn-color-unfitted-level-0);\n",
       "}\n",
       "\n",
       "#sk-container-id-2 div.sk-estimator.fitted {\n",
       "  /* fitted */\n",
       "  background-color: var(--sklearn-color-fitted-level-0);\n",
       "}\n",
       "\n",
       "/* on hover */\n",
       "#sk-container-id-2 div.sk-estimator:hover {\n",
       "  /* unfitted */\n",
       "  background-color: var(--sklearn-color-unfitted-level-2);\n",
       "}\n",
       "\n",
       "#sk-container-id-2 div.sk-estimator.fitted:hover {\n",
       "  /* fitted */\n",
       "  background-color: var(--sklearn-color-fitted-level-2);\n",
       "}\n",
       "\n",
       "/* Specification for estimator info (e.g. \"i\" and \"?\") */\n",
       "\n",
       "/* Common style for \"i\" and \"?\" */\n",
       "\n",
       ".sk-estimator-doc-link,\n",
       "a:link.sk-estimator-doc-link,\n",
       "a:visited.sk-estimator-doc-link {\n",
       "  float: right;\n",
       "  font-size: smaller;\n",
       "  line-height: 1em;\n",
       "  font-family: monospace;\n",
       "  background-color: var(--sklearn-color-background);\n",
       "  border-radius: 1em;\n",
       "  height: 1em;\n",
       "  width: 1em;\n",
       "  text-decoration: none !important;\n",
       "  margin-left: 0.5em;\n",
       "  text-align: center;\n",
       "  /* unfitted */\n",
       "  border: var(--sklearn-color-unfitted-level-1) 1pt solid;\n",
       "  color: var(--sklearn-color-unfitted-level-1);\n",
       "}\n",
       "\n",
       ".sk-estimator-doc-link.fitted,\n",
       "a:link.sk-estimator-doc-link.fitted,\n",
       "a:visited.sk-estimator-doc-link.fitted {\n",
       "  /* fitted */\n",
       "  border: var(--sklearn-color-fitted-level-1) 1pt solid;\n",
       "  color: var(--sklearn-color-fitted-level-1);\n",
       "}\n",
       "\n",
       "/* On hover */\n",
       "div.sk-estimator:hover .sk-estimator-doc-link:hover,\n",
       ".sk-estimator-doc-link:hover,\n",
       "div.sk-label-container:hover .sk-estimator-doc-link:hover,\n",
       ".sk-estimator-doc-link:hover {\n",
       "  /* unfitted */\n",
       "  background-color: var(--sklearn-color-unfitted-level-3);\n",
       "  color: var(--sklearn-color-background);\n",
       "  text-decoration: none;\n",
       "}\n",
       "\n",
       "div.sk-estimator.fitted:hover .sk-estimator-doc-link.fitted:hover,\n",
       ".sk-estimator-doc-link.fitted:hover,\n",
       "div.sk-label-container:hover .sk-estimator-doc-link.fitted:hover,\n",
       ".sk-estimator-doc-link.fitted:hover {\n",
       "  /* fitted */\n",
       "  background-color: var(--sklearn-color-fitted-level-3);\n",
       "  color: var(--sklearn-color-background);\n",
       "  text-decoration: none;\n",
       "}\n",
       "\n",
       "/* Span, style for the box shown on hovering the info icon */\n",
       ".sk-estimator-doc-link span {\n",
       "  display: none;\n",
       "  z-index: 9999;\n",
       "  position: relative;\n",
       "  font-weight: normal;\n",
       "  right: .2ex;\n",
       "  padding: .5ex;\n",
       "  margin: .5ex;\n",
       "  width: min-content;\n",
       "  min-width: 20ex;\n",
       "  max-width: 50ex;\n",
       "  color: var(--sklearn-color-text);\n",
       "  box-shadow: 2pt 2pt 4pt #999;\n",
       "  /* unfitted */\n",
       "  background: var(--sklearn-color-unfitted-level-0);\n",
       "  border: .5pt solid var(--sklearn-color-unfitted-level-3);\n",
       "}\n",
       "\n",
       ".sk-estimator-doc-link.fitted span {\n",
       "  /* fitted */\n",
       "  background: var(--sklearn-color-fitted-level-0);\n",
       "  border: var(--sklearn-color-fitted-level-3);\n",
       "}\n",
       "\n",
       ".sk-estimator-doc-link:hover span {\n",
       "  display: block;\n",
       "}\n",
       "\n",
       "/* \"?\"-specific style due to the `<a>` HTML tag */\n",
       "\n",
       "#sk-container-id-2 a.estimator_doc_link {\n",
       "  float: right;\n",
       "  font-size: 1rem;\n",
       "  line-height: 1em;\n",
       "  font-family: monospace;\n",
       "  background-color: var(--sklearn-color-background);\n",
       "  border-radius: 1rem;\n",
       "  height: 1rem;\n",
       "  width: 1rem;\n",
       "  text-decoration: none;\n",
       "  /* unfitted */\n",
       "  color: var(--sklearn-color-unfitted-level-1);\n",
       "  border: var(--sklearn-color-unfitted-level-1) 1pt solid;\n",
       "}\n",
       "\n",
       "#sk-container-id-2 a.estimator_doc_link.fitted {\n",
       "  /* fitted */\n",
       "  border: var(--sklearn-color-fitted-level-1) 1pt solid;\n",
       "  color: var(--sklearn-color-fitted-level-1);\n",
       "}\n",
       "\n",
       "/* On hover */\n",
       "#sk-container-id-2 a.estimator_doc_link:hover {\n",
       "  /* unfitted */\n",
       "  background-color: var(--sklearn-color-unfitted-level-3);\n",
       "  color: var(--sklearn-color-background);\n",
       "  text-decoration: none;\n",
       "}\n",
       "\n",
       "#sk-container-id-2 a.estimator_doc_link.fitted:hover {\n",
       "  /* fitted */\n",
       "  background-color: var(--sklearn-color-fitted-level-3);\n",
       "}\n",
       "</style><div id=\"sk-container-id-2\" class=\"sk-top-container\"><div class=\"sk-text-repr-fallback\"><pre>KNeighborsClassifier(algorithm=&#x27;ball_tree&#x27;, n_neighbors=15)</pre><b>In a Jupyter environment, please rerun this cell to show the HTML representation or trust the notebook. <br />On GitHub, the HTML representation is unable to render, please try loading this page with nbviewer.org.</b></div><div class=\"sk-container\" hidden><div class=\"sk-item\"><div class=\"sk-estimator fitted sk-toggleable\"><input class=\"sk-toggleable__control sk-hidden--visually\" id=\"sk-estimator-id-2\" type=\"checkbox\" checked><label for=\"sk-estimator-id-2\" class=\"sk-toggleable__label fitted sk-toggleable__label-arrow\"><div><div>KNeighborsClassifier</div></div><div><a class=\"sk-estimator-doc-link fitted\" rel=\"noreferrer\" target=\"_blank\" href=\"https://scikit-learn.org/1.6/modules/generated/sklearn.neighbors.KNeighborsClassifier.html\">?<span>Documentation for KNeighborsClassifier</span></a><span class=\"sk-estimator-doc-link fitted\">i<span>Fitted</span></span></div></label><div class=\"sk-toggleable__content fitted\"><pre>KNeighborsClassifier(algorithm=&#x27;ball_tree&#x27;, n_neighbors=15)</pre></div> </div></div></div></div>"
      ],
      "text/plain": [
       "KNeighborsClassifier(algorithm='ball_tree', n_neighbors=15)"
      ]
     },
     "execution_count": 63,
     "metadata": {},
     "output_type": "execute_result"
    }
   ],
   "source": [
    "knn.fit(X_train_scaled, y_train_knn)"
   ]
  },
  {
   "cell_type": "code",
   "execution_count": 65,
   "id": "16ef5cc6-2004-4d37-95d6-43fb8c03e6da",
   "metadata": {},
   "outputs": [],
   "source": [
    "y_pred_knn = knn.predict(X_test_scaled)"
   ]
  },
  {
   "cell_type": "markdown",
   "id": "89a44a51",
   "metadata": {
    "jp-MarkdownHeadingCollapsed": true
   },
   "source": [
    "#### Model Tuning"
   ]
  },
  {
   "cell_type": "code",
   "execution_count": 66,
   "id": "48a767ac-4d1c-44ba-8c0a-df940ba6c328",
   "metadata": {},
   "outputs": [
    {
     "name": "stdout",
     "output_type": "stream",
     "text": [
      "Accuracy for K=1: 0.2147\n",
      "Accuracy for K=3: 0.2047\n",
      "Accuracy for K=5: 0.2192\n",
      "Accuracy for K=7: 0.2210\n",
      "Accuracy for K=9: 0.2138\n",
      "Accuracy for K=15: 0.2255\n",
      "Accuracy for K=20: 0.2301\n"
     ]
    }
   ],
   "source": [
    "from sklearn.metrics import accuracy_score\n",
    "from sklearn.neighbors import KNeighborsClassifier\n",
    "\n",
    "k_values = [1, 3, 5, 7, 9, 15, 20]\n",
    "scores = []\n",
    "\n",
    "# Loop over each value of k and evaluate accuracy\n",
    "for k in k_values:\n",
    "    knn = KNeighborsClassifier(n_neighbors=k)\n",
    "    knn.fit(X_train_sampled, y_train_sampled)\n",
    "    y_pred_knn = knn.predict(X_test_scaled)\n",
    "    \n",
    "    accuracy = accuracy_score(y_test_knn, y_pred_knn)\n",
    "    scores.append(accuracy)\n",
    "    \n",
    "    print(f\"Accuracy for K={k}: {accuracy:.4f}\")\n"
   ]
  },
  {
   "cell_type": "code",
   "execution_count": 67,
   "id": "721867b1-3c92-4ec6-ad07-5257b03a6cdf",
   "metadata": {},
   "outputs": [
    {
     "name": "stdout",
     "output_type": "stream",
     "text": [
      "    k  accuracy  precision    recall  f1_score   log_loss\n",
      "0   1  0.214674   0.223827  0.214674  0.207523  28.306021\n",
      "1   3  0.204710   0.206722  0.204710  0.189345  18.375326\n",
      "2   5  0.219203   0.222994  0.219203  0.210282  12.779150\n",
      "3   7  0.221014   0.220151  0.221014  0.211785   9.265779\n",
      "4   9  0.213768   0.220172  0.213768  0.208829   6.875627\n",
      "5  15  0.225543   0.236896  0.225543  0.221134   3.114042\n",
      "6  20  0.230072   0.251826  0.230072  0.227366   2.233700\n",
      "\n",
      "Best performing K based on Accuracy: 20\n",
      "Best performing K based on Log Loss: 20\n"
     ]
    }
   ],
   "source": [
    "from sklearn.metrics import accuracy_score, precision_score, recall_score, f1_score, log_loss\n",
    "# List of k values to evaluate\n",
    "k_values = [1, 3, 5, 7, 9, 15, 20]\n",
    "\n",
    "# Dictionary to store evaluation metrics\n",
    "metrics = {\n",
    "    'k': [],\n",
    "    'accuracy': [],\n",
    "    'precision': [],\n",
    "    'recall': [],\n",
    "    'f1_score': [],\n",
    "    'log_loss': []\n",
    "}\n",
    "\n",
    "# Loop over each value of k\n",
    "for k in k_values:\n",
    "    # Initialize and train the KNN model\n",
    "    knn = KNeighborsClassifier(n_neighbors=k)\n",
    "    knn.fit(X_train_sampled, y_train_sampled)\n",
    "    \n",
    "    # Get predictions\n",
    "    y_pred_knn = knn.predict(X_test_scaled)\n",
    "    y_pred_proba_knn = knn.predict_proba(X_test_scaled)\n",
    "    \n",
    "    # Compute evaluation metrics\n",
    "    accuracy = accuracy_score(y_test_knn, y_pred_knn)\n",
    "    precision = precision_score(y_test_knn, y_pred_knn, average='weighted', zero_division=0)\n",
    "    recall = recall_score(y_test_knn, y_pred_knn, average='weighted', zero_division=0)\n",
    "    f1 = f1_score(y_test_knn, y_pred_knn, average='weighted')\n",
    "    loss = log_loss(y_test_knn, y_pred_proba_knn)\n",
    "    \n",
    "    # Store results\n",
    "    metrics['k'].append(k)\n",
    "    metrics['accuracy'].append(accuracy)\n",
    "    metrics['precision'].append(precision)\n",
    "    metrics['recall'].append(recall)\n",
    "    metrics['f1_score'].append(f1)\n",
    "    metrics['log_loss'].append(loss)\n",
    "\n",
    "# Convert metrics to a DataFrame\n",
    "metrics_df = pd.DataFrame(metrics)\n",
    "print(metrics_df)\n",
    "\n",
    "# Identify the best k values based on accuracy and log loss\n",
    "best_k_accuracy = metrics_df.loc[metrics_df['accuracy'].idxmax(), 'k']\n",
    "best_k_loss = metrics_df.loc[metrics_df['log_loss'].idxmin(), 'k']\n",
    "\n",
    "print(f\"\\nBest performing K based on Accuracy: {best_k_accuracy}\")\n",
    "print(f\"Best performing K based on Log Loss: {best_k_loss}\")\n"
   ]
  },
  {
   "cell_type": "code",
   "execution_count": 68,
   "id": "57fe7f4f-5d23-40be-a1b8-5ecea8d2deae",
   "metadata": {},
   "outputs": [
    {
     "name": "stdout",
     "output_type": "stream",
     "text": [
      "Fitting 5 folds for each of 9 candidates, totalling 45 fits\n",
      "Best Hyperparameters: {'max_depth': 5, 'n_estimators': 10}\n"
     ]
    }
   ],
   "source": [
    "# Step 2: Define Hyperparameter Ranges for Tuning\n",
    "param_grid = {\n",
    "    'n_neighbors': [ 5,7, 9,15,20],          # Number of neighbors\n",
    "    'weights': ['uniform', 'distance'],      # Weighting scheme\n",
    "    'metric':['euclidean', 'manhattan', 'chebyshev']     # Distance metrics\n",
    "}\n",
    "\n",
    "grid_search.fit(X_train_scaled, y_train_knn)\n",
    "\n",
    "# Step 4: Display the Best Hyperparameters\n",
    "print(\"Best Hyperparameters:\", grid_search.best_params_)"
   ]
  },
  {
   "cell_type": "code",
   "execution_count": 69,
   "id": "7c403b37-9cb6-470c-b39a-4d18852e7998",
   "metadata": {},
   "outputs": [
    {
     "name": "stdout",
     "output_type": "stream",
     "text": [
      "\n",
      "Classification Report (Test Dataset):\n",
      "               precision    recall  f1-score   support\n",
      "\n",
      "     business       0.23      0.07      0.11       245\n",
      "    education       0.39      0.06      0.11       274\n",
      "entertainment       0.12      0.05      0.07       178\n",
      "       sports       0.15      0.80      0.25       137\n",
      "   technology       0.38      0.24      0.29       270\n",
      "\n",
      "     accuracy                           0.20      1104\n",
      "    macro avg       0.25      0.25      0.17      1104\n",
      " weighted avg       0.28      0.20      0.17      1104\n",
      "\n"
     ]
    }
   ],
   "source": [
    "best_knn = grid_search.best_estimator_\n",
    "y_test_pred = best_knn.predict(X_test_scaled)\n",
    "\n",
    "print(\"\\nClassification Report (Test Dataset):\")\n",
    "print(classification_report(y_test_knn, y_test_pred))"
   ]
  },
  {
   "cell_type": "markdown",
   "id": "27af72c0",
   "metadata": {
    "jp-MarkdownHeadingCollapsed": true
   },
   "source": [
    "#### MLFLow"
   ]
  },
  {
   "cell_type": "code",
   "execution_count": 70,
   "id": "25cc5756",
   "metadata": {},
   "outputs": [
    {
     "name": "stdout",
     "output_type": "stream",
     "text": [
      "Fitting 5 folds for each of 16 candidates, totalling 80 fits\n",
      "Best Hyperparameters: {'metric': 'manhattan', 'n_neighbors': 5, 'weights': 'distance'}\n"
     ]
    },
    {
     "name": "stderr",
     "output_type": "stream",
     "text": [
      "2025/02/05 13:55:33 WARNING mlflow.utils.environment: Encountered an unexpected error while inferring pip requirements (model URI: C:\\Users\\lebog\\AppData\\Local\\Temp\\tmp309j4ush\\model\\model.pkl, flavor: sklearn). Fall back to return ['scikit-learn==1.6.1', 'cloudpickle==2.2.1']. Set logging level to DEBUG to see the full traceback. \n",
      "2025/02/05 13:55:33 WARNING mlflow.models.model: Model logged without a signature and input example. Please set `input_example` parameter when logging the model to auto infer the model signature.\n"
     ]
    },
    {
     "name": "stdout",
     "output_type": "stream",
     "text": [
      "Logged best KNN model with accuracy: 0.2083 to MLflow\n",
      "🏃 View run nebulous-stork-510 at: http://127.0.0.1:5000/#/experiments/861176023264081488/runs/76900d2be9ae4b468d90c9150a09f0b7\n",
      "🧪 View experiment at: http://127.0.0.1:5000/#/experiments/861176023264081488\n",
      "Best KNN model saved locally as 'best_knn_model.pkl'\n"
     ]
    }
   ],
   "source": [
    "from sklearn.model_selection import GridSearchCV\n",
    "from sklearn.neighbors import KNeighborsClassifier\n",
    "from sklearn.metrics import accuracy_score\n",
    "\n",
    "# Step 1: Define Hyperparameter Ranges for Tuning\n",
    "param_grid = {\n",
    "    'n_neighbors': [5, 7, 9, 15],  # Number of neighbors\n",
    "    'weights': ['uniform', 'distance'],  # Weighting scheme\n",
    "    'metric': ['euclidean', 'manhattan']  # Distance metrics\n",
    "}\n",
    "\n",
    "# Step 2: Initialize KNN and GridSearchCV\n",
    "knn = KNeighborsClassifier()\n",
    "grid_search = GridSearchCV(knn, param_grid, cv=5, scoring='accuracy', verbose=1)\n",
    "\n",
    "# Step 3: Fit the GridSearchCV on the training data\n",
    "grid_search.fit(X_train_scaled, y_train_knn)\n",
    "\n",
    "# Step 4: Display the Best Hyperparameters\n",
    "print(\"Best Hyperparameters:\", grid_search.best_params_)\n",
    "\n",
    "# Step 5: Log the best model to MLflow\n",
    "with mlflow.start_run():\n",
    "    mlflow.sklearn.log_model(grid_search.best_estimator_, \"knn_model\")\n",
    "\n",
    "    # Log the accuracy of the model\n",
    "    accuracy = accuracy_score(y_test_knn, grid_search.best_estimator_.predict(X_test_scaled))\n",
    "    mlflow.log_metric(\"accuracy\", accuracy)\n",
    "\n",
    "    print(f\"Logged best KNN model with accuracy: {accuracy:.4f} to MLflow\")\n",
    "\n",
    "# Step 6: Save the best model locally using joblib\n",
    "joblib.dump(grid_search.best_estimator_, \"best_knn_model.pkl\")\n",
    "print(\"Best KNN model saved locally as 'best_knn_model.pkl'\")\n"
   ]
  },
  {
   "cell_type": "markdown",
   "id": "2d712328-f7b8-442c-abcb-3345bf983075",
   "metadata": {
    "jp-MarkdownHeadingCollapsed": true
   },
   "source": [
    "<h2>Naive Bayes</h2>"
   ]
  },
  {
   "cell_type": "code",
   "execution_count": null,
   "id": "c68a23be-2fbe-433a-9122-e8e339ee8343",
>>>>>>> main
   "metadata": {},
   "outputs": [],
   "source": []
  }
 ],
 "metadata": {
  "kernelspec": {
   "display_name": "Python 3 (ipykernel)",
   "language": "python",
   "name": "python3"
  },
  "language_info": {
   "codemirror_mode": {
    "name": "ipython",
    "version": 3
   },
   "file_extension": ".py",
   "mimetype": "text/x-python",
   "name": "python",
   "nbconvert_exporter": "python",
   "pygments_lexer": "ipython3",
<<<<<<< HEAD
   "version": "3.12.4"
=======
   "version": "3.11.5"
>>>>>>> main
  }
 },
 "nbformat": 4,
 "nbformat_minor": 5
}
