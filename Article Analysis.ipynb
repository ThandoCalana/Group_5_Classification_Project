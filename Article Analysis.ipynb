{
 "cells": [
  {
   "cell_type": "markdown",
   "id": "a489c04e",
   "metadata": {},
   "source": [
    "# Project 3 Team 5\n",
    "## Date: 17 January 2025 "
   ]
  },
  {
   "cell_type": "markdown",
   "id": "2b884053",
   "metadata": {},
   "source": [
    "1. Project Overview\n",
    "2. Data Load and preprocessing\n",
    "3. Model training\n",
    "4. Evaluation\n",
    "5. Deployment"
   ]
  },
  {
   "cell_type": "markdown",
   "id": "11ef8bae",
   "metadata": {},
   "source": [
    "### 1. Project Overview"
   ]
  },
  {
   "cell_type": "code",
   "execution_count": null,
   "id": "2028adbd",
   "metadata": {},
   "outputs": [],
   "source": []
  },
  {
   "cell_type": "markdown",
   "id": "3861b463",
   "metadata": {},
   "source": [
    "### 2. Data load and preprocessing \n",
    "#### Packages"
   ]
  },
  {
   "cell_type": "code",
   "execution_count": null,
   "id": "715f37af-36bd-4a41-923d-b6ddeee9b933",
   "metadata": {},
   "outputs": [],
   "source": [
    "pip install scikeras"
   ]
  },
  {
   "cell_type": "code",
   "execution_count": null,
   "id": "caeb217b-98ec-49d5-8e03-4f0c810629f2",
   "metadata": {},
   "outputs": [],
   "source": [
    "pip install tensorflow"
   ]
  },
  {
   "cell_type": "code",
   "execution_count": 9,
   "id": "c4b5c0dc-8865-4dbb-842c-456d5bf1b746",
   "metadata": {},
   "outputs": [
    {
     "name": "stdout",
     "output_type": "stream",
     "text": [
      "Collecting mlflow\n",
      "  Downloading mlflow-2.20.1-py3-none-any.whl.metadata (30 kB)\n",
      "Collecting mlflow-skinny==2.20.1 (from mlflow)\n",
      "  Downloading mlflow_skinny-2.20.1-py3-none-any.whl.metadata (31 kB)\n",
      "Requirement already satisfied: Flask<4 in c:\\users\\tcala\\anaconda3\\lib\\site-packages (from mlflow) (3.0.3)\n",
      "Requirement already satisfied: Jinja2<4,>=3.0 in c:\\users\\tcala\\anaconda3\\lib\\site-packages (from mlflow) (3.1.4)\n",
      "Requirement already satisfied: alembic!=1.10.0,<2 in c:\\users\\tcala\\anaconda3\\lib\\site-packages (from mlflow) (1.13.3)\n",
      "Collecting docker<8,>=4.0.0 (from mlflow)\n",
      "  Downloading docker-7.1.0-py3-none-any.whl.metadata (3.8 kB)\n",
      "Collecting graphene<4 (from mlflow)\n",
      "  Downloading graphene-3.4.3-py2.py3-none-any.whl.metadata (6.9 kB)\n",
      "Requirement already satisfied: markdown<4,>=3.3 in c:\\users\\tcala\\anaconda3\\lib\\site-packages (from mlflow) (3.4.1)\n",
      "Requirement already satisfied: matplotlib<4 in c:\\users\\tcala\\anaconda3\\lib\\site-packages (from mlflow) (3.8.4)\n",
      "Requirement already satisfied: numpy<3 in c:\\users\\tcala\\anaconda3\\lib\\site-packages (from mlflow) (1.26.4)\n",
      "Requirement already satisfied: pandas<3 in c:\\users\\tcala\\anaconda3\\lib\\site-packages (from mlflow) (2.2.2)\n",
      "Requirement already satisfied: pyarrow<19,>=4.0.0 in c:\\users\\tcala\\anaconda3\\lib\\site-packages (from mlflow) (14.0.2)\n",
      "Requirement already satisfied: scikit-learn<2 in c:\\users\\tcala\\anaconda3\\lib\\site-packages (from mlflow) (1.4.2)\n",
      "Requirement already satisfied: scipy<2 in c:\\users\\tcala\\anaconda3\\lib\\site-packages (from mlflow) (1.13.1)\n",
      "Requirement already satisfied: sqlalchemy<3,>=1.4.0 in c:\\users\\tcala\\anaconda3\\lib\\site-packages (from mlflow) (2.0.30)\n",
      "Collecting waitress<4 (from mlflow)\n",
      "  Downloading waitress-3.0.2-py3-none-any.whl.metadata (5.8 kB)\n",
      "Requirement already satisfied: cachetools<6,>=5.0.0 in c:\\users\\tcala\\anaconda3\\lib\\site-packages (from mlflow-skinny==2.20.1->mlflow) (5.3.3)\n",
      "Requirement already satisfied: click<9,>=7.0 in c:\\users\\tcala\\anaconda3\\lib\\site-packages (from mlflow-skinny==2.20.1->mlflow) (8.1.7)\n",
      "Requirement already satisfied: cloudpickle<4 in c:\\users\\tcala\\anaconda3\\lib\\site-packages (from mlflow-skinny==2.20.1->mlflow) (2.2.1)\n",
      "Collecting databricks-sdk<1,>=0.20.0 (from mlflow-skinny==2.20.1->mlflow)\n",
      "  Downloading databricks_sdk-0.43.0-py3-none-any.whl.metadata (38 kB)\n",
      "Requirement already satisfied: gitpython<4,>=3.1.9 in c:\\users\\tcala\\anaconda3\\lib\\site-packages (from mlflow-skinny==2.20.1->mlflow) (3.1.37)\n",
      "Requirement already satisfied: importlib_metadata!=4.7.0,<9,>=3.7.0 in c:\\users\\tcala\\anaconda3\\lib\\site-packages (from mlflow-skinny==2.20.1->mlflow) (7.0.1)\n",
      "Collecting opentelemetry-api<3,>=1.9.0 (from mlflow-skinny==2.20.1->mlflow)\n",
      "  Downloading opentelemetry_api-1.30.0-py3-none-any.whl.metadata (1.6 kB)\n",
      "Collecting opentelemetry-sdk<3,>=1.9.0 (from mlflow-skinny==2.20.1->mlflow)\n",
      "  Downloading opentelemetry_sdk-1.30.0-py3-none-any.whl.metadata (1.6 kB)\n",
      "Requirement already satisfied: packaging<25 in c:\\users\\tcala\\anaconda3\\lib\\site-packages (from mlflow-skinny==2.20.1->mlflow) (23.2)\n",
      "Requirement already satisfied: protobuf<6,>=3.12.0 in c:\\users\\tcala\\anaconda3\\lib\\site-packages (from mlflow-skinny==2.20.1->mlflow) (3.20.3)\n",
      "Requirement already satisfied: pydantic<3,>=1.0 in c:\\users\\tcala\\anaconda3\\lib\\site-packages (from mlflow-skinny==2.20.1->mlflow) (2.10.3)\n",
      "Requirement already satisfied: pyyaml<7,>=5.1 in c:\\users\\tcala\\anaconda3\\lib\\site-packages (from mlflow-skinny==2.20.1->mlflow) (6.0.1)\n",
      "Requirement already satisfied: requests<3,>=2.17.3 in c:\\users\\tcala\\anaconda3\\lib\\site-packages (from mlflow-skinny==2.20.1->mlflow) (2.32.2)\n",
      "Collecting sqlparse<1,>=0.4.0 (from mlflow-skinny==2.20.1->mlflow)\n",
      "  Downloading sqlparse-0.5.3-py3-none-any.whl.metadata (3.9 kB)\n",
      "Requirement already satisfied: typing-extensions<5,>=4.0.0 in c:\\users\\tcala\\anaconda3\\lib\\site-packages (from mlflow-skinny==2.20.1->mlflow) (4.12.2)\n",
      "Requirement already satisfied: Mako in c:\\users\\tcala\\anaconda3\\lib\\site-packages (from alembic!=1.10.0,<2->mlflow) (1.2.3)\n",
      "Requirement already satisfied: pywin32>=304 in c:\\users\\tcala\\anaconda3\\lib\\site-packages (from docker<8,>=4.0.0->mlflow) (305.1)\n",
      "Requirement already satisfied: urllib3>=1.26.0 in c:\\users\\tcala\\anaconda3\\lib\\site-packages (from docker<8,>=4.0.0->mlflow) (2.2.2)\n",
      "Requirement already satisfied: Werkzeug>=3.0.0 in c:\\users\\tcala\\anaconda3\\lib\\site-packages (from Flask<4->mlflow) (3.0.3)\n",
      "Requirement already satisfied: itsdangerous>=2.1.2 in c:\\users\\tcala\\anaconda3\\lib\\site-packages (from Flask<4->mlflow) (2.2.0)\n",
      "Requirement already satisfied: blinker>=1.6.2 in c:\\users\\tcala\\anaconda3\\lib\\site-packages (from Flask<4->mlflow) (1.6.2)\n",
      "Collecting graphql-core<3.3,>=3.1 (from graphene<4->mlflow)\n",
      "  Downloading graphql_core-3.2.6-py3-none-any.whl.metadata (11 kB)\n",
      "Collecting graphql-relay<3.3,>=3.1 (from graphene<4->mlflow)\n",
      "  Downloading graphql_relay-3.2.0-py3-none-any.whl.metadata (12 kB)\n",
      "Requirement already satisfied: python-dateutil<3,>=2.7.0 in c:\\users\\tcala\\anaconda3\\lib\\site-packages (from graphene<4->mlflow) (2.9.0.post0)\n",
      "Requirement already satisfied: MarkupSafe>=2.0 in c:\\users\\tcala\\anaconda3\\lib\\site-packages (from Jinja2<4,>=3.0->mlflow) (2.1.3)\n",
      "Requirement already satisfied: contourpy>=1.0.1 in c:\\users\\tcala\\anaconda3\\lib\\site-packages (from matplotlib<4->mlflow) (1.2.0)\n",
      "Requirement already satisfied: cycler>=0.10 in c:\\users\\tcala\\anaconda3\\lib\\site-packages (from matplotlib<4->mlflow) (0.11.0)\n",
      "Requirement already satisfied: fonttools>=4.22.0 in c:\\users\\tcala\\anaconda3\\lib\\site-packages (from matplotlib<4->mlflow) (4.51.0)\n",
      "Requirement already satisfied: kiwisolver>=1.3.1 in c:\\users\\tcala\\anaconda3\\lib\\site-packages (from matplotlib<4->mlflow) (1.4.4)\n",
      "Requirement already satisfied: pillow>=8 in c:\\users\\tcala\\anaconda3\\lib\\site-packages (from matplotlib<4->mlflow) (10.3.0)\n",
      "Requirement already satisfied: pyparsing>=2.3.1 in c:\\users\\tcala\\anaconda3\\lib\\site-packages (from matplotlib<4->mlflow) (3.0.9)\n",
      "Requirement already satisfied: pytz>=2020.1 in c:\\users\\tcala\\anaconda3\\lib\\site-packages (from pandas<3->mlflow) (2024.1)\n",
      "Requirement already satisfied: tzdata>=2022.7 in c:\\users\\tcala\\anaconda3\\lib\\site-packages (from pandas<3->mlflow) (2023.3)\n",
      "Requirement already satisfied: joblib>=1.2.0 in c:\\users\\tcala\\anaconda3\\lib\\site-packages (from scikit-learn<2->mlflow) (1.4.2)\n",
      "Requirement already satisfied: threadpoolctl>=2.0.0 in c:\\users\\tcala\\anaconda3\\lib\\site-packages (from scikit-learn<2->mlflow) (2.2.0)\n",
      "Requirement already satisfied: greenlet!=0.4.17 in c:\\users\\tcala\\anaconda3\\lib\\site-packages (from sqlalchemy<3,>=1.4.0->mlflow) (3.0.1)\n",
      "Requirement already satisfied: colorama in c:\\users\\tcala\\anaconda3\\lib\\site-packages (from click<9,>=7.0->mlflow-skinny==2.20.1->mlflow) (0.4.6)\n",
      "Collecting google-auth~=2.0 (from databricks-sdk<1,>=0.20.0->mlflow-skinny==2.20.1->mlflow)\n",
      "  Downloading google_auth-2.38.0-py2.py3-none-any.whl.metadata (4.8 kB)\n",
      "Requirement already satisfied: gitdb<5,>=4.0.1 in c:\\users\\tcala\\anaconda3\\lib\\site-packages (from gitpython<4,>=3.1.9->mlflow-skinny==2.20.1->mlflow) (4.0.7)\n",
      "Requirement already satisfied: zipp>=0.5 in c:\\users\\tcala\\anaconda3\\lib\\site-packages (from importlib_metadata!=4.7.0,<9,>=3.7.0->mlflow-skinny==2.20.1->mlflow) (3.17.0)\n",
      "Collecting deprecated>=1.2.6 (from opentelemetry-api<3,>=1.9.0->mlflow-skinny==2.20.1->mlflow)\n",
      "  Downloading Deprecated-1.2.18-py2.py3-none-any.whl.metadata (5.7 kB)\n",
      "Collecting opentelemetry-semantic-conventions==0.51b0 (from opentelemetry-sdk<3,>=1.9.0->mlflow-skinny==2.20.1->mlflow)\n",
      "  Downloading opentelemetry_semantic_conventions-0.51b0-py3-none-any.whl.metadata (2.5 kB)\n",
      "Requirement already satisfied: annotated-types>=0.6.0 in c:\\users\\tcala\\anaconda3\\lib\\site-packages (from pydantic<3,>=1.0->mlflow-skinny==2.20.1->mlflow) (0.6.0)\n",
      "Requirement already satisfied: pydantic-core==2.27.1 in c:\\users\\tcala\\anaconda3\\lib\\site-packages (from pydantic<3,>=1.0->mlflow-skinny==2.20.1->mlflow) (2.27.1)\n",
      "Requirement already satisfied: six>=1.5 in c:\\users\\tcala\\anaconda3\\lib\\site-packages (from python-dateutil<3,>=2.7.0->graphene<4->mlflow) (1.16.0)\n",
      "Requirement already satisfied: charset-normalizer<4,>=2 in c:\\users\\tcala\\anaconda3\\lib\\site-packages (from requests<3,>=2.17.3->mlflow-skinny==2.20.1->mlflow) (2.0.4)\n",
      "Requirement already satisfied: idna<4,>=2.5 in c:\\users\\tcala\\anaconda3\\lib\\site-packages (from requests<3,>=2.17.3->mlflow-skinny==2.20.1->mlflow) (3.7)\n",
      "Requirement already satisfied: certifi>=2017.4.17 in c:\\users\\tcala\\anaconda3\\lib\\site-packages (from requests<3,>=2.17.3->mlflow-skinny==2.20.1->mlflow) (2025.1.31)\n",
      "Requirement already satisfied: wrapt<2,>=1.10 in c:\\users\\tcala\\anaconda3\\lib\\site-packages (from deprecated>=1.2.6->opentelemetry-api<3,>=1.9.0->mlflow-skinny==2.20.1->mlflow) (1.14.1)\n",
      "Requirement already satisfied: smmap<5,>=3.0.1 in c:\\users\\tcala\\anaconda3\\lib\\site-packages (from gitdb<5,>=4.0.1->gitpython<4,>=3.1.9->mlflow-skinny==2.20.1->mlflow) (4.0.0)\n",
      "Requirement already satisfied: pyasn1-modules>=0.2.1 in c:\\users\\tcala\\anaconda3\\lib\\site-packages (from google-auth~=2.0->databricks-sdk<1,>=0.20.0->mlflow-skinny==2.20.1->mlflow) (0.2.8)\n",
      "Collecting rsa<5,>=3.1.4 (from google-auth~=2.0->databricks-sdk<1,>=0.20.0->mlflow-skinny==2.20.1->mlflow)\n",
      "  Downloading rsa-4.9-py3-none-any.whl.metadata (4.2 kB)\n",
      "Requirement already satisfied: pyasn1<0.5.0,>=0.4.6 in c:\\users\\tcala\\anaconda3\\lib\\site-packages (from pyasn1-modules>=0.2.1->google-auth~=2.0->databricks-sdk<1,>=0.20.0->mlflow-skinny==2.20.1->mlflow) (0.4.8)\n",
      "Downloading mlflow-2.20.1-py3-none-any.whl (28.3 MB)\n",
      "   ---------------------------------------- 0.0/28.3 MB ? eta -:--:--\n",
      "    --------------------------------------- 0.4/28.3 MB 9.2 MB/s eta 0:00:04\n",
      "   - -------------------------------------- 0.8/28.3 MB 8.1 MB/s eta 0:00:04\n",
      "   - -------------------------------------- 1.1/28.3 MB 7.6 MB/s eta 0:00:04\n",
      "   - -------------------------------------- 1.4/28.3 MB 7.2 MB/s eta 0:00:04\n",
      "   -- ------------------------------------- 1.7/28.3 MB 7.1 MB/s eta 0:00:04\n",
      "   -- ------------------------------------- 2.0/28.3 MB 7.0 MB/s eta 0:00:04\n",
      "   --- ------------------------------------ 2.3/28.3 MB 7.0 MB/s eta 0:00:04\n",
      "   --- ------------------------------------ 2.6/28.3 MB 7.0 MB/s eta 0:00:04\n",
      "   ---- ----------------------------------- 2.9/28.3 MB 6.9 MB/s eta 0:00:04\n",
      "   ---- ----------------------------------- 3.3/28.3 MB 6.9 MB/s eta 0:00:04\n",
      "   ----- ---------------------------------- 3.6/28.3 MB 6.9 MB/s eta 0:00:04\n",
      "   ----- ---------------------------------- 3.9/28.3 MB 6.9 MB/s eta 0:00:04\n",
      "   ----- ---------------------------------- 4.2/28.3 MB 6.9 MB/s eta 0:00:04\n",
      "   ------ --------------------------------- 4.5/28.3 MB 6.9 MB/s eta 0:00:04\n",
      "   ------ --------------------------------- 4.8/28.3 MB 6.9 MB/s eta 0:00:04\n",
      "   ------- -------------------------------- 5.2/28.3 MB 6.9 MB/s eta 0:00:04\n",
      "   ------- -------------------------------- 5.5/28.3 MB 6.8 MB/s eta 0:00:04\n",
      "   -------- ------------------------------- 5.8/28.3 MB 6.8 MB/s eta 0:00:04\n",
      "   -------- ------------------------------- 6.1/28.3 MB 6.8 MB/s eta 0:00:04\n",
      "   --------- ------------------------------ 6.4/28.3 MB 6.8 MB/s eta 0:00:04\n",
      "   --------- ------------------------------ 6.7/28.3 MB 6.8 MB/s eta 0:00:04\n",
      "   --------- ------------------------------ 7.0/28.3 MB 6.8 MB/s eta 0:00:04\n",
      "   ---------- ----------------------------- 7.3/28.3 MB 6.8 MB/s eta 0:00:04\n",
      "   ---------- ----------------------------- 7.6/28.3 MB 6.8 MB/s eta 0:00:04\n",
      "   ----------- ---------------------------- 8.0/28.3 MB 6.8 MB/s eta 0:00:04\n",
      "   ----------- ---------------------------- 8.3/28.3 MB 6.8 MB/s eta 0:00:03\n",
      "   ------------ --------------------------- 8.6/28.3 MB 6.8 MB/s eta 0:00:03\n",
      "   ------------ --------------------------- 8.9/28.3 MB 6.8 MB/s eta 0:00:03\n",
      "   ------------ --------------------------- 9.2/28.3 MB 6.8 MB/s eta 0:00:03\n",
      "   ------------- -------------------------- 9.5/28.3 MB 6.8 MB/s eta 0:00:03\n",
      "   ------------- -------------------------- 9.8/28.3 MB 6.8 MB/s eta 0:00:03\n",
      "   -------------- ------------------------- 10.1/28.3 MB 6.7 MB/s eta 0:00:03\n",
      "   -------------- ------------------------- 10.4/28.3 MB 6.7 MB/s eta 0:00:03\n",
      "   --------------- ------------------------ 10.8/28.3 MB 6.7 MB/s eta 0:00:03\n",
      "   --------------- ------------------------ 11.1/28.3 MB 6.7 MB/s eta 0:00:03\n",
      "   ---------------- ----------------------- 11.4/28.3 MB 6.7 MB/s eta 0:00:03\n",
      "   ---------------- ----------------------- 11.7/28.3 MB 6.7 MB/s eta 0:00:03\n",
      "   ---------------- ----------------------- 12.0/28.3 MB 6.7 MB/s eta 0:00:03\n",
      "   ----------------- ---------------------- 12.3/28.3 MB 6.7 MB/s eta 0:00:03\n",
      "   ----------------- ---------------------- 12.6/28.3 MB 6.7 MB/s eta 0:00:03\n",
      "   ------------------ --------------------- 12.9/28.3 MB 6.7 MB/s eta 0:00:03\n",
      "   ------------------ --------------------- 13.3/28.3 MB 6.7 MB/s eta 0:00:03\n",
      "   ------------------- -------------------- 13.6/28.3 MB 6.7 MB/s eta 0:00:03\n",
      "   ------------------- -------------------- 13.9/28.3 MB 6.7 MB/s eta 0:00:03\n",
      "   -------------------- ------------------- 14.2/28.3 MB 6.7 MB/s eta 0:00:03\n",
      "   -------------------- ------------------- 14.5/28.3 MB 6.7 MB/s eta 0:00:03\n",
      "   -------------------- ------------------- 14.8/28.3 MB 6.7 MB/s eta 0:00:03\n",
      "   --------------------- ------------------ 15.1/28.3 MB 6.7 MB/s eta 0:00:02\n",
      "   --------------------- ------------------ 15.4/28.3 MB 6.7 MB/s eta 0:00:02\n",
      "   ---------------------- ----------------- 15.8/28.3 MB 6.7 MB/s eta 0:00:02\n",
      "   ---------------------- ----------------- 16.1/28.3 MB 6.7 MB/s eta 0:00:02\n",
      "   ----------------------- ---------------- 16.4/28.3 MB 6.7 MB/s eta 0:00:02\n",
      "   ----------------------- ---------------- 16.7/28.3 MB 6.7 MB/s eta 0:00:02\n",
      "   ------------------------ --------------- 17.0/28.3 MB 6.7 MB/s eta 0:00:02\n",
      "   ------------------------ --------------- 17.3/28.3 MB 6.7 MB/s eta 0:00:02\n",
      "   ------------------------ --------------- 17.6/28.3 MB 6.7 MB/s eta 0:00:02\n",
      "   ------------------------- -------------- 18.0/28.3 MB 6.7 MB/s eta 0:00:02\n",
      "   ------------------------- -------------- 18.2/28.3 MB 6.7 MB/s eta 0:00:02\n",
      "   -------------------------- ------------- 18.6/28.3 MB 6.7 MB/s eta 0:00:02\n",
      "   -------------------------- ------------- 18.9/28.3 MB 6.7 MB/s eta 0:00:02\n",
      "   --------------------------- ------------ 19.2/28.3 MB 6.7 MB/s eta 0:00:02\n",
      "   --------------------------- ------------ 19.5/28.3 MB 6.7 MB/s eta 0:00:02\n",
      "   ---------------------------- ----------- 19.8/28.3 MB 6.7 MB/s eta 0:00:02\n",
      "   ---------------------------- ----------- 20.2/28.3 MB 6.7 MB/s eta 0:00:02\n",
      "   ---------------------------- ----------- 20.4/28.3 MB 6.7 MB/s eta 0:00:02\n",
      "   ----------------------------- ---------- 20.8/28.3 MB 6.7 MB/s eta 0:00:02\n",
      "   ----------------------------- ---------- 21.1/28.3 MB 6.7 MB/s eta 0:00:02\n",
      "   ------------------------------ --------- 21.4/28.3 MB 6.7 MB/s eta 0:00:02\n",
      "   ------------------------------ --------- 21.7/28.3 MB 6.7 MB/s eta 0:00:01\n",
      "   ------------------------------- -------- 22.0/28.3 MB 6.7 MB/s eta 0:00:01\n",
      "   ------------------------------- -------- 22.3/28.3 MB 6.7 MB/s eta 0:00:01\n",
      "   ------------------------------- -------- 22.6/28.3 MB 6.7 MB/s eta 0:00:01\n",
      "   -------------------------------- ------- 23.0/28.3 MB 6.7 MB/s eta 0:00:01\n",
      "   -------------------------------- ------- 23.3/28.3 MB 6.7 MB/s eta 0:00:01\n",
      "   --------------------------------- ------ 23.6/28.3 MB 6.7 MB/s eta 0:00:01\n",
      "   --------------------------------- ------ 23.9/28.3 MB 6.7 MB/s eta 0:00:01\n",
      "   ---------------------------------- ----- 24.2/28.3 MB 6.7 MB/s eta 0:00:01\n",
      "   ---------------------------------- ----- 24.5/28.3 MB 6.7 MB/s eta 0:00:01\n",
      "   ----------------------------------- ---- 24.8/28.3 MB 6.7 MB/s eta 0:00:01\n",
      "   ----------------------------------- ---- 25.1/28.3 MB 6.7 MB/s eta 0:00:01\n",
      "   ----------------------------------- ---- 25.4/28.3 MB 6.7 MB/s eta 0:00:01\n",
      "   ------------------------------------ --- 25.8/28.3 MB 6.7 MB/s eta 0:00:01\n",
      "   ------------------------------------ --- 26.1/28.3 MB 6.7 MB/s eta 0:00:01\n",
      "   ------------------------------------- -- 26.4/28.3 MB 6.7 MB/s eta 0:00:01\n",
      "   ------------------------------------- -- 26.7/28.3 MB 6.7 MB/s eta 0:00:01\n",
      "   -------------------------------------- - 27.0/28.3 MB 6.7 MB/s eta 0:00:01\n",
      "   -------------------------------------- - 27.3/28.3 MB 6.7 MB/s eta 0:00:01\n",
      "   ---------------------------------------  27.6/28.3 MB 6.7 MB/s eta 0:00:01\n",
      "   ---------------------------------------  27.9/28.3 MB 6.7 MB/s eta 0:00:01\n",
      "   ---------------------------------------  28.2/28.3 MB 6.7 MB/s eta 0:00:01\n",
      "   ---------------------------------------  28.3/28.3 MB 6.7 MB/s eta 0:00:01\n",
      "   ---------------------------------------- 28.3/28.3 MB 6.4 MB/s eta 0:00:00\n",
      "Downloading mlflow_skinny-2.20.1-py3-none-any.whl (6.0 MB)\n",
      "   ---------------------------------------- 0.0/6.0 MB ? eta -:--:--\n",
      "   --- ------------------------------------ 0.5/6.0 MB 9.4 MB/s eta 0:00:01\n",
      "   ----- ---------------------------------- 0.8/6.0 MB 8.1 MB/s eta 0:00:01\n",
      "   ------- -------------------------------- 1.1/6.0 MB 7.6 MB/s eta 0:00:01\n",
      "   --------- ------------------------------ 1.4/6.0 MB 7.4 MB/s eta 0:00:01\n",
      "   ----------- ---------------------------- 1.7/6.0 MB 7.2 MB/s eta 0:00:01\n",
      "   ------------- -------------------------- 2.0/6.0 MB 7.1 MB/s eta 0:00:01\n",
      "   --------------- ------------------------ 2.3/6.0 MB 7.1 MB/s eta 0:00:01\n",
      "   ----------------- ---------------------- 2.6/6.0 MB 7.0 MB/s eta 0:00:01\n",
      "   ------------------- -------------------- 2.9/6.0 MB 7.0 MB/s eta 0:00:01\n",
      "   --------------------- ------------------ 3.3/6.0 MB 6.9 MB/s eta 0:00:01\n",
      "   ----------------------- ---------------- 3.6/6.0 MB 6.9 MB/s eta 0:00:01\n",
      "   ------------------------- -------------- 3.9/6.0 MB 6.9 MB/s eta 0:00:01\n",
      "   ---------------------------- ----------- 4.2/6.0 MB 6.9 MB/s eta 0:00:01\n",
      "   ------------------------------ --------- 4.5/6.0 MB 6.9 MB/s eta 0:00:01\n",
      "   -------------------------------- ------- 4.8/6.0 MB 6.9 MB/s eta 0:00:01\n",
      "   ---------------------------------- ----- 5.1/6.0 MB 6.8 MB/s eta 0:00:01\n",
      "   ------------------------------------ --- 5.4/6.0 MB 6.8 MB/s eta 0:00:01\n",
      "   -------------------------------------- - 5.8/6.0 MB 6.8 MB/s eta 0:00:01\n",
      "   ---------------------------------------  6.0/6.0 MB 6.8 MB/s eta 0:00:01\n",
      "   ---------------------------------------- 6.0/6.0 MB 6.7 MB/s eta 0:00:00\n",
      "Downloading docker-7.1.0-py3-none-any.whl (147 kB)\n",
      "   ---------------------------------------- 0.0/147.8 kB ? eta -:--:--\n",
      "   ---------------------------------------- 147.8/147.8 kB 8.6 MB/s eta 0:00:00\n",
      "Downloading graphene-3.4.3-py2.py3-none-any.whl (114 kB)\n",
      "   ---------------------------------------- 0.0/114.9 kB ? eta -:--:--\n",
      "   ---------------------------------------- 114.9/114.9 kB 6.5 MB/s eta 0:00:00\n",
      "Downloading waitress-3.0.2-py3-none-any.whl (56 kB)\n",
      "   ---------------------------------------- 0.0/56.2 kB ? eta -:--:--\n",
      "   ---------------------------------------- 56.2/56.2 kB 3.1 MB/s eta 0:00:00\n",
      "Downloading databricks_sdk-0.43.0-py3-none-any.whl (647 kB)\n",
      "   ---------------------------------------- 0.0/647.4 kB ? eta -:--:--\n",
      "   --------------------------- ------------ 450.6/647.4 kB 9.4 MB/s eta 0:00:01\n",
      "   ---------------------------------------- 647.4/647.4 kB 8.2 MB/s eta 0:00:00\n",
      "Downloading graphql_core-3.2.6-py3-none-any.whl (203 kB)\n",
      "   ---------------------------------------- 0.0/203.4 kB ? eta -:--:--\n",
      "   --------------------------------------- 203.4/203.4 kB 12.1 MB/s eta 0:00:00\n",
      "Downloading graphql_relay-3.2.0-py3-none-any.whl (16 kB)\n",
      "Downloading opentelemetry_api-1.30.0-py3-none-any.whl (64 kB)\n",
      "   ---------------------------------------- 0.0/65.0 kB ? eta -:--:--\n",
      "   ---------------------------------------- 65.0/65.0 kB ? eta 0:00:00\n",
      "Downloading opentelemetry_sdk-1.30.0-py3-none-any.whl (118 kB)\n",
      "   ---------------------------------------- 0.0/118.7 kB ? eta -:--:--\n",
      "   ---------------------------------------- 118.7/118.7 kB ? eta 0:00:00\n",
      "Downloading opentelemetry_semantic_conventions-0.51b0-py3-none-any.whl (177 kB)\n",
      "   ---------------------------------------- 0.0/177.4 kB ? eta -:--:--\n",
      "   ---------------------------------------- 177.4/177.4 kB ? eta 0:00:00\n",
      "Downloading sqlparse-0.5.3-py3-none-any.whl (44 kB)\n",
      "   ---------------------------------------- 0.0/44.4 kB ? eta -:--:--\n",
      "   ---------------------------------------- 44.4/44.4 kB ? eta 0:00:00\n",
      "Downloading Deprecated-1.2.18-py2.py3-none-any.whl (10.0 kB)\n",
      "Downloading google_auth-2.38.0-py2.py3-none-any.whl (210 kB)\n",
      "   ---------------------------------------- 0.0/210.8 kB ? eta -:--:--\n",
      "   --------------------------------------- 210.8/210.8 kB 12.5 MB/s eta 0:00:00\n",
      "Downloading rsa-4.9-py3-none-any.whl (34 kB)\n",
      "Installing collected packages: waitress, sqlparse, rsa, graphql-core, deprecated, opentelemetry-api, graphql-relay, google-auth, docker, opentelemetry-semantic-conventions, graphene, databricks-sdk, opentelemetry-sdk, mlflow-skinny, mlflow\n",
      "Successfully installed databricks-sdk-0.43.0 deprecated-1.2.18 docker-7.1.0 google-auth-2.38.0 graphene-3.4.3 graphql-core-3.2.6 graphql-relay-3.2.0 mlflow-2.20.1 mlflow-skinny-2.20.1 opentelemetry-api-1.30.0 opentelemetry-sdk-1.30.0 opentelemetry-semantic-conventions-0.51b0 rsa-4.9 sqlparse-0.5.3 waitress-3.0.2\n",
      "Note: you may need to restart the kernel to use updated packages.\n"
     ]
    }
   ],
   "source": [
    "pip install mlflow"
   ]
  },
  {
   "cell_type": "code",
   "execution_count": null,
   "id": "bf659304",
   "metadata": {},
   "outputs": [],
   "source": [
    "pip install --upgrade imbalanced-learn"
   ]
  },
  {
   "cell_type": "code",
   "execution_count": 409,
   "id": "64014f33",
   "metadata": {},
   "outputs": [
    {
     "name": "stderr",
     "output_type": "stream",
     "text": [
      "[nltk_data] Downloading package stopwords to\n",
      "[nltk_data]     C:\\Users\\ThandoCalana\\AppData\\Roaming\\nltk_data...\n",
      "[nltk_data]   Package stopwords is already up-to-date!\n",
      "[nltk_data] Downloading package punkt to\n",
      "[nltk_data]     C:\\Users\\ThandoCalana\\AppData\\Roaming\\nltk_data...\n",
      "[nltk_data]   Package punkt is already up-to-date!\n",
      "[nltk_data] Downloading package punkt_tab to\n",
      "[nltk_data]     C:\\Users\\ThandoCalana\\AppData\\Roaming\\nltk_data...\n",
      "[nltk_data]   Package punkt_tab is already up-to-date!\n",
      "[nltk_data] Downloading package wordnet to\n",
      "[nltk_data]     C:\\Users\\ThandoCalana\\AppData\\Roaming\\nltk_data...\n",
      "[nltk_data]   Package wordnet is already up-to-date!\n"
     ]
    }
   ],
   "source": [
    "import pandas as pd\n",
    "import numpy as np\n",
    "import matplotlib.pyplot as plt\n",
    "import imblearn \n",
    "import seaborn as sns\n",
    "\n",
    "import sklearn\n",
    "from sklearn.model_selection import train_test_split\n",
    "from sklearn.feature_extraction.text import TfidfVectorizer\n",
    "from sklearn.utils import resample\n",
    "from sklearn.naive_bayes import MultinomialNB\n",
    "from sklearn.pipeline import Pipeline\n",
    "from sklearn.model_selection import GridSearchCV\n",
    "from sklearn.model_selection import RandomizedSearchCV\n",
    "from sklearn.metrics import classification_report, accuracy_score\n",
    "from sklearn.preprocessing import LabelEncoder, StandardScaler\n",
    "from sklearn.ensemble import RandomForestClassifier\n",
    "from sklearn.neighbors import KNeighborsClassifier\n",
    "\n",
    "import mlflow\n",
    "import mlflow.sklearn\n",
    "import scikeras\n",
    "from scikeras.wrappers import KerasClassifier\n",
    "import pickle\n",
    "from mlflow.models import infer_signature\n",
    "\n",
    "from urllib.parse import urlparse\n",
    "import json\n",
    "from scipy.sparse import csr_matrix\n",
    "import joblib\n",
    "\n",
    "from imblearn.over_sampling import RandomOverSampler\n",
    "from imblearn.under_sampling import RandomUnderSampler\n",
    "from scipy.sparse import csr_matrix, vstack\n",
    "\n",
    "import tensorflow as tf\n",
    "from tensorflow.keras.layers import Dense, Flatten, Dropout, Input\n",
    "from tensorflow.keras.models import Sequential\n",
    "from tensorflow.keras.utils import to_categorical, normalize\n",
    "\n",
    "import nltk\n",
    "import re\n",
    "from nltk.tokenize import word_tokenize, TreebankWordTokenizer\n",
    "from nltk.stem import WordNetLemmatizer\n",
    "from nltk.corpus import stopwords\n",
    "\n",
    "nltk.download('stopwords')\n",
    "nltk.download('punkt')\n",
    "nltk.download('punkt_tab')\n",
    "nltk.download('wordnet')\n",
    "\n",
    "import warnings\n",
    "warnings.filterwarnings(\"ignore\")"
   ]
  },
  {
   "cell_type": "markdown",
   "id": "d8eedb7d",
   "metadata": {},
   "source": [
    "#### Datasets"
   ]
  },
  {
   "cell_type": "code",
   "execution_count": 308,
   "id": "241ffc87",
   "metadata": {
    "scrolled": true
   },
   "outputs": [],
   "source": [
    "#importing the dataset:the train dataset \n",
    "train_df = pd.read_csv(\"Data/processed/train.csv\")\n",
    "# train_df.head(5)"
   ]
  },
  {
   "cell_type": "code",
   "execution_count": 309,
   "id": "c90f6f9f",
   "metadata": {},
   "outputs": [],
   "source": [
    "#importing the dataset: the test \n",
    "test_df = pd.read_csv(\"Data/processed/test.csv\")\n",
    "# test_df.head(5)"
   ]
  },
  {
   "cell_type": "markdown",
   "id": "ac9a5e2b",
   "metadata": {
    "jp-MarkdownHeadingCollapsed": true
   },
   "source": [
    "<h3>2.1 Data inspection</h3>"
   ]
  },
  {
   "cell_type": "code",
   "execution_count": 4,
   "id": "e821ad56",
   "metadata": {},
   "outputs": [
    {
     "name": "stdout",
     "output_type": "stream",
     "text": [
      "The dimensions for the Train set are: (5520, 5)\n",
      "The dimensions for the test set are: (2000, 5)\n"
     ]
    }
   ],
   "source": [
    "print(\"The dimensions for the Train set are:\", train_df.shape)\n",
    "print(\"The dimensions for the test set are:\",test_df.shape)"
   ]
  },
  {
   "cell_type": "code",
   "execution_count": 5,
   "id": "19bc4336",
   "metadata": {},
   "outputs": [
    {
     "name": "stdout",
     "output_type": "stream",
     "text": [
      "<class 'pandas.core.frame.DataFrame'>\n",
      "RangeIndex: 5520 entries, 0 to 5519\n",
      "Data columns (total 5 columns):\n",
      " #   Column       Non-Null Count  Dtype \n",
      "---  ------       --------------  ----- \n",
      " 0   headlines    5520 non-null   object\n",
      " 1   description  5520 non-null   object\n",
      " 2   content      5520 non-null   object\n",
      " 3   url          5520 non-null   object\n",
      " 4   category     5520 non-null   object\n",
      "dtypes: object(5)\n",
      "memory usage: 215.8+ KB\n",
      "<class 'pandas.core.frame.DataFrame'>\n",
      "RangeIndex: 2000 entries, 0 to 1999\n",
      "Data columns (total 5 columns):\n",
      " #   Column       Non-Null Count  Dtype \n",
      "---  ------       --------------  ----- \n",
      " 0   headlines    2000 non-null   object\n",
      " 1   description  2000 non-null   object\n",
      " 2   content      2000 non-null   object\n",
      " 3   url          2000 non-null   object\n",
      " 4   category     2000 non-null   object\n",
      "dtypes: object(5)\n",
      "memory usage: 78.3+ KB\n"
     ]
    },
    {
     "data": {
      "text/plain": [
       "None"
      ]
     },
     "metadata": {},
     "output_type": "display_data"
    },
    {
     "data": {
      "text/plain": [
       "None"
      ]
     },
     "metadata": {},
     "output_type": "display_data"
    }
   ],
   "source": [
    "display(train_df.info(), test_df.info())"
   ]
  },
  {
   "cell_type": "markdown",
   "id": "dbf51bf5",
   "metadata": {},
   "source": [
    "There are no missing values in both the train and test dataset"
   ]
  },
  {
   "cell_type": "code",
   "execution_count": 6,
   "id": "4bfc2cf8",
   "metadata": {},
   "outputs": [
    {
     "name": "stdout",
     "output_type": "stream",
     "text": [
      "             Train Null Count  Test Null Count\n",
      "headlines                   0                0\n",
      "description                 0                0\n",
      "content                     0                0\n",
      "url                         0                0\n",
      "category                    0                0\n"
     ]
    }
   ],
   "source": [
    "null_counts = pd.DataFrame({\n",
    "    \"Train Null Count\": train_df.isnull().sum(),\n",
    "    \"Test Null Count\": test_df.isnull().sum()\n",
    "})\n",
    "print(null_counts)"
   ]
  },
  {
   "cell_type": "code",
   "execution_count": 7,
   "id": "a820a583",
   "metadata": {},
   "outputs": [
    {
     "data": {
      "text/plain": [
       "0"
      ]
     },
     "metadata": {},
     "output_type": "display_data"
    },
    {
     "data": {
      "text/plain": [
       "0"
      ]
     },
     "metadata": {},
     "output_type": "display_data"
    }
   ],
   "source": [
    "display(train_df.duplicated().sum(), test_df.duplicated().sum())"
   ]
  },
  {
   "cell_type": "markdown",
   "id": "20c4c820",
   "metadata": {},
   "source": [
    "Number of duplicate for train set rows: 0\n",
    "\n",
    "Number of duplicate for test set rows: 0"
   ]
  },
  {
   "cell_type": "code",
   "execution_count": 8,
   "id": "dcf638e5",
   "metadata": {},
   "outputs": [
    {
     "name": "stdout",
     "output_type": "stream",
     "text": [
      "                 Metric  Train Dataset  Test Dataset\n",
      "0        Number of Rows           5520          2000\n",
      "1     Number of Columns              5             5\n",
      "2  Total Missing Values              0             0\n",
      "3        Duplicate Rows              0             0\n",
      "4     Numerical Columns              0             0\n",
      "5   Categorical Columns              5             5\n"
     ]
    }
   ],
   "source": [
    "def inspect_dataset(df):\n",
    "    return {\n",
    "        \"Number of Rows\": df.shape[0],\n",
    "        \"Number of Columns\": df.shape[1],\n",
    "        \"Total Missing Values\": df.isnull().sum().sum(),\n",
    "        \"Duplicate Rows\": df.duplicated().sum(),\n",
    "        \"Numerical Columns\": df.select_dtypes(include='number').shape[1],\n",
    "        \"Categorical Columns\": df.select_dtypes(include='object').shape[1],\n",
    "    }\n",
    "\n",
    "train_inspection = inspect_dataset(train_df)\n",
    "test_inspection = inspect_dataset(test_df)\n",
    "\n",
    "inspection_results = pd.DataFrame({\n",
    "    \"Metric\": train_inspection.keys(),\n",
    "    \"Train Dataset\": train_inspection.values(),\n",
    "    \"Test Dataset\": test_inspection.values(),\n",
    "})\n",
    "\n",
    "print(inspection_results)"
   ]
  },
  {
   "cell_type": "code",
   "execution_count": 9,
   "id": "2cb9fec8",
   "metadata": {},
   "outputs": [
    {
     "data": {
      "text/html": [
       "<div>\n",
       "<style scoped>\n",
       "    .dataframe tbody tr th:only-of-type {\n",
       "        vertical-align: middle;\n",
       "    }\n",
       "\n",
       "    .dataframe tbody tr th {\n",
       "        vertical-align: top;\n",
       "    }\n",
       "\n",
       "    .dataframe thead th {\n",
       "        text-align: right;\n",
       "    }\n",
       "</style>\n",
       "<table border=\"1\" class=\"dataframe\">\n",
       "  <thead>\n",
       "    <tr style=\"text-align: right;\">\n",
       "      <th></th>\n",
       "      <th>count</th>\n",
       "      <th>unique</th>\n",
       "      <th>top</th>\n",
       "      <th>freq</th>\n",
       "    </tr>\n",
       "  </thead>\n",
       "  <tbody>\n",
       "    <tr>\n",
       "      <th>headlines</th>\n",
       "      <td>5520</td>\n",
       "      <td>5512</td>\n",
       "      <td>International Education Day 2024: Know why it ...</td>\n",
       "      <td>2</td>\n",
       "    </tr>\n",
       "    <tr>\n",
       "      <th>description</th>\n",
       "      <td>5520</td>\n",
       "      <td>5508</td>\n",
       "      <td>The university has removed the requirements of...</td>\n",
       "      <td>2</td>\n",
       "    </tr>\n",
       "    <tr>\n",
       "      <th>content</th>\n",
       "      <td>5520</td>\n",
       "      <td>5513</td>\n",
       "      <td>Grand Slam fever grips tennis fans all over th...</td>\n",
       "      <td>5</td>\n",
       "    </tr>\n",
       "    <tr>\n",
       "      <th>url</th>\n",
       "      <td>5520</td>\n",
       "      <td>5514</td>\n",
       "      <td>https://indianexpress.com/article/education/kc...</td>\n",
       "      <td>2</td>\n",
       "    </tr>\n",
       "    <tr>\n",
       "      <th>category</th>\n",
       "      <td>5520</td>\n",
       "      <td>5</td>\n",
       "      <td>education</td>\n",
       "      <td>1520</td>\n",
       "    </tr>\n",
       "  </tbody>\n",
       "</table>\n",
       "</div>"
      ],
      "text/plain": [
       "            count unique                                                top  \\\n",
       "headlines    5520   5512  International Education Day 2024: Know why it ...   \n",
       "description  5520   5508  The university has removed the requirements of...   \n",
       "content      5520   5513  Grand Slam fever grips tennis fans all over th...   \n",
       "url          5520   5514  https://indianexpress.com/article/education/kc...   \n",
       "category     5520      5                                          education   \n",
       "\n",
       "             freq  \n",
       "headlines       2  \n",
       "description     2  \n",
       "content         5  \n",
       "url             2  \n",
       "category     1520  "
      ]
     },
     "execution_count": 9,
     "metadata": {},
     "output_type": "execute_result"
    }
   ],
   "source": [
    "train_df.describe().T\n",
    "#check if there are duplicates "
   ]
  },
  {
   "cell_type": "code",
   "execution_count": 10,
   "id": "fca3a19b-a61a-4dd2-abdf-bd45324bcf1c",
   "metadata": {},
   "outputs": [
    {
     "name": "stdout",
     "output_type": "stream",
     "text": [
      "                                           headlines  \\\n",
      "0  NLC India wins contract for power supply to Ra...   \n",
      "1  SBI Clerk prelims exams dates announced; admit...   \n",
      "2  Golden Globes: Michelle Yeoh, Will Ferrell, An...   \n",
      "3  OnePlus Nord 3 at Rs 27,999 as part of new pri...   \n",
      "4  Adani family’s partners used ‘opaque’ funds to...   \n",
      "\n",
      "                                         description  \\\n",
      "0  State-owned firm NLC India Ltd (NLCIL) on Mond...   \n",
      "1  SBI Clerk Prelims Exam: The SBI Clerk prelims ...   \n",
      "2  Barbie is the top nominee this year, followed ...   \n",
      "3  New deal makes the OnePlus Nord 3 an easy purc...   \n",
      "4  Citing review of files from multiple tax haven...   \n",
      "\n",
      "                                             content  \\\n",
      "0  State-owned firm NLC India Ltd (NLCIL) on Mond...   \n",
      "1  SBI Clerk Prelims Exam: The State Bank of Indi...   \n",
      "2  Michelle Yeoh, Will Ferrell, Angela Bassett an...   \n",
      "3  In our review of the OnePlus Nord 3 5G, we pra...   \n",
      "4  Millions of dollars were invested in some publ...   \n",
      "\n",
      "                                                 url       category  \n",
      "0  https://indianexpress.com/article/business/com...       business  \n",
      "1  https://indianexpress.com/article/education/sb...      education  \n",
      "2  https://indianexpress.com/article/entertainmen...  entertainment  \n",
      "3  https://indianexpress.com/article/technology/t...     technology  \n",
      "4  https://indianexpress.com/article/business/ada...       business  \n"
     ]
    }
   ],
   "source": [
    "categories = train_df.category.unique()\n",
    "print(test_df.head())"
   ]
  },
  {
   "cell_type": "markdown",
   "id": "4da7e3d5",
   "metadata": {},
   "source": [
    "<h3>2.2. Data Preprocessing</h3>"
   ]
  },
  {
   "cell_type": "markdown",
   "id": "566757dc-4f10-4094-9ca1-03c50dace47f",
   "metadata": {},
   "source": [
    "<h4> Preprocessing function that tokenizes, removes stop words and lematizes the text</h4>"
   ]
  },
  {
   "cell_type": "code",
   "execution_count": 312,
   "id": "25e4619f-aa90-4e3d-a190-c3a4371c4c81",
   "metadata": {},
   "outputs": [],
   "source": [
    "def preprocess_text(text):\n",
    "    # Tokenize the text\n",
    "    tokens = nltk.word_tokenize(text)\n",
    "\n",
    "    # Remove stopwords\n",
    "    stop_words = set(stopwords.words('english'))\n",
    "    no_stop_words = [word for word in tokens if word.lower() not in stop_words]\n",
    "\n",
    "    # Remove punctuation\n",
    "    no_puntuation = [word for word in no_stop_words if word.isalnum()]\n",
    "\n",
    "    # Lemmatize tokens\n",
    "    lemmatizer = WordNetLemmatizer()\n",
    "    lemmatized_tokens = [lemmatizer.lemmatize(word) for word in no_puntuation]\n",
    "\n",
    "    # Join tokens back into a single string\n",
    "    return ' '.join(lemmatized_tokens)\n"
   ]
  },
  {
   "cell_type": "code",
   "execution_count": 314,
   "id": "987db596-a08d-41f2-b7c9-874ca17c3af3",
   "metadata": {},
   "outputs": [],
   "source": [
    "columns_to_process = ['headlines', 'description', 'content'] #We will deal with URLs later\n",
    "\n",
    "for col in columns_to_process:\n",
    "    train_df[col] = train_df[col].apply(preprocess_text)\n",
    "    test_df[col] = test_df[col].apply(preprocess_text)"
   ]
  },
  {
   "cell_type": "code",
   "execution_count": null,
   "id": "467190dc-5a08-4773-809d-1f568d27107a",
   "metadata": {},
   "outputs": [],
   "source": [
    "print(train_df.head())\n",
    "print(test_df.head())"
   ]
  },
  {
   "cell_type": "markdown",
   "id": "57a4780e-e273-4939-a559-5cf43f398309",
   "metadata": {},
   "source": [
    "<h4> Handling URLs</h4>"
   ]
  },
  {
   "cell_type": "markdown",
   "id": "b74abde7-4878-4a77-b9e6-86d818d6c961",
   "metadata": {},
   "source": [
    "The URL columns may not always reliably provide information on the category, so we drop the column. Even if the column has the category, this may negatively impact our model performance as this will lead to 100% accuracy in our models on training data. This is unrealistic as in practice, URLs may not have the category in them or in the expected sequence, causing the model to perform poorly."
   ]
  },
  {
   "cell_type": "code",
   "execution_count": 315,
   "id": "d16645ee-8be9-40f6-8f90-f26e5b66db23",
   "metadata": {},
   "outputs": [
    {
     "data": {
      "text/html": [
       "<div>\n",
       "<style scoped>\n",
       "    .dataframe tbody tr th:only-of-type {\n",
       "        vertical-align: middle;\n",
       "    }\n",
       "\n",
       "    .dataframe tbody tr th {\n",
       "        vertical-align: top;\n",
       "    }\n",
       "\n",
       "    .dataframe thead th {\n",
       "        text-align: right;\n",
       "    }\n",
       "</style>\n",
       "<table border=\"1\" class=\"dataframe\">\n",
       "  <thead>\n",
       "    <tr style=\"text-align: right;\">\n",
       "      <th></th>\n",
       "      <th>headlines</th>\n",
       "      <th>description</th>\n",
       "      <th>content</th>\n",
       "      <th>category</th>\n",
       "    </tr>\n",
       "  </thead>\n",
       "  <tbody>\n",
       "    <tr>\n",
       "      <th>0</th>\n",
       "      <td>RBI revise definition person KYC purpose</td>\n",
       "      <td>central bank also asked chairperson chief exec...</td>\n",
       "      <td>Reserve Bank India RBI changed definition Pers...</td>\n",
       "      <td>business</td>\n",
       "    </tr>\n",
       "    <tr>\n",
       "      <th>1</th>\n",
       "      <td>NDTV Q2 net profit fall Rs crore impacted lowe...</td>\n",
       "      <td>NDTV consolidated revenue operation Rs crore R...</td>\n",
       "      <td>Broadcaster New Delhi Television Ltd Monday re...</td>\n",
       "      <td>business</td>\n",
       "    </tr>\n",
       "    <tr>\n",
       "      <th>2</th>\n",
       "      <td>Akasa Air well capitalised grow much faster CE...</td>\n",
       "      <td>initial share sale open public subscription Ju...</td>\n",
       "      <td>Homegrown server maker Netweb Technologies Ind...</td>\n",
       "      <td>business</td>\n",
       "    </tr>\n",
       "    <tr>\n",
       "      <th>3</th>\n",
       "      <td>India current account deficit decline sharply ...</td>\n",
       "      <td>current account deficit CAD per cent GDP USD b...</td>\n",
       "      <td>India current account deficit declined sharply...</td>\n",
       "      <td>business</td>\n",
       "    </tr>\n",
       "    <tr>\n",
       "      <th>4</th>\n",
       "      <td>States borrowing cost soar highest far fiscal</td>\n",
       "      <td>price shot reflecting overall higher risk aver...</td>\n",
       "      <td>States forced pay nose weekly auction debt Tue...</td>\n",
       "      <td>business</td>\n",
       "    </tr>\n",
       "  </tbody>\n",
       "</table>\n",
       "</div>"
      ],
      "text/plain": [
       "                                           headlines  \\\n",
       "0           RBI revise definition person KYC purpose   \n",
       "1  NDTV Q2 net profit fall Rs crore impacted lowe...   \n",
       "2  Akasa Air well capitalised grow much faster CE...   \n",
       "3  India current account deficit decline sharply ...   \n",
       "4      States borrowing cost soar highest far fiscal   \n",
       "\n",
       "                                         description  \\\n",
       "0  central bank also asked chairperson chief exec...   \n",
       "1  NDTV consolidated revenue operation Rs crore R...   \n",
       "2  initial share sale open public subscription Ju...   \n",
       "3  current account deficit CAD per cent GDP USD b...   \n",
       "4  price shot reflecting overall higher risk aver...   \n",
       "\n",
       "                                             content  category  \n",
       "0  Reserve Bank India RBI changed definition Pers...  business  \n",
       "1  Broadcaster New Delhi Television Ltd Monday re...  business  \n",
       "2  Homegrown server maker Netweb Technologies Ind...  business  \n",
       "3  India current account deficit declined sharply...  business  \n",
       "4  States forced pay nose weekly auction debt Tue...  business  "
      ]
     },
     "execution_count": 315,
     "metadata": {},
     "output_type": "execute_result"
    }
   ],
   "source": [
    "train_df = train_df.drop(columns='url', axis=1)\n",
    "test_df = test_df.drop(columns='url', axis=1)\n",
    "\n",
    "train_df.head()"
   ]
  },
  {
   "cell_type": "markdown",
   "id": "2326a3aa-7158-44d5-bb16-b6bc7931b8d8",
   "metadata": {},
   "source": [
    "<h4> Vectorizing</h4>"
   ]
  },
  {
   "cell_type": "markdown",
   "id": "1f068c64-a69e-474f-bec2-6cff28a3b0cd",
   "metadata": {},
   "source": [
    "Before performing the train test split, we will use a TF-IDF vectorizer to draw out important words that may help in predicting the category of an article"
   ]
  },
  {
   "cell_type": "code",
   "execution_count": 318,
   "id": "8145a0e4-2a9b-4545-8dae-61cf8a8b9faf",
   "metadata": {},
   "outputs": [],
   "source": [
    "text_columns = ['headlines', 'description', 'content']"
   ]
  },
  {
   "cell_type": "code",
   "execution_count": 320,
   "id": "a42982e7-d4ac-41a1-b4d8-33717a38221c",
   "metadata": {},
   "outputs": [],
   "source": [
    "tfidf_vectorizers = {}\n",
    "vectorized_texts = []"
   ]
  },
  {
   "cell_type": "code",
   "execution_count": 405,
   "id": "eed98cbb-57f5-4237-980d-1020a81ffb70",
   "metadata": {},
   "outputs": [],
   "source": [
    "# Extract the top 500 features per category\n",
    "def get_top_n_tfidf_features(X, y, n=5000):\n",
    "    vectorizer = TfidfVectorizer(stop_words='english', max_features=n)\n",
    "    X_tfidf = vectorizer.fit_transform(X)\n",
    "    feature_names = vectorizer.get_feature_names_out()\n",
    "    \n",
    "    category_features = {}\n",
    "    for category in y.unique():\n",
    "        idx = (y == category)\n",
    "        tfidf_scores = X_tfidf[idx].mean(axis=0).A1\n",
    "        top_indices = tfidf_scores.argsort()[-n:][::-1]\n",
    "        category_features[category] = [feature_names[i] for i in top_indices]\n",
    "\n",
    "    feature_df = pd.DataFrame(dict([(k, pd.Series(v)) for k, v in category_features.items()]))\n",
    "\n",
    "    # Pickling the vectorizer so that it can be used in by the streamlit.py \n",
    "    with open(\"tfidf_vectorizer.pkl\", \"wb\") as f:\n",
    "        pickle.dump(vectorizer, f)\n",
    "    \n",
    "    return feature_df\n"
   ]
  },
  {
   "cell_type": "code",
   "execution_count": 407,
   "id": "9a2261cc-6de2-4d19-bc82-9526fa594495",
   "metadata": {},
   "outputs": [
    {
     "data": {
      "text/html": [
       "<div>\n",
       "<style scoped>\n",
       "    .dataframe tbody tr th:only-of-type {\n",
       "        vertical-align: middle;\n",
       "    }\n",
       "\n",
       "    .dataframe tbody tr th {\n",
       "        vertical-align: top;\n",
       "    }\n",
       "\n",
       "    .dataframe thead th {\n",
       "        text-align: right;\n",
       "    }\n",
       "</style>\n",
       "<table border=\"1\" class=\"dataframe\">\n",
       "  <thead>\n",
       "    <tr style=\"text-align: right;\">\n",
       "      <th></th>\n",
       "      <th>business</th>\n",
       "      <th>sports</th>\n",
       "      <th>entertainment</th>\n",
       "      <th>education</th>\n",
       "      <th>technology</th>\n",
       "    </tr>\n",
       "  </thead>\n",
       "  <tbody>\n",
       "    <tr>\n",
       "      <th>0</th>\n",
       "      <td>cent</td>\n",
       "      <td>australia</td>\n",
       "      <td>film</td>\n",
       "      <td>student</td>\n",
       "      <td>ai</td>\n",
       "    </tr>\n",
       "    <tr>\n",
       "      <th>1</th>\n",
       "      <td>rs</td>\n",
       "      <td>team</td>\n",
       "      <td>latest</td>\n",
       "      <td>exam</td>\n",
       "      <td>apple</td>\n",
       "    </tr>\n",
       "    <tr>\n",
       "      <th>2</th>\n",
       "      <td>said</td>\n",
       "      <td>india</td>\n",
       "      <td>update</td>\n",
       "      <td>2023</td>\n",
       "      <td>new</td>\n",
       "    </tr>\n",
       "    <tr>\n",
       "      <th>3</th>\n",
       "      <td>bank</td>\n",
       "      <td>match</td>\n",
       "      <td>actor</td>\n",
       "      <td>university</td>\n",
       "      <td>user</td>\n",
       "    </tr>\n",
       "    <tr>\n",
       "      <th>4</th>\n",
       "      <td>crore</td>\n",
       "      <td>test</td>\n",
       "      <td>news</td>\n",
       "      <td>2024</td>\n",
       "      <td>google</td>\n",
       "    </tr>\n",
       "  </tbody>\n",
       "</table>\n",
       "</div>"
      ],
      "text/plain": [
       "  business     sports entertainment   education technology\n",
       "0     cent  australia          film     student         ai\n",
       "1       rs       team        latest        exam      apple\n",
       "2     said      india        update        2023        new\n",
       "3     bank      match         actor  university       user\n",
       "4    crore       test          news        2024     google"
      ]
     },
     "execution_count": 407,
     "metadata": {},
     "output_type": "execute_result"
    }
   ],
   "source": [
    "# Applying function on train and test dataset\n",
    "top_features_df = get_top_n_tfidf_features(train_df['headlines'] + ' ' + train_df['content'] + ' ' + train_df['description'], train_df['category'])\n",
    "\n",
    "# top_features_df.to_csv('top_features.csv', index=False)\n",
    "top_features_df.head(5)"
   ]
  },
  {
   "cell_type": "code",
   "execution_count": 326,
   "id": "1ff2e4c8-83a3-43ab-a021-853bba60110e",
   "metadata": {},
   "outputs": [],
   "source": [
    "#Flatten the DataFrame into a list of unique words\n",
    "top_features_list = top_features_df.melt(value_name=\"word\")['word'].dropna().unique().tolist()\n",
    "\n",
    "# Vectorize the dataset using only the selected vocabulary\n",
    "vectorizer = TfidfVectorizer(stop_words='english', vocabulary=top_features_list)\n"
   ]
  },
  {
   "cell_type": "markdown",
   "id": "81f011f9-6f79-46dc-9e8a-3c6a9b8c13e8",
   "metadata": {
    "jp-MarkdownHeadingCollapsed": true
   },
   "source": [
    "<h2>Train-test split</h2>"
   ]
  },
  {
   "cell_type": "markdown",
   "id": "72dbb259-5852-40cb-9bb4-905904aa7a12",
   "metadata": {},
   "source": [
    "Given that the data has already been separated into training and testing data, we will perform a train test split on the training data to create a validation set."
   ]
  },
  {
   "cell_type": "code",
   "execution_count": 330,
   "id": "6b444de7-4490-4036-a481-ed3df3e0c068",
   "metadata": {},
   "outputs": [],
   "source": [
    "# Perform a train-validation split (80% train, 20% validation)\n",
    "X = vectorizer.fit_transform(train_df['headlines'] + ' ' + train_df['content'] + ' ' + train_df['description'])\n",
    "y = train_df['category']\n",
    "\n",
    "X_train, X_val, y_train, y_val  = train_test_split(X, y, test_size=0.2, random_state=42)\n",
    "\n",
    "X_test = vectorizer.fit_transform(test_df['headlines'] + ' ' + test_df['content'] + ' ' + test_df['description'])\n",
    "y_test = test_df['category']\n"
   ]
  },
  {
   "cell_type": "markdown",
   "id": "629b5ecb-68f5-44a8-9066-b4e1bd5892eb",
   "metadata": {
    "jp-MarkdownHeadingCollapsed": true
   },
   "source": [
    "<h2>Handling Class Imbalances</h2> "
   ]
  },
  {
   "cell_type": "markdown",
   "id": "96d240d5-994d-49da-a131-1f3cdb9b5a41",
   "metadata": {},
   "source": [
    "Now, we will check if the categories have an equal spread of observations. If there is a class imbalance this can lead to overfitting and models being able to predict the majority categories better, while poorly predicting the minority categories."
   ]
  },
  {
   "cell_type": "code",
   "execution_count": 332,
   "id": "95d3fdba-e97d-42a7-b8e6-084545072b0d",
   "metadata": {},
   "outputs": [
    {
     "data": {
      "text/plain": [
       "category\n",
       "education        1246\n",
       "technology       1010\n",
       "business          875\n",
       "entertainment     782\n",
       "sports            503\n",
       "Name: count, dtype: int64"
      ]
     },
     "execution_count": 332,
     "metadata": {},
     "output_type": "execute_result"
    }
   ],
   "source": [
    "#Getting an idea of the counts of each category\n",
    "y_train.value_counts()"
   ]
  },
  {
   "cell_type": "code",
   "execution_count": 334,
   "id": "a4ea59f3-9c75-48d8-9b8b-a73b10a3973e",
   "metadata": {},
   "outputs": [
    {
     "data": {
      "image/png": "[encoded data removed]",
      "text/plain": [
       "<Figure size 640x480 with 1 Axes>"
      ]
     },
     "metadata": {},
     "output_type": "display_data"
    }
   ],
   "source": [
    "#Storing the count of each category, which will be used later for visualising them\n",
    "category_counts = y_train.value_counts()\n",
    "\n",
    "#Plotting a bar graph that shows the differing counts of each category\n",
    "category_counts.plot(kind='bar', color='skyblue')\n",
    "plt.title('Category Counts')\n",
    "plt.xlabel('Category')\n",
    "plt.ylabel('Count')\n",
    "plt.xticks(rotation=0)\n",
    "plt.show()\n"
   ]
  },
  {
   "cell_type": "markdown",
   "id": "ecf5f5ec-b150-41d2-af78-ed889c6b6e76",
   "metadata": {},
   "source": [
    "From this bar graph we can clearly see that there is a class imbalance within the training data. If not addressed, this could lead the model to being good at predicting the majority categories (education and technology) and not so much the minorities (sports and entertainment). To ensure that the model is equally effectivce at predicting all the categories, we will implement both upsampling and downsampling on the categories below."
   ]
  },
  {
   "cell_type": "markdown",
   "id": "7b5bf6ee-c5b1-4ee5-a7a0-c850276ee004",
   "metadata": {
    "jp-MarkdownHeadingCollapsed": true
   },
   "source": [
    "<h4>Sampling</h4>"
   ]
  },
  {
   "cell_type": "code",
   "execution_count": 338,
   "id": "3d1ce44a-1460-4d52-bfdc-1de31558bd73",
   "metadata": {},
   "outputs": [],
   "source": [
    "# Combine the training data into a single DataFrame\n",
    "train_data = pd.DataFrame(X_train.toarray(), columns=vectorizer.get_feature_names_out())\n",
    "train_data['category'] = y_train\n",
    "\n",
    "# Separate each class (education, sports, technology, entertainment, business)\n",
    "education_data = train_data[train_data['category'] == 'education']\n",
    "sports_data = train_data[train_data['category'] == 'sports']\n",
    "technology_data = train_data[train_data['category'] == 'technology']\n",
    "entertainment_data = train_data[train_data['category'] == 'entertainment']\n",
    "business_data = train_data[train_data['category'] == 'business']\n"
   ]
  },
  {
   "cell_type": "code",
   "execution_count": 340,
   "id": "019b3ddc-c316-49e4-86d8-343c9db1fd8a",
   "metadata": {},
   "outputs": [],
   "source": [
    "# Define the list of categories\n",
    "categories = ['education', 'sports', 'technology', 'entertainment', 'business']\n",
    "\n",
    "# Define the target size for each class\n",
    "target_len = int(len(y_train) / len(y_train.unique()))\n",
    "\n",
    "# Iterate through each class to downsample or upsample based on size\n",
    "balanced_data = []\n",
    "\n",
    "for category in categories:\n",
    "    # Separate the data for the current category\n",
    "    category_data = train_data[train_data['category'] == category]\n",
    "    \n",
    "    # If the class size is greater than the target size, downsample\n",
    "    if len(category_data) > target_len:\n",
    "        downsampled_class = resample(category_data, \n",
    "                                     replace=False,  # Sample without replacement\n",
    "                                     n_samples=target_len,  # Reduce to target size\n",
    "                                     random_state=42)\n",
    "        balanced_data.append(downsampled_class)\n",
    "    \n",
    "    # If the class size is less than the target size, upsample\n",
    "    elif len(category_data) < target_len:\n",
    "        upsampled_class = resample(category_data, \n",
    "                                   replace=True,  # Sample with replacement\n",
    "                                   n_samples=target_len,  # Increase to target size\n",
    "                                   random_state=42)\n",
    "        balanced_data.append(upsampled_class)\n",
    "    \n",
    "    # If the class size is exactly the target size, just append it as is\n",
    "    else:\n",
    "        balanced_data.append(category_data)\n",
    "\n",
    "# Combine all balanced class data\n",
    "final_balanced_data = pd.concat(balanced_data)\n"
   ]
  },
  {
   "cell_type": "code",
   "execution_count": 341,
   "id": "4b8ba716-3229-4499-9f90-ef0b256e9b03",
   "metadata": {},
   "outputs": [],
   "source": [
    "X_train = final_balanced_data.drop(columns = ['category'])\n",
    "y_train = final_balanced_data['category']"
   ]
  },
  {
   "cell_type": "code",
   "execution_count": 342,
   "id": "5686e1ea-6639-40e0-b636-26b1e532e287",
   "metadata": {},
   "outputs": [
    {
     "data": {
      "text/plain": [
       "category\n",
       "education        883\n",
       "sports           883\n",
       "technology       883\n",
       "entertainment    883\n",
       "business         883\n",
       "Name: count, dtype: int64"
      ]
     },
     "execution_count": 342,
     "metadata": {},
     "output_type": "execute_result"
    }
   ],
   "source": [
    "y_train.value_counts()"
   ]
  },
  {
   "cell_type": "code",
   "execution_count": 343,
   "id": "792b2a83-63f1-4026-9fc9-1150edc24614",
   "metadata": {},
   "outputs": [
    {
     "data": {
      "image/png": "[encoded data removed]",
      "text/plain": [
       "<Figure size 640x480 with 1 Axes>"
      ]
     },
     "metadata": {},
     "output_type": "display_data"
    }
   ],
   "source": [
    "category_counts = y_train.value_counts()\n",
    "\n",
    "category_counts.plot(kind='bar', color='skyblue')\n",
    "plt.title('Category Counts')\n",
    "plt.xlabel('Category')\n",
    "plt.ylabel('Count')\n",
    "plt.xticks(rotation=0)\n",
    "plt.show()\n"
   ]
  },
  {
   "cell_type": "markdown",
   "id": "d4c25792-19d6-4b50-aabd-0960df077e57",
   "metadata": {},
   "source": [
    "As we can see, all the categories have been resampled to where they have the same number of observations."
   ]
  },
  {
   "cell_type": "markdown",
   "id": "72206412-afd1-48d6-ac21-bd707c766b0e",
   "metadata": {},
   "source": [
    "<h1>Models</h1>"
   ]
  },
  {
   "cell_type": "markdown",
   "id": "1c1198df-3aa6-4e5b-b551-05aa4181de54",
   "metadata": {},
   "source": [
    "<h2>Neural Network</h2>"
   ]
  },
  {
   "cell_type": "code",
   "execution_count": 348,
   "id": "553319d5-6ec3-4644-bb1e-f9703cb2e1f0",
   "metadata": {},
   "outputs": [],
   "source": [
    "# Convert sparse matrix to dense numpy array\n",
    "X_train = X_train.toarray() if isinstance(X_train, csr_matrix) else X_train\n",
    "X_val = X_val.toarray() if isinstance(X_val, csr_matrix) else X_val\n",
    "X_test = X_test.toarray() if isinstance(X_test, csr_matrix) else X_test\n",
    "\n",
    "# # Now slice the dense arrays to keep only the first 499 columns\n",
    "X_val = X_val[:, :4999]\n",
    "X_test = X_test[:, :4999]\n"
   ]
  },
  {
   "cell_type": "code",
   "execution_count": 350,
   "id": "4cb1eb25-3274-4215-a14f-85f457466396",
   "metadata": {},
   "outputs": [],
   "source": [
    "# Initialise the label encoder\n",
    "label_encoder = LabelEncoder()\n",
    "\n",
    "# Fit the encoder on the training labels and transform them\n",
    "y_train_nn = label_encoder.fit_transform(y_train)\n",
    "y_val_nn = label_encoder.transform(y_val)\n",
    "y_test_nn = label_encoder.transform(y_test)\n",
    "\n",
    "# Convert to one-hot encoding\n",
    "y_train_nn = to_categorical(y_train_nn)\n",
    "y_val_nn = to_categorical(y_val_nn)\n",
    "y_test_nn = to_categorical(y_test_nn)\n"
   ]
  },
  {
   "cell_type": "code",
   "execution_count": 352,
   "id": "8c9b4251-ab99-439f-b076-51276810c9c3",
   "metadata": {},
   "outputs": [],
   "source": [
    "# Hyperparameters\n",
    "input_dims = X_train.shape[1]\n",
    "batch_size = 32\n",
    "epochs = 10\n",
    "num_classes = len(y_train.unique())\n"
   ]
  },
  {
   "cell_type": "code",
   "execution_count": 354,
   "id": "c193c29c-cfa8-484b-b435-4488804c9675",
   "metadata": {},
   "outputs": [],
   "source": [
    "#Creating the Neural network\n",
    "model_nn = Sequential([\n",
    "    Dense(4999, activation='relu', input_dim=input_dims),  # Input Layer\n",
    "    Dropout(0.3),  # Regularization\n",
    "    Dense(4500, activation='relu'),  # First hidden layer\n",
    "    Dropout(0.2),  # Regularization\n",
    "    Dense(3500, activation='relu'),  # Second hidden layer\n",
    "    Dropout(0.2),  # Regularization\n",
    "    Dense(3000, activation='relu'),  # Third hidden layer\n",
    "    Dropout(0.2),  # Regularization\n",
    "    Dense(2000, activation='relu'),  # Fourth hidden layer\n",
    "    Dropout(0.2),  # Regularization\n",
    "    Dense(1000, activation='relu'),  # Fifth hidden layer\n",
    "    Dropout(0.2),  # Regularization\n",
    "    Dense(500, activation='relu'),  # Sixth hidden layer\n",
    "    Dropout(0.2),  # Regularization\n",
    "    Dense(100, activation='relu'),  # Seventh hidden layer\n",
    "    Dropout(0.2),  # Regularization\n",
    "    Dense(num_classes, activation='softmax')  # Output layer for classification\n",
    "])"
   ]
  },
  {
   "cell_type": "markdown",
   "id": "eb9a6a80-2f46-4527-b80d-a4fae545ab08",
   "metadata": {},
   "source": [
    "<h4>Training</h4>"
   ]
  },
  {
   "cell_type": "code",
   "execution_count": 356,
   "id": "55fae63a-fda5-4d1e-99bc-3c34258725ab",
   "metadata": {},
   "outputs": [],
   "source": [
    "# Compile the model\n",
    "model_nn.compile(optimizer='adam', loss='categorical_crossentropy', metrics=['accuracy'])\n"
   ]
  },
  {
   "cell_type": "code",
   "execution_count": 358,
   "id": "883799fc-f9c2-4d33-9119-15c2af05e314",
   "metadata": {},
   "outputs": [
    {
     "name": "stdout",
     "output_type": "stream",
     "text": [
      "Epoch 1/10\n",
      "\u001b[1m138/138\u001b[0m \u001b[32m━━━━━━━━━━━━━━━━━━━━\u001b[0m\u001b[37m\u001b[0m \u001b[1m186s\u001b[0m 1s/step - accuracy: 0.2531 - loss: 1.5225 - val_accuracy: 0.1223 - val_loss: 1.8538\n",
      "Epoch 2/10\n",
      "\u001b[1m138/138\u001b[0m \u001b[32m━━━━━━━━━━━━━━━━━━━━\u001b[0m\u001b[37m\u001b[0m \u001b[1m185s\u001b[0m 1s/step - accuracy: 0.4656 - loss: 1.1265 - val_accuracy: 0.2047 - val_loss: 2.1721\n",
      "Epoch 3/10\n",
      "\u001b[1m138/138\u001b[0m \u001b[32m━━━━━━━━━━━━━━━━━━━━\u001b[0m\u001b[37m\u001b[0m \u001b[1m226s\u001b[0m 1s/step - accuracy: 0.6466 - loss: 0.8148 - val_accuracy: 0.2219 - val_loss: 3.2227\n",
      "Epoch 4/10\n",
      "\u001b[1m138/138\u001b[0m \u001b[32m━━━━━━━━━━━━━━━━━━━━\u001b[0m\u001b[37m\u001b[0m \u001b[1m201s\u001b[0m 1s/step - accuracy: 0.8091 - loss: 0.5214 - val_accuracy: 0.2192 - val_loss: 2.8839\n",
      "Epoch 5/10\n",
      "\u001b[1m138/138\u001b[0m \u001b[32m━━━━━━━━━━━━━━━━━━━━\u001b[0m\u001b[37m\u001b[0m \u001b[1m206s\u001b[0m 1s/step - accuracy: 0.8904 - loss: 0.3574 - val_accuracy: 0.2147 - val_loss: 4.2200\n",
      "Epoch 6/10\n",
      "\u001b[1m138/138\u001b[0m \u001b[32m━━━━━━━━━━━━━━━━━━━━\u001b[0m\u001b[37m\u001b[0m \u001b[1m183s\u001b[0m 1s/step - accuracy: 0.9322 - loss: 0.2248 - val_accuracy: 0.2446 - val_loss: 4.0189\n",
      "Epoch 7/10\n",
      "\u001b[1m138/138\u001b[0m \u001b[32m━━━━━━━━━━━━━━━━━━━━\u001b[0m\u001b[37m\u001b[0m \u001b[1m179s\u001b[0m 1s/step - accuracy: 0.9487 - loss: 0.1716 - val_accuracy: 0.2237 - val_loss: 8.7559\n",
      "Epoch 8/10\n",
      "\u001b[1m138/138\u001b[0m \u001b[32m━━━━━━━━━━━━━━━━━━━━\u001b[0m\u001b[37m\u001b[0m \u001b[1m181s\u001b[0m 1s/step - accuracy: 0.9599 - loss: 0.1725 - val_accuracy: 0.2908 - val_loss: 9.6344\n",
      "Epoch 9/10\n",
      "\u001b[1m138/138\u001b[0m \u001b[32m━━━━━━━━━━━━━━━━━━━━\u001b[0m\u001b[37m\u001b[0m \u001b[1m178s\u001b[0m 1s/step - accuracy: 0.9718 - loss: 0.1696 - val_accuracy: 0.2147 - val_loss: 4.7663\n",
      "Epoch 10/10\n",
      "\u001b[1m138/138\u001b[0m \u001b[32m━━━━━━━━━━━━━━━━━━━━\u001b[0m\u001b[37m\u001b[0m \u001b[1m201s\u001b[0m 1s/step - accuracy: 0.9661 - loss: 0.1863 - val_accuracy: 0.2536 - val_loss: 5.6720\n"
     ]
    }
   ],
   "source": [
    "history = model_nn.fit(X_train, y_train_nn, validation_data=(X_val, y_val_nn), epochs=epochs, batch_size=batch_size)"
   ]
  },
  {
   "cell_type": "markdown",
   "id": "a94dba57-a370-4c4a-8ea8-1bb328336887",
   "metadata": {},
   "source": [
    "<h4>Evaluation</h4>"
   ]
  },
  {
   "cell_type": "code",
   "execution_count": 360,
   "id": "730ff7fb-e262-4036-9866-b5ec53d2d602",
   "metadata": {},
   "outputs": [
    {
     "name": "stdout",
     "output_type": "stream",
     "text": [
      "\u001b[1m63/63\u001b[0m \u001b[32m━━━━━━━━━━━━━━━━━━━━\u001b[0m\u001b[37m\u001b[0m \u001b[1m11s\u001b[0m 172ms/step - accuracy: 0.2108 - loss: 6.0261\n",
      "Test Loss: 6.086636543273926\n",
      "Test Accuracy: 0.20749999582767487\n"
     ]
    }
   ],
   "source": [
    "# Now evaluate the model (do not overwrite model_nn with history)\n",
    "test_loss, test_accuracy = model_nn.evaluate(X_test, y_test_nn, batch_size=32)\n",
    "\n",
    "# Print results\n",
    "print(f\"Test Loss: {test_loss}\")\n",
    "print(f\"Test Accuracy: {test_accuracy}\")"
   ]
  },
  {
   "cell_type": "markdown",
   "id": "4023d323-6fc7-400d-89d5-8ae7b246d802",
   "metadata": {},
   "source": [
    "<h4>Model Tuning</h4>"
   ]
  },
  {
   "cell_type": "code",
   "execution_count": 362,
   "id": "d2060515-c026-41bd-ad1e-b522c84afb2b",
   "metadata": {},
   "outputs": [],
   "source": [
    "def create_nn_model(optimizer='adam', dropout_rate=0.2, num_units=64):\n",
    "    model = Sequential([\n",
    "        Dense(4999, activation='relu', input_dim=input_dims),\n",
    "        Dropout(0.3),\n",
    "        Dense(4500, activation='relu'),\n",
    "        Dropout(0.2), \n",
    "        Dense(3500, activation='relu'),\n",
    "        Dropout(0.2),\n",
    "        Dense(3000, activation='relu'),\n",
    "        Dropout(0.2),\n",
    "        Dense(2000, activation='relu'),\n",
    "        Dropout(0.2),\n",
    "        Dense(1000, activation='relu'), \n",
    "        Dropout(0.2),\n",
    "        Dense(500, activation='relu'),\n",
    "        Dropout(0.2), \n",
    "        Dense(100, activation='relu'),\n",
    "        Dropout(0.2),\n",
    "        Dense(num_classes, activation='softmax') \n",
    "    ])\n",
    "    # Compile model\n",
    "    model.compile(optimizer=optimizer, loss='categorical_crossentropy', metrics=['accuracy'])\n",
    "    \n",
    "    return model\n",
    "    "
   ]
  },
  {
   "cell_type": "code",
   "execution_count": 223,
   "id": "7c4806ed-5e7b-4214-968f-8eb3b67e3100",
   "metadata": {},
   "outputs": [],
   "source": [
    "model_nn_tune = KerasClassifier(build_fn=create_nn_model, epochs=10, batch_size=32, verbose=0, dropout_rate=0.2)\n"
   ]
  },
  {
   "cell_type": "code",
   "execution_count": 225,
   "id": "892bb054-7234-468f-9267-851aa1778414",
   "metadata": {},
   "outputs": [],
   "source": [
    "param_grid = {\n",
    "    'optimizer': ['adam', 'rmsprop'],\n",
    "    'dropout_rate': [0.2, 0.3, 0.5],\n",
    "    'batch_size': [32, 64],\n",
    "    'epochs': [10, 20, 30],\n",
    "    'loss': ['categorical_crossentropy', 'binary_crossentropy']\n",
    "}\n"
   ]
  },
  {
   "cell_type": "markdown",
   "id": "21cb7b57-9811-4216-aa52-8098c19b18e3",
   "metadata": {},
   "source": [
    "Running the following code cell will take a while as it is going a while as it is performing a significant number of tests in an attenmpt to to find the best combination of parameters that will yield the best performing neural network "
   ]
  },
  {
   "cell_type": "code",
   "execution_count": null,
   "id": "45da93f8-5571-46a6-b285-1ceb2398bda6",
   "metadata": {},
   "outputs": [],
   "source": [
    "#Using GridSearchCV to get the best hyperparameters for the NN model\n",
    "grid_search = GridSearchCV(estimator=model_nn_tune, param_grid=param_grid, n_jobs=-1, cv=5)\n",
    "grid_search.fit(X_train, y_train_nn)\n",
    "\n",
    "# Get the best hyperparameters\n",
    "print(\"Best parameters found: \", grid_search.best_params_)"
   ]
  },
  {
   "cell_type": "markdown",
   "id": "8eee02c0-2456-4a4a-a735-ca672d49a745",
   "metadata": {},
   "source": [
    "<h4>Testing the 'best' model</h4>"
   ]
  },
  {
   "cell_type": "code",
   "execution_count": 364,
   "id": "4ed88693-6d13-4b5a-be3a-b0792e122a49",
   "metadata": {},
   "outputs": [],
   "source": [
    "model_best = Sequential([\n",
    "    Input(shape=(X_train.shape[1],)),  \n",
    "    Dense(4999, activation='relu'),\n",
    "    Dropout(0.3),\n",
    "    Dense(4500, activation='relu'),\n",
    "    Dropout(0.2), \n",
    "    Dense(3500, activation='relu'),\n",
    "    Dropout(0.2),\n",
    "    Dense(3000, activation='relu'),\n",
    "    Dropout(0.2),\n",
    "    Dense(2000, activation='relu'),\n",
    "    Dropout(0.2),\n",
    "    Dense(1000, activation='relu'), \n",
    "    Dropout(0.2),\n",
    "    Dense(500, activation='relu'),\n",
    "    Dropout(0.2), \n",
    "    Dense(100, activation='relu'),\n",
    "    Dropout(0.2),\n",
    "    Dense(num_classes, activation='softmax') \n",
    "])"
   ]
  },
  {
   "cell_type": "code",
   "execution_count": 366,
   "id": "c71d04c0-5cfc-44dc-ad4f-b6331ef95d81",
   "metadata": {},
   "outputs": [],
   "source": [
    "model_best.compile(optimizer='adam', loss='categorical_crossentropy', metrics=['accuracy'])"
   ]
  },
  {
   "cell_type": "code",
   "execution_count": 372,
   "id": "836a237f-8d52-4c13-860c-181cbcd67acd",
   "metadata": {},
   "outputs": [
    {
     "name": "stdout",
     "output_type": "stream",
     "text": [
      "Epoch 1/10\n",
      "\u001b[1m138/138\u001b[0m \u001b[32m━━━━━━━━━━━━━━━━━━━━\u001b[0m\u001b[37m\u001b[0m \u001b[1m191s\u001b[0m 1s/step - accuracy: 0.2166 - loss: 1.5929 - val_accuracy: 0.2092 - val_loss: 1.6504\n",
      "Epoch 2/10\n",
      "\u001b[1m138/138\u001b[0m \u001b[32m━━━━━━━━━━━━━━━━━━━━\u001b[0m\u001b[37m\u001b[0m \u001b[1m176s\u001b[0m 1s/step - accuracy: 0.4002 - loss: 1.2439 - val_accuracy: 0.1658 - val_loss: 2.1035\n",
      "Epoch 3/10\n",
      "\u001b[1m138/138\u001b[0m \u001b[32m━━━━━━━━━━━━━━━━━━━━\u001b[0m\u001b[37m\u001b[0m \u001b[1m181s\u001b[0m 1s/step - accuracy: 0.5729 - loss: 0.8987 - val_accuracy: 0.2047 - val_loss: 2.8400\n",
      "Epoch 4/10\n",
      "\u001b[1m138/138\u001b[0m \u001b[32m━━━━━━━━━━━━━━━━━━━━\u001b[0m\u001b[37m\u001b[0m \u001b[1m179s\u001b[0m 1s/step - accuracy: 0.7011 - loss: 0.6231 - val_accuracy: 0.2301 - val_loss: 2.9551\n",
      "Epoch 5/10\n",
      "\u001b[1m138/138\u001b[0m \u001b[32m━━━━━━━━━━━━━━━━━━━━\u001b[0m\u001b[37m\u001b[0m \u001b[1m179s\u001b[0m 1s/step - accuracy: 0.8184 - loss: 0.4535 - val_accuracy: 0.2292 - val_loss: 3.1324\n",
      "Epoch 6/10\n",
      "\u001b[1m138/138\u001b[0m \u001b[32m━━━━━━━━━━━━━━━━━━━━\u001b[0m\u001b[37m\u001b[0m \u001b[1m200s\u001b[0m 1s/step - accuracy: 0.9078 - loss: 0.3145 - val_accuracy: 0.1911 - val_loss: 3.1580\n",
      "Epoch 7/10\n",
      "\u001b[1m138/138\u001b[0m \u001b[32m━━━━━━━━━━━━━━━━━━━━\u001b[0m\u001b[37m\u001b[0m \u001b[1m177s\u001b[0m 1s/step - accuracy: 0.9561 - loss: 0.2375 - val_accuracy: 0.2147 - val_loss: 4.5481\n",
      "Epoch 8/10\n",
      "\u001b[1m138/138\u001b[0m \u001b[32m━━━━━━━━━━━━━━━━━━━━\u001b[0m\u001b[37m\u001b[0m \u001b[1m171s\u001b[0m 1s/step - accuracy: 0.9620 - loss: 0.1669 - val_accuracy: 0.1993 - val_loss: 8.2252\n",
      "Epoch 9/10\n",
      "\u001b[1m138/138\u001b[0m \u001b[32m━━━━━━━━━━━━━━━━━━━━\u001b[0m\u001b[37m\u001b[0m \u001b[1m184s\u001b[0m 1s/step - accuracy: 0.9709 - loss: 0.1336 - val_accuracy: 0.1730 - val_loss: 5.0649\n",
      "Epoch 10/10\n",
      "\u001b[1m138/138\u001b[0m \u001b[32m━━━━━━━━━━━━━━━━━━━━\u001b[0m\u001b[37m\u001b[0m \u001b[1m180s\u001b[0m 1s/step - accuracy: 0.9808 - loss: 0.0812 - val_accuracy: 0.2274 - val_loss: 9.5875\n"
     ]
    },
    {
     "data": {
      "text/plain": [
       "<keras.src.callbacks.history.History at 0x223aeb1e480>"
      ]
     },
     "execution_count": 372,
     "metadata": {},
     "output_type": "execute_result"
    }
   ],
   "source": [
    "model_best.fit(X_train, y_train_nn, validation_data=(X_val, y_val_nn), epochs=epochs, batch_size=batch_size)"
   ]
  },
  {
   "cell_type": "code",
   "execution_count": 373,
   "id": "4bbdc9ce-94da-48a8-90bc-7dccb88e5c31",
   "metadata": {},
   "outputs": [
    {
     "name": "stdout",
     "output_type": "stream",
     "text": [
      "\u001b[1m63/63\u001b[0m \u001b[32m━━━━━━━━━━━━━━━━━━━━\u001b[0m\u001b[37m\u001b[0m \u001b[1m10s\u001b[0m 164ms/step - accuracy: 0.2101 - loss: 8.9889\n",
      "Test Loss: 8.88204574584961\n",
      "Test Accuracy: 0.20800000429153442\n"
     ]
    }
   ],
   "source": [
    "test_loss, test_accuracy = model_best.evaluate(X_test, y_test_nn, batch_size=32)\n",
    "\n",
    "print(f\"Test Loss: {test_loss}\")\n",
    "print(f\"Test Accuracy: {test_accuracy}\")"
   ]
  },
  {
   "cell_type": "markdown",
   "id": "d64c530e-79a9-4dda-b0d6-2f584b09f176",
   "metadata": {},
   "source": [
    "<h4>MLFlow</h4>"
   ]
  },
  {
   "cell_type": "markdown",
   "id": "af7571ad-04cd-426f-ab3c-1ae32923fc0d",
   "metadata": {},
   "source": [
    "The following function will, using MLFlow, create an experiment that will track the model passed to it, and log its parameters and metrics"
   ]
  },
  {
   "cell_type": "code",
   "execution_count": 376,
   "id": "91becc4a-6638-46b2-9917-9c402f1cc20a",
   "metadata": {},
   "outputs": [],
   "source": [
    "mlflow.set_tracking_uri(\"http://127.0.0.1:5000\")"
   ]
  },
  {
   "cell_type": "code",
   "execution_count": 378,
   "id": "a7972318-6e94-4069-808a-98cfab98246e",
   "metadata": {},
   "outputs": [],
   "source": [
    "def train_and_evaluate_model(X_train, y_train, X_val, y_val, X_test, y_test, model, model_name):\n",
    "\n",
    "    with mlflow.start_run(run_name = model_name):\n",
    "        # Log hyperparameters\n",
    "        mlflow.log_param(\"batch_size\", batch_size)\n",
    "        mlflow.log_param(\"epochs\", epochs)\n",
    "        mlflow.log_param(\"input_dims\", input_dims)\n",
    "        mlflow.log_param(\"num_classes\", num_classes)\n",
    "\n",
    "        # Train the model\n",
    "        history = model.fit(X_train, y_train, epochs=epochs, batch_size=batch_size,\n",
    "                               validation_data=(X_val, y_val), verbose=1)\n",
    "\n",
    "        # Log final validation metrics\n",
    "        val_loss, val_accuracy = model.evaluate(X_val, y_val, verbose=0)\n",
    "        mlflow.log_metric(\"val_loss\", val_loss)\n",
    "        mlflow.log_metric(\"val_accuracy\", val_accuracy)\n",
    "\n",
    "        # Evaluate on test data\n",
    "        test_loss, test_accuracy = model.evaluate(X_test, y_test, verbose=0)\n",
    "        mlflow.log_metric(\"test_loss\", test_loss)\n",
    "        mlflow.log_metric(\"test_accuracy\", test_accuracy)\n",
    "\n",
    "        # Make predictions on test set\n",
    "        y_pred = model.predict(X_test)\n",
    "        y_pred_classes = y_pred.argmax(axis=1)\n",
    "        y_true_classes = y_test.argmax(axis=1)\n",
    "\n",
    "        # Generate classification report\n",
    "        report = classification_report(y_true_classes, y_pred_classes, output_dict=True)\n",
    "        mlflow.log_dict(report, \"classification_report.json\")\n",
    "\n",
    "        # #logging the model\n",
    "        signature = infer_signature(X_train.iloc[:5].to_numpy(), model.predict(X_train.iloc[:5].to_numpy()))\n",
    "        mlflow.keras.log_model(model, \"Neural Network model\", signature=signature)\n",
    "\n",
    "    return model"
   ]
  },
  {
   "cell_type": "code",
   "execution_count": 380,
   "id": "4febaf73-b459-4412-959c-301940ac5012",
   "metadata": {},
   "outputs": [
    {
     "name": "stdout",
     "output_type": "stream",
     "text": [
      "Epoch 1/10\n",
      "\u001b[1m138/138\u001b[0m \u001b[32m━━━━━━━━━━━━━━━━━━━━\u001b[0m\u001b[37m\u001b[0m \u001b[1m189s\u001b[0m 1s/step - accuracy: 0.9737 - loss: 0.1877 - val_accuracy: 0.2518 - val_loss: 5.5096\n",
      "Epoch 2/10\n",
      "\u001b[1m138/138\u001b[0m \u001b[32m━━━━━━━━━━━━━━━━━━━━\u001b[0m\u001b[37m\u001b[0m \u001b[1m196s\u001b[0m 1s/step - accuracy: 0.9736 - loss: 0.1001 - val_accuracy: 0.2418 - val_loss: 6.4947\n",
      "Epoch 3/10\n",
      "\u001b[1m138/138\u001b[0m \u001b[32m━━━━━━━━━━━━━━━━━━━━\u001b[0m\u001b[37m\u001b[0m \u001b[1m201s\u001b[0m 1s/step - accuracy: 0.9847 - loss: 0.0866 - val_accuracy: 0.2500 - val_loss: 4.8937\n",
      "Epoch 4/10\n",
      "\u001b[1m138/138\u001b[0m \u001b[32m━━━━━━━━━━━━━━━━━━━━\u001b[0m\u001b[37m\u001b[0m \u001b[1m186s\u001b[0m 1s/step - accuracy: 0.9806 - loss: 0.1057 - val_accuracy: 0.2418 - val_loss: 5.4778\n",
      "Epoch 5/10\n",
      "\u001b[1m138/138\u001b[0m \u001b[32m━━━━━━━━━━━━━━━━━━━━\u001b[0m\u001b[37m\u001b[0m \u001b[1m165s\u001b[0m 1s/step - accuracy: 0.9887 - loss: 0.1021 - val_accuracy: 0.2464 - val_loss: 8.2185\n",
      "Epoch 6/10\n",
      "\u001b[1m138/138\u001b[0m \u001b[32m━━━━━━━━━━━━━━━━━━━━\u001b[0m\u001b[37m\u001b[0m \u001b[1m97s\u001b[0m 699ms/step - accuracy: 0.9884 - loss: 0.1210 - val_accuracy: 0.2246 - val_loss: 16.7374\n",
      "Epoch 7/10\n",
      "\u001b[1m138/138\u001b[0m \u001b[32m━━━━━━━━━━━━━━━━━━━━\u001b[0m\u001b[37m\u001b[0m \u001b[1m97s\u001b[0m 702ms/step - accuracy: 0.9865 - loss: 0.0617 - val_accuracy: 0.2409 - val_loss: 4.8960\n",
      "Epoch 8/10\n",
      "\u001b[1m138/138\u001b[0m \u001b[32m━━━━━━━━━━━━━━━━━━━━\u001b[0m\u001b[37m\u001b[0m \u001b[1m108s\u001b[0m 785ms/step - accuracy: 0.9948 - loss: 0.0326 - val_accuracy: 0.2237 - val_loss: 30.6544\n",
      "Epoch 9/10\n",
      "\u001b[1m138/138\u001b[0m \u001b[32m━━━━━━━━━━━━━━━━━━━━\u001b[0m\u001b[37m\u001b[0m \u001b[1m143s\u001b[0m 1s/step - accuracy: 0.9929 - loss: 0.0394 - val_accuracy: 0.2717 - val_loss: 14.2304\n",
      "Epoch 10/10\n",
      "\u001b[1m138/138\u001b[0m \u001b[32m━━━━━━━━━━━━━━━━━━━━\u001b[0m\u001b[37m\u001b[0m \u001b[1m147s\u001b[0m 1s/step - accuracy: 0.9788 - loss: 0.2214 - val_accuracy: 0.2527 - val_loss: 5.5648\n",
      "\u001b[1m63/63\u001b[0m \u001b[32m━━━━━━━━━━━━━━━━━━━━\u001b[0m\u001b[37m\u001b[0m \u001b[1m9s\u001b[0m 132ms/step\n",
      "\u001b[1m1/1\u001b[0m \u001b[32m━━━━━━━━━━━━━━━━━━━━\u001b[0m\u001b[37m\u001b[0m \u001b[1m0s\u001b[0m 118ms/step\n",
      "🏃 View run Base Model at: http://127.0.0.1:5000/#/experiments/0/runs/a3ada1140d9d493b8c7284e1155ef66f\n",
      "🧪 View experiment at: http://127.0.0.1:5000/#/experiments/0\n"
     ]
    },
    {
     "data": {
      "text/plain": [
       "<Sequential name=sequential_18, built=True>"
      ]
     },
     "execution_count": 380,
     "metadata": {},
     "output_type": "execute_result"
    }
   ],
   "source": [
    "train_and_evaluate_model(X_train, y_train_nn, X_val, y_val_nn, X_test, y_test_nn, model_nn, model_name = \"Base Model\")"
   ]
  },
  {
   "cell_type": "code",
   "execution_count": 381,
   "id": "f77b51c9-4701-4a81-8bc1-8553e55e9557",
   "metadata": {},
   "outputs": [
    {
     "name": "stdout",
     "output_type": "stream",
     "text": [
      "Epoch 1/10\n",
      "\u001b[1m138/138\u001b[0m \u001b[32m━━━━━━━━━━━━━━━━━━━━\u001b[0m\u001b[37m\u001b[0m \u001b[1m120s\u001b[0m 867ms/step - accuracy: 0.9737 - loss: 0.1383 - val_accuracy: 0.2274 - val_loss: 11.7914\n",
      "Epoch 2/10\n",
      "\u001b[1m138/138\u001b[0m \u001b[32m━━━━━━━━━━━━━━━━━━━━\u001b[0m\u001b[37m\u001b[0m \u001b[1m152s\u001b[0m 1s/step - accuracy: 0.9782 - loss: 0.1773 - val_accuracy: 0.2011 - val_loss: 7.2205\n",
      "Epoch 3/10\n",
      "\u001b[1m138/138\u001b[0m \u001b[32m━━━━━━━━━━━━━━━━━━━━\u001b[0m\u001b[37m\u001b[0m \u001b[1m147s\u001b[0m 1s/step - accuracy: 0.9724 - loss: 0.1247 - val_accuracy: 0.1812 - val_loss: 10.4630\n",
      "Epoch 4/10\n",
      "\u001b[1m138/138\u001b[0m \u001b[32m━━━━━━━━━━━━━━━━━━━━\u001b[0m\u001b[37m\u001b[0m \u001b[1m146s\u001b[0m 1s/step - accuracy: 0.9843 - loss: 0.0744 - val_accuracy: 0.1902 - val_loss: 25.1676\n",
      "Epoch 5/10\n",
      "\u001b[1m138/138\u001b[0m \u001b[32m━━━━━━━━━━━━━━━━━━━━\u001b[0m\u001b[37m\u001b[0m \u001b[1m141s\u001b[0m 1s/step - accuracy: 0.9888 - loss: 0.0509 - val_accuracy: 0.1775 - val_loss: 9.9322\n",
      "Epoch 6/10\n",
      "\u001b[1m138/138\u001b[0m \u001b[32m━━━━━━━━━━━━━━━━━━━━\u001b[0m\u001b[37m\u001b[0m \u001b[1m149s\u001b[0m 1s/step - accuracy: 0.9849 - loss: 0.0697 - val_accuracy: 0.1839 - val_loss: 9.8404\n",
      "Epoch 7/10\n",
      "\u001b[1m138/138\u001b[0m \u001b[32m━━━━━━━━━━━━━━━━━━━━\u001b[0m\u001b[37m\u001b[0m \u001b[1m127s\u001b[0m 920ms/step - accuracy: 0.9814 - loss: 0.1429 - val_accuracy: 0.2092 - val_loss: 6.2444\n",
      "Epoch 8/10\n",
      "\u001b[1m138/138\u001b[0m \u001b[32m━━━━━━━━━━━━━━━━━━━━\u001b[0m\u001b[37m\u001b[0m \u001b[1m144s\u001b[0m 1s/step - accuracy: 0.9841 - loss: 0.0906 - val_accuracy: 0.1694 - val_loss: 6.5750\n",
      "Epoch 9/10\n",
      "\u001b[1m138/138\u001b[0m \u001b[32m━━━━━━━━━━━━━━━━━━━━\u001b[0m\u001b[37m\u001b[0m \u001b[1m129s\u001b[0m 931ms/step - accuracy: 0.9877 - loss: 0.0986 - val_accuracy: 0.1839 - val_loss: 24.4721\n",
      "Epoch 10/10\n",
      "\u001b[1m138/138\u001b[0m \u001b[32m━━━━━━━━━━━━━━━━━━━━\u001b[0m\u001b[37m\u001b[0m \u001b[1m122s\u001b[0m 888ms/step - accuracy: 0.9919 - loss: 0.0884 - val_accuracy: 0.1830 - val_loss: 12.5628\n",
      "\u001b[1m63/63\u001b[0m \u001b[32m━━━━━━━━━━━━━━━━━━━━\u001b[0m\u001b[37m\u001b[0m \u001b[1m8s\u001b[0m 121ms/step\n",
      "\u001b[1m1/1\u001b[0m \u001b[32m━━━━━━━━━━━━━━━━━━━━\u001b[0m\u001b[37m\u001b[0m \u001b[1m0s\u001b[0m 119ms/step\n",
      "🏃 View run Tuned Model at: http://127.0.0.1:5000/#/experiments/0/runs/02b8ea47d0074398a2767b6ab7b2be3e\n",
      "🧪 View experiment at: http://127.0.0.1:5000/#/experiments/0\n"
     ]
    },
    {
     "data": {
      "text/plain": [
       "<Sequential name=sequential_19, built=True>"
      ]
     },
     "execution_count": 381,
     "metadata": {},
     "output_type": "execute_result"
    }
   ],
   "source": [
    "train_and_evaluate_model(X_train, y_train_nn, X_val, y_val_nn, X_test, y_test_nn, model_best, model_name = \"Tuned Model\")"
   ]
  },
  {
   "cell_type": "markdown",
   "id": "a653ad02-9228-4a75-8b40-f12349fc0f91",
   "metadata": {},
   "source": [
    "Having looked at the models' performance on MLFlow, the tuned model outperformed the base model and now, it will be registered and saved for export and future use."
   ]
  },
  {
   "cell_type": "markdown",
   "id": "716f4974-a795-4732-910e-389ad4eb4280",
   "metadata": {},
   "source": [
    "<h5>Registering the better performing model</h5>"
   ]
  },
  {
   "cell_type": "code",
   "execution_count": 389,
   "id": "0db60828-9b96-4f3f-b354-5a76b75498a0",
   "metadata": {},
   "outputs": [
    {
     "name": "stdin",
     "output_type": "stream",
     "text": [
      "Enter Run ID:  02b8ea47d0074398a2767b6ab7b2be3e\n"
     ]
    },
    {
     "name": "stderr",
     "output_type": "stream",
     "text": [
      "Registered model 'Tuned Model' already exists. Creating a new version of this model...\n",
      "2025/02/05 10:31:14 INFO mlflow.store.model_registry.abstract_store: Waiting up to 300 seconds for model version to finish creation. Model name: Tuned Model, version 2\n",
      "Created version '2' of model 'Tuned Model'.\n"
     ]
    }
   ],
   "source": [
    "model_name = \"Tuned Model\"\n",
    "run_id = input(\"Enter Run ID: \") #\"4cc744832cfa4cd3b3e2080144b83c84\"\n",
    "model_uri = f\"runs:/{run_id}/{model_name}\"\n",
    "\n",
    "result = mlflow.register_model(\n",
    "    model_uri, model_name\n",
    ")"
   ]
  },
  {
   "cell_type": "code",
   "execution_count": 413,
   "id": "aba51469-c590-4843-a00b-cbd13c6d8f62",
   "metadata": {},
   "outputs": [],
   "source": [
    "with open(\"NN_model_compressed.pkl\", \"wb\") as f:\n",
    "    joblib.dump(model_best, f, compress=9) "
   ]
  },
  {
   "cell_type": "code",
   "execution_count": 415,
   "id": "60888f95-1423-42ca-ba29-b0c5a4789ab4",
   "metadata": {},
   "outputs": [
    {
     "ename": "ValueError",
     "evalue": "File format not supported: filepath=NN_model_compressed.pkl. Keras 3 only supports V3 `.keras` files and legacy H5 format files (`.h5` extension). Note that the legacy SavedModel format is not supported by `load_model()` in Keras 3. In order to reload a TensorFlow SavedModel as an inference-only layer in Keras 3, use `keras.layers.TFSMLayer(NN_model_compressed.pkl, call_endpoint='serving_default')` (note that your `call_endpoint` might have a different name).",
     "output_type": "error",
     "traceback": [
      "\u001b[1;31m---------------------------------------------------------------------------\u001b[0m",
      "\u001b[1;31mValueError\u001b[0m                                Traceback (most recent call last)",
      "Cell \u001b[1;32mIn[415], line 1\u001b[0m\n\u001b[1;32m----> 1\u001b[0m model \u001b[38;5;241m=\u001b[39m tf\u001b[38;5;241m.\u001b[39mkeras\u001b[38;5;241m.\u001b[39mmodels\u001b[38;5;241m.\u001b[39mload_model(\u001b[38;5;124m\"\u001b[39m\u001b[38;5;124mNN_model_compressed.pkl\u001b[39m\u001b[38;5;124m\"\u001b[39m)\n\u001b[0;32m      3\u001b[0m \u001b[38;5;66;03m# Convert weights to float16\u001b[39;00m\n\u001b[0;32m      4\u001b[0m \u001b[38;5;28;01mfor\u001b[39;00m layer \u001b[38;5;129;01min\u001b[39;00m model\u001b[38;5;241m.\u001b[39mlayers:\n",
      "File \u001b[1;32m~\\anaconda3\\Lib\\site-packages\\keras\\src\\saving\\saving_api.py:206\u001b[0m, in \u001b[0;36mload_model\u001b[1;34m(filepath, custom_objects, compile, safe_mode)\u001b[0m\n\u001b[0;32m    200\u001b[0m     \u001b[38;5;28;01mraise\u001b[39;00m \u001b[38;5;167;01mValueError\u001b[39;00m(\n\u001b[0;32m    201\u001b[0m         \u001b[38;5;124mf\u001b[39m\u001b[38;5;124m\"\u001b[39m\u001b[38;5;124mFile not found: filepath=\u001b[39m\u001b[38;5;132;01m{\u001b[39;00mfilepath\u001b[38;5;132;01m}\u001b[39;00m\u001b[38;5;124m. \u001b[39m\u001b[38;5;124m\"\u001b[39m\n\u001b[0;32m    202\u001b[0m         \u001b[38;5;124m\"\u001b[39m\u001b[38;5;124mPlease ensure the file is an accessible `.keras` \u001b[39m\u001b[38;5;124m\"\u001b[39m\n\u001b[0;32m    203\u001b[0m         \u001b[38;5;124m\"\u001b[39m\u001b[38;5;124mzip file.\u001b[39m\u001b[38;5;124m\"\u001b[39m\n\u001b[0;32m    204\u001b[0m     )\n\u001b[0;32m    205\u001b[0m \u001b[38;5;28;01melse\u001b[39;00m:\n\u001b[1;32m--> 206\u001b[0m     \u001b[38;5;28;01mraise\u001b[39;00m \u001b[38;5;167;01mValueError\u001b[39;00m(\n\u001b[0;32m    207\u001b[0m         \u001b[38;5;124mf\u001b[39m\u001b[38;5;124m\"\u001b[39m\u001b[38;5;124mFile format not supported: filepath=\u001b[39m\u001b[38;5;132;01m{\u001b[39;00mfilepath\u001b[38;5;132;01m}\u001b[39;00m\u001b[38;5;124m. \u001b[39m\u001b[38;5;124m\"\u001b[39m\n\u001b[0;32m    208\u001b[0m         \u001b[38;5;124m\"\u001b[39m\u001b[38;5;124mKeras 3 only supports V3 `.keras` files and \u001b[39m\u001b[38;5;124m\"\u001b[39m\n\u001b[0;32m    209\u001b[0m         \u001b[38;5;124m\"\u001b[39m\u001b[38;5;124mlegacy H5 format files (`.h5` extension). \u001b[39m\u001b[38;5;124m\"\u001b[39m\n\u001b[0;32m    210\u001b[0m         \u001b[38;5;124m\"\u001b[39m\u001b[38;5;124mNote that the legacy SavedModel format is not \u001b[39m\u001b[38;5;124m\"\u001b[39m\n\u001b[0;32m    211\u001b[0m         \u001b[38;5;124m\"\u001b[39m\u001b[38;5;124msupported by `load_model()` in Keras 3. In \u001b[39m\u001b[38;5;124m\"\u001b[39m\n\u001b[0;32m    212\u001b[0m         \u001b[38;5;124m\"\u001b[39m\u001b[38;5;124morder to reload a TensorFlow SavedModel as an \u001b[39m\u001b[38;5;124m\"\u001b[39m\n\u001b[0;32m    213\u001b[0m         \u001b[38;5;124m\"\u001b[39m\u001b[38;5;124minference-only layer in Keras 3, use \u001b[39m\u001b[38;5;124m\"\u001b[39m\n\u001b[0;32m    214\u001b[0m         \u001b[38;5;124m\"\u001b[39m\u001b[38;5;124m`keras.layers.TFSMLayer(\u001b[39m\u001b[38;5;124m\"\u001b[39m\n\u001b[0;32m    215\u001b[0m         \u001b[38;5;124mf\u001b[39m\u001b[38;5;124m\"\u001b[39m\u001b[38;5;132;01m{\u001b[39;00mfilepath\u001b[38;5;132;01m}\u001b[39;00m\u001b[38;5;124m, call_endpoint=\u001b[39m\u001b[38;5;124m'\u001b[39m\u001b[38;5;124mserving_default\u001b[39m\u001b[38;5;124m'\u001b[39m\u001b[38;5;124m)` \u001b[39m\u001b[38;5;124m\"\u001b[39m\n\u001b[0;32m    216\u001b[0m         \u001b[38;5;124m\"\u001b[39m\u001b[38;5;124m(note that your `call_endpoint` \u001b[39m\u001b[38;5;124m\"\u001b[39m\n\u001b[0;32m    217\u001b[0m         \u001b[38;5;124m\"\u001b[39m\u001b[38;5;124mmight have a different name).\u001b[39m\u001b[38;5;124m\"\u001b[39m\n\u001b[0;32m    218\u001b[0m     )\n",
      "\u001b[1;31mValueError\u001b[0m: File format not supported: filepath=NN_model_compressed.pkl. Keras 3 only supports V3 `.keras` files and legacy H5 format files (`.h5` extension). Note that the legacy SavedModel format is not supported by `load_model()` in Keras 3. In order to reload a TensorFlow SavedModel as an inference-only layer in Keras 3, use `keras.layers.TFSMLayer(NN_model_compressed.pkl, call_endpoint='serving_default')` (note that your `call_endpoint` might have a different name)."
     ]
    }
   ],
   "source": [
    "model = tf.keras.models.load_model(\"NN_model_compressed.pkl\")\n",
    "\n",
    "# Convert weights to float16\n",
    "for layer in model.layers:\n",
    "    if hasattr(layer, 'kernel'):\n",
    "        layer.kernel.assign(tf.cast(layer.kernel, dtype=tf.float16))\n",
    "\n",
    "# Save the smaller model\n",
    "model.save(\"NN_model_compressed.h5\")"
   ]
  },
  {
   "cell_type": "code",
   "execution_count": 391,
   "id": "e02f6b4c-d986-4db3-a005-71685ff34677",
   "metadata": {},
   "outputs": [],
   "source": [
    "filename = \"NN_model.pkl\"\n",
    "pickle.dump(model_best, open(filename, \"wb\"))"
   ]
  },
  {
   "cell_type": "markdown",
   "id": "77b443f0-8fa8-4189-b7df-8985ab71f507",
   "metadata": {
    "jp-MarkdownHeadingCollapsed": true
   },
   "source": [
    "<h2>Random Forest</h2>"
   ]
  },
  {
   "cell_type": "markdown",
   "id": "132043af",
   "metadata": {},
   "source": [
    "#### Training "
   ]
  },
  {
   "cell_type": "code",
   "execution_count": null,
   "id": "e606b6d4",
   "metadata": {},
   "outputs": [],
   "source": [
    "rf_model = RandomForestClassifier(n_estimators=5, max_depth=3, min_samples_split=2, min_samples_leaf=1, random_state=42)\n",
    "rf_model.fit(X_train, y_train)\n"
   ]
  },
  {
   "cell_type": "markdown",
   "id": "6d765a40",
   "metadata": {},
   "source": [
    "#### Evaluation"
   ]
  },
  {
   "cell_type": "code",
   "execution_count": null,
   "id": "32d19cc8-0c0c-4eda-b592-07f37a43d139",
   "metadata": {},
   "outputs": [],
   "source": [
    "# Train and evaluate the Random Forest model\n",
    "y_pred = rf_model.predict(X_val)\n",
    "\n",
    "print(\"Accuracy Score:\", accuracy_score(y_val, y_pred))\n",
    "print(\"\\nClassification Report:\\n\", classification_report(y_val, y_pred))"
   ]
  },
  {
   "cell_type": "code",
   "execution_count": null,
   "id": "271f4f3b-23ca-4e9f-90b0-4f55eb341136",
   "metadata": {},
   "outputs": [],
   "source": [
    "#Converting the data into arrays to be used by the RandomSearchCV\n",
    "X_train_rf = np.array(X_train)\n",
    "y_train_rf = np.array(y_train)\n",
    "X_test_rf = np.array(X_val)\n",
    "y_test_rf = np.array(y_val)\n",
    "\n",
    "# Define the parameter grid\n",
    "param_grid = {\n",
    "    'n_estimators': [3, 5, 10],  # Number of trees\n",
    "    'max_depth': [3, 4, 5]  # Maximum depth of trees\n",
    "}\n",
    "\n",
    "# Initialize the Random Forest model\n",
    "rf_model = RandomForestClassifier(n_estimators=5, max_depth=3, min_samples_split=2, min_samples_leaf=1, random_state=42)\n"
   ]
  },
  {
   "cell_type": "code",
   "execution_count": null,
   "id": "c7d9efe8-58ee-4f5b-a80d-b0b06adcb9c2",
   "metadata": {},
   "outputs": [],
   "source": [
    "# Use RandomizedSearchCV for efficiency\n",
    "random_search = RandomizedSearchCV(\n",
    "    estimator=rf_model, \n",
    "    param_distributions=param_grid, \n",
    "    n_iter=10,  # Randomly sample 10 combinations\n",
    "    cv=5, \n",
    "    n_jobs=1,  # Prevent memory issues\n",
    "    verbose=2, \n",
    "    scoring='accuracy',\n",
    "    random_state=42\n",
    ")\n"
   ]
  },
  {
   "cell_type": "code",
   "execution_count": null,
   "id": "5a8125ea-10b8-42fc-9f17-22fcc70ede6d",
   "metadata": {},
   "outputs": [],
   "source": [
    "# Fit the model\n",
    "random_search.fit(X_train_rf, y_train_rf)\n",
    "\n",
    "# Initialize GridSearchCV\n",
    "grid_search = GridSearchCV(estimator=rf_model, param_grid=param_grid, \n",
    "                           cv=5, n_jobs=-1, verbose=2, scoring='accuracy')\n",
    "\n",
    "# Get the best parameters and model\n",
    "best_rf_model = random_search.best_estimator_\n",
    "print(\"Best Parameters:\", random_search.best_params_)\n",
    "print(\"Best Accuracy:\", random_search.best_score_)\n"
   ]
  },
  {
   "cell_type": "markdown",
   "id": "bc48710d",
   "metadata": {},
   "source": [
    "#### Model Tuning"
   ]
  },
  {
   "cell_type": "code",
   "execution_count": null,
   "id": "6dc979e8-5561-4c49-825f-e1a758c4ac7d",
   "metadata": {},
   "outputs": [],
   "source": [
    "# Predict on the test set\n",
    "y_pred_optimized = best_rf_model.predict(X_test_rf)\n",
    "\n",
    "# Evaluate the model\n",
    "print(\"\\nOptimized Accuracy Score:\", accuracy_score(y_test_rf, y_pred_optimized))\n",
    "print(\"\\nOptimized Classification Report:\\n\", classification_report(y_test_rf, y_pred_optimized))\n"
   ]
  },
  {
   "cell_type": "markdown",
   "id": "59417ddc",
   "metadata": {},
   "source": [
    "#### MLFlow"
   ]
  },
  {
   "cell_type": "code",
   "execution_count": null,
   "id": "e3338152-8d0c-4c97-bd61-8b1f7c0d037f",
   "metadata": {},
   "outputs": [],
   "source": [
    "#Setting the tracking URI, which is where MLFlow will run and log experiments\n",
    "import mlflow\n",
    "import mlflow.sklearn\n",
    "mlflow.set_tracking_uri(uri=\"http://127.0.0.1:5000\")"
   ]
  },
  {
   "cell_type": "code",
   "execution_count": null,
   "id": "5fe6e3b7-f642-4e1a-87b5-33fcba144593",
   "metadata": {},
   "outputs": [],
   "source": [
    "from sklearn.ensemble import RandomForestClassifier\n",
    "\n",
    "def train_random_forest(X_train, y_train, X_test, y_test, n_estimators, max_depth, min_samples_split,\n",
    "                        min_samples_leaf, model_name=None, random_state=None):\n",
    "    # Function code here\n",
    "\n",
    "    experiment = mlflow.create_experiment(model_name)\n",
    "    # Set MLflow experiment\n",
    "    mlflow.set_experiment(f\"{model_name}_random_forest_experiment\")\n",
    "\n",
    "    # Start a new MLflow run\n",
    "    with mlflow.start_run():\n",
    "        # Create the Random Forest model\n",
    "        rf_model = RandomForestClassifier(\n",
    "            n_estimators=n_estimators,\n",
    "            max_depth=max_depth,\n",
    "            min_samples_split=min_samples_split,\n",
    "            min_samples_leaf=min_samples_leaf,\n",
    "            random_state=random_state\n",
    "        )\n",
    "        \n",
    "        # Train the model\n",
    "        rf_model.fit(X_train_rf, y_train_rf)\n",
    "        \n",
    "        # Predict on test data\n",
    "        y_pred = rf_model.predict(X_test_rf)\n",
    "        \n",
    "        # Log hyperparameters\n",
    "        mlflow.log_param(\"n_estimators\", n_estimators)\n",
    "        mlflow.log_param(\"max_depth\", max_depth)\n",
    "        mlflow.log_param(\"min_samples_split\", min_samples_split)\n",
    "        mlflow.log_param(\"min_samples_leaf\", min_samples_leaf)\n",
    "        \n",
    "        # Calculate and log accuracy as a metric\n",
    "        accuracy = accuracy_score(y_test_rf, y_pred)\n",
    "        mlflow.log_metric(\"accuracy\", accuracy)\n",
    "        \n",
    "        # Optionally: Log the classification report as an artifact\n",
    "        report = classification_report(y_test_rf, y_pred, output_dict=True)\n",
    "        report_path = \"classification_report.json\"\n",
    "        with open(report_path, \"w\") as f:\n",
    "            json.dump(report, f)\n",
    "        \n",
    "        # Log the classification report as an artifact\n",
    "        mlflow.log_artifact(report_path)\n",
    "        \n",
    "        # Log the trained model\n",
    "        mlflow.sklearn.log_model(rf_model, \"random_forest_model\")\n",
    "        \n",
    "        # Optionally: Save the model as a .pkl file and log it\n",
    "        model_path = \"random_forest_model.pkl\"\n",
    "        joblib.dump(rf_model, model_path)\n",
    "        mlflow.log_artifact(model_path)\n",
    "        \n",
    "        # Print and return the accuracy of the model\n",
    "        print(f\"Model training completed with accuracy: {accuracy}\")\n",
    "        return accuracy\n"
   ]
  },
  {
   "cell_type": "code",
   "execution_count": null,
   "id": "eb4964c7-ee58-4a49-a4a9-fd58597d88f5",
   "metadata": {},
   "outputs": [],
   "source": [
    "train_random_forest(X_train, y_train, X_test, y_test, 5, 3, 2, 1, model_name=\"base model 1\", random_state=42)"
   ]
  },
  {
   "cell_type": "code",
   "execution_count": null,
   "id": "cdf405e1-f831-42e3-8f62-5d63a8cf57a5",
   "metadata": {},
   "outputs": [],
   "source": [
    "train_random_forest(X_train, y_train, X_test, y_test, 5, 3, 2, 1 , model_name=\"optimized model 1\", random_state=42)"
   ]
  },
  {
   "cell_type": "code",
   "execution_count": null,
   "id": "033d75fd-6938-4ff6-812e-5075a6fa81b3",
   "metadata": {},
   "outputs": [],
   "source": [
    "import joblib\n",
    "joblib.dump(best_rf_model, \"optimized_rf_model.pkl\")\n",
    "print(\"Model saved as 'optimized_rf_model.pkl'\")\n"
   ]
  },
  {
   "cell_type": "code",
   "execution_count": null,
   "id": "d630630f-c4dd-4fde-b801-22c8faf534c4",
   "metadata": {},
   "outputs": [],
   "source": [
    "from sklearn.metrics import ConfusionMatrixDisplay\n",
    "\n",
    "# Plot confusion matrix\n",
    "ConfusionMatrixDisplay.from_estimator(best_rf_model, X_test_rf, y_test_rf, cmap='Blues')\n",
    "plt.title(\"Confusion Matrix\")\n",
    "plt.show()\n"
   ]
  },
  {
   "cell_type": "code",
   "execution_count": null,
   "id": "5ae88543-d8c8-4f3e-876f-f7d286e4881c",
   "metadata": {},
   "outputs": [],
   "source": [
    "print(len(features))\n",
    "print(len(importances))\n"
   ]
  },
  {
   "cell_type": "code",
   "execution_count": null,
   "id": "280f1354-916c-4b6f-ae79-27a5641d2469",
   "metadata": {},
   "outputs": [],
   "source": [
    "# Trim the importances array to match the number of features\n",
    "importances = importances[:len(features)]\n"
   ]
  },
  {
   "cell_type": "code",
   "execution_count": null,
   "id": "972d2bfd-3691-4c10-8691-b6a71139ebe4",
   "metadata": {},
   "outputs": [],
   "source": [
    "# Create the DataFrame with feature names and importances\n",
    "importance_df = pd.DataFrame({'Feature': features, 'Importance': importances})\n",
    "\n",
    "# Sort the DataFrame by importance in descending order and take the top 10\n",
    "importance_df = importance_df.sort_values(by='Importance', ascending=False).head(10)\n",
    "\n",
    "# Display the top 10 most important features\n",
    "print(importance_df)\n"
   ]
  },
  {
   "cell_type": "markdown",
   "id": "e6df7d92-bf06-4a70-939e-467f272028e4",
   "metadata": {
    "jp-MarkdownHeadingCollapsed": true
   },
   "source": [
    "<h2>K-Nearest Neighbours</h2>"
   ]
  },
  {
   "cell_type": "code",
   "execution_count": 36,
   "id": "7cf6cb6a-672e-45cc-949f-7afbb262a1bd",
   "metadata": {},
   "outputs": [],
   "source": [
    "X_train_knn = X_train\n",
    "y_train_knn = y_train\n",
    "\n",
    "X_test_knn = X_val\n",
    "y_test_knn = y_val"
   ]
  },
  {
   "cell_type": "markdown",
   "id": "4ef85f4d",
   "metadata": {
    "jp-MarkdownHeadingCollapsed": true
   },
   "source": [
    "#### Sparse matrices and transformation"
   ]
  },
  {
   "cell_type": "code",
   "execution_count": 37,
   "id": "052492d5",
   "metadata": {},
   "outputs": [],
   "source": [
    "from scipy.sparse import csr_matrix\n",
    "X_train_sparse = csr_matrix(X_train_knn)\n",
    "X_test_sparse = csr_matrix(X_test_knn)\n",
    "\n",
    "scaler = StandardScaler(with_mean=False)  # Important for sparse matrices\n",
    "X_train_scaled = scaler.fit_transform(X_train_sparse)\n",
    "X_test_scaled = scaler.transform(X_test_sparse)"
   ]
  },
  {
   "cell_type": "markdown",
   "id": "95d1c4c7",
   "metadata": {
    "jp-MarkdownHeadingCollapsed": true
   },
   "source": [
    "#### Evaluation"
   ]
  },
  {
   "cell_type": "code",
   "execution_count": 38,
   "id": "e6c61f62",
   "metadata": {},
   "outputs": [],
   "source": [
    "X_train_sampled, _, y_train_sampled, _ = train_test_split(X_train_knn, y_train_knn, train_size=0.1, random_state=42)"
   ]
  },
  {
   "cell_type": "code",
   "execution_count": 39,
   "id": "10be6b77-bffc-48c8-bebb-2eee0afdca0a",
   "metadata": {},
   "outputs": [],
   "source": [
    "# Train the KNN model (multi-label classification assumes one-vs-rest by default)\n",
    "knn = KNeighborsClassifier(n_neighbors=k, algorithm='ball_tree')"
   ]
  },
  {
   "cell_type": "code",
   "execution_count": 40,
   "id": "727fd540-435d-42f0-beda-bc8c0e860d51",
   "metadata": {},
   "outputs": [
    {
     "data": {
      "text/html": [
       "<style>#sk-container-id-2 {\n",
       "  /* Definition of color scheme common for light and dark mode */\n",
       "  --sklearn-color-text: #000;\n",
       "  --sklearn-color-text-muted: #666;\n",
       "  --sklearn-color-line: gray;\n",
       "  /* Definition of color scheme for unfitted estimators */\n",
       "  --sklearn-color-unfitted-level-0: #fff5e6;\n",
       "  --sklearn-color-unfitted-level-1: #f6e4d2;\n",
       "  --sklearn-color-unfitted-level-2: #ffe0b3;\n",
       "  --sklearn-color-unfitted-level-3: chocolate;\n",
       "  /* Definition of color scheme for fitted estimators */\n",
       "  --sklearn-color-fitted-level-0: #f0f8ff;\n",
       "  --sklearn-color-fitted-level-1: #d4ebff;\n",
       "  --sklearn-color-fitted-level-2: #b3dbfd;\n",
       "  --sklearn-color-fitted-level-3: cornflowerblue;\n",
       "\n",
       "  /* Specific color for light theme */\n",
       "  --sklearn-color-text-on-default-background: var(--sg-text-color, var(--theme-code-foreground, var(--jp-content-font-color1, black)));\n",
       "  --sklearn-color-background: var(--sg-background-color, var(--theme-background, var(--jp-layout-color0, white)));\n",
       "  --sklearn-color-border-box: var(--sg-text-color, var(--theme-code-foreground, var(--jp-content-font-color1, black)));\n",
       "  --sklearn-color-icon: #696969;\n",
       "\n",
       "  @media (prefers-color-scheme: dark) {\n",
       "    /* Redefinition of color scheme for dark theme */\n",
       "    --sklearn-color-text-on-default-background: var(--sg-text-color, var(--theme-code-foreground, var(--jp-content-font-color1, white)));\n",
       "    --sklearn-color-background: var(--sg-background-color, var(--theme-background, var(--jp-layout-color0, #111)));\n",
       "    --sklearn-color-border-box: var(--sg-text-color, var(--theme-code-foreground, var(--jp-content-font-color1, white)));\n",
       "    --sklearn-color-icon: #878787;\n",
       "  }\n",
       "}\n",
       "\n",
       "#sk-container-id-2 {\n",
       "  color: var(--sklearn-color-text);\n",
       "}\n",
       "\n",
       "#sk-container-id-2 pre {\n",
       "  padding: 0;\n",
       "}\n",
       "\n",
       "#sk-container-id-2 input.sk-hidden--visually {\n",
       "  border: 0;\n",
       "  clip: rect(1px 1px 1px 1px);\n",
       "  clip: rect(1px, 1px, 1px, 1px);\n",
       "  height: 1px;\n",
       "  margin: -1px;\n",
       "  overflow: hidden;\n",
       "  padding: 0;\n",
       "  position: absolute;\n",
       "  width: 1px;\n",
       "}\n",
       "\n",
       "#sk-container-id-2 div.sk-dashed-wrapped {\n",
       "  border: 1px dashed var(--sklearn-color-line);\n",
       "  margin: 0 0.4em 0.5em 0.4em;\n",
       "  box-sizing: border-box;\n",
       "  padding-bottom: 0.4em;\n",
       "  background-color: var(--sklearn-color-background);\n",
       "}\n",
       "\n",
       "#sk-container-id-2 div.sk-container {\n",
       "  /* jupyter's `normalize.less` sets `[hidden] { display: none; }`\n",
       "     but bootstrap.min.css set `[hidden] { display: none !important; }`\n",
       "     so we also need the `!important` here to be able to override the\n",
       "     default hidden behavior on the sphinx rendered scikit-learn.org.\n",
       "     See: https://github.com/scikit-learn/scikit-learn/issues/21755 */\n",
       "  display: inline-block !important;\n",
       "  position: relative;\n",
       "}\n",
       "\n",
       "#sk-container-id-2 div.sk-text-repr-fallback {\n",
       "  display: none;\n",
       "}\n",
       "\n",
       "div.sk-parallel-item,\n",
       "div.sk-serial,\n",
       "div.sk-item {\n",
       "  /* draw centered vertical line to link estimators */\n",
       "  background-image: linear-gradient(var(--sklearn-color-text-on-default-background), var(--sklearn-color-text-on-default-background));\n",
       "  background-size: 2px 100%;\n",
       "  background-repeat: no-repeat;\n",
       "  background-position: center center;\n",
       "}\n",
       "\n",
       "/* Parallel-specific style estimator block */\n",
       "\n",
       "#sk-container-id-2 div.sk-parallel-item::after {\n",
       "  content: \"\";\n",
       "  width: 100%;\n",
       "  border-bottom: 2px solid var(--sklearn-color-text-on-default-background);\n",
       "  flex-grow: 1;\n",
       "}\n",
       "\n",
       "#sk-container-id-2 div.sk-parallel {\n",
       "  display: flex;\n",
       "  align-items: stretch;\n",
       "  justify-content: center;\n",
       "  background-color: var(--sklearn-color-background);\n",
       "  position: relative;\n",
       "}\n",
       "\n",
       "#sk-container-id-2 div.sk-parallel-item {\n",
       "  display: flex;\n",
       "  flex-direction: column;\n",
       "}\n",
       "\n",
       "#sk-container-id-2 div.sk-parallel-item:first-child::after {\n",
       "  align-self: flex-end;\n",
       "  width: 50%;\n",
       "}\n",
       "\n",
       "#sk-container-id-2 div.sk-parallel-item:last-child::after {\n",
       "  align-self: flex-start;\n",
       "  width: 50%;\n",
       "}\n",
       "\n",
       "#sk-container-id-2 div.sk-parallel-item:only-child::after {\n",
       "  width: 0;\n",
       "}\n",
       "\n",
       "/* Serial-specific style estimator block */\n",
       "\n",
       "#sk-container-id-2 div.sk-serial {\n",
       "  display: flex;\n",
       "  flex-direction: column;\n",
       "  align-items: center;\n",
       "  background-color: var(--sklearn-color-background);\n",
       "  padding-right: 1em;\n",
       "  padding-left: 1em;\n",
       "}\n",
       "\n",
       "\n",
       "/* Toggleable style: style used for estimator/Pipeline/ColumnTransformer box that is\n",
       "clickable and can be expanded/collapsed.\n",
       "- Pipeline and ColumnTransformer use this feature and define the default style\n",
       "- Estimators will overwrite some part of the style using the `sk-estimator` class\n",
       "*/\n",
       "\n",
       "/* Pipeline and ColumnTransformer style (default) */\n",
       "\n",
       "#sk-container-id-2 div.sk-toggleable {\n",
       "  /* Default theme specific background. It is overwritten whether we have a\n",
       "  specific estimator or a Pipeline/ColumnTransformer */\n",
       "  background-color: var(--sklearn-color-background);\n",
       "}\n",
       "\n",
       "/* Toggleable label */\n",
       "#sk-container-id-2 label.sk-toggleable__label {\n",
       "  cursor: pointer;\n",
       "  display: flex;\n",
       "  width: 100%;\n",
       "  margin-bottom: 0;\n",
       "  padding: 0.5em;\n",
       "  box-sizing: border-box;\n",
       "  text-align: center;\n",
       "  align-items: start;\n",
       "  justify-content: space-between;\n",
       "  gap: 0.5em;\n",
       "}\n",
       "\n",
       "#sk-container-id-2 label.sk-toggleable__label .caption {\n",
       "  font-size: 0.6rem;\n",
       "  font-weight: lighter;\n",
       "  color: var(--sklearn-color-text-muted);\n",
       "}\n",
       "\n",
       "#sk-container-id-2 label.sk-toggleable__label-arrow:before {\n",
       "  /* Arrow on the left of the label */\n",
       "  content: \"▸\";\n",
       "  float: left;\n",
       "  margin-right: 0.25em;\n",
       "  color: var(--sklearn-color-icon);\n",
       "}\n",
       "\n",
       "#sk-container-id-2 label.sk-toggleable__label-arrow:hover:before {\n",
       "  color: var(--sklearn-color-text);\n",
       "}\n",
       "\n",
       "/* Toggleable content - dropdown */\n",
       "\n",
       "#sk-container-id-2 div.sk-toggleable__content {\n",
       "  max-height: 0;\n",
       "  max-width: 0;\n",
       "  overflow: hidden;\n",
       "  text-align: left;\n",
       "  /* unfitted */\n",
       "  background-color: var(--sklearn-color-unfitted-level-0);\n",
       "}\n",
       "\n",
       "#sk-container-id-2 div.sk-toggleable__content.fitted {\n",
       "  /* fitted */\n",
       "  background-color: var(--sklearn-color-fitted-level-0);\n",
       "}\n",
       "\n",
       "#sk-container-id-2 div.sk-toggleable__content pre {\n",
       "  margin: 0.2em;\n",
       "  border-radius: 0.25em;\n",
       "  color: var(--sklearn-color-text);\n",
       "  /* unfitted */\n",
       "  background-color: var(--sklearn-color-unfitted-level-0);\n",
       "}\n",
       "\n",
       "#sk-container-id-2 div.sk-toggleable__content.fitted pre {\n",
       "  /* unfitted */\n",
       "  background-color: var(--sklearn-color-fitted-level-0);\n",
       "}\n",
       "\n",
       "#sk-container-id-2 input.sk-toggleable__control:checked~div.sk-toggleable__content {\n",
       "  /* Expand drop-down */\n",
       "  max-height: 200px;\n",
       "  max-width: 100%;\n",
       "  overflow: auto;\n",
       "}\n",
       "\n",
       "#sk-container-id-2 input.sk-toggleable__control:checked~label.sk-toggleable__label-arrow:before {\n",
       "  content: \"▾\";\n",
       "}\n",
       "\n",
       "/* Pipeline/ColumnTransformer-specific style */\n",
       "\n",
       "#sk-container-id-2 div.sk-label input.sk-toggleable__control:checked~label.sk-toggleable__label {\n",
       "  color: var(--sklearn-color-text);\n",
       "  background-color: var(--sklearn-color-unfitted-level-2);\n",
       "}\n",
       "\n",
       "#sk-container-id-2 div.sk-label.fitted input.sk-toggleable__control:checked~label.sk-toggleable__label {\n",
       "  background-color: var(--sklearn-color-fitted-level-2);\n",
       "}\n",
       "\n",
       "/* Estimator-specific style */\n",
       "\n",
       "/* Colorize estimator box */\n",
       "#sk-container-id-2 div.sk-estimator input.sk-toggleable__control:checked~label.sk-toggleable__label {\n",
       "  /* unfitted */\n",
       "  background-color: var(--sklearn-color-unfitted-level-2);\n",
       "}\n",
       "\n",
       "#sk-container-id-2 div.sk-estimator.fitted input.sk-toggleable__control:checked~label.sk-toggleable__label {\n",
       "  /* fitted */\n",
       "  background-color: var(--sklearn-color-fitted-level-2);\n",
       "}\n",
       "\n",
       "#sk-container-id-2 div.sk-label label.sk-toggleable__label,\n",
       "#sk-container-id-2 div.sk-label label {\n",
       "  /* The background is the default theme color */\n",
       "  color: var(--sklearn-color-text-on-default-background);\n",
       "}\n",
       "\n",
       "/* On hover, darken the color of the background */\n",
       "#sk-container-id-2 div.sk-label:hover label.sk-toggleable__label {\n",
       "  color: var(--sklearn-color-text);\n",
       "  background-color: var(--sklearn-color-unfitted-level-2);\n",
       "}\n",
       "\n",
       "/* Label box, darken color on hover, fitted */\n",
       "#sk-container-id-2 div.sk-label.fitted:hover label.sk-toggleable__label.fitted {\n",
       "  color: var(--sklearn-color-text);\n",
       "  background-color: var(--sklearn-color-fitted-level-2);\n",
       "}\n",
       "\n",
       "/* Estimator label */\n",
       "\n",
       "#sk-container-id-2 div.sk-label label {\n",
       "  font-family: monospace;\n",
       "  font-weight: bold;\n",
       "  display: inline-block;\n",
       "  line-height: 1.2em;\n",
       "}\n",
       "\n",
       "#sk-container-id-2 div.sk-label-container {\n",
       "  text-align: center;\n",
       "}\n",
       "\n",
       "/* Estimator-specific */\n",
       "#sk-container-id-2 div.sk-estimator {\n",
       "  font-family: monospace;\n",
       "  border: 1px dotted var(--sklearn-color-border-box);\n",
       "  border-radius: 0.25em;\n",
       "  box-sizing: border-box;\n",
       "  margin-bottom: 0.5em;\n",
       "  /* unfitted */\n",
       "  background-color: var(--sklearn-color-unfitted-level-0);\n",
       "}\n",
       "\n",
       "#sk-container-id-2 div.sk-estimator.fitted {\n",
       "  /* fitted */\n",
       "  background-color: var(--sklearn-color-fitted-level-0);\n",
       "}\n",
       "\n",
       "/* on hover */\n",
       "#sk-container-id-2 div.sk-estimator:hover {\n",
       "  /* unfitted */\n",
       "  background-color: var(--sklearn-color-unfitted-level-2);\n",
       "}\n",
       "\n",
       "#sk-container-id-2 div.sk-estimator.fitted:hover {\n",
       "  /* fitted */\n",
       "  background-color: var(--sklearn-color-fitted-level-2);\n",
       "}\n",
       "\n",
       "/* Specification for estimator info (e.g. \"i\" and \"?\") */\n",
       "\n",
       "/* Common style for \"i\" and \"?\" */\n",
       "\n",
       ".sk-estimator-doc-link,\n",
       "a:link.sk-estimator-doc-link,\n",
       "a:visited.sk-estimator-doc-link {\n",
       "  float: right;\n",
       "  font-size: smaller;\n",
       "  line-height: 1em;\n",
       "  font-family: monospace;\n",
       "  background-color: var(--sklearn-color-background);\n",
       "  border-radius: 1em;\n",
       "  height: 1em;\n",
       "  width: 1em;\n",
       "  text-decoration: none !important;\n",
       "  margin-left: 0.5em;\n",
       "  text-align: center;\n",
       "  /* unfitted */\n",
       "  border: var(--sklearn-color-unfitted-level-1) 1pt solid;\n",
       "  color: var(--sklearn-color-unfitted-level-1);\n",
       "}\n",
       "\n",
       ".sk-estimator-doc-link.fitted,\n",
       "a:link.sk-estimator-doc-link.fitted,\n",
       "a:visited.sk-estimator-doc-link.fitted {\n",
       "  /* fitted */\n",
       "  border: var(--sklearn-color-fitted-level-1) 1pt solid;\n",
       "  color: var(--sklearn-color-fitted-level-1);\n",
       "}\n",
       "\n",
       "/* On hover */\n",
       "div.sk-estimator:hover .sk-estimator-doc-link:hover,\n",
       ".sk-estimator-doc-link:hover,\n",
       "div.sk-label-container:hover .sk-estimator-doc-link:hover,\n",
       ".sk-estimator-doc-link:hover {\n",
       "  /* unfitted */\n",
       "  background-color: var(--sklearn-color-unfitted-level-3);\n",
       "  color: var(--sklearn-color-background);\n",
       "  text-decoration: none;\n",
       "}\n",
       "\n",
       "div.sk-estimator.fitted:hover .sk-estimator-doc-link.fitted:hover,\n",
       ".sk-estimator-doc-link.fitted:hover,\n",
       "div.sk-label-container:hover .sk-estimator-doc-link.fitted:hover,\n",
       ".sk-estimator-doc-link.fitted:hover {\n",
       "  /* fitted */\n",
       "  background-color: var(--sklearn-color-fitted-level-3);\n",
       "  color: var(--sklearn-color-background);\n",
       "  text-decoration: none;\n",
       "}\n",
       "\n",
       "/* Span, style for the box shown on hovering the info icon */\n",
       ".sk-estimator-doc-link span {\n",
       "  display: none;\n",
       "  z-index: 9999;\n",
       "  position: relative;\n",
       "  font-weight: normal;\n",
       "  right: .2ex;\n",
       "  padding: .5ex;\n",
       "  margin: .5ex;\n",
       "  width: min-content;\n",
       "  min-width: 20ex;\n",
       "  max-width: 50ex;\n",
       "  color: var(--sklearn-color-text);\n",
       "  box-shadow: 2pt 2pt 4pt #999;\n",
       "  /* unfitted */\n",
       "  background: var(--sklearn-color-unfitted-level-0);\n",
       "  border: .5pt solid var(--sklearn-color-unfitted-level-3);\n",
       "}\n",
       "\n",
       ".sk-estimator-doc-link.fitted span {\n",
       "  /* fitted */\n",
       "  background: var(--sklearn-color-fitted-level-0);\n",
       "  border: var(--sklearn-color-fitted-level-3);\n",
       "}\n",
       "\n",
       ".sk-estimator-doc-link:hover span {\n",
       "  display: block;\n",
       "}\n",
       "\n",
       "/* \"?\"-specific style due to the `<a>` HTML tag */\n",
       "\n",
       "#sk-container-id-2 a.estimator_doc_link {\n",
       "  float: right;\n",
       "  font-size: 1rem;\n",
       "  line-height: 1em;\n",
       "  font-family: monospace;\n",
       "  background-color: var(--sklearn-color-background);\n",
       "  border-radius: 1rem;\n",
       "  height: 1rem;\n",
       "  width: 1rem;\n",
       "  text-decoration: none;\n",
       "  /* unfitted */\n",
       "  color: var(--sklearn-color-unfitted-level-1);\n",
       "  border: var(--sklearn-color-unfitted-level-1) 1pt solid;\n",
       "}\n",
       "\n",
       "#sk-container-id-2 a.estimator_doc_link.fitted {\n",
       "  /* fitted */\n",
       "  border: var(--sklearn-color-fitted-level-1) 1pt solid;\n",
       "  color: var(--sklearn-color-fitted-level-1);\n",
       "}\n",
       "\n",
       "/* On hover */\n",
       "#sk-container-id-2 a.estimator_doc_link:hover {\n",
       "  /* unfitted */\n",
       "  background-color: var(--sklearn-color-unfitted-level-3);\n",
       "  color: var(--sklearn-color-background);\n",
       "  text-decoration: none;\n",
       "}\n",
       "\n",
       "#sk-container-id-2 a.estimator_doc_link.fitted:hover {\n",
       "  /* fitted */\n",
       "  background-color: var(--sklearn-color-fitted-level-3);\n",
       "}\n",
       "</style><div id=\"sk-container-id-2\" class=\"sk-top-container\"><div class=\"sk-text-repr-fallback\"><pre>KNeighborsClassifier(algorithm=&#x27;ball_tree&#x27;, n_neighbors=1)</pre><b>In a Jupyter environment, please rerun this cell to show the HTML representation or trust the notebook. <br />On GitHub, the HTML representation is unable to render, please try loading this page with nbviewer.org.</b></div><div class=\"sk-container\" hidden><div class=\"sk-item\"><div class=\"sk-estimator fitted sk-toggleable\"><input class=\"sk-toggleable__control sk-hidden--visually\" id=\"sk-estimator-id-2\" type=\"checkbox\" checked><label for=\"sk-estimator-id-2\" class=\"sk-toggleable__label fitted sk-toggleable__label-arrow\"><div><div>KNeighborsClassifier</div></div><div><a class=\"sk-estimator-doc-link fitted\" rel=\"noreferrer\" target=\"_blank\" href=\"https://scikit-learn.org/1.6/modules/generated/sklearn.neighbors.KNeighborsClassifier.html\">?<span>Documentation for KNeighborsClassifier</span></a><span class=\"sk-estimator-doc-link fitted\">i<span>Fitted</span></span></div></label><div class=\"sk-toggleable__content fitted\"><pre>KNeighborsClassifier(algorithm=&#x27;ball_tree&#x27;, n_neighbors=1)</pre></div> </div></div></div></div>"
      ],
      "text/plain": [
       "KNeighborsClassifier(algorithm='ball_tree', n_neighbors=1)"
      ]
     },
     "execution_count": 40,
     "metadata": {},
     "output_type": "execute_result"
    }
   ],
   "source": [
    "knn.fit(X_train_scaled, y_train_knn)"
   ]
  },
  {
   "cell_type": "code",
   "execution_count": 41,
   "id": "16ef5cc6-2004-4d37-95d6-43fb8c03e6da",
   "metadata": {},
   "outputs": [],
   "source": [
    "y_pred_knn = knn.predict(X_test_scaled)\n"
   ]
  },
  {
   "cell_type": "markdown",
   "id": "89a44a51",
   "metadata": {
    "jp-MarkdownHeadingCollapsed": true
   },
   "source": [
    "#### Model Tuning"
   ]
  },
  {
   "cell_type": "code",
   "execution_count": 44,
   "id": "48a767ac-4d1c-44ba-8c0a-df940ba6c328",
   "metadata": {},
   "outputs": [
    {
     "name": "stdout",
     "output_type": "stream",
     "text": [
      "Accuracy for K=1: 0.8442\n",
      "Accuracy for K=3: 0.8786\n",
      "Accuracy for K=5: 0.9085\n",
      "Accuracy for K=7: 0.9203\n",
      "Accuracy for K=9: 0.9339\n",
      "Accuracy for K=15: 0.9529\n",
      "Accuracy for K=20: 0.9466\n"
     ]
    }
   ],
   "source": [
    "#For the n neigbors = 3\n",
    "from sklearn.metrics import accuracy_score\n",
    "\n",
    "k_values = [1, 3, 5, 7, 9, 15, 20]\n",
    "\n",
    "# List to store accuracy scores of each KNN model for comparison\n",
    "scores = []\n",
    "\n",
    "# Loop over each value of k \n",
    "for k in k_values:\n",
    "    knn = KNeighborsClassifier(n_neighbors=k)\n",
    "    knn.fit(X_train_sampled, y_train_sampled)\n",
    "    y_pred_knn = knn.predict(X_test_scaled)\n",
    "    accuracy = accuracy_score(y_test_knn, y_pred_knn)\n",
    "    scores.append(accuracy)\n",
    "    print(f\"Accuracy for K={k}: {accuracy:.4f}\")"
   ]
  },
  {
   "cell_type": "code",
   "execution_count": 48,
   "id": "721867b1-3c92-4ec6-ad07-5257b03a6cdf",
   "metadata": {},
   "outputs": [
    {
     "name": "stdout",
     "output_type": "stream",
     "text": [
      "    k  accuracy  precision    recall  f1_score  log_loss\n",
      "0   1  0.844203   0.845237  0.844203  0.844261  5.615497\n",
      "1   3  0.878623   0.882490  0.878623  0.878746  1.593428\n",
      "2   5  0.908514   0.910900  0.908514  0.908508  1.035057\n",
      "3   7  0.920290   0.921978  0.920290  0.920367  0.749809\n",
      "4   9  0.933877   0.934763  0.933877  0.933903  0.518189\n",
      "5  15  0.952899   0.953347  0.952899  0.952861  0.408178\n",
      "6  20  0.946558   0.947645  0.946558  0.946602  0.435270\n",
      "\n",
      "Best performing K based on Log Loss: 15\n"
     ]
    }
   ],
   "source": [
    "from sklearn.metrics import accuracy_score, precision_score, recall_score, f1_score, log_loss\n",
    "# List of k values to evaluate\n",
    "k_values = [1, 3, 5, 7, 9, 15, 20]\n",
    "\n",
    "# List to store metrics for comparison\n",
    "metrics = {\n",
    "    'k': [],\n",
    "    'accuracy': [],\n",
    "    'precision': [],\n",
    "    'recall': [],\n",
    "    'f1_score': [],\n",
    "    'log_loss': []  # Add log_loss to the metrics\n",
    "}\n",
    "\n",
    "# Loop over each value of k\n",
    "for k in k_values:\n",
    "    # Initialize and train the KNN model\n",
    "    knn = KNeighborsClassifier(n_neighbors=k)\n",
    "    knn.fit(X_train_sampled, y_train_sampled)  # Use X_train_sampled instead of X_train_knn\n",
    "    \n",
    "    # Get predictions\n",
    "    y_pred_knn = knn.predict(X_test_scaled)  # Use X_test_sampled instead of X_test_knn\n",
    "    y_pred_proba_knn = knn.predict_proba(X_test_scaled)  # Predicted probabilities for log loss\n",
    "    \n",
    "    # Compute metrics\n",
    "    accuracy = accuracy_score(y_test_knn, y_pred_knn)\n",
    "    precision = precision_score(y_test_knn, y_pred_knn, average='weighted', zero_division=0)\n",
    "    recall = recall_score(y_test_knn, y_pred_knn, average='weighted', zero_division=0)\n",
    "    f1 = f1_score(y_test_knn, y_pred_knn, average='weighted')\n",
    "    loss = log_loss(y_test_knn, y_pred_proba_knn)  # Log loss calculation\n",
    "    \n",
    "    # Store the metrics\n",
    "    metrics['k'].append(k)\n",
    "    metrics['accuracy'].append(accuracy)\n",
    "    metrics['precision'].append(precision)\n",
    "    metrics['recall'].append(recall)\n",
    "    metrics['f1_score'].append(f1)\n",
    "    metrics['log_loss'].append(loss)  # Add log_loss to the list\n",
    "\n",
    "# Convert metrics to DataFrame for tabular display\n",
    "metrics_df = pd.DataFrame(metrics)\n",
    "\n",
    "# Print the table\n",
    "print(metrics_df)\n",
    "\n",
    "# Find the best k based on accuracy and log loss\n",
    "best_k_accuracy = metrics['k'][np.argmax(metrics['accuracy'])]  # Use np.argmax for accuracy\n",
    "best_k_loss = metrics['k'][np.argmin(metrics['log_loss'])]  # Use np.argmin for log loss\n",
    "\n",
    "print(f\"\\nBest performing K based on Accuracy: {best_k_accuracy}\")\n",
    "print(f\"Best performing K based on Log Loss: {best_k_loss}\")\n"
   ]
  },
  {
   "cell_type": "code",
   "execution_count": 50,
   "id": "57fe7f4f-5d23-40be-a1b8-5ecea8d2deae",
   "metadata": {},
   "outputs": [
    {
     "name": "stdout",
     "output_type": "stream",
     "text": [
      "Fitting 5 folds for each of 16 candidates, totalling 80 fits\n",
      "Best Hyperparameters: {'metric': 'manhattan', 'n_neighbors': 5, 'weights': 'distance'}\n"
     ]
    }
   ],
   "source": [
    "# Step 2: Define Hyperparameter Ranges for Tuning\n",
    "param_grid = {\n",
    "    'n_neighbors': [ 5,7, 9,15],          # Number of neighbors\n",
    "    'weights': ['uniform', 'distance'],      # Weighting scheme\n",
    "    'metric': ['euclidean', 'manhattan']     # Distance metrics\n",
    "}\n",
    "\n",
    "# Step 3: Initialize and Perform Grid Search\n",
    "knn = KNeighborsClassifier()\n",
    "grid_search = GridSearchCV(knn, param_grid, cv=5, scoring='accuracy', verbose=1)\n",
    "grid_search.fit(X_train_scaled, y_train_knn)\n",
    "\n",
    "# Step 4: Display the Best Hyperparameters\n",
    "print(\"Best Hyperparameters:\", grid_search.best_params_)"
   ]
  },
  {
   "cell_type": "code",
   "execution_count": 51,
   "id": "7c403b37-9cb6-470c-b39a-4d18852e7998",
   "metadata": {},
   "outputs": [
    {
     "name": "stdout",
     "output_type": "stream",
     "text": [
      "\n",
      "Classification Report (Test Dataset):\n",
      "               precision    recall  f1-score   support\n",
      "\n",
      "     business       1.00      0.72      0.84       245\n",
      "    education       0.52      1.00      0.68       274\n",
      "entertainment       1.00      0.71      0.83       178\n",
      "       sports       1.00      0.74      0.85       137\n",
      "   technology       1.00      0.62      0.76       270\n",
      "\n",
      "     accuracy                           0.77      1104\n",
      "    macro avg       0.90      0.76      0.79      1104\n",
      " weighted avg       0.88      0.77      0.78      1104\n",
      "\n"
     ]
    }
   ],
   "source": [
    "best_knn = grid_search.best_estimator_\n",
    "y_test_pred = best_knn.predict(X_test_scaled)\n",
    "\n",
    "print(\"\\nClassification Report (Test Dataset):\")\n",
    "print(classification_report(y_test_knn, y_test_pred))"
   ]
  },
  {
   "cell_type": "markdown",
   "id": "27af72c0",
   "metadata": {
    "jp-MarkdownHeadingCollapsed": true
   },
   "source": [
    "#### MLFLow"
   ]
  },
  {
   "cell_type": "code",
   "execution_count": 52,
   "id": "a83604b0",
   "metadata": {},
   "outputs": [],
   "source": [
    "import mlflow "
   ]
  },
  {
   "cell_type": "code",
   "execution_count": 59,
   "id": "25cc5756",
   "metadata": {},
   "outputs": [
    {
     "name": "stdout",
     "output_type": "stream",
     "text": [
      "Fitting 5 folds for each of 16 candidates, totalling 80 fits\n",
      "Best Hyperparameters: {'metric': 'manhattan', 'n_neighbors': 5, 'weights': 'distance'}\n"
     ]
    },
    {
     "name": "stderr",
     "output_type": "stream",
     "text": [
      "2025/01/31 06:46:48 WARNING mlflow.models.model: Model logged without a signature and input example. Please set `input_example` parameter when logging the model to auto infer the model signature.\n"
     ]
    },
    {
     "name": "stdout",
     "output_type": "stream",
     "text": [
      "Logged best KNN model with accuracy: 0.7663 to MLflow\n",
      "Best KNN model saved locally as 'best_knn_model.pkl'\n"
     ]
    }
   ],
   "source": [
    "import mlflow\n",
    "import mlflow.sklearn\n",
    "import joblib\n",
    "from sklearn.model_selection import GridSearchCV\n",
    "from sklearn.neighbors import KNeighborsClassifier\n",
    "from sklearn.metrics import accuracy_score\n",
    "\n",
    "# Step 1: Define Hyperparameter Ranges for Tuning\n",
    "param_grid = {\n",
    "    'n_neighbors': [5, 7, 9, 15],  # Number of neighbors\n",
    "    'weights': ['uniform', 'distance'],  # Weighting scheme\n",
    "    'metric': ['euclidean', 'manhattan']  # Distance metrics\n",
    "}\n",
    "\n",
    "# Step 2: Initialize KNN and GridSearchCV\n",
    "knn = KNeighborsClassifier()\n",
    "grid_search = GridSearchCV(knn, param_grid, cv=5, scoring='accuracy', verbose=1)\n",
    "\n",
    "# Step 3: Fit the GridSearchCV on the training data\n",
    "grid_search.fit(X_train_scaled, y_train_knn)\n",
    "\n",
    "# Step 4: Display the Best Hyperparameters\n",
    "print(\"Best Hyperparameters:\", grid_search.best_params_)\n",
    "\n",
    "# Step 5: Log the best model to MLflow\n",
    "with mlflow.start_run():\n",
    "    mlflow.sklearn.log_model(grid_search.best_estimator_, \"knn_model\")\n",
    "\n",
    "    # Log the accuracy of the model\n",
    "    accuracy = accuracy_score(y_test_knn, grid_search.best_estimator_.predict(X_test_scaled))\n",
    "    mlflow.log_metric(\"accuracy\", accuracy)\n",
    "\n",
    "    print(f\"Logged best KNN model with accuracy: {accuracy:.4f} to MLflow\")\n",
    "\n",
    "# Step 6: Save the best model locally using joblib\n",
    "joblib.dump(grid_search.best_estimator_, \"best_knn_model.pkl\")\n",
    "print(\"Best KNN model saved locally as 'best_knn_model.pkl'\")\n"
   ]
  },
  {
   "cell_type": "markdown",
   "id": "2d712328-f7b8-442c-abcb-3345bf983075",
   "metadata": {
    "jp-MarkdownHeadingCollapsed": true
   },
   "source": [
    "<h2>Naive Bayes</h2>"
   ]
  },
  {
   "cell_type": "code",
   "execution_count": null,
   "id": "c68a23be-2fbe-433a-9122-e8e339ee8343",
   "metadata": {},
   "outputs": [],
   "source": []
  }
 ],
 "metadata": {
  "kernelspec": {
   "display_name": "Python 3 (ipykernel)",
   "language": "python",
   "name": "python3"
  },
  "language_info": {
   "codemirror_mode": {
    "name": "ipython",
    "version": 3
   },
   "file_extension": ".py",
   "mimetype": "text/x-python",
   "name": "python",
   "nbconvert_exporter": "python",
   "pygments_lexer": "ipython3",
   "version": "3.12.4"
  }
 },
 "nbformat": 4,
 "nbformat_minor": 5
}
