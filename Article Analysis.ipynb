{
 "cells": [
  {
   "cell_type": "markdown",
   "id": "a489c04e",
   "metadata": {},
   "source": [
    "# Project 3 Team 5\n",
    "## Date: 17 January 2025 "
   ]
  },
  {
   "cell_type": "markdown",
   "id": "2b884053",
   "metadata": {},
   "source": [
    "1. Project Overview\n",
    "2. Data Load and preprocessing\n",
    "3. Model training\n",
    "4. Evaluation\n",
    "5. Deployment"
   ]
  },
  {
   "cell_type": "markdown",
   "id": "11ef8bae",
   "metadata": {},
   "source": [
    "### 1. Project Overview"
   ]
  },
  {
   "cell_type": "code",
   "execution_count": null,
   "id": "2028adbd",
   "metadata": {},
   "outputs": [],
   "source": []
  },
  {
   "cell_type": "markdown",
   "id": "3861b463",
   "metadata": {},
   "source": [
    "### 2. Data load and preprocessing \n",
    "#### Packages"
   ]
  },
  {
   "cell_type": "code",
<<<<<<< HEAD
   "execution_count": 6,
   "id": "715f37af-36bd-4a41-923d-b6ddeee9b933",
   "metadata": {},
   "outputs": [
    {
     "name": "stdout",
     "output_type": "stream",
     "text": [
      "Requirement already satisfied: scikeras in c:\\users\\fransisca nong\\anaconda3\\lib\\site-packages (0.13.0)\n",
      "Requirement already satisfied: keras>=3.2.0 in c:\\users\\fransisca nong\\anaconda3\\lib\\site-packages (from scikeras) (3.8.0)\n",
      "Requirement already satisfied: scikit-learn>=1.4.2 in c:\\users\\fransisca nong\\anaconda3\\lib\\site-packages (from scikeras) (1.4.2)\n",
      "Requirement already satisfied: absl-py in c:\\users\\fransisca nong\\anaconda3\\lib\\site-packages (from keras>=3.2.0->scikeras) (2.1.0)\n",
      "Requirement already satisfied: numpy in c:\\users\\fransisca nong\\anaconda3\\lib\\site-packages (from keras>=3.2.0->scikeras) (1.26.4)\n",
      "Requirement already satisfied: rich in c:\\users\\fransisca nong\\anaconda3\\lib\\site-packages (from keras>=3.2.0->scikeras) (13.3.5)\n",
      "Requirement already satisfied: namex in c:\\users\\fransisca nong\\anaconda3\\lib\\site-packages (from keras>=3.2.0->scikeras) (0.0.8)\n",
      "Requirement already satisfied: h5py in c:\\users\\fransisca nong\\anaconda3\\lib\\site-packages (from keras>=3.2.0->scikeras) (3.11.0)\n",
      "Requirement already satisfied: optree in c:\\users\\fransisca nong\\anaconda3\\lib\\site-packages (from keras>=3.2.0->scikeras) (0.14.0)\n",
      "Requirement already satisfied: ml-dtypes in c:\\users\\fransisca nong\\anaconda3\\lib\\site-packages (from keras>=3.2.0->scikeras) (0.4.1)\n",
      "Requirement already satisfied: packaging in c:\\users\\fransisca nong\\anaconda3\\lib\\site-packages (from keras>=3.2.0->scikeras) (23.2)\n",
      "Requirement already satisfied: scipy>=1.6.0 in c:\\users\\fransisca nong\\anaconda3\\lib\\site-packages (from scikit-learn>=1.4.2->scikeras) (1.13.1)\n",
      "Requirement already satisfied: joblib>=1.2.0 in c:\\users\\fransisca nong\\anaconda3\\lib\\site-packages (from scikit-learn>=1.4.2->scikeras) (1.4.2)\n",
      "Requirement already satisfied: threadpoolctl>=2.0.0 in c:\\users\\fransisca nong\\anaconda3\\lib\\site-packages (from scikit-learn>=1.4.2->scikeras) (2.2.0)\n",
      "Requirement already satisfied: typing-extensions>=4.5.0 in c:\\users\\fransisca nong\\anaconda3\\lib\\site-packages (from optree->keras>=3.2.0->scikeras) (4.11.0)\n",
      "Requirement already satisfied: markdown-it-py<3.0.0,>=2.2.0 in c:\\users\\fransisca nong\\anaconda3\\lib\\site-packages (from rich->keras>=3.2.0->scikeras) (2.2.0)\n",
      "Requirement already satisfied: pygments<3.0.0,>=2.13.0 in c:\\users\\fransisca nong\\appdata\\roaming\\python\\python312\\site-packages (from rich->keras>=3.2.0->scikeras) (2.18.0)\n",
      "Requirement already satisfied: mdurl~=0.1 in c:\\users\\fransisca nong\\anaconda3\\lib\\site-packages (from markdown-it-py<3.0.0,>=2.2.0->rich->keras>=3.2.0->scikeras) (0.1.0)\n",
      "Note: you may need to restart the kernel to use updated packages.\n"
     ]
    }
   ],
=======
   "execution_count": null,
   "id": "715f37af-36bd-4a41-923d-b6ddeee9b933",
   "metadata": {},
   "outputs": [],
>>>>>>> 02c3df6c4b93da80670b6c9516c8815ce2b27d18
   "source": [
    "pip install scikeras"
   ]
  },
  {
   "cell_type": "code",
<<<<<<< HEAD
   "execution_count": 7,
   "id": "caeb217b-98ec-49d5-8e03-4f0c810629f2",
   "metadata": {},
   "outputs": [
    {
     "name": "stdout",
     "output_type": "stream",
     "text": [
      "Requirement already satisfied: tensorflow in c:\\users\\fransisca nong\\anaconda3\\lib\\site-packages (2.18.0)\n",
      "Requirement already satisfied: tensorflow-intel==2.18.0 in c:\\users\\fransisca nong\\anaconda3\\lib\\site-packages (from tensorflow) (2.18.0)\n",
      "Requirement already satisfied: absl-py>=1.0.0 in c:\\users\\fransisca nong\\anaconda3\\lib\\site-packages (from tensorflow-intel==2.18.0->tensorflow) (2.1.0)\n",
      "Requirement already satisfied: astunparse>=1.6.0 in c:\\users\\fransisca nong\\anaconda3\\lib\\site-packages (from tensorflow-intel==2.18.0->tensorflow) (1.6.3)\n",
      "Requirement already satisfied: flatbuffers>=24.3.25 in c:\\users\\fransisca nong\\anaconda3\\lib\\site-packages (from tensorflow-intel==2.18.0->tensorflow) (25.1.24)\n",
      "Requirement already satisfied: gast!=0.5.0,!=0.5.1,!=0.5.2,>=0.2.1 in c:\\users\\fransisca nong\\anaconda3\\lib\\site-packages (from tensorflow-intel==2.18.0->tensorflow) (0.6.0)\n",
      "Requirement already satisfied: google-pasta>=0.1.1 in c:\\users\\fransisca nong\\anaconda3\\lib\\site-packages (from tensorflow-intel==2.18.0->tensorflow) (0.2.0)\n",
      "Requirement already satisfied: libclang>=13.0.0 in c:\\users\\fransisca nong\\anaconda3\\lib\\site-packages (from tensorflow-intel==2.18.0->tensorflow) (18.1.1)\n",
      "Requirement already satisfied: opt-einsum>=2.3.2 in c:\\users\\fransisca nong\\anaconda3\\lib\\site-packages (from tensorflow-intel==2.18.0->tensorflow) (3.4.0)\n",
      "Requirement already satisfied: packaging in c:\\users\\fransisca nong\\anaconda3\\lib\\site-packages (from tensorflow-intel==2.18.0->tensorflow) (23.2)\n",
      "Requirement already satisfied: protobuf!=4.21.0,!=4.21.1,!=4.21.2,!=4.21.3,!=4.21.4,!=4.21.5,<6.0.0dev,>=3.20.3 in c:\\users\\fransisca nong\\anaconda3\\lib\\site-packages (from tensorflow-intel==2.18.0->tensorflow) (3.20.3)\n",
      "Requirement already satisfied: requests<3,>=2.21.0 in c:\\users\\fransisca nong\\anaconda3\\lib\\site-packages (from tensorflow-intel==2.18.0->tensorflow) (2.32.2)\n",
      "Requirement already satisfied: setuptools in c:\\users\\fransisca nong\\anaconda3\\lib\\site-packages (from tensorflow-intel==2.18.0->tensorflow) (69.5.1)\n",
      "Requirement already satisfied: six>=1.12.0 in c:\\users\\fransisca nong\\appdata\\roaming\\python\\python312\\site-packages (from tensorflow-intel==2.18.0->tensorflow) (1.16.0)\n",
      "Requirement already satisfied: termcolor>=1.1.0 in c:\\users\\fransisca nong\\anaconda3\\lib\\site-packages (from tensorflow-intel==2.18.0->tensorflow) (2.5.0)\n",
      "Requirement already satisfied: typing-extensions>=3.6.6 in c:\\users\\fransisca nong\\anaconda3\\lib\\site-packages (from tensorflow-intel==2.18.0->tensorflow) (4.11.0)\n",
      "Requirement already satisfied: wrapt>=1.11.0 in c:\\users\\fransisca nong\\anaconda3\\lib\\site-packages (from tensorflow-intel==2.18.0->tensorflow) (1.14.1)\n",
      "Requirement already satisfied: grpcio<2.0,>=1.24.3 in c:\\users\\fransisca nong\\anaconda3\\lib\\site-packages (from tensorflow-intel==2.18.0->tensorflow) (1.70.0)\n",
      "Requirement already satisfied: tensorboard<2.19,>=2.18 in c:\\users\\fransisca nong\\anaconda3\\lib\\site-packages (from tensorflow-intel==2.18.0->tensorflow) (2.18.0)\n",
      "Requirement already satisfied: keras>=3.5.0 in c:\\users\\fransisca nong\\anaconda3\\lib\\site-packages (from tensorflow-intel==2.18.0->tensorflow) (3.8.0)\n",
      "Requirement already satisfied: numpy<2.1.0,>=1.26.0 in c:\\users\\fransisca nong\\anaconda3\\lib\\site-packages (from tensorflow-intel==2.18.0->tensorflow) (1.26.4)\n",
      "Requirement already satisfied: h5py>=3.11.0 in c:\\users\\fransisca nong\\anaconda3\\lib\\site-packages (from tensorflow-intel==2.18.0->tensorflow) (3.11.0)\n",
      "Requirement already satisfied: ml-dtypes<0.5.0,>=0.4.0 in c:\\users\\fransisca nong\\anaconda3\\lib\\site-packages (from tensorflow-intel==2.18.0->tensorflow) (0.4.1)\n",
      "Requirement already satisfied: wheel<1.0,>=0.23.0 in c:\\users\\fransisca nong\\anaconda3\\lib\\site-packages (from astunparse>=1.6.0->tensorflow-intel==2.18.0->tensorflow) (0.43.0)\n",
      "Requirement already satisfied: rich in c:\\users\\fransisca nong\\anaconda3\\lib\\site-packages (from keras>=3.5.0->tensorflow-intel==2.18.0->tensorflow) (13.3.5)\n",
      "Requirement already satisfied: namex in c:\\users\\fransisca nong\\anaconda3\\lib\\site-packages (from keras>=3.5.0->tensorflow-intel==2.18.0->tensorflow) (0.0.8)\n",
      "Requirement already satisfied: optree in c:\\users\\fransisca nong\\anaconda3\\lib\\site-packages (from keras>=3.5.0->tensorflow-intel==2.18.0->tensorflow) (0.14.0)\n",
      "Requirement already satisfied: charset-normalizer<4,>=2 in c:\\users\\fransisca nong\\anaconda3\\lib\\site-packages (from requests<3,>=2.21.0->tensorflow-intel==2.18.0->tensorflow) (2.0.4)\n",
      "Requirement already satisfied: idna<4,>=2.5 in c:\\users\\fransisca nong\\anaconda3\\lib\\site-packages (from requests<3,>=2.21.0->tensorflow-intel==2.18.0->tensorflow) (3.7)\n",
      "Requirement already satisfied: urllib3<3,>=1.21.1 in c:\\users\\fransisca nong\\anaconda3\\lib\\site-packages (from requests<3,>=2.21.0->tensorflow-intel==2.18.0->tensorflow) (2.2.2)\n",
      "Requirement already satisfied: certifi>=2017.4.17 in c:\\users\\fransisca nong\\anaconda3\\lib\\site-packages (from requests<3,>=2.21.0->tensorflow-intel==2.18.0->tensorflow) (2024.7.4)\n",
      "Requirement already satisfied: markdown>=2.6.8 in c:\\users\\fransisca nong\\anaconda3\\lib\\site-packages (from tensorboard<2.19,>=2.18->tensorflow-intel==2.18.0->tensorflow) (3.4.1)\n",
      "Requirement already satisfied: tensorboard-data-server<0.8.0,>=0.7.0 in c:\\users\\fransisca nong\\anaconda3\\lib\\site-packages (from tensorboard<2.19,>=2.18->tensorflow-intel==2.18.0->tensorflow) (0.7.2)\n",
      "Requirement already satisfied: werkzeug>=1.0.1 in c:\\users\\fransisca nong\\anaconda3\\lib\\site-packages (from tensorboard<2.19,>=2.18->tensorflow-intel==2.18.0->tensorflow) (3.0.3)\n",
      "Requirement already satisfied: MarkupSafe>=2.1.1 in c:\\users\\fransisca nong\\anaconda3\\lib\\site-packages (from werkzeug>=1.0.1->tensorboard<2.19,>=2.18->tensorflow-intel==2.18.0->tensorflow) (2.1.3)\n",
      "Requirement already satisfied: markdown-it-py<3.0.0,>=2.2.0 in c:\\users\\fransisca nong\\anaconda3\\lib\\site-packages (from rich->keras>=3.5.0->tensorflow-intel==2.18.0->tensorflow) (2.2.0)\n",
      "Requirement already satisfied: pygments<3.0.0,>=2.13.0 in c:\\users\\fransisca nong\\appdata\\roaming\\python\\python312\\site-packages (from rich->keras>=3.5.0->tensorflow-intel==2.18.0->tensorflow) (2.18.0)\n",
      "Requirement already satisfied: mdurl~=0.1 in c:\\users\\fransisca nong\\anaconda3\\lib\\site-packages (from markdown-it-py<3.0.0,>=2.2.0->rich->keras>=3.5.0->tensorflow-intel==2.18.0->tensorflow) (0.1.0)\n",
      "Note: you may need to restart the kernel to use updated packages.\n"
     ]
    }
   ],
=======
   "execution_count": null,
   "id": "caeb217b-98ec-49d5-8e03-4f0c810629f2",
   "metadata": {},
   "outputs": [],
>>>>>>> 02c3df6c4b93da80670b6c9516c8815ce2b27d18
   "source": [
    "pip install tensorflow"
   ]
  },
  {
   "cell_type": "code",
<<<<<<< HEAD
   "execution_count": 8,
   "id": "bf659304",
   "metadata": {},
   "outputs": [
    {
     "name": "stdout",
     "output_type": "stream",
     "text": [
      "Requirement already satisfied: imbalanced-learn in c:\\users\\fransisca nong\\anaconda3\\lib\\site-packages (0.13.0)Note: you may need to restart the kernel to use updated packages.\n",
      "\n",
      "Requirement already satisfied: numpy<3,>=1.24.3 in c:\\users\\fransisca nong\\anaconda3\\lib\\site-packages (from imbalanced-learn) (1.26.4)\n",
      "Requirement already satisfied: scipy<2,>=1.10.1 in c:\\users\\fransisca nong\\anaconda3\\lib\\site-packages (from imbalanced-learn) (1.13.1)\n",
      "Requirement already satisfied: scikit-learn<2,>=1.3.2 in c:\\users\\fransisca nong\\anaconda3\\lib\\site-packages (from imbalanced-learn) (1.4.2)\n",
      "Requirement already satisfied: sklearn-compat<1,>=0.1 in c:\\users\\fransisca nong\\anaconda3\\lib\\site-packages (from imbalanced-learn) (0.1.3)\n",
      "Requirement already satisfied: joblib<2,>=1.1.1 in c:\\users\\fransisca nong\\anaconda3\\lib\\site-packages (from imbalanced-learn) (1.4.2)\n",
      "Requirement already satisfied: threadpoolctl<4,>=2.0.0 in c:\\users\\fransisca nong\\anaconda3\\lib\\site-packages (from imbalanced-learn) (2.2.0)\n"
     ]
    }
   ],
=======
   "execution_count": null,
   "id": "bf659304",
   "metadata": {},
   "outputs": [],
>>>>>>> 02c3df6c4b93da80670b6c9516c8815ce2b27d18
   "source": [
    "pip install --upgrade imbalanced-learn"
   ]
  },
  {
   "cell_type": "code",
<<<<<<< HEAD
   "execution_count": 9,
=======
   "execution_count": 1,
>>>>>>> 02c3df6c4b93da80670b6c9516c8815ce2b27d18
   "id": "64014f33",
   "metadata": {},
   "outputs": [
    {
     "name": "stderr",
     "output_type": "stream",
     "text": [
<<<<<<< HEAD
      "[nltk_data] Downloading package stopwords to C:\\Users\\Fransisca\n",
      "[nltk_data]     Nong\\AppData\\Roaming\\nltk_data...\n",
      "[nltk_data]   Package stopwords is already up-to-date!\n",
      "[nltk_data] Downloading package punkt to C:\\Users\\Fransisca\n",
      "[nltk_data]     Nong\\AppData\\Roaming\\nltk_data...\n",
      "[nltk_data]   Package punkt is already up-to-date!\n",
      "[nltk_data] Downloading package punkt_tab to C:\\Users\\Fransisca\n",
      "[nltk_data]     Nong\\AppData\\Roaming\\nltk_data...\n",
      "[nltk_data]   Package punkt_tab is already up-to-date!\n",
      "[nltk_data] Downloading package wordnet to C:\\Users\\Fransisca\n",
      "[nltk_data]     Nong\\AppData\\Roaming\\nltk_data...\n",
=======
      "[nltk_data] Downloading package stopwords to\n",
      "[nltk_data]     C:\\Users\\lebog\\AppData\\Roaming\\nltk_data...\n",
      "[nltk_data]   Package stopwords is already up-to-date!\n",
      "[nltk_data] Downloading package punkt to\n",
      "[nltk_data]     C:\\Users\\lebog\\AppData\\Roaming\\nltk_data...\n",
      "[nltk_data]   Package punkt is already up-to-date!\n",
      "[nltk_data] Downloading package punkt_tab to\n",
      "[nltk_data]     C:\\Users\\lebog\\AppData\\Roaming\\nltk_data...\n",
      "[nltk_data]   Package punkt_tab is already up-to-date!\n",
      "[nltk_data] Downloading package wordnet to\n",
<<<<<<< Updated upstream
      "[nltk_data]     C:\\Users\\ThandoCalana\\AppData\\Roaming\\nltk_data...\n",
>>>>>>> 02c3df6c4b93da80670b6c9516c8815ce2b27d18
=======
      "[nltk_data]     C:\\Users\\lebog\\AppData\\Roaming\\nltk_data...\n",
>>>>>>> Stashed changes
      "[nltk_data]   Package wordnet is already up-to-date!\n"
     ]
    }
   ],
   "source": [
    "import pandas as pd\n",
    "import numpy as np\n",
    "import matplotlib.pyplot as plt\n",
    "import imblearn \n",
    "import seaborn as sns\n",
    "\n",
    "import sklearn\n",
    "from sklearn.model_selection import train_test_split\n",
    "from sklearn.feature_extraction.text import TfidfVectorizer\n",
    "from sklearn.utils import resample\n",
    "from sklearn.naive_bayes import MultinomialNB\n",
    "from sklearn.pipeline import Pipeline\n",
    "from sklearn.model_selection import GridSearchCV\n",
    "from sklearn.model_selection import RandomizedSearchCV\n",
    "from sklearn.metrics import classification_report, accuracy_score\n",
    "from sklearn.preprocessing import LabelEncoder, StandardScaler\n",
    "from sklearn.ensemble import RandomForestClassifier\n",
    "from sklearn.neighbors import KNeighborsClassifier\n",
    "\n",
    "import mlflow\n",
    "import mlflow.sklearn\n",
    "import scikeras\n",
    "from scikeras.wrappers import KerasClassifier\n",
    "import pickle\n",
    "from mlflow.models import infer_signature\n",
    "\n",
    "from urllib.parse import urlparse\n",
    "import json\n",
    "from scipy.sparse import csr_matrix\n",
    "\n",
    "from imblearn.over_sampling import RandomOverSampler\n",
    "from imblearn.under_sampling import RandomUnderSampler\n",
    "from scipy.sparse import csr_matrix, vstack\n",
    "\n",
    "import tensorflow as tf\n",
    "from tensorflow.keras.layers import Dense, Flatten, Dropout, Input, Masking\n",
    "from tensorflow.keras.models import Sequential\n",
    "from tensorflow.keras.utils import to_categorical, normalize\n",
    "\n",
    "import nltk\n",
    "import re\n",
    "from nltk.tokenize import word_tokenize, TreebankWordTokenizer\n",
    "from nltk.stem import WordNetLemmatizer\n",
    "from nltk.corpus import stopwords\n",
    "\n",
    "nltk.download('stopwords')\n",
    "nltk.download('punkt')\n",
    "nltk.download('punkt_tab')\n",
    "nltk.download('wordnet')\n",
    "\n",
    "import warnings\n",
    "warnings.filterwarnings(\"ignore\")"
   ]
  },
  {
   "cell_type": "markdown",
   "id": "d8eedb7d",
   "metadata": {},
   "source": [
    "#### Datasets"
   ]
  },
  {
   "cell_type": "code",
<<<<<<< HEAD
   "execution_count": 11,
=======
   "execution_count": 2,
>>>>>>> 02c3df6c4b93da80670b6c9516c8815ce2b27d18
   "id": "241ffc87",
   "metadata": {
    "scrolled": true
   },
   "outputs": [],
   "source": [
    "#importing the dataset:the train dataset \n",
    "train_df = pd.read_csv(\"Data/processed/train.csv\")\n",
    "# train_df.head(5)"
   ]
  },
  {
   "cell_type": "code",
<<<<<<< HEAD
   "execution_count": 12,
=======
   "execution_count": 3,
>>>>>>> 02c3df6c4b93da80670b6c9516c8815ce2b27d18
   "id": "c90f6f9f",
   "metadata": {},
   "outputs": [],
   "source": [
    "#importing the dataset: the test \n",
    "test_df = pd.read_csv(\"Data/processed/test.csv\")\n",
    "# test_df.head(5)"
   ]
  },
  {
   "cell_type": "markdown",
   "id": "ac9a5e2b",
   "metadata": {
    "jp-MarkdownHeadingCollapsed": true
   },
   "source": [
    "#### 2.1 Data inspection"
   ]
  },
  {
   "cell_type": "code",
<<<<<<< HEAD
   "execution_count": 14,
=======
   "execution_count": 4,
>>>>>>> 02c3df6c4b93da80670b6c9516c8815ce2b27d18
   "id": "e821ad56",
   "metadata": {},
   "outputs": [
    {
     "name": "stdout",
     "output_type": "stream",
     "text": [
      "The dimensions for the Train set are: (5520, 5)\n",
      "The dimensions for the test set are: (2000, 5)\n"
     ]
    }
   ],
   "source": [
    "print(\"The dimensions for the Train set are:\", train_df.shape)\n",
    "print(\"The dimensions for the test set are:\",test_df.shape)"
   ]
  },
  {
   "cell_type": "code",
<<<<<<< HEAD
   "execution_count": 15,
=======
   "execution_count": 5,
>>>>>>> 02c3df6c4b93da80670b6c9516c8815ce2b27d18
   "id": "19bc4336",
   "metadata": {},
   "outputs": [
    {
     "name": "stdout",
     "output_type": "stream",
     "text": [
      "<class 'pandas.core.frame.DataFrame'>\n",
      "RangeIndex: 5520 entries, 0 to 5519\n",
      "Data columns (total 5 columns):\n",
      " #   Column       Non-Null Count  Dtype \n",
      "---  ------       --------------  ----- \n",
      " 0   headlines    5520 non-null   object\n",
      " 1   description  5520 non-null   object\n",
      " 2   content      5520 non-null   object\n",
      " 3   url          5520 non-null   object\n",
      " 4   category     5520 non-null   object\n",
      "dtypes: object(5)\n",
      "memory usage: 215.8+ KB\n",
      "<class 'pandas.core.frame.DataFrame'>\n",
      "RangeIndex: 2000 entries, 0 to 1999\n",
      "Data columns (total 5 columns):\n",
      " #   Column       Non-Null Count  Dtype \n",
      "---  ------       --------------  ----- \n",
      " 0   headlines    2000 non-null   object\n",
      " 1   description  2000 non-null   object\n",
      " 2   content      2000 non-null   object\n",
      " 3   url          2000 non-null   object\n",
      " 4   category     2000 non-null   object\n",
      "dtypes: object(5)\n",
      "memory usage: 78.3+ KB\n"
     ]
    },
    {
     "data": {
      "text/plain": [
       "None"
      ]
     },
     "metadata": {},
     "output_type": "display_data"
    },
    {
     "data": {
      "text/plain": [
       "None"
      ]
     },
     "metadata": {},
     "output_type": "display_data"
    }
   ],
   "source": [
    "display(train_df.info(), test_df.info())"
   ]
  },
  {
   "cell_type": "markdown",
   "id": "dbf51bf5",
   "metadata": {},
   "source": [
    "There are no missing values in both the train and test dataset"
   ]
  },
  {
   "cell_type": "code",
<<<<<<< HEAD
   "execution_count": 17,
=======
   "execution_count": 6,
>>>>>>> 02c3df6c4b93da80670b6c9516c8815ce2b27d18
   "id": "4bfc2cf8",
   "metadata": {},
   "outputs": [
    {
     "name": "stdout",
     "output_type": "stream",
     "text": [
      "             Train Null Count  Test Null Count\n",
      "headlines                   0                0\n",
      "description                 0                0\n",
      "content                     0                0\n",
      "url                         0                0\n",
      "category                    0                0\n"
     ]
    }
   ],
   "source": [
    "null_counts = pd.DataFrame({\n",
    "    \"Train Null Count\": train_df.isnull().sum(),\n",
    "    \"Test Null Count\": test_df.isnull().sum()\n",
    "})\n",
    "print(null_counts)"
   ]
  },
  {
   "cell_type": "code",
<<<<<<< HEAD
   "execution_count": 18,
=======
   "execution_count": 7,
>>>>>>> 02c3df6c4b93da80670b6c9516c8815ce2b27d18
   "id": "a820a583",
   "metadata": {},
   "outputs": [
    {
     "data": {
      "text/plain": [
       "0"
      ]
     },
     "metadata": {},
     "output_type": "display_data"
    },
    {
     "data": {
      "text/plain": [
       "0"
      ]
     },
     "metadata": {},
     "output_type": "display_data"
    }
   ],
   "source": [
    "display(train_df.duplicated().sum(), test_df.duplicated().sum())"
   ]
  },
  {
   "cell_type": "markdown",
   "id": "20c4c820",
   "metadata": {},
   "source": [
    "Number of duplicate for train set rows: 0\n",
    "\n",
    "Number of duplicate for test set rows: 0"
   ]
  },
  {
   "cell_type": "code",
<<<<<<< HEAD
   "execution_count": 20,
=======
   "execution_count": 8,
>>>>>>> 02c3df6c4b93da80670b6c9516c8815ce2b27d18
   "id": "dcf638e5",
   "metadata": {},
   "outputs": [
    {
     "name": "stdout",
     "output_type": "stream",
     "text": [
      "                 Metric  Train Dataset  Test Dataset\n",
      "0        Number of Rows           5520          2000\n",
      "1     Number of Columns              5             5\n",
      "2  Total Missing Values              0             0\n",
      "3        Duplicate Rows              0             0\n",
      "4     Numerical Columns              0             0\n",
      "5   Categorical Columns              5             5\n"
     ]
    }
   ],
   "source": [
    "def inspect_dataset(df):\n",
    "    return {\n",
    "        \"Number of Rows\": df.shape[0],\n",
    "        \"Number of Columns\": df.shape[1],\n",
    "        \"Total Missing Values\": df.isnull().sum().sum(),\n",
    "        \"Duplicate Rows\": df.duplicated().sum(),\n",
    "        \"Numerical Columns\": df.select_dtypes(include='number').shape[1],\n",
    "        \"Categorical Columns\": df.select_dtypes(include='object').shape[1],\n",
    "    }\n",
    "\n",
    "train_inspection = inspect_dataset(train_df)\n",
    "test_inspection = inspect_dataset(test_df)\n",
    "\n",
    "inspection_results = pd.DataFrame({\n",
    "    \"Metric\": train_inspection.keys(),\n",
    "    \"Train Dataset\": train_inspection.values(),\n",
    "    \"Test Dataset\": test_inspection.values(),\n",
    "})\n",
    "\n",
    "print(inspection_results)"
   ]
  },
  {
   "cell_type": "code",
<<<<<<< HEAD
   "execution_count": 21,
=======
   "execution_count": 9,
>>>>>>> 02c3df6c4b93da80670b6c9516c8815ce2b27d18
   "id": "2cb9fec8",
   "metadata": {},
   "outputs": [
    {
     "data": {
      "text/html": [
       "<div>\n",
       "<style scoped>\n",
       "    .dataframe tbody tr th:only-of-type {\n",
       "        vertical-align: middle;\n",
       "    }\n",
       "\n",
       "    .dataframe tbody tr th {\n",
       "        vertical-align: top;\n",
       "    }\n",
       "\n",
       "    .dataframe thead th {\n",
       "        text-align: right;\n",
       "    }\n",
       "</style>\n",
       "<table border=\"1\" class=\"dataframe\">\n",
       "  <thead>\n",
       "    <tr style=\"text-align: right;\">\n",
       "      <th></th>\n",
       "      <th>count</th>\n",
       "      <th>unique</th>\n",
       "      <th>top</th>\n",
       "      <th>freq</th>\n",
       "    </tr>\n",
       "  </thead>\n",
       "  <tbody>\n",
       "    <tr>\n",
       "      <th>headlines</th>\n",
       "      <td>5520</td>\n",
       "      <td>5512</td>\n",
       "      <td>International Education Day 2024: Know why it ...</td>\n",
       "      <td>2</td>\n",
       "    </tr>\n",
       "    <tr>\n",
       "      <th>description</th>\n",
       "      <td>5520</td>\n",
       "      <td>5508</td>\n",
       "      <td>The university has removed the requirements of...</td>\n",
       "      <td>2</td>\n",
       "    </tr>\n",
       "    <tr>\n",
       "      <th>content</th>\n",
       "      <td>5520</td>\n",
       "      <td>5513</td>\n",
       "      <td>Grand Slam fever grips tennis fans all over th...</td>\n",
       "      <td>5</td>\n",
       "    </tr>\n",
       "    <tr>\n",
       "      <th>url</th>\n",
       "      <td>5520</td>\n",
       "      <td>5514</td>\n",
       "      <td>https://indianexpress.com/article/education/kc...</td>\n",
       "      <td>2</td>\n",
       "    </tr>\n",
       "    <tr>\n",
       "      <th>category</th>\n",
       "      <td>5520</td>\n",
       "      <td>5</td>\n",
       "      <td>education</td>\n",
       "      <td>1520</td>\n",
       "    </tr>\n",
       "  </tbody>\n",
       "</table>\n",
       "</div>"
      ],
      "text/plain": [
       "            count unique                                                top  \\\n",
       "headlines    5520   5512  International Education Day 2024: Know why it ...   \n",
       "description  5520   5508  The university has removed the requirements of...   \n",
       "content      5520   5513  Grand Slam fever grips tennis fans all over th...   \n",
       "url          5520   5514  https://indianexpress.com/article/education/kc...   \n",
       "category     5520      5                                          education   \n",
       "\n",
       "             freq  \n",
       "headlines       2  \n",
       "description     2  \n",
       "content         5  \n",
       "url             2  \n",
       "category     1520  "
      ]
     },
<<<<<<< HEAD
     "execution_count": 21,
=======
     "execution_count": 9,
>>>>>>> 02c3df6c4b93da80670b6c9516c8815ce2b27d18
     "metadata": {},
     "output_type": "execute_result"
    }
   ],
   "source": [
    "train_df.describe().T\n",
    "#check if there are duplicates "
   ]
  },
  {
   "cell_type": "code",
<<<<<<< HEAD
   "execution_count": 22,
=======
   "execution_count": 10,
>>>>>>> 02c3df6c4b93da80670b6c9516c8815ce2b27d18
   "id": "fca3a19b-a61a-4dd2-abdf-bd45324bcf1c",
   "metadata": {},
   "outputs": [
    {
     "name": "stdout",
     "output_type": "stream",
     "text": [
      "                                           headlines  \\\n",
      "0  NLC India wins contract for power supply to Ra...   \n",
      "1  SBI Clerk prelims exams dates announced; admit...   \n",
      "2  Golden Globes: Michelle Yeoh, Will Ferrell, An...   \n",
      "3  OnePlus Nord 3 at Rs 27,999 as part of new pri...   \n",
      "4  Adani family’s partners used ‘opaque’ funds to...   \n",
      "\n",
      "                                         description  \\\n",
      "0  State-owned firm NLC India Ltd (NLCIL) on Mond...   \n",
      "1  SBI Clerk Prelims Exam: The SBI Clerk prelims ...   \n",
      "2  Barbie is the top nominee this year, followed ...   \n",
      "3  New deal makes the OnePlus Nord 3 an easy purc...   \n",
      "4  Citing review of files from multiple tax haven...   \n",
      "\n",
      "                                             content  \\\n",
      "0  State-owned firm NLC India Ltd (NLCIL) on Mond...   \n",
      "1  SBI Clerk Prelims Exam: The State Bank of Indi...   \n",
      "2  Michelle Yeoh, Will Ferrell, Angela Bassett an...   \n",
      "3  In our review of the OnePlus Nord 3 5G, we pra...   \n",
      "4  Millions of dollars were invested in some publ...   \n",
      "\n",
      "                                                 url       category  \n",
      "0  https://indianexpress.com/article/business/com...       business  \n",
      "1  https://indianexpress.com/article/education/sb...      education  \n",
      "2  https://indianexpress.com/article/entertainmen...  entertainment  \n",
      "3  https://indianexpress.com/article/technology/t...     technology  \n",
      "4  https://indianexpress.com/article/business/ada...       business  \n"
     ]
    }
   ],
   "source": [
    "categories = train_df.category.unique()\n",
    "print(test_df.head())"
   ]
  },
  {
   "cell_type": "markdown",
   "id": "4da7e3d5",
   "metadata": {},
   "source": [
    "<h3>2.2. Data Preprocessing</h3>"
   ]
  },
  {
   "cell_type": "markdown",
   "id": "566757dc-4f10-4094-9ca1-03c50dace47f",
   "metadata": {},
   "source": [
    "<h4> Preprocessing function that tokenizes, removes stop words and lematizes the text</h4>"
   ]
  },
  {
   "cell_type": "code",
<<<<<<< Updated upstream
<<<<<<< HEAD
   "execution_count": 25,
=======
   "execution_count": 7,
>>>>>>> 02c3df6c4b93da80670b6c9516c8815ce2b27d18
=======
   "execution_count": 11,
>>>>>>> Stashed changes
   "id": "25e4619f-aa90-4e3d-a190-c3a4371c4c81",
   "metadata": {},
   "outputs": [],
   "source": [
    "def preprocess_text(text):\n",
    "    # Tokenize the text\n",
    "    tokens = nltk.word_tokenize(text)\n",
    "\n",
    "    # Remove stopwords\n",
    "    stop_words = set(stopwords.words('english'))\n",
    "    no_stop_words = [word for word in tokens if word.lower() not in stop_words]\n",
    "\n",
    "    # Remove punctuation\n",
    "    no_puntuation = [word for word in no_stop_words if word.isalnum()]\n",
    "\n",
    "    # Lemmatize tokens\n",
    "    lemmatizer = WordNetLemmatizer()\n",
    "    lemmatized_tokens = [lemmatizer.lemmatize(word) for word in no_puntuation]\n",
    "\n",
    "    # Join tokens back into a single string\n",
    "    return ' '.join(lemmatized_tokens)\n"
   ]
  },
  {
   "cell_type": "code",
<<<<<<< Updated upstream
<<<<<<< HEAD
   "execution_count": 26,
=======
   "execution_count": 9,
>>>>>>> 02c3df6c4b93da80670b6c9516c8815ce2b27d18
=======
   "execution_count": 12,
>>>>>>> Stashed changes
   "id": "987db596-a08d-41f2-b7c9-874ca17c3af3",
   "metadata": {},
   "outputs": [],
   "source": [
    "columns_to_process = ['headlines', 'description', 'content'] #We will deal with URLs later\n",
    "\n",
    "for col in columns_to_process:\n",
    "    train_df[col] = train_df[col].apply(preprocess_text)\n",
    "    test_df[col] = test_df[col].apply(preprocess_text)"
   ]
  },
  {
   "cell_type": "code",
<<<<<<< Updated upstream
<<<<<<< HEAD
   "execution_count": 27,
   "id": "467190dc-5a08-4773-809d-1f568d27107a",
   "metadata": {},
   "outputs": [
    {
     "name": "stdout",
     "output_type": "stream",
     "text": [
      "                                           headlines  \\\n",
      "0           RBI revise definition person KYC purpose   \n",
      "1  NDTV Q2 net profit fall Rs crore impacted lowe...   \n",
      "2  Akasa Air well capitalised grow much faster CE...   \n",
      "3  India current account deficit decline sharply ...   \n",
      "4      States borrowing cost soar highest far fiscal   \n",
      "\n",
      "                                         description  \\\n",
      "0  central bank also asked chairperson chief exec...   \n",
      "1  NDTV consolidated revenue operation Rs crore R...   \n",
      "2  initial share sale open public subscription Ju...   \n",
      "3  current account deficit CAD per cent GDP USD b...   \n",
      "4  price shot reflecting overall higher risk aver...   \n",
      "\n",
      "                                             content  \\\n",
      "0  Reserve Bank India RBI changed definition Pers...   \n",
      "1  Broadcaster New Delhi Television Ltd Monday re...   \n",
      "2  Homegrown server maker Netweb Technologies Ind...   \n",
      "3  India current account deficit declined sharply...   \n",
      "4  States forced pay nose weekly auction debt Tue...   \n",
      "\n",
      "                                                 url  category  \n",
      "0  https://indianexpress.com/article/business/ban...  business  \n",
      "1  https://indianexpress.com/article/business/com...  business  \n",
      "2  https://indianexpress.com/article/business/mar...  business  \n",
      "3  https://indianexpress.com/article/business/eco...  business  \n",
      "4  https://indianexpress.com/article/business/eco...  business  \n",
      "                                           headlines  \\\n",
      "0  NLC India win contract power supply Rajasthan ...   \n",
      "1  SBI Clerk prelim exam date announced admit car...   \n",
      "2  Golden Globes Michelle Yeoh Ferrell Angela Bas...   \n",
      "3               OnePlus Nord 3 Rs part new price cut   \n",
      "4  Adani family partner used opaque fund invest s...   \n",
      "\n",
      "                                         description  \\\n",
      "0  firm NLC India Ltd NLCIL Monday said emerged s...   \n",
      "1  SBI Clerk Prelims Exam SBI Clerk prelim exam 2...   \n",
      "2  Barbie top nominee year followed closely Oppen...   \n",
      "3  New deal make OnePlus Nord 3 easy purchase Rs 30k   \n",
      "4  Citing review file multiple tax haven internal...   \n",
      "\n",
      "                                             content  \\\n",
      "0  firm NLC India Ltd NLCIL Monday said emerged s...   \n",
      "1  SBI Clerk Prelims Exam State Bank Indian SBI a...   \n",
      "2  Michelle Yeoh Ferrell Angela Bassett Amanda Se...   \n",
      "3  review OnePlus Nord 3 5G praised balanced comb...   \n",
      "4  Millions dollar invested publicly traded stock...   \n",
      "\n",
      "                                                 url       category  \n",
      "0  https://indianexpress.com/article/business/com...       business  \n",
      "1  https://indianexpress.com/article/education/sb...      education  \n",
      "2  https://indianexpress.com/article/entertainmen...  entertainment  \n",
      "3  https://indianexpress.com/article/technology/t...     technology  \n",
      "4  https://indianexpress.com/article/business/ada...       business  \n"
     ]
    }
   ],
=======
   "execution_count": null,
   "id": "467190dc-5a08-4773-809d-1f568d27107a",
   "metadata": {},
   "outputs": [],
>>>>>>> 02c3df6c4b93da80670b6c9516c8815ce2b27d18
=======
   "execution_count": 13,
   "id": "467190dc-5a08-4773-809d-1f568d27107a",
   "metadata": {},
   "outputs": [
    {
     "name": "stdout",
     "output_type": "stream",
     "text": [
      "                                           headlines  \\\n",
      "0           RBI revise definition person KYC purpose   \n",
      "1  NDTV Q2 net profit fall Rs crore impacted lowe...   \n",
      "2  Akasa Air well capitalised grow much faster CE...   \n",
      "3  India current account deficit decline sharply ...   \n",
      "4      States borrowing cost soar highest far fiscal   \n",
      "\n",
      "                                         description  \\\n",
      "0  central bank also asked chairperson chief exec...   \n",
      "1  NDTV consolidated revenue operation Rs crore R...   \n",
      "2  initial share sale open public subscription Ju...   \n",
      "3  current account deficit CAD per cent GDP USD b...   \n",
      "4  price shot reflecting overall higher risk aver...   \n",
      "\n",
      "                                             content  \\\n",
      "0  Reserve Bank India RBI changed definition Pers...   \n",
      "1  Broadcaster New Delhi Television Ltd Monday re...   \n",
      "2  Homegrown server maker Netweb Technologies Ind...   \n",
      "3  India current account deficit declined sharply...   \n",
      "4  States forced pay nose weekly auction debt Tue...   \n",
      "\n",
      "                                                 url  category  \n",
      "0  https://indianexpress.com/article/business/ban...  business  \n",
      "1  https://indianexpress.com/article/business/com...  business  \n",
      "2  https://indianexpress.com/article/business/mar...  business  \n",
      "3  https://indianexpress.com/article/business/eco...  business  \n",
      "4  https://indianexpress.com/article/business/eco...  business  \n",
      "                                           headlines  \\\n",
      "0  NLC India win contract power supply Rajasthan ...   \n",
      "1  SBI Clerk prelim exam date announced admit car...   \n",
      "2  Golden Globes Michelle Yeoh Ferrell Angela Bas...   \n",
      "3               OnePlus Nord 3 Rs part new price cut   \n",
      "4  Adani family partner used opaque fund invest s...   \n",
      "\n",
      "                                         description  \\\n",
      "0  firm NLC India Ltd NLCIL Monday said emerged s...   \n",
      "1  SBI Clerk Prelims Exam SBI Clerk prelim exam 2...   \n",
      "2  Barbie top nominee year followed closely Oppen...   \n",
      "3  New deal make OnePlus Nord 3 easy purchase Rs 30k   \n",
      "4  Citing review file multiple tax haven internal...   \n",
      "\n",
      "                                             content  \\\n",
      "0  firm NLC India Ltd NLCIL Monday said emerged s...   \n",
      "1  SBI Clerk Prelims Exam State Bank Indian SBI a...   \n",
      "2  Michelle Yeoh Ferrell Angela Bassett Amanda Se...   \n",
      "3  review OnePlus Nord 3 5G praised balanced comb...   \n",
      "4  Millions dollar invested publicly traded stock...   \n",
      "\n",
      "                                                 url       category  \n",
      "0  https://indianexpress.com/article/business/com...       business  \n",
      "1  https://indianexpress.com/article/education/sb...      education  \n",
      "2  https://indianexpress.com/article/entertainmen...  entertainment  \n",
      "3  https://indianexpress.com/article/technology/t...     technology  \n",
      "4  https://indianexpress.com/article/business/ada...       business  \n"
     ]
    }
   ],
>>>>>>> Stashed changes
   "source": [
    "print(train_df.head())\n",
    "print(test_df.head())"
   ]
  },
  {
   "cell_type": "markdown",
   "id": "57a4780e-e273-4939-a559-5cf43f398309",
   "metadata": {},
   "source": [
    "<h4> Handling URLs</h4>"
   ]
  },
  {
   "cell_type": "markdown",
   "id": "b74abde7-4878-4a77-b9e6-86d818d6c961",
   "metadata": {},
   "source": [
    "Some URLs tend to have the category of the article in them while some don't the following code will be used to extract that URL in the case that the category is there, and leave \"uncategorised\" if there is no category "
   ]
  },
  {
   "cell_type": "code",
<<<<<<< Updated upstream
<<<<<<< HEAD
   "execution_count": 30,
=======
   "execution_count": 11,
>>>>>>> 02c3df6c4b93da80670b6c9516c8815ce2b27d18
=======
   "execution_count": 14,
>>>>>>> Stashed changes
   "id": "f4b46f7a-02e1-4686-92fb-2b3a82c28eee",
   "metadata": {},
   "outputs": [],
   "source": [
    "# Getting the categories from our data frames\n",
    "train_categories_df = pd.DataFrame({'category': train_df.category.unique()})\n",
    "\n",
    "# Converting the category column to a set for faster lookup\n",
    "predefined_categories = set(train_categories_df['category'].str.lower())\n"
   ]
  },
  {
   "cell_type": "code",
<<<<<<< Updated upstream
<<<<<<< HEAD
   "execution_count": 31,
=======
   "execution_count": 13,
>>>>>>> 02c3df6c4b93da80670b6c9516c8815ce2b27d18
=======
   "execution_count": 15,
>>>>>>> Stashed changes
   "id": "e53ce5c4-abba-413e-8d59-50b9584fa570",
   "metadata": {},
   "outputs": [],
   "source": [
    "def extract_category(url):\n",
    "    \n",
    "    # Parsing the URL to extract the path\n",
    "    parsed_url = urlparse(url)\n",
    "    path = parsed_url.path.strip('/')\n",
    "\n",
    "    # Splitting the path into segments\n",
    "    path_segments = path.split('/')\n",
    "\n",
    "    # Defining a default category in case there is no clear category found within the URL\n",
    "    default_category = 'uncategorized'\n",
    "\n",
    "    # Checking if the URL contains the word 'article' and extracting the category \n",
    "    if 'article' in path_segments:\n",
    "        \n",
    "        # Finding the position of 'article' and assume the next segment is the category\n",
    "        #This is for the URLs that have the category directly after the '/article/' in the URL\n",
    "        index = path_segments.index('article')\n",
    "        if index + 1 < len(path_segments):\n",
    "            category = path_segments[index + 1].lower()\n",
    "            if category in predefined_categories:\n",
    "                return category\n",
    "    \n",
    "    # Check for cases where the category is not directly after 'article', or if 'article' is missing\n",
    "    for segment in path_segments:\n",
    "        # Match alphanumeric categories and check against predefined categories\n",
    "        category = segment.lower()\n",
    "        if re.match(r'^[a-zA-Z\\-]+$', category) and category in predefined_categories:\n",
    "            return category\n",
    "\n",
    "    # Return the default category if no category is found\n",
    "    return default_category"
   ]
  },
  {
   "cell_type": "code",
<<<<<<< Updated upstream
<<<<<<< HEAD
   "execution_count": 32,
=======
   "execution_count": 15,
>>>>>>> 02c3df6c4b93da80670b6c9516c8815ce2b27d18
=======
   "execution_count": 16,
>>>>>>> Stashed changes
   "id": "d16645ee-8be9-40f6-8f90-f26e5b66db23",
   "metadata": {},
   "outputs": [
    {
     "data": {
      "text/html": [
       "<div>\n",
       "<style scoped>\n",
       "    .dataframe tbody tr th:only-of-type {\n",
       "        vertical-align: middle;\n",
       "    }\n",
       "\n",
       "    .dataframe tbody tr th {\n",
       "        vertical-align: top;\n",
       "    }\n",
       "\n",
       "    .dataframe thead th {\n",
       "        text-align: right;\n",
       "    }\n",
       "</style>\n",
       "<table border=\"1\" class=\"dataframe\">\n",
       "  <thead>\n",
       "    <tr style=\"text-align: right;\">\n",
       "      <th></th>\n",
       "      <th>headlines</th>\n",
       "      <th>description</th>\n",
       "      <th>content</th>\n",
       "      <th>category</th>\n",
       "    </tr>\n",
       "  </thead>\n",
       "  <tbody>\n",
       "    <tr>\n",
       "      <th>0</th>\n",
       "      <td>RBI revise definition person KYC purpose</td>\n",
       "      <td>central bank also asked chairperson chief exec...</td>\n",
       "      <td>Reserve Bank India RBI changed definition Pers...</td>\n",
       "      <td>business</td>\n",
       "    </tr>\n",
       "    <tr>\n",
       "      <th>1</th>\n",
       "      <td>NDTV Q2 net profit fall Rs crore impacted lowe...</td>\n",
       "      <td>NDTV consolidated revenue operation Rs crore R...</td>\n",
       "      <td>Broadcaster New Delhi Television Ltd Monday re...</td>\n",
       "      <td>business</td>\n",
       "    </tr>\n",
       "    <tr>\n",
       "      <th>2</th>\n",
       "      <td>Akasa Air well capitalised grow much faster CE...</td>\n",
       "      <td>initial share sale open public subscription Ju...</td>\n",
       "      <td>Homegrown server maker Netweb Technologies Ind...</td>\n",
       "      <td>business</td>\n",
       "    </tr>\n",
       "    <tr>\n",
       "      <th>3</th>\n",
       "      <td>India current account deficit decline sharply ...</td>\n",
       "      <td>current account deficit CAD per cent GDP USD b...</td>\n",
       "      <td>India current account deficit declined sharply...</td>\n",
       "      <td>business</td>\n",
       "    </tr>\n",
       "    <tr>\n",
       "      <th>4</th>\n",
       "      <td>States borrowing cost soar highest far fiscal</td>\n",
       "      <td>price shot reflecting overall higher risk aver...</td>\n",
       "      <td>States forced pay nose weekly auction debt Tue...</td>\n",
       "      <td>business</td>\n",
       "    </tr>\n",
       "  </tbody>\n",
       "</table>\n",
       "</div>"
      ],
      "text/plain": [
       "                                           headlines  \\\n",
       "0           RBI revise definition person KYC purpose   \n",
       "1  NDTV Q2 net profit fall Rs crore impacted lowe...   \n",
       "2  Akasa Air well capitalised grow much faster CE...   \n",
       "3  India current account deficit decline sharply ...   \n",
       "4      States borrowing cost soar highest far fiscal   \n",
       "\n",
       "                                         description  \\\n",
       "0  central bank also asked chairperson chief exec...   \n",
       "1  NDTV consolidated revenue operation Rs crore R...   \n",
       "2  initial share sale open public subscription Ju...   \n",
       "3  current account deficit CAD per cent GDP USD b...   \n",
       "4  price shot reflecting overall higher risk aver...   \n",
       "\n",
       "                                             content  category  \n",
       "0  Reserve Bank India RBI changed definition Pers...  business  \n",
       "1  Broadcaster New Delhi Television Ltd Monday re...  business  \n",
       "2  Homegrown server maker Netweb Technologies Ind...  business  \n",
       "3  India current account deficit declined sharply...  business  \n",
       "4  States forced pay nose weekly auction debt Tue...  business  "
      ]
     },
<<<<<<< Updated upstream
<<<<<<< HEAD
     "execution_count": 32,
=======
     "execution_count": 15,
>>>>>>> 02c3df6c4b93da80670b6c9516c8815ce2b27d18
=======
     "execution_count": 16,
>>>>>>> Stashed changes
     "metadata": {},
     "output_type": "execute_result"
    }
   ],
   "source": [
    "# train_df['url'] = train_df['url'].apply(extract_category)\n",
    "# test_df['url'] = test_df['url'].apply(extract_category)\n",
    "\n",
    "#The URL columns may not always reliably provide information on the category, so we drop the column\n",
    "train_df = train_df.drop(columns='url', axis=1)\n",
    "test_df = test_df.drop(columns='url', axis=1)\n",
    "\n",
    "train_df.head()"
   ]
  },
  {
   "cell_type": "markdown",
   "id": "2326a3aa-7158-44d5-bb16-b6bc7931b8d8",
   "metadata": {},
   "source": [
    "<h4> Vectorizing</h4>"
   ]
  },
  {
   "cell_type": "markdown",
   "id": "1f068c64-a69e-474f-bec2-6cff28a3b0cd",
   "metadata": {},
   "source": [
    "Before performing the train test split, we will use a TF-IDF vectorizer to draw out important words that may help in predicting the category of an article"
   ]
  },
  {
   "cell_type": "code",
<<<<<<< HEAD
   "execution_count": 35,
=======
   "execution_count": 17,
>>>>>>> 02c3df6c4b93da80670b6c9516c8815ce2b27d18
   "id": "8145a0e4-2a9b-4545-8dae-61cf8a8b9faf",
   "metadata": {},
   "outputs": [],
   "source": [
    "text_columns = ['headlines', 'description', 'content']"
   ]
  },
  {
   "cell_type": "code",
<<<<<<< Updated upstream
<<<<<<< HEAD
   "execution_count": 36,
=======
   "execution_count": 19,
>>>>>>> 02c3df6c4b93da80670b6c9516c8815ce2b27d18
=======
   "execution_count": 18,
>>>>>>> Stashed changes
   "id": "a42982e7-d4ac-41a1-b4d8-33717a38221c",
   "metadata": {},
   "outputs": [],
   "source": [
    "tfidf_vectorizers = {}\n",
    "vectorized_texts = []"
   ]
  },
  {
   "cell_type": "code",
<<<<<<< Updated upstream
<<<<<<< HEAD
   "execution_count": 37,
=======
   "execution_count": 21,
>>>>>>> 02c3df6c4b93da80670b6c9516c8815ce2b27d18
=======
   "execution_count": 19,
>>>>>>> Stashed changes
   "id": "aaeb26a8-0649-4c76-8d22-074506f33009",
   "metadata": {},
   "outputs": [
    {
     "name": "stdout",
     "output_type": "stream",
     "text": [
      "                     Feature  Importance\n",
      "29125      content_bollywood    0.248943\n",
      "45006           content_news    0.245916\n",
      "41689         content_latest    0.237148\n",
      "35910           content_film    0.234091\n",
      "38088       content_headline    0.232783\n",
      "30932          content_click    0.230237\n",
      "56114         content_update    0.225111\n",
      "34895  content_entertainment    0.215231\n",
      "26551          content_along    0.199764\n",
      "35430        content_express    0.190111\n",
      "54973            content_top    0.176112\n",
      "57578          content_world    0.174062\n",
      "25888          content_actor    0.165070\n",
      "27281         content_around    0.162269\n",
      "36970            content_get    0.160717\n",
      "53394        content_student    0.156442\n",
      "46723            content_per    0.143273\n",
      "36447           content_free    0.142973\n",
      "39330          content_india    0.135014\n",
      "35232           content_exam    0.130243\n"
     ]
    }
   ],
   "source": [
    "# Initialize TF-IDF Vectorizer for each text column\n",
    "from sklearn.feature_selection import mutual_info_classif\n",
    "vectorizers = {col: TfidfVectorizer() for col in text_columns}\n",
    "\n",
    "# Vectorize train and test data\n",
    "train_vectorized_dfs = []\n",
    "test_vectorized_dfs = []\n",
    "\n",
    "for col in text_columns:\n",
    "    # Fit the vectorizer on the training data\n",
    "    vectorizer = vectorizers[col]\n",
    "    train_vec_data = vectorizer.fit_transform(train_df[col])\n",
    "    test_vec_data = vectorizer.transform(test_df[col])\n",
    "    \n",
    "    # Create DataFrames for the vectorized data\n",
    "    feature_names = [f\"{col}_{feat}\" for feat in vectorizer.get_feature_names_out()]\n",
    "    train_vec_df = pd.DataFrame(train_vec_data.toarray(), columns=feature_names)\n",
    "    test_vec_df = pd.DataFrame(test_vec_data.toarray(), columns=feature_names)\n",
    "    \n",
    "    # Append vectorized DataFrames\n",
    "    train_vectorized_dfs.append(train_vec_df)\n",
    "    test_vectorized_dfs.append(test_vec_df)\n",
    "\n",
    "# Combine vectorized columns\n",
    "train_vectorized_df = pd.concat(train_vectorized_dfs, axis=1)\n",
    "test_vectorized_df = pd.concat(test_vectorized_dfs, axis=1)\n",
    "\n",
    "# Add the target variable\n",
    "train_vectorized_df['category'] = train_df['category']\n",
    "test_vectorized_df['category'] = test_df['category']\n",
    "\n",
    "# Compute mutual information scores for feature selection\n",
    "X_train = train_vectorized_df.drop(columns=['category'])\n",
    "y_train = train_vectorized_df['category']\n",
    "mi_scores = mutual_info_classif(X_train, y_train, discrete_features=False)\n",
    "\n",
    "# Create a DataFrame with feature importance scores\n",
    "feature_importance_df = pd.DataFrame({'Feature': X_train.columns, 'Importance': mi_scores})\n",
    "feature_importance_df = feature_importance_df.sort_values(by='Importance', ascending=False)\n",
    "\n",
    "# Display the top 20 important features\n",
    "print(feature_importance_df.head(20))"
   ]
  },
  {
   "cell_type": "markdown",
   "id": "81f011f9-6f79-46dc-9e8a-3c6a9b8c13e8",
   "metadata": {},
   "source": [
    "<h4>Train-test split</h4>"
   ]
  },
  {
   "cell_type": "markdown",
   "id": "72dbb259-5852-40cb-9bb4-905904aa7a12",
   "metadata": {},
   "source": [
    "Given that the data has already been separated into training and testing data, we will perform a train test split on the training data to create a validation set."
   ]
  },
  {
   "cell_type": "code",
<<<<<<< Updated upstream
<<<<<<< HEAD
   "execution_count": 40,
=======
   "execution_count": 22,
>>>>>>> 02c3df6c4b93da80670b6c9516c8815ce2b27d18
=======
   "execution_count": 49,
>>>>>>> Stashed changes
   "id": "6b444de7-4490-4036-a481-ed3df3e0c068",
   "metadata": {},
   "outputs": [],
   "source": [
    "# Perform a train-validation split (e.g., 80% train, 20% validation)\n",
    "X = feature_importance_df.drop(columns = ['Feature'])\n",
    "y = feature_importance_df['Feature']\n",
    "\n",
    "X_train, X_val, y_train, y_val  = train_test_split(X, y, test_size=0.2, random_state=42)\n",
    "\n",
    "X_test = test_vectorized_df.drop(columns='category', axis=1)\n",
    "y_test = test_vectorized_df['category']\n"
   ]
  },
  {
   "cell_type": "markdown",
   "id": "629b5ecb-68f5-44a8-9066-b4e1bd5892eb",
   "metadata": {},
   "source": [
    "<h4> Handling Class Imbalances</h4> "
   ]
  },
  {
   "cell_type": "markdown",
   "id": "96d240d5-994d-49da-a131-1f3cdb9b5a41",
   "metadata": {},
   "source": [
    "Now, we will check if the categories have an equal spread of observations. If there is a class imbalance this can lead to overfitting and models being able to predict the majority categories better, while poorly predicting the minority categories."
   ]
  },
  {
   "cell_type": "code",
<<<<<<< Updated upstream
<<<<<<< HEAD
   "execution_count": 43,
=======
   "execution_count": 21,
>>>>>>> 02c3df6c4b93da80670b6c9516c8815ce2b27d18
=======
   "execution_count": 50,
>>>>>>> Stashed changes
   "id": "95d3fdba-e97d-42a7-b8e6-084545072b0d",
   "metadata": {},
   "outputs": [
    {
     "data": {
      "text/plain": [
       "Feature\n",
       "content_practise        1\n",
       "content_illegally       1\n",
       "content_continue        1\n",
       "content_historically    1\n",
       "headlines_sarfraz       1\n",
       "                       ..\n",
       "content_align           1\n",
       "content_thapki          1\n",
       "content_definitive      1\n",
       "content_wrecked         1\n",
       "content_instrumental    1\n",
       "Name: count, Length: 46452, dtype: int64"
      ]
     },
<<<<<<< Updated upstream
<<<<<<< HEAD
     "execution_count": 43,
=======
     "execution_count": 21,
>>>>>>> 02c3df6c4b93da80670b6c9516c8815ce2b27d18
=======
     "execution_count": 50,
>>>>>>> Stashed changes
     "metadata": {},
     "output_type": "execute_result"
    }
   ],
   "source": [
    "#Getting an idea of the counts of each category\n",
    "y_train.value_counts()"
   ]
  },
  {
   "cell_type": "code",
<<<<<<< Updated upstream
<<<<<<< HEAD
   "execution_count": 69,
=======
   "execution_count": 22,
>>>>>>> 02c3df6c4b93da80670b6c9516c8815ce2b27d18
=======
   "execution_count": 51,
>>>>>>> Stashed changes
   "id": "a4ea59f3-9c75-48d8-9b8b-a73b10a3973e",
   "metadata": {},
   "outputs": [
    {
     "data": {
<<<<<<< Updated upstream
<<<<<<< HEAD
      "image/png": "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",
=======
      "image/png": "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",
>>>>>>> 02c3df6c4b93da80670b6c9516c8815ce2b27d18
=======
      "image/png": "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",
>>>>>>> Stashed changes
      "text/plain": [
       "<Figure size 640x480 with 1 Axes>"
      ]
     },
     "metadata": {},
     "output_type": "display_data"
    }
   ],
   "source": [
    "#Storing the count of each category, which will be used later for visualising them\n",
    "category_counts = y_train.value_counts()\n",
    "\n",
    "#Plotting a bar graph that shows the differing counts of each category\n",
    "category_counts.plot(kind='bar', color='skyblue')\n",
    "plt.title('Category Counts')\n",
    "plt.xlabel('Category')\n",
    "plt.ylabel('Count')\n",
    "plt.xticks(rotation=0)\n",
    "plt.show()\n"
   ]
  },
  {
   "cell_type": "markdown",
   "id": "ecf5f5ec-b150-41d2-af78-ed889c6b6e76",
   "metadata": {},
   "source": [
    "From this bar graph we can clearly see that there is a class imbalance within the training data. If not addressed, this could lead the model to being good at predicting the majority categories (education and technology) and not so much the minorities (sports and entertainment). To ensure that the model is equally effectivce at predicting all the categories, we will implement both upsampling and downsampling on the categories below."
   ]
  },
  {
   "cell_type": "code",
<<<<<<< Updated upstream
<<<<<<< HEAD
   "execution_count": 72,
=======
   "execution_count": null,
>>>>>>> 02c3df6c4b93da80670b6c9516c8815ce2b27d18
=======
   "execution_count": 23,
>>>>>>> Stashed changes
   "id": "8b8e69e5-502a-4379-8eb4-333aba81f184",
   "metadata": {},
   "outputs": [],
   "source": [
    "X = train_vectorized_df.drop(columns = ['category'])\n",
    "y = train_vectorized_df['category']\n"
   ]
  },
  {
   "cell_type": "markdown",
   "id": "7b5bf6ee-c5b1-4ee5-a7a0-c850276ee004",
   "metadata": {},
   "source": [
    "<h4>Sampling</h4>"
   ]
  },
  {
   "cell_type": "code",
<<<<<<< HEAD
   "execution_count": 74,
=======
   "execution_count": 24,
>>>>>>> 02c3df6c4b93da80670b6c9516c8815ce2b27d18
   "id": "dd5afd69",
   "metadata": {},
   "outputs": [],
   "source": [
    "# Ensure X is a sparse matrix\n",
    "try:\n",
    "    X_sparse = csr_matrix(X, dtype=np.float32)\n",
    "except MemoryError:\n",
    "    print(\"MemoryError: Unable to create full sparse matrix. Try chunk-wise processing.\")\n",
    "    X_sparse = csr_matrix(X.astype(np.float32))\n",
    "\n",
    "# Convert y to numeric labels\n",
    "label_encoder = LabelEncoder()\n",
    "y_numeric = label_encoder.fit_transform(y)  # Convert labels to numbers\n",
    "\n",
    "# Define the oversampler\n",
    "oversampler = RandomOverSampler(sampling_strategy='auto', random_state=42)\n",
    "\n",
    "# Apply resampling\n",
    "X_resampled, y_resampled = oversampler.fit_resample(X_sparse, y_numeric)\n",
    "\n",
    "# Convert back to sparse format\n",
    "X_resampled = csr_matrix(X_resampled, dtype=np.float32)\n",
    "\n",
    "# Convert y back to original labels\n",
    "y_resampled_labels = label_encoder.inverse_transform(y_resampled)\n",
    "\n",
    "# Get feature names AFTER resampling\n",
    "feature_names = X.columns  # Keep original feature names\n",
    "\n",
    "# Ensure feature name count matches resampled matrix\n",
    "if X_resampled.shape[1] != len(feature_names):\n",
    "    raise ValueError(f\"Mismatch: Resampled features ({X_resampled.shape[1]}) vs Feature Names ({len(feature_names)})\")\n",
    "\n",
    "# Create DataFrame\n",
    "over_sampled_df = pd.DataFrame(X_resampled.toarray(), columns=feature_names)\n",
    "over_sampled_df['category'] = y_resampled_labels  # Store original labels\n"
   ]
  },
  {
   "cell_type": "code",
<<<<<<< Updated upstream
<<<<<<< HEAD
   "execution_count": 76,
=======
   "execution_count": 26,
>>>>>>> 02c3df6c4b93da80670b6c9516c8815ce2b27d18
=======
   "execution_count": 25,
>>>>>>> Stashed changes
   "id": "1a644b12-44a1-4040-9d8b-8a43be1fc941",
   "metadata": {},
   "outputs": [],
   "source": [
    "\n",
    "target_len = int(len(y_train) / len(y_train.unique()))\n",
    "\n",
    "X = over_sampled_df.drop(columns = ['category'])\n",
    "y = over_sampled_df['category']\n",
    "\n",
    "undersampler = RandomUnderSampler(sampling_strategy={cls: target_len for cls in set(y)})\n",
    "X_resampled, y_resampled = undersampler.fit_resample(X, y)\n",
    "\n",
    "resampled_df = pd.DataFrame(X_resampled, columns=vectorizer.get_feature_names_out())\n",
    "resampled_df['category'] = y_resampled\n",
    "\n",
    "X_train = X_resampled\n",
    "y_train = y_resampled"
   ]
  },
  {
   "cell_type": "code",
<<<<<<< Updated upstream
<<<<<<< HEAD
   "execution_count": 78,
=======
   "execution_count": 68,
>>>>>>> 02c3df6c4b93da80670b6c9516c8815ce2b27d18
=======
   "execution_count": 26,
>>>>>>> Stashed changes
   "id": "5686e1ea-6639-40e0-b636-26b1e532e287",
   "metadata": {},
   "outputs": [
    {
     "data": {
      "text/plain": [
       "category\n",
       "business         883\n",
       "education        883\n",
       "entertainment    883\n",
       "sports           883\n",
       "technology       883\n",
       "Name: count, dtype: int64"
      ]
     },
<<<<<<< Updated upstream
<<<<<<< HEAD
     "execution_count": 78,
=======
     "execution_count": 68,
>>>>>>> 02c3df6c4b93da80670b6c9516c8815ce2b27d18
=======
     "execution_count": 26,
>>>>>>> Stashed changes
     "metadata": {},
     "output_type": "execute_result"
    }
   ],
   "source": [
    "y_train.value_counts()"
   ]
  },
  {
   "cell_type": "code",
   "execution_count": 27,
   "id": "792b2a83-63f1-4026-9fc9-1150edc24614",
   "metadata": {},
   "outputs": [
    {
     "data": {
      "image/png": "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",
      "text/plain": [
       "<Figure size 640x480 with 1 Axes>"
      ]
     },
     "metadata": {},
     "output_type": "display_data"
    }
   ],
   "source": [
    "category_counts = y_train.value_counts()\n",
    "\n",
    "category_counts.plot(kind='bar', color='skyblue')\n",
    "plt.title('Category Counts')\n",
    "plt.xlabel('Category')\n",
    "plt.ylabel('Count')\n",
    "plt.xticks(rotation=0)\n",
    "plt.show()\n"
   ]
  },
  {
   "cell_type": "markdown",
   "id": "d4c25792-19d6-4b50-aabd-0960df077e57",
   "metadata": {},
   "source": [
    "As we can see, all the categories have been resampled to where they have the same number of observations."
   ]
  },
  {
   "cell_type": "markdown",
   "id": "72206412-afd1-48d6-ac21-bd707c766b0e",
   "metadata": {},
   "source": [
    "<h1>Models</h1>"
   ]
  },
  {
   "cell_type": "markdown",
   "id": "1c1198df-3aa6-4e5b-b551-05aa4181de54",
   "metadata": {},
   "source": [
    "<h2>Neural Network</h2>"
   ]
  },
  {
   "cell_type": "code",
   "execution_count": 27,
   "id": "4cb1eb25-3274-4215-a14f-85f457466396",
   "metadata": {},
   "outputs": [],
   "source": [
    "# Initialise the label encoder\n",
    "label_encoder = LabelEncoder()\n",
    "\n",
    "# Fit the encoder on the training labels and transform them\n",
    "y_train_nn = label_encoder.fit_transform(y_train)\n",
    "y_val_nn = label_encoder.transform(y_val)\n",
    "y_test_nn = label_encoder.transform(y_test)\n",
    "\n",
    "# Convert to one-hot encoding\n",
    "y_train_nn = to_categorical(y_train_nn)\n",
    "y_val_nn = to_categorical(y_val_nn)\n",
    "y_test_nn = to_categorical(y_test_nn)\n"
   ]
  },
  {
   "cell_type": "code",
   "execution_count": 28,
   "id": "8c9b4251-ab99-439f-b076-51276810c9c3",
   "metadata": {},
   "outputs": [],
   "source": [
    "# Hyperparameters\n",
    "input_dims = X_train.shape[1]\n",
    "batch_size = 32\n",
    "epochs = 10\n",
    "num_classes = len(y_train.unique())\n"
   ]
  },
  {
   "cell_type": "code",
   "execution_count": 29,
   "id": "c193c29c-cfa8-484b-b435-4488804c9675",
   "metadata": {},
   "outputs": [],
   "source": [
    "#Creating the Neural network\n",
    "model_nn = Sequential([\n",
    "    Dense(128, activation='relu', input_dim=input_dims),  # Input Layer\n",
    "    Dropout(0.3),  # Regularization\n",
    "    Dense(64, activation='relu'),  # Second hidden layer\n",
    "    Dropout(0.2),  # Regularization\n",
    "    Dense(num_classes, activation='softmax')  # Output layer for classification\n",
    "])"
   ]
  },
  {
   "cell_type": "markdown",
   "id": "eb9a6a80-2f46-4527-b80d-a4fae545ab08",
   "metadata": {},
   "source": [
    "<h4>Training</h4>"
   ]
  },
  {
   "cell_type": "code",
   "execution_count": 35,
   "id": "55fae63a-fda5-4d1e-99bc-3c34258725ab",
   "metadata": {},
   "outputs": [],
   "source": [
    "# Compile the model\n",
    "model_nn.compile(optimizer='adam', loss='binary_crossentropy', metrics=['accuracy'])\n"
   ]
  },
  {
   "cell_type": "code",
   "execution_count": 79,
   "id": "883799fc-f9c2-4d33-9119-15c2af05e314",
   "metadata": {},
   "outputs": [
    {
     "name": "stdout",
     "output_type": "stream",
     "text": [
      "Epoch 1/10\n",
      "\u001b[1m138/138\u001b[0m \u001b[32m━━━━━━━━━━━━━━━━━━━━\u001b[0m\u001b[37m\u001b[0m \u001b[1m11s\u001b[0m 67ms/step - accuracy: 0.6556 - loss: 0.4642 - val_accuracy: 0.9928 - val_loss: 0.0302\n",
      "Epoch 2/10\n",
      "\u001b[1m138/138\u001b[0m \u001b[32m━━━━━━━━━━━━━━━━━━━━\u001b[0m\u001b[37m\u001b[0m \u001b[1m10s\u001b[0m 71ms/step - accuracy: 0.9932 - loss: 0.0231 - val_accuracy: 0.9955 - val_loss: 0.0102\n",
      "Epoch 3/10\n",
      "\u001b[1m138/138\u001b[0m \u001b[32m━━━━━━━━━━━━━━━━━━━━\u001b[0m\u001b[37m\u001b[0m \u001b[1m10s\u001b[0m 71ms/step - accuracy: 0.9999 - loss: 0.0039 - val_accuracy: 0.9955 - val_loss: 0.0092\n",
      "Epoch 4/10\n",
      "\u001b[1m138/138\u001b[0m \u001b[32m━━━━━━━━━━━━━━━━━━━━\u001b[0m\u001b[37m\u001b[0m \u001b[1m10s\u001b[0m 70ms/step - accuracy: 1.0000 - loss: 0.0018 - val_accuracy: 0.9964 - val_loss: 0.0085\n",
      "Epoch 5/10\n",
      "\u001b[1m138/138\u001b[0m \u001b[32m━━━━━━━━━━━━━━━━━━━━\u001b[0m\u001b[37m\u001b[0m \u001b[1m10s\u001b[0m 70ms/step - accuracy: 1.0000 - loss: 8.9964e-04 - val_accuracy: 0.9964 - val_loss: 0.0083\n",
      "Epoch 6/10\n",
      "\u001b[1m138/138\u001b[0m \u001b[32m━━━━━━━━━━━━━━━━━━━━\u001b[0m\u001b[37m\u001b[0m \u001b[1m10s\u001b[0m 71ms/step - accuracy: 1.0000 - loss: 5.5364e-04 - val_accuracy: 0.9964 - val_loss: 0.0086\n",
      "Epoch 7/10\n",
      "\u001b[1m138/138\u001b[0m \u001b[32m━━━━━━━━━━━━━━━━━━━━\u001b[0m\u001b[37m\u001b[0m \u001b[1m10s\u001b[0m 75ms/step - accuracy: 1.0000 - loss: 4.0394e-04 - val_accuracy: 0.9964 - val_loss: 0.0085\n",
      "Epoch 8/10\n",
      "\u001b[1m138/138\u001b[0m \u001b[32m━━━━━━━━━━━━━━━━━━━━\u001b[0m\u001b[37m\u001b[0m \u001b[1m10s\u001b[0m 71ms/step - accuracy: 1.0000 - loss: 3.6681e-04 - val_accuracy: 0.9964 - val_loss: 0.0086\n",
      "Epoch 9/10\n",
      "\u001b[1m138/138\u001b[0m \u001b[32m━━━━━━━━━━━━━━━━━━━━\u001b[0m\u001b[37m\u001b[0m \u001b[1m10s\u001b[0m 70ms/step - accuracy: 1.0000 - loss: 2.4120e-04 - val_accuracy: 0.9955 - val_loss: 0.0091\n",
      "Epoch 10/10\n",
      "\u001b[1m138/138\u001b[0m \u001b[32m━━━━━━━━━━━━━━━━━━━━\u001b[0m\u001b[37m\u001b[0m \u001b[1m10s\u001b[0m 70ms/step - accuracy: 1.0000 - loss: 2.5722e-04 - val_accuracy: 0.9964 - val_loss: 0.0095\n"
     ]
    }
   ],
   "source": [
    "model_nn = model_nn.fit(X_train, y_train_nn, validation_data=(X_val, y_val_nn), sample_weight=sample_weights, epochs=epochs, batch_size=batch_size)"
   ]
  },
  {
   "cell_type": "markdown",
   "id": "a94dba57-a370-4c4a-8ea8-1bb328336887",
   "metadata": {},
   "source": [
    "<h4>Evaluation</h4>"
   ]
  },
  {
   "cell_type": "code",
   "execution_count": 93,
   "id": "730ff7fb-e262-4036-9866-b5ec53d2d602",
   "metadata": {},
   "outputs": [
    {
     "name": "stdout",
     "output_type": "stream",
     "text": [
      "\u001b[1m35/35\u001b[0m \u001b[32m━━━━━━━━━━━━━━━━━━━━\u001b[0m\u001b[37m\u001b[0m \u001b[1m0s\u001b[0m 8ms/step - accuracy: 0.9967 - loss: 0.0274\n",
      "Test Loss: 0.018032874912023544\n",
      "Test Accuracy: 0.9954710006713867\n"
     ]
    }
   ],
   "source": [
    "test_loss, test_accuracy = model_nn.evaluate(X_test_nn, y_test_nn, batch_size=32)\n",
    "\n",
    "print(f\"Test Loss: {test_loss}\")\n",
    "print(f\"Test Accuracy: {test_accuracy}\")"
   ]
  },
  {
   "cell_type": "markdown",
   "id": "4023d323-6fc7-400d-89d5-8ae7b246d802",
   "metadata": {},
   "source": [
    "<h4>Model Tuning</h4>"
   ]
  },
  {
   "cell_type": "code",
   "execution_count": 95,
   "id": "d2060515-c026-41bd-ad1e-b522c84afb2b",
   "metadata": {},
   "outputs": [],
   "source": [
    "def create_nn_model(optimizer='adam', dropout_rate=0.2, num_units=64):\n",
    "    model = Sequential([\n",
    "        Dense(num_units, activation='relu', input_dim=X_train.shape[1]),\n",
    "        Dropout(dropout_rate),\n",
    "        Dense(64, activation='relu'),\n",
    "        Dropout(dropout_rate),\n",
    "        Dense(num_classes, activation='softmax')\n",
    "    ])\n",
    "    # Compile model\n",
    "    model.compile(optimizer=optimizer, loss='categorical_crossentropy', metrics=['accuracy'])\n",
    "    \n",
    "    return model\n",
    "    "
   ]
  },
  {
   "cell_type": "code",
   "execution_count": 97,
   "id": "7c4806ed-5e7b-4214-968f-8eb3b67e3100",
   "metadata": {},
   "outputs": [],
   "source": [
    "model_nn_tune = KerasClassifier(build_fn=create_nn_model, epochs=10, batch_size=32, verbose=0, dropout_rate=0.2)\n"
   ]
  },
  {
   "cell_type": "code",
   "execution_count": 101,
   "id": "892bb054-7234-468f-9267-851aa1778414",
   "metadata": {},
   "outputs": [],
   "source": [
    "param_grid = {\n",
    "    'optimizer': ['adam', 'rmsprop'],\n",
    "    'dropout_rate': [0.2, 0.3, 0.5],\n",
    "    'batch_size': [32, 64]\n",
    "}\n"
   ]
  },
  {
   "cell_type": "markdown",
   "id": "21cb7b57-9811-4216-aa52-8098c19b18e3",
   "metadata": {},
   "source": [
    "Running the following code cell will take a while as it is going a while as it is performing a significant number of tests in an attenmpt to to find the best combination of parameters that will yield the best performing neural network "
   ]
  },
  {
   "cell_type": "code",
   "execution_count": null,
   "id": "45da93f8-5571-46a6-b285-1ceb2398bda6",
   "metadata": {},
   "outputs": [],
   "source": [
    "#Using GridSearchCV to get the best hyperparameters for the NN model\n",
    "grid_search = GridSearchCV(estimator=model_nn_tune, param_grid=param_grid, n_jobs=-1, cv=5)\n",
    "grid_search.fit(X_train_nn, y_train_nn)\n",
    "\n",
    "# Get the best hyperparameters\n",
    "print(\"Best parameters found: \", grid_search.best_params_)"
   ]
  },
  {
   "cell_type": "markdown",
   "id": "8eee02c0-2456-4a4a-a735-ca672d49a745",
   "metadata": {},
   "source": [
    "<h4>Testing the 'best' model</h4>"
   ]
  },
  {
   "cell_type": "code",
   "execution_count": 37,
   "id": "4ed88693-6d13-4b5a-be3a-b0792e122a49",
   "metadata": {},
   "outputs": [],
   "source": [
    "model_best = Sequential([\n",
    "    Input(shape=(X_train.shape[1],)),  \n",
    "    Dense(128, activation='relu'),\n",
    "    Dropout(0.5),\n",
    "    Dense(64, activation='relu'),\n",
    "    Dropout(0.5), \n",
    "    Dense(num_classes, activation='softmax') \n",
    "])"
   ]
  },
  {
   "cell_type": "code",
   "execution_count": 39,
   "id": "c71d04c0-5cfc-44dc-ad4f-b6331ef95d81",
   "metadata": {},
   "outputs": [],
   "source": [
    "model_best.compile(optimizer='rmsprop', loss='categorical_crossentropy', metrics=['accuracy'])"
   ]
  },
  {
   "cell_type": "code",
   "execution_count": 431,
   "id": "6e63e579-099c-4c43-82ed-6752c7b5e6d6",
   "metadata": {},
   "outputs": [
    {
     "name": "stdout",
     "output_type": "stream",
     "text": [
      "Epoch 1/10\n",
      "\u001b[1m138/138\u001b[0m \u001b[32m━━━━━━━━━━━━━━━━━━━━\u001b[0m\u001b[37m\u001b[0m \u001b[1m1s\u001b[0m 5ms/step - accuracy: 0.3662 - loss: 1.5235 - val_accuracy: 0.9158 - val_loss: 0.7972\n",
      "Epoch 2/10\n",
      "\u001b[1m138/138\u001b[0m \u001b[32m━━━━━━━━━━━━━━━━━━━━\u001b[0m\u001b[37m\u001b[0m \u001b[1m0s\u001b[0m 3ms/step - accuracy: 0.8487 - loss: 0.6461 - val_accuracy: 0.9357 - val_loss: 0.2313\n",
      "Epoch 3/10\n",
      "\u001b[1m138/138\u001b[0m \u001b[32m━━━━━━━━━━━━━━━━━━━━\u001b[0m\u001b[37m\u001b[0m \u001b[1m0s\u001b[0m 2ms/step - accuracy: 0.9405 - loss: 0.2273 - val_accuracy: 0.9538 - val_loss: 0.1579\n",
      "Epoch 4/10\n",
      "\u001b[1m138/138\u001b[0m \u001b[32m━━━━━━━━━━━━━━━━━━━━\u001b[0m\u001b[37m\u001b[0m \u001b[1m0s\u001b[0m 2ms/step - accuracy: 0.9556 - loss: 0.1678 - val_accuracy: 0.9538 - val_loss: 0.1425\n",
      "Epoch 5/10\n",
      "\u001b[1m138/138\u001b[0m \u001b[32m━━━━━━━━━━━━━━━━━━━━\u001b[0m\u001b[37m\u001b[0m \u001b[1m0s\u001b[0m 2ms/step - accuracy: 0.9641 - loss: 0.1306 - val_accuracy: 0.9538 - val_loss: 0.1383\n",
      "Epoch 6/10\n",
      "\u001b[1m138/138\u001b[0m \u001b[32m━━━━━━━━━━━━━━━━━━━━\u001b[0m\u001b[37m\u001b[0m \u001b[1m0s\u001b[0m 2ms/step - accuracy: 0.9733 - loss: 0.1142 - val_accuracy: 0.9547 - val_loss: 0.1339\n",
      "Epoch 7/10\n",
      "\u001b[1m138/138\u001b[0m \u001b[32m━━━━━━━━━━━━━━━━━━━━\u001b[0m\u001b[37m\u001b[0m \u001b[1m0s\u001b[0m 2ms/step - accuracy: 0.9772 - loss: 0.0931 - val_accuracy: 0.9538 - val_loss: 0.1380\n",
      "Epoch 8/10\n",
      "\u001b[1m138/138\u001b[0m \u001b[32m━━━━━━━━━━━━━━━━━━━━\u001b[0m\u001b[37m\u001b[0m \u001b[1m0s\u001b[0m 2ms/step - accuracy: 0.9851 - loss: 0.0643 - val_accuracy: 0.9601 - val_loss: 0.1322\n",
      "Epoch 9/10\n",
      "\u001b[1m138/138\u001b[0m \u001b[32m━━━━━━━━━━━━━━━━━━━━\u001b[0m\u001b[37m\u001b[0m \u001b[1m0s\u001b[0m 3ms/step - accuracy: 0.9869 - loss: 0.0497 - val_accuracy: 0.9592 - val_loss: 0.1359\n",
      "Epoch 10/10\n",
      "\u001b[1m138/138\u001b[0m \u001b[32m━━━━━━━━━━━━━━━━━━━━\u001b[0m\u001b[37m\u001b[0m \u001b[1m0s\u001b[0m 3ms/step - accuracy: 0.9855 - loss: 0.0552 - val_accuracy: 0.9583 - val_loss: 0.1377\n"
     ]
    },
    {
     "data": {
      "text/plain": [
       "<keras.src.callbacks.history.History at 0x1d116a4d7f0>"
      ]
     },
     "execution_count": 431,
     "metadata": {},
     "output_type": "execute_result"
    }
   ],
   "source": [
    "model_best.fit(X_train, y_train, validation_data=(X_test_nn, y_test_nn), epochs=10, batch_size=32)"
   ]
  },
  {
   "cell_type": "code",
   "execution_count": 433,
   "id": "4bbdc9ce-94da-48a8-90bc-7dccb88e5c31",
   "metadata": {},
   "outputs": [
    {
     "name": "stdout",
     "output_type": "stream",
     "text": [
      "\u001b[1m35/35\u001b[0m \u001b[32m━━━━━━━━━━━━━━━━━━━━\u001b[0m\u001b[37m\u001b[0m \u001b[1m0s\u001b[0m 2ms/step - accuracy: 0.9499 - loss: 0.1563 \n",
      "Test Loss: 0.13765276968479156\n",
      "Test Accuracy: 0.9583333134651184\n"
     ]
    }
   ],
   "source": [
    "test_loss, test_accuracy = model_best.evaluate(X_test_nn, y_test_nn, batch_size=32)\n",
    "\n",
    "print(f\"Test Loss: {test_loss}\")\n",
    "print(f\"Test Accuracy: {test_accuracy}\")"
   ]
  },
  {
   "cell_type": "markdown",
   "id": "d64c530e-79a9-4dda-b0d6-2f584b09f176",
   "metadata": {},
   "source": [
    "<h4>MLFlow</h4>"
   ]
  },
  {
   "cell_type": "markdown",
   "id": "af7571ad-04cd-426f-ab3c-1ae32923fc0d",
   "metadata": {},
   "source": [
    "The following function will, using MLFlow, create an experiment that will track the model passed to it, and log its parameters and metrics"
   ]
  },
  {
   "cell_type": "code",
   "execution_count": null,
   "id": "91becc4a-6638-46b2-9917-9c402f1cc20a",
   "metadata": {},
   "outputs": [],
   "source": [
    "mlflow.set_tracking_uri(\"http://127.0.0.1:5000\")"
   ]
  },
  {
   "cell_type": "code",
   "execution_count": 6,
   "id": "a7972318-6e94-4069-808a-98cfab98246e",
   "metadata": {},
   "outputs": [],
   "source": [
    "def train_and_evaluate_model(X_train, y_train, X_val, y_val, X_test, y_test, model, model_name):\n",
    "\n",
    "    with mlflow.start_run(run_name = model_name):\n",
    "        # Log hyperparameters\n",
    "        mlflow.log_param(\"batch_size\", batch_size)\n",
    "        mlflow.log_param(\"epochs\", epochs)\n",
    "        mlflow.log_param(\"input_dims\", input_dims)\n",
    "        mlflow.log_param(\"num_classes\", num_classes)\n",
    "\n",
    "        # Train the model\n",
    "        history = model.fit(X_train, y_train, epochs=epochs, batch_size=batch_size,\n",
    "                               validation_data=(X_val, y_val), verbose=1)\n",
    "\n",
    "        # Log final validation metrics\n",
    "        val_loss, val_accuracy = model.evaluate(X_val, y_val, verbose=0)\n",
    "        mlflow.log_metric(\"val_loss\", val_loss)\n",
    "        mlflow.log_metric(\"val_accuracy\", val_accuracy)\n",
    "\n",
    "        # Evaluate on test data\n",
    "        test_loss, test_accuracy = model.evaluate(X_test, y_test, verbose=0)\n",
    "        mlflow.log_metric(\"test_loss\", test_loss)\n",
    "        mlflow.log_metric(\"test_accuracy\", test_accuracy)\n",
    "\n",
    "        # Make predictions on test set\n",
    "        y_pred = model.predict(X_test)\n",
    "        y_pred_classes = y_pred.argmax(axis=1)\n",
    "        y_true_classes = y_test.argmax(axis=1)\n",
    "\n",
    "        # Generate classification report\n",
    "        report = classification_report(y_true_classes, y_pred_classes, output_dict=True)\n",
    "        mlflow.log_dict(report, \"classification_report.json\")\n",
    "\n",
    "        # #logging the model\n",
    "        signature = infer_signature(X_train.iloc[:5].to_numpy(), model.predict(X_train.iloc[:5].to_numpy()))\n",
    "        mlflow.keras.log_model(model, \"Neural Network model\", signature=signature)\n",
    "\n",
    "    return model"
   ]
  },
  {
   "cell_type": "code",
   "execution_count": 61,
   "id": "4febaf73-b459-4412-959c-301940ac5012",
   "metadata": {},
   "outputs": [
    {
     "name": "stdout",
     "output_type": "stream",
     "text": [
      "\u001b[1m63/63\u001b[0m \u001b[32m━━━━━━━━━━━━━━━━━━━━\u001b[0m\u001b[37m\u001b[0m \u001b[1m0s\u001b[0m 7ms/step\n",
      "\u001b[1m1/1\u001b[0m \u001b[32m━━━━━━━━━━━━━━━━━━━━\u001b[0m\u001b[37m\u001b[0m \u001b[1m0s\u001b[0m 36ms/step\n"
     ]
    },
    {
     "data": {
      "text/plain": [
       "<Sequential name=sequential, built=True>"
      ]
     },
     "execution_count": 61,
     "metadata": {},
     "output_type": "execute_result"
    }
   ],
   "source": [
    "train_and_evaluate_model(X_train, y_train_nn, X_val, y_val_nn, X_test, y_test_nn, model_nn, model_name = \"Base Model\")"
   ]
  },
  {
   "cell_type": "code",
   "execution_count": 51,
   "id": "f77b51c9-4701-4a81-8bc1-8553e55e9557",
   "metadata": {},
   "outputs": [
    {
     "name": "stderr",
     "output_type": "stream",
     "text": [
      "2025/01/31 12:47:40 INFO mlflow.tracking.fluent: Experiment with name 'Neural Network: Tuned Model' does not exist. Creating a new experiment.\n"
     ]
    },
    {
     "name": "stdout",
     "output_type": "stream",
     "text": [
      "\u001b[1m63/63\u001b[0m \u001b[32m━━━━━━━━━━━━━━━━━━━━\u001b[0m\u001b[37m\u001b[0m \u001b[1m0s\u001b[0m 6ms/step\n",
      "\u001b[1m1/1\u001b[0m \u001b[32m━━━━━━━━━━━━━━━━━━━━\u001b[0m\u001b[37m\u001b[0m \u001b[1m0s\u001b[0m 55ms/step\n"
     ]
    }
   ],
   "source": [
    "train_and_evaluate_model(X_train, y_train_nn, X_val, y_val_nn, X_test, y_test_nn, model_best, model_name = \"Tuned Model\")"
   ]
  },
  {
   "cell_type": "markdown",
   "id": "a653ad02-9228-4a75-8b40-f12349fc0f91",
   "metadata": {},
   "source": [
    "Having looked at the models' performance on MLFlow, the tuned model outperformed the base model and now, it will be registered and saved for export and future use."
   ]
  },
  {
   "cell_type": "markdown",
   "id": "716f4974-a795-4732-910e-389ad4eb4280",
   "metadata": {},
   "source": [
    "<h5>Registering the better performing model</h5>"
   ]
  },
  {
   "cell_type": "code",
   "execution_count": null,
   "id": "0db60828-9b96-4f3f-b354-5a76b75498a0",
   "metadata": {},
   "outputs": [],
   "source": [
    "model_name = \"Tuned Model\"\n",
    "run_id = input(\"Enter Run ID: \") #\"4cc744832cfa4cd3b3e2080144b83c84\"\n",
    "model_uri = f\"runs:/{run_id}/{model_name}\"\n",
    "\n",
    "result = mlflow.register_model(\n",
    "    model_uri, model_name\n",
    ")"
   ]
  },
  {
   "cell_type": "code",
   "execution_count": null,
   "id": "e02f6b4c-d986-4db3-a005-71685ff34677",
   "metadata": {},
   "outputs": [],
   "source": [
    "filename = \"NN_model.pkl\"\n",
    "pickle.dump(model_best, open(filename, \"wb\"))"
   ]
  },
  {
   "cell_type": "markdown",
   "id": "77b443f0-8fa8-4189-b7df-8985ab71f507",
   "metadata": {},
   "source": [
    "<h1>Random Forest</h1>"
   ]
  },
  {
   "cell_type": "markdown",
   "id": "8c628403",
   "metadata": {},
   "source": [
    "#### Training "
   ]
  },
  {
   "cell_type": "code",
   "execution_count": 28,
   "id": "f004f9c0",
   "metadata": {},
   "outputs": [
    {
     "data": {
      "text/html": [
       "<style>#sk-container-id-1 {\n",
       "  /* Definition of color scheme common for light and dark mode */\n",
       "  --sklearn-color-text: #000;\n",
       "  --sklearn-color-text-muted: #666;\n",
       "  --sklearn-color-line: gray;\n",
       "  /* Definition of color scheme for unfitted estimators */\n",
       "  --sklearn-color-unfitted-level-0: #fff5e6;\n",
       "  --sklearn-color-unfitted-level-1: #f6e4d2;\n",
       "  --sklearn-color-unfitted-level-2: #ffe0b3;\n",
       "  --sklearn-color-unfitted-level-3: chocolate;\n",
       "  /* Definition of color scheme for fitted estimators */\n",
       "  --sklearn-color-fitted-level-0: #f0f8ff;\n",
       "  --sklearn-color-fitted-level-1: #d4ebff;\n",
       "  --sklearn-color-fitted-level-2: #b3dbfd;\n",
       "  --sklearn-color-fitted-level-3: cornflowerblue;\n",
       "\n",
       "  /* Specific color for light theme */\n",
       "  --sklearn-color-text-on-default-background: var(--sg-text-color, var(--theme-code-foreground, var(--jp-content-font-color1, black)));\n",
       "  --sklearn-color-background: var(--sg-background-color, var(--theme-background, var(--jp-layout-color0, white)));\n",
       "  --sklearn-color-border-box: var(--sg-text-color, var(--theme-code-foreground, var(--jp-content-font-color1, black)));\n",
       "  --sklearn-color-icon: #696969;\n",
       "\n",
       "  @media (prefers-color-scheme: dark) {\n",
       "    /* Redefinition of color scheme for dark theme */\n",
       "    --sklearn-color-text-on-default-background: var(--sg-text-color, var(--theme-code-foreground, var(--jp-content-font-color1, white)));\n",
       "    --sklearn-color-background: var(--sg-background-color, var(--theme-background, var(--jp-layout-color0, #111)));\n",
       "    --sklearn-color-border-box: var(--sg-text-color, var(--theme-code-foreground, var(--jp-content-font-color1, white)));\n",
       "    --sklearn-color-icon: #878787;\n",
       "  }\n",
       "}\n",
       "\n",
       "#sk-container-id-1 {\n",
       "  color: var(--sklearn-color-text);\n",
       "}\n",
       "\n",
       "#sk-container-id-1 pre {\n",
       "  padding: 0;\n",
       "}\n",
       "\n",
       "#sk-container-id-1 input.sk-hidden--visually {\n",
       "  border: 0;\n",
       "  clip: rect(1px 1px 1px 1px);\n",
       "  clip: rect(1px, 1px, 1px, 1px);\n",
       "  height: 1px;\n",
       "  margin: -1px;\n",
       "  overflow: hidden;\n",
       "  padding: 0;\n",
       "  position: absolute;\n",
       "  width: 1px;\n",
       "}\n",
       "\n",
       "#sk-container-id-1 div.sk-dashed-wrapped {\n",
       "  border: 1px dashed var(--sklearn-color-line);\n",
       "  margin: 0 0.4em 0.5em 0.4em;\n",
       "  box-sizing: border-box;\n",
       "  padding-bottom: 0.4em;\n",
       "  background-color: var(--sklearn-color-background);\n",
       "}\n",
       "\n",
       "#sk-container-id-1 div.sk-container {\n",
       "  /* jupyter's `normalize.less` sets `[hidden] { display: none; }`\n",
       "     but bootstrap.min.css set `[hidden] { display: none !important; }`\n",
       "     so we also need the `!important` here to be able to override the\n",
       "     default hidden behavior on the sphinx rendered scikit-learn.org.\n",
       "     See: https://github.com/scikit-learn/scikit-learn/issues/21755 */\n",
       "  display: inline-block !important;\n",
       "  position: relative;\n",
       "}\n",
       "\n",
       "#sk-container-id-1 div.sk-text-repr-fallback {\n",
       "  display: none;\n",
       "}\n",
       "\n",
       "div.sk-parallel-item,\n",
       "div.sk-serial,\n",
       "div.sk-item {\n",
       "  /* draw centered vertical line to link estimators */\n",
       "  background-image: linear-gradient(var(--sklearn-color-text-on-default-background), var(--sklearn-color-text-on-default-background));\n",
       "  background-size: 2px 100%;\n",
       "  background-repeat: no-repeat;\n",
       "  background-position: center center;\n",
       "}\n",
       "\n",
       "/* Parallel-specific style estimator block */\n",
       "\n",
       "#sk-container-id-1 div.sk-parallel-item::after {\n",
       "  content: \"\";\n",
       "  width: 100%;\n",
       "  border-bottom: 2px solid var(--sklearn-color-text-on-default-background);\n",
       "  flex-grow: 1;\n",
       "}\n",
       "\n",
       "#sk-container-id-1 div.sk-parallel {\n",
       "  display: flex;\n",
       "  align-items: stretch;\n",
       "  justify-content: center;\n",
       "  background-color: var(--sklearn-color-background);\n",
       "  position: relative;\n",
       "}\n",
       "\n",
       "#sk-container-id-1 div.sk-parallel-item {\n",
       "  display: flex;\n",
       "  flex-direction: column;\n",
       "}\n",
       "\n",
       "#sk-container-id-1 div.sk-parallel-item:first-child::after {\n",
       "  align-self: flex-end;\n",
       "  width: 50%;\n",
       "}\n",
       "\n",
       "#sk-container-id-1 div.sk-parallel-item:last-child::after {\n",
       "  align-self: flex-start;\n",
       "  width: 50%;\n",
       "}\n",
       "\n",
       "#sk-container-id-1 div.sk-parallel-item:only-child::after {\n",
       "  width: 0;\n",
       "}\n",
       "\n",
       "/* Serial-specific style estimator block */\n",
       "\n",
       "#sk-container-id-1 div.sk-serial {\n",
       "  display: flex;\n",
       "  flex-direction: column;\n",
       "  align-items: center;\n",
       "  background-color: var(--sklearn-color-background);\n",
       "  padding-right: 1em;\n",
       "  padding-left: 1em;\n",
       "}\n",
       "\n",
       "\n",
       "/* Toggleable style: style used for estimator/Pipeline/ColumnTransformer box that is\n",
       "clickable and can be expanded/collapsed.\n",
       "- Pipeline and ColumnTransformer use this feature and define the default style\n",
       "- Estimators will overwrite some part of the style using the `sk-estimator` class\n",
       "*/\n",
       "\n",
       "/* Pipeline and ColumnTransformer style (default) */\n",
       "\n",
       "#sk-container-id-1 div.sk-toggleable {\n",
       "  /* Default theme specific background. It is overwritten whether we have a\n",
       "  specific estimator or a Pipeline/ColumnTransformer */\n",
       "  background-color: var(--sklearn-color-background);\n",
       "}\n",
       "\n",
       "/* Toggleable label */\n",
       "#sk-container-id-1 label.sk-toggleable__label {\n",
       "  cursor: pointer;\n",
       "  display: flex;\n",
       "  width: 100%;\n",
       "  margin-bottom: 0;\n",
       "  padding: 0.5em;\n",
       "  box-sizing: border-box;\n",
       "  text-align: center;\n",
       "  align-items: start;\n",
       "  justify-content: space-between;\n",
       "  gap: 0.5em;\n",
       "}\n",
       "\n",
       "#sk-container-id-1 label.sk-toggleable__label .caption {\n",
       "  font-size: 0.6rem;\n",
       "  font-weight: lighter;\n",
       "  color: var(--sklearn-color-text-muted);\n",
       "}\n",
       "\n",
       "#sk-container-id-1 label.sk-toggleable__label-arrow:before {\n",
       "  /* Arrow on the left of the label */\n",
       "  content: \"▸\";\n",
       "  float: left;\n",
       "  margin-right: 0.25em;\n",
       "  color: var(--sklearn-color-icon);\n",
       "}\n",
       "\n",
       "#sk-container-id-1 label.sk-toggleable__label-arrow:hover:before {\n",
       "  color: var(--sklearn-color-text);\n",
       "}\n",
       "\n",
       "/* Toggleable content - dropdown */\n",
       "\n",
       "#sk-container-id-1 div.sk-toggleable__content {\n",
       "  max-height: 0;\n",
       "  max-width: 0;\n",
       "  overflow: hidden;\n",
       "  text-align: left;\n",
       "  /* unfitted */\n",
       "  background-color: var(--sklearn-color-unfitted-level-0);\n",
       "}\n",
       "\n",
       "#sk-container-id-1 div.sk-toggleable__content.fitted {\n",
       "  /* fitted */\n",
       "  background-color: var(--sklearn-color-fitted-level-0);\n",
       "}\n",
       "\n",
       "#sk-container-id-1 div.sk-toggleable__content pre {\n",
       "  margin: 0.2em;\n",
       "  border-radius: 0.25em;\n",
       "  color: var(--sklearn-color-text);\n",
       "  /* unfitted */\n",
       "  background-color: var(--sklearn-color-unfitted-level-0);\n",
       "}\n",
       "\n",
       "#sk-container-id-1 div.sk-toggleable__content.fitted pre {\n",
       "  /* unfitted */\n",
       "  background-color: var(--sklearn-color-fitted-level-0);\n",
       "}\n",
       "\n",
       "#sk-container-id-1 input.sk-toggleable__control:checked~div.sk-toggleable__content {\n",
       "  /* Expand drop-down */\n",
       "  max-height: 200px;\n",
       "  max-width: 100%;\n",
       "  overflow: auto;\n",
       "}\n",
       "\n",
       "#sk-container-id-1 input.sk-toggleable__control:checked~label.sk-toggleable__label-arrow:before {\n",
       "  content: \"▾\";\n",
       "}\n",
       "\n",
       "/* Pipeline/ColumnTransformer-specific style */\n",
       "\n",
       "#sk-container-id-1 div.sk-label input.sk-toggleable__control:checked~label.sk-toggleable__label {\n",
       "  color: var(--sklearn-color-text);\n",
       "  background-color: var(--sklearn-color-unfitted-level-2);\n",
       "}\n",
       "\n",
       "#sk-container-id-1 div.sk-label.fitted input.sk-toggleable__control:checked~label.sk-toggleable__label {\n",
       "  background-color: var(--sklearn-color-fitted-level-2);\n",
       "}\n",
       "\n",
       "/* Estimator-specific style */\n",
       "\n",
       "/* Colorize estimator box */\n",
       "#sk-container-id-1 div.sk-estimator input.sk-toggleable__control:checked~label.sk-toggleable__label {\n",
       "  /* unfitted */\n",
       "  background-color: var(--sklearn-color-unfitted-level-2);\n",
       "}\n",
       "\n",
       "#sk-container-id-1 div.sk-estimator.fitted input.sk-toggleable__control:checked~label.sk-toggleable__label {\n",
       "  /* fitted */\n",
       "  background-color: var(--sklearn-color-fitted-level-2);\n",
       "}\n",
       "\n",
       "#sk-container-id-1 div.sk-label label.sk-toggleable__label,\n",
       "#sk-container-id-1 div.sk-label label {\n",
       "  /* The background is the default theme color */\n",
       "  color: var(--sklearn-color-text-on-default-background);\n",
       "}\n",
       "\n",
       "/* On hover, darken the color of the background */\n",
       "#sk-container-id-1 div.sk-label:hover label.sk-toggleable__label {\n",
       "  color: var(--sklearn-color-text);\n",
       "  background-color: var(--sklearn-color-unfitted-level-2);\n",
       "}\n",
       "\n",
       "/* Label box, darken color on hover, fitted */\n",
       "#sk-container-id-1 div.sk-label.fitted:hover label.sk-toggleable__label.fitted {\n",
       "  color: var(--sklearn-color-text);\n",
       "  background-color: var(--sklearn-color-fitted-level-2);\n",
       "}\n",
       "\n",
       "/* Estimator label */\n",
       "\n",
       "#sk-container-id-1 div.sk-label label {\n",
       "  font-family: monospace;\n",
       "  font-weight: bold;\n",
       "  display: inline-block;\n",
       "  line-height: 1.2em;\n",
       "}\n",
       "\n",
       "#sk-container-id-1 div.sk-label-container {\n",
       "  text-align: center;\n",
       "}\n",
       "\n",
       "/* Estimator-specific */\n",
       "#sk-container-id-1 div.sk-estimator {\n",
       "  font-family: monospace;\n",
       "  border: 1px dotted var(--sklearn-color-border-box);\n",
       "  border-radius: 0.25em;\n",
       "  box-sizing: border-box;\n",
       "  margin-bottom: 0.5em;\n",
       "  /* unfitted */\n",
       "  background-color: var(--sklearn-color-unfitted-level-0);\n",
       "}\n",
       "\n",
       "#sk-container-id-1 div.sk-estimator.fitted {\n",
       "  /* fitted */\n",
       "  background-color: var(--sklearn-color-fitted-level-0);\n",
       "}\n",
       "\n",
       "/* on hover */\n",
       "#sk-container-id-1 div.sk-estimator:hover {\n",
       "  /* unfitted */\n",
       "  background-color: var(--sklearn-color-unfitted-level-2);\n",
       "}\n",
       "\n",
       "#sk-container-id-1 div.sk-estimator.fitted:hover {\n",
       "  /* fitted */\n",
       "  background-color: var(--sklearn-color-fitted-level-2);\n",
       "}\n",
       "\n",
       "/* Specification for estimator info (e.g. \"i\" and \"?\") */\n",
       "\n",
       "/* Common style for \"i\" and \"?\" */\n",
       "\n",
       ".sk-estimator-doc-link,\n",
       "a:link.sk-estimator-doc-link,\n",
       "a:visited.sk-estimator-doc-link {\n",
       "  float: right;\n",
       "  font-size: smaller;\n",
       "  line-height: 1em;\n",
       "  font-family: monospace;\n",
       "  background-color: var(--sklearn-color-background);\n",
       "  border-radius: 1em;\n",
       "  height: 1em;\n",
       "  width: 1em;\n",
       "  text-decoration: none !important;\n",
       "  margin-left: 0.5em;\n",
       "  text-align: center;\n",
       "  /* unfitted */\n",
       "  border: var(--sklearn-color-unfitted-level-1) 1pt solid;\n",
       "  color: var(--sklearn-color-unfitted-level-1);\n",
       "}\n",
       "\n",
       ".sk-estimator-doc-link.fitted,\n",
       "a:link.sk-estimator-doc-link.fitted,\n",
       "a:visited.sk-estimator-doc-link.fitted {\n",
       "  /* fitted */\n",
       "  border: var(--sklearn-color-fitted-level-1) 1pt solid;\n",
       "  color: var(--sklearn-color-fitted-level-1);\n",
       "}\n",
       "\n",
       "/* On hover */\n",
       "div.sk-estimator:hover .sk-estimator-doc-link:hover,\n",
       ".sk-estimator-doc-link:hover,\n",
       "div.sk-label-container:hover .sk-estimator-doc-link:hover,\n",
       ".sk-estimator-doc-link:hover {\n",
       "  /* unfitted */\n",
       "  background-color: var(--sklearn-color-unfitted-level-3);\n",
       "  color: var(--sklearn-color-background);\n",
       "  text-decoration: none;\n",
       "}\n",
       "\n",
       "div.sk-estimator.fitted:hover .sk-estimator-doc-link.fitted:hover,\n",
       ".sk-estimator-doc-link.fitted:hover,\n",
       "div.sk-label-container:hover .sk-estimator-doc-link.fitted:hover,\n",
       ".sk-estimator-doc-link.fitted:hover {\n",
       "  /* fitted */\n",
       "  background-color: var(--sklearn-color-fitted-level-3);\n",
       "  color: var(--sklearn-color-background);\n",
       "  text-decoration: none;\n",
       "}\n",
       "\n",
       "/* Span, style for the box shown on hovering the info icon */\n",
       ".sk-estimator-doc-link span {\n",
       "  display: none;\n",
       "  z-index: 9999;\n",
       "  position: relative;\n",
       "  font-weight: normal;\n",
       "  right: .2ex;\n",
       "  padding: .5ex;\n",
       "  margin: .5ex;\n",
       "  width: min-content;\n",
       "  min-width: 20ex;\n",
       "  max-width: 50ex;\n",
       "  color: var(--sklearn-color-text);\n",
       "  box-shadow: 2pt 2pt 4pt #999;\n",
       "  /* unfitted */\n",
       "  background: var(--sklearn-color-unfitted-level-0);\n",
       "  border: .5pt solid var(--sklearn-color-unfitted-level-3);\n",
       "}\n",
       "\n",
       ".sk-estimator-doc-link.fitted span {\n",
       "  /* fitted */\n",
       "  background: var(--sklearn-color-fitted-level-0);\n",
       "  border: var(--sklearn-color-fitted-level-3);\n",
       "}\n",
       "\n",
       ".sk-estimator-doc-link:hover span {\n",
       "  display: block;\n",
       "}\n",
       "\n",
       "/* \"?\"-specific style due to the `<a>` HTML tag */\n",
       "\n",
       "#sk-container-id-1 a.estimator_doc_link {\n",
       "  float: right;\n",
       "  font-size: 1rem;\n",
       "  line-height: 1em;\n",
       "  font-family: monospace;\n",
       "  background-color: var(--sklearn-color-background);\n",
       "  border-radius: 1rem;\n",
       "  height: 1rem;\n",
       "  width: 1rem;\n",
       "  text-decoration: none;\n",
       "  /* unfitted */\n",
       "  color: var(--sklearn-color-unfitted-level-1);\n",
       "  border: var(--sklearn-color-unfitted-level-1) 1pt solid;\n",
       "}\n",
       "\n",
       "#sk-container-id-1 a.estimator_doc_link.fitted {\n",
       "  /* fitted */\n",
       "  border: var(--sklearn-color-fitted-level-1) 1pt solid;\n",
       "  color: var(--sklearn-color-fitted-level-1);\n",
       "}\n",
       "\n",
       "/* On hover */\n",
       "#sk-container-id-1 a.estimator_doc_link:hover {\n",
       "  /* unfitted */\n",
       "  background-color: var(--sklearn-color-unfitted-level-3);\n",
       "  color: var(--sklearn-color-background);\n",
       "  text-decoration: none;\n",
       "}\n",
       "\n",
       "#sk-container-id-1 a.estimator_doc_link.fitted:hover {\n",
       "  /* fitted */\n",
       "  background-color: var(--sklearn-color-fitted-level-3);\n",
       "}\n",
       "</style><div id=\"sk-container-id-1\" class=\"sk-top-container\"><div class=\"sk-text-repr-fallback\"><pre>RandomForestClassifier(max_depth=3, n_estimators=5, random_state=42)</pre><b>In a Jupyter environment, please rerun this cell to show the HTML representation or trust the notebook. <br />On GitHub, the HTML representation is unable to render, please try loading this page with nbviewer.org.</b></div><div class=\"sk-container\" hidden><div class=\"sk-item\"><div class=\"sk-estimator fitted sk-toggleable\"><input class=\"sk-toggleable__control sk-hidden--visually\" id=\"sk-estimator-id-1\" type=\"checkbox\" checked><label for=\"sk-estimator-id-1\" class=\"sk-toggleable__label fitted sk-toggleable__label-arrow\"><div><div>RandomForestClassifier</div></div><div><a class=\"sk-estimator-doc-link fitted\" rel=\"noreferrer\" target=\"_blank\" href=\"https://scikit-learn.org/1.6/modules/generated/sklearn.ensemble.RandomForestClassifier.html\">?<span>Documentation for RandomForestClassifier</span></a><span class=\"sk-estimator-doc-link fitted\">i<span>Fitted</span></span></div></label><div class=\"sk-toggleable__content fitted\"><pre>RandomForestClassifier(max_depth=3, n_estimators=5, random_state=42)</pre></div> </div></div></div></div>"
      ],
      "text/plain": [
       "RandomForestClassifier(max_depth=3, n_estimators=5, random_state=42)"
      ]
     },
     "execution_count": 28,
     "metadata": {},
     "output_type": "execute_result"
    }
   ],
   "source": [
    "rf_model = RandomForestClassifier(n_estimators=5, max_depth=3, min_samples_split=2, min_samples_leaf=1, random_state=42)\n",
    "rf_model.fit(X_train, y_train)\n"
   ]
  },
  {
   "cell_type": "markdown",
   "id": "1936c566",
   "metadata": {},
   "source": [
    "#### Evaluation"
   ]
  },
  {
   "cell_type": "code",
   "execution_count": 29,
   "id": "32d19cc8-0c0c-4eda-b592-07f37a43d139",
   "metadata": {},
   "outputs": [
    {
     "name": "stdout",
     "output_type": "stream",
     "text": [
      "Accuracy Score: 0.5353260869565217\n",
      "\n",
      "Classification Report:\n",
      "                precision    recall  f1-score   support\n",
      "\n",
      "     business       0.68      0.56      0.61       245\n",
      "    education       0.53      0.74      0.62       274\n",
      "entertainment       0.31      0.60      0.41       178\n",
      "       sports       0.82      0.39      0.52       137\n",
      "   technology       0.83      0.34      0.48       270\n",
      "\n",
      "     accuracy                           0.54      1104\n",
      "    macro avg       0.63      0.52      0.53      1104\n",
      " weighted avg       0.64      0.54      0.54      1104\n",
      "\n"
     ]
    }
   ],
   "source": [
    "# Train and evaluate the Random Forest model\n",
    "y_pred = rf_model.predict(X_val)\n",
    "\n",
    "print(\"Accuracy Score:\", accuracy_score(y_val, y_pred))\n",
    "print(\"\\nClassification Report:\\n\", classification_report(y_val, y_pred))"
   ]
  },
  {
   "cell_type": "code",
   "execution_count": 30,
   "id": "271f4f3b-23ca-4e9f-90b0-4f55eb341136",
   "metadata": {},
   "outputs": [],
   "source": [
    "#Converting the data into arrays to be used by the RandomSearchCV\n",
    "X_train_rf = np.array(X_train)\n",
    "y_train_rf = np.array(y_train)\n",
    "X_test_rf = np.array(X_val)\n",
    "y_test_rf = np.array(y_val)\n",
    "\n",
    "# Define the parameter grid\n",
    "param_grid = {\n",
    "    'n_estimators': [3, 5, 10],  # Number of trees\n",
    "    'max_depth': [3, 4, 5]  # Maximum depth of trees\n",
    "}\n",
    "\n",
    "# Initialize the Random Forest model\n",
    "rf_model = RandomForestClassifier(n_estimators=5, max_depth=3, min_samples_split=2, min_samples_leaf=1, random_state=42)\n"
   ]
  },
  {
   "cell_type": "code",
   "execution_count": 31,
   "id": "c7d9efe8-58ee-4f5b-a80d-b0b06adcb9c2",
   "metadata": {},
   "outputs": [],
   "source": [
    "# Use RandomizedSearchCV for efficiency\n",
    "random_search = RandomizedSearchCV(\n",
    "    estimator=rf_model, \n",
    "    param_distributions=param_grid, \n",
    "    n_iter=10,  # Randomly sample 10 combinations\n",
    "    cv=5, \n",
    "    n_jobs=1,  # Prevent memory issues\n",
    "    verbose=2, \n",
    "    scoring='accuracy',\n",
    "    random_state=42\n",
    ")\n"
   ]
  },
  {
   "cell_type": "code",
   "execution_count": 32,
   "id": "5a8125ea-10b8-42fc-9f17-22fcc70ede6d",
   "metadata": {},
   "outputs": [
    {
     "name": "stdout",
     "output_type": "stream",
     "text": [
      "Fitting 5 folds for each of 9 candidates, totalling 45 fits\n",
      "[CV] END ........................max_depth=3, n_estimators=3; total time=  11.7s\n",
      "[CV] END ........................max_depth=3, n_estimators=3; total time=  11.3s\n",
      "[CV] END ........................max_depth=3, n_estimators=3; total time=  10.5s\n",
      "[CV] END ........................max_depth=3, n_estimators=3; total time=  10.6s\n",
      "[CV] END ........................max_depth=3, n_estimators=3; total time=  10.5s\n",
      "[CV] END ........................max_depth=3, n_estimators=5; total time=  10.7s\n",
      "[CV] END ........................max_depth=3, n_estimators=5; total time=  11.4s\n",
      "[CV] END ........................max_depth=3, n_estimators=5; total time=  11.1s\n",
      "[CV] END ........................max_depth=3, n_estimators=5; total time=  10.9s\n",
      "[CV] END ........................max_depth=3, n_estimators=5; total time=  10.8s\n",
      "[CV] END .......................max_depth=3, n_estimators=10; total time=  11.4s\n",
      "[CV] END .......................max_depth=3, n_estimators=10; total time=  10.9s\n",
      "[CV] END .......................max_depth=3, n_estimators=10; total time=  11.4s\n",
      "[CV] END .......................max_depth=3, n_estimators=10; total time=  11.6s\n",
      "[CV] END .......................max_depth=3, n_estimators=10; total time=  11.6s\n",
      "[CV] END ........................max_depth=4, n_estimators=3; total time=  11.0s\n",
      "[CV] END ........................max_depth=4, n_estimators=3; total time=  11.0s\n",
      "[CV] END ........................max_depth=4, n_estimators=3; total time=  10.9s\n",
      "[CV] END ........................max_depth=4, n_estimators=3; total time=  10.8s\n",
      "[CV] END ........................max_depth=4, n_estimators=3; total time=  10.9s\n",
      "[CV] END ........................max_depth=4, n_estimators=5; total time=  11.1s\n",
      "[CV] END ........................max_depth=4, n_estimators=5; total time=  11.3s\n",
      "[CV] END ........................max_depth=4, n_estimators=5; total time=  11.2s\n",
      "[CV] END ........................max_depth=4, n_estimators=5; total time=  11.2s\n",
      "[CV] END ........................max_depth=4, n_estimators=5; total time=  11.2s\n",
      "[CV] END .......................max_depth=4, n_estimators=10; total time=  12.0s\n",
      "[CV] END .......................max_depth=4, n_estimators=10; total time=  11.6s\n",
      "[CV] END .......................max_depth=4, n_estimators=10; total time=  11.8s\n",
      "[CV] END .......................max_depth=4, n_estimators=10; total time=  11.9s\n",
      "[CV] END .......................max_depth=4, n_estimators=10; total time=  11.8s\n",
      "[CV] END ........................max_depth=5, n_estimators=3; total time=  11.2s\n",
      "[CV] END ........................max_depth=5, n_estimators=3; total time=  11.2s\n",
      "[CV] END ........................max_depth=5, n_estimators=3; total time=  11.0s\n",
      "[CV] END ........................max_depth=5, n_estimators=3; total time=  11.2s\n",
      "[CV] END ........................max_depth=5, n_estimators=3; total time=  11.1s\n",
      "[CV] END ........................max_depth=5, n_estimators=5; total time=  11.6s\n",
      "[CV] END ........................max_depth=5, n_estimators=5; total time=  11.5s\n",
      "[CV] END ........................max_depth=5, n_estimators=5; total time=  11.4s\n",
      "[CV] END ........................max_depth=5, n_estimators=5; total time=  11.3s\n",
      "[CV] END ........................max_depth=5, n_estimators=5; total time=  11.3s\n",
      "[CV] END .......................max_depth=5, n_estimators=10; total time=  12.3s\n",
      "[CV] END .......................max_depth=5, n_estimators=10; total time=  12.5s\n",
      "[CV] END .......................max_depth=5, n_estimators=10; total time=  12.3s\n",
      "[CV] END .......................max_depth=5, n_estimators=10; total time=  12.4s\n",
      "[CV] END .......................max_depth=5, n_estimators=10; total time=  12.6s\n",
      "Best Parameters: {'n_estimators': 10, 'max_depth': 5}\n",
      "Best Accuracy: 0.7359003397508493\n"
     ]
    }
   ],
   "source": [
    "# Fit the model\n",
    "random_search.fit(X_train_rf, y_train_rf)\n",
    "\n",
    "# Initialize GridSearchCV\n",
    "grid_search = GridSearchCV(estimator=rf_model, param_grid=param_grid, \n",
    "                           cv=5, n_jobs=-1, verbose=2, scoring='accuracy')\n",
    "\n",
    "# Get the best parameters and model\n",
    "best_rf_model = random_search.best_estimator_\n",
    "print(\"Best Parameters:\", random_search.best_params_)\n",
    "print(\"Best Accuracy:\", random_search.best_score_)\n"
   ]
  },
  {
   "cell_type": "markdown",
   "id": "1cf5a04d",
   "metadata": {},
   "source": [
    "#### Model Tuning"
   ]
  },
  {
   "cell_type": "code",
   "execution_count": 33,
   "id": "6dc979e8-5561-4c49-825f-e1a758c4ac7d",
   "metadata": {},
   "outputs": [
    {
     "name": "stdout",
     "output_type": "stream",
     "text": [
      "\n",
      "Optimized Accuracy Score: 0.7545289855072463\n",
      "\n",
      "Optimized Classification Report:\n",
      "                precision    recall  f1-score   support\n",
      "\n",
      "     business       0.82      0.84      0.83       245\n",
      "    education       0.83      0.72      0.77       274\n",
      "entertainment       0.70      0.80      0.74       178\n",
      "       sports       0.81      0.60      0.69       137\n",
      "   technology       0.66      0.76      0.71       270\n",
      "\n",
      "     accuracy                           0.75      1104\n",
      "    macro avg       0.76      0.74      0.75      1104\n",
      " weighted avg       0.76      0.75      0.75      1104\n",
      "\n"
     ]
    }
   ],
   "source": [
    "# Predict on the test set\n",
    "y_pred_optimized = best_rf_model.predict(X_test_rf)\n",
    "\n",
    "# Evaluate the model\n",
    "print(\"\\nOptimized Accuracy Score:\", accuracy_score(y_test_rf, y_pred_optimized))\n",
    "print(\"\\nOptimized Classification Report:\\n\", classification_report(y_test_rf, y_pred_optimized))\n"
   ]
  },
  {
   "cell_type": "markdown",
   "id": "5e9c3e97",
   "metadata": {},
   "source": [
    "#### MLFlow"
   ]
  },
  {
   "cell_type": "code",
   "execution_count": 38,
   "id": "e3338152-8d0c-4c97-bd61-8b1f7c0d037f",
   "metadata": {},
   "outputs": [],
   "source": [
    "#Setting the tracking URI, which is where MLFlow will run and log experiments\n",
    "import mlflow\n",
    "import mlflow.sklearn\n",
    "import joblib\n",
    "mlflow.set_tracking_uri(uri=\"http://127.0.0.1:5000\")"
   ]
  },
  {
   "cell_type": "code",
   "execution_count": 39,
   "id": "5fe6e3b7-f642-4e1a-87b5-33fcba144593",
   "metadata": {},
   "outputs": [],
   "source": [
    "from sklearn.ensemble import RandomForestClassifier\n",
    "\n",
    "def train_random_forest(X_train, y_train, X_test, y_test, n_estimators, max_depth, min_samples_split,\n",
    "                        min_samples_leaf, model_name=None, random_state=None):\n",
    "    # Function code here\n",
    "\n",
    "    experiment = mlflow.create_experiment(model_name)\n",
    "    # Set MLflow experiment\n",
    "    mlflow.set_experiment(f\"{model_name}_random_forest_experiment\")\n",
    "\n",
    "    # Start a new MLflow run\n",
    "    with mlflow.start_run():\n",
    "        # Create the Random Forest model\n",
    "        rf_model = RandomForestClassifier(\n",
    "            n_estimators=n_estimators,\n",
    "            max_depth=max_depth,\n",
    "            min_samples_split=min_samples_split,\n",
    "            min_samples_leaf=min_samples_leaf,\n",
    "            random_state=random_state\n",
    "        )\n",
    "        \n",
    "        # Train the model\n",
    "        rf_model.fit(X_train_rf, y_train_rf)\n",
    "        \n",
    "        # Predict on test data\n",
    "        y_pred = rf_model.predict(X_test_rf)\n",
    "        \n",
    "        # Log hyperparameters\n",
    "        mlflow.log_param(\"n_estimators\", n_estimators)\n",
    "        mlflow.log_param(\"max_depth\", max_depth)\n",
    "        mlflow.log_param(\"min_samples_split\", min_samples_split)\n",
    "        mlflow.log_param(\"min_samples_leaf\", min_samples_leaf)\n",
    "        \n",
    "        # Calculate and log accuracy as a metric\n",
    "        accuracy = accuracy_score(y_test_rf, y_pred)\n",
    "        mlflow.log_metric(\"accuracy\", accuracy)\n",
    "        \n",
    "        # Optionally: Log the classification report as an artifact\n",
    "        report = classification_report(y_test_rf, y_pred, output_dict=True)\n",
    "        report_path = \"classification_report.json\"\n",
    "        with open(report_path, \"w\") as f:\n",
    "            json.dump(report, f)\n",
    "        \n",
    "        # Log the classification report as an artifact\n",
    "        mlflow.log_artifact(report_path)\n",
    "        \n",
    "        # Log the trained model\n",
    "        mlflow.sklearn.log_model(rf_model, \"random_forest_model\")\n",
    "        \n",
    "        # Optionally: Save the model as a .pkl file and log it\n",
    "        model_path = \"random_forest_model.pkl\"\n",
    "        joblib.dump(rf_model, model_path)\n",
    "        mlflow.log_artifact(model_path)\n",
    "        \n",
    "        # Print and return the accuracy of the model\n",
    "        print(f\"Model training completed with accuracy: {accuracy}\")\n",
    "        return accuracy\n"
   ]
  },
  {
   "cell_type": "code",
   "execution_count": 41,
   "id": "eb4964c7-ee58-4a49-a4a9-fd58597d88f5",
   "metadata": {},
   "outputs": [
    {
     "name": "stderr",
     "output_type": "stream",
     "text": [
      "2025/02/04 20:25:15 INFO mlflow.tracking.fluent: Experiment with name 'base model 3_random_forest_experiment' does not exist. Creating a new experiment.\n",
      "2025/02/04 20:25:20 WARNING mlflow.models.model: Model logged without a signature and input example. Please set `input_example` parameter when logging the model to auto infer the model signature.\n"
     ]
    },
    {
     "name": "stdout",
     "output_type": "stream",
     "text": [
      "Model training completed with accuracy: 0.5353260869565217\n",
      "🏃 View run receptive-moose-678 at: http://127.0.0.1:5000/#/experiments/327457185924250007/runs/aba7502f57264fe9ad301804755fcd9a\n",
      "🧪 View experiment at: http://127.0.0.1:5000/#/experiments/327457185924250007\n"
     ]
    },
    {
     "data": {
      "text/plain": [
       "0.5353260869565217"
      ]
     },
     "execution_count": 41,
     "metadata": {},
     "output_type": "execute_result"
    }
   ],
   "source": [
    "train_random_forest(X_train, y_train, X_test, y_test, 5, 3, 2, 1, model_name=\"base model 3\", random_state=42)"
   ]
  },
  {
   "cell_type": "code",
   "execution_count": 42,
   "id": "cdf405e1-f831-42e3-8f62-5d63a8cf57a5",
   "metadata": {},
   "outputs": [
    {
     "name": "stderr",
     "output_type": "stream",
     "text": [
      "2025/02/04 20:25:29 INFO mlflow.tracking.fluent: Experiment with name 'optimized model 3_random_forest_experiment' does not exist. Creating a new experiment.\n",
      "2025/02/04 20:25:34 WARNING mlflow.models.model: Model logged without a signature and input example. Please set `input_example` parameter when logging the model to auto infer the model signature.\n"
     ]
    },
    {
     "name": "stdout",
     "output_type": "stream",
     "text": [
      "Model training completed with accuracy: 0.5353260869565217\n",
      "🏃 View run worried-asp-78 at: http://127.0.0.1:5000/#/experiments/226588470253735036/runs/77af4becc59f4fd78cb5b01005aba914\n",
      "🧪 View experiment at: http://127.0.0.1:5000/#/experiments/226588470253735036\n"
     ]
    },
    {
     "data": {
      "text/plain": [
       "0.5353260869565217"
      ]
     },
     "execution_count": 42,
     "metadata": {},
     "output_type": "execute_result"
    }
   ],
   "source": [
    "train_random_forest(X_train, y_train, X_test, y_test, 5, 3, 2, 1 , model_name=\"optimized model 3\", random_state=42)"
   ]
  },
  {
   "cell_type": "code",
   "execution_count": 43,
   "id": "033d75fd-6938-4ff6-812e-5075a6fa81b3",
   "metadata": {},
   "outputs": [
    {
     "name": "stdout",
     "output_type": "stream",
     "text": [
      "Model saved as 'optimized_rf_model.pkl'\n"
     ]
    }
   ],
   "source": [
    "joblib.dump(best_rf_model, \"optimized_rf_model.pkl\")\n",
    "print(\"Model saved as 'optimized_rf_model.pkl'\")\n"
   ]
  },
  {
   "cell_type": "code",
   "execution_count": 44,
   "id": "d630630f-c4dd-4fde-b801-22c8faf534c4",
   "metadata": {},
   "outputs": [
    {
     "data": {
      "image/png": "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",
      "text/plain": [
       "<Figure size 640x480 with 2 Axes>"
      ]
     },
     "metadata": {},
     "output_type": "display_data"
    }
   ],
   "source": [
    "from sklearn.metrics import ConfusionMatrixDisplay\n",
    "\n",
    "# Plot confusion matrix\n",
    "ConfusionMatrixDisplay.from_estimator(best_rf_model, X_test_rf, y_test_rf, cmap='Blues')\n",
    "plt.title(\"Confusion Matrix\")\n",
    "plt.show()\n"
   ]
  },
  {
   "cell_type": "code",
   "execution_count": null,
   "id": "5ae88543-d8c8-4f3e-876f-f7d286e4881c",
   "metadata": {},
   "outputs": [],
   "source": [
    "print(len(features))\n",
    "print(len(importances))\n"
   ]
  },
  {
   "cell_type": "code",
   "execution_count": null,
   "id": "280f1354-916c-4b6f-ae79-27a5641d2469",
   "metadata": {},
   "outputs": [],
   "source": [
    "# Trim the importances array to match the number of features\n",
    "importances = importances[:len(features)]\n"
   ]
  },
  {
   "cell_type": "code",
   "execution_count": null,
   "id": "972d2bfd-3691-4c10-8691-b6a71139ebe4",
   "metadata": {},
   "outputs": [],
   "source": [
    "# Create the DataFrame with feature names and importances\n",
    "importance_df = pd.DataFrame({'Feature': features, 'Importance': importances})\n",
    "\n",
    "# Sort the DataFrame by importance in descending order and take the top 10\n",
    "importance_df = importance_df.sort_values(by='Importance', ascending=False).head(10)\n",
    "\n",
    "# Display the top 10 most important features\n",
    "print(importance_df)\n"
   ]
  },
  {
   "cell_type": "markdown",
   "id": "e6df7d92-bf06-4a70-939e-467f272028e4",
   "metadata": {},
   "source": [
    "<h1>K-Nearest Neighbours</h1>"
   ]
  },
  {
   "cell_type": "code",
   "execution_count": 45,
   "id": "7cf6cb6a-672e-45cc-949f-7afbb262a1bd",
   "metadata": {},
   "outputs": [],
   "source": [
    "X_train_knn = X_train\n",
    "y_train_knn = y_train\n",
    "\n",
    "X_test_knn = X_val\n",
    "y_test_knn = y_val"
   ]
  },
  {
   "cell_type": "markdown",
   "id": "961e2284",
   "metadata": {},
   "source": [
    "#### Sparse matrices and transformation"
   ]
  },
  {
   "cell_type": "code",
   "execution_count": 46,
   "id": "052492d5",
   "metadata": {},
   "outputs": [],
   "source": [
    "from scipy.sparse import csr_matrix\n",
    "X_train_sparse = csr_matrix(X_train_knn)\n",
    "X_test_sparse = csr_matrix(X_test_knn)\n",
    "\n",
    "scaler = StandardScaler(with_mean=False)  # Important for sparse matrices\n",
    "X_train_scaled = scaler.fit_transform(X_train_sparse)\n",
    "X_test_scaled = scaler.transform(X_test_sparse)"
   ]
  },
  {
   "cell_type": "markdown",
   "id": "cfd9a447",
   "metadata": {},
   "source": [
    "#### Evaluation"
   ]
  },
  {
   "cell_type": "code",
   "execution_count": 47,
   "id": "e6c61f62",
   "metadata": {},
   "outputs": [],
   "source": [
    "X_train_sampled, _, y_train_sampled, _ = train_test_split(X_train_knn, y_train_knn, train_size=0.1, random_state=42)"
   ]
  },
  {
   "cell_type": "code",
   "execution_count": 39,
   "id": "10be6b77-bffc-48c8-bebb-2eee0afdca0a",
   "metadata": {},
   "outputs": [],
   "source": [
    "# Train the KNN model (multi-label classification assumes one-vs-rest by default)\n",
    "knn = KNeighborsClassifier(n_neighbors=k, algorithm='ball_tree')"
   ]
  },
  {
   "cell_type": "code",
   "execution_count": 40,
   "id": "727fd540-435d-42f0-beda-bc8c0e860d51",
   "metadata": {},
   "outputs": [
    {
     "data": {
      "text/html": [
       "<style>#sk-container-id-2 {\n",
       "  /* Definition of color scheme common for light and dark mode */\n",
       "  --sklearn-color-text: #000;\n",
       "  --sklearn-color-text-muted: #666;\n",
       "  --sklearn-color-line: gray;\n",
       "  /* Definition of color scheme for unfitted estimators */\n",
       "  --sklearn-color-unfitted-level-0: #fff5e6;\n",
       "  --sklearn-color-unfitted-level-1: #f6e4d2;\n",
       "  --sklearn-color-unfitted-level-2: #ffe0b3;\n",
       "  --sklearn-color-unfitted-level-3: chocolate;\n",
       "  /* Definition of color scheme for fitted estimators */\n",
       "  --sklearn-color-fitted-level-0: #f0f8ff;\n",
       "  --sklearn-color-fitted-level-1: #d4ebff;\n",
       "  --sklearn-color-fitted-level-2: #b3dbfd;\n",
       "  --sklearn-color-fitted-level-3: cornflowerblue;\n",
       "\n",
       "  /* Specific color for light theme */\n",
       "  --sklearn-color-text-on-default-background: var(--sg-text-color, var(--theme-code-foreground, var(--jp-content-font-color1, black)));\n",
       "  --sklearn-color-background: var(--sg-background-color, var(--theme-background, var(--jp-layout-color0, white)));\n",
       "  --sklearn-color-border-box: var(--sg-text-color, var(--theme-code-foreground, var(--jp-content-font-color1, black)));\n",
       "  --sklearn-color-icon: #696969;\n",
       "\n",
       "  @media (prefers-color-scheme: dark) {\n",
       "    /* Redefinition of color scheme for dark theme */\n",
       "    --sklearn-color-text-on-default-background: var(--sg-text-color, var(--theme-code-foreground, var(--jp-content-font-color1, white)));\n",
       "    --sklearn-color-background: var(--sg-background-color, var(--theme-background, var(--jp-layout-color0, #111)));\n",
       "    --sklearn-color-border-box: var(--sg-text-color, var(--theme-code-foreground, var(--jp-content-font-color1, white)));\n",
       "    --sklearn-color-icon: #878787;\n",
       "  }\n",
       "}\n",
       "\n",
       "#sk-container-id-2 {\n",
       "  color: var(--sklearn-color-text);\n",
       "}\n",
       "\n",
       "#sk-container-id-2 pre {\n",
       "  padding: 0;\n",
       "}\n",
       "\n",
       "#sk-container-id-2 input.sk-hidden--visually {\n",
       "  border: 0;\n",
       "  clip: rect(1px 1px 1px 1px);\n",
       "  clip: rect(1px, 1px, 1px, 1px);\n",
       "  height: 1px;\n",
       "  margin: -1px;\n",
       "  overflow: hidden;\n",
       "  padding: 0;\n",
       "  position: absolute;\n",
       "  width: 1px;\n",
       "}\n",
       "\n",
       "#sk-container-id-2 div.sk-dashed-wrapped {\n",
       "  border: 1px dashed var(--sklearn-color-line);\n",
       "  margin: 0 0.4em 0.5em 0.4em;\n",
       "  box-sizing: border-box;\n",
       "  padding-bottom: 0.4em;\n",
       "  background-color: var(--sklearn-color-background);\n",
       "}\n",
       "\n",
       "#sk-container-id-2 div.sk-container {\n",
       "  /* jupyter's `normalize.less` sets `[hidden] { display: none; }`\n",
       "     but bootstrap.min.css set `[hidden] { display: none !important; }`\n",
       "     so we also need the `!important` here to be able to override the\n",
       "     default hidden behavior on the sphinx rendered scikit-learn.org.\n",
       "     See: https://github.com/scikit-learn/scikit-learn/issues/21755 */\n",
       "  display: inline-block !important;\n",
       "  position: relative;\n",
       "}\n",
       "\n",
       "#sk-container-id-2 div.sk-text-repr-fallback {\n",
       "  display: none;\n",
       "}\n",
       "\n",
       "div.sk-parallel-item,\n",
       "div.sk-serial,\n",
       "div.sk-item {\n",
       "  /* draw centered vertical line to link estimators */\n",
       "  background-image: linear-gradient(var(--sklearn-color-text-on-default-background), var(--sklearn-color-text-on-default-background));\n",
       "  background-size: 2px 100%;\n",
       "  background-repeat: no-repeat;\n",
       "  background-position: center center;\n",
       "}\n",
       "\n",
       "/* Parallel-specific style estimator block */\n",
       "\n",
       "#sk-container-id-2 div.sk-parallel-item::after {\n",
       "  content: \"\";\n",
       "  width: 100%;\n",
       "  border-bottom: 2px solid var(--sklearn-color-text-on-default-background);\n",
       "  flex-grow: 1;\n",
       "}\n",
       "\n",
       "#sk-container-id-2 div.sk-parallel {\n",
       "  display: flex;\n",
       "  align-items: stretch;\n",
       "  justify-content: center;\n",
       "  background-color: var(--sklearn-color-background);\n",
       "  position: relative;\n",
       "}\n",
       "\n",
       "#sk-container-id-2 div.sk-parallel-item {\n",
       "  display: flex;\n",
       "  flex-direction: column;\n",
       "}\n",
       "\n",
       "#sk-container-id-2 div.sk-parallel-item:first-child::after {\n",
       "  align-self: flex-end;\n",
       "  width: 50%;\n",
       "}\n",
       "\n",
       "#sk-container-id-2 div.sk-parallel-item:last-child::after {\n",
       "  align-self: flex-start;\n",
       "  width: 50%;\n",
       "}\n",
       "\n",
       "#sk-container-id-2 div.sk-parallel-item:only-child::after {\n",
       "  width: 0;\n",
       "}\n",
       "\n",
       "/* Serial-specific style estimator block */\n",
       "\n",
       "#sk-container-id-2 div.sk-serial {\n",
       "  display: flex;\n",
       "  flex-direction: column;\n",
       "  align-items: center;\n",
       "  background-color: var(--sklearn-color-background);\n",
       "  padding-right: 1em;\n",
       "  padding-left: 1em;\n",
       "}\n",
       "\n",
       "\n",
       "/* Toggleable style: style used for estimator/Pipeline/ColumnTransformer box that is\n",
       "clickable and can be expanded/collapsed.\n",
       "- Pipeline and ColumnTransformer use this feature and define the default style\n",
       "- Estimators will overwrite some part of the style using the `sk-estimator` class\n",
       "*/\n",
       "\n",
       "/* Pipeline and ColumnTransformer style (default) */\n",
       "\n",
       "#sk-container-id-2 div.sk-toggleable {\n",
       "  /* Default theme specific background. It is overwritten whether we have a\n",
       "  specific estimator or a Pipeline/ColumnTransformer */\n",
       "  background-color: var(--sklearn-color-background);\n",
       "}\n",
       "\n",
       "/* Toggleable label */\n",
       "#sk-container-id-2 label.sk-toggleable__label {\n",
       "  cursor: pointer;\n",
       "  display: flex;\n",
       "  width: 100%;\n",
       "  margin-bottom: 0;\n",
       "  padding: 0.5em;\n",
       "  box-sizing: border-box;\n",
       "  text-align: center;\n",
       "  align-items: start;\n",
       "  justify-content: space-between;\n",
       "  gap: 0.5em;\n",
       "}\n",
       "\n",
       "#sk-container-id-2 label.sk-toggleable__label .caption {\n",
       "  font-size: 0.6rem;\n",
       "  font-weight: lighter;\n",
       "  color: var(--sklearn-color-text-muted);\n",
       "}\n",
       "\n",
       "#sk-container-id-2 label.sk-toggleable__label-arrow:before {\n",
       "  /* Arrow on the left of the label */\n",
       "  content: \"▸\";\n",
       "  float: left;\n",
       "  margin-right: 0.25em;\n",
       "  color: var(--sklearn-color-icon);\n",
       "}\n",
       "\n",
       "#sk-container-id-2 label.sk-toggleable__label-arrow:hover:before {\n",
       "  color: var(--sklearn-color-text);\n",
       "}\n",
       "\n",
       "/* Toggleable content - dropdown */\n",
       "\n",
       "#sk-container-id-2 div.sk-toggleable__content {\n",
       "  max-height: 0;\n",
       "  max-width: 0;\n",
       "  overflow: hidden;\n",
       "  text-align: left;\n",
       "  /* unfitted */\n",
       "  background-color: var(--sklearn-color-unfitted-level-0);\n",
       "}\n",
       "\n",
       "#sk-container-id-2 div.sk-toggleable__content.fitted {\n",
       "  /* fitted */\n",
       "  background-color: var(--sklearn-color-fitted-level-0);\n",
       "}\n",
       "\n",
       "#sk-container-id-2 div.sk-toggleable__content pre {\n",
       "  margin: 0.2em;\n",
       "  border-radius: 0.25em;\n",
       "  color: var(--sklearn-color-text);\n",
       "  /* unfitted */\n",
       "  background-color: var(--sklearn-color-unfitted-level-0);\n",
       "}\n",
       "\n",
       "#sk-container-id-2 div.sk-toggleable__content.fitted pre {\n",
       "  /* unfitted */\n",
       "  background-color: var(--sklearn-color-fitted-level-0);\n",
       "}\n",
       "\n",
       "#sk-container-id-2 input.sk-toggleable__control:checked~div.sk-toggleable__content {\n",
       "  /* Expand drop-down */\n",
       "  max-height: 200px;\n",
       "  max-width: 100%;\n",
       "  overflow: auto;\n",
       "}\n",
       "\n",
       "#sk-container-id-2 input.sk-toggleable__control:checked~label.sk-toggleable__label-arrow:before {\n",
       "  content: \"▾\";\n",
       "}\n",
       "\n",
       "/* Pipeline/ColumnTransformer-specific style */\n",
       "\n",
       "#sk-container-id-2 div.sk-label input.sk-toggleable__control:checked~label.sk-toggleable__label {\n",
       "  color: var(--sklearn-color-text);\n",
       "  background-color: var(--sklearn-color-unfitted-level-2);\n",
       "}\n",
       "\n",
       "#sk-container-id-2 div.sk-label.fitted input.sk-toggleable__control:checked~label.sk-toggleable__label {\n",
       "  background-color: var(--sklearn-color-fitted-level-2);\n",
       "}\n",
       "\n",
       "/* Estimator-specific style */\n",
       "\n",
       "/* Colorize estimator box */\n",
       "#sk-container-id-2 div.sk-estimator input.sk-toggleable__control:checked~label.sk-toggleable__label {\n",
       "  /* unfitted */\n",
       "  background-color: var(--sklearn-color-unfitted-level-2);\n",
       "}\n",
       "\n",
       "#sk-container-id-2 div.sk-estimator.fitted input.sk-toggleable__control:checked~label.sk-toggleable__label {\n",
       "  /* fitted */\n",
       "  background-color: var(--sklearn-color-fitted-level-2);\n",
       "}\n",
       "\n",
       "#sk-container-id-2 div.sk-label label.sk-toggleable__label,\n",
       "#sk-container-id-2 div.sk-label label {\n",
       "  /* The background is the default theme color */\n",
       "  color: var(--sklearn-color-text-on-default-background);\n",
       "}\n",
       "\n",
       "/* On hover, darken the color of the background */\n",
       "#sk-container-id-2 div.sk-label:hover label.sk-toggleable__label {\n",
       "  color: var(--sklearn-color-text);\n",
       "  background-color: var(--sklearn-color-unfitted-level-2);\n",
       "}\n",
       "\n",
       "/* Label box, darken color on hover, fitted */\n",
       "#sk-container-id-2 div.sk-label.fitted:hover label.sk-toggleable__label.fitted {\n",
       "  color: var(--sklearn-color-text);\n",
       "  background-color: var(--sklearn-color-fitted-level-2);\n",
       "}\n",
       "\n",
       "/* Estimator label */\n",
       "\n",
       "#sk-container-id-2 div.sk-label label {\n",
       "  font-family: monospace;\n",
       "  font-weight: bold;\n",
       "  display: inline-block;\n",
       "  line-height: 1.2em;\n",
       "}\n",
       "\n",
       "#sk-container-id-2 div.sk-label-container {\n",
       "  text-align: center;\n",
       "}\n",
       "\n",
       "/* Estimator-specific */\n",
       "#sk-container-id-2 div.sk-estimator {\n",
       "  font-family: monospace;\n",
       "  border: 1px dotted var(--sklearn-color-border-box);\n",
       "  border-radius: 0.25em;\n",
       "  box-sizing: border-box;\n",
       "  margin-bottom: 0.5em;\n",
       "  /* unfitted */\n",
       "  background-color: var(--sklearn-color-unfitted-level-0);\n",
       "}\n",
       "\n",
       "#sk-container-id-2 div.sk-estimator.fitted {\n",
       "  /* fitted */\n",
       "  background-color: var(--sklearn-color-fitted-level-0);\n",
       "}\n",
       "\n",
       "/* on hover */\n",
       "#sk-container-id-2 div.sk-estimator:hover {\n",
       "  /* unfitted */\n",
       "  background-color: var(--sklearn-color-unfitted-level-2);\n",
       "}\n",
       "\n",
       "#sk-container-id-2 div.sk-estimator.fitted:hover {\n",
       "  /* fitted */\n",
       "  background-color: var(--sklearn-color-fitted-level-2);\n",
       "}\n",
       "\n",
       "/* Specification for estimator info (e.g. \"i\" and \"?\") */\n",
       "\n",
       "/* Common style for \"i\" and \"?\" */\n",
       "\n",
       ".sk-estimator-doc-link,\n",
       "a:link.sk-estimator-doc-link,\n",
       "a:visited.sk-estimator-doc-link {\n",
       "  float: right;\n",
       "  font-size: smaller;\n",
       "  line-height: 1em;\n",
       "  font-family: monospace;\n",
       "  background-color: var(--sklearn-color-background);\n",
       "  border-radius: 1em;\n",
       "  height: 1em;\n",
       "  width: 1em;\n",
       "  text-decoration: none !important;\n",
       "  margin-left: 0.5em;\n",
       "  text-align: center;\n",
       "  /* unfitted */\n",
       "  border: var(--sklearn-color-unfitted-level-1) 1pt solid;\n",
       "  color: var(--sklearn-color-unfitted-level-1);\n",
       "}\n",
       "\n",
       ".sk-estimator-doc-link.fitted,\n",
       "a:link.sk-estimator-doc-link.fitted,\n",
       "a:visited.sk-estimator-doc-link.fitted {\n",
       "  /* fitted */\n",
       "  border: var(--sklearn-color-fitted-level-1) 1pt solid;\n",
       "  color: var(--sklearn-color-fitted-level-1);\n",
       "}\n",
       "\n",
       "/* On hover */\n",
       "div.sk-estimator:hover .sk-estimator-doc-link:hover,\n",
       ".sk-estimator-doc-link:hover,\n",
       "div.sk-label-container:hover .sk-estimator-doc-link:hover,\n",
       ".sk-estimator-doc-link:hover {\n",
       "  /* unfitted */\n",
       "  background-color: var(--sklearn-color-unfitted-level-3);\n",
       "  color: var(--sklearn-color-background);\n",
       "  text-decoration: none;\n",
       "}\n",
       "\n",
       "div.sk-estimator.fitted:hover .sk-estimator-doc-link.fitted:hover,\n",
       ".sk-estimator-doc-link.fitted:hover,\n",
       "div.sk-label-container:hover .sk-estimator-doc-link.fitted:hover,\n",
       ".sk-estimator-doc-link.fitted:hover {\n",
       "  /* fitted */\n",
       "  background-color: var(--sklearn-color-fitted-level-3);\n",
       "  color: var(--sklearn-color-background);\n",
       "  text-decoration: none;\n",
       "}\n",
       "\n",
       "/* Span, style for the box shown on hovering the info icon */\n",
       ".sk-estimator-doc-link span {\n",
       "  display: none;\n",
       "  z-index: 9999;\n",
       "  position: relative;\n",
       "  font-weight: normal;\n",
       "  right: .2ex;\n",
       "  padding: .5ex;\n",
       "  margin: .5ex;\n",
       "  width: min-content;\n",
       "  min-width: 20ex;\n",
       "  max-width: 50ex;\n",
       "  color: var(--sklearn-color-text);\n",
       "  box-shadow: 2pt 2pt 4pt #999;\n",
       "  /* unfitted */\n",
       "  background: var(--sklearn-color-unfitted-level-0);\n",
       "  border: .5pt solid var(--sklearn-color-unfitted-level-3);\n",
       "}\n",
       "\n",
       ".sk-estimator-doc-link.fitted span {\n",
       "  /* fitted */\n",
       "  background: var(--sklearn-color-fitted-level-0);\n",
       "  border: var(--sklearn-color-fitted-level-3);\n",
       "}\n",
       "\n",
       ".sk-estimator-doc-link:hover span {\n",
       "  display: block;\n",
       "}\n",
       "\n",
       "/* \"?\"-specific style due to the `<a>` HTML tag */\n",
       "\n",
       "#sk-container-id-2 a.estimator_doc_link {\n",
       "  float: right;\n",
       "  font-size: 1rem;\n",
       "  line-height: 1em;\n",
       "  font-family: monospace;\n",
       "  background-color: var(--sklearn-color-background);\n",
       "  border-radius: 1rem;\n",
       "  height: 1rem;\n",
       "  width: 1rem;\n",
       "  text-decoration: none;\n",
       "  /* unfitted */\n",
       "  color: var(--sklearn-color-unfitted-level-1);\n",
       "  border: var(--sklearn-color-unfitted-level-1) 1pt solid;\n",
       "}\n",
       "\n",
       "#sk-container-id-2 a.estimator_doc_link.fitted {\n",
       "  /* fitted */\n",
       "  border: var(--sklearn-color-fitted-level-1) 1pt solid;\n",
       "  color: var(--sklearn-color-fitted-level-1);\n",
       "}\n",
       "\n",
       "/* On hover */\n",
       "#sk-container-id-2 a.estimator_doc_link:hover {\n",
       "  /* unfitted */\n",
       "  background-color: var(--sklearn-color-unfitted-level-3);\n",
       "  color: var(--sklearn-color-background);\n",
       "  text-decoration: none;\n",
       "}\n",
       "\n",
       "#sk-container-id-2 a.estimator_doc_link.fitted:hover {\n",
       "  /* fitted */\n",
       "  background-color: var(--sklearn-color-fitted-level-3);\n",
       "}\n",
       "</style><div id=\"sk-container-id-2\" class=\"sk-top-container\"><div class=\"sk-text-repr-fallback\"><pre>KNeighborsClassifier(algorithm=&#x27;ball_tree&#x27;, n_neighbors=1)</pre><b>In a Jupyter environment, please rerun this cell to show the HTML representation or trust the notebook. <br />On GitHub, the HTML representation is unable to render, please try loading this page with nbviewer.org.</b></div><div class=\"sk-container\" hidden><div class=\"sk-item\"><div class=\"sk-estimator fitted sk-toggleable\"><input class=\"sk-toggleable__control sk-hidden--visually\" id=\"sk-estimator-id-2\" type=\"checkbox\" checked><label for=\"sk-estimator-id-2\" class=\"sk-toggleable__label fitted sk-toggleable__label-arrow\"><div><div>KNeighborsClassifier</div></div><div><a class=\"sk-estimator-doc-link fitted\" rel=\"noreferrer\" target=\"_blank\" href=\"https://scikit-learn.org/1.6/modules/generated/sklearn.neighbors.KNeighborsClassifier.html\">?<span>Documentation for KNeighborsClassifier</span></a><span class=\"sk-estimator-doc-link fitted\">i<span>Fitted</span></span></div></label><div class=\"sk-toggleable__content fitted\"><pre>KNeighborsClassifier(algorithm=&#x27;ball_tree&#x27;, n_neighbors=1)</pre></div> </div></div></div></div>"
      ],
      "text/plain": [
       "KNeighborsClassifier(algorithm='ball_tree', n_neighbors=1)"
      ]
     },
     "execution_count": 40,
     "metadata": {},
     "output_type": "execute_result"
    }
   ],
   "source": [
    "knn.fit(X_train_scaled, y_train_knn)"
   ]
  },
  {
   "cell_type": "code",
   "execution_count": 41,
   "id": "16ef5cc6-2004-4d37-95d6-43fb8c03e6da",
   "metadata": {},
   "outputs": [],
   "source": [
    "y_pred_knn = knn.predict(X_test_scaled)\n"
   ]
  },
  {
   "cell_type": "markdown",
   "id": "44d67fb4",
   "metadata": {},
   "source": [
    "#### Model Tuning"
   ]
  },
  {
   "cell_type": "code",
   "execution_count": 44,
   "id": "48a767ac-4d1c-44ba-8c0a-df940ba6c328",
   "metadata": {},
   "outputs": [
    {
     "name": "stdout",
     "output_type": "stream",
     "text": [
      "Accuracy for K=1: 0.8442\n",
      "Accuracy for K=3: 0.8786\n",
      "Accuracy for K=5: 0.9085\n",
      "Accuracy for K=7: 0.9203\n",
      "Accuracy for K=9: 0.9339\n",
      "Accuracy for K=15: 0.9529\n",
      "Accuracy for K=20: 0.9466\n"
     ]
    }
   ],
   "source": [
    "#For the n neigbors = 3\n",
    "from sklearn.metrics import accuracy_score\n",
    "\n",
    "k_values = [1, 3, 5, 7, 9, 15, 20]\n",
    "\n",
    "# List to store accuracy scores of each KNN model for comparison\n",
    "scores = []\n",
    "\n",
    "# Loop over each value of k \n",
    "for k in k_values:\n",
    "    knn = KNeighborsClassifier(n_neighbors=k)\n",
    "    knn.fit(X_train_sampled, y_train_sampled)\n",
    "    y_pred_knn = knn.predict(X_test_scaled)\n",
    "    accuracy = accuracy_score(y_test_knn, y_pred_knn)\n",
    "    scores.append(accuracy)\n",
    "    print(f\"Accuracy for K={k}: {accuracy:.4f}\")"
   ]
  },
  {
   "cell_type": "code",
   "execution_count": 48,
   "id": "721867b1-3c92-4ec6-ad07-5257b03a6cdf",
   "metadata": {},
   "outputs": [
    {
     "name": "stdout",
     "output_type": "stream",
     "text": [
      "    k  accuracy  precision    recall  f1_score  log_loss\n",
      "0   1  0.844203   0.845237  0.844203  0.844261  5.615497\n",
      "1   3  0.878623   0.882490  0.878623  0.878746  1.593428\n",
      "2   5  0.908514   0.910900  0.908514  0.908508  1.035057\n",
      "3   7  0.920290   0.921978  0.920290  0.920367  0.749809\n",
      "4   9  0.933877   0.934763  0.933877  0.933903  0.518189\n",
      "5  15  0.952899   0.953347  0.952899  0.952861  0.408178\n",
      "6  20  0.946558   0.947645  0.946558  0.946602  0.435270\n",
      "\n",
      "Best performing K based on Log Loss: 15\n"
     ]
    }
   ],
   "source": [
    "from sklearn.metrics import accuracy_score, precision_score, recall_score, f1_score, log_loss\n",
    "# List of k values to evaluate\n",
    "k_values = [1, 3, 5, 7, 9, 15, 20]\n",
    "\n",
    "# List to store metrics for comparison\n",
    "metrics = {\n",
    "    'k': [],\n",
    "    'accuracy': [],\n",
    "    'precision': [],\n",
    "    'recall': [],\n",
    "    'f1_score': [],\n",
    "    'log_loss': []  # Add log_loss to the metrics\n",
    "}\n",
    "\n",
    "# Loop over each value of k\n",
    "for k in k_values:\n",
    "    # Initialize and train the KNN model\n",
    "    knn = KNeighborsClassifier(n_neighbors=k)\n",
    "    knn.fit(X_train_sampled, y_train_sampled)  # Use X_train_sampled instead of X_train_knn\n",
    "    \n",
    "    # Get predictions\n",
    "    y_pred_knn = knn.predict(X_test_scaled)  # Use X_test_sampled instead of X_test_knn\n",
    "    y_pred_proba_knn = knn.predict_proba(X_test_scaled)  # Predicted probabilities for log loss\n",
    "    \n",
    "    # Compute metrics\n",
    "    accuracy = accuracy_score(y_test_knn, y_pred_knn)\n",
    "    precision = precision_score(y_test_knn, y_pred_knn, average='weighted', zero_division=0)\n",
    "    recall = recall_score(y_test_knn, y_pred_knn, average='weighted', zero_division=0)\n",
    "    f1 = f1_score(y_test_knn, y_pred_knn, average='weighted')\n",
    "    loss = log_loss(y_test_knn, y_pred_proba_knn)  # Log loss calculation\n",
    "    \n",
    "    # Store the metrics\n",
    "    metrics['k'].append(k)\n",
    "    metrics['accuracy'].append(accuracy)\n",
    "    metrics['precision'].append(precision)\n",
    "    metrics['recall'].append(recall)\n",
    "    metrics['f1_score'].append(f1)\n",
    "    metrics['log_loss'].append(loss)  # Add log_loss to the list\n",
    "\n",
    "# Convert metrics to DataFrame for tabular display\n",
    "metrics_df = pd.DataFrame(metrics)\n",
    "\n",
    "# Print the table\n",
    "print(metrics_df)\n",
    "\n",
    "# Find the best k based on accuracy and log loss\n",
    "best_k_accuracy = metrics['k'][np.argmax(metrics['accuracy'])]  # Use np.argmax for accuracy\n",
    "best_k_loss = metrics['k'][np.argmin(metrics['log_loss'])]  # Use np.argmin for log loss\n",
    "\n",
    "print(f\"\\nBest performing K based on Accuracy: {best_k_accuracy}\")\n",
    "print(f\"Best performing K based on Log Loss: {best_k_loss}\")\n"
   ]
  },
  {
   "cell_type": "code",
   "execution_count": 50,
   "id": "57fe7f4f-5d23-40be-a1b8-5ecea8d2deae",
   "metadata": {},
   "outputs": [
    {
     "name": "stdout",
     "output_type": "stream",
     "text": [
      "Fitting 5 folds for each of 16 candidates, totalling 80 fits\n",
      "Best Hyperparameters: {'metric': 'manhattan', 'n_neighbors': 5, 'weights': 'distance'}\n"
     ]
    }
   ],
   "source": [
    "# Step 2: Define Hyperparameter Ranges for Tuning\n",
    "param_grid = {\n",
    "    'n_neighbors': [ 5,7, 9,15],          # Number of neighbors\n",
    "    'weights': ['uniform', 'distance'],      # Weighting scheme\n",
    "    'metric': ['euclidean', 'manhattan']     # Distance metrics\n",
    "}\n",
    "\n",
    "# Step 3: Initialize and Perform Grid Search\n",
    "knn = KNeighborsClassifier()\n",
    "grid_search = GridSearchCV(knn, param_grid, cv=5, scoring='accuracy', verbose=1)\n",
    "grid_search.fit(X_train_scaled, y_train_knn)\n",
    "\n",
    "# Step 4: Display the Best Hyperparameters\n",
    "print(\"Best Hyperparameters:\", grid_search.best_params_)"
   ]
  },
  {
   "cell_type": "code",
   "execution_count": 51,
   "id": "7c403b37-9cb6-470c-b39a-4d18852e7998",
   "metadata": {},
   "outputs": [
    {
     "name": "stdout",
     "output_type": "stream",
     "text": [
      "\n",
      "Classification Report (Test Dataset):\n",
      "               precision    recall  f1-score   support\n",
      "\n",
      "     business       1.00      0.72      0.84       245\n",
      "    education       0.52      1.00      0.68       274\n",
      "entertainment       1.00      0.71      0.83       178\n",
      "       sports       1.00      0.74      0.85       137\n",
      "   technology       1.00      0.62      0.76       270\n",
      "\n",
      "     accuracy                           0.77      1104\n",
      "    macro avg       0.90      0.76      0.79      1104\n",
      " weighted avg       0.88      0.77      0.78      1104\n",
      "\n"
     ]
    }
   ],
   "source": [
    "best_knn = grid_search.best_estimator_\n",
    "y_test_pred = best_knn.predict(X_test_scaled)\n",
    "\n",
    "print(\"\\nClassification Report (Test Dataset):\")\n",
    "print(classification_report(y_test_knn, y_test_pred))"
   ]
  },
  {
   "cell_type": "markdown",
   "id": "da8f5c65",
   "metadata": {},
   "source": [
    "#### MLFLow"
   ]
  },
  {
   "cell_type": "code",
   "execution_count": 52,
   "id": "a83604b0",
   "metadata": {},
   "outputs": [],
   "source": [
    "import mlflow "
   ]
  },
  {
   "cell_type": "code",
   "execution_count": 59,
   "id": "25cc5756",
   "metadata": {},
   "outputs": [
    {
     "name": "stdout",
     "output_type": "stream",
     "text": [
      "Fitting 5 folds for each of 16 candidates, totalling 80 fits\n",
      "Best Hyperparameters: {'metric': 'manhattan', 'n_neighbors': 5, 'weights': 'distance'}\n"
     ]
    },
    {
     "name": "stderr",
     "output_type": "stream",
     "text": [
      "2025/01/31 06:46:48 WARNING mlflow.models.model: Model logged without a signature and input example. Please set `input_example` parameter when logging the model to auto infer the model signature.\n"
     ]
    },
    {
     "name": "stdout",
     "output_type": "stream",
     "text": [
      "Logged best KNN model with accuracy: 0.7663 to MLflow\n",
      "Best KNN model saved locally as 'best_knn_model.pkl'\n"
     ]
    }
   ],
   "source": [
    "import mlflow\n",
    "import mlflow.sklearn\n",
    "import joblib\n",
    "from sklearn.model_selection import GridSearchCV\n",
    "from sklearn.neighbors import KNeighborsClassifier\n",
    "from sklearn.metrics import accuracy_score\n",
    "\n",
    "# Step 1: Define Hyperparameter Ranges for Tuning\n",
    "param_grid = {\n",
    "    'n_neighbors': [5, 7, 9, 15],  # Number of neighbors\n",
    "    'weights': ['uniform', 'distance'],  # Weighting scheme\n",
    "    'metric': ['euclidean', 'manhattan']  # Distance metrics\n",
    "}\n",
    "\n",
    "# Step 2: Initialize KNN and GridSearchCV\n",
    "knn = KNeighborsClassifier()\n",
    "grid_search = GridSearchCV(knn, param_grid, cv=5, scoring='accuracy', verbose=1)\n",
    "\n",
    "# Step 3: Fit the GridSearchCV on the training data\n",
    "grid_search.fit(X_train_scaled, y_train_knn)\n",
    "\n",
    "# Step 4: Display the Best Hyperparameters\n",
    "print(\"Best Hyperparameters:\", grid_search.best_params_)\n",
    "\n",
    "# Step 5: Log the best model to MLflow\n",
    "with mlflow.start_run():\n",
    "    mlflow.sklearn.log_model(grid_search.best_estimator_, \"knn_model\")\n",
    "\n",
    "    # Log the accuracy of the model\n",
    "    accuracy = accuracy_score(y_test_knn, grid_search.best_estimator_.predict(X_test_scaled))\n",
    "    mlflow.log_metric(\"accuracy\", accuracy)\n",
    "\n",
    "    print(f\"Logged best KNN model with accuracy: {accuracy:.4f} to MLflow\")\n",
    "\n",
    "# Step 6: Save the best model locally using joblib\n",
    "joblib.dump(grid_search.best_estimator_, \"best_knn_model.pkl\")\n",
    "print(\"Best KNN model saved locally as 'best_knn_model.pkl'\")\n"
   ]
  },
  {
<<<<<<< HEAD
   "cell_type": "markdown",
   "id": "7372d3c7-ea1b-4fe7-a7af-4c2429da1204",
   "metadata": {},
   "source": [
    "**Naive Baye's**"
   ]
  },
  {
   "cell_type": "code",
   "execution_count": 80,
   "id": "99237f6d-8009-4c34-aeb0-89df75b4609c",
   "metadata": {},
   "outputs": [
    {
     "name": "stdout",
     "output_type": "stream",
     "text": [
      "Accuracy: 0.964975845410628\n",
      "               precision    recall  f1-score   support\n",
      "\n",
      "     business       0.96      0.95      0.95       373\n",
      "    education       0.99      0.97      0.98       426\n",
      "entertainment       0.98      0.99      0.98       263\n",
      "       sports       0.97      0.97      0.97       199\n",
      "   technology       0.94      0.95      0.94       395\n",
      "\n",
      "     accuracy                           0.96      1656\n",
      "    macro avg       0.97      0.97      0.97      1656\n",
      " weighted avg       0.97      0.96      0.97      1656\n",
      "\n"
     ]
    }
   ],
   "source": [
    "# Dropping the columns 'headlines' and 'description' to get the feature set\n",
    "X = train_df.drop(columns=['category']) \n",
    "y = train_df['category'] \n",
    "\n",
    "# Splitting the dataset into 70% training and 30% testing\n",
    "from sklearn.model_selection import train_test_split\n",
    "X_train, X_test, y_train, y_test = train_test_split(X, y, test_size=0.3, random_state=42)\n",
    "\n",
    "# Fit a Naive Bayes model\n",
    "from sklearn.naive_bayes import MultinomialNB\n",
    "from sklearn.feature_extraction.text import TfidfVectorizer\n",
    "\n",
    "# Vectorize text data using TF-IDF for the 'content' column\n",
    "tfidf = TfidfVectorizer(max_features=1000)\n",
    "X_train_tfidf = tfidf.fit_transform(X_train['content'])\n",
    "X_test_tfidf = tfidf.transform(X_test['content'])\n",
    "\n",
    "# Train the Naive Bayes classifier\n",
    "nb = MultinomialNB()\n",
    "nb.fit(X_train_tfidf, y_train)\n",
    "\n",
    "# Predict on the test set\n",
    "y_pred = nb.predict(X_test_tfidf)\n",
    "\n",
    "# Evaluate the model\n",
    "from sklearn.metrics import classification_report, accuracy_score\n",
    "print(f\"Accuracy: {accuracy_score(y_test, y_pred)}\")\n",
    "print(classification_report(y_test, y_pred))"
   ]
  },
  {
   "cell_type": "markdown",
   "id": "d0a2df07-fd60-40c1-bcf0-8c5b06c2bae0",
   "metadata": {},
   "source": [
    "_This Naive Bayes model is highly effective for text classification, showing strong accuracy and balanced precision-recall across all categories._"
   ]
  },
  {
   "cell_type": "code",
   "execution_count": 82,
   "id": "2bb14fd3-de88-4698-8fb1-9e026503c02d",
   "metadata": {},
   "outputs": [
    {
     "name": "stdout",
     "output_type": "stream",
     "text": [
      "Fitting 5 folds for each of 12 candidates, totalling 60 fits\n",
      "Best Parameters: {'nb__alpha': 0.1, 'tfidf__max_features': 1500}\n",
      "Best Cross-validation Accuracy: 0.9679108379304104\n",
      "Accuracy on Test Data: 0.9698067632850241\n",
      "               precision    recall  f1-score   support\n",
      "\n",
      "     business       0.96      0.95      0.96       373\n",
      "    education       1.00      0.98      0.99       426\n",
      "entertainment       0.97      0.99      0.98       263\n",
      "       sports       0.97      0.97      0.97       199\n",
      "   technology       0.95      0.96      0.95       395\n",
      "\n",
      "     accuracy                           0.97      1656\n",
      "    macro avg       0.97      0.97      0.97      1656\n",
      " weighted avg       0.97      0.97      0.97      1656\n",
      "\n"
     ]
    }
   ],
   "source": [
    "from sklearn.model_selection import GridSearchCV\n",
    "from sklearn.naive_bayes import MultinomialNB\n",
    "from sklearn.feature_extraction.text import TfidfVectorizer\n",
    "\n",
    "# The TF-IDF Vectorizer and Naive Bayes\n",
    "tfidf = TfidfVectorizer(stop_words='english')\n",
    "nb = MultinomialNB()\n",
    "\n",
    "# parameter grid\n",
    "param_grid = {\n",
    "    'tfidf__max_features': [500, 1000, 1500],  # Number of features for TF-IDF\n",
    "    'nb__alpha': [0.1, 0.5, 1.0, 2.0]  # Regularization parameter for Naive Bayes\n",
    "}\n",
    "\n",
    "# pipeline for grid search\n",
    "from sklearn.pipeline import Pipeline\n",
    "pipeline = Pipeline([\n",
    "    ('tfidf', tfidf),\n",
    "    ('nb', nb)\n",
    "])\n",
    "\n",
    "# Performming grid search with cross-validation\n",
    "grid_search = GridSearchCV(pipeline, param_grid, cv=5, scoring='accuracy', n_jobs=-1, verbose=2)\n",
    "\n",
    "# Fit the model\n",
    "grid_search.fit(X_train['content'], y_train)\n",
    "\n",
    "# Print the best parameters and the best score\n",
    "print(\"Best Parameters:\", grid_search.best_params_)\n",
    "print(\"Best Cross-validation Accuracy:\", grid_search.best_score_)\n",
    "\n",
    "# Evaluate the model with the best parameters\n",
    "best_model = grid_search.best_estimator_\n",
    "y_pred = best_model.predict(X_test['content'])\n",
    "\n",
    "# Evaluate the final model\n",
    "from sklearn.metrics import accuracy_score, classification_report\n",
    "print(f\"Accuracy on Test Data: {accuracy_score(y_test, y_pred)}\")\n",
    "print(classification_report(y_test, y_pred))"
   ]
  },
  {
   "cell_type": "markdown",
   "id": "7c814e7c-8d7d-46af-bb5b-65aea0945681",
   "metadata": {},
   "source": [
    "_Tuning hyperparameters improved the model's accuracy from 96.50% → 96.98%. The model generalizes better based on cross-validation. Overall, the optimized Naive Bayes model is highly effective for text classification with nearly 97% accuracy!_"
   ]
  },
  {
   "cell_type": "code",
   "execution_count": 84,
   "id": "ae2aa4ed-ef6b-4159-ad4e-1311069c02cd",
   "metadata": {},
   "outputs": [
    {
     "data": {
      "image/png": "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",
      "text/plain": [
       "<Figure size 1000x700 with 2 Axes>"
      ]
     },
     "metadata": {},
     "output_type": "display_data"
    }
   ],
   "source": [
    "from sklearn.metrics import confusion_matrix\n",
    "import seaborn as sns\n",
    "import matplotlib.pyplot as plt\n",
    "\n",
    "# Confusion matrix\n",
    "cm = confusion_matrix(y_test, y_pred)\n",
    "\n",
    "# Class labels from the training data\n",
    "class_labels = y_train.unique()\n",
    "\n",
    "# Confusion matrix as a heatmap\n",
    "plt.figure(figsize=(10, 7))\n",
    "sns.heatmap(cm, annot=True, fmt='d', cmap='Blues', xticklabels=class_labels, yticklabels=class_labels)\n",
    "plt.xlabel('Predicted')\n",
    "plt.ylabel('True')\n",
    "plt.title('Confusion Matrix')\n",
    "plt.show()"
   ]
  },
  {
   "cell_type": "markdown",
   "id": "f4f2e372-d375-475c-a5be-e89ed81e7213",
   "metadata": {},
   "source": [
    "_The confusion matrix demonstrates strong classification performance, with the majority of predictions falling on the diagonal, indicating correct classifications for all five categories._"
   ]
  },
  {
   "cell_type": "code",
   "execution_count": 86,
   "id": "d82d149f-2460-477c-848e-2ee9da20dbf7",
   "metadata": {},
   "outputs": [
    {
     "data": {
      "image/png": "iVBORw0KGgoAAAANSUhEUgAAA3MAAAIhCAYAAADkeOMyAAAAOXRFWHRTb2Z0d2FyZQBNYXRwbG90bGliIHZlcnNpb24zLjguNCwgaHR0cHM6Ly9tYXRwbG90bGliLm9yZy8fJSN1AAAACXBIWXMAAA9hAAAPYQGoP6dpAAB+vUlEQVR4nOzdd3QV1f7+8eeknfRDCyFAIEAgFEPoSpEiVcqlSBGp0kREBJSSKyVRIYIiYAEVlWIBlHaVjkAAQekRlAgYiaAEIyA51ADJ/P7gx/l6SIAEEpKTvF9rzbqZmT17PjPMWvc+d8/ZYzIMwxAAAAAAwKE45XQBAAAAAIDMI8wBAAAAgAMizAEAAACAAyLMAQAAAIADIswBAAAAgAMizAEAAACAAyLMAQAAAIADIswBAAAAgAMizAEAAACAAyLMAUAeZTKZMrRER0dnax0JCQkaN26c6tatqyJFisjX11c1a9bUhx9+qJSUlDTtL1y4oOHDh6t48eJyd3dXtWrVtGjRogydKyIiQiaTSadPn87qy3hgZs2apXnz5j2Qc+3YsUMRERE6d+5chtrfvL/pLe+++26uqBEA8hOXnC4AAJA9vv/+e7v1V199VZs3b9amTZvstleuXDlb69i7d68WLFig3r17a/z48XJ1ddWaNWv07LPP6ocfftAnn3xi175Tp07avXu3Xn/9dVWoUEFffPGFunfvrtTUVD311FPZWmtuMGvWLBUpUkR9+/bN9nPt2LFDkZGR6tu3rwoUKJDh49auXSuLxWK3rUyZMllc3Q33WiMA5AeEOQDIox555BG7dT8/Pzk5OaXZnt3q16+vuLg4ubq62rY1b95cV69e1XvvvafIyEgFBgZKklavXq0NGzbYApwkNWnSRL///rtGjRqlbt26ydnZ+YHW/6BcunRJnp6eOV1GhtSsWVNFihTJ6TLuy+XLl+Xu7i6TyZTTpQDAPeM1SwDIx86ePashQ4aoRIkScnNzU9myZfXyyy8rOTnZrp3JZNLQoUP1wQcfqEKFCjKbzapcuXKGXn8sWLCgXZC7qU6dOpKkP/74w7Zt+fLl8vb2VpcuXezaPv300zp58qR27tyZ6Wts3LixHnroIX3//feqV6+ePDw8FBQUpLlz50qSVq1apRo1asjT01OhoaFau3at3fE3Xy3cv3+/OnXqJF9fX1ksFvXs2VN///23XdvU1FRNnTpVFStWlNlsVtGiRdW7d2+7a/x3TVu3blW9evXk6empfv36KSgoSD///LO2bNlie30xKChIknTlyhW9+OKLqlatmiwWiwoVKqS6devqf//7X5prvvnv9emnn6pSpUry9PRUWFiYVq5caXddo0aNknRjVC2rXrs1DEOzZs1StWrV5OHhoYIFC6pz58767bff7Npt2LBB7du3V8mSJeXu7q7g4GA988wzdq/I3q1Gk8mkiIiINDUEBQXZjWzOmzdPJpNJ69evV79+/eTn5ydPT0/bc7548WLVrVtXXl5e8vb2VsuWLbV//367Pn/77Tc9+eSTKl68uMxms/z9/dW0aVPFxMTc1/0CgPvByBwA5FNXrlxRkyZNFBcXp8jISFWtWlXbtm1TVFSUYmJitGrVKrv2X3/9tTZv3qxXXnlFXl5emjVrlrp37y4XFxd17tw50+fftGmTXFxcVKFCBdu2n376SZUqVZKLi/1/PVWtWtW2v169epk+16lTp/T0009r9OjRKlmypN555x3169dPJ06c0JIlS/Tf//5XFotFr7zyijp06KDffvtNxYsXt+ujY8eO6tq1qwYPHqyff/5Z48eP16FDh7Rz505bWH322Wf14YcfaujQoWrbtq3i4+M1fvx4RUdHa9++fXajWQkJCerZs6dGjx6tyZMny8nJSWPGjFHnzp1lsVg0a9YsSZLZbJYkJScn6+zZs3rppZdUokQJXb16Vd9++606deqkuXPnqnfv3nb1rlq1Srt379Yrr7wib29vTZ06VR07dtThw4dVtmxZDRgwQGfPntU777yjZcuWKSAgQFLGXrtNSUnR9evXbesmk8k2YvrMM89o3rx5GjZsmKZMmaKzZ8/qlVdeUb169fTjjz/K399fkhQXF6e6detqwIABslgsio+P11tvvaUGDRro4MGDcnV1va8a09OvXz+1adNGn376qS5evChXV1dNnjxZ48aN09NPP61x48bp6tWreuONN/Too49q165dtnO1bt1aKSkpmjp1qkqVKqXTp09rx44d/JYPQM4yAAD5Qp8+fQwvLy/b+vvvv29IMr788ku7dlOmTDEkGevXr7dtk2R4eHgYp06dsm27fv26UbFiRSM4ODjTtaxbt85wcnIyRowYYbe9fPnyRsuWLdO0P3nypCHJmDx58h37nThxoiHJ+Pvvv23bGjVqZEgy9uzZY9t25swZw9nZ2fDw8DD+/PNP2/aYmBhDkvH222+n6fPWWj///HNDkvHZZ58ZhmEYsbGxhiRjyJAhdu127txpSDL++9//pqlp48aNaa6hSpUqRqNGje54nYZx4/5fu3bN6N+/v1G9enW7fZIMf39/w2q12radOnXKcHJyMqKiomzb3njjDUOScezYsbuezzD+717cupQoUcIwDMP4/vvvDUnGtGnT7I47ceKE4eHhYYwePTrdflNTU41r164Zv//+uyHJ+N///pehGiUZEydOTLO9dOnSRp8+fWzrc+fONSQZvXv3tmt3/Phxw8XFxXj++efttp8/f94oVqyY0bVrV8MwDOP06dOGJGPGjBm3vTcAkBN4zRIA8qlNmzbJy8srzajazdfTNm7caLe9adOmtlEVSXJ2dla3bt3066+/pnmN8E727dunrl276pFHHlFUVFSa/Xf6DdO9/r4pICBANWvWtK0XKlRIRYsWVbVq1exG4CpVqiRJ+v3339P00aNHD7v1rl27ysXFRZs3b5Yk23/eOnFJnTp1VKlSpTT3s2DBgnrssccydR1fffWV6tevL29vb7m4uMjV1VUff/yxYmNj07Rt0qSJfHx8bOv+/v4qWrRouteWWd9++612795tW1avXi1JWrlypUwmk3r27Knr16/blmLFiiksLMzuFc7ExEQNHjxYgYGBtmspXbq0JKV7PVnhiSeesFtft26drl+/rt69e9vV6+7urkaNGtnqLVSokMqVK6c33nhDb731lvbv36/U1NRsqREAMoPXLAEgnzpz5oyKFSuWJiAVLVpULi4uOnPmjN32YsWKpenj5rYzZ86oZMmSdz3n/v371bx5c5UvX16rV6+2vUJ4U+HChdOcV7rx2z7pxv+ovhfpHefm5pZmu5ubm6Qbr6De6tbrd3Fxsav35n/efBXw34oXL54mRKXX7k6WLVumrl27qkuXLho1apSKFSsmFxcXzZ49O82MoNKNe3krs9msy5cvZ+q86QkLC0t3ApS//vpLhmHYhf5/K1u2rKQbvy1s0aKFTp48qfHjxys0NFReXl5KTU3VI488kiU1pufWe/7XX39JkmrXrp1ueyenG/+ft8lk0saNG/XKK69o6tSpevHFF1WoUCH16NFDkyZNsgvNAPAgEeYAIJ8qXLiwdu7cKcMw7AJdYmKirl+/nuZ/rJ86dSpNHze3pRccbrV//341a9ZMpUuX1vr169NMbS9JoaGhWrhwoa5fv273u7mDBw9Kkh566KGMXVw2OHXqlEqUKGFbv379us6cOWO79pv/mZCQkCbYnjx5Ms39zOwo42effaYyZcpo8eLFdsfeOllNTipSpIhMJpO2bduWJqhL//f7v59++kk//vij5s2bpz59+tj2//rrr5k6n9lsTvf60/s/BKS09/zmv8mSJUtso4K3U7p0aX388ceSpCNHjujLL79URESErl69qvfffz9TdQNAVuE1SwDIp5o2baoLFy5oxYoVdtsXLFhg2/9vGzdutI1kSDcmwVi8eLHKlSt311G5mJgYNWvWTCVLltSGDRtUsGDBdNt17NhRFy5c0NKlS+22z58/X8WLF9fDDz+c0cvLcp9//rnd+pdffqnr16+rcePGkmR7ZfKzzz6za7d7927FxsamuZ+3c7vRM5PJJDc3N7tAcurUqXRns8yom+Eqq0bC2rZtK8Mw9Oeff6pWrVppltDQUEn/F6puDXwffPBBpmoMCgrSgQMH7LZt2rRJFy5cyFC9LVu2lIuLi+Li4tKtt1atWukeV6FCBY0bN06hoaHat29fhs4FANmBkTkAyKd69+6t9957T3369FF8fLxCQ0P13XffafLkyWrdurWaNWtm175IkSJ67LHHNH78eNtslr/88stdP09w+PBhW1+TJk3S0aNHdfToUdv+cuXKyc/PT5L0+OOPq3nz5nr22WdltVoVHByshQsXau3atfrss89y9Btzy5Ytk4uLi5o3b26bzTIsLExdu3aVJIWEhGjQoEF655135OTkpMcff9w2m2VgYKBGjBiRofOEhoZq0aJFWrx4scqWLSt3d3eFhoaqbdu2WrZsmYYMGaLOnTvrxIkTevXVVxUQEGB3PzPjZriaOXOm+vTpI1dXV4WEhNzza4P169fXoEGD9PTTT2vPnj1q2LChvLy8lJCQoO+++06hoaF69tlnVbFiRZUrV05jx46VYRgqVKiQvvnmG23YsCFTNfbq1Uvjx4/XhAkT1KhRIx06dEjvvvtuuqO+6QkKCtIrr7yil19+Wb/99ptatWqlggUL6q+//tKuXbvk5eWlyMhIHThwQEOHDlWXLl1Uvnx5ubm5adOmTTpw4IDGjh17T/cKALJEzs6/AgB4UG6dzdIwbszqOHjwYCMgIMBwcXExSpcubYSHhxtXrlyxayfJeO6554xZs2YZ5cqVM1xdXY2KFSsan3/++V3Pe3Mmwdstc+fOtWt//vx5Y9iwYUaxYsUMNzc3o2rVqsbChQszdI23m82ySpUqadqWLl3aaNOmTZrtN6/11j737t1rtGvXzvD29jZ8fHyM7t27G3/99ZfdsSkpKcaUKVOMChUqGK6urkaRIkWMnj17GidOnLBrd7uaDMMw4uPjjRYtWhg+Pj6GJKN06dK2fa+//roRFBRkmM1mo1KlSsacOXNs9d3pGv59zf+e5dEwDCM8PNwoXry44eTkZEgyNm/enG5d/74X/76/6fnkk0+Mhx9+2PDy8jI8PDyMcuXKGb1797abUfTQoUNG8+bNDR8fH6NgwYJGly5djOPHj6c7Q+XtakxOTjZGjx5tBAYGGh4eHkajRo2MmJiY285muXv37nTrXbFihdGkSRPD19fXMJvNRunSpY3OnTsb3377rWEYhvHXX38Zffv2NSpWrGh4eXkZ3t7eRtWqVY3p06cb169fv+O9AIDsZDIMw3jA+REA4GBMJpOee+45vfvuuzldygMXERGhyMhI/f333+lO+gEAQE7hN3MAAAAA4IAIcwAAAADggHjNEgAAAAAcECNzAAAAAOCACHMAAAAA4IAIcwAAAADggPhoeC6QmpqqkydPysfHRyaTKafLAQAAAJBDDMPQ+fPnVbx4cTk53XnsjTCXC5w8eVKBgYE5XQYAAACAXOLEiRMqWbLkHdsQ5nIBHx8fSTf+wXx9fXO4GgAAAAA5xWq1KjAw0JYR7oQwlwvcfLXS19eXMAcAAAAgQz+/YgIUAAAAAHBAhDkAAAAAcECEOQAAAABwQIQ5AAAAAHBAhDkAAAAAcECEOQAAAABwQIQ5AAAAAHBAhDkAAAAAcECEOQAAAABwQIQ5AAAAAHBAhDkAAAAAcECEOQAAAABwQIQ5AAAAAHBAhDkAAAAAcECEOQAAAABwQIQ5AAAAAHBAhDkAAAAAcECEOQAAAABwQC45XQD+jyUqSnJ3z+kyAABAPmVMnJjTJQDIBEbmAAAAAMABEeYAAAAAwAHl+TDXt29fdejQwbbeuHFjDR8+PMfqAQAAAICskOfDHAAAAADkRYQ5AAAAAHBADhHmUlNTNWXKFAUHB8tsNqtUqVKaNGmSJOngwYN67LHH5OHhocKFC2vQoEG6cOFChvu+evWqRo8erRIlSsjLy0sPP/ywoqOj7drMmTNHgYGB8vT0VMeOHfXWW2+pQIECdm2++eYb1axZU+7u7ipbtqwiIyN1/fr1+710AAAAAEiXQ4S58PBwTZkyRePHj9ehQ4f0xRdfyN/fX5cuXVKrVq1UsGBB7d69W1999ZW+/fZbDR06NMN9P/3009q+fbsWLVqkAwcOqEuXLmrVqpWOHj0qSdq+fbsGDx6sF154QTExMWrevLktSN60bt069ezZU8OGDdOhQ4f0wQcfaN68eWna3ZScnCyr1Wq3AAAAAEBmmAzDMHK6iDs5f/68/Pz89O6772rAgAF2++bMmaMxY8boxIkT8vLykiStXr1a7dq108mTJ+Xv76++ffvq3LlzWrFihaQbE6BUq1ZNM2bMUFxcnMqXL68//vhDxYsXt/XbrFkz1alTR5MnT9aTTz6pCxcuaOXKlbb9PXv21MqVK3Xu3DlJUsOGDfX4448rPDzc1uazzz7T6NGjdfLkyTTXFBERocjIyLQXO3Ys35kDAAA5hu/MATnParXKYrEoKSlJvr6+d2yb60fmYmNjlZycrKZNm6a7LywszBbkJKl+/fpKTU3V4cOH79r3vn37ZBiGKlSoIG9vb9uyZcsWxcXFSZIOHz6sOnXq2B136/revXv1yiuv2PUxcOBAJSQk6NKlS2nOGx4erqSkJNty4sSJDN0LAAAAALjJJacLuBsPD4/b7jMMQyaTKd19t9v+b6mpqXJ2dtbevXvl7Oxst8/b2/u257h1MDM1NVWRkZHq1KlTmnO4pzPSZjabZTab71ofAAAAANxOrg9z5cuXl4eHhzZu3JjmNcvKlStr/vz5unjxom10bvv27XJyclKFChXu2nf16tWVkpKixMREPfroo+m2qVixonbt2mW3bc+ePXbrNWrU0OHDhxUcHJyZSwMAAACAe5brw5y7u7vGjBmj0aNHy83NTfXr19fff/+tn3/+WT169NDEiRPVp08fRURE6O+//9bzzz+vXr16yd/f/659V6hQQT169FDv3r01bdo0Va9eXadPn9amTZsUGhqq1q1b6/nnn1fDhg311ltvqV27dtq0aZPWrFljN1o3YcIEtW3bVoGBgerSpYucnJx04MABHTx4UK+99lp23h4AAAAA+VSu/82cJI0fP14vvviiJkyYoEqVKqlbt25KTEyUp6en1q1bp7Nnz6p27drq3LmzmjZtqnfffTfDfc+dO1e9e/fWiy++qJCQEP3nP//Rzp07FRgYKOnGb/Def/99vfXWWwoLC9PatWs1YsQIu9cnW7ZsqZUrV2rDhg2qXbu2HnnkEb311lsqXbp0lt8LAAAAAJAcYDbL3GjgwIH65ZdftG3btizp7+aMNcxmCQAAchKzWQI5LzOzWeb61yxzgzfffFPNmzeXl5eX1qxZo/nz52vWrFk5XRYAAACAfIwwlwG7du3S1KlTdf78eZUtW1Zvv/12mslYAAAAAOBB4jXLXCAzQ6kAAAAA8q489dFwAAAAAEBahDkAAAAAcECEOQAAAABwQEyAkotYoqL4NAEAAMg1+FQBkLsxMgcAAAAADogwBwAAAAAOiDAHAAAAAA6IMJeOvn37qkOHDjldBgAAAADcFhOgpGPmzJniW+oAAAAAcjPCXDosFktOlwAAAAAAd8Rrlun492uWhmFo6tSpKlu2rDw8PBQWFqYlS5bYtT906JBat24tb29v+fv7q1evXjp9+vRt+09OTpbVarVbAAAAACAzCHN3MW7cOM2dO1ezZ8/Wzz//rBEjRqhnz57asmWLJCkhIUGNGjVStWrVtGfPHq1du1Z//fWXunbtets+o6KiZLFYbEtgYOCDuhwAAAAAeYTJ4MdhafTt21fnzp3T559/riJFimjTpk2qW7eubf+AAQN06dIlffHFF5owYYJ27typdevW2fb/8ccfCgwM1OHDh1WhQoU0/ScnJys5Odm2brVabwS6sWP5aDgAAMg1+Gg48OBZrVZZLBYlJSXJ19f3jm35zdwdHDp0SFeuXFHz5s3ttl+9elXVq1eXJO3du1ebN2+Wt7d3muPj4uLSDXNms1lmszl7igYAAACQLxDm7iA1NVWStGrVKpUoUcJu380wlpqaqnbt2mnKlClpjg8ICMj+IgEAAADkS4S5O6hcubLMZrOOHz+uRo0apdumRo0aWrp0qYKCguTiwu0EAAAA8GAwAcod+Pj46KWXXtKIESM0f/58xcXFaf/+/Xrvvfc0f/58SdJzzz2ns2fPqnv37tq1a5d+++03rV+/Xv369VNKSkoOXwEAAACAvIqhpLt49dVXVbRoUUVFRem3335TgQIFVKNGDf33v/+VJBUvXlzbt2/XmDFj1LJlSyUnJ6t06dJq1aqVnJzIygAAAACyB2EuHcnJybYJTUwmk4YNG6Zhw4bdtn358uW1bNmyB1UeAAAAAPCa5b9dv35dhw4d0vfff68qVarkdDkAAAAAcFuMzP3LTz/9pHr16qlJkyYaPHjwAz9/Unj4Xb8lAQAAAAASYc5OtWrVdOnSpZwuAwAAAADuitcsAQAAAMABEeYAAAAAwAHxmmUuYomKktzdc7oMAACAOzImTszpEgCIkTkAAAAAcEiEOQAAAABwQIQ5AAAAAHBA+S7MRUREqFq1arb1vn37qkOHDrb1xo0ba/jw4Q+8LgAAAADIDCZAucWyZcvk6uqa02UAAAAAwB0R5m5RqFChnC4BAAAAAO4q069ZpqamasqUKQoODpbZbFapUqU0adIkSdLBgwf12GOPycPDQ4ULF9agQYN04cIF27HpvcLYoUMH9e3b17YeFBSkyZMnq1+/fvLx8VGpUqX04Ycf2vZfvXpVQ4cOVUBAgNzd3RUUFKSoqCjb/qSkJA0aNEhFixaVr6+vHnvsMf34448Zvr5ba7xbPZK0Y8cOVatWTe7u7qpVq5ZWrFghk8mkmJiYDJ8XAAAAADIj02EuPDxcU6ZM0fjx43Xo0CF98cUX8vf316VLl9SqVSsVLFhQu3fv1ldffaVvv/1WQ4cOzXRR06ZNU61atbR//34NGTJEzz77rH755RdJ0ttvv62vv/5aX375pQ4fPqzPPvtMQUFBkiTDMNSmTRudOnVKq1ev1t69e1WjRg01bdpUZ8+ezXQdGann/PnzateunUJDQ7Vv3z69+uqrGjNmzB37S05OltVqtVsAAAAAIDMy9Zrl+fPnNXPmTL377rvq06ePJKlcuXJq0KCB5syZo8uXL2vBggXy8vKSJL377rtq166dpkyZIn9//wyfp3Xr1hoyZIgkacyYMZo+fbqio6NVsWJFHT9+XOXLl1eDBg1kMplUunRp23GbN2/WwYMHlZiYKLPZLEl68803tWLFCi1ZskSDBg3KzOVmqJ7PP/9cJpNJc+bMkbu7uypXrqw///xTAwcOvG1/UVFRioyMvKdaAAAAAEDK5MhcbGyskpOT1bRp03T3hYWF2YKcJNWvX1+pqak6fPhwpoqqWrWq7W+TyaRixYopMTFR0o3ZJ2NiYhQSEqJhw4Zp/fr1trZ79+7VhQsXVLhwYXl7e9uWY8eOKS4uLlM1ZLSew4cPq2rVqnJ3d7e1qVOnzh37Cw8PV1JSkm05ceLEPdcGAAAAIH/K1Mich4fHbfcZhiGTyZTuvpvbnZycZBiG3b5r166laX/rbJImk0mpqamSpBo1aujYsWNas2aNvv32W3Xt2lXNmjXTkiVLlJqaqoCAAEVHR6fps0CBAne6tDu6Uz3pXfet13grs9lsGzkEAAAAgHuRqZG58uXLy8PDQxs3bkyzr3LlyoqJidHFixdt27Zv3y4nJydVqFBBkuTn56eEhATb/pSUFP3000+ZLtrX11fdunXTnDlztHjxYi1dulRnz55VjRo1dOrUKbm4uCg4ONhuKVKkSKbPkxEVK1bUgQMHlJycbNu2Z8+ebDkXAAAAANyUqTDn7u6uMWPGaPTo0VqwYIHi4uL0ww8/6OOPP1aPHj3k7u6uPn366KefftLmzZv1/PPPq1evXrbfyz322GNatWqVVq1apV9++UVDhgzRuXPnMlXw9OnTtWjRIv3yyy86cuSIvvrqKxUrVkwFChRQs2bNVLduXXXo0EHr1q1TfHy8duzYoXHjxmVbwHrqqaeUmpqqQYMGKTY2VuvWrdObb74pSbcdqQQAAACA+5Xp78yNHz9eLi4umjBhgk6ePKmAgAANHjxYnp6eWrdunV544QXVrl1bnp6eeuKJJ/TWW2/Zju3Xr59+/PFH9e7dWy4uLhoxYoSaNGmSqfN7e3trypQpOnr0qJydnVW7dm2tXr1aTk43cunq1av18ssvq1+/fvr7779VrFgxNWzYMFMTsGSGr6+vvvnmGz377LOqVq2aQkNDNWHCBD311FN2v6MDAAAAgKxkMu72Ay9k2ueff66nn35aSUlJd/yd4U1Wq1UWi0UaO1YiAAIAgFzOmDgxp0sA8qyb2SApKUm+vr53bJvpkTmktWDBApUtW1YlSpTQjz/+qDFjxqhr164ZCnIAAAAAcC8Ic1ng1KlTmjBhgk6dOqWAgAB16dJFkyZNynQ/SeHhd03fAAAAACDxmmWukJmhVAAAAAB5V2ayQaZmswQAAAAA5A6EOQAAAABwQPxmLhexREUxmyUAAHAIzGgJ5DxG5gAAAADAARHmAAAAAMABEeYAAAAAwAHlyzDXuHFjDR8+3LYeFBSkGTNmZFv/AAAAAJDVmABF0u7du+Xl5ZXTZQAAAABAhhHmJPn5+eV0CQAAAACQKbnqNcvGjRvr+eef1/Dhw1WwYEH5+/vrww8/1MWLF/X000/Lx8dH5cqV05o1a2zHHDp0SK1bt5a3t7f8/f3Vq1cvnT592rb/4sWL6t27t7y9vRUQEKBp06alOe+tr1meO3dOgwYNkr+/v9zd3fXQQw9p5cqVkqQzZ86oe/fuKlmypDw9PRUaGqqFCxdm300BAAAAgHTkqjAnSfPnz1eRIkW0a9cuPf/883r22WfVpUsX1atXT/v27VPLli3Vq1cvXbp0SQkJCWrUqJGqVaumPXv2aO3atfrrr7/UtWtXW3+jRo3S5s2btXz5cq1fv17R0dHau3fvbc+fmpqqxx9/XDt27NBnn32mQ4cO6fXXX5ezs7Mk6cqVK6pZs6ZWrlypn376SYMGDVKvXr20c+fODF9jcnKyrFar3QIAAAAAmZHrXrMMCwvTuHHjJEnh4eF6/fXXVaRIEQ0cOFCSNGHCBM2ePVsHDhzQ6tWrVaNGDU2ePNl2/CeffKLAwEAdOXJExYsX18cff6wFCxaoefPmkm6ExZIlS972/N9++6127dql2NhYVahQQZJUtmxZ2/4SJUropZdesq0///zzWrt2rb766is9/PDDGbrGqKgoRUZGZvCOAAAAAEBauS7MVa1a1fa3s7OzChcurNDQUNs2f39/SVJiYqL27t2rzZs3y9vbO00/cXFxunz5sq5evaq6devathcqVEghISG3PX9MTIxKlixpC3K3SklJ0euvv67Fixfrzz//VHJyspKTkzM1gUp4eLhGjhxpW7darQoMDMzw8QAAAACQ68Kcq6ur3brJZLLbZjKZJN14HTI1NVXt2rXTlClT0vQTEBCgo0ePZvr8Hh4ed9w/bdo0TZ8+XTNmzFBoaKi8vLw0fPhwXb16NcPnMJvNMpvNma4NAAAAAG7KdWEuM2rUqKGlS5cqKChILi5pLyU4OFiurq764YcfVKpUKUnSP//8oyNHjqhRo0bp9lm1alX98ccfOnLkSLqjc9u2bVP79u3Vs2dPSTdC5dGjR1WpUqUsvDIAAAAAuLNcNwFKZjz33HM6e/asunfvrl27dum3337T+vXr1a9fP6WkpMjb21v9+/fXqFGjtHHjRv3000/q27evnJxuf9mNGjVSw4YN9cQTT2jDhg06duyY1qxZo7Vr10q6ERA3bNigHTt2KDY2Vs8884xOnTr1oC4ZAAAAACQ5eJgrXry4tm/frpSUFLVs2VIPPfSQXnjhBVksFltge+ONN9SwYUP95z//UbNmzdSgQQPVrFnzjv0uXbpUtWvXVvfu3VW5cmWNHj1aKSkpkqTx48erRo0aatmypRo3bqxixYqpQ4cO2X2pAAAAAGDHZBiGkdNF5HdWq1UWi0UaO1Zyd8/pcgAAAO7KmDgxp0sA8qSb2SApKUm+vr53bOvQI3MAAAAAkF859AQoeU1SePhd0zcAAAAASIzMAQAAAIBDIswBAAAAgAMizAEAAACAAyLMAQAAAIADYgKUXMQSFcWnCQAAgMPhMwVAzmBkDgAAAAAcEGEOAAAAABwQYQ4AAAAAHBBhLosFBQVpxowZOV0GAAAAgDyOMAcAAAAADijfhbnU1FRNmTJFwcHBMpvNKlWqlCZNmqTo6GiZTCadO3fO1jYmJkYmk0nx8fG2bTt27FDDhg3l4eGhwMBADRs2TBcvXpQkNW7cWL///rtGjBghk8kkk8n0gK8OAAAAQH6R78JceHi4pkyZovHjx+vQoUP64osv5O/vn6FjDx48qJYtW6pTp046cOCAFi9erO+++05Dhw6VJC1btkwlS5bUK6+8ooSEBCUkJKTbT3JysqxWq90CAAAAAJmRr74zd/78ec2cOVPvvvuu+vTpI0kqV66cGjRooOjo6Lse/8Ybb+ipp57S8OHDJUnly5fX22+/rUaNGmn27NkqVKiQnJ2d5ePjo2LFit22n6ioKEVGRmbFJQEAAADIp/LVyFxsbKySk5PVtGnTezp+7969mjdvnry9vW1Ly5YtlZqaqmPHjmW4n/DwcCUlJdmWEydO3FM9AAAAAPKvfDUy5+Hhcdt9Tk43cq1hGLZt165ds2uTmpqqZ555RsOGDUtzfKlSpTJch9lsltlsznB7AAAAALhVvgpz5cuXl4eHhzZu3KgBAwbY7fPz85MkJSQkqGDBgpJuTIDybzVq1NDPP/+s4ODg257Dzc1NKSkpWVs4AAAAANwiX71m6e7urjFjxmj06NFasGCB4uLi9MMPP+jjjz9WcHCwAgMDFRERoSNHjmjVqlWaNm2a3fFjxozR999/r+eee04xMTE6evSovv76az3//PO2NkFBQdq6dav+/PNPnT59+kFfIgAAAIB8Il+FOUkaP368XnzxRU2YMEGVKlVSt27dlJiYKFdXVy1cuFC//PKLwsLCNGXKFL322mt2x1atWlVbtmzR0aNH9eijj6p69eoaP368AgICbG1eeeUVxcfHq1y5crbRPgAAAADIaibj3z8SQ46wWq2yWCzS2LGSu3tOlwMAAJApxsSJOV0CkGfczAZJSUny9fW9Y9t8NzIHAAAAAHkBYQ4AAAAAHFC+ms0yt0sKD7/rUCoAAAAASIzMAQAAAIBDIswBAAAAgAMizAEAAACAA+I3c7mIJSqKTxMAAIA8i08YAFmLkTkAAAAAcECEOQAAAABwQLkizEVHR8tkMuncuXM5XYqCgoI0Y8aMnC4DAAAAAO4oV4S5nDBv3jwVKFAgzfbdu3dr0KBBD74gAAAAAMgEJkC5hZ+fX06XAAAAAAB3lS0jc4ZhaOrUqSpbtqw8PDwUFhamJUuW2PavXr1aFSpUkIeHh5o0aaL4+Hi74yMiIlStWjW7bTNmzFBQUJDdtk8++URVqlSR2WxWQECAhg4datv31ltvKTQ0VF5eXgoMDNSQIUN04cIFSTde63z66aeVlJQkk8kkk8mkiIgISWlfszx+/Ljat28vb29v+fr6qmvXrvrrr7/S1Prpp58qKChIFotFTz75pM6fP3/vNxAAAAAA7iJbwty4ceM0d+5czZ49Wz///LNGjBihnj17asuWLTpx4oQ6deqk1q1bKyYmRgMGDNDYsWMzfY7Zs2frueee06BBg3Tw4EF9/fXXCg4Otu13cnLS22+/rZ9++knz58/Xpk2bNHr0aElSvXr1NGPGDPn6+iohIUEJCQl66aWX0pzDMAx16NBBZ8+e1ZYtW7RhwwbFxcWpW7dudu3i4uK0YsUKrVy5UitXrtSWLVv0+uuv37b25ORkWa1WuwUAAAAAMiPLX7O8ePGi3nrrLW3atEl169aVJJUtW1bfffedPvjgAwUFBals2bKaPn26TCaTQkJCdPDgQU2ZMiVT53nttdf04osv6oUXXrBtq127tu3v4cOH2/4uU6aMXn31VT377LOaNWuW3NzcZLFYZDKZVKxYsdue49tvv9WBAwd07NgxBQYGSpI+/fRTValSRbt377adLzU1VfPmzZOPj48kqVevXtq4caMmTZqUbr9RUVGKjIzM1PUCAAAAwL9leZg7dOiQrly5oubNm9ttv3r1qqpXr67Lly/rkUcekclksu27GfoyKjExUSdPnlTTpk1v22bz5s2aPHmyDh06JKvVquvXr+vKlSu6ePGivLy8MnSe2NhYBQYG2oKcJFWuXFkFChRQbGysLcwFBQXZgpwkBQQEKDEx8bb9hoeHa+TIkbZ1q9Vqdw4AAAAAuJssD3OpqamSpFWrVqlEiRJ2+8xms55//vm79uHk5CTDMOy2Xbt2zfa3h4fHHY///fff1bp1aw0ePFivvvqqChUqpO+++079+/e36+duDMOwC5232+7q6mq332Qy2e5Desxms8xmc4brAAAAAIBbZXmYq1y5ssxms44fP65GjRqlu3/FihV223744Qe7dT8/P506dcouNMXExNj2+/j4KCgoSBs3blSTJk3SnGPPnj26fv26pk2bJienGz8L/PLLL+3auLm5KSUl5a7Xcvz4cZ04ccI2cnbo0CElJSWpUqVKdzwWAAAAALJTloc5Hx8fvfTSSxoxYoRSU1PVoEEDWa1W7dixQ97e3ho8eLCmTZumkSNH6plnntHevXs1b948uz4aN26sv//+W1OnTlXnzp21du1arVmzRr6+vrY2ERERGjx4sIoWLarHH39c58+f1/bt2/X888+rXLlyun79ut555x21a9dO27dv1/vvv293jqCgIF24cEEbN25UWFiYPD095enpademWbNmqlq1qnr06KEZM2bo+vXrGjJkiBo1aqRatWpl9a0DAAAAgAzLltksX331VU2YMEFRUVGqVKmSWrZsqW+++UZlypRRqVKltHTpUn3zzTcKCwvT+++/r8mTJ9sdX6lSJc2aNUvvvfeewsLCtGvXrjSzTfbp00czZszQrFmzVKVKFbVt21ZHjx6VJFWrVk1vvfWWpkyZooceekiff/65oqKi7I6vV6+eBg8erG7dusnPz09Tp05Ncx0mk0krVqxQwYIF1bBhQzVr1kxly5bV4sWLs/iOAQAAAEDmmIxbf5yGB85qtcpisUhjx0ru7jldDgAAQLYwJk7M6RKAXO9mNkhKSrJ7MzE92TIyBwAAAADIXoQ5AAAAAHBAWT4BCu5dUnj4XYdSAQAAAEBiZA4AAAAAHBJhDgAAAAAcEGEOAAAAABwQv5nLRSxRUXyaAAAA5Ht8wgDIGEbmAAAAAMABEeYAAAAAwAER5gAAAADAARHmAAAAAMAB5esw17hxYw0fPjzL+uvbt686dOiQZf0BAAAAwO3k6zAHAAAAAI4q34a5vn37asuWLZo5c6ZMJpNMJpPi4+N16NAhtW7dWt7e3vL391evXr10+vRp23FLlixRaGioPDw8VLhwYTVr1kwXL15URESE5s+fr//973+2/qKjo9M9d3JysqxWq90CAAAAAJmRb8PczJkzVbduXQ0cOFAJCQlKSEiQq6urGjVqpGrVqmnPnj1au3at/vrrL3Xt2lWSlJCQoO7du6tfv36KjY1VdHS0OnXqJMMw9NJLL6lr165q1aqVrb969eqle+6oqChZLBbbEhgY+CAvHQAAAEAekG8/Gm6xWOTm5iZPT08VK1ZMkjRhwgTVqFFDkydPtrX75JNPFBgYqCNHjujChQu6fv26OnXqpNKlS0uSQkNDbW09PDyUnJxs6+92wsPDNXLkSNu61Wol0AEAAADIlHwb5tKzd+9ebd68Wd7e3mn2xcXFqUWLFmratKlCQ0PVsmVLtWjRQp07d1bBggUzdR6z2Syz2ZxVZQMAAADIh/Lta5bpSU1NVbt27RQTE2O3HD16VA0bNpSzs7M2bNigNWvWqHLlynrnnXcUEhKiY8eO5XTpAAAAAPKZfB3m3NzclJKSYluvUaOGfv75ZwUFBSk4ONhu8fLykiSZTCbVr19fkZGR2r9/v9zc3LR8+fJ0+wMAAACA7JKvw1xQUJB27typ+Ph4nT59Ws8995zOnj2r7t27a9euXfrtt9+0fv169evXTykpKdq5c6cmT56sPXv26Pjx41q2bJn+/vtvVapUydbfgQMHdPjwYZ0+fVrXrl3L4SsEAAAAkFfl6zD30ksvydnZWZUrV5afn5+uXr2q7du3KyUlRS1bttRDDz2kF154QRaLRU5OTvL19dXWrVvVunVrVahQQePGjdO0adP0+OOPS5IGDhyokJAQ1apVS35+ftq+fXsOXyEAAACAvMpkGIaR00Xkd1arVRaLRRo7VnJ3z+lyAAAAcpQxcWJOlwDkmJvZICkpSb6+vndsm69H5gAAAADAUfFpglwkKTz8rukbAAAAACRG5gAAAADAIRHmAAAAAMABEeYAAAAAwAHxm7lcxBIVxWyWAAAAd8BMl8D/YWQOAAAAABwQYQ4AAAAAHBBhDgAAAAAcUI6Hufj4eJlMJsXExNxXP40bN9bw4cPvu56+ffuqQ4cO990PAAAAAGSnPDMByrJly+Tq6nrf/cycOVOGYWRBRQAAAACQffJMmCtUqFCW9GOxWLKkHwAAAADITln+muXatWvVoEEDFShQQIULF1bbtm0VFxdn279r1y5Vr15d7u7uqlWrlvbv3293fHR0tEwmk9atW6fq1avLw8NDjz32mBITE7VmzRpVqlRJvr6+6t69uy5dumQ77tbXLGfNmqXy5cvL3d1d/v7+6ty5s23fkiVLFBoaKg8PDxUuXFjNmjXTxYsXJaV9zTI5OVnDhg1T0aJF5e7urgYNGmj37t1p6t24caNq1aolT09P1atXT4cPH86qWwoAAAAAaWR5mLt48aJGjhyp3bt3a+PGjXJyclLHjh2Vmpqqixcvqm3btgoJCdHevXsVERGhl156Kd1+IiIi9O6772rHjh06ceKEunbtqhkzZuiLL77QqlWrtGHDBr3zzjvpHrtnzx4NGzZMr7zyig4fPqy1a9eqYcOGkqSEhAR1795d/fr1U2xsrKKjo9WpU6fbvlo5evRoLV26VPPnz9e+ffsUHBysli1b6uzZs3btXn75ZU2bNk179uyRi4uL+vXrd9t7lJycLKvVarcAAAAAQGZk+WuWTzzxhN36xx9/rKJFi+rQoUPasWOHUlJS9Mknn8jT01NVqlTRH3/8oWeffTZNP6+99prq168vSerfv7/Cw8MVFxensmXLSpI6d+6szZs3a8yYMWmOPX78uLy8vNS2bVv5+PiodOnSql69uqQbYe769evq1KmTSpcuLUkKDQ1N91ouXryo2bNna968eXr88cclSXPmzNGGDRv08ccfa9SoUba2kyZNUqNGjSRJY8eOVZs2bXTlyhW5p/MR8KioKEVGRt75RgIAAADAHWT5yFxcXJyeeuoplS1bVr6+vipTpoykGwErNjZWYWFh8vT0tLWvW7duuv1UrVrV9re/v788PT1tQe7mtsTExHSPbd68uUqXLq2yZcuqV69e+vzzz22vZIaFhalp06YKDQ1Vly5dNGfOHP3zzz+3vZZr167ZQqUkubq6qk6dOoqNjb1tvQEBAZJ02/rCw8OVlJRkW06cOJFuOwAAAAC4nSwPc+3atdOZM2c0Z84c7dy5Uzt37pQkXb16NVOzRP57ZkqTyZRmpkqTyaTU1NR0j/Xx8dG+ffu0cOFCBQQEaMKECQoLC9O5c+fk7OysDRs2aM2aNapcubLeeecdhYSE6NixY2n6uVmvyWRKs/3WbbfWK+m29ZnNZvn6+totAAAAAJAZWRrmzpw5o9jYWI0bN05NmzZVpUqV7Ea9KleurB9//FGXL1+2bfvhhx+ysgQbFxcXNWvWTFOnTtWBAwcUHx+vTZs2SboRturXr6/IyEjt379fbm5uWr58eZo+goOD5ebmpu+++8627dq1a9qzZ48qVaqULXUDAAAAQEZk6W/mChYsqMKFC+vDDz9UQECAjh8/rrFjx9r2P/XUU3r55ZfVv39/jRs3TvHx8XrzzTezsgRJ0sqVK/Xbb7+pYcOGKliwoFavXq3U1FSFhIRo586d2rhxo1q0aKGiRYtq586d+vvvv9MNZ15eXnr22Wc1atQoFSpUSKVKldLUqVN16dIl9e/fP8vrBgAAAICMytIw5+TkpEWLFmnYsGF66KGHFBISorfffluNGzeWJHl7e+ubb77R4MGDVb16dVWuXFlTpkxJM2nK/SpQoICWLVumiIgIXblyReXLl9fChQtVpUoVxcbGauvWrZoxY4asVqtKly6tadOm2SY4udXrr7+u1NRU9erVS+fPn1etWrW0bt06FSxYMEtrBgAAAIDMMBmZ+SEbsoXVar3xsfKxY6V0Zr8EAADADcbEiTldApCtbmaDpKSku86tkeUToAAAAAAAsl+Wf2cO9y4pPJyZLQEAAABkCCNzAAAAAOCACHMAAAAA4IAIcwAAAADggPjNXC5iiYpiNksAAIAMYFZLgJE5AAAAAHBIhDkAAAAAcECEOQAAAABwQPk2zMXHx8tkMikmJianSwEAAACATMu3YQ4AAAAAHBlhDgAAAAAcUJ4Pc6mpqZoyZYqCg4NlNptVqlQpTZo0KU27lJQU9e/fX2XKlJGHh4dCQkI0c+ZMuzbR0dGqU6eOvLy8VKBAAdWvX1+///67JOnHH39UkyZN5OPjI19fX9WsWVN79ux5INcIAAAAIP/J89+ZCw8P15w5czR9+nQ1aNBACQkJ+uWXX9K0S01NVcmSJfXll1+qSJEi2rFjhwYNGqSAgAB17dpV169fV4cOHTRw4EAtXLhQV69e1a5du2QymSRJPXr0UPXq1TV79mw5OzsrJiZGrq6u6daUnJys5ORk27rVas2eiwcAAACQZ5kMwzByuojscv78efn5+endd9/VgAED7PbFx8erTJky2r9/v6pVq5bu8c8995z++usvLVmyRGfPnlXhwoUVHR2tRo0apWnr6+urd955R3369LlrXREREYqMjEy7Y+xYPhoOAACQAXw0HHmV1WqVxWJRUlKSfH1979g2T79mGRsbq+TkZDVt2jRD7d9//33VqlVLfn5+8vb21pw5c3T8+HFJUqFChdS3b1+1bNlS7dq108yZM5WQkGA7duTIkRowYICaNWum119/XXFxcbc9T3h4uJKSkmzLiRMn7u9CAQAAAOQ7eTrMeXh4ZLjtl19+qREjRqhfv35av369YmJi9PTTT+vq1au2NnPnztX333+vevXqafHixapQoYJ++OEHSTdG237++We1adNGmzZtUuXKlbV8+fJ0z2U2m+Xr62u3AAAAAEBm5OkwV758eXl4eGjjxo13bbtt2zbVq1dPQ4YMUfXq1RUcHJzu6Fr16tUVHh6uHTt26KGHHtIXX3xh21ehQgWNGDFC69evV6dOnTR37twsvR4AAAAAuClPhzl3d3eNGTNGo0eP1oIFCxQXF6cffvhBH3/8cZq2wcHB2rNnj9atW6cjR45o/Pjx2r17t23/sWPHFB4eru+//16///671q9fryNHjqhSpUq6fPmyhg4dqujoaP3+++/avn27du/erUqVKj3IywUAAACQj+T52SzHjx8vFxcXTZgwQSdPnlRAQIAGDx6cpt3gwYMVExOjbt26yWQyqXv37hoyZIjWrFkjSfL09NQvv/yi+fPn68yZMwoICNDQoUP1zDPP6Pr16zpz5ox69+6tv/76S0WKFFGnTp3Sn+QEAAAAALJAnp7N0lHcnLGG2SwBAAAyhtkskVcxmyUAAAAA5HF5/jVLR5IUHs7MlgAAAAAyhJE5AAAAAHBAhDkAAAAAcECEOQAAAABwQIQ5AAAAAHBATICSi1iiovg0AQAAQCbwiQLkZ4zMAQAAAIADIswBAAAAgAMizAEAAACAA3K4MBcREaFq1arldBkAAAAAkKMcLsxl1LVr13K6BAAAAADINg88zBmGoalTp6ps2bLy8PBQWFiYlixZIkmKjo6WyWTSxo0bVatWLXl6eqpevXo6fPiwJGnevHmKjIzUjz/+KJPJJJPJpHnz5kmSTCaT3n//fbVv315eXl567bXXlJKSov79+6tMmTLy8PBQSEiIZs6caVdP37591aFDB7355psKCAhQ4cKF9dxzz9mFweTkZI0ePVqBgYEym80qX768Pv74Y9v+Q4cOqXXr1vL29pa/v7969eql06dPZ/OdBAAAAJCfPfBPE4wbN07Lli3T7NmzVb58eW3dulU9e/aUn5+frc3LL7+sadOmyc/PT4MHD1a/fv20fft2devWTT/99JPWrl2rb7/9VpJksVhsx02cOFFRUVGaPn26nJ2dlZqaqpIlS+rLL79UkSJFtGPHDg0aNEgBAQHq2rWr7bjNmzcrICBAmzdv1q+//qpu3bqpWrVqGjhwoCSpd+/e+v777/X2228rLCxMx44ds4W1hIQENWrUSAMHDtRbb72ly5cva8yYMeratas2bdqU7j1ITk5WcnKybd1qtWbdDQYAAACQL5gMwzAe1MkuXryoIkWKaNOmTapbt65t+4ABA3Tp0iUNGjRITZo00bfffqumTZtKklavXq02bdro8uXLcnd3V0REhFasWKGYmBj7CzGZNHz4cE2fPv2ONTz33HP666+/bKOBffv2VXR0tOLi4uTs7CxJ6tq1q5ycnLRo0SIdOXJEISEh2rBhg5o1a5amvwkTJmjnzp1at26dbdsff/yhwMBAHT58WBUqVEhzTEREhCIjI9MWN3Ys35kDAADIBL4zh7zGarXKYrEoKSlJvr6+d2z7QEfmDh06pCtXrqh58+Z2269evarq1avb1qtWrWr7OyAgQJKUmJioUqVK3bH/WrVqpdn2/vvv66OPPtLvv/+uy5cv6+rVq2kmUKlSpYotyN0858GDByVJMTExcnZ2VqNGjdI95969e7V582Z5e3un2RcXF5dumAsPD9fIkSNt61arVYGBgXe8NgAAAAD4twca5lJTUyVJq1atUokSJez2mc1mxcXFSZJcXV1t200mk92xd+Ll5WW3/uWXX2rEiBGaNm2a6tatKx8fH73xxhvauXOnXbt/n+/mOW+ez8PD467X1K5dO02ZMiXNvptB9FZms1lms/mu1wMAAAAAt/NAw1zlypVlNpt1/PjxdEe6boa5O3Fzc1NKSkqGzrdt2zbVq1dPQ4YMydQ5/i00NFSpqanasmVLuq9Z1qhRQ0uXLlVQUJBcXB74TxABAAAA5FMPdDZLHx8fvfTSSxoxYoTmz5+vuLg47d+/X++9957mz5+foT6CgoJ07NgxxcTE6PTp03YTidwqODhYe/bs0bp163TkyBGNHz9eu3fvzlTNQUFB6tOnj/r166cVK1bo2LFjio6O1pdffinpxm/wzp49q+7du2vXrl367bfftH79evXr1y/DoRMAAAAAMuuBf5rg1Vdf1YQJExQVFaVKlSqpZcuW+uabb1SmTJkMHf/EE0+oVatWatKkifz8/LRw4cLbth08eLA6deqkbt266eGHH9aZM2fsRukyavbs2ercubOGDBmiihUrauDAgbp48aIkqXjx4tq+fbtSUlLUsmVLPfTQQ3rhhRdksVjk5JRnP+MHAAAAIIc90Nkskb6bM9YwmyUAAEDmMJsl8prMzGbJ0BEAAAAAOCDCHAAAAAA4IKZfzEWSwsPvOpQKAAAAABIjcwAAAADgkAhzAAAAAOCACHMAAAAA4ID4zVwuYomK4tMEAAAA94BPFCA/YmQOAAAAABwQYQ4AAAAAHFCeCXONGzfW8OHDbetBQUGaMWPGHY8xmUxasWJFttYFAAAAANkhz/5mbvfu3fLy8srSPiMiIrRixQrFxMRkab8AAAAAkFl5Nsz5+fnldAkAAAAAkG2y5TXL1NRUTZkyRcHBwTKbzSpVqpQmTZokSRozZowqVKggT09PlS1bVuPHj9e1a9dsx0ZERKhatWr69NNPFRQUJIvFoieffFLnz5+3tbl48aJ69+4tb29vBQQEaNq0aWlquPU1y6NHj6phw4Zyd3dX5cqVtWHDhjTH3Km2efPmKTIyUj/++KNMJpNMJpPmzZsnSUpKStKgQYNUtGhR+fr66rHHHtOPP/6YFbcSAAAAANKVLSNz4eHhmjNnjqZPn64GDRooISFBv/zyiyTJx8dH8+bNU/HixXXw4EENHDhQPj4+Gj16tO34uLg4rVixQitXrtQ///yjrl276vXXX7cFwlGjRmnz5s1avny5ihUrpv/+97/au3evqlWrlm49qamp6tSpk4oUKaIffvhBVqvV7vd1N92ptm7duumnn37S2rVr9e2330qSLBaLDMNQmzZtVKhQIa1evVoWi0UffPCBmjZtqiNHjqhQoUJpzpOcnKzk5GTbutVqvddbDQAAACCfyvIwd/78ec2cOVPvvvuu+vTpI0kqV66cGjRoIEkaN26crW1QUJBefPFFLV682C7Mpaamat68efLx8ZEk9erVSxs3btSkSZN04cIFffzxx1qwYIGaN28uSZo/f75Klix525q+/fZbxcbGKj4+3tZu8uTJevzxx+3a3ak2Dw8PeXt7y8XFRcWKFbO127Rpkw4ePKjExESZzWZJ0ptvvqkVK1ZoyZIlGjRoUJp6oqKiFBkZmYG7CQAAAADpy/IwFxsbq+TkZDVt2jTd/UuWLNGMGTP066+/6sKFC7p+/bp8fX3t2gQFBdmCnCQFBAQoMTFR0o1Ru6tXr6pu3bq2/YUKFVJISMgdaypVqpRd4Pv38Zmp7VZ79+7VhQsXVLhwYbvtly9fVlxcXLrHhIeHa+TIkbZ1q9WqwMDAO54HAAAAAP4ty8Och4fHbff98MMPevLJJxUZGamWLVvKYrFo0aJFaX7z5urqarduMpmUmpoqSTIMI9M1pXeMyWS6p9pulZqaqoCAAEVHR6fZV6BAgXSPMZvNtlE8AAAAALgXWR7mypcvLw8PD23cuFEDBgyw27d9+3aVLl1aL7/8sm3b77//nqn+g4OD5erqqh9++EGlSpWSJP3zzz86cuSIGjVqlO4xlStX1vHjx3Xy5EkVL15ckvT9999nujY3NzelpKTYbatRo4ZOnTolFxcXBQUFZepaAAAAAOBeZXmYc3d315gxYzR69Gi5ubmpfv36+vvvv/Xzzz8rODhYx48f16JFi1S7dm2tWrVKy5cvz1T/3t7e6t+/v0aNGqXChQvL399fL7/8spycbj8xZ7NmzRQSEqLevXtr2rRpslqtdqFNUoZqCwoK0rFjxxQTE6OSJUvKx8dHzZo1U926ddWhQwdNmTJFISEhOnnypFavXq0OHTqoVq1ambo+AAAAAMiIbPk0wfjx4/Xiiy9qwoQJqlSpkrp166bExES1b99eI0aM0NChQ1WtWjXt2LFD48ePz3T/b7zxhho2bKj//Oc/atasmRo0aKCaNWvetr2Tk5OWL1+u5ORk1alTRwMGDLDNjHlTRmp74okn1KpVKzVp0kR+fn5auHChTCaTVq9erYYNG6pfv36qUKGCnnzyScXHx8vf3z/T1wYAAAAAGWEy7uVHaMhSVqtVFotFGjtWcnfP6XIAAAAcjjFxYk6XAGSJm9kgKSnprpMxZsvIHAAAAAAgexHmAAAAAMABZfkEKLh3SeHhdx1KBQAAAACJkTkAAAAAcEiEOQAAAABwQIQ5AAAAAHBA/GYuF7FERfFpAgAAgGzApwuQFzEyBwAAAAAOiDAHAAAAAA6IMAcAAAAADijfhTmTyaQVK1Zk6zmio6NlMpl07ty5bD0PAAAAgPwr34U5AAAAAMgLCHMAAAAA4IAcNswtWbJEoaGh8vDwUOHChdWsWTNdvHhRkvTJJ5+oSpUqMpvNCggI0NChQ+2OPX36tDp27ChPT0+VL19eX3/9td3+LVu2qE6dOrbjx44dq+vXr9v2Jycna9iwYSpatKjc3d3VoEED7d69O/svGgAAAAD+P4cMcwkJCerevbv69eun2NhYRUdHq1OnTjIMQ7Nnz9Zzzz2nQYMG6eDBg/r6668VHBxsd3xkZKS6du2qAwcOqHXr1urRo4fOnj0rSfrzzz/VunVr1a5dWz/++KNmz56tjz/+WK+99prt+NGjR2vp0qWaP3++9u3bp+DgYLVs2dLWx90kJyfLarXaLQAAAACQGSbDMIycLiKz9u3bp5o1ayo+Pl6lS5e221eiRAk9/fTTduHr30wmk8aNG6dXX31VknTx4kX5+Pho9erVatWqlV5++WUtXbpUsbGxMplMkqRZs2ZpzJgxSkpK0uXLl1WwYEHNmzdPTz31lCTp2rVrCgoK0vDhwzVq1ChFR0erSZMm+ueff1SgQIE0NURERCgyMjJtcWPH8tFwAACAbMBHw+EorFarLBaLkpKS5Ovre8e2DjkyFxYWpqZNmyo0NFRdunTRnDlz9M8//ygxMVEnT55U06ZN73h81apVbX97eXnJx8dHiYmJkqTY2FjVrVvXFuQkqX79+rpw4YL++OMPxcXF6dq1a6pfv75tv6urq+rUqaPY2NgM1R8eHq6kpCTbcuLEicxcPgAAAAA4ZphzdnbWhg0btGbNGlWuXFnvvPOOQkJC9Ndff2XoeFdXV7t1k8mk1NRUSZJhGHZB7ua2m+3+/fetbW7ddjtms1m+vr52CwAAAABkhkOGOelGmKpfv74iIyO1f/9+ubm5acOGDQoKCtLGjRvvud/KlStrx44d+vfbpzt27JCPj49KlCih4OBgubm56bvvvrPtv3btmvbs2aNKlSrd1zUBAAAAQEa55HQB92Lnzp3auHGjWrRooaJFi2rnzp36+++/ValSJUVERGjw4MEqWrSoHn/8cZ0/f17bt2/X888/n6G+hwwZohkzZuj555/X0KFDdfjwYU2cOFEjR46Uk5OTvLy89Oyzz2rUqFEqVKiQSpUqpalTp+rSpUvq379/Nl85AAAAANzgkGHO19dXW7du1YwZM2S1WlW6dGlNmzZNjz/+uCTpypUrmj59ul566SUVKVJEnTt3znDfJUqU0OrVqzVq1CiFhYWpUKFC6t+/v8aNG2dr8/rrrys1NVW9evXS+fPnVatWLa1bt04FCxbM8msFAAAAgPQ45GyWec3NGWuYzRIAACB7MJslHEWen80SAAAAAPI7h3zNMq9KCg9nZksAAAAAGcLIHAAAAAA4IMIcAAAAADggwhwAAAAAOCB+M5eLWKKimM0SAADgAWKWSzgyRuYAAAAAwAER5gAAAADAARHmAAAAAMABEeYAAAAAwAER5rKQyWTSihUrcroMAAAAAPkAYQ4AAAAAHFC+CXONGzfWsGHDNHr0aBUqVEjFihVTRESEbX9SUpIGDRqkokWLytfXV4899ph+/PFHuz6++eYb1axZU+7u7ipbtqwiIyN1/fp1SVJQUJAkqWPHjjKZTLZ1AAAAAMgO+SbMSdL8+fPl5eWlnTt3aurUqXrllVe0YcMGGYahNm3a6NSpU1q9erX27t2rGjVqqGnTpjp79qwkad26derZs6eGDRumQ4cO6YMPPtC8efM0adIkSdLu3bslSXPnzlVCQoJtPT3JycmyWq12CwAAAABkhskwDCOni3gQGjdurJSUFG3bts22rU6dOnrsscfUokULdezYUYmJiTKbzbb9wcHBGj16tAYNGqSGDRvq8ccfV3h4uG3/Z599ptGjR+vkyZOSbvxmbvny5erQocMda4mIiFBkZGTaHWPH8tFwAACAB4iPhiO3sVqtslgsSkpKkq+v7x3bujygmnKFqlWr2q0HBAQoMTFRe/fu1YULF1S4cGG7/ZcvX1ZcXJwkae/evdq9e7dtJE6SUlJSdOXKFV26dEmenp4ZriM8PFwjR460rVutVgUGBt7LJQEAAADIp/JVmHN1dbVbN5lMSk1NVWpqqgICAhQdHZ3mmAIFCkiSUlNTFRkZqU6dOqVp457J0TSz2Ww3AggAAAAAmZWvwtzt1KhRQ6dOnZKLi8ttJy6pUaOGDh8+rODg4Nv24+rqqpSUlGyqEgAAAAD+D2FOUrNmzVS3bl116NBBU6ZMUUhIiE6ePKnVq1erQ4cOqlWrliZMmKC2bdsqMDBQXbp0kZOTkw4cOKCDBw/qtddek3RjRsuNGzeqfv36MpvNKliwYA5fGQAAAIC8Kl/NZnk7JpNJq1evVsOGDdWvXz9VqFBBTz75pOLj4+Xv7y9JatmypVauXKkNGzaodu3aeuSRR/TWW2+pdOnStn6mTZumDRs2KDAwUNWrV8+pywEAAACQD+Sb2Sxzs5sz1jCbJQAAwIPFbJbIbTIzmyUjcwAAAADggPjNXC6SFB5+1/QNAAAAABIjcwAAAADgkAhzAAAAAOCACHMAAAAA4ID4zVwuYomKYjZLAACAHMLMlnA0jMwBAAAAgAMizAEAAACAAyLMAQAAAIADyndhzmQyacWKFbfdHx0dLZPJpHPnzj2wmgAAAAAgs/JdmLubevXqKSEhQRaLJadLAQAAAIDbylNh7tq1a/fdh5ubm4oVKyaTyZQFFQEAAABA9sjVYW7t2rVq0KCBChQooMKFC6tt27aKi4uTJMXHx8tkMunLL79U48aN5e7urs8++0yS9Mknn6hKlSoym80KCAjQ0KFD7fo9ffq0OnbsKE9PT5UvX15ff/21bd+/X7NMSkqSh4eH1q5da3f8smXL5OXlpQsXLkiS/vzzT3Xr1k0FCxZU4cKF1b59e8XHx2fjnQEAAACQ3+XqMHfx4kWNHDlSu3fv1saNG+Xk5KSOHTsqNTXV1mbMmDEaNmyYYmNj1bJlS82ePVvPPfecBg0apIMHD+rrr79WcHCwXb+RkZHq2rWrDhw4oNatW6tHjx46e/ZsmvNbLBa1adNGn3/+ud32L774Qu3bt5e3t7cuXbqkJk2ayNvbW1u3btV3330nb29vtWrVSlevXk33upKTk2W1Wu0WAAAAAMiMXP3R8CeeeMJu/eOPP1bRokV16NAheXt7S5KGDx+uTp062dq89tprevHFF/XCCy/YttWuXduun759+6p79+6SpMmTJ+udd97Rrl271KpVqzQ19OjRQ71799alS5fk6ekpq9WqVatWaenSpZKkRYsWycnJSR999JHt1cy5c+eqQIECio6OVosWLdL0GRUVpcjIyHu5JQAAAAAgKZePzMXFxempp55S2bJl5evrqzJlykiSjh8/bmtTq1Yt29+JiYk6efKkmjZtesd+q1atavvby8tLPj4+SkxMTLdtmzZt5OLiYnsVc+nSpfLx8bGFtL179+rXX3+Vj4+PvL295e3trUKFCunKlSu2V0JvFR4erqSkJNty4sSJDNwNAAAAAPg/uXpkrl27dgoMDNScOXNUvHhxpaam6qGHHrJ7fdHLy8v2t4eHR4b6dXV1tVs3mUx2r27+m5ubmzp37qwvvvhCTz75pL744gt169ZNLi43bl1qaqpq1qyZ5lVMSfLz80u3T7PZLLPZnKFaAQAAACA9uTbMnTlzRrGxsfrggw/06KOPSpK+++67Ox7j4+OjoKAgbdy4UU2aNMmyWnr06KEWLVro559/1ubNm/Xqq6/a9tWoUUOLFy9W0aJF5evrm2XnBAAAAIA7ybWvWd6cGfLDDz/Ur7/+qk2bNmnkyJF3PS4iIkLTpk3T22+/raNHj2rfvn1655137quWRo0ayd/fXz169FBQUJAeeeQR274ePXqoSJEiat++vbZt26Zjx45py5YteuGFF/THH3/c13kBAAAA4HZybZhzcnLSokWLtHfvXj300EMaMWKE3njjjbse16dPH82YMUOzZs1SlSpV1LZtWx09evS+ajGZTOrevbt+/PFH9ejRw26fp6entm7dqlKlSqlTp06qVKmS+vXrp8uXLzNSBwAAACDbmAzDMHK6iPzOarXKYrFIY8dK7u45XQ4AAEC+ZEycmNMlALZskJSUdNfBoVw7MgcAAAAAuL1cOwFKfpQUHs6rmQAAAAAyhJE5AAAAAHBAhDkAAAAAcECEOQAAAABwQIQ5AAAAAHBATICSi1iiovg0AQAAQA7jEwVwFIzMAQAAAIADIswBAAAAgAMizAEAAACAAyLMAQAAAIADIswBAAAAgAMizN1FUFCQZsyYYbetWrVqioiIkCT98ssvatCggdzd3VW5cmV9++23MplMWrFixQOvFQAAAED+wacJ7kNqaqo6dOigUqVKaefOnTp//rxefPHFux6XnJys5ORk27rVas3OMgEAAADkQYzM3Yf169crLi5OCxYsUFhYmBo0aKBJkybd9bioqChZLBbbEhgY+ACqBQAAAJCXEObuw+HDhxUYGKhixYrZttWpU+eux4WHhyspKcm2nDhxIjvLBAAAAJAH8ZrlXTg5OckwDLtt165dkyQZhiGTyZTpPs1ms8xmc5bUBwAAACB/YmTuLvz8/JSQkGBbt1qtOnbsmCSpYsWKOn78uP766y/b/t27dz/wGgEAAADkP4S5u3jsscf06aefatu2bfrpp5/Up08fOTs7S5KaN2+ucuXKqU+fPjpw4IC2b9+ul19+WZLuacQOAAAAADKKMHcX4eHhatiwodq2bavWrVurQ4cOKleunCTJ2dlZK1as0IULF1S7dm0NGDBA48aNkyS5u7vnZNkAAAAA8jh+M3cXvr6+Wrx4sd22Pn362P6uWLGivvvuO9v69u3bJUnBwcEPpkAAAAAA+RJh7j4tX75c3t7eKl++vH799Ve98MILql+/vm30DgAAAACyA2HuPp0/f16jR4/WiRMnVKRIETVr1kzTpk3L6bIAAAAA5HEm49Z59/HAWa1WWSwWJSUlydfXN6fLAQAAAJBDMpMNmAAFAAAAABwQYQ4AAAAAHBBhDgAAAAAcEBOg5CKWqCiJ79MBAADkacbEiTldAvIIRuYAAAAAwAER5gAAAADAARHmAAAAAMAB5XiYa9y4sYYPH55t/UdERKhatWrZ1j8AAAAA5IQcD3PLli3Tq6++miV9mUwmrVixwm7bSy+9pI0bN9rW+/btqw4dOmS673nz5qlAgQL3VyAAAAAAZJEcn82yUKFC2dq/t7e3vL29s/UcAAAAAPCg5fjI3L9fswwKCtLkyZPVr18/+fj4qFSpUvrwww9tba9evaqhQ4cqICBA7u7uCgoKUlRUlO1YSerYsaNMJpNt/d+vWUZERGj+/Pn63//+J5PJJJPJpOjoaEVHR8tkMuncuXO2c8XExMhkMik+Pl7R0dF6+umnlZSUZDsuIiLCVtPo0aNVokQJeXl56eGHH1Z0dPQdrzk5OVlWq9VuAQAAAIDMyPEwd6tp06apVq1a2r9/v4YMGaJnn31Wv/zyiyTp7bff1tdff60vv/xShw8f1meffWYLbbt375YkzZ07VwkJCbb1f3vppZfUtWtXtWrVSgkJCUpISFC9evXuWlO9evU0Y8YM+fr62o576aWXJElPP/20tm/frkWLFunAgQPq0qWLWrVqpaNHj962v6ioKFksFtsSGBiY2dsEAAAAIJ/L8dcsb9W6dWsNGTJEkjRmzBhNnz5d0dHRqlixoo4fP67y5curQYMGMplMKl26tO04Pz8/SVKBAgVUrFixdPv29vaWh4eHkpOTb9smPW5ubrJYLDKZTHbHxcXFaeHChfrjjz9UvHhxSTcC49q1azV37lxNnjw53f7Cw8M1cuRI27rVaiXQAQAAAMiUXBfmqlatavv7ZnhKTEyUdGPykubNmyskJEStWrVS27Zt1aJFi5wqVfv27ZNhGKpQoYLd9uTkZBUuXPi2x5nNZpnN5uwuDwAAAEAeluvCnKurq926yWRSamqqJKlGjRo6duyY1qxZo2+//VZdu3ZVs2bNtGTJkvs6p5PTjbdNDcOwbbt27dpdj0tNTZWzs7P27t0rZ2dnu31MugIAAAAgO+W6MHc3vr6+6tatm7p166bOnTurVatWOnv2rAoVKiRXV1elpKTc8Xg3N7c0bW6+opmQkKCCBQtKujEByt2Oq169ulJSUpSYmKhHH330Pq8MAAAAADIu102AcifTp0/XokWL9Msvv+jIkSP66quvVKxYMdv334KCgrRx40adOnVK//zzT7p9BAUF6cCBAzp8+LBOnz6ta9euKTg4WIGBgYqIiNCRI0e0atUqTZs2Lc1xFy5c0MaNG3X69GldunRJFSpUUI8ePdS7d28tW7ZMx44d0+7duzVlyhStXr06u28HAAAAgHzMocKct7e3pkyZolq1aql27dqKj4/X6tWrba9JTps2TRs2bFBgYKCqV6+ebh8DBw5USEiIatWqJT8/P23fvl2urq5auHChfvnlF4WFhWnKlCl67bXX7I6rV6+eBg8erG7dusnPz09Tp06VdGP2zN69e+vFF19USEiI/vOf/2jnzp1MaAIAAAAgW5mMf/9QDDnCarXKYrFIY8dK7u45XQ4AAACykTFxYk6XgFzsZjZISkqSr6/vHds61MgcAAAAAOAGh5sAJS9LCg+/a/oGAAAAAImROQAAAABwSIQ5AAAAAHBAhDkAAAAAcED8Zi4XsURFMZslAABAPsCMlsgKjMwBAAAAgAMizAEAAACAAyLMAQAAAIADIsxlUuPGjTV8+HBJUlBQkGbMmJGj9QAAAADIn5gAJZOWLVsmV1dXSdLu3bvl5eVl22cymbR8+XJ16NAhh6oDAAAAkF8Q5jKpUKFCtr/9/PxysBIAAAAA+RmvWWbS7V6zDAoKkiR17NhRJpPJtg4AAAAA2YGRuSyye/duFS1aVHPnzlWrVq3k7Ox827bJyclKTk62rVut1gdRIgAAAIA8hJG5LHLzlcsCBQqoWLFid3wFMyoqShaLxbYEBgY+qDIBAAAA5BGEuRwQHh6upKQk23LixImcLgkAAACAg+E1yxxgNptlNptzugwAAAAADoyRuSzk6uqqlJSUnC4DAAAAQD5AmMtCQUFB2rhxo06dOqV//vknp8sBAAAAkIcR5rLQtGnTtGHDBgUGBqp69eo5XQ4AAACAPIzfzGVSdHS07e/4+Hi7fe3atVO7du0ebEEAAAAA8iVG5gAAAADAATEyl4skhYfL19c3p8sAAAAA4AAYmQMAAAAAB0SYAwAAAAAHRJgDAAAAAAfEb+ZyEUtUlOTuntNlAAAAwAEZEyfmdAl4wBiZAwAAAAAHRJgDAAAAAAdEmAMAAAAAB5Qrw1x0dLRMJpPOnTuXo3U0btxYw4cPz9EaAAAAACA9uXIClHr16ikhIUEWiyVH61i2bJlcXV1t60FBQRo+fDgBDwAAAECOy5Vhzs3NTcWKFcvWc1y9elVubm53bFOoUKFsrQEAAAAA7lW2vGYZFBSkGTNm2G2rVq2aIiIiJEkmk0kfffSROnbsKE9PT5UvX15ff/21re2/X7NMSkqSh4eH1q5da9ffsmXL5OXlpQsXLkiS/vzzT3Xr1k0FCxZU4cKF1b59e8XHx9va9+3bVx06dFBUVJSKFy+uChUqSJJmzZql8uXLy93dXf7+/urcubPtmH+/Ztm4cWP9/vvvGjFihEwmk0wmky5evChfX18tWbLErrZvvvlGXl5eOn/+/P3cRgAAAAC4rRz7zVxkZKS6du2qAwcOqHXr1urRo4fOnj2bpp3FYlGbNm30+eef223/4osv1L59e3l7e+vSpUtq0qSJvL29tXXrVn333Xfy9vZWq1atdPXqVdsxGzduVGxsrDZs2KCVK1dqz549GjZsmF555RUdPnxYa9euVcOGDdOtd9myZSpZsqReeeUVJSQkKCEhQV5eXnryySc1d+5cu7Zz585V586d5ePjk25fycnJslqtdgsAAAAAZEaOhbm+ffuqe/fuCg4O1uTJk3Xx4kXt2rUr3bY9evTQihUrdOnSJUmS1WrVqlWr1LNnT0nSokWL5OTkpI8++kihoaGqVKmS5s6dq+PHjys6OtrWj5eXlz766CNVqVJFDz30kI4fPy4vLy+1bdtWpUuXVvXq1TVs2LB0ayhUqJCcnZ3l4+OjYsWK2V4DHTBggNatW6eTJ09Kkk6fPq2VK1eqX79+t732qKgoWSwW2xIYGJjp+wcAAAAgf8uxMFe1alXb315eXvLx8VFiYmK6bdu0aSMXFxfbq5hLly6Vj4+PWrRoIUnau3evfv31V/n4+Mjb21ve3t4qVKiQrly5ori4OFs/oaGhdr+Ta968uUqXLq2yZcuqV69e+vzzz22BMaPq1KmjKlWqaMGCBZKkTz/9VKVKlbrtCJ8khYeHKykpybacOHEiU+cEAAAAgGwJc05OTjIMw27btWvX7Nb/PUukdON3dKmpqen25+bmps6dO+uLL76QdOMVy27dusnF5cb8LampqapZs6ZiYmLsliNHjuipp56y9ePl5WXXr4+Pj/bt26eFCxcqICBAEyZMUFhYWKY/iTBgwADbq5Zz587V008/LZPJdNv2ZrNZvr6+dgsAAAAAZEa2hDk/Pz8lJCTY1q1Wq44dO3Zfffbo0UNr167Vzz//rM2bN6tHjx62fTVq1NDRo0dVtGhRBQcH2y13+7yBi4uLmjVrpqlTp+rAgQOKj4/Xpk2b0m3r5uamlJSUNNt79uyp48eP6+2339bPP/+sPn363Ne1AgAAAMDdZEuYe+yxx/Tpp59q27Zt+umnn9SnTx85OzvfV5+NGjWSv7+/evTooaCgID3yyCO2fT169FCRIkXUvn17bdu2TceOHdOWLVv0wgsv6I8//rhtnytXrtTbb7+tmJgY/f7771qwYIFSU1MVEhKSbvugoCBt3bpVf/75p06fPm3bXrBgQXXq1EmjRo1SixYtVLJkyfu6VgAAAAC4m2wJc+Hh4WrYsKHatm2r1q1bq0OHDipXrtx99WkymdS9e3f9+OOPdqNykuTp6amtW7eqVKlS6tSpkypVqqR+/frp8uXLd3yFsUCBAlq2bJkee+wxVapUSe+//74WLlyoKlWqpNv+lVdeUXx8vMqVKyc/Pz+7ff3799fVq1fvOPEJAAAAAGQVk3Hrj9twTz7//HO98MILOnny5F0/Rn4rq9V643XQsWMld/dsqhAAAAB5mTFxYk6XgCxwMxskJSXddW4NlwdUU5516dIlHTt2TFFRUXrmmWcyHeQAAAAA4F4wMnefIiIiNGnSJDVs2FD/+9//5O3tnek+MpO+AQAAAORdmckGhLlcgDAHAAAAQMpcNsixj4YDAAAAAO4dYQ4AAAAAHBBhDgAAAAAcELNZ5iKWqCg+TQAAAIA8j88oZA1G5gAAAADAARHmAAAAAMAB5dswN2/ePBUoUCCnywAAAACAe+JQYa5v377q0KFDTpdxW9HR0TKZTDp37lxOlwIAAAAgj3OoMAcAAAAAuCFXhrklS5YoNDRUHh4eKly4sJo1a6ZRo0Zp/vz5+t///ieTySSTyaTo6Oh0R8NiYmJkMpkUHx9v2zZv3jyVKlVKnp6e6tixo86cOZPmvN98841q1qwpd3d3lS1bVpGRkbp+/bptv8lk0kcffaSOHTvK09NT5cuX19dffy1Jio+PV5MmTSRJBQsWlMlkUt++fbPl/gAAAABArgtzCQkJ6t69u/r166fY2FhFR0erU6dOmjhxorp27apWrVopISFBCQkJqlevXob63Llzp/r166chQ4YoJiZGTZo00WuvvWbXZt26derZs6eGDRumQ4cO6YMPPtC8efM0adIku3aRkZHq2rWrDhw4oNatW6tHjx46e/asAgMDtXTpUknS4cOHlZCQoJkzZ6ZbT3JysqxWq90CAAAAAJmRK8Pc9evX1alTJwUFBSk0NFRDhgyRt7e3PDw8ZDabVaxYMRUrVkxubm4Z6nPmzJlq2bKlxo4dqwoVKmjYsGFq2bKlXZtJkyZp7Nix6tOnj8qWLavmzZvr1Vdf1QcffGDXrm/fvurevbuCg4M1efJkXbx4Ubt27ZKzs7MKFSokSSpatKiKFSsmi8WSbj1RUVGyWCy2JTAw8B7uFAAAAID8LNeFubCwMDVt2lShoaHq0qWL5syZo3/++ee++oyNjVXdunXttt26vnfvXr3yyivy9va2LQMHDlRCQoIuXbpka1e1alXb315eXvLx8VFiYmKm6gkPD1dSUpJtOXHixD1cFQAAAID8zCWnC7iVs7OzNmzYoB07dmj9+vV655139PLLL2vnzp3ptndyupFHDcOwbbt27Zpdm3/vu53U1FRFRkaqU6dOafa5u7vb/nZ1dbXbZzKZlJqaetf+/81sNstsNmfqGAAAAAD4t1wX5qQbAal+/fqqX7++JkyYoNKlS2v58uVyc3NTSkqKXVs/Pz9JN17PLFiwoKQbE6D8W+XKlfXDDz/Ybbt1vUaNGjp8+LCCg4Pvue6br33eWiMAAAAAZLVcF+Z27typjRs3qkWLFipatKh27typv//+W5UqVdKVK1e0bt06HT58WIULF5bFYlFwcLACAwMVERGh1157TUePHtW0adPs+hw2bJjq1aunqVOnqkOHDlq/fr3Wrl1r12bChAlq27atAgMD1aVLFzk5OenAgQM6ePBgmslSbqd06dIymUxauXKlWrduLQ8PD3l7e2fZvQEAAACAm3Ldb+Z8fX21detWtW7dWhUqVNC4ceM0bdo0Pf744xo4cKBCQkJUq1Yt+fn5afv27XJ1ddXChQv1yy+/KCwsTFOmTEkTvh555BF99NFHeuedd1StWjWtX79e48aNs2vTsmVLrVy5Uhs2bFDt2rX1yCOP6K233lLp0qUzXHuJEiUUGRmpsWPHyt/fX0OHDs2SewIAAAAAtzIZGflBGbKV1Wq9MfPl2LHSv36fBwAAAORFxsSJOV1CrnUzGyQlJcnX1/eObXPdyBwAAAAA4O4IcwAAAADggHLdBCj5WVJ4+F2HUgEAAABAYmQOAAAAABwSYQ4AAAAAHBBhDgAAAAAcEL+Zy0UsUVF8mgAAAAB4gBz5MwmMzAEAAACAAyLMAQAAAIADIswBAAAAgAMizAEAAACAAyLMAQAAAIADynNhzjAMTZ06VWXLlpWHh4fCwsK0ZMkSGYahZs2aqVWrVjIMQ5J07tw5lSpVSi+//LIkKSUlRf3791eZMmXk4eGhkJAQzZw5067/vn37qkOHDpo8ebL8/f1VoEABRUZG6vr16xo1apQKFSqkkiVL6pNPPnng1w4AAAAg/8hznyYYN26cli1bptmzZ6t8+fLaunWrevbsKT8/P82fP1+hoaF6++239cILL2jw4MHy9/dXRESEJCk1NVUlS5bUl19+qSJFimjHjh0aNGiQAgIC1LVrV9s5Nm3apJIlS2rr1q3avn27+vfvr++//14NGzbUzp07tXjxYg0ePFjNmzdXYGBgmhqTk5OVnJxsW7dardl+XwAAAADkLSbj5jBVHnDx4kUVKVJEmzZtUt26dW3bBwwYoEuXLumLL77QV199pV69emnkyJGaOXOm9u/frwoVKty2z+eee05//fWXlixZIunGyFx0dLR+++03OTndGNisWLGiihYtqq1bt0q6McJnsVj00Ucf6cknn0zTZ0REhCIjI9OebOxYvjMHAAAAPEC57TtzVqtVFotFSUlJ8vX1vWPbPDUyd+jQIV25ckXNmze323716lVVr15dktSlSxctX75cUVFRmj17dpog9/777+ujjz7S77//rsuXL+vq1auqVq2aXZsqVarYgpwk+fv766GHHrKtOzs7q3DhwkpMTEy3zvDwcI0cOdK2brVa0x3BAwAAAIDbyVNhLjU1VZK0atUqlShRwm6f2WyWJF26dEl79+6Vs7Ozjh49atfmyy+/1IgRIzRt2jTVrVtXPj4+euONN7Rz5067dq6urnbrJpMp3W0367mV2Wy21QMAAAAA9yJPhbnKlSvLbDbr+PHjatSoUbptXnzxRTk5OWnNmjVq3bq12rRpo8cee0yStG3bNtWrV09DhgyxtY+Li3sgtQMAAABAZuSpMOfj46OXXnpJI0aMUGpqqho0aCCr1aodO3bI29tbRYoU0SeffKLvv/9eNWrU0NixY9WnTx8dOHBABQsWVHBwsBYsWKB169apTJky+vTTT7V7926VKVMmpy8NAAAAAOzkuU8TvPrqq5owYYKioqJUqVIltWzZUt98842CgoLUv39/RUREqEaNGpKkiRMnqnjx4ho8eLAkafDgwerUqZO6deumhx9+WGfOnLEbpQMAAACA3CJPzWbpqG7OWMNslgAAAMCD5cizWea5kTkAAAAAyA8IcwAAAADggPLUBCiOLik8/K5DqQAAAAAgMTIHAAAAAA6JMAcAAAAADogwBwAAAAAOiDAHAAAAAA6IMAcAAAAADogwBwAAAAAOiDAHAAAAAA6IMAcAAAAADogwBwAAAAAOiDAHAAAAAA6IMAcAAAAADogwBwAAAAAOiDAHAAAAAA6IMAcAAAAADogwBwAAAAAOiDAHAAAAAA6IMAcAAAAADogwBwAAAAAOiDAHAAAAAA7IJacLgGQYhiTJarXmcCUAAAAActLNTHAzI9wJYS4XOHPmjCQpMDAwhysBAAAAkBucP39eFovljm0Ic7lAoUKFJEnHjx+/6z8Y7p/ValVgYKBOnDghX1/fnC4nT+NePzjc6weHe/1gcb8fHO71g8O9frAc7X4bhqHz58+rePHid21LmMsFnJxu/HTRYrE4xAOWV/j6+nK/HxDu9YPDvX5wuNcPFvf7weFePzjc6wfLke53Rgd4mAAFAAAAABwQYQ4AAAAAHBBhLhcwm82aOHGizGZzTpeSL3C/Hxzu9YPDvX5wuNcPFvf7weFePzjc6wcrL99vk5GROS8BAAAAALkKI3MAAAAA4IAIcwAAAADggAhzAAAAAOCACHMAAAAA4IAIcw/IrFmzVKZMGbm7u6tmzZratm3bHdtv2bJFNWvWlLu7u8qWLav333//AVXq+DJzr6Ojo2UymdIsv/zyywOs2DFt3bpV7dq1U/HixWUymbRixYq7HsNzfe8ye795tu9NVFSUateuLR8fHxUtWlQdOnTQ4cOH73ocz/a9uZf7zbN9b2bPnq2qVavaPppct25drVmz5o7H8Fzfm8zea57prBMVFSWTyaThw4ffsV1eerYJcw/A4sWLNXz4cL388svav3+/Hn30UT3++OM6fvx4uu2PHTum1q1b69FHH9X+/fv13//+V8OGDdPSpUsfcOWOJ7P3+qbDhw8rISHBtpQvX/4BVey4Ll68qLCwML377rsZas9zfX8ye79v4tnOnC1btui5557TDz/8oA0bNuj69etq0aKFLl68eNtjeLbv3b3c75t4tjOnZMmSev3117Vnzx7t2bNHjz32mNq3b6+ff/453fY81/cus/f6Jp7p+7N79259+OGHqlq16h3b5bln20C2q1OnjjF48GC7bRUrVjTGjh2bbvvRo0cbFStWtNv2zDPPGI888ki21ZhXZPZeb9682ZBk/PPPPw+gurxLkrF8+fI7tuG5zjoZud8821kjMTHRkGRs2bLltm14trNORu43z3bWKViwoPHRRx+lu4/nOmvd6V7zTN+/8+fPG+XLlzc2bNhgNGrUyHjhhRdu2zavPduMzGWzq1evau/evWrRooXd9hYtWmjHjh3pHvP999+nad+yZUvt2bNH165dy7ZaHd293OubqlevroCAADVt2lSbN2/OzjLzLZ7rnMGzfX+SkpIkSYUKFbptG57trJOR+30Tz/a9S0lJ0aJFi3Tx4kXVrVs33TY811kjI/f6Jp7pe/fcc8+pTZs2atas2V3b5rVnmzCXzU6fPq2UlBT5+/vbbff399epU6fSPebUqVPptr9+/bpOnz6dbbU6unu51wEBAfrwww+1dOlSLVu2TCEhIWratKm2bt36IErOV3iuHyye7ftnGIZGjhypBg0a6KGHHrptO57trJHR+82zfe8OHjwob29vmc1mDR48WMuXL1flypXTbctzfX8yc695pu/PokWLtG/fPkVFRWWofV57tl1yuoD8wmQy2a0bhpFm293ap7cdaWXmXoeEhCgkJMS2XrduXZ04cUJvvvmmGjZsmK115kc81w8Oz/b9Gzp0qA4cOKDvvvvurm15tu9fRu83z/a9CwkJUUxMjM6dO6elS5eqT58+2rJly21DBs/1vcvMveaZvncnTpzQCy+8oPXr18vd3T3Dx+WlZ5uRuWxWpEgROTs7pxkZSkxMTPP/CtxUrFixdNu7uLiocOHC2Varo7uXe52eRx55REePHs3q8vI9nuucx7Odcc8//7y+/vprbd68WSVLlrxjW57t+5eZ+50enu2McXNzU3BwsGrVqqWoqCiFhYVp5syZ6bblub4/mbnX6eGZzpi9e/cqMTFRNWvWlIuLi1xcXLRlyxa9/fbbcnFxUUpKSppj8tqzTZjLZm5ubqpZs6Y2bNhgt33Dhg2qV69eusfUrVs3Tfv169erVq1acnV1zbZaHd293Ov07N+/XwEBAVldXr7Hc53zeLbvzjAMDR06VMuWLdOmTZtUpkyZux7Ds33v7uV+p4dn+94YhqHk5OR09/FcZ6073ev08ExnTNOmTXXw4EHFxMTYllq1aqlHjx6KiYmRs7NzmmPy3LOdI9Ou5DOLFi0yXF1djY8//tg4dOiQMXz4cMPLy8uIj483DMMwxo4da/Tq1cvW/rfffjM8PT2NESNGGIcOHTI+/vhjw9XV1ViyZElOXYLDyOy9nj59urF8+XLjyJEjxk8//WSMHTvWkGQsXbo0py7BYZw/f97Yv3+/sX//fkOS8dZbbxn79+83fv/9d8MweK6zWmbvN8/2vXn22WcNi8ViREdHGwkJCbbl0qVLtjY821nnXu43z/a9CQ8PN7Zu3WocO3bMOHDggPHf//7XcHJyMtavX28YBs91VsrsveaZzlq3zmaZ159twtwD8t577xmlS5c23NzcjBo1athNu9ynTx+jUaNGdu2jo6ON6tWrG25ubkZQUJAxe/bsB1yx48rMvZ4yZYpRrlw5w93d3ShYsKDRoEEDY9WqVTlQteO5OZXyrUufPn0Mw+C5zmqZvd882/cmvXssyZg7d66tDc921rmX+82zfW/69etn++9GPz8/o2nTprZwYRg811kps/eaZzpr3Rrm8vqzbTKM//+LPwAAAACAw+A3cwAAAADggAhzAAAAAOCACHMAAAAA4IAIcwAAAADggAhzAAAAAOCACHMAAAAA4IAIcwAAAADggAhzAAAAAOCACHMAgHwpOjpaJpNJ586du69+GjdurOHDh9+xTVBQkGbMmGFbN5lMWrFihSQpPj5eJpNJMTEx91XH/Zg3b54KFChgt+3DDz9UYGCgnJycbLWntw0AkHMIcwCADOvbt686dOjwQM85b948mUwm2xIQEKCuXbvq2LFjD7SO+7F7924NGjQo3X2BgYFKSEjQQw89JCnrQqYku/vm5eWl8uXLq2/fvtq7d69du27duunIkSO2davVqqFDh2rMmDH6888/NWjQoHS3AQByFmEOAJDr+fr6KiEhQSdPntQXX3yhmJgY/ec//1FKSkqatoZh6Pr16zlQ5e35+fnJ09Mz3X3Ozs4qVqyYXFxcsuXcc+fOVUJCgn7++We99957unDhgh5++GEtWLDA1sbDw0NFixa1rR8/flzXrl1TmzZtFBAQIE9Pz3S33Ytr167d9zUBAG4gzAEAssyWLVtUp04dmc1mBQQEaOzYsXbB6vz58+rRo4e8vLwUEBCg6dOnZ+g1RZPJpGLFiikgIEBNmjTRxIkT9dNPP+nXX3+1jWStW7dOtWrVktls1rZt25ScnKxhw4apaNGicnd3V4MGDbR79+40fW/fvl1hYWFyd3fXww8/rIMHD9r2nTlzRt27d1fJkiXl6emp0NBQLVy4ME0f169f19ChQ1WgQAEVLlxY48aNk2EYtv23vmb5b/9+zTI+Pl5NmjSRJBUsWFAmk0l9+/bVggULVLhwYSUnJ9sd+8QTT6h37953vHcFChRQsWLFFBQUpBYtWmjJkiXq0aOHhg4dqn/++UeS/WuW8+bNU2hoqCSpbNmyMplM6W6Lj4+XJH3zzTeqWbOm3N3dVbZsWUVGRtr9m5tMJr3//vtq3769vLy89Nprr2X4uI8++kgdO3aUp6enypcvr6+//tru2n7++We1adNGvr6+8vHx0aOPPqq4uDjb/rlz56pSpUpyd3dXxYoVNWvWrDveKwBwNIQ5AECW+PPPP9W6dWvVrl1bP/74o2bPnq2PP/7Y9j/eJWnkyJHavn27vv76a23YsEHbtm3Tvn37Mn0uDw8PSfajPKNHj1ZUVJRiY2NVtWpVjR49WkuXLtX8+fO1b98+BQcHq2XLljp79qxdX6NGjdKbb76p3bt3q2jRovrPf/5j6/fKlSuqWbOmVq5cqZ9++kmDBg1Sr169tHPnTrs+5s+fLxcXF+3cuVNvv/22pk+fro8++ijT1xUYGKilS5dKkg4fPqyEhATNnDlTXbp0UUpKil2YOX36tFauXKmnn3460+cZMWKEzp8/rw0bNqTZ161bN3377beSpF27dikhIUFdunRJsy0wMFDr1q1Tz549NWzYMB06dEgffPCB5s2bp0mTJtn1OXHiRLVv314HDx5Uv379MnxcZGSkunbtqgMHDqh169bq0aOH7d/vzz//VMOGDeXu7q5NmzZp79696tevny0QzpkzRy+//LImTZqk2NhYTZ48WePHj9f8+fMzfb8AINcyAADIoD59+hjt27dPd99///tfIyQkxEhNTbVte++99wxvb28jJSXFsFqthqurq/HVV1/Z9p87d87w9PQ0Xnjhhduec+7cuYbFYrGtnzhxwnjkkUeMkiVLGsnJycbmzZsNScaKFStsbS5cuGC4uroan3/+uW3b1atXjeLFixtTp041DMOwHbdo0SJbmzNnzhgeHh7G4sWLb1tP69atjRdffNG23qhRI6NSpUp21z1mzBijUqVKtvXSpUsb06dPt61LMpYvX24YhmEcO3bMkGTs37/frq5//vnH7rzPPvus8fjjj9vWZ8yYYZQtW9buvLf693n+7fLly4YkY8qUKYZhpL3H+/fvNyQZx44du+O2Rx991Jg8ebJd359++qkREBBgV8Pw4cPt2mT0uHHjxtnWL1y4YJhMJmPNmjWGYRhGeHi4UaZMGePq1avpXntgYKDxxRdf2G179dVXjbp166bbHgAcUfa8oA8AyHdiY2NVt25dmUwm27b69evrwoUL+uOPP/TPP//o2rVrqlOnjm2/xWJRSEjIXftOSkqSt7e3DMPQpUuXVKNGDS1btkxubm62NrVq1bL9HRcXp2vXrql+/fq2ba6urqpTp45iY2Pt+q5bt67t70KFCikkJMTWJiUlRa+//roWL16sP//8U8nJyUpOTpaXl5ddH4888ojdddetW1fTpk1TSkqKnJ2d73p9GTFw4EDVrl1bf/75p0qUKKG5c+eqb9++dufNKOP/vwJ6L8f+2969e7V79267EbWUlBRduXJFly5dsv2u7t//Npk5rmrVqrb9Xl5e8vHxUWJioiQpJiZGjz76qFxdXdPU9ffff+vEiRPq37+/Bg4caNt+/fp1WSyW+7pmAMhNCHMAgCxhGEaacPDv0HC7AGH867dlt+Pj46N9+/bJyclJ/v7+acKUJLttdzpXRgLMzTbTpk3T9OnTNWPGDIWGhsrLy0vDhw/X1atX79pHVqtevbrCwsK0YMECtWzZUgcPHtQ333xzT33dDKtlypS5r5pSU1MVGRmpTp06pdnn7u5u+/vWf6+MHndrUDOZTEpNTZX0f6/a3q4u6carlg8//LDdvqwK1wCQGxDmAABZonLlylq6dKldYNqxY4d8fHxUokQJFShQQK6urtq1a5cCAwMl3ZgC/+jRo2rUqNEd+3ZyclJwcHCGawkODpabm5u+++47PfXUU5Ju/L5uz549aSZb+eGHH1SqVClJ0j///KMjR46oYsWKkqRt27apffv26tmzp6QbIeHo0aOqVKlSmj5uXS9fvvw9BYebo43pzdQ5YMAATZ8+XX/++aeaNWtmu4+ZNWPGDPn6+v6/9u4lJLUtDgP4l1KUluGDHEg1CapBLwtHQZNCCqEggkBSQumFFkhK0cNyVJYS2SSaWPMgwoIaSBBERBTUJAtq4MRRJlEhQfcOLifyerm3xznHvHy/4Watvf+bPfpYa+0/GhsbPzX/B7VajVAo9KFv85V5b1VWVmJ1dRXPz89JoU+pVEKlUuH6+hp6vf7TzyAi+u4Y5oiI6ENisVhSg2uZTIaBgQEsLCzAarXCYrEgFArB6XTCZrNBIBAgLy8PRqMRdrsdMpkMBQUFcDqdEAgEX97u93disRj9/f2vzyoqKoLb7cbj4yNMJlPCWJfLBblcDqVSibGxMSgUitdeeiUlJVhfX8fBwQGkUim8Xi8ikUhSmAuHw7DZbOjt7cXJyQl8Ph88Hs+nai8uLkZGRgYCgQBaWlqQk5OD3NxcAIBer8fw8DBWVlYSWgv8m7u7O0QiEcTjcVxeXmJ5eRkbGxtYW1tLahT+UZOTk9DpdCgsLERHRwcEAgHOzs5wfn6e8OObnzXvLYvFAp/Ph87OToyOjiI/Px+Hh4fQaDQoLS3F1NQUBgcHIZFI0NzcjHg8juPjY0SjUdhsti+9NxHRd8EwR0REH7K3t4eampqEa0ajEX6/H9vb27Db7aiqqoJMJoPJZML4+PjrOK/Xi76+Puh0OkgkEjgcDoTD4YStdT/LzMwMXl5e0NXVhfv7e9TV1WFnZwdSqTRp3NDQEK6urlBVVYXNzc3X1bGJiQnc3NxAq9VCJBKhp6cHbW1tiMViCfcwGAx4enqCRqOBUCiE1Wr9dFNtlUqF6elpjIyMoLu7GwaDAX6/H8Bf/fba29uxtbX17ubtP/52mZ2dDZVKhfr6ehwdHUGtVn+qvre0Wi0CgQBcLhfcbjcyMzNRVlYGs9n8S+a9JZfLEQwGYbfb0dDQAKFQiOrq6tdzkmazGSKRCHNzc3A4HBCLxaioqPjPNhhEROkk44/3HFYgIiL6BR4eHqBSqeDxeJJWzOifNTU1oby8HIuLi6kuhYiIUowrc0RE9Nucnp7i4uICGo0GsVgMLpcLANDa2priyr6/29tb7O7uIhgMYmlpKdXlEBHRN8AwR0REv9X8/DxCoRCysrJQW1uL/f19KBSKVJf17anVakSjUczOzr6rnQMREf3/cZslERERERFRGhKkugAiIiIiIiL6OIY5IiIiIiKiNMQwR0RERERElIYY5oiIiIiIiNIQwxwREREREVEaYpgjIiIiIiJKQwxzREREREREaYhhjoiIiIiIKA39CTomfJifJDDfAAAAAElFTkSuQmCC",
      "text/plain": [
       "<Figure size 1000x600 with 1 Axes>"
      ]
     },
     "metadata": {},
     "output_type": "display_data"
    }
   ],
   "source": [
    "tfidf = TfidfVectorizer(max_features=1000)\n",
    "X_train_tfidf = tfidf.fit_transform(X_train['content'])\n",
    "X_test_tfidf = tfidf.transform(X_test['content'])\n",
    "\n",
    "nb = MultinomialNB()\n",
    "nb.fit(X_train_tfidf, y_train) \n",
    "\n",
    "# Get the feature names from TfidfVectorizer\n",
    "feature_names = tfidf.get_feature_names_out()\n",
    "\n",
    "# Calculate the difference of log probabilities for the classes\n",
    "class_diff = nb.feature_log_prob_\n",
    "\n",
    "# Visualize the differences between two specific classes\n",
    "if class_diff.shape[0] > 1:\n",
    "    importance = class_diff[1] - class_diff[0] \n",
    "else:\n",
    "    importance = class_diff[0]\n",
    "\n",
    "# Sort the features based on importance\n",
    "sorted_idx = importance.argsort()\n",
    "\n",
    "# Plot the most important features\n",
    "top_n = 20 \n",
    "top_features = feature_names[sorted_idx[-top_n:]]\n",
    "top_importance = importance[sorted_idx[-top_n:]]\n",
    "\n",
    "# Plot the top features\n",
    "plt.figure(figsize=(10, 6))\n",
    "plt.barh(top_features, top_importance, color='teal')\n",
    "plt.xlabel('Log Probability Difference')\n",
    "plt.title(f'Top {top_n} Important Features')\n",
    "plt.gca().invert_yaxis()  # Highest coefficients at the top\n",
    "plt.show()"
   ]
  },
  {
   "cell_type": "markdown",
   "id": "ebeb648f-560d-4938-ae2f-82d8329a1eaa",
   "metadata": {},
   "source": [
    "_These features are the words or phrases that contribute the most to the model's predictions. It provides insight into which terms are most indicative of specific categories, making the model's decisions more interpretable._"
   ]
  },
  {
   "cell_type": "code",
   "execution_count": 88,
   "id": "b2b2b3cb-3567-44da-a42c-a73b6a82f94f",
   "metadata": {},
   "outputs": [
    {
     "data": {
      "text/html": [
       "<style>#sk-container-id-1 {\n",
       "  /* Definition of color scheme common for light and dark mode */\n",
       "  --sklearn-color-text: black;\n",
       "  --sklearn-color-line: gray;\n",
       "  /* Definition of color scheme for unfitted estimators */\n",
       "  --sklearn-color-unfitted-level-0: #fff5e6;\n",
       "  --sklearn-color-unfitted-level-1: #f6e4d2;\n",
       "  --sklearn-color-unfitted-level-2: #ffe0b3;\n",
       "  --sklearn-color-unfitted-level-3: chocolate;\n",
       "  /* Definition of color scheme for fitted estimators */\n",
       "  --sklearn-color-fitted-level-0: #f0f8ff;\n",
       "  --sklearn-color-fitted-level-1: #d4ebff;\n",
       "  --sklearn-color-fitted-level-2: #b3dbfd;\n",
       "  --sklearn-color-fitted-level-3: cornflowerblue;\n",
       "\n",
       "  /* Specific color for light theme */\n",
       "  --sklearn-color-text-on-default-background: var(--sg-text-color, var(--theme-code-foreground, var(--jp-content-font-color1, black)));\n",
       "  --sklearn-color-background: var(--sg-background-color, var(--theme-background, var(--jp-layout-color0, white)));\n",
       "  --sklearn-color-border-box: var(--sg-text-color, var(--theme-code-foreground, var(--jp-content-font-color1, black)));\n",
       "  --sklearn-color-icon: #696969;\n",
       "\n",
       "  @media (prefers-color-scheme: dark) {\n",
       "    /* Redefinition of color scheme for dark theme */\n",
       "    --sklearn-color-text-on-default-background: var(--sg-text-color, var(--theme-code-foreground, var(--jp-content-font-color1, white)));\n",
       "    --sklearn-color-background: var(--sg-background-color, var(--theme-background, var(--jp-layout-color0, #111)));\n",
       "    --sklearn-color-border-box: var(--sg-text-color, var(--theme-code-foreground, var(--jp-content-font-color1, white)));\n",
       "    --sklearn-color-icon: #878787;\n",
       "  }\n",
       "}\n",
       "\n",
       "#sk-container-id-1 {\n",
       "  color: var(--sklearn-color-text);\n",
       "}\n",
       "\n",
       "#sk-container-id-1 pre {\n",
       "  padding: 0;\n",
       "}\n",
       "\n",
       "#sk-container-id-1 input.sk-hidden--visually {\n",
       "  border: 0;\n",
       "  clip: rect(1px 1px 1px 1px);\n",
       "  clip: rect(1px, 1px, 1px, 1px);\n",
       "  height: 1px;\n",
       "  margin: -1px;\n",
       "  overflow: hidden;\n",
       "  padding: 0;\n",
       "  position: absolute;\n",
       "  width: 1px;\n",
       "}\n",
       "\n",
       "#sk-container-id-1 div.sk-dashed-wrapped {\n",
       "  border: 1px dashed var(--sklearn-color-line);\n",
       "  margin: 0 0.4em 0.5em 0.4em;\n",
       "  box-sizing: border-box;\n",
       "  padding-bottom: 0.4em;\n",
       "  background-color: var(--sklearn-color-background);\n",
       "}\n",
       "\n",
       "#sk-container-id-1 div.sk-container {\n",
       "  /* jupyter's `normalize.less` sets `[hidden] { display: none; }`\n",
       "     but bootstrap.min.css set `[hidden] { display: none !important; }`\n",
       "     so we also need the `!important` here to be able to override the\n",
       "     default hidden behavior on the sphinx rendered scikit-learn.org.\n",
       "     See: https://github.com/scikit-learn/scikit-learn/issues/21755 */\n",
       "  display: inline-block !important;\n",
       "  position: relative;\n",
       "}\n",
       "\n",
       "#sk-container-id-1 div.sk-text-repr-fallback {\n",
       "  display: none;\n",
       "}\n",
       "\n",
       "div.sk-parallel-item,\n",
       "div.sk-serial,\n",
       "div.sk-item {\n",
       "  /* draw centered vertical line to link estimators */\n",
       "  background-image: linear-gradient(var(--sklearn-color-text-on-default-background), var(--sklearn-color-text-on-default-background));\n",
       "  background-size: 2px 100%;\n",
       "  background-repeat: no-repeat;\n",
       "  background-position: center center;\n",
       "}\n",
       "\n",
       "/* Parallel-specific style estimator block */\n",
       "\n",
       "#sk-container-id-1 div.sk-parallel-item::after {\n",
       "  content: \"\";\n",
       "  width: 100%;\n",
       "  border-bottom: 2px solid var(--sklearn-color-text-on-default-background);\n",
       "  flex-grow: 1;\n",
       "}\n",
       "\n",
       "#sk-container-id-1 div.sk-parallel {\n",
       "  display: flex;\n",
       "  align-items: stretch;\n",
       "  justify-content: center;\n",
       "  background-color: var(--sklearn-color-background);\n",
       "  position: relative;\n",
       "}\n",
       "\n",
       "#sk-container-id-1 div.sk-parallel-item {\n",
       "  display: flex;\n",
       "  flex-direction: column;\n",
       "}\n",
       "\n",
       "#sk-container-id-1 div.sk-parallel-item:first-child::after {\n",
       "  align-self: flex-end;\n",
       "  width: 50%;\n",
       "}\n",
       "\n",
       "#sk-container-id-1 div.sk-parallel-item:last-child::after {\n",
       "  align-self: flex-start;\n",
       "  width: 50%;\n",
       "}\n",
       "\n",
       "#sk-container-id-1 div.sk-parallel-item:only-child::after {\n",
       "  width: 0;\n",
       "}\n",
       "\n",
       "/* Serial-specific style estimator block */\n",
       "\n",
       "#sk-container-id-1 div.sk-serial {\n",
       "  display: flex;\n",
       "  flex-direction: column;\n",
       "  align-items: center;\n",
       "  background-color: var(--sklearn-color-background);\n",
       "  padding-right: 1em;\n",
       "  padding-left: 1em;\n",
       "}\n",
       "\n",
       "\n",
       "/* Toggleable style: style used for estimator/Pipeline/ColumnTransformer box that is\n",
       "clickable and can be expanded/collapsed.\n",
       "- Pipeline and ColumnTransformer use this feature and define the default style\n",
       "- Estimators will overwrite some part of the style using the `sk-estimator` class\n",
       "*/\n",
       "\n",
       "/* Pipeline and ColumnTransformer style (default) */\n",
       "\n",
       "#sk-container-id-1 div.sk-toggleable {\n",
       "  /* Default theme specific background. It is overwritten whether we have a\n",
       "  specific estimator or a Pipeline/ColumnTransformer */\n",
       "  background-color: var(--sklearn-color-background);\n",
       "}\n",
       "\n",
       "/* Toggleable label */\n",
       "#sk-container-id-1 label.sk-toggleable__label {\n",
       "  cursor: pointer;\n",
       "  display: block;\n",
       "  width: 100%;\n",
       "  margin-bottom: 0;\n",
       "  padding: 0.5em;\n",
       "  box-sizing: border-box;\n",
       "  text-align: center;\n",
       "}\n",
       "\n",
       "#sk-container-id-1 label.sk-toggleable__label-arrow:before {\n",
       "  /* Arrow on the left of the label */\n",
       "  content: \"▸\";\n",
       "  float: left;\n",
       "  margin-right: 0.25em;\n",
       "  color: var(--sklearn-color-icon);\n",
       "}\n",
       "\n",
       "#sk-container-id-1 label.sk-toggleable__label-arrow:hover:before {\n",
       "  color: var(--sklearn-color-text);\n",
       "}\n",
       "\n",
       "/* Toggleable content - dropdown */\n",
       "\n",
       "#sk-container-id-1 div.sk-toggleable__content {\n",
       "  max-height: 0;\n",
       "  max-width: 0;\n",
       "  overflow: hidden;\n",
       "  text-align: left;\n",
       "  /* unfitted */\n",
       "  background-color: var(--sklearn-color-unfitted-level-0);\n",
       "}\n",
       "\n",
       "#sk-container-id-1 div.sk-toggleable__content.fitted {\n",
       "  /* fitted */\n",
       "  background-color: var(--sklearn-color-fitted-level-0);\n",
       "}\n",
       "\n",
       "#sk-container-id-1 div.sk-toggleable__content pre {\n",
       "  margin: 0.2em;\n",
       "  border-radius: 0.25em;\n",
       "  color: var(--sklearn-color-text);\n",
       "  /* unfitted */\n",
       "  background-color: var(--sklearn-color-unfitted-level-0);\n",
       "}\n",
       "\n",
       "#sk-container-id-1 div.sk-toggleable__content.fitted pre {\n",
       "  /* unfitted */\n",
       "  background-color: var(--sklearn-color-fitted-level-0);\n",
       "}\n",
       "\n",
       "#sk-container-id-1 input.sk-toggleable__control:checked~div.sk-toggleable__content {\n",
       "  /* Expand drop-down */\n",
       "  max-height: 200px;\n",
       "  max-width: 100%;\n",
       "  overflow: auto;\n",
       "}\n",
       "\n",
       "#sk-container-id-1 input.sk-toggleable__control:checked~label.sk-toggleable__label-arrow:before {\n",
       "  content: \"▾\";\n",
       "}\n",
       "\n",
       "/* Pipeline/ColumnTransformer-specific style */\n",
       "\n",
       "#sk-container-id-1 div.sk-label input.sk-toggleable__control:checked~label.sk-toggleable__label {\n",
       "  color: var(--sklearn-color-text);\n",
       "  background-color: var(--sklearn-color-unfitted-level-2);\n",
       "}\n",
       "\n",
       "#sk-container-id-1 div.sk-label.fitted input.sk-toggleable__control:checked~label.sk-toggleable__label {\n",
       "  background-color: var(--sklearn-color-fitted-level-2);\n",
       "}\n",
       "\n",
       "/* Estimator-specific style */\n",
       "\n",
       "/* Colorize estimator box */\n",
       "#sk-container-id-1 div.sk-estimator input.sk-toggleable__control:checked~label.sk-toggleable__label {\n",
       "  /* unfitted */\n",
       "  background-color: var(--sklearn-color-unfitted-level-2);\n",
       "}\n",
       "\n",
       "#sk-container-id-1 div.sk-estimator.fitted input.sk-toggleable__control:checked~label.sk-toggleable__label {\n",
       "  /* fitted */\n",
       "  background-color: var(--sklearn-color-fitted-level-2);\n",
       "}\n",
       "\n",
       "#sk-container-id-1 div.sk-label label.sk-toggleable__label,\n",
       "#sk-container-id-1 div.sk-label label {\n",
       "  /* The background is the default theme color */\n",
       "  color: var(--sklearn-color-text-on-default-background);\n",
       "}\n",
       "\n",
       "/* On hover, darken the color of the background */\n",
       "#sk-container-id-1 div.sk-label:hover label.sk-toggleable__label {\n",
       "  color: var(--sklearn-color-text);\n",
       "  background-color: var(--sklearn-color-unfitted-level-2);\n",
       "}\n",
       "\n",
       "/* Label box, darken color on hover, fitted */\n",
       "#sk-container-id-1 div.sk-label.fitted:hover label.sk-toggleable__label.fitted {\n",
       "  color: var(--sklearn-color-text);\n",
       "  background-color: var(--sklearn-color-fitted-level-2);\n",
       "}\n",
       "\n",
       "/* Estimator label */\n",
       "\n",
       "#sk-container-id-1 div.sk-label label {\n",
       "  font-family: monospace;\n",
       "  font-weight: bold;\n",
       "  display: inline-block;\n",
       "  line-height: 1.2em;\n",
       "}\n",
       "\n",
       "#sk-container-id-1 div.sk-label-container {\n",
       "  text-align: center;\n",
       "}\n",
       "\n",
       "/* Estimator-specific */\n",
       "#sk-container-id-1 div.sk-estimator {\n",
       "  font-family: monospace;\n",
       "  border: 1px dotted var(--sklearn-color-border-box);\n",
       "  border-radius: 0.25em;\n",
       "  box-sizing: border-box;\n",
       "  margin-bottom: 0.5em;\n",
       "  /* unfitted */\n",
       "  background-color: var(--sklearn-color-unfitted-level-0);\n",
       "}\n",
       "\n",
       "#sk-container-id-1 div.sk-estimator.fitted {\n",
       "  /* fitted */\n",
       "  background-color: var(--sklearn-color-fitted-level-0);\n",
       "}\n",
       "\n",
       "/* on hover */\n",
       "#sk-container-id-1 div.sk-estimator:hover {\n",
       "  /* unfitted */\n",
       "  background-color: var(--sklearn-color-unfitted-level-2);\n",
       "}\n",
       "\n",
       "#sk-container-id-1 div.sk-estimator.fitted:hover {\n",
       "  /* fitted */\n",
       "  background-color: var(--sklearn-color-fitted-level-2);\n",
       "}\n",
       "\n",
       "/* Specification for estimator info (e.g. \"i\" and \"?\") */\n",
       "\n",
       "/* Common style for \"i\" and \"?\" */\n",
       "\n",
       ".sk-estimator-doc-link,\n",
       "a:link.sk-estimator-doc-link,\n",
       "a:visited.sk-estimator-doc-link {\n",
       "  float: right;\n",
       "  font-size: smaller;\n",
       "  line-height: 1em;\n",
       "  font-family: monospace;\n",
       "  background-color: var(--sklearn-color-background);\n",
       "  border-radius: 1em;\n",
       "  height: 1em;\n",
       "  width: 1em;\n",
       "  text-decoration: none !important;\n",
       "  margin-left: 1ex;\n",
       "  /* unfitted */\n",
       "  border: var(--sklearn-color-unfitted-level-1) 1pt solid;\n",
       "  color: var(--sklearn-color-unfitted-level-1);\n",
       "}\n",
       "\n",
       ".sk-estimator-doc-link.fitted,\n",
       "a:link.sk-estimator-doc-link.fitted,\n",
       "a:visited.sk-estimator-doc-link.fitted {\n",
       "  /* fitted */\n",
       "  border: var(--sklearn-color-fitted-level-1) 1pt solid;\n",
       "  color: var(--sklearn-color-fitted-level-1);\n",
       "}\n",
       "\n",
       "/* On hover */\n",
       "div.sk-estimator:hover .sk-estimator-doc-link:hover,\n",
       ".sk-estimator-doc-link:hover,\n",
       "div.sk-label-container:hover .sk-estimator-doc-link:hover,\n",
       ".sk-estimator-doc-link:hover {\n",
       "  /* unfitted */\n",
       "  background-color: var(--sklearn-color-unfitted-level-3);\n",
       "  color: var(--sklearn-color-background);\n",
       "  text-decoration: none;\n",
       "}\n",
       "\n",
       "div.sk-estimator.fitted:hover .sk-estimator-doc-link.fitted:hover,\n",
       ".sk-estimator-doc-link.fitted:hover,\n",
       "div.sk-label-container:hover .sk-estimator-doc-link.fitted:hover,\n",
       ".sk-estimator-doc-link.fitted:hover {\n",
       "  /* fitted */\n",
       "  background-color: var(--sklearn-color-fitted-level-3);\n",
       "  color: var(--sklearn-color-background);\n",
       "  text-decoration: none;\n",
       "}\n",
       "\n",
       "/* Span, style for the box shown on hovering the info icon */\n",
       ".sk-estimator-doc-link span {\n",
       "  display: none;\n",
       "  z-index: 9999;\n",
       "  position: relative;\n",
       "  font-weight: normal;\n",
       "  right: .2ex;\n",
       "  padding: .5ex;\n",
       "  margin: .5ex;\n",
       "  width: min-content;\n",
       "  min-width: 20ex;\n",
       "  max-width: 50ex;\n",
       "  color: var(--sklearn-color-text);\n",
       "  box-shadow: 2pt 2pt 4pt #999;\n",
       "  /* unfitted */\n",
       "  background: var(--sklearn-color-unfitted-level-0);\n",
       "  border: .5pt solid var(--sklearn-color-unfitted-level-3);\n",
       "}\n",
       "\n",
       ".sk-estimator-doc-link.fitted span {\n",
       "  /* fitted */\n",
       "  background: var(--sklearn-color-fitted-level-0);\n",
       "  border: var(--sklearn-color-fitted-level-3);\n",
       "}\n",
       "\n",
       ".sk-estimator-doc-link:hover span {\n",
       "  display: block;\n",
       "}\n",
       "\n",
       "/* \"?\"-specific style due to the `<a>` HTML tag */\n",
       "\n",
       "#sk-container-id-1 a.estimator_doc_link {\n",
       "  float: right;\n",
       "  font-size: 1rem;\n",
       "  line-height: 1em;\n",
       "  font-family: monospace;\n",
       "  background-color: var(--sklearn-color-background);\n",
       "  border-radius: 1rem;\n",
       "  height: 1rem;\n",
       "  width: 1rem;\n",
       "  text-decoration: none;\n",
       "  /* unfitted */\n",
       "  color: var(--sklearn-color-unfitted-level-1);\n",
       "  border: var(--sklearn-color-unfitted-level-1) 1pt solid;\n",
       "}\n",
       "\n",
       "#sk-container-id-1 a.estimator_doc_link.fitted {\n",
       "  /* fitted */\n",
       "  border: var(--sklearn-color-fitted-level-1) 1pt solid;\n",
       "  color: var(--sklearn-color-fitted-level-1);\n",
       "}\n",
       "\n",
       "/* On hover */\n",
       "#sk-container-id-1 a.estimator_doc_link:hover {\n",
       "  /* unfitted */\n",
       "  background-color: var(--sklearn-color-unfitted-level-3);\n",
       "  color: var(--sklearn-color-background);\n",
       "  text-decoration: none;\n",
       "}\n",
       "\n",
       "#sk-container-id-1 a.estimator_doc_link.fitted:hover {\n",
       "  /* fitted */\n",
       "  background-color: var(--sklearn-color-fitted-level-3);\n",
       "}\n",
       "</style><div id=\"sk-container-id-1\" class=\"sk-top-container\"><div class=\"sk-text-repr-fallback\"><pre>MultinomialNB()</pre><b>In a Jupyter environment, please rerun this cell to show the HTML representation or trust the notebook. <br />On GitHub, the HTML representation is unable to render, please try loading this page with nbviewer.org.</b></div><div class=\"sk-container\" hidden><div class=\"sk-item\"><div class=\"sk-estimator fitted sk-toggleable\"><input class=\"sk-toggleable__control sk-hidden--visually\" id=\"sk-estimator-id-1\" type=\"checkbox\" checked><label for=\"sk-estimator-id-1\" class=\"sk-toggleable__label fitted sk-toggleable__label-arrow fitted\">&nbsp;&nbsp;MultinomialNB<a class=\"sk-estimator-doc-link fitted\" rel=\"noreferrer\" target=\"_blank\" href=\"https://scikit-learn.org/1.4/modules/generated/sklearn.naive_bayes.MultinomialNB.html\">?<span>Documentation for MultinomialNB</span></a><span class=\"sk-estimator-doc-link fitted\">i<span>Fitted</span></span></label><div class=\"sk-toggleable__content fitted\"><pre>MultinomialNB()</pre></div> </div></div></div></div>"
      ],
      "text/plain": [
       "MultinomialNB()"
      ]
     },
     "execution_count": 88,
     "metadata": {},
     "output_type": "execute_result"
    }
   ],
   "source": [
    "from sklearn.naive_bayes import MultinomialNB\n",
    "\n",
    "model = MultinomialNB()\n",
    "\n",
    "# Fit the model on the training data\n",
    "model.fit(X_train_tfidf, y_train)"
   ]
  },
  {
   "cell_type": "code",
   "execution_count": 89,
   "id": "3e1643d0-e417-419b-84ba-a6c99ae23546",
   "metadata": {},
   "outputs": [],
   "source": [
    "y_pred = model.predict(X_test_tfidf)"
   ]
  },
  {
   "cell_type": "code",
   "execution_count": 90,
   "id": "c55dfc9d-f219-4eed-988e-3883b5e716a5",
   "metadata": {},
   "outputs": [
    {
     "name": "stdout",
     "output_type": "stream",
     "text": [
      "Cross-Validation Accuracy: 0.9614 ± 0.0047\n"
     ]
    }
   ],
   "source": [
    "from sklearn.model_selection import cross_val_score\n",
    "\n",
    "cv_scores = cross_val_score(model, X_train_tfidf, y_train, cv=5, scoring='accuracy')\n",
    "\n",
    "print(f\"Cross-Validation Accuracy: {cv_scores.mean():.4f} ± {cv_scores.std():.4f}\")"
   ]
  },
  {
   "cell_type": "code",
   "execution_count": 91,
   "id": "346a2c9f-6082-4652-9e67-f0c9dbcbcf76",
   "metadata": {},
   "outputs": [
    {
     "data": {
      "application/vnd.jupyter.widget-view+json": {
       "model_id": "f2efe25b07c343f9ad6745044573388f",
       "version_major": 2,
       "version_minor": 0
      },
      "text/plain": [
       "Downloading artifacts:   0%|          | 0/7 [00:00<?, ?it/s]"
      ]
     },
     "metadata": {},
     "output_type": "display_data"
    },
    {
     "name": "stdout",
     "output_type": "stream",
     "text": [
      "Logged Naive Bayes model with accuracy: 0.9650 to MLflow\n",
      "MLflow URI: file:///C:/Users/Fransisca%20Nong/Downloads/Team5_Project/Group_5_Classification_Project/mlruns\n",
      "Best Naive Bayes model saved locally as 'best_naive_bayes.pkl'\n"
     ]
    }
   ],
   "source": [
    "import mlflow\n",
    "import mlflow.sklearn\n",
    "import numpy as np\n",
    "import joblib\n",
    "from sklearn.feature_extraction.text import TfidfVectorizer\n",
    "from sklearn.naive_bayes import MultinomialNB\n",
    "from sklearn.metrics import accuracy_score\n",
    "\n",
    "# Vectorize text data\n",
    "tfidf = TfidfVectorizer(max_features=1000)\n",
    "X_train_tfidf = tfidf.fit_transform(X_train['content'])  # Select 'content' column\n",
    "X_test_tfidf = tfidf.transform(X_test['content'])\n",
    "\n",
    "# Train Naive Bayes model\n",
    "nb = MultinomialNB()\n",
    "nb.fit(X_train_tfidf, y_train)\n",
    "\n",
    "# Evaluate model\n",
    "y_pred = nb.predict(X_test_tfidf)\n",
    "accuracy = accuracy_score(y_test, y_pred)\n",
    "\n",
    "# Get feature importance\n",
    "feature_names = tfidf.get_feature_names_out()\n",
    "class_diff = nb.feature_log_prob_\n",
    "\n",
    "if class_diff.shape[0] == 2:\n",
    "    importance = class_diff[1] - class_diff[0]  \n",
    "else:\n",
    "    importance = np.mean(class_diff, axis=0)  \n",
    "\n",
    "sorted_idx = importance.argsort()\n",
    "top_n = 20\n",
    "top_features = feature_names[sorted_idx[-top_n:]]\n",
    "top_importance = importance[sorted_idx[-top_n:]]\n",
    "\n",
    "# MLflow run and log data\n",
    "with mlflow.start_run():\n",
    "    \n",
    "    input_example = np.array(X_test_tfidf[0].toarray())  # Convert sparse matrix row to NumPy array\n",
    "    mlflow.sklearn.log_model(nb, \"naive_bayes_model\", input_example=input_example)\n",
    "\n",
    "    # Log accuracy\n",
    "    accuracy = accuracy_score(y_test, nb.predict(X_test_tfidf))\n",
    "    mlflow.log_metric(\"accuracy\", accuracy)\n",
    "    \n",
    "    # Save the vectorizer\n",
    "    joblib.dump(tfidf, \"tfidf_vectorizer.pkl\")\n",
    "    mlflow.log_artifact(\"tfidf_vectorizer.pkl\")\n",
    "    \n",
    "    mlflow.log_artifact(\"feature_importance.png\") \n",
    "\n",
    "    print(f\"Logged Naive Bayes model with accuracy: {accuracy:.4f} to MLflow\")\n",
    "    \n",
    " # MLflow URI(Uniform Resource Identifier)\n",
    "    tracking_uri = mlflow.get_tracking_uri()\n",
    "    print(f\"MLflow URI: {tracking_uri}\")\n",
    "    \n",
    "# Save the model locally\n",
    "joblib.dump(nb, \"best_naive_bayes.pkl\")\n",
    "print(\"Best Naive Bayes model saved locally as 'best_naive_bayes.pkl'\")"
   ]
  },
  {
   "cell_type": "markdown",
   "id": "9c2e80d0-8124-43c9-a8df-4d54d82f5b56",
   "metadata": {},
   "source": [
    "_We have logged and saved the Naive Bayes model, along with its performance details, in both MLflow and a local file for easy access later._"
   ]
  },
  {
   "cell_type": "code",
   "execution_count": null,
   "id": "a5cf1236-c310-4965-83e3-001435bcdbd0",
=======
   "cell_type": "code",
   "execution_count": null,
   "id": "41723da5",
>>>>>>> 02c3df6c4b93da80670b6c9516c8815ce2b27d18
   "metadata": {},
   "outputs": [],
   "source": []
  }
 ],
 "metadata": {
  "kernelspec": {
<<<<<<< Updated upstream
<<<<<<< HEAD
   "display_name": "Python 3 (ipykernel)",
   "language": "python",
   "name": "python3"
=======
   "display_name": "Python [conda env:base] *",
   "language": "python",
   "name": "conda-base-py"
>>>>>>> 02c3df6c4b93da80670b6c9516c8815ce2b27d18
=======
   "display_name": "Python 3 (ipykernel)",
   "language": "python",
   "name": "python3"
>>>>>>> Stashed changes
  },
  "language_info": {
   "codemirror_mode": {
    "name": "ipython",
    "version": 3
   },
   "file_extension": ".py",
   "mimetype": "text/x-python",
   "name": "python",
   "nbconvert_exporter": "python",
   "pygments_lexer": "ipython3",
   "version": "3.11.5"
  }
 },
 "nbformat": 4,
 "nbformat_minor": 5
}
