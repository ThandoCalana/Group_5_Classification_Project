{
 "cells": [
  {
   "cell_type": "markdown",
   "id": "a489c04e",
   "metadata": {},
   "source": [
    "# Project 3 Team 5\n",
    "## Date: 17 January 2025 "
   ]
  },
  {
   "cell_type": "markdown",
   "id": "2b884053",
   "metadata": {},
   "source": [
    "1. Project Overview\n",
    "2. Data Load and preprocessing\n",
    "3. Model training\n",
    "4. Evaluation\n",
    "5. Deployment"
   ]
  },
  {
   "cell_type": "markdown",
   "id": "11ef8bae",
   "metadata": {},
   "source": [
    "### 1. Project Overview"
   ]
  },
  {
   "cell_type": "code",
   "execution_count": null,
   "id": "2028adbd",
   "metadata": {},
   "outputs": [],
   "source": []
  },
  {
   "cell_type": "markdown",
   "id": "3861b463",
   "metadata": {},
   "source": [
    "### 2. Data load and preprocessing \n",
    "#### Packages"
   ]
  },
  {
   "cell_type": "code",
   "execution_count": null,
   "id": "715f37af-36bd-4a41-923d-b6ddeee9b933",
   "metadata": {},
   "outputs": [],
   "source": [
    "pip install scikeras"
   ]
  },
  {
   "cell_type": "code",
   "execution_count": null,
   "id": "caeb217b-98ec-49d5-8e03-4f0c810629f2",
   "metadata": {},
   "outputs": [],
   "source": [
    "pip install tensorflow"
   ]
  },
  {
   "cell_type": "code",
   "execution_count": null,
   "id": "397276b2-01e4-4e90-a59f-bd0ac0650ae4",
   "metadata": {},
   "outputs": [],
   "source": [
    "pip install tensorflow-model-optimization"
   ]
  },
  {
   "cell_type": "code",
   "execution_count": null,
   "id": "c4b5c0dc-8865-4dbb-842c-456d5bf1b746",
   "metadata": {},
   "outputs": [],
   "source": [
    "pip install mlflow"
   ]
  },
  {
   "cell_type": "code",
   "execution_count": 1,
   "id": "64014f33",
   "metadata": {},
   "outputs": [
    {
     "name": "stderr",
     "output_type": "stream",
     "text": [
      "[nltk_data] Downloading package stopwords to\n",
      "[nltk_data]     C:\\Users\\Tcala\\AppData\\Roaming\\nltk_data...\n",
      "[nltk_data]   Package stopwords is already up-to-date!\n",
      "[nltk_data] Downloading package punkt to\n",
      "[nltk_data]     C:\\Users\\Tcala\\AppData\\Roaming\\nltk_data...\n",
      "[nltk_data]   Package punkt is already up-to-date!\n",
      "[nltk_data] Downloading package punkt_tab to\n",
      "[nltk_data]     C:\\Users\\Tcala\\AppData\\Roaming\\nltk_data...\n",
      "[nltk_data]   Package punkt_tab is already up-to-date!\n",
      "[nltk_data] Downloading package wordnet to\n",
      "[nltk_data]     C:\\Users\\Tcala\\AppData\\Roaming\\nltk_data...\n",
      "[nltk_data]   Package wordnet is already up-to-date!\n"
     ]
    }
   ],
   "source": [
    "import pandas as pd\n",
    "import numpy as np\n",
    "import matplotlib.pyplot as plt\n",
    "import imblearn \n",
    "import seaborn as sns\n",
    "\n",
    "import sklearn\n",
    "from sklearn.model_selection import train_test_split\n",
    "from sklearn.feature_extraction.text import TfidfVectorizer\n",
    "from sklearn.utils import resample\n",
    "from sklearn.naive_bayes import MultinomialNB\n",
    "from sklearn.pipeline import Pipeline\n",
    "from sklearn.model_selection import GridSearchCV\n",
    "from sklearn.model_selection import RandomizedSearchCV\n",
    "from sklearn.metrics import classification_report, accuracy_score, log_loss\n",
    "from sklearn.preprocessing import LabelEncoder, StandardScaler\n",
    "from sklearn.ensemble import RandomForestClassifier\n",
    "from sklearn.neighbors import KNeighborsClassifier\n",
    "\n",
    "import mlflow\n",
    "import mlflow.sklearn\n",
    "import scikeras\n",
    "from scikeras.wrappers import KerasClassifier\n",
    "import pickle\n",
    "from mlflow.models import infer_signature\n",
    "\n",
    "from urllib.parse import urlparse\n",
    "import json\n",
    "from scipy.sparse import csr_matrix\n",
    "\n",
    "from imblearn.over_sampling import RandomOverSampler\n",
    "from imblearn.under_sampling import RandomUnderSampler\n",
    "from scipy.sparse import csr_matrix, vstack\n",
    "\n",
    "import tensorflow as tf\n",
    "from tensorflow.keras.layers import Dense, Flatten, Dropout, Input, Masking\n",
    "from tensorflow.keras.models import Sequential\n",
    "from tensorflow.keras.utils import to_categorical, normalize\n",
    "\n",
    "import nltk\n",
    "import re\n",
    "from nltk.tokenize import word_tokenize, TreebankWordTokenizer\n",
    "from nltk.stem import WordNetLemmatizer\n",
    "from nltk.corpus import stopwords\n",
    "\n",
    "nltk.download('stopwords')\n",
    "nltk.download('punkt')\n",
    "nltk.download('punkt_tab')\n",
    "nltk.download('wordnet')\n",
    "\n",
    "import warnings\n",
    "warnings.filterwarnings(\"ignore\")"
   ]
  },
  {
   "cell_type": "markdown",
   "id": "d8eedb7d",
   "metadata": {},
   "source": [
    "#### Datasets"
   ]
  },
  {
   "cell_type": "code",
   "execution_count": 2,
   "id": "241ffc87",
   "metadata": {
    "scrolled": true
   },
   "outputs": [],
   "source": [
    "#importing the dataset:the train dataset \n",
    "train_df = pd.read_csv(\"Data/processed/train.csv\")\n",
    "# train_df.head(5)"
   ]
  },
  {
   "cell_type": "code",
   "execution_count": 3,
   "id": "c90f6f9f",
   "metadata": {},
   "outputs": [],
   "source": [
    "#importing the dataset: the test \n",
    "test_df = pd.read_csv(\"Data/processed/test.csv\")\n",
    "# test_df.head(5)"
   ]
  },
  {
   "cell_type": "markdown",
   "id": "ac9a5e2b",
   "metadata": {
    "jp-MarkdownHeadingCollapsed": true
   },
   "source": [
    "<h3>2.1 Data inspection</h3>"
   ]
  },
  {
   "cell_type": "code",
   "execution_count": 4,
   "id": "e821ad56",
   "metadata": {},
   "outputs": [
    {
     "name": "stdout",
     "output_type": "stream",
     "text": [
      "The dimensions for the Train set are: (5520, 5)\n",
      "The dimensions for the test set are: (2000, 5)\n"
     ]
    }
   ],
   "source": [
    "print(\"The dimensions for the Train set are:\", train_df.shape)\n",
    "print(\"The dimensions for the test set are:\",test_df.shape)"
   ]
  },
  {
   "cell_type": "code",
   "execution_count": 5,
   "id": "19bc4336",
   "metadata": {},
   "outputs": [
    {
     "name": "stdout",
     "output_type": "stream",
     "text": [
      "<class 'pandas.core.frame.DataFrame'>\n",
      "RangeIndex: 5520 entries, 0 to 5519\n",
      "Data columns (total 5 columns):\n",
      " #   Column       Non-Null Count  Dtype \n",
      "---  ------       --------------  ----- \n",
      " 0   headlines    5520 non-null   object\n",
      " 1   description  5520 non-null   object\n",
      " 2   content      5520 non-null   object\n",
      " 3   url          5520 non-null   object\n",
      " 4   category     5520 non-null   object\n",
      "dtypes: object(5)\n",
      "memory usage: 215.8+ KB\n",
      "<class 'pandas.core.frame.DataFrame'>\n",
      "RangeIndex: 2000 entries, 0 to 1999\n",
      "Data columns (total 5 columns):\n",
      " #   Column       Non-Null Count  Dtype \n",
      "---  ------       --------------  ----- \n",
      " 0   headlines    2000 non-null   object\n",
      " 1   description  2000 non-null   object\n",
      " 2   content      2000 non-null   object\n",
      " 3   url          2000 non-null   object\n",
      " 4   category     2000 non-null   object\n",
      "dtypes: object(5)\n",
      "memory usage: 78.3+ KB\n"
     ]
    },
    {
     "data": {
      "text/plain": [
       "None"
      ]
     },
     "metadata": {},
     "output_type": "display_data"
    },
    {
     "data": {
      "text/plain": [
       "None"
      ]
     },
     "metadata": {},
     "output_type": "display_data"
    }
   ],
   "source": [
    "display(train_df.info(), test_df.info())"
   ]
  },
  {
   "cell_type": "markdown",
   "id": "dbf51bf5",
   "metadata": {},
   "source": [
    "There are no missing values in both the train and test dataset"
   ]
  },
  {
   "cell_type": "code",
   "execution_count": 6,
   "id": "4bfc2cf8",
   "metadata": {},
   "outputs": [
    {
     "name": "stdout",
     "output_type": "stream",
     "text": [
      "             Train Null Count  Test Null Count\n",
      "headlines                   0                0\n",
      "description                 0                0\n",
      "content                     0                0\n",
      "url                         0                0\n",
      "category                    0                0\n"
     ]
    }
   ],
   "source": [
    "null_counts = pd.DataFrame({\n",
    "    \"Train Null Count\": train_df.isnull().sum(),\n",
    "    \"Test Null Count\": test_df.isnull().sum()\n",
    "})\n",
    "print(null_counts)"
   ]
  },
  {
   "cell_type": "code",
   "execution_count": 7,
   "id": "a820a583",
   "metadata": {},
   "outputs": [
    {
     "data": {
      "text/plain": [
       "0"
      ]
     },
     "metadata": {},
     "output_type": "display_data"
    },
    {
     "data": {
      "text/plain": [
       "0"
      ]
     },
     "metadata": {},
     "output_type": "display_data"
    }
   ],
   "source": [
    "display(train_df.duplicated().sum(), test_df.duplicated().sum())"
   ]
  },
  {
   "cell_type": "markdown",
   "id": "20c4c820",
   "metadata": {},
   "source": [
    "Number of duplicate for train set rows: 0\n",
    "\n",
    "Number of duplicate for test set rows: 0"
   ]
  },
  {
   "cell_type": "code",
   "execution_count": 8,
   "id": "dcf638e5",
   "metadata": {},
   "outputs": [
    {
     "name": "stdout",
     "output_type": "stream",
     "text": [
      "                 Metric  Train Dataset  Test Dataset\n",
      "0        Number of Rows           5520          2000\n",
      "1     Number of Columns              5             5\n",
      "2  Total Missing Values              0             0\n",
      "3        Duplicate Rows              0             0\n",
      "4     Numerical Columns              0             0\n",
      "5   Categorical Columns              5             5\n"
     ]
    }
   ],
   "source": [
    "def inspect_dataset(df):\n",
    "    return {\n",
    "        \"Number of Rows\": df.shape[0],\n",
    "        \"Number of Columns\": df.shape[1],\n",
    "        \"Total Missing Values\": df.isnull().sum().sum(),\n",
    "        \"Duplicate Rows\": df.duplicated().sum(),\n",
    "        \"Numerical Columns\": df.select_dtypes(include='number').shape[1],\n",
    "        \"Categorical Columns\": df.select_dtypes(include='object').shape[1],\n",
    "    }\n",
    "\n",
    "train_inspection = inspect_dataset(train_df)\n",
    "test_inspection = inspect_dataset(test_df)\n",
    "\n",
    "inspection_results = pd.DataFrame({\n",
    "    \"Metric\": train_inspection.keys(),\n",
    "    \"Train Dataset\": train_inspection.values(),\n",
    "    \"Test Dataset\": test_inspection.values(),\n",
    "})\n",
    "\n",
    "print(inspection_results)"
   ]
  },
  {
   "cell_type": "code",
   "execution_count": 9,
   "id": "2cb9fec8",
   "metadata": {},
   "outputs": [
    {
     "data": {
      "text/html": [
       "<div>\n",
       "<style scoped>\n",
       "    .dataframe tbody tr th:only-of-type {\n",
       "        vertical-align: middle;\n",
       "    }\n",
       "\n",
       "    .dataframe tbody tr th {\n",
       "        vertical-align: top;\n",
       "    }\n",
       "\n",
       "    .dataframe thead th {\n",
       "        text-align: right;\n",
       "    }\n",
       "</style>\n",
       "<table border=\"1\" class=\"dataframe\">\n",
       "  <thead>\n",
       "    <tr style=\"text-align: right;\">\n",
       "      <th></th>\n",
       "      <th>count</th>\n",
       "      <th>unique</th>\n",
       "      <th>top</th>\n",
       "      <th>freq</th>\n",
       "    </tr>\n",
       "  </thead>\n",
       "  <tbody>\n",
       "    <tr>\n",
       "      <th>headlines</th>\n",
       "      <td>5520</td>\n",
       "      <td>5512</td>\n",
       "      <td>International Education Day 2024: Know why it ...</td>\n",
       "      <td>2</td>\n",
       "    </tr>\n",
       "    <tr>\n",
       "      <th>description</th>\n",
       "      <td>5520</td>\n",
       "      <td>5508</td>\n",
       "      <td>The university has removed the requirements of...</td>\n",
       "      <td>2</td>\n",
       "    </tr>\n",
       "    <tr>\n",
       "      <th>content</th>\n",
       "      <td>5520</td>\n",
       "      <td>5513</td>\n",
       "      <td>Grand Slam fever grips tennis fans all over th...</td>\n",
       "      <td>5</td>\n",
       "    </tr>\n",
       "    <tr>\n",
       "      <th>url</th>\n",
       "      <td>5520</td>\n",
       "      <td>5514</td>\n",
       "      <td>https://indianexpress.com/article/education/kc...</td>\n",
       "      <td>2</td>\n",
       "    </tr>\n",
       "    <tr>\n",
       "      <th>category</th>\n",
       "      <td>5520</td>\n",
       "      <td>5</td>\n",
       "      <td>education</td>\n",
       "      <td>1520</td>\n",
       "    </tr>\n",
       "  </tbody>\n",
       "</table>\n",
       "</div>"
      ],
      "text/plain": [
       "            count unique                                                top  \\\n",
       "headlines    5520   5512  International Education Day 2024: Know why it ...   \n",
       "description  5520   5508  The university has removed the requirements of...   \n",
       "content      5520   5513  Grand Slam fever grips tennis fans all over th...   \n",
       "url          5520   5514  https://indianexpress.com/article/education/kc...   \n",
       "category     5520      5                                          education   \n",
       "\n",
       "             freq  \n",
       "headlines       2  \n",
       "description     2  \n",
       "content         5  \n",
       "url             2  \n",
       "category     1520  "
      ]
     },
     "execution_count": 9,
     "metadata": {},
     "output_type": "execute_result"
    }
   ],
   "source": [
    "train_df.describe().T\n",
    "#check if there are duplicates "
   ]
  },
  {
   "cell_type": "code",
   "execution_count": 10,
   "id": "fca3a19b-a61a-4dd2-abdf-bd45324bcf1c",
   "metadata": {},
   "outputs": [
    {
     "name": "stdout",
     "output_type": "stream",
     "text": [
      "                                           headlines  \\\n",
      "0  NLC India wins contract for power supply to Ra...   \n",
      "1  SBI Clerk prelims exams dates announced; admit...   \n",
      "2  Golden Globes: Michelle Yeoh, Will Ferrell, An...   \n",
      "3  OnePlus Nord 3 at Rs 27,999 as part of new pri...   \n",
      "4  Adani family’s partners used ‘opaque’ funds to...   \n",
      "\n",
      "                                         description  \\\n",
      "0  State-owned firm NLC India Ltd (NLCIL) on Mond...   \n",
      "1  SBI Clerk Prelims Exam: The SBI Clerk prelims ...   \n",
      "2  Barbie is the top nominee this year, followed ...   \n",
      "3  New deal makes the OnePlus Nord 3 an easy purc...   \n",
      "4  Citing review of files from multiple tax haven...   \n",
      "\n",
      "                                             content  \\\n",
      "0  State-owned firm NLC India Ltd (NLCIL) on Mond...   \n",
      "1  SBI Clerk Prelims Exam: The State Bank of Indi...   \n",
      "2  Michelle Yeoh, Will Ferrell, Angela Bassett an...   \n",
      "3  In our review of the OnePlus Nord 3 5G, we pra...   \n",
      "4  Millions of dollars were invested in some publ...   \n",
      "\n",
      "                                                 url       category  \n",
      "0  https://indianexpress.com/article/business/com...       business  \n",
      "1  https://indianexpress.com/article/education/sb...      education  \n",
      "2  https://indianexpress.com/article/entertainmen...  entertainment  \n",
      "3  https://indianexpress.com/article/technology/t...     technology  \n",
      "4  https://indianexpress.com/article/business/ada...       business  \n"
     ]
    }
   ],
   "source": [
    "categories = train_df.category.unique()\n",
    "print(test_df.head())"
   ]
  },
  {
   "cell_type": "markdown",
   "id": "4da7e3d5",
   "metadata": {},
   "source": [
    "<h3>2.2. Data Preprocessing</h3>"
   ]
  },
  {
   "cell_type": "markdown",
   "id": "566757dc-4f10-4094-9ca1-03c50dace47f",
   "metadata": {},
   "source": [
    "<h4> Preprocessing function that tokenizes, removes stop words and lematizes the text</h4>"
   ]
  },
  {
   "cell_type": "code",
   "execution_count": 4,
   "id": "25e4619f-aa90-4e3d-a190-c3a4371c4c81",
   "metadata": {},
   "outputs": [],
   "source": [
    "def preprocess_text(text):\n",
    "    # Tokenize the text\n",
    "    tokens = nltk.word_tokenize(text)\n",
    "\n",
    "    # Remove stopwords\n",
    "    stop_words = set(stopwords.words('english'))\n",
    "    no_stop_words = [word for word in tokens if word.lower() not in stop_words]\n",
    "\n",
    "    # Remove punctuation\n",
    "    no_puntuation = [word for word in no_stop_words if word.isalnum()]\n",
    "\n",
    "    # Lemmatize tokens\n",
    "    lemmatizer = WordNetLemmatizer()\n",
    "    lemmatized_tokens = [lemmatizer.lemmatize(word) for word in no_puntuation]\n",
    "\n",
    "    # Join tokens back into a single string\n",
    "    return ' '.join(lemmatized_tokens)\n"
   ]
  },
  {
   "cell_type": "code",
   "execution_count": 5,
   "id": "987db596-a08d-41f2-b7c9-874ca17c3af3",
   "metadata": {},
   "outputs": [],
   "source": [
    "columns_to_process = ['headlines', 'description', 'content'] #We will deal with URLs later\n",
    "\n",
    "for col in columns_to_process:\n",
    "    train_df[col] = train_df[col].apply(preprocess_text)\n",
    "    test_df[col] = test_df[col].apply(preprocess_text)"
   ]
  },
  {
   "cell_type": "code",
   "execution_count": null,
   "id": "467190dc-5a08-4773-809d-1f568d27107a",
   "metadata": {},
   "outputs": [],
   "source": [
    "print(train_df.head())\n",
    "print(test_df.head())"
   ]
  },
  {
   "cell_type": "markdown",
   "id": "57a4780e-e273-4939-a559-5cf43f398309",
   "metadata": {},
   "source": [
    "<h4> Handling URLs</h4>"
   ]
  },
  {
   "cell_type": "markdown",
   "id": "b74abde7-4878-4a77-b9e6-86d818d6c961",
   "metadata": {},
   "source": [
    "The URL columns may not always reliably provide information on the category, so we drop the column. Even if the column has the category, this may negatively impact our model performance as this will lead to 100% accuracy in our models on training data. This is unrealistic as in practice, URLs may not have the category in them or in the expected sequence, causing the model to perform poorly."
   ]
  },
  {
   "cell_type": "code",
   "execution_count": 6,
   "id": "d16645ee-8be9-40f6-8f90-f26e5b66db23",
   "metadata": {},
   "outputs": [
    {
     "data": {
      "text/html": [
       "<div>\n",
       "<style scoped>\n",
       "    .dataframe tbody tr th:only-of-type {\n",
       "        vertical-align: middle;\n",
       "    }\n",
       "\n",
       "    .dataframe tbody tr th {\n",
       "        vertical-align: top;\n",
       "    }\n",
       "\n",
       "    .dataframe thead th {\n",
       "        text-align: right;\n",
       "    }\n",
       "</style>\n",
       "<table border=\"1\" class=\"dataframe\">\n",
       "  <thead>\n",
       "    <tr style=\"text-align: right;\">\n",
       "      <th></th>\n",
       "      <th>headlines</th>\n",
       "      <th>description</th>\n",
       "      <th>content</th>\n",
       "      <th>category</th>\n",
       "    </tr>\n",
       "  </thead>\n",
       "  <tbody>\n",
       "    <tr>\n",
       "      <th>0</th>\n",
       "      <td>RBI revise definition person KYC purpose</td>\n",
       "      <td>central bank also asked chairperson chief exec...</td>\n",
       "      <td>Reserve Bank India RBI changed definition Pers...</td>\n",
       "      <td>business</td>\n",
       "    </tr>\n",
       "    <tr>\n",
       "      <th>1</th>\n",
       "      <td>NDTV Q2 net profit fall Rs crore impacted lowe...</td>\n",
       "      <td>NDTV consolidated revenue operation Rs crore R...</td>\n",
       "      <td>Broadcaster New Delhi Television Ltd Monday re...</td>\n",
       "      <td>business</td>\n",
       "    </tr>\n",
       "    <tr>\n",
       "      <th>2</th>\n",
       "      <td>Akasa Air well capitalised grow much faster CE...</td>\n",
       "      <td>initial share sale open public subscription Ju...</td>\n",
       "      <td>Homegrown server maker Netweb Technologies Ind...</td>\n",
       "      <td>business</td>\n",
       "    </tr>\n",
       "    <tr>\n",
       "      <th>3</th>\n",
       "      <td>India current account deficit decline sharply ...</td>\n",
       "      <td>current account deficit CAD per cent GDP USD b...</td>\n",
       "      <td>India current account deficit declined sharply...</td>\n",
       "      <td>business</td>\n",
       "    </tr>\n",
       "    <tr>\n",
       "      <th>4</th>\n",
       "      <td>States borrowing cost soar highest far fiscal</td>\n",
       "      <td>price shot reflecting overall higher risk aver...</td>\n",
       "      <td>States forced pay nose weekly auction debt Tue...</td>\n",
       "      <td>business</td>\n",
       "    </tr>\n",
       "  </tbody>\n",
       "</table>\n",
       "</div>"
      ],
      "text/plain": [
       "                                           headlines  \\\n",
       "0           RBI revise definition person KYC purpose   \n",
       "1  NDTV Q2 net profit fall Rs crore impacted lowe...   \n",
       "2  Akasa Air well capitalised grow much faster CE...   \n",
       "3  India current account deficit decline sharply ...   \n",
       "4      States borrowing cost soar highest far fiscal   \n",
       "\n",
       "                                         description  \\\n",
       "0  central bank also asked chairperson chief exec...   \n",
       "1  NDTV consolidated revenue operation Rs crore R...   \n",
       "2  initial share sale open public subscription Ju...   \n",
       "3  current account deficit CAD per cent GDP USD b...   \n",
       "4  price shot reflecting overall higher risk aver...   \n",
       "\n",
       "                                             content  category  \n",
       "0  Reserve Bank India RBI changed definition Pers...  business  \n",
       "1  Broadcaster New Delhi Television Ltd Monday re...  business  \n",
       "2  Homegrown server maker Netweb Technologies Ind...  business  \n",
       "3  India current account deficit declined sharply...  business  \n",
       "4  States forced pay nose weekly auction debt Tue...  business  "
      ]
     },
     "execution_count": 6,
     "metadata": {},
     "output_type": "execute_result"
    }
   ],
   "source": [
    "train_df = train_df.drop(columns='url', axis=1)\n",
    "test_df = test_df.drop(columns='url', axis=1)\n",
    "\n",
    "train_df.head()"
   ]
  },
  {
   "cell_type": "markdown",
   "id": "2326a3aa-7158-44d5-bb16-b6bc7931b8d8",
   "metadata": {
    "jp-MarkdownHeadingCollapsed": true
   },
   "source": [
    "<h3> Train-test Split and Vectorizing</h3>"
   ]
  },
  {
   "cell_type": "markdown",
   "id": "1f068c64-a69e-474f-bec2-6cff28a3b0cd",
   "metadata": {},
   "source": [
    "Before using a TF-IDF vectorizer to draw out important words that may help predict an article's category, we will perform a train-test split to get a validation set, which we can also vectorize.\n",
    "\n",
    "First, we will separate the predictor variables from the response variable (category) for both the train and test data. Then we'll define the vectorizing function, and finally vectorize the data to be used later by models."
   ]
  },
  {
   "cell_type": "code",
   "execution_count": 11,
   "id": "7c8e2076-5872-4964-bd1e-b8487bf1ac08",
   "metadata": {},
   "outputs": [],
   "source": [
    "# First, combine the text features\n",
    "train_df['text'] = train_df['headlines'] + ' ' + train_df['content'] + ' ' + train_df['description']\n",
    "test_df['text'] = test_df['headlines'] + ' ' + test_df['content'] + ' ' + test_df['description']\n",
    "\n",
    "# Then, split the data\n",
    "X = train_df['text']\n",
    "y = train_df['category']\n",
    "\n",
    "X_train_base, X_val_base, y_train_base, y_val_base = train_test_split(X, y, test_size=0.2, random_state=42, stratify=y)\n",
    "\n",
    "X_test_base = test_df['text']\n",
    "y_test_base = test_df['category']\n"
   ]
  },
  {
   "cell_type": "code",
   "execution_count": 42,
   "id": "ba0f479b-4c48-4685-97ff-512bf497cb6a",
   "metadata": {},
   "outputs": [],
   "source": [
    "def get_tfidf_vectorizers_per_category(X, y, n=5000):\n",
    "    category_vectorizers = {}\n",
    "\n",
    "    for category in y.unique():\n",
    "        vectorizer = TfidfVectorizer(stop_words='english', max_features=n)\n",
    "        X_category = X.loc[y == category]  # Ensure correct indexing\n",
    "        vectorizer.fit(X_category)\n",
    "        category_vectorizers[category] = vectorizer\n",
    "\n",
    "    return category_vectorizers\n",
    "\n",
    "# Generate vectorizers using only training data\n",
    "category_vectorizers = get_tfidf_vectorizers_per_category(X_train_base, y_train_base)\n"
   ]
  },
  {
   "cell_type": "code",
   "execution_count": 44,
   "id": "f9f2098e-4c66-4cbc-8ca7-b0a9afb64173",
   "metadata": {},
   "outputs": [],
   "source": [
    "# Apply transformation per category\n",
    "X_train_transformed = pd.DataFrame(\n",
    "    np.vstack([category_vectorizers[cat].transform(X_train_base).toarray() for cat in category_vectorizers]),\n",
    "    columns=category_vectorizers[list(category_vectorizers.keys())[0]].get_feature_names_out()\n",
    ")\n",
    "y_train_expanded = np.hstack([[cat] * len(X_train_base) for cat in category_vectorizers]) \n",
    "\n",
    "X_val_transformed = pd.DataFrame(\n",
    "    np.vstack([category_vectorizers[cat].transform(X_val_base).toarray() for cat in category_vectorizers]),\n",
    "    columns=category_vectorizers[list(category_vectorizers.keys())[0]].get_feature_names_out()\n",
    ")\n",
    "y_val_expanded = np.hstack([[cat] * len(X_val_base) for cat in category_vectorizers])\n",
    "\n",
    "X_test_transformed = pd.DataFrame(\n",
    "    np.vstack([category_vectorizers[cat].transform(X_test_base).toarray() for cat in category_vectorizers]),\n",
    "    columns=category_vectorizers[list(category_vectorizers.keys())[0]].get_feature_names_out()\n",
    ")\n",
    "y_test_expanded = np.hstack([[cat] * len(X_test_base) for cat in category_vectorizers])\n"
   ]
  },
  {
   "cell_type": "markdown",
   "id": "629b5ecb-68f5-44a8-9066-b4e1bd5892eb",
   "metadata": {
    "jp-MarkdownHeadingCollapsed": true
   },
   "source": [
    "<h2>Handling Class Imbalances</h2> "
   ]
  },
  {
   "cell_type": "markdown",
   "id": "96d240d5-994d-49da-a131-1f3cdb9b5a41",
   "metadata": {},
   "source": [
    "Now, we will check if the categories have an equal spread of observations. If there is a class imbalance this can lead to overfitting and models being able to predict the majority categories better, while poorly predicting the minority categories."
   ]
  },
  {
   "cell_type": "code",
   "execution_count": 50,
   "id": "95d3fdba-e97d-42a7-b8e6-084545072b0d",
   "metadata": {},
   "outputs": [
    {
     "data": {
      "text/plain": [
       "category\n",
       "education        1216\n",
       "technology       1024\n",
       "business          896\n",
       "entertainment     768\n",
       "sports            512\n",
       "Name: count, dtype: int64"
      ]
     },
     "execution_count": 50,
     "metadata": {},
     "output_type": "execute_result"
    }
   ],
   "source": [
    "#Getting an idea of the counts of each category\n",
    "y_train.value_counts()"
   ]
  },
  {
   "cell_type": "code",
   "execution_count": 79,
   "id": "a4ea59f3-9c75-48d8-9b8b-a73b10a3973e",
   "metadata": {},
   "outputs": [
    {
     "data": {
      "image/png": "[encoded data removed]",
      "text/plain": [
       "<Figure size 640x480 with 1 Axes>"
      ]
     },
     "metadata": {},
     "output_type": "display_data"
    }
   ],
   "source": [
    "#Storing the count of each category, which will be used later for visualising them\n",
    "category_counts = y_train.value_counts()\n",
    "\n",
    "#Plotting a bar graph that shows the differing counts of each category\n",
    "category_counts.plot(kind='bar', color='skyblue')\n",
    "plt.title('Category Counts')\n",
    "plt.xlabel('Category')\n",
    "plt.ylabel('Count')\n",
    "plt.xticks(rotation=0)\n",
    "plt.show()\n"
   ]
  },
  {
   "cell_type": "markdown",
   "id": "ecf5f5ec-b150-41d2-af78-ed889c6b6e76",
   "metadata": {},
   "source": [
    "From this bar graph we can clearly see that there is a class imbalance within the training data. If not addressed, this could lead the model to being good at predicting the majority categories (education and technology) and not so much the minorities (sports and entertainment). To ensure that the model is equally effectivce at predicting all the categories, we will implement both upsampling and downsampling on the categories below."
   ]
  },
  {
   "cell_type": "markdown",
   "id": "bdd737bd-0ca5-491a-be04-e500627c4b5d",
   "metadata": {},
   "source": [
    "Before we can actually handle the class imbalance, we need to make sure that the data is in a useable format. We currently have dictionaries that have key features for each category, and we need to combine these features into one DataFrame such that we can perform upsampling and downsampling"
   ]
  },
  {
   "cell_type": "code",
   "execution_count": 232,
   "id": "df5da7fc-d1ac-4d90-9440-335028eb2b87",
   "metadata": {},
   "outputs": [
    {
     "name": "stdout",
     "output_type": "stream",
     "text": [
      "Top words for entertainment: pooh, mandalorian, trap, traumatic, mai\n",
      "Top words for technology: 007, cowriter, crawler, reparent, crd\n",
      "Top words for business: hiranandani, b737, krithivasan, bata, sia\n",
      "Top words for education: producer, jk, cabe, jalan, sankaran\n",
      "Top words for sports: zu, mum, muneeba, murali, murder\n"
     ]
    }
   ],
   "source": [
    "top_words_per_category = {}\n",
    "\n",
    "for category, vectorizer in category_vectorizers.items():\n",
    "    feature_array = np.array(vectorizer.get_feature_names_out())\n",
    "    tfidf_sorting = np.argsort(vectorizer.idf_)[::-1]  # Sort by importance\n",
    "    top_5000 = feature_array[tfidf_sorting][:5000]  # Top 5000 words\n",
    "    top_words_per_category[category] = top_5000\n",
    "\n",
    "# Display the top n words\n",
    "n = 5\n",
    "for category, words in top_words_per_category.items():\n",
    "    print(f\"Top words for {category}: {', '.join(words[:n])}\")\n"
   ]
  },
  {
   "cell_type": "markdown",
   "id": "7b5bf6ee-c5b1-4ee5-a7a0-c850276ee004",
   "metadata": {
    "jp-MarkdownHeadingCollapsed": true
   },
   "source": [
    "<h4>Sampling</h4>"
   ]
  },
  {
   "cell_type": "code",
   "execution_count": 66,
   "id": "10f4e406-af60-4027-bbbf-5345c5438ac1",
   "metadata": {},
   "outputs": [],
   "source": [
    "# Combine X and y into a DataFrame for resampling\n",
    "train_data = X_train_transformed.copy()\n",
    "train_data['category'] = y_train_expanded\n",
    "\n",
    "# Define the target size per class\n",
    "target_len = int(len(y_train) / len(y_train.unique())) \n",
    "\n",
    "# Balance the dataset\n",
    "balanced_data = []\n",
    "\n",
    "# Looping through all the unique categories and sampling them to match the target length\n",
    "for category in train_data['category'].unique():\n",
    "    category_data = train_data[train_data['category'] == category]\n",
    "\n",
    "    if len(category_data) > target_len:\n",
    "        downsampled = resample(category_data, replace=False, n_samples=target_len, random_state=42)\n",
    "        balanced_data.append(downsampled)\n",
    "\n",
    "    elif len(category_data) < target_len:\n",
    "        upsampled = resample(category_data, replace=True, n_samples=target_len, random_state=42)\n",
    "        balanced_data.append(upsampled)\n",
    "\n",
    "    else:\n",
    "        balanced_data.append(category_data)\n",
    "\n",
    "# Combine balanced data\n",
    "final_balanced_data = pd.concat(balanced_data)\n"
   ]
  },
  {
   "cell_type": "code",
   "execution_count": 35,
   "id": "4b8ba716-3229-4499-9f90-ef0b256e9b03",
   "metadata": {},
   "outputs": [],
   "source": [
    "# Extract final X_train and y_train\n",
    "X_train = final_balanced_data.drop(columns = ['category'])\n",
    "y_train = final_balanced_data['category']"
   ]
  },
  {
   "cell_type": "code",
   "execution_count": 37,
   "id": "5686e1ea-6639-40e0-b636-26b1e532e287",
   "metadata": {},
   "outputs": [
    {
     "data": {
      "text/plain": [
       "category\n",
       "education        883\n",
       "sports           883\n",
       "technology       883\n",
       "entertainment    883\n",
       "business         883\n",
       "Name: count, dtype: int64"
      ]
     },
     "execution_count": 37,
     "metadata": {},
     "output_type": "execute_result"
    }
   ],
   "source": [
    "y_train.value_counts()"
   ]
  },
  {
   "cell_type": "code",
   "execution_count": 110,
   "id": "792b2a83-63f1-4026-9fc9-1150edc24614",
   "metadata": {},
   "outputs": [
    {
     "data": {
      "image/png": "[encoded data removed]",
      "text/plain": [
       "<Figure size 640x480 with 1 Axes>"
      ]
     },
     "metadata": {},
     "output_type": "display_data"
    }
   ],
   "source": [
    "category_counts = y_train.value_counts()\n",
    "\n",
    "category_counts.plot(kind='bar', color='skyblue')\n",
    "plt.title('Category Counts')\n",
    "plt.xlabel('Category')\n",
    "plt.ylabel('Count')\n",
    "plt.xticks(rotation=0)\n",
    "plt.show()\n"
   ]
  },
  {
   "cell_type": "markdown",
   "id": "d4c25792-19d6-4b50-aabd-0960df077e57",
   "metadata": {},
   "source": [
    "As we can see, all the categories have been resampled to where they have the same number of observations."
   ]
  },
  {
   "cell_type": "markdown",
   "id": "72206412-afd1-48d6-ac21-bd707c766b0e",
   "metadata": {},
   "source": [
    "<h1>Models</h1>"
   ]
  },
  {
   "cell_type": "markdown",
   "id": "1c1198df-3aa6-4e5b-b551-05aa4181de54",
   "metadata": {
    "jp-MarkdownHeadingCollapsed": true
   },
   "source": [
    "<h2>Neural Network</h2>"
   ]
  },
  {
   "cell_type": "code",
   "execution_count": 187,
   "id": "294ad5de-8d4d-46c5-ae09-14c8c602f195",
   "metadata": {},
   "outputs": [],
   "source": [
    "# Convert sparse matrices to dense numpy arrays, if they are sparse\n",
    "X_train_nn = X_train.toarray() if isinstance(X_train_base, csr_matrix) else np.asarray(X_train_base)\n",
    "X_val_nn = X_val.toarray() if isinstance(X_val_transformed, csr_matrix) else np.asarray(X_val_transformed)\n",
    "X_test_nn = X_test.toarray() if isinstance(X_test_transformed, csr_matrix) else np.asarray(X_test_transformed)\n",
    "\n",
    "# Ensure the arrays are 2D before slicing\n",
    "X_train_nn = X_train_nn.reshape(-1, X_train_nn.shape[-1]) if X_train_nn.ndim == 1 else X_train_nn\n",
    "X_val_nn = X_val_nn.reshape(-1, 1) if X_val_nn.ndim == 1 else X_val_nn  # Reshape correctly if it's 1D\n",
    "X_test_nn = X_test_nn.reshape(-1, 1) if X_test_nn.ndim == 1 else X_test_nn  # Reshape correctly if it's 1D\n",
    "\n",
    "\n",
    "# Now slice the dense arrays to keep only the first 4999 columns (if needed)\n",
    "# We use 4999 because while handling class imbalances, we lost an observation \n",
    "# while trying to equalize the number of observations per class\n",
    "X_val_nn = X_val_nn[:, :4999]\n",
    "X_test_nn = X_test_nn[:, :4999]\n"
   ]
  },
  {
   "cell_type": "code",
   "execution_count": 189,
   "id": "4cb1eb25-3274-4215-a14f-85f457466396",
   "metadata": {},
   "outputs": [],
   "source": [
    "# Initialise the label encoder\n",
    "label_encoder = LabelEncoder()\n",
    "\n",
    "# Fit the encoder on the training labels and transform them\n",
    "y_train_nn = label_encoder.fit_transform(y_train)\n",
    "y_val_nn = label_encoder.transform(y_val_expanded)\n",
    "y_test_nn = label_encoder.transform(y_test_expanded)\n"
   ]
  },
  {
   "cell_type": "code",
   "execution_count": 191,
   "id": "8c9b4251-ab99-439f-b076-51276810c9c3",
   "metadata": {},
   "outputs": [],
   "source": [
    "# Hyperparameters\n",
    "input_dims = X_train.shape[1]\n",
    "batch_size = 32\n",
    "epochs = 10\n",
    "num_classes = len(y_train.unique())\n"
   ]
  },
  {
   "cell_type": "code",
   "execution_count": 193,
   "id": "c193c29c-cfa8-484b-b435-4488804c9675",
   "metadata": {},
   "outputs": [],
   "source": [
    "#Creating the Neural network\n",
    "model_nn = Sequential([\n",
    "    Input(shape=(X_train.shape[1],)), # Input Layer\n",
    "    Dense(4500, activation='relu',),  # First hidden layer\n",
    "    Dropout(0.3),  # Regularization\n",
    "    Dense(3500, activation='relu'),  # Second hidden layer\n",
    "    Dropout(0.2),  # Regularization\n",
    "    Dense(1000, activation='relu'),  # Third hidden layer\n",
    "    Dropout(0.2),  # Regularization\n",
    "    Dense(num_classes, activation='softmax')  # Output layer for classification\n",
    "])"
   ]
  },
  {
   "cell_type": "markdown",
   "id": "eb9a6a80-2f46-4527-b80d-a4fae545ab08",
   "metadata": {
    "jp-MarkdownHeadingCollapsed": true
   },
   "source": [
    "<h4>Training</h4>"
   ]
  },
  {
   "cell_type": "code",
   "execution_count": 196,
   "id": "55fae63a-fda5-4d1e-99bc-3c34258725ab",
   "metadata": {},
   "outputs": [],
   "source": [
    "# Compile the model\n",
    "model_nn.compile(optimizer='adam', loss='sparse_categorical_crossentropy', metrics=['accuracy'])\n"
   ]
  },
  {
   "cell_type": "markdown",
   "id": "9a27f8e4-d86b-4764-bed6-af6896379782",
   "metadata": {},
   "source": [
    "Uncomment the code below to fit the model outside of MLFlow"
   ]
  },
  {
   "cell_type": "code",
   "execution_count": 201,
   "id": "730ff7fb-e262-4036-9866-b5ec53d2d602",
   "metadata": {},
   "outputs": [
    {
     "name": "stdout",
     "output_type": "stream",
     "text": [
      "Epoch 1/10\n",
      "\u001b[1m138/138\u001b[0m \u001b[32m━━━━━━━━━━━━━━━━━━━━\u001b[0m\u001b[37m\u001b[0m \u001b[1m69s\u001b[0m 490ms/step - accuracy: 0.8130 - loss: 0.4575 - val_accuracy: 0.6455 - val_loss: 1.6048\n",
      "Epoch 2/10\n",
      "\u001b[1m138/138\u001b[0m \u001b[32m━━━━━━━━━━━━━━━━━━━━\u001b[0m\u001b[37m\u001b[0m \u001b[1m68s\u001b[0m 494ms/step - accuracy: 0.9998 - loss: 0.0013 - val_accuracy: 0.6643 - val_loss: 1.5773\n",
      "Epoch 3/10\n",
      "\u001b[1m138/138\u001b[0m \u001b[32m━━━━━━━━━━━━━━━━━━━━\u001b[0m\u001b[37m\u001b[0m \u001b[1m67s\u001b[0m 488ms/step - accuracy: 1.0000 - loss: 1.5790e-06 - val_accuracy: 0.6705 - val_loss: 1.5142\n",
      "Epoch 4/10\n",
      "\u001b[1m138/138\u001b[0m \u001b[32m━━━━━━━━━━━━━━━━━━━━\u001b[0m\u001b[37m\u001b[0m \u001b[1m68s\u001b[0m 489ms/step - accuracy: 1.0000 - loss: 5.5959e-07 - val_accuracy: 0.6710 - val_loss: 1.5100\n",
      "Epoch 5/10\n",
      "\u001b[1m138/138\u001b[0m \u001b[32m━━━━━━━━━━━━━━━━━━━━\u001b[0m\u001b[37m\u001b[0m \u001b[1m69s\u001b[0m 496ms/step - accuracy: 1.0000 - loss: 3.3485e-07 - val_accuracy: 0.6719 - val_loss: 1.5098\n",
      "Epoch 6/10\n",
      "\u001b[1m138/138\u001b[0m \u001b[32m━━━━━━━━━━━━━━━━━━━━\u001b[0m\u001b[37m\u001b[0m \u001b[1m68s\u001b[0m 493ms/step - accuracy: 1.0000 - loss: 2.6471e-07 - val_accuracy: 0.6726 - val_loss: 1.5103\n",
      "Epoch 7/10\n",
      "\u001b[1m138/138\u001b[0m \u001b[32m━━━━━━━━━━━━━━━━━━━━\u001b[0m\u001b[37m\u001b[0m \u001b[1m68s\u001b[0m 493ms/step - accuracy: 1.0000 - loss: 2.0851e-07 - val_accuracy: 0.6736 - val_loss: 1.5115\n",
      "Epoch 8/10\n",
      "\u001b[1m138/138\u001b[0m \u001b[32m━━━━━━━━━━━━━━━━━━━━\u001b[0m\u001b[37m\u001b[0m \u001b[1m69s\u001b[0m 497ms/step - accuracy: 1.0000 - loss: 2.0087e-07 - val_accuracy: 0.6737 - val_loss: 1.5132\n",
      "Epoch 9/10\n",
      "\u001b[1m138/138\u001b[0m \u001b[32m━━━━━━━━━━━━━━━━━━━━\u001b[0m\u001b[37m\u001b[0m \u001b[1m71s\u001b[0m 518ms/step - accuracy: 1.0000 - loss: 1.8732e-07 - val_accuracy: 0.6732 - val_loss: 1.5152\n",
      "Epoch 10/10\n",
      "\u001b[1m138/138\u001b[0m \u001b[32m━━━━━━━━━━━━━━━━━━━━\u001b[0m\u001b[37m\u001b[0m \u001b[1m72s\u001b[0m 522ms/step - accuracy: 1.0000 - loss: 1.6875e-07 - val_accuracy: 0.6737 - val_loss: 1.5157\n",
      "\u001b[1m313/313\u001b[0m \u001b[32m━━━━━━━━━━━━━━━━━━━━\u001b[0m\u001b[37m\u001b[0m \u001b[1m6s\u001b[0m 18ms/step - accuracy: 0.6435 - loss: 1.7007\n",
      "Test Loss: 1.5150614976882935\n",
      "Test Accuracy: 0.6721000075340271\n"
     ]
    }
   ],
   "source": [
    "# model_nn.fit(X_train_nn, y_train_nn, validation_data=(X_val_nn, y_val_nn), epochs=epochs, batch_size=batch_size)\n",
    "\n",
    "# test_loss, test_accuracy = model_nn.evaluate(X_test_nn, y_test_nn, batch_size=32)\n",
    "\n",
    "# # Print results\n",
    "# print(f\"Test Loss: {test_loss}\")\n",
    "# print(f\"Test Accuracy: {test_accuracy}\")"
   ]
  },
  {
   "cell_type": "markdown",
   "id": "b3864b4b-ca73-44cc-adf9-e647241a30ac",
   "metadata": {},
   "source": [
    "Test Loss: 1.5150614976882935"
   ]
  },
  {
   "cell_type": "markdown",
   "id": "f19e27ce-9d8a-4118-b6ba-82ddda84cb30",
   "metadata": {},
   "source": [
    "Test Accuracy: 0.6721000075340271"
   ]
  },
  {
   "cell_type": "markdown",
   "id": "4023d323-6fc7-400d-89d5-8ae7b246d802",
   "metadata": {},
   "source": [
    "<h4>Model Tuning</h4>"
   ]
  },
  {
   "cell_type": "code",
   "execution_count": 362,
   "id": "d2060515-c026-41bd-ad1e-b522c84afb2b",
   "metadata": {},
   "outputs": [],
   "source": [
    "def create_nn_model(optimizer='adam', dropout_rate=0.2, num_units=64):\n",
    "    model = Sequential([\n",
    "        Input(shape=(X_train.shape[1],)),\n",
    "        Dense(4500, activation='relu',),\n",
    "        Dropout(0.3),\n",
    "        Dense(3500, activation='relu'),\n",
    "        Dropout(0.2), \n",
    "        Dense(1000, activation='relu'),\n",
    "        Dropout(0.2),\n",
    "        Dense(num_classes, activation='softmax') \n",
    "    ])\n",
    "    # Compile model\n",
    "    model.compile(optimizer=optimizer, loss='sparse_categorical_crossentropy', metrics=['accuracy'])\n",
    "    \n",
    "    return model\n",
    "    "
   ]
  },
  {
   "cell_type": "code",
   "execution_count": 223,
   "id": "7c4806ed-5e7b-4214-968f-8eb3b67e3100",
   "metadata": {},
   "outputs": [],
   "source": [
    "model_nn_tune = KerasClassifier(build_fn=create_nn_model, epochs=10, batch_size=32, verbose=0, dropout_rate=0.2)\n"
   ]
  },
  {
   "cell_type": "code",
   "execution_count": 203,
   "id": "892bb054-7234-468f-9267-851aa1778414",
   "metadata": {},
   "outputs": [],
   "source": [
    "param_grid = {\n",
    "    'optimizer': ['adam', 'rmsprop'],\n",
    "    'dropout_rate': [0.2, 0.3, 0.5],\n",
    "    'batch_size': [32, 64],\n",
    "    'epochs': [10, 20, 30],\n",
    "    'loss': ['sparse_categorical_crossentropy', 'binary_crossentropy']\n",
    "}\n"
   ]
  },
  {
   "cell_type": "markdown",
   "id": "21cb7b57-9811-4216-aa52-8098c19b18e3",
   "metadata": {},
   "source": [
    "Running the following code cell will take a while as it is going a while as it is performing a significant number of tests in an attenmpt to to find the best combination of parameters that will yield the best performing neural network "
   ]
  },
  {
   "cell_type": "code",
   "execution_count": null,
   "id": "45da93f8-5571-46a6-b285-1ceb2398bda6",
   "metadata": {},
   "outputs": [],
   "source": [
    "#Using GridSearchCV to get the best hyperparameters for the NN model\n",
    "grid_search = GridSearchCV(estimator=model_nn_tune, param_grid=param_grid, n_jobs=-1, cv=5)\n",
    "grid_search.fit(X_train_nn, y_train_nn)\n",
    "\n",
    "# Get the best hyperparameters\n",
    "print(\"Best parameters found: \", grid_search.best_params_)"
   ]
  },
  {
   "cell_type": "markdown",
   "id": "28dcf5b9-0b67-4a86-84ec-27bf1d2ba3e2",
   "metadata": {},
   "source": [
    "Identified best parameters: {optimizer: 'adam', loss: 'sparse_categorical_crossentropy', dropout_rate: 0.2, epochs: 10, batch_size: 32}"
   ]
  },
  {
   "cell_type": "markdown",
   "id": "8eee02c0-2456-4a4a-a735-ca672d49a745",
   "metadata": {},
   "source": [
    "<h4>Testing the 'best' model</h4>"
   ]
  },
  {
   "cell_type": "code",
   "execution_count": 205,
   "id": "4ed88693-6d13-4b5a-be3a-b0792e122a49",
   "metadata": {},
   "outputs": [],
   "source": [
    "model_best = Sequential([\n",
    "    Input(shape=(input_dims,)),  \n",
    "    Dense(4500, activation='relu'),\n",
    "    Dropout(0.3),\n",
    "    Dense(3500, activation='relu'),\n",
    "    Dropout(0.2), \n",
    "    Dense(1000, activation='relu'),\n",
    "    Dropout(0.2),\n",
    "    Dense(num_classes, activation='softmax') \n",
    "])"
   ]
  },
  {
   "cell_type": "code",
   "execution_count": 208,
   "id": "c71d04c0-5cfc-44dc-ad4f-b6331ef95d81",
   "metadata": {},
   "outputs": [],
   "source": [
    "model_best.compile(optimizer='adam', loss='sparse_categorical_crossentropy', metrics=['accuracy'])"
   ]
  },
  {
   "cell_type": "markdown",
   "id": "d3d858a6-22a2-4ad8-a1fd-59e4184530a9",
   "metadata": {},
   "source": [
    "Uncomment the code below to fit the model outside of MLFlow"
   ]
  },
  {
   "cell_type": "code",
   "execution_count": 210,
   "id": "4bbdc9ce-94da-48a8-90bc-7dccb88e5c31",
   "metadata": {},
   "outputs": [
    {
     "name": "stdout",
     "output_type": "stream",
     "text": [
      "Epoch 1/10\n",
      "\u001b[1m138/138\u001b[0m \u001b[32m━━━━━━━━━━━━━━━━━━━━\u001b[0m\u001b[37m\u001b[0m \u001b[1m71s\u001b[0m 502ms/step - accuracy: 0.8137 - loss: 0.4591 - val_accuracy: 0.5284 - val_loss: 3.1932\n",
      "Epoch 2/10\n",
      "\u001b[1m138/138\u001b[0m \u001b[32m━━━━━━━━━━━━━━━━━━━━\u001b[0m\u001b[37m\u001b[0m \u001b[1m67s\u001b[0m 488ms/step - accuracy: 0.9992 - loss: 0.0049 - val_accuracy: 0.6442 - val_loss: 1.7267\n",
      "Epoch 3/10\n",
      "\u001b[1m138/138\u001b[0m \u001b[32m━━━━━━━━━━━━━━━━━━━━\u001b[0m\u001b[37m\u001b[0m \u001b[1m69s\u001b[0m 501ms/step - accuracy: 0.9987 - loss: 0.0017 - val_accuracy: 0.6062 - val_loss: 2.1737\n",
      "Epoch 4/10\n",
      "\u001b[1m138/138\u001b[0m \u001b[32m━━━━━━━━━━━━━━━━━━━━\u001b[0m\u001b[37m\u001b[0m \u001b[1m73s\u001b[0m 525ms/step - accuracy: 1.0000 - loss: 1.5317e-06 - val_accuracy: 0.6141 - val_loss: 2.1180\n",
      "Epoch 5/10\n",
      "\u001b[1m138/138\u001b[0m \u001b[32m━━━━━━━━━━━━━━━━━━━━\u001b[0m\u001b[37m\u001b[0m \u001b[1m68s\u001b[0m 492ms/step - accuracy: 1.0000 - loss: 4.2255e-07 - val_accuracy: 0.6147 - val_loss: 2.1062\n",
      "Epoch 6/10\n",
      "\u001b[1m138/138\u001b[0m \u001b[32m━━━━━━━━━━━━━━━━━━━━\u001b[0m\u001b[37m\u001b[0m \u001b[1m68s\u001b[0m 489ms/step - accuracy: 1.0000 - loss: 2.6268e-07 - val_accuracy: 0.6156 - val_loss: 2.0973\n",
      "Epoch 7/10\n",
      "\u001b[1m138/138\u001b[0m \u001b[32m━━━━━━━━━━━━━━━━━━━━\u001b[0m\u001b[37m\u001b[0m \u001b[1m67s\u001b[0m 489ms/step - accuracy: 1.0000 - loss: 1.6996e-07 - val_accuracy: 0.6163 - val_loss: 2.0916\n",
      "Epoch 8/10\n",
      "\u001b[1m138/138\u001b[0m \u001b[32m━━━━━━━━━━━━━━━━━━━━\u001b[0m\u001b[37m\u001b[0m \u001b[1m67s\u001b[0m 485ms/step - accuracy: 1.0000 - loss: 1.6868e-07 - val_accuracy: 0.6167 - val_loss: 2.0859\n",
      "Epoch 9/10\n",
      "\u001b[1m138/138\u001b[0m \u001b[32m━━━━━━━━━━━━━━━━━━━━\u001b[0m\u001b[37m\u001b[0m \u001b[1m69s\u001b[0m 500ms/step - accuracy: 1.0000 - loss: 1.7972e-07 - val_accuracy: 0.6167 - val_loss: 2.0816\n",
      "Epoch 10/10\n",
      "\u001b[1m138/138\u001b[0m \u001b[32m━━━━━━━━━━━━━━━━━━━━\u001b[0m\u001b[37m\u001b[0m \u001b[1m68s\u001b[0m 494ms/step - accuracy: 1.0000 - loss: 9.4639e-08 - val_accuracy: 0.6172 - val_loss: 2.0774\n",
      "\u001b[1m313/313\u001b[0m \u001b[32m━━━━━━━━━━━━━━━━━━━━\u001b[0m\u001b[37m\u001b[0m \u001b[1m5s\u001b[0m 17ms/step - accuracy: 0.5809 - loss: 2.4747\n",
      "Test Loss: 2.0039327144622803\n",
      "Test Accuracy: 0.6279000043869019\n"
     ]
    }
   ],
   "source": [
    "# model_best.fit(X_train_nn, y_train_nn, validation_data=(X_val_nn, y_val_nn), epochs=epochs, batch_size=batch_size)\n",
    "\n",
    "# test_loss, test_accuracy = model_best.evaluate(X_test_nn, y_test_nn, batch_size=32)\n",
    "\n",
    "# print(f\"Test Loss: {test_loss}\")\n",
    "# print(f\"Test Accuracy: {test_accuracy}\")"
   ]
  },
  {
   "cell_type": "markdown",
   "id": "b71cea14-dc17-4db3-afd9-a87f1ddb7589",
   "metadata": {},
   "source": [
    "Test Loss: 2.0039327144622803"
   ]
  },
  {
   "cell_type": "markdown",
   "id": "8eab3e5d-8799-4d13-b28c-72c7af426a9b",
   "metadata": {},
   "source": [
    "Test Accuracy: 0.6279000043869019"
   ]
  },
  {
   "cell_type": "markdown",
   "id": "d64c530e-79a9-4dda-b0d6-2f584b09f176",
   "metadata": {},
   "source": [
    "<h4>MLFlow</h4>"
   ]
  },
  {
   "cell_type": "markdown",
   "id": "af7571ad-04cd-426f-ab3c-1ae32923fc0d",
   "metadata": {},
   "source": [
    "The following function will, using MLFlow, create an experiment that will track the model passed to it, and log its parameters and metrics"
   ]
  },
  {
   "cell_type": "code",
   "execution_count": 53,
   "id": "91becc4a-6638-46b2-9917-9c402f1cc20a",
   "metadata": {},
   "outputs": [],
   "source": [
    "mlflow.set_tracking_uri(\"http://127.0.0.1:5000\")"
   ]
  },
  {
   "cell_type": "code",
   "execution_count": 61,
   "id": "a7972318-6e94-4069-808a-98cfab98246e",
   "metadata": {},
   "outputs": [],
   "source": [
    "def train_and_evaluate_model(X_train, y_train, X_val, y_val, X_test, y_test, model, model_name):\n",
    "\n",
    "    with mlflow.start_run(run_name = model_name):\n",
    "        # Log hyperparameters\n",
    "        mlflow.log_param(\"batch_size\", batch_size)\n",
    "        mlflow.log_param(\"epochs\", epochs)\n",
    "        mlflow.log_param(\"input_dims\", input_dims)\n",
    "        mlflow.log_param(\"num_classes\", num_classes)\n",
    "\n",
    "        # Train the model\n",
    "        history = model.fit(X_train, y_train, epochs=epochs, batch_size=batch_size,\n",
    "                               validation_data=(X_val, y_val), verbose=1)\n",
    "\n",
    "        # Log final validation metrics\n",
    "        val_loss, val_accuracy = model.evaluate(X_val, y_val, verbose=0)\n",
    "        mlflow.log_metric(\"val_loss\", val_loss)\n",
    "        mlflow.log_metric(\"val_accuracy\", val_accuracy)\n",
    "\n",
    "        # Evaluate on test data\n",
    "        test_loss, test_accuracy = model.evaluate(X_test, y_test, verbose=0)\n",
    "        mlflow.log_metric(\"test_loss\", test_loss)\n",
    "        mlflow.log_metric(\"test_accuracy\", test_accuracy)\n",
    "\n",
    "        # Make predictions on test set\n",
    "        y_pred = model.predict(X_test)\n",
    "        y_pred_classes = y_pred.argmax(axis=1)\n",
    "        y_true_classes = y_test.argmax(axis=1)\n",
    "\n",
    "        # Generate classification report\n",
    "        report = classification_report(y_true_classes, y_pred_classes, output_dict=True)\n",
    "        mlflow.log_dict(report, \"classification_report.json\")\n",
    "\n",
    "        # #logging the model\n",
    "        signature = infer_signature(X_train.iloc[:5].to_numpy(), model.predict(X_train.iloc[:5].to_numpy()))\n",
    "        mlflow.keras.log_model(model, \"Neural Network model\", signature=signature)\n",
    "\n",
    "    return model"
   ]
  },
  {
   "cell_type": "code",
   "execution_count": 63,
   "id": "4febaf73-b459-4412-959c-301940ac5012",
   "metadata": {},
   "outputs": [
    {
     "name": "stdout",
     "output_type": "stream",
     "text": [
      "Epoch 1/10\n",
      "\u001b[1m138/138\u001b[0m \u001b[32m━━━━━━━━━━━━━━━━━━━━\u001b[0m\u001b[37m\u001b[0m \u001b[1m52s\u001b[0m 347ms/step - accuracy: 0.3674 - loss: 2.9879 - val_accuracy: 0.2645 - val_loss: 2.3512\n",
      "Epoch 2/10\n",
      "\u001b[1m138/138\u001b[0m \u001b[32m━━━━━━━━━━━━━━━━━━━━\u001b[0m\u001b[37m\u001b[0m \u001b[1m47s\u001b[0m 343ms/step - accuracy: 0.8919 - loss: 0.3293 - val_accuracy: 0.2038 - val_loss: 2.7418\n",
      "Epoch 3/10\n",
      "\u001b[1m138/138\u001b[0m \u001b[32m━━━━━━━━━━━━━━━━━━━━\u001b[0m\u001b[37m\u001b[0m \u001b[1m47s\u001b[0m 341ms/step - accuracy: 0.9749 - loss: 0.0973 - val_accuracy: 0.2255 - val_loss: 4.7027\n",
      "Epoch 4/10\n",
      "\u001b[1m138/138\u001b[0m \u001b[32m━━━━━━━━━━━━━━━━━━━━\u001b[0m\u001b[37m\u001b[0m \u001b[1m47s\u001b[0m 338ms/step - accuracy: 0.9851 - loss: 0.0690 - val_accuracy: 0.2246 - val_loss: 5.2176\n",
      "Epoch 5/10\n",
      "\u001b[1m138/138\u001b[0m \u001b[32m━━━━━━━━━━━━━━━━━━━━\u001b[0m\u001b[37m\u001b[0m \u001b[1m47s\u001b[0m 339ms/step - accuracy: 0.9901 - loss: 0.0645 - val_accuracy: 0.2418 - val_loss: 5.7826\n",
      "Epoch 6/10\n",
      "\u001b[1m138/138\u001b[0m \u001b[32m━━━━━━━━━━━━━━━━━━━━\u001b[0m\u001b[37m\u001b[0m \u001b[1m47s\u001b[0m 343ms/step - accuracy: 0.9931 - loss: 0.0549 - val_accuracy: 0.2183 - val_loss: 4.9632\n",
      "Epoch 7/10\n",
      "\u001b[1m138/138\u001b[0m \u001b[32m━━━━━━━━━━━━━━━━━━━━\u001b[0m\u001b[37m\u001b[0m \u001b[1m47s\u001b[0m 340ms/step - accuracy: 0.9968 - loss: 0.0222 - val_accuracy: 0.2174 - val_loss: 6.5120\n",
      "Epoch 8/10\n",
      "\u001b[1m138/138\u001b[0m \u001b[32m━━━━━━━━━━━━━━━━━━━━\u001b[0m\u001b[37m\u001b[0m \u001b[1m47s\u001b[0m 339ms/step - accuracy: 0.9872 - loss: 0.1003 - val_accuracy: 0.2364 - val_loss: 5.4115\n",
      "Epoch 9/10\n",
      "\u001b[1m138/138\u001b[0m \u001b[32m━━━━━━━━━━━━━━━━━━━━\u001b[0m\u001b[37m\u001b[0m \u001b[1m47s\u001b[0m 342ms/step - accuracy: 0.9868 - loss: 0.0882 - val_accuracy: 0.1812 - val_loss: 5.7267\n",
      "Epoch 10/10\n",
      "\u001b[1m138/138\u001b[0m \u001b[32m━━━━━━━━━━━━━━━━━━━━\u001b[0m\u001b[37m\u001b[0m \u001b[1m47s\u001b[0m 339ms/step - accuracy: 0.9916 - loss: 0.0372 - val_accuracy: 0.2237 - val_loss: 6.0497\n",
      "\u001b[1m63/63\u001b[0m \u001b[32m━━━━━━━━━━━━━━━━━━━━\u001b[0m\u001b[37m\u001b[0m \u001b[1m2s\u001b[0m 36ms/step\n",
      "\u001b[1m1/1\u001b[0m \u001b[32m━━━━━━━━━━━━━━━━━━━━\u001b[0m\u001b[37m\u001b[0m \u001b[1m0s\u001b[0m 97ms/step\n",
      "🏃 View run Base Model - 5K Features at: http://127.0.0.1:5000/#/experiments/0/runs/498b59744be4420f85a2a12db1297863\n",
      "🧪 View experiment at: http://127.0.0.1:5000/#/experiments/0\n"
     ]
    },
    {
     "data": {
      "text/plain": [
       "<Sequential name=sequential, built=True>"
      ]
     },
     "execution_count": 63,
     "metadata": {},
     "output_type": "execute_result"
    }
   ],
   "source": [
    "train_and_evaluate_model(X_train_nn, y_train_nn, X_val_nn, y_val_nn, X_test_nn, y_test_nn, model_nn, model_name = \"Base Model - 5K Features\")"
   ]
  },
  {
   "cell_type": "code",
   "execution_count": 65,
   "id": "f77b51c9-4701-4a81-8bc1-8553e55e9557",
   "metadata": {},
   "outputs": [
    {
     "name": "stdout",
     "output_type": "stream",
     "text": [
      "Epoch 1/10\n",
      "\u001b[1m138/138\u001b[0m \u001b[32m━━━━━━━━━━━━━━━━━━━━\u001b[0m\u001b[37m\u001b[0m \u001b[1m54s\u001b[0m 367ms/step - accuracy: 0.3544 - loss: 2.8042 - val_accuracy: 0.2681 - val_loss: 2.3383\n",
      "Epoch 2/10\n",
      "\u001b[1m138/138\u001b[0m \u001b[32m━━━━━━━━━━━━━━━━━━━━\u001b[0m\u001b[37m\u001b[0m \u001b[1m56s\u001b[0m 403ms/step - accuracy: 0.8963 - loss: 0.3209 - val_accuracy: 0.2582 - val_loss: 2.8981\n",
      "Epoch 3/10\n",
      "\u001b[1m138/138\u001b[0m \u001b[32m━━━━━━━━━━━━━━━━━━━━\u001b[0m\u001b[37m\u001b[0m \u001b[1m48s\u001b[0m 346ms/step - accuracy: 0.9711 - loss: 0.1247 - val_accuracy: 0.2246 - val_loss: 4.1228\n",
      "Epoch 4/10\n",
      "\u001b[1m138/138\u001b[0m \u001b[32m━━━━━━━━━━━━━━━━━━━━\u001b[0m\u001b[37m\u001b[0m \u001b[1m46s\u001b[0m 333ms/step - accuracy: 0.9847 - loss: 0.0800 - val_accuracy: 0.2328 - val_loss: 4.7747\n",
      "Epoch 5/10\n",
      "\u001b[1m138/138\u001b[0m \u001b[32m━━━━━━━━━━━━━━━━━━━━\u001b[0m\u001b[37m\u001b[0m \u001b[1m45s\u001b[0m 329ms/step - accuracy: 0.9905 - loss: 0.0608 - val_accuracy: 0.2409 - val_loss: 5.1767\n",
      "Epoch 6/10\n",
      "\u001b[1m138/138\u001b[0m \u001b[32m━━━━━━━━━━━━━━━━━━━━\u001b[0m\u001b[37m\u001b[0m \u001b[1m47s\u001b[0m 342ms/step - accuracy: 0.9926 - loss: 0.0636 - val_accuracy: 0.2264 - val_loss: 4.5103\n",
      "Epoch 7/10\n",
      "\u001b[1m138/138\u001b[0m \u001b[32m━━━━━━━━━━━━━━━━━━━━\u001b[0m\u001b[37m\u001b[0m \u001b[1m47s\u001b[0m 342ms/step - accuracy: 0.9970 - loss: 0.0162 - val_accuracy: 0.2219 - val_loss: 5.3069\n",
      "Epoch 8/10\n",
      "\u001b[1m138/138\u001b[0m \u001b[32m━━━━━━━━━━━━━━━━━━━━\u001b[0m\u001b[37m\u001b[0m \u001b[1m48s\u001b[0m 344ms/step - accuracy: 0.9943 - loss: 0.0214 - val_accuracy: 0.2246 - val_loss: 3.8682\n",
      "Epoch 9/10\n",
      "\u001b[1m138/138\u001b[0m \u001b[32m━━━━━━━━━━━━━━━━━━━━\u001b[0m\u001b[37m\u001b[0m \u001b[1m46s\u001b[0m 335ms/step - accuracy: 0.9979 - loss: 0.0061 - val_accuracy: 0.2183 - val_loss: 5.8442\n",
      "Epoch 10/10\n",
      "\u001b[1m138/138\u001b[0m \u001b[32m━━━━━━━━━━━━━━━━━━━━\u001b[0m\u001b[37m\u001b[0m \u001b[1m47s\u001b[0m 338ms/step - accuracy: 0.9970 - loss: 0.0139 - val_accuracy: 0.2210 - val_loss: 7.0442\n",
      "\u001b[1m63/63\u001b[0m \u001b[32m━━━━━━━━━━━━━━━━━━━━\u001b[0m\u001b[37m\u001b[0m \u001b[1m2s\u001b[0m 34ms/step\n",
      "\u001b[1m1/1\u001b[0m \u001b[32m━━━━━━━━━━━━━━━━━━━━\u001b[0m\u001b[37m\u001b[0m \u001b[1m0s\u001b[0m 81ms/step\n",
      "🏃 View run Tuned Model - 5K features at: http://127.0.0.1:5000/#/experiments/0/runs/dcc1ab545a1f4cb098e5058efaffea9a\n",
      "🧪 View experiment at: http://127.0.0.1:5000/#/experiments/0\n"
     ]
    },
    {
     "data": {
      "text/plain": [
       "<Sequential name=sequential_1, built=True>"
      ]
     },
     "execution_count": 65,
     "metadata": {},
     "output_type": "execute_result"
    }
   ],
   "source": [
    "train_and_evaluate_model(X_train_nn, y_train_nn, X_val_nn, y_val_nn, X_test_nn, y_test_nn, model_best, model_name = \"Tuned Model - 5K features\")"
   ]
  },
  {
   "cell_type": "markdown",
   "id": "a653ad02-9228-4a75-8b40-f12349fc0f91",
   "metadata": {},
   "source": [
    "Having looked at the models' performance on MLFlow, the tuned model outperformed the base model and now, it will be registered and saved for export and future use."
   ]
  },
  {
   "cell_type": "markdown",
   "id": "716f4974-a795-4732-910e-389ad4eb4280",
   "metadata": {},
   "source": [
    "<h5>Registering the better performing model</h5>"
   ]
  },
  {
   "cell_type": "code",
   "execution_count": 71,
   "id": "0db60828-9b96-4f3f-b354-5a76b75498a0",
   "metadata": {},
   "outputs": [
    {
     "name": "stdin",
     "output_type": "stream",
     "text": [
      "Enter Run ID:  dcc1ab545a1f4cb098e5058efaffea9a\n"
     ]
    },
    {
     "name": "stderr",
     "output_type": "stream",
     "text": [
      "Registered model 'Tuned Model' already exists. Creating a new version of this model...\n",
      "2025/02/06 00:16:10 INFO mlflow.store.model_registry.abstract_store: Waiting up to 300 seconds for model version to finish creation. Model name: Tuned Model, version 6\n",
      "Created version '6' of model 'Tuned Model'.\n"
     ]
    }
   ],
   "source": [
    "model_name = \"Tuned Model\"\n",
    "run_id = input(\"Enter Run ID: \") #\"4cc744832cfa4cd3b3e2080144b83c84\"\n",
    "model_uri = f\"runs:/{run_id}/{model_name}\"\n",
    "\n",
    "result = mlflow.register_model(\n",
    "    model_uri, model_name\n",
    ")"
   ]
  },
  {
   "cell_type": "code",
   "execution_count": 117,
   "id": "e02f6b4c-d986-4db3-a005-71685ff34677",
   "metadata": {},
   "outputs": [],
   "source": [
    "filename = \"NN_model.pkl\"\n",
    "pickle.dump(model_best, open(filename, \"wb\"))"
   ]
  },
  {
   "cell_type": "markdown",
   "id": "77b443f0-8fa8-4189-b7df-8985ab71f507",
   "metadata": {},
   "source": [
    "<h2>Random Forest</h2>"
   ]
  },
  {
   "cell_type": "markdown",
   "id": "381ade7b-b6a1-4c61-9c28-8e7cf827d47a",
   "metadata": {},
   "source": [
    "MLFlow Setup"
   ]
  },
  {
   "cell_type": "code",
   "execution_count": 18,
   "id": "50b7629b-315c-4c9d-824a-44fdc2210062",
   "metadata": {},
   "outputs": [
    {
     "data": {
      "text/plain": [
       "<Experiment: artifact_location='mlflow-artifacts:/754615274060752379', creation_time=1738929522016, experiment_id='754615274060752379', last_update_time=1738929522016, lifecycle_stage='active', name='RF_Category_Models', tags={}>"
      ]
     },
     "execution_count": 18,
     "metadata": {},
     "output_type": "execute_result"
    }
   ],
   "source": [
    "#Setting the tracking URI, which is where MLFlow will run and log experiments\n",
    "mlflow.set_tracking_uri(uri=\"http://127.0.0.1:5000\")\n",
    "mlflow.set_experiment(\"RF_Category_Models\")"
   ]
  },
  {
   "cell_type": "code",
   "execution_count": 36,
   "id": "476c21d6-bfa5-4384-b562-969c6ab3849d",
   "metadata": {},
   "outputs": [],
   "source": [
    "# Initialize a TfidfVectorizer\n",
    "vectorizer = TfidfVectorizer(stop_words='english', max_features=5000)\n",
    "\n",
    "# Fit the vectorizer on the training data and transform the data\n",
    "X_train_transformed = vectorizer.fit_transform(X_train_base)\n",
    "X_val_transformed = vectorizer.transform(X_val_base)\n",
    "X_test_transformed = vectorizer.transform(X_test_base)\n",
    "\n",
    "# Label encode the target labels\n",
    "label_encoder = LabelEncoder()\n",
    "y_train_encoded = label_encoder.fit_transform(y_train_base)\n",
    "y_val_encoded = label_encoder.transform(y_val_base)\n",
    "y_test_encoded = label_encoder.transform(y_test_base)\n"
   ]
  },
  {
   "cell_type": "code",
   "execution_count": 37,
   "id": "b68fc8cc-8ada-4438-839e-80f62d1f24ab",
   "metadata": {},
   "outputs": [],
   "source": [
    "# Function to calculate feature importance per category\n",
    "def get_feature_importance_per_category(X_train, y_train, vectorizer, n_top_features=5000):\n",
    "    category_importances = {}\n",
    "\n",
    "    # Loop through each category\n",
    "    for category in np.unique(y_train):\n",
    "        # Filter data for the current category\n",
    "        X_category = X_train[y_train == category]\n",
    "        y_category = y_train[y_train == category]\n",
    "        \n",
    "        # Train a RandomForest for the category to get feature importances\n",
    "        rf_model = RandomForestClassifier(n_estimators=5, random_state=42)\n",
    "        rf_model.fit(X_category, y_category)\n",
    "        \n",
    "        # Get feature importances\n",
    "        importances = rf_model.feature_importances_\n",
    "        feature_names = vectorizer.get_feature_names_out()\n",
    "\n",
    "        # Create a DataFrame for feature importances\n",
    "        feature_importance_df = pd.DataFrame({\n",
    "            'Feature': feature_names,\n",
    "            'Importance': importances\n",
    "        })\n",
    "\n",
    "        # Sort features by importance and select the top ones\n",
    "        sorted_features = feature_importance_df.sort_values(by='Importance', ascending=False).head(n_top_features)\n",
    "        \n",
    "        # Store the important features for the category\n",
    "        category_importances[category] = sorted_features\n",
    "\n",
    "    return category_importances\n",
    "    "
   ]
  },
  {
   "cell_type": "code",
   "execution_count": 40,
   "id": "9d9ea3cc-29ec-46a9-9507-c57c404f2721",
   "metadata": {},
   "outputs": [],
   "source": [
    "# Calculate the important features per category\n",
    "category_importances = get_feature_importance_per_category(X_train_transformed, y_train_encoded, vectorizer)"
   ]
  },
  {
   "cell_type": "markdown",
   "id": "132043af",
   "metadata": {},
   "source": [
    "<h4>Training</h4>"
   ]
  },
  {
   "cell_type": "code",
   "execution_count": 43,
   "id": "33d86dbe-a9f5-4d5a-a91f-5f90934aa5f7",
   "metadata": {},
   "outputs": [],
   "source": [
    "# Function to train and log the base Random Forest model\n",
    "def train_base_rf_and_log(X_train, y_train, vectorizer):\n",
    "    with mlflow.start_run() as run:  # Start an MLFlow run to log the base model\n",
    "        rf_model = RandomForestClassifier(n_estimators=100, max_depth=10, random_state=42)\n",
    "\n",
    "         # Log parameters of the base model\n",
    "        mlflow.log_param('n_estimators', 100)\n",
    "        mlflow.log_param('max_depth', 10)\n",
    "        mlflow.log_param('random_state', 42)\n",
    "        \n",
    "        rf_model.fit(X_train, y_train)  # Train the model on the entire dataset\n",
    "        \n",
    "        mlflow.sklearn.log_model(rf_model, \"rf_model_base\")  # Log the base model\n",
    "        \n",
    "    return rf_model\n",
    "    "
   ]
  },
  {
   "cell_type": "code",
   "execution_count": 45,
   "id": "95835138-3a9c-4c8a-86ab-22f87f7f1aa7",
   "metadata": {},
   "outputs": [
    {
     "name": "stderr",
     "output_type": "stream",
     "text": [
      "2025/02/07 14:28:50 WARNING mlflow.models.model: Model logged without a signature and input example. Please set `input_example` parameter when logging the model to auto infer the model signature.\n"
     ]
    },
    {
     "name": "stdout",
     "output_type": "stream",
     "text": [
      "🏃 View run brawny-snipe-821 at: http://127.0.0.1:5000/#/experiments/754615274060752379/runs/848e4ff5834a44789671066bef9af0a5\n",
      "🧪 View experiment at: http://127.0.0.1:5000/#/experiments/754615274060752379\n"
     ]
    }
   ],
   "source": [
    "# Train and log the base model\n",
    "rf_model_base = train_base_rf_and_log(X_train_transformed, y_train_encoded, vectorizer)\n"
   ]
  },
  {
   "cell_type": "markdown",
   "id": "bc48710d",
   "metadata": {},
   "source": [
    "#### Model Tuning"
   ]
  },
  {
   "cell_type": "code",
   "execution_count": 46,
   "id": "50a1fbc5-cf57-4f24-8420-aea0c2d6ca17",
   "metadata": {},
   "outputs": [],
   "source": [
    "# Function to tune the Random Forest model using GridSearchCV and log the tuned model\n",
    "def train_tuned_rf_and_log(X_train, y_train, vectorizer):\n",
    "    with mlflow.start_run() as run:  # Start an MLFlow run to log the tuned model\n",
    "        param_grid = {\n",
    "            'n_estimators': [100, 200],\n",
    "            'max_depth': [10, 20, None]\n",
    "        }\n",
    "        \n",
    "        rf_model = RandomForestClassifier(random_state=42)\n",
    "\n",
    "        # Log the parameters for the GridSearchCV\n",
    "        mlflow.log_param('param_grid', str(param_grid))\n",
    "        \n",
    "        grid_search = GridSearchCV(rf_model, param_grid, cv=5, n_jobs=-1)\n",
    "        grid_search.fit(X_train, y_train)\n",
    "        \n",
    "        best_rf_model = grid_search.best_estimator_\n",
    "\n",
    "         # Log the best parameters of the tuned model\n",
    "        best_params = grid_search.best_params_\n",
    "        for param, value in best_params.items():\n",
    "            mlflow.log_param(param, value)\n",
    "            \n",
    "        mlflow.sklearn.log_model(best_rf_model, \"rf_model_tuned\")  # Log the tuned model\n",
    "        \n",
    "    return best_rf_model\n",
    "    "
   ]
  },
  {
   "cell_type": "code",
   "execution_count": 47,
   "id": "fab1f10f-e68b-40b2-b392-c663b81abe3c",
   "metadata": {},
   "outputs": [
    {
     "name": "stderr",
     "output_type": "stream",
     "text": [
      "2025/02/07 14:29:10 WARNING mlflow.models.model: Model logged without a signature and input example. Please set `input_example` parameter when logging the model to auto infer the model signature.\n"
     ]
    },
    {
     "name": "stdout",
     "output_type": "stream",
     "text": [
      "🏃 View run adorable-rat-838 at: http://127.0.0.1:5000/#/experiments/754615274060752379/runs/103dc99a28a54b4c9c26c1ae97d02345\n",
      "🧪 View experiment at: http://127.0.0.1:5000/#/experiments/754615274060752379\n"
     ]
    }
   ],
   "source": [
    "# Train and log the tuned model\n",
    "rf_model_tuned = train_tuned_rf_and_log(X_train_transformed, y_train_encoded, vectorizer)\n"
   ]
  },
  {
   "cell_type": "markdown",
   "id": "6d765a40",
   "metadata": {},
   "source": [
    "<h4>Evaluation</h4>"
   ]
  },
  {
   "cell_type": "code",
   "execution_count": 48,
   "id": "d0d36424-e575-42b1-92b7-6234d587b435",
   "metadata": {},
   "outputs": [
    {
     "name": "stdout",
     "output_type": "stream",
     "text": [
      "Validation Accuracy for base - category 0: 0.08928571428571429\n",
      "Validation Accuracy for base - category 1: 0.3355263157894737\n",
      "Validation Accuracy for base - category 2: 0.0\n",
      "Validation Accuracy for base - category 3: 0.015625\n",
      "Validation Accuracy for base - category 4: 0.76953125\n",
      "🏃 View run skittish-snipe-81 at: http://127.0.0.1:5000/#/experiments/754615274060752379/runs/3ee73fe7514d442280f2c4bce4294ce7\n",
      "🧪 View experiment at: http://127.0.0.1:5000/#/experiments/754615274060752379\n",
      "Validation Accuracy for tuned - category 0: 0.04017857142857143\n",
      "Validation Accuracy for tuned - category 1: 0.22039473684210525\n",
      "Validation Accuracy for tuned - category 2: 0.020833333333333332\n",
      "Validation Accuracy for tuned - category 3: 0.2421875\n",
      "Validation Accuracy for tuned - category 4: 0.62109375\n",
      "🏃 View run fearless-vole-210 at: http://127.0.0.1:5000/#/experiments/754615274060752379/runs/396da175c5fa4ef297afefe3d7ec65a3\n",
      "🧪 View experiment at: http://127.0.0.1:5000/#/experiments/754615274060752379\n"
     ]
    }
   ],
   "source": [
    "def evaluate_rf_per_category(models, X_val, y_val, vectorizer, category_importances, n_top_features=5000):\n",
    "    # Identify the top `n_top_features` across all categories\n",
    "    all_important_features = []\n",
    "\n",
    "    for category, importance_df in category_importances.items():\n",
    "        all_important_features.extend(importance_df['Feature'].values)\n",
    "\n",
    "    # Deduplicate and sort to get the most important features overall\n",
    "    all_important_features = list(set(all_important_features))[:n_top_features]\n",
    "\n",
    "    # Get the indices of these features in the original feature space\n",
    "    feature_indices = [np.where(vectorizer.get_feature_names_out() == feature)[0][0] for feature in all_important_features]\n",
    "    \n",
    "    # Convert the validation set to the required format\n",
    "    X_val_important = X_val[:, feature_indices]\n",
    "\n",
    "    for model_name, model in models.items():\n",
    "        with mlflow.start_run() as run:  # Log evaluation for each category and model\n",
    "            for category in np.unique(y_val):\n",
    "                # Filter the validation set for the current category\n",
    "                y_val_category = y_val[y_val == category]\n",
    "                X_val_category_important = X_val_important[y_val == category]\n",
    "                \n",
    "                # Predict and calculate accuracy\n",
    "                y_val_pred = model.predict(X_val_category_important)\n",
    "                accuracy = (y_val_pred == y_val_category).mean()\n",
    "\n",
    "                # Log evaluation results for this category\n",
    "                mlflow.log_metric(f\"accuracy_{model_name}_category_{category}\", accuracy)\n",
    "                print(f\"Validation Accuracy for {model_name} - category {category}: {accuracy}\")\n",
    "\n"
   ]
  },
  {
   "cell_type": "code",
   "execution_count": null,
   "id": "eb4964c7-ee58-4a49-a4a9-fd58597d88f5",
   "metadata": {},
   "outputs": [],
   "source": [
    "# Evaluate both the base and tuned models using the important features and log results\n",
    "models = {'base': rf_model_base, 'tuned': rf_model_tuned}\n",
    "evaluate_rf_per_category(models, X_val_transformed, y_val_encoded, vectorizer, category_importances)"
   ]
  },
  {
   "cell_type": "code",
   "execution_count": null,
   "id": "033d75fd-6938-4ff6-812e-5075a6fa81b3",
   "metadata": {},
   "outputs": [],
   "source": [
    "import joblib\n",
    "joblib.dump(rf_model_tuned, \"Random_Forest_model.pkl\")\n",
    "print(\"Model saved as 'Random_Forest_model.pkl'\")\n"
   ]
  },
  {
   "cell_type": "code",
   "execution_count": 321,
   "id": "d630630f-c4dd-4fde-b801-22c8faf534c4",
   "metadata": {},
   "outputs": [
    {
     "data": {
      "image/png": "[encoded data removed]",
      "text/plain": [
       "<Figure size 640x480 with 2 Axes>"
      ]
     },
     "metadata": {},
     "output_type": "display_data"
    }
   ],
   "source": [
    "from sklearn.metrics import ConfusionMatrixDisplay\n",
    "\n",
    "# Plot confusion matrix\n",
    "ConfusionMatrixDisplay.from_estimator(rf_model_tuned, X_test_transformed, y_test_encoded, cmap='Blues')\n",
    "plt.title(\"Confusion Matrix\")\n",
    "plt.show()\n"
   ]
  },
  {
   "cell_type": "code",
   "execution_count": null,
   "id": "280f1354-916c-4b6f-ae79-27a5641d2469",
   "metadata": {},
   "outputs": [],
   "source": [
    "# Trim the importances array to match the number of features\n",
    "importances = importances[:len(features)]\n"
   ]
  },
  {
   "cell_type": "code",
   "execution_count": null,
   "id": "972d2bfd-3691-4c10-8691-b6a71139ebe4",
   "metadata": {},
   "outputs": [],
   "source": [
    "# Create the DataFrame with feature names and importances\n",
    "importance_df = pd.DataFrame({'Feature': features, 'Importance': importances})\n",
    "\n",
    "# Sort the DataFrame by importance in descending order and take the top 10\n",
    "importance_df = importance_df.sort_values(by='Importance', ascending=False).head(10)\n",
    "\n",
    "# Display the top 10 most important features\n",
    "print(importance_df)\n"
   ]
  },
  {
   "cell_type": "markdown",
   "id": "e6df7d92-bf06-4a70-939e-467f272028e4",
   "metadata": {
    "jp-MarkdownHeadingCollapsed": true
   },
   "source": [
    "<h2>K-Nearest Neighbours</h2>"
   ]
  },
  {
   "cell_type": "code",
   "execution_count": 77,
   "id": "7cf6cb6a-672e-45cc-949f-7afbb262a1bd",
   "metadata": {},
   "outputs": [],
   "source": [
    "X_train_knn = X_train_base\n",
    "y_train_knn = y_train_base\n",
    "\n",
    "X_test_knn = X_val_base\n",
    "y_test_knn = y_val_base"
   ]
  },
  {
   "cell_type": "code",
   "execution_count": 279,
   "id": "c677f5c3-8d61-48b6-942f-449d0b1df184",
   "metadata": {},
   "outputs": [],
   "source": [
    "# Convert sparse matrices to dense numpy arrays, if they are sparse\n",
    "X_train_knn = X_train.toarray() if isinstance(X_train, csr_matrix) else np.asarray(X_train)\n",
    "X_val_knn = X_val.toarray() if isinstance(X_val, csr_matrix) else np.asarray(X_val)\n",
    "X_test_knn = X_test.toarray() if isinstance(X_test, csr_matrix) else np.asarray(X_test)\n",
    "\n",
    "# Ensure the arrays are 2D before slicing\n",
    "X_train_knn = X_train_knn if X_train_knn.ndim == 2 else X_train_knn.reshape(-1, 1)\n",
    "X_val_knn = X_val_knn if X_val_knn.ndim == 2 else X_val_knn.reshape(-1, 1)\n",
    "X_test_knn = X_test_knn if X_test_knn.ndim == 2 else X_test_knn.reshape(-1, 1)\n",
    "\n",
    "\n",
    "# Now slice the dense arrays to keep only the first 4999 columns (if needed)\n",
    "# We use 4999 because while handling class imbalances, we lost an observation \n",
    "# while trying to equalize the number of observations per class\n",
    "X_val_knn = X_val_knn[:, :4999]\n",
    "X_test_knn = X_test_knn[:, :4999]"
   ]
  },
  {
   "cell_type": "markdown",
   "id": "95d1c4c7",
   "metadata": {},
   "source": [
    "#### Evaluation"
   ]
  },
  {
   "cell_type": "code",
   "execution_count": 85,
   "id": "e6c61f62",
   "metadata": {},
   "outputs": [],
   "source": [
    "X_train_sampled, _, y_train_sampled, _ = train_test_split(X_train_knn, y_train_knn, train_size=0.2, random_state=42)"
   ]
  },
  {
   "cell_type": "code",
   "execution_count": 89,
   "id": "10be6b77-bffc-48c8-bebb-2eee0afdca0a",
   "metadata": {},
   "outputs": [],
   "source": [
    "# Train the KNN model (multi-label classification assumes one-vs-rest by default)\n",
    "knn = KNeighborsClassifier(n_neighbors=4, algorithm='ball_tree')"
   ]
  },
  {
   "cell_type": "code",
   "execution_count": null,
   "id": "727fd540-435d-42f0-beda-bc8c0e860d51",
   "metadata": {},
   "outputs": [],
   "source": [
    "knn.fit(X_train_scaled, y_train_knn)"
   ]
  },
  {
   "cell_type": "code",
   "execution_count": 97,
   "id": "16ef5cc6-2004-4d37-95d6-43fb8c03e6da",
   "metadata": {},
   "outputs": [],
   "source": [
    "y_pred_knn = knn.predict(X_test_nn)\n"
   ]
  },
  {
   "cell_type": "markdown",
   "id": "89a44a51",
   "metadata": {},
   "source": [
    "#### Model Tuning"
   ]
  },
  {
   "cell_type": "code",
   "execution_count": 50,
   "id": "57fe7f4f-5d23-40be-a1b8-5ecea8d2deae",
   "metadata": {},
   "outputs": [
    {
     "name": "stdout",
     "output_type": "stream",
     "text": [
      "Fitting 5 folds for each of 16 candidates, totalling 80 fits\n",
      "Best Hyperparameters: {'metric': 'manhattan', 'n_neighbors': 5, 'weights': 'distance'}\n"
     ]
    }
   ],
   "source": [
    "# Step 2: Define Hyperparameter Ranges for Tuning\n",
    "param_grid = {\n",
    "    'n_neighbors': [ 5,7, 9,15],          # Number of neighbors\n",
    "    'weights': ['uniform', 'distance'],      # Weighting scheme\n",
    "    'metric': ['euclidean', 'manhattan']     # Distance metrics\n",
    "}\n",
    "\n",
    "# Step 3: Initialize and Perform Grid Search\n",
    "knn = KNeighborsClassifier()\n",
    "grid_search = GridSearchCV(knn, param_grid, cv=5, scoring='accuracy', verbose=1)\n",
    "grid_search.fit(X_train_scaled, y_train_knn)\n",
    "\n",
    "# Step 4: Display the Best Hyperparameters\n",
    "print(\"Best Hyperparameters:\", grid_search.best_params_)"
   ]
  },
  {
   "cell_type": "code",
   "execution_count": 51,
   "id": "7c403b37-9cb6-470c-b39a-4d18852e7998",
   "metadata": {},
   "outputs": [
    {
     "name": "stdout",
     "output_type": "stream",
     "text": [
      "\n",
      "Classification Report (Test Dataset):\n",
      "               precision    recall  f1-score   support\n",
      "\n",
      "     business       1.00      0.72      0.84       245\n",
      "    education       0.52      1.00      0.68       274\n",
      "entertainment       1.00      0.71      0.83       178\n",
      "       sports       1.00      0.74      0.85       137\n",
      "   technology       1.00      0.62      0.76       270\n",
      "\n",
      "     accuracy                           0.77      1104\n",
      "    macro avg       0.90      0.76      0.79      1104\n",
      " weighted avg       0.88      0.77      0.78      1104\n",
      "\n"
     ]
    }
   ],
   "source": [
    "best_knn = grid_search.best_estimator_\n",
    "y_test_pred = best_knn.predict(X_test_nn)\n",
    "\n",
    "print(\"\\nClassification Report (Test Dataset):\")\n",
    "print(classification_report(y_test_knn, y_test_pred))"
   ]
  },
  {
   "cell_type": "markdown",
   "id": "27af72c0",
   "metadata": {},
   "source": [
    "#### MLFLow"
   ]
  },
  {
   "cell_type": "code",
   "execution_count": 52,
   "id": "a83604b0",
   "metadata": {},
   "outputs": [],
   "source": [
    "import mlflow "
   ]
  },
  {
   "cell_type": "code",
   "execution_count": 59,
   "id": "25cc5756",
   "metadata": {},
   "outputs": [
    {
     "name": "stdout",
     "output_type": "stream",
     "text": [
      "Fitting 5 folds for each of 16 candidates, totalling 80 fits\n",
      "Best Hyperparameters: {'metric': 'manhattan', 'n_neighbors': 5, 'weights': 'distance'}\n"
     ]
    },
    {
     "name": "stderr",
     "output_type": "stream",
     "text": [
      "2025/01/31 06:46:48 WARNING mlflow.models.model: Model logged without a signature and input example. Please set `input_example` parameter when logging the model to auto infer the model signature.\n"
     ]
    },
    {
     "name": "stdout",
     "output_type": "stream",
     "text": [
      "Logged best KNN model with accuracy: 0.7663 to MLflow\n",
      "Best KNN model saved locally as 'best_knn_model.pkl'\n"
     ]
    }
   ],
   "source": [
    "import mlflow\n",
    "import mlflow.sklearn\n",
    "import joblib\n",
    "from sklearn.model_selection import GridSearchCV\n",
    "from sklearn.neighbors import KNeighborsClassifier\n",
    "from sklearn.metrics import accuracy_score\n",
    "\n",
    "# Step 1: Define Hyperparameter Ranges for Tuning\n",
    "param_grid = {\n",
    "    'n_neighbors': [5, 7, 9, 15],  # Number of neighbors\n",
    "    'weights': ['uniform', 'distance'],  # Weighting scheme\n",
    "    'metric': ['euclidean', 'manhattan']  # Distance metrics\n",
    "}\n",
    "\n",
    "# Step 2: Initialize KNN and GridSearchCV\n",
    "knn = KNeighborsClassifier()\n",
    "grid_search = GridSearchCV(knn, param_grid, cv=5, scoring='accuracy', verbose=1)\n",
    "\n",
    "# Step 3: Fit the GridSearchCV on the training data\n",
    "grid_search.fit(X_train_scaled, y_train_knn)\n",
    "\n",
    "# Step 4: Display the Best Hyperparameters\n",
    "print(\"Best Hyperparameters:\", grid_search.best_params_)\n",
    "\n",
    "# Step 5: Log the best model to MLflow\n",
    "with mlflow.start_run():\n",
    "    mlflow.sklearn.log_model(grid_search.best_estimator_, \"knn_model\")\n",
    "\n",
    "    # Log the accuracy of the model\n",
    "    accuracy = accuracy_score(y_test_knn, grid_search.best_estimator_.predict(X_test_scaled))\n",
    "    mlflow.log_metric(\"accuracy\", accuracy)\n",
    "\n",
    "    print(f\"Logged best KNN model with accuracy: {accuracy:.4f} to MLflow\")\n",
    "\n",
    "# Step 6: Save the best model locally using joblib\n",
    "knn = KNeighborsClassifier(n_neighbors=5, weights= 'distance', metric= 'manhattan')\n",
    "joblib.dump( \"best_knn_model.pkl\")\n",
    "print(\"Best KNN model saved locally as 'best_knn_model.pkl'\")\n"
   ]
  },
  {
   "cell_type": "code",
   "execution_count": 99,
   "id": "4613269b-9aa0-4ebc-a66f-00718ce1a63c",
   "metadata": {},
   "outputs": [
    {
     "data": {
      "text/html": [
       "<style>#sk-container-id-2 {\n",
       "  /* Definition of color scheme common for light and dark mode */\n",
       "  --sklearn-color-text: black;\n",
       "  --sklearn-color-line: gray;\n",
       "  /* Definition of color scheme for unfitted estimators */\n",
       "  --sklearn-color-unfitted-level-0: #fff5e6;\n",
       "  --sklearn-color-unfitted-level-1: #f6e4d2;\n",
       "  --sklearn-color-unfitted-level-2: #ffe0b3;\n",
       "  --sklearn-color-unfitted-level-3: chocolate;\n",
       "  /* Definition of color scheme for fitted estimators */\n",
       "  --sklearn-color-fitted-level-0: #f0f8ff;\n",
       "  --sklearn-color-fitted-level-1: #d4ebff;\n",
       "  --sklearn-color-fitted-level-2: #b3dbfd;\n",
       "  --sklearn-color-fitted-level-3: cornflowerblue;\n",
       "\n",
       "  /* Specific color for light theme */\n",
       "  --sklearn-color-text-on-default-background: var(--sg-text-color, var(--theme-code-foreground, var(--jp-content-font-color1, black)));\n",
       "  --sklearn-color-background: var(--sg-background-color, var(--theme-background, var(--jp-layout-color0, white)));\n",
       "  --sklearn-color-border-box: var(--sg-text-color, var(--theme-code-foreground, var(--jp-content-font-color1, black)));\n",
       "  --sklearn-color-icon: #696969;\n",
       "\n",
       "  @media (prefers-color-scheme: dark) {\n",
       "    /* Redefinition of color scheme for dark theme */\n",
       "    --sklearn-color-text-on-default-background: var(--sg-text-color, var(--theme-code-foreground, var(--jp-content-font-color1, white)));\n",
       "    --sklearn-color-background: var(--sg-background-color, var(--theme-background, var(--jp-layout-color0, #111)));\n",
       "    --sklearn-color-border-box: var(--sg-text-color, var(--theme-code-foreground, var(--jp-content-font-color1, white)));\n",
       "    --sklearn-color-icon: #878787;\n",
       "  }\n",
       "}\n",
       "\n",
       "#sk-container-id-2 {\n",
       "  color: var(--sklearn-color-text);\n",
       "}\n",
       "\n",
       "#sk-container-id-2 pre {\n",
       "  padding: 0;\n",
       "}\n",
       "\n",
       "#sk-container-id-2 input.sk-hidden--visually {\n",
       "  border: 0;\n",
       "  clip: rect(1px 1px 1px 1px);\n",
       "  clip: rect(1px, 1px, 1px, 1px);\n",
       "  height: 1px;\n",
       "  margin: -1px;\n",
       "  overflow: hidden;\n",
       "  padding: 0;\n",
       "  position: absolute;\n",
       "  width: 1px;\n",
       "}\n",
       "\n",
       "#sk-container-id-2 div.sk-dashed-wrapped {\n",
       "  border: 1px dashed var(--sklearn-color-line);\n",
       "  margin: 0 0.4em 0.5em 0.4em;\n",
       "  box-sizing: border-box;\n",
       "  padding-bottom: 0.4em;\n",
       "  background-color: var(--sklearn-color-background);\n",
       "}\n",
       "\n",
       "#sk-container-id-2 div.sk-container {\n",
       "  /* jupyter's `normalize.less` sets `[hidden] { display: none; }`\n",
       "     but bootstrap.min.css set `[hidden] { display: none !important; }`\n",
       "     so we also need the `!important` here to be able to override the\n",
       "     default hidden behavior on the sphinx rendered scikit-learn.org.\n",
       "     See: https://github.com/scikit-learn/scikit-learn/issues/21755 */\n",
       "  display: inline-block !important;\n",
       "  position: relative;\n",
       "}\n",
       "\n",
       "#sk-container-id-2 div.sk-text-repr-fallback {\n",
       "  display: none;\n",
       "}\n",
       "\n",
       "div.sk-parallel-item,\n",
       "div.sk-serial,\n",
       "div.sk-item {\n",
       "  /* draw centered vertical line to link estimators */\n",
       "  background-image: linear-gradient(var(--sklearn-color-text-on-default-background), var(--sklearn-color-text-on-default-background));\n",
       "  background-size: 2px 100%;\n",
       "  background-repeat: no-repeat;\n",
       "  background-position: center center;\n",
       "}\n",
       "\n",
       "/* Parallel-specific style estimator block */\n",
       "\n",
       "#sk-container-id-2 div.sk-parallel-item::after {\n",
       "  content: \"\";\n",
       "  width: 100%;\n",
       "  border-bottom: 2px solid var(--sklearn-color-text-on-default-background);\n",
       "  flex-grow: 1;\n",
       "}\n",
       "\n",
       "#sk-container-id-2 div.sk-parallel {\n",
       "  display: flex;\n",
       "  align-items: stretch;\n",
       "  justify-content: center;\n",
       "  background-color: var(--sklearn-color-background);\n",
       "  position: relative;\n",
       "}\n",
       "\n",
       "#sk-container-id-2 div.sk-parallel-item {\n",
       "  display: flex;\n",
       "  flex-direction: column;\n",
       "}\n",
       "\n",
       "#sk-container-id-2 div.sk-parallel-item:first-child::after {\n",
       "  align-self: flex-end;\n",
       "  width: 50%;\n",
       "}\n",
       "\n",
       "#sk-container-id-2 div.sk-parallel-item:last-child::after {\n",
       "  align-self: flex-start;\n",
       "  width: 50%;\n",
       "}\n",
       "\n",
       "#sk-container-id-2 div.sk-parallel-item:only-child::after {\n",
       "  width: 0;\n",
       "}\n",
       "\n",
       "/* Serial-specific style estimator block */\n",
       "\n",
       "#sk-container-id-2 div.sk-serial {\n",
       "  display: flex;\n",
       "  flex-direction: column;\n",
       "  align-items: center;\n",
       "  background-color: var(--sklearn-color-background);\n",
       "  padding-right: 1em;\n",
       "  padding-left: 1em;\n",
       "}\n",
       "\n",
       "\n",
       "/* Toggleable style: style used for estimator/Pipeline/ColumnTransformer box that is\n",
       "clickable and can be expanded/collapsed.\n",
       "- Pipeline and ColumnTransformer use this feature and define the default style\n",
       "- Estimators will overwrite some part of the style using the `sk-estimator` class\n",
       "*/\n",
       "\n",
       "/* Pipeline and ColumnTransformer style (default) */\n",
       "\n",
       "#sk-container-id-2 div.sk-toggleable {\n",
       "  /* Default theme specific background. It is overwritten whether we have a\n",
       "  specific estimator or a Pipeline/ColumnTransformer */\n",
       "  background-color: var(--sklearn-color-background);\n",
       "}\n",
       "\n",
       "/* Toggleable label */\n",
       "#sk-container-id-2 label.sk-toggleable__label {\n",
       "  cursor: pointer;\n",
       "  display: block;\n",
       "  width: 100%;\n",
       "  margin-bottom: 0;\n",
       "  padding: 0.5em;\n",
       "  box-sizing: border-box;\n",
       "  text-align: center;\n",
       "}\n",
       "\n",
       "#sk-container-id-2 label.sk-toggleable__label-arrow:before {\n",
       "  /* Arrow on the left of the label */\n",
       "  content: \"▸\";\n",
       "  float: left;\n",
       "  margin-right: 0.25em;\n",
       "  color: var(--sklearn-color-icon);\n",
       "}\n",
       "\n",
       "#sk-container-id-2 label.sk-toggleable__label-arrow:hover:before {\n",
       "  color: var(--sklearn-color-text);\n",
       "}\n",
       "\n",
       "/* Toggleable content - dropdown */\n",
       "\n",
       "#sk-container-id-2 div.sk-toggleable__content {\n",
       "  max-height: 0;\n",
       "  max-width: 0;\n",
       "  overflow: hidden;\n",
       "  text-align: left;\n",
       "  /* unfitted */\n",
       "  background-color: var(--sklearn-color-unfitted-level-0);\n",
       "}\n",
       "\n",
       "#sk-container-id-2 div.sk-toggleable__content.fitted {\n",
       "  /* fitted */\n",
       "  background-color: var(--sklearn-color-fitted-level-0);\n",
       "}\n",
       "\n",
       "#sk-container-id-2 div.sk-toggleable__content pre {\n",
       "  margin: 0.2em;\n",
       "  border-radius: 0.25em;\n",
       "  color: var(--sklearn-color-text);\n",
       "  /* unfitted */\n",
       "  background-color: var(--sklearn-color-unfitted-level-0);\n",
       "}\n",
       "\n",
       "#sk-container-id-2 div.sk-toggleable__content.fitted pre {\n",
       "  /* unfitted */\n",
       "  background-color: var(--sklearn-color-fitted-level-0);\n",
       "}\n",
       "\n",
       "#sk-container-id-2 input.sk-toggleable__control:checked~div.sk-toggleable__content {\n",
       "  /* Expand drop-down */\n",
       "  max-height: 200px;\n",
       "  max-width: 100%;\n",
       "  overflow: auto;\n",
       "}\n",
       "\n",
       "#sk-container-id-2 input.sk-toggleable__control:checked~label.sk-toggleable__label-arrow:before {\n",
       "  content: \"▾\";\n",
       "}\n",
       "\n",
       "/* Pipeline/ColumnTransformer-specific style */\n",
       "\n",
       "#sk-container-id-2 div.sk-label input.sk-toggleable__control:checked~label.sk-toggleable__label {\n",
       "  color: var(--sklearn-color-text);\n",
       "  background-color: var(--sklearn-color-unfitted-level-2);\n",
       "}\n",
       "\n",
       "#sk-container-id-2 div.sk-label.fitted input.sk-toggleable__control:checked~label.sk-toggleable__label {\n",
       "  background-color: var(--sklearn-color-fitted-level-2);\n",
       "}\n",
       "\n",
       "/* Estimator-specific style */\n",
       "\n",
       "/* Colorize estimator box */\n",
       "#sk-container-id-2 div.sk-estimator input.sk-toggleable__control:checked~label.sk-toggleable__label {\n",
       "  /* unfitted */\n",
       "  background-color: var(--sklearn-color-unfitted-level-2);\n",
       "}\n",
       "\n",
       "#sk-container-id-2 div.sk-estimator.fitted input.sk-toggleable__control:checked~label.sk-toggleable__label {\n",
       "  /* fitted */\n",
       "  background-color: var(--sklearn-color-fitted-level-2);\n",
       "}\n",
       "\n",
       "#sk-container-id-2 div.sk-label label.sk-toggleable__label,\n",
       "#sk-container-id-2 div.sk-label label {\n",
       "  /* The background is the default theme color */\n",
       "  color: var(--sklearn-color-text-on-default-background);\n",
       "}\n",
       "\n",
       "/* On hover, darken the color of the background */\n",
       "#sk-container-id-2 div.sk-label:hover label.sk-toggleable__label {\n",
       "  color: var(--sklearn-color-text);\n",
       "  background-color: var(--sklearn-color-unfitted-level-2);\n",
       "}\n",
       "\n",
       "/* Label box, darken color on hover, fitted */\n",
       "#sk-container-id-2 div.sk-label.fitted:hover label.sk-toggleable__label.fitted {\n",
       "  color: var(--sklearn-color-text);\n",
       "  background-color: var(--sklearn-color-fitted-level-2);\n",
       "}\n",
       "\n",
       "/* Estimator label */\n",
       "\n",
       "#sk-container-id-2 div.sk-label label {\n",
       "  font-family: monospace;\n",
       "  font-weight: bold;\n",
       "  display: inline-block;\n",
       "  line-height: 1.2em;\n",
       "}\n",
       "\n",
       "#sk-container-id-2 div.sk-label-container {\n",
       "  text-align: center;\n",
       "}\n",
       "\n",
       "/* Estimator-specific */\n",
       "#sk-container-id-2 div.sk-estimator {\n",
       "  font-family: monospace;\n",
       "  border: 1px dotted var(--sklearn-color-border-box);\n",
       "  border-radius: 0.25em;\n",
       "  box-sizing: border-box;\n",
       "  margin-bottom: 0.5em;\n",
       "  /* unfitted */\n",
       "  background-color: var(--sklearn-color-unfitted-level-0);\n",
       "}\n",
       "\n",
       "#sk-container-id-2 div.sk-estimator.fitted {\n",
       "  /* fitted */\n",
       "  background-color: var(--sklearn-color-fitted-level-0);\n",
       "}\n",
       "\n",
       "/* on hover */\n",
       "#sk-container-id-2 div.sk-estimator:hover {\n",
       "  /* unfitted */\n",
       "  background-color: var(--sklearn-color-unfitted-level-2);\n",
       "}\n",
       "\n",
       "#sk-container-id-2 div.sk-estimator.fitted:hover {\n",
       "  /* fitted */\n",
       "  background-color: var(--sklearn-color-fitted-level-2);\n",
       "}\n",
       "\n",
       "/* Specification for estimator info (e.g. \"i\" and \"?\") */\n",
       "\n",
       "/* Common style for \"i\" and \"?\" */\n",
       "\n",
       ".sk-estimator-doc-link,\n",
       "a:link.sk-estimator-doc-link,\n",
       "a:visited.sk-estimator-doc-link {\n",
       "  float: right;\n",
       "  font-size: smaller;\n",
       "  line-height: 1em;\n",
       "  font-family: monospace;\n",
       "  background-color: var(--sklearn-color-background);\n",
       "  border-radius: 1em;\n",
       "  height: 1em;\n",
       "  width: 1em;\n",
       "  text-decoration: none !important;\n",
       "  margin-left: 1ex;\n",
       "  /* unfitted */\n",
       "  border: var(--sklearn-color-unfitted-level-1) 1pt solid;\n",
       "  color: var(--sklearn-color-unfitted-level-1);\n",
       "}\n",
       "\n",
       ".sk-estimator-doc-link.fitted,\n",
       "a:link.sk-estimator-doc-link.fitted,\n",
       "a:visited.sk-estimator-doc-link.fitted {\n",
       "  /* fitted */\n",
       "  border: var(--sklearn-color-fitted-level-1) 1pt solid;\n",
       "  color: var(--sklearn-color-fitted-level-1);\n",
       "}\n",
       "\n",
       "/* On hover */\n",
       "div.sk-estimator:hover .sk-estimator-doc-link:hover,\n",
       ".sk-estimator-doc-link:hover,\n",
       "div.sk-label-container:hover .sk-estimator-doc-link:hover,\n",
       ".sk-estimator-doc-link:hover {\n",
       "  /* unfitted */\n",
       "  background-color: var(--sklearn-color-unfitted-level-3);\n",
       "  color: var(--sklearn-color-background);\n",
       "  text-decoration: none;\n",
       "}\n",
       "\n",
       "div.sk-estimator.fitted:hover .sk-estimator-doc-link.fitted:hover,\n",
       ".sk-estimator-doc-link.fitted:hover,\n",
       "div.sk-label-container:hover .sk-estimator-doc-link.fitted:hover,\n",
       ".sk-estimator-doc-link.fitted:hover {\n",
       "  /* fitted */\n",
       "  background-color: var(--sklearn-color-fitted-level-3);\n",
       "  color: var(--sklearn-color-background);\n",
       "  text-decoration: none;\n",
       "}\n",
       "\n",
       "/* Span, style for the box shown on hovering the info icon */\n",
       ".sk-estimator-doc-link span {\n",
       "  display: none;\n",
       "  z-index: 9999;\n",
       "  position: relative;\n",
       "  font-weight: normal;\n",
       "  right: .2ex;\n",
       "  padding: .5ex;\n",
       "  margin: .5ex;\n",
       "  width: min-content;\n",
       "  min-width: 20ex;\n",
       "  max-width: 50ex;\n",
       "  color: var(--sklearn-color-text);\n",
       "  box-shadow: 2pt 2pt 4pt #999;\n",
       "  /* unfitted */\n",
       "  background: var(--sklearn-color-unfitted-level-0);\n",
       "  border: .5pt solid var(--sklearn-color-unfitted-level-3);\n",
       "}\n",
       "\n",
       ".sk-estimator-doc-link.fitted span {\n",
       "  /* fitted */\n",
       "  background: var(--sklearn-color-fitted-level-0);\n",
       "  border: var(--sklearn-color-fitted-level-3);\n",
       "}\n",
       "\n",
       ".sk-estimator-doc-link:hover span {\n",
       "  display: block;\n",
       "}\n",
       "\n",
       "/* \"?\"-specific style due to the `<a>` HTML tag */\n",
       "\n",
       "#sk-container-id-2 a.estimator_doc_link {\n",
       "  float: right;\n",
       "  font-size: 1rem;\n",
       "  line-height: 1em;\n",
       "  font-family: monospace;\n",
       "  background-color: var(--sklearn-color-background);\n",
       "  border-radius: 1rem;\n",
       "  height: 1rem;\n",
       "  width: 1rem;\n",
       "  text-decoration: none;\n",
       "  /* unfitted */\n",
       "  color: var(--sklearn-color-unfitted-level-1);\n",
       "  border: var(--sklearn-color-unfitted-level-1) 1pt solid;\n",
       "}\n",
       "\n",
       "#sk-container-id-2 a.estimator_doc_link.fitted {\n",
       "  /* fitted */\n",
       "  border: var(--sklearn-color-fitted-level-1) 1pt solid;\n",
       "  color: var(--sklearn-color-fitted-level-1);\n",
       "}\n",
       "\n",
       "/* On hover */\n",
       "#sk-container-id-2 a.estimator_doc_link:hover {\n",
       "  /* unfitted */\n",
       "  background-color: var(--sklearn-color-unfitted-level-3);\n",
       "  color: var(--sklearn-color-background);\n",
       "  text-decoration: none;\n",
       "}\n",
       "\n",
       "#sk-container-id-2 a.estimator_doc_link.fitted:hover {\n",
       "  /* fitted */\n",
       "  background-color: var(--sklearn-color-fitted-level-3);\n",
       "}\n",
       "</style><div id=\"sk-container-id-2\" class=\"sk-top-container\"><div class=\"sk-text-repr-fallback\"><pre>KNeighborsClassifier(metric=&#x27;manhattan&#x27;, weights=&#x27;distance&#x27;)</pre><b>In a Jupyter environment, please rerun this cell to show the HTML representation or trust the notebook. <br />On GitHub, the HTML representation is unable to render, please try loading this page with nbviewer.org.</b></div><div class=\"sk-container\" hidden><div class=\"sk-item\"><div class=\"sk-estimator fitted sk-toggleable\"><input class=\"sk-toggleable__control sk-hidden--visually\" id=\"sk-estimator-id-2\" type=\"checkbox\" checked><label for=\"sk-estimator-id-2\" class=\"sk-toggleable__label fitted sk-toggleable__label-arrow fitted\">&nbsp;&nbsp;KNeighborsClassifier<a class=\"sk-estimator-doc-link fitted\" rel=\"noreferrer\" target=\"_blank\" href=\"https://scikit-learn.org/1.4/modules/generated/sklearn.neighbors.KNeighborsClassifier.html\">?<span>Documentation for KNeighborsClassifier</span></a><span class=\"sk-estimator-doc-link fitted\">i<span>Fitted</span></span></label><div class=\"sk-toggleable__content fitted\"><pre>KNeighborsClassifier(metric=&#x27;manhattan&#x27;, weights=&#x27;distance&#x27;)</pre></div> </div></div></div></div>"
      ],
      "text/plain": [
       "KNeighborsClassifier(metric='manhattan', weights='distance')"
      ]
     },
     "execution_count": 99,
     "metadata": {},
     "output_type": "execute_result"
    }
   ],
   "source": [
    "# Step 6: Save the best model locally using joblib\n",
    "knn = KNeighborsClassifier(n_neighbors=5, weights= 'distance', metric= 'manhattan')\n",
    "knn.fit(X_train, y_train)\n"
   ]
  },
  {
   "cell_type": "code",
   "execution_count": 105,
   "id": "50b0cb46-3882-42f9-a3a7-f52d81033672",
   "metadata": {},
   "outputs": [],
   "source": [
    "filename = \"best_knn_model.pkl\"\n",
    "pickle.dump(knn, open(filename, \"wb\"))"
   ]
  },
  {
   "cell_type": "markdown",
   "id": "2d712328-f7b8-442c-abcb-3345bf983075",
   "metadata": {
    "jp-MarkdownHeadingCollapsed": true
   },
   "source": [
    "<h2>Naive Bayes</h2>"
   ]
  },
  {
   "cell_type": "code",
   "execution_count": 55,
   "id": "c68a23be-2fbe-433a-9122-e8e339ee8343",
   "metadata": {},
   "outputs": [
    {
     "name": "stdout",
     "output_type": "stream",
     "text": [
      "Accuracy: 0.2285\n",
      "               precision    recall  f1-score   support\n",
      "\n",
      "     business       0.33      0.48      0.39       400\n",
      "    education       0.21      0.29      0.24       400\n",
      "entertainment       0.15      0.14      0.14       400\n",
      "       sports       0.16      0.10      0.12       400\n",
      "   technology       0.23      0.13      0.17       400\n",
      "\n",
      "     accuracy                           0.23      2000\n",
      "    macro avg       0.21      0.23      0.21      2000\n",
      " weighted avg       0.21      0.23      0.21      2000\n",
      "\n"
     ]
    }
   ],
   "source": [
    "# Convert sparse matrix to dense numpy array\n",
    "X_train_NB = X_train.toarray() if isinstance(X_train, csr_matrix) else X_train\n",
    "X_val_NB = X_val.toarray() if isinstance(X_val, csr_matrix) else X_val\n",
    "X_test_NB = X_test.toarray() if isinstance(X_test, csr_matrix) else X_test\n",
    "\n",
    "# # Now slice the dense arrays to keep only the first 4999 columns\n",
    "X_val_NB = X_val_NB[:, :4999]\n",
    "X_test_NB = X_test_NB[:, :4999]\n",
    "\n",
    "# Train the Naive Bayes classifier\n",
    "nb = MultinomialNB()\n",
    "nb.fit(X_train_NB, y_train)\n",
    "\n",
    "# Predict on the test set\n",
    "y_pred = nb.predict(X_test_NB)\n",
    "\n",
    "# Evaluate the model\n",
    "from sklearn.metrics import classification_report, accuracy_score\n",
    "print(f\"Accuracy: {accuracy_score(y_test, y_pred)}\")\n",
    "print(classification_report(y_test, y_pred))"
   ]
  },
  {
   "cell_type": "code",
   "execution_count": 65,
   "id": "a8c8113b-f8a1-4c2c-a8ac-57fd15f9e5f3",
   "metadata": {},
   "outputs": [
    {
     "name": "stdout",
     "output_type": "stream",
     "text": [
      "Fitting 5 folds for each of 4 candidates, totalling 20 fits\n"
     ]
    },
    {
     "data": {
      "text/html": [
       "<style>#sk-container-id-1 {\n",
       "  /* Definition of color scheme common for light and dark mode */\n",
       "  --sklearn-color-text: black;\n",
       "  --sklearn-color-line: gray;\n",
       "  /* Definition of color scheme for unfitted estimators */\n",
       "  --sklearn-color-unfitted-level-0: #fff5e6;\n",
       "  --sklearn-color-unfitted-level-1: #f6e4d2;\n",
       "  --sklearn-color-unfitted-level-2: #ffe0b3;\n",
       "  --sklearn-color-unfitted-level-3: chocolate;\n",
       "  /* Definition of color scheme for fitted estimators */\n",
       "  --sklearn-color-fitted-level-0: #f0f8ff;\n",
       "  --sklearn-color-fitted-level-1: #d4ebff;\n",
       "  --sklearn-color-fitted-level-2: #b3dbfd;\n",
       "  --sklearn-color-fitted-level-3: cornflowerblue;\n",
       "\n",
       "  /* Specific color for light theme */\n",
       "  --sklearn-color-text-on-default-background: var(--sg-text-color, var(--theme-code-foreground, var(--jp-content-font-color1, black)));\n",
       "  --sklearn-color-background: var(--sg-background-color, var(--theme-background, var(--jp-layout-color0, white)));\n",
       "  --sklearn-color-border-box: var(--sg-text-color, var(--theme-code-foreground, var(--jp-content-font-color1, black)));\n",
       "  --sklearn-color-icon: #696969;\n",
       "\n",
       "  @media (prefers-color-scheme: dark) {\n",
       "    /* Redefinition of color scheme for dark theme */\n",
       "    --sklearn-color-text-on-default-background: var(--sg-text-color, var(--theme-code-foreground, var(--jp-content-font-color1, white)));\n",
       "    --sklearn-color-background: var(--sg-background-color, var(--theme-background, var(--jp-layout-color0, #111)));\n",
       "    --sklearn-color-border-box: var(--sg-text-color, var(--theme-code-foreground, var(--jp-content-font-color1, white)));\n",
       "    --sklearn-color-icon: #878787;\n",
       "  }\n",
       "}\n",
       "\n",
       "#sk-container-id-1 {\n",
       "  color: var(--sklearn-color-text);\n",
       "}\n",
       "\n",
       "#sk-container-id-1 pre {\n",
       "  padding: 0;\n",
       "}\n",
       "\n",
       "#sk-container-id-1 input.sk-hidden--visually {\n",
       "  border: 0;\n",
       "  clip: rect(1px 1px 1px 1px);\n",
       "  clip: rect(1px, 1px, 1px, 1px);\n",
       "  height: 1px;\n",
       "  margin: -1px;\n",
       "  overflow: hidden;\n",
       "  padding: 0;\n",
       "  position: absolute;\n",
       "  width: 1px;\n",
       "}\n",
       "\n",
       "#sk-container-id-1 div.sk-dashed-wrapped {\n",
       "  border: 1px dashed var(--sklearn-color-line);\n",
       "  margin: 0 0.4em 0.5em 0.4em;\n",
       "  box-sizing: border-box;\n",
       "  padding-bottom: 0.4em;\n",
       "  background-color: var(--sklearn-color-background);\n",
       "}\n",
       "\n",
       "#sk-container-id-1 div.sk-container {\n",
       "  /* jupyter's `normalize.less` sets `[hidden] { display: none; }`\n",
       "     but bootstrap.min.css set `[hidden] { display: none !important; }`\n",
       "     so we also need the `!important` here to be able to override the\n",
       "     default hidden behavior on the sphinx rendered scikit-learn.org.\n",
       "     See: https://github.com/scikit-learn/scikit-learn/issues/21755 */\n",
       "  display: inline-block !important;\n",
       "  position: relative;\n",
       "}\n",
       "\n",
       "#sk-container-id-1 div.sk-text-repr-fallback {\n",
       "  display: none;\n",
       "}\n",
       "\n",
       "div.sk-parallel-item,\n",
       "div.sk-serial,\n",
       "div.sk-item {\n",
       "  /* draw centered vertical line to link estimators */\n",
       "  background-image: linear-gradient(var(--sklearn-color-text-on-default-background), var(--sklearn-color-text-on-default-background));\n",
       "  background-size: 2px 100%;\n",
       "  background-repeat: no-repeat;\n",
       "  background-position: center center;\n",
       "}\n",
       "\n",
       "/* Parallel-specific style estimator block */\n",
       "\n",
       "#sk-container-id-1 div.sk-parallel-item::after {\n",
       "  content: \"\";\n",
       "  width: 100%;\n",
       "  border-bottom: 2px solid var(--sklearn-color-text-on-default-background);\n",
       "  flex-grow: 1;\n",
       "}\n",
       "\n",
       "#sk-container-id-1 div.sk-parallel {\n",
       "  display: flex;\n",
       "  align-items: stretch;\n",
       "  justify-content: center;\n",
       "  background-color: var(--sklearn-color-background);\n",
       "  position: relative;\n",
       "}\n",
       "\n",
       "#sk-container-id-1 div.sk-parallel-item {\n",
       "  display: flex;\n",
       "  flex-direction: column;\n",
       "}\n",
       "\n",
       "#sk-container-id-1 div.sk-parallel-item:first-child::after {\n",
       "  align-self: flex-end;\n",
       "  width: 50%;\n",
       "}\n",
       "\n",
       "#sk-container-id-1 div.sk-parallel-item:last-child::after {\n",
       "  align-self: flex-start;\n",
       "  width: 50%;\n",
       "}\n",
       "\n",
       "#sk-container-id-1 div.sk-parallel-item:only-child::after {\n",
       "  width: 0;\n",
       "}\n",
       "\n",
       "/* Serial-specific style estimator block */\n",
       "\n",
       "#sk-container-id-1 div.sk-serial {\n",
       "  display: flex;\n",
       "  flex-direction: column;\n",
       "  align-items: center;\n",
       "  background-color: var(--sklearn-color-background);\n",
       "  padding-right: 1em;\n",
       "  padding-left: 1em;\n",
       "}\n",
       "\n",
       "\n",
       "/* Toggleable style: style used for estimator/Pipeline/ColumnTransformer box that is\n",
       "clickable and can be expanded/collapsed.\n",
       "- Pipeline and ColumnTransformer use this feature and define the default style\n",
       "- Estimators will overwrite some part of the style using the `sk-estimator` class\n",
       "*/\n",
       "\n",
       "/* Pipeline and ColumnTransformer style (default) */\n",
       "\n",
       "#sk-container-id-1 div.sk-toggleable {\n",
       "  /* Default theme specific background. It is overwritten whether we have a\n",
       "  specific estimator or a Pipeline/ColumnTransformer */\n",
       "  background-color: var(--sklearn-color-background);\n",
       "}\n",
       "\n",
       "/* Toggleable label */\n",
       "#sk-container-id-1 label.sk-toggleable__label {\n",
       "  cursor: pointer;\n",
       "  display: block;\n",
       "  width: 100%;\n",
       "  margin-bottom: 0;\n",
       "  padding: 0.5em;\n",
       "  box-sizing: border-box;\n",
       "  text-align: center;\n",
       "}\n",
       "\n",
       "#sk-container-id-1 label.sk-toggleable__label-arrow:before {\n",
       "  /* Arrow on the left of the label */\n",
       "  content: \"▸\";\n",
       "  float: left;\n",
       "  margin-right: 0.25em;\n",
       "  color: var(--sklearn-color-icon);\n",
       "}\n",
       "\n",
       "#sk-container-id-1 label.sk-toggleable__label-arrow:hover:before {\n",
       "  color: var(--sklearn-color-text);\n",
       "}\n",
       "\n",
       "/* Toggleable content - dropdown */\n",
       "\n",
       "#sk-container-id-1 div.sk-toggleable__content {\n",
       "  max-height: 0;\n",
       "  max-width: 0;\n",
       "  overflow: hidden;\n",
       "  text-align: left;\n",
       "  /* unfitted */\n",
       "  background-color: var(--sklearn-color-unfitted-level-0);\n",
       "}\n",
       "\n",
       "#sk-container-id-1 div.sk-toggleable__content.fitted {\n",
       "  /* fitted */\n",
       "  background-color: var(--sklearn-color-fitted-level-0);\n",
       "}\n",
       "\n",
       "#sk-container-id-1 div.sk-toggleable__content pre {\n",
       "  margin: 0.2em;\n",
       "  border-radius: 0.25em;\n",
       "  color: var(--sklearn-color-text);\n",
       "  /* unfitted */\n",
       "  background-color: var(--sklearn-color-unfitted-level-0);\n",
       "}\n",
       "\n",
       "#sk-container-id-1 div.sk-toggleable__content.fitted pre {\n",
       "  /* unfitted */\n",
       "  background-color: var(--sklearn-color-fitted-level-0);\n",
       "}\n",
       "\n",
       "#sk-container-id-1 input.sk-toggleable__control:checked~div.sk-toggleable__content {\n",
       "  /* Expand drop-down */\n",
       "  max-height: 200px;\n",
       "  max-width: 100%;\n",
       "  overflow: auto;\n",
       "}\n",
       "\n",
       "#sk-container-id-1 input.sk-toggleable__control:checked~label.sk-toggleable__label-arrow:before {\n",
       "  content: \"▾\";\n",
       "}\n",
       "\n",
       "/* Pipeline/ColumnTransformer-specific style */\n",
       "\n",
       "#sk-container-id-1 div.sk-label input.sk-toggleable__control:checked~label.sk-toggleable__label {\n",
       "  color: var(--sklearn-color-text);\n",
       "  background-color: var(--sklearn-color-unfitted-level-2);\n",
       "}\n",
       "\n",
       "#sk-container-id-1 div.sk-label.fitted input.sk-toggleable__control:checked~label.sk-toggleable__label {\n",
       "  background-color: var(--sklearn-color-fitted-level-2);\n",
       "}\n",
       "\n",
       "/* Estimator-specific style */\n",
       "\n",
       "/* Colorize estimator box */\n",
       "#sk-container-id-1 div.sk-estimator input.sk-toggleable__control:checked~label.sk-toggleable__label {\n",
       "  /* unfitted */\n",
       "  background-color: var(--sklearn-color-unfitted-level-2);\n",
       "}\n",
       "\n",
       "#sk-container-id-1 div.sk-estimator.fitted input.sk-toggleable__control:checked~label.sk-toggleable__label {\n",
       "  /* fitted */\n",
       "  background-color: var(--sklearn-color-fitted-level-2);\n",
       "}\n",
       "\n",
       "#sk-container-id-1 div.sk-label label.sk-toggleable__label,\n",
       "#sk-container-id-1 div.sk-label label {\n",
       "  /* The background is the default theme color */\n",
       "  color: var(--sklearn-color-text-on-default-background);\n",
       "}\n",
       "\n",
       "/* On hover, darken the color of the background */\n",
       "#sk-container-id-1 div.sk-label:hover label.sk-toggleable__label {\n",
       "  color: var(--sklearn-color-text);\n",
       "  background-color: var(--sklearn-color-unfitted-level-2);\n",
       "}\n",
       "\n",
       "/* Label box, darken color on hover, fitted */\n",
       "#sk-container-id-1 div.sk-label.fitted:hover label.sk-toggleable__label.fitted {\n",
       "  color: var(--sklearn-color-text);\n",
       "  background-color: var(--sklearn-color-fitted-level-2);\n",
       "}\n",
       "\n",
       "/* Estimator label */\n",
       "\n",
       "#sk-container-id-1 div.sk-label label {\n",
       "  font-family: monospace;\n",
       "  font-weight: bold;\n",
       "  display: inline-block;\n",
       "  line-height: 1.2em;\n",
       "}\n",
       "\n",
       "#sk-container-id-1 div.sk-label-container {\n",
       "  text-align: center;\n",
       "}\n",
       "\n",
       "/* Estimator-specific */\n",
       "#sk-container-id-1 div.sk-estimator {\n",
       "  font-family: monospace;\n",
       "  border: 1px dotted var(--sklearn-color-border-box);\n",
       "  border-radius: 0.25em;\n",
       "  box-sizing: border-box;\n",
       "  margin-bottom: 0.5em;\n",
       "  /* unfitted */\n",
       "  background-color: var(--sklearn-color-unfitted-level-0);\n",
       "}\n",
       "\n",
       "#sk-container-id-1 div.sk-estimator.fitted {\n",
       "  /* fitted */\n",
       "  background-color: var(--sklearn-color-fitted-level-0);\n",
       "}\n",
       "\n",
       "/* on hover */\n",
       "#sk-container-id-1 div.sk-estimator:hover {\n",
       "  /* unfitted */\n",
       "  background-color: var(--sklearn-color-unfitted-level-2);\n",
       "}\n",
       "\n",
       "#sk-container-id-1 div.sk-estimator.fitted:hover {\n",
       "  /* fitted */\n",
       "  background-color: var(--sklearn-color-fitted-level-2);\n",
       "}\n",
       "\n",
       "/* Specification for estimator info (e.g. \"i\" and \"?\") */\n",
       "\n",
       "/* Common style for \"i\" and \"?\" */\n",
       "\n",
       ".sk-estimator-doc-link,\n",
       "a:link.sk-estimator-doc-link,\n",
       "a:visited.sk-estimator-doc-link {\n",
       "  float: right;\n",
       "  font-size: smaller;\n",
       "  line-height: 1em;\n",
       "  font-family: monospace;\n",
       "  background-color: var(--sklearn-color-background);\n",
       "  border-radius: 1em;\n",
       "  height: 1em;\n",
       "  width: 1em;\n",
       "  text-decoration: none !important;\n",
       "  margin-left: 1ex;\n",
       "  /* unfitted */\n",
       "  border: var(--sklearn-color-unfitted-level-1) 1pt solid;\n",
       "  color: var(--sklearn-color-unfitted-level-1);\n",
       "}\n",
       "\n",
       ".sk-estimator-doc-link.fitted,\n",
       "a:link.sk-estimator-doc-link.fitted,\n",
       "a:visited.sk-estimator-doc-link.fitted {\n",
       "  /* fitted */\n",
       "  border: var(--sklearn-color-fitted-level-1) 1pt solid;\n",
       "  color: var(--sklearn-color-fitted-level-1);\n",
       "}\n",
       "\n",
       "/* On hover */\n",
       "div.sk-estimator:hover .sk-estimator-doc-link:hover,\n",
       ".sk-estimator-doc-link:hover,\n",
       "div.sk-label-container:hover .sk-estimator-doc-link:hover,\n",
       ".sk-estimator-doc-link:hover {\n",
       "  /* unfitted */\n",
       "  background-color: var(--sklearn-color-unfitted-level-3);\n",
       "  color: var(--sklearn-color-background);\n",
       "  text-decoration: none;\n",
       "}\n",
       "\n",
       "div.sk-estimator.fitted:hover .sk-estimator-doc-link.fitted:hover,\n",
       ".sk-estimator-doc-link.fitted:hover,\n",
       "div.sk-label-container:hover .sk-estimator-doc-link.fitted:hover,\n",
       ".sk-estimator-doc-link.fitted:hover {\n",
       "  /* fitted */\n",
       "  background-color: var(--sklearn-color-fitted-level-3);\n",
       "  color: var(--sklearn-color-background);\n",
       "  text-decoration: none;\n",
       "}\n",
       "\n",
       "/* Span, style for the box shown on hovering the info icon */\n",
       ".sk-estimator-doc-link span {\n",
       "  display: none;\n",
       "  z-index: 9999;\n",
       "  position: relative;\n",
       "  font-weight: normal;\n",
       "  right: .2ex;\n",
       "  padding: .5ex;\n",
       "  margin: .5ex;\n",
       "  width: min-content;\n",
       "  min-width: 20ex;\n",
       "  max-width: 50ex;\n",
       "  color: var(--sklearn-color-text);\n",
       "  box-shadow: 2pt 2pt 4pt #999;\n",
       "  /* unfitted */\n",
       "  background: var(--sklearn-color-unfitted-level-0);\n",
       "  border: .5pt solid var(--sklearn-color-unfitted-level-3);\n",
       "}\n",
       "\n",
       ".sk-estimator-doc-link.fitted span {\n",
       "  /* fitted */\n",
       "  background: var(--sklearn-color-fitted-level-0);\n",
       "  border: var(--sklearn-color-fitted-level-3);\n",
       "}\n",
       "\n",
       ".sk-estimator-doc-link:hover span {\n",
       "  display: block;\n",
       "}\n",
       "\n",
       "/* \"?\"-specific style due to the `<a>` HTML tag */\n",
       "\n",
       "#sk-container-id-1 a.estimator_doc_link {\n",
       "  float: right;\n",
       "  font-size: 1rem;\n",
       "  line-height: 1em;\n",
       "  font-family: monospace;\n",
       "  background-color: var(--sklearn-color-background);\n",
       "  border-radius: 1rem;\n",
       "  height: 1rem;\n",
       "  width: 1rem;\n",
       "  text-decoration: none;\n",
       "  /* unfitted */\n",
       "  color: var(--sklearn-color-unfitted-level-1);\n",
       "  border: var(--sklearn-color-unfitted-level-1) 1pt solid;\n",
       "}\n",
       "\n",
       "#sk-container-id-1 a.estimator_doc_link.fitted {\n",
       "  /* fitted */\n",
       "  border: var(--sklearn-color-fitted-level-1) 1pt solid;\n",
       "  color: var(--sklearn-color-fitted-level-1);\n",
       "}\n",
       "\n",
       "/* On hover */\n",
       "#sk-container-id-1 a.estimator_doc_link:hover {\n",
       "  /* unfitted */\n",
       "  background-color: var(--sklearn-color-unfitted-level-3);\n",
       "  color: var(--sklearn-color-background);\n",
       "  text-decoration: none;\n",
       "}\n",
       "\n",
       "#sk-container-id-1 a.estimator_doc_link.fitted:hover {\n",
       "  /* fitted */\n",
       "  background-color: var(--sklearn-color-fitted-level-3);\n",
       "}\n",
       "</style><div id=\"sk-container-id-1\" class=\"sk-top-container\"><div class=\"sk-text-repr-fallback\"><pre>GridSearchCV(cv=5, estimator=MultinomialNB(), n_jobs=-1,\n",
       "             param_grid={&#x27;alpha&#x27;: [0.1, 0.5, 1.0, 2.0]}, scoring=&#x27;accuracy&#x27;,\n",
       "             verbose=2)</pre><b>In a Jupyter environment, please rerun this cell to show the HTML representation or trust the notebook. <br />On GitHub, the HTML representation is unable to render, please try loading this page with nbviewer.org.</b></div><div class=\"sk-container\" hidden><div class=\"sk-item sk-dashed-wrapped\"><div class=\"sk-label-container\"><div class=\"sk-label fitted sk-toggleable\"><input class=\"sk-toggleable__control sk-hidden--visually\" id=\"sk-estimator-id-1\" type=\"checkbox\" ><label for=\"sk-estimator-id-1\" class=\"sk-toggleable__label fitted sk-toggleable__label-arrow fitted\">&nbsp;&nbsp;GridSearchCV<a class=\"sk-estimator-doc-link fitted\" rel=\"noreferrer\" target=\"_blank\" href=\"https://scikit-learn.org/1.4/modules/generated/sklearn.model_selection.GridSearchCV.html\">?<span>Documentation for GridSearchCV</span></a><span class=\"sk-estimator-doc-link fitted\">i<span>Fitted</span></span></label><div class=\"sk-toggleable__content fitted\"><pre>GridSearchCV(cv=5, estimator=MultinomialNB(), n_jobs=-1,\n",
       "             param_grid={&#x27;alpha&#x27;: [0.1, 0.5, 1.0, 2.0]}, scoring=&#x27;accuracy&#x27;,\n",
       "             verbose=2)</pre></div> </div></div><div class=\"sk-parallel\"><div class=\"sk-parallel-item\"><div class=\"sk-item\"><div class=\"sk-label-container\"><div class=\"sk-label fitted sk-toggleable\"><input class=\"sk-toggleable__control sk-hidden--visually\" id=\"sk-estimator-id-2\" type=\"checkbox\" ><label for=\"sk-estimator-id-2\" class=\"sk-toggleable__label fitted sk-toggleable__label-arrow fitted\">estimator: MultinomialNB</label><div class=\"sk-toggleable__content fitted\"><pre>MultinomialNB()</pre></div> </div></div><div class=\"sk-serial\"><div class=\"sk-item\"><div class=\"sk-estimator fitted sk-toggleable\"><input class=\"sk-toggleable__control sk-hidden--visually\" id=\"sk-estimator-id-3\" type=\"checkbox\" ><label for=\"sk-estimator-id-3\" class=\"sk-toggleable__label fitted sk-toggleable__label-arrow fitted\">&nbsp;MultinomialNB<a class=\"sk-estimator-doc-link fitted\" rel=\"noreferrer\" target=\"_blank\" href=\"https://scikit-learn.org/1.4/modules/generated/sklearn.naive_bayes.MultinomialNB.html\">?<span>Documentation for MultinomialNB</span></a></label><div class=\"sk-toggleable__content fitted\"><pre>MultinomialNB()</pre></div> </div></div></div></div></div></div></div></div></div>"
      ],
      "text/plain": [
       "GridSearchCV(cv=5, estimator=MultinomialNB(), n_jobs=-1,\n",
       "             param_grid={'alpha': [0.1, 0.5, 1.0, 2.0]}, scoring='accuracy',\n",
       "             verbose=2)"
      ]
     },
     "execution_count": 65,
     "metadata": {},
     "output_type": "execute_result"
    }
   ],
   "source": [
    "# parameter grid\n",
    "param_grid = { # Number of features for TF-IDF\n",
    "    'alpha': [0.1, 0.5, 1.0, 2.0]  # Regularization parameter for Naive Bayes\n",
    "}\n",
    "\n",
    "# Performming grid search with cross-validation\n",
    "grid_search = GridSearchCV(estimator=nb, param_grid=param_grid, cv=5, scoring='accuracy', n_jobs=-1, verbose=2)\n",
    "\n",
    "# Fit the model\n",
    "grid_search.fit(X_train_NB, y_train)\n"
   ]
  },
  {
   "cell_type": "code",
   "execution_count": 71,
   "id": "b66e7a50-8b96-40dc-a85c-677cc3ecb098",
   "metadata": {},
   "outputs": [
    {
     "name": "stdout",
     "output_type": "stream",
     "text": [
      "Best Parameters: {'alpha': 0.1}\n",
      "Best Cross-validation Accuracy: 0.5916194790486977\n",
      "Accuracy on Test Data: 0.1945\n",
      "               precision    recall  f1-score   support\n",
      "\n",
      "     business       0.30      0.39      0.34       400\n",
      "    education       0.17      0.39      0.24       400\n",
      "entertainment       0.11      0.10      0.10       400\n",
      "       sports       0.19      0.08      0.12       400\n",
      "   technology       0.18      0.01      0.03       400\n",
      "\n",
      "     accuracy                           0.19      2000\n",
      "    macro avg       0.19      0.19      0.16      2000\n",
      " weighted avg       0.19      0.19      0.16      2000\n",
      "\n"
     ]
    }
   ],
   "source": [
    "# Print the best parameters and the best score\n",
    "print(\"Best Parameters:\", grid_search.best_params_)\n",
    "print(\"Best Cross-validation Accuracy:\", grid_search.best_score_)\n",
    "\n",
    "# Evaluate the model with the best parameters\n",
    "best_model = grid_search.best_estimator_\n",
    "y_pred = best_model.predict(X_test_NB)\n",
    "\n",
    "# Evaluate the final model\n",
    "from sklearn.metrics import accuracy_score, classification_report\n",
    "print(f\"Accuracy on Test Data: {accuracy_score(y_test, y_pred)}\")\n",
    "print(classification_report(y_test, y_pred))"
   ]
  },
  {
   "cell_type": "code",
   "execution_count": 77,
   "id": "1f12c9f4-d4a9-4a77-aca6-f8e2670e7738",
   "metadata": {},
   "outputs": [
    {
     "data": {
      "image/png": "[encoded data removed]",
      "text/plain": [
       "<Figure size 1000x700 with 2 Axes>"
      ]
     },
     "metadata": {},
     "output_type": "display_data"
    }
   ],
   "source": [
    "from sklearn.metrics import confusion_matrix\n",
    "import seaborn as sns\n",
    "import matplotlib.pyplot as plt\n",
    "\n",
    "# Confusion matrix\n",
    "cm = confusion_matrix(y_test, y_pred)\n",
    "\n",
    "# Class labels from the training data\n",
    "class_labels = y_train.unique()\n",
    "\n",
    "# Confusion matrix as a heatmap\n",
    "plt.figure(figsize=(10, 7))\n",
    "sns.heatmap(cm, annot=True, fmt='d', cmap='Blues', xticklabels=class_labels, yticklabels=class_labels)\n",
    "plt.xlabel('Predicted')\n",
    "plt.ylabel('True')\n",
    "plt.title('Confusion Matrix')\n",
    "plt.show()"
   ]
  },
  {
   "cell_type": "markdown",
   "id": "eb70faea-1c52-497f-abf9-f8fb740a9e86",
   "metadata": {},
   "source": [
    "_The confusion matrix demonstrates strong classification performance, with the majority of predictions falling on the diagonal, indicating correct classifications for all five categories._"
   ]
  },
  {
   "cell_type": "code",
   "execution_count": 79,
   "id": "527c11e7-7573-4a2d-ae2b-f34d2a85f18c",
   "metadata": {},
   "outputs": [
    {
     "data": {
      "image/png": "[encoded data removed]",
      "text/plain": [
       "<Figure size 1000x600 with 1 Axes>"
      ]
     },
     "metadata": {},
     "output_type": "display_data"
    }
   ],
   "source": [
    "tfidf = TfidfVectorizer(max_features=1000)\n",
    "X_train_tfidf = tfidf.fit_transform(X_train['content'])\n",
    "X_test_tfidf = tfidf.transform(X_test['content'])\n",
    "\n",
    "nb = MultinomialNB()\n",
    "nb.fit(X_train_tfidf, y_train) \n",
    "\n",
    "# Get the feature names from TfidfVectorizer\n",
    "feature_names = tfidf.get_feature_names_out()\n",
    "\n",
    "# Calculate the difference of log probabilities for the classes\n",
    "class_diff = nb.feature_log_prob_\n",
    "\n",
    "# Visualize the differences between two specific classes\n",
    "if class_diff.shape[0] > 1:\n",
    "    importance = class_diff[1] - class_diff[0] \n",
    "else:\n",
    "    importance = class_diff[0]\n",
    "\n",
    "# Sort the features based on importance\n",
    "sorted_idx = importance.argsort()\n",
    "\n",
    "# Plot the most important features\n",
    "top_n = 20 \n",
    "top_features = feature_names[sorted_idx[-top_n:]]\n",
    "top_importance = importance[sorted_idx[-top_n:]]\n",
    "\n",
    "# Plot the top features\n",
    "plt.figure(figsize=(10, 6))\n",
    "plt.barh(top_features, top_importance, color='teal')\n",
    "plt.xlabel('Log Probability Difference')\n",
    "plt.title(f'Top {top_n} Important Features')\n",
    "plt.gca().invert_yaxis()  # Highest coefficients at the top\n",
    "plt.show()"
   ]
  },
  {
   "cell_type": "markdown",
   "id": "02f177c2-3734-47dd-a643-afd9362e623c",
   "metadata": {},
   "source": [
    "_These features are the words or phrases that contribute the most to the model's predictions. It provides insight into which terms are most indicative of specific categories, making the model's decisions more interpretable._"
   ]
  },
  {
   "cell_type": "code",
   "execution_count": 75,
   "id": "6a888420-eff9-4d78-ba19-f92530372eae",
   "metadata": {},
   "outputs": [
    {
     "data": {
      "text/html": [
       "<style>#sk-container-id-2 {\n",
       "  /* Definition of color scheme common for light and dark mode */\n",
       "  --sklearn-color-text: black;\n",
       "  --sklearn-color-line: gray;\n",
       "  /* Definition of color scheme for unfitted estimators */\n",
       "  --sklearn-color-unfitted-level-0: #fff5e6;\n",
       "  --sklearn-color-unfitted-level-1: #f6e4d2;\n",
       "  --sklearn-color-unfitted-level-2: #ffe0b3;\n",
       "  --sklearn-color-unfitted-level-3: chocolate;\n",
       "  /* Definition of color scheme for fitted estimators */\n",
       "  --sklearn-color-fitted-level-0: #f0f8ff;\n",
       "  --sklearn-color-fitted-level-1: #d4ebff;\n",
       "  --sklearn-color-fitted-level-2: #b3dbfd;\n",
       "  --sklearn-color-fitted-level-3: cornflowerblue;\n",
       "\n",
       "  /* Specific color for light theme */\n",
       "  --sklearn-color-text-on-default-background: var(--sg-text-color, var(--theme-code-foreground, var(--jp-content-font-color1, black)));\n",
       "  --sklearn-color-background: var(--sg-background-color, var(--theme-background, var(--jp-layout-color0, white)));\n",
       "  --sklearn-color-border-box: var(--sg-text-color, var(--theme-code-foreground, var(--jp-content-font-color1, black)));\n",
       "  --sklearn-color-icon: #696969;\n",
       "\n",
       "  @media (prefers-color-scheme: dark) {\n",
       "    /* Redefinition of color scheme for dark theme */\n",
       "    --sklearn-color-text-on-default-background: var(--sg-text-color, var(--theme-code-foreground, var(--jp-content-font-color1, white)));\n",
       "    --sklearn-color-background: var(--sg-background-color, var(--theme-background, var(--jp-layout-color0, #111)));\n",
       "    --sklearn-color-border-box: var(--sg-text-color, var(--theme-code-foreground, var(--jp-content-font-color1, white)));\n",
       "    --sklearn-color-icon: #878787;\n",
       "  }\n",
       "}\n",
       "\n",
       "#sk-container-id-2 {\n",
       "  color: var(--sklearn-color-text);\n",
       "}\n",
       "\n",
       "#sk-container-id-2 pre {\n",
       "  padding: 0;\n",
       "}\n",
       "\n",
       "#sk-container-id-2 input.sk-hidden--visually {\n",
       "  border: 0;\n",
       "  clip: rect(1px 1px 1px 1px);\n",
       "  clip: rect(1px, 1px, 1px, 1px);\n",
       "  height: 1px;\n",
       "  margin: -1px;\n",
       "  overflow: hidden;\n",
       "  padding: 0;\n",
       "  position: absolute;\n",
       "  width: 1px;\n",
       "}\n",
       "\n",
       "#sk-container-id-2 div.sk-dashed-wrapped {\n",
       "  border: 1px dashed var(--sklearn-color-line);\n",
       "  margin: 0 0.4em 0.5em 0.4em;\n",
       "  box-sizing: border-box;\n",
       "  padding-bottom: 0.4em;\n",
       "  background-color: var(--sklearn-color-background);\n",
       "}\n",
       "\n",
       "#sk-container-id-2 div.sk-container {\n",
       "  /* jupyter's `normalize.less` sets `[hidden] { display: none; }`\n",
       "     but bootstrap.min.css set `[hidden] { display: none !important; }`\n",
       "     so we also need the `!important` here to be able to override the\n",
       "     default hidden behavior on the sphinx rendered scikit-learn.org.\n",
       "     See: https://github.com/scikit-learn/scikit-learn/issues/21755 */\n",
       "  display: inline-block !important;\n",
       "  position: relative;\n",
       "}\n",
       "\n",
       "#sk-container-id-2 div.sk-text-repr-fallback {\n",
       "  display: none;\n",
       "}\n",
       "\n",
       "div.sk-parallel-item,\n",
       "div.sk-serial,\n",
       "div.sk-item {\n",
       "  /* draw centered vertical line to link estimators */\n",
       "  background-image: linear-gradient(var(--sklearn-color-text-on-default-background), var(--sklearn-color-text-on-default-background));\n",
       "  background-size: 2px 100%;\n",
       "  background-repeat: no-repeat;\n",
       "  background-position: center center;\n",
       "}\n",
       "\n",
       "/* Parallel-specific style estimator block */\n",
       "\n",
       "#sk-container-id-2 div.sk-parallel-item::after {\n",
       "  content: \"\";\n",
       "  width: 100%;\n",
       "  border-bottom: 2px solid var(--sklearn-color-text-on-default-background);\n",
       "  flex-grow: 1;\n",
       "}\n",
       "\n",
       "#sk-container-id-2 div.sk-parallel {\n",
       "  display: flex;\n",
       "  align-items: stretch;\n",
       "  justify-content: center;\n",
       "  background-color: var(--sklearn-color-background);\n",
       "  position: relative;\n",
       "}\n",
       "\n",
       "#sk-container-id-2 div.sk-parallel-item {\n",
       "  display: flex;\n",
       "  flex-direction: column;\n",
       "}\n",
       "\n",
       "#sk-container-id-2 div.sk-parallel-item:first-child::after {\n",
       "  align-self: flex-end;\n",
       "  width: 50%;\n",
       "}\n",
       "\n",
       "#sk-container-id-2 div.sk-parallel-item:last-child::after {\n",
       "  align-self: flex-start;\n",
       "  width: 50%;\n",
       "}\n",
       "\n",
       "#sk-container-id-2 div.sk-parallel-item:only-child::after {\n",
       "  width: 0;\n",
       "}\n",
       "\n",
       "/* Serial-specific style estimator block */\n",
       "\n",
       "#sk-container-id-2 div.sk-serial {\n",
       "  display: flex;\n",
       "  flex-direction: column;\n",
       "  align-items: center;\n",
       "  background-color: var(--sklearn-color-background);\n",
       "  padding-right: 1em;\n",
       "  padding-left: 1em;\n",
       "}\n",
       "\n",
       "\n",
       "/* Toggleable style: style used for estimator/Pipeline/ColumnTransformer box that is\n",
       "clickable and can be expanded/collapsed.\n",
       "- Pipeline and ColumnTransformer use this feature and define the default style\n",
       "- Estimators will overwrite some part of the style using the `sk-estimator` class\n",
       "*/\n",
       "\n",
       "/* Pipeline and ColumnTransformer style (default) */\n",
       "\n",
       "#sk-container-id-2 div.sk-toggleable {\n",
       "  /* Default theme specific background. It is overwritten whether we have a\n",
       "  specific estimator or a Pipeline/ColumnTransformer */\n",
       "  background-color: var(--sklearn-color-background);\n",
       "}\n",
       "\n",
       "/* Toggleable label */\n",
       "#sk-container-id-2 label.sk-toggleable__label {\n",
       "  cursor: pointer;\n",
       "  display: block;\n",
       "  width: 100%;\n",
       "  margin-bottom: 0;\n",
       "  padding: 0.5em;\n",
       "  box-sizing: border-box;\n",
       "  text-align: center;\n",
       "}\n",
       "\n",
       "#sk-container-id-2 label.sk-toggleable__label-arrow:before {\n",
       "  /* Arrow on the left of the label */\n",
       "  content: \"▸\";\n",
       "  float: left;\n",
       "  margin-right: 0.25em;\n",
       "  color: var(--sklearn-color-icon);\n",
       "}\n",
       "\n",
       "#sk-container-id-2 label.sk-toggleable__label-arrow:hover:before {\n",
       "  color: var(--sklearn-color-text);\n",
       "}\n",
       "\n",
       "/* Toggleable content - dropdown */\n",
       "\n",
       "#sk-container-id-2 div.sk-toggleable__content {\n",
       "  max-height: 0;\n",
       "  max-width: 0;\n",
       "  overflow: hidden;\n",
       "  text-align: left;\n",
       "  /* unfitted */\n",
       "  background-color: var(--sklearn-color-unfitted-level-0);\n",
       "}\n",
       "\n",
       "#sk-container-id-2 div.sk-toggleable__content.fitted {\n",
       "  /* fitted */\n",
       "  background-color: var(--sklearn-color-fitted-level-0);\n",
       "}\n",
       "\n",
       "#sk-container-id-2 div.sk-toggleable__content pre {\n",
       "  margin: 0.2em;\n",
       "  border-radius: 0.25em;\n",
       "  color: var(--sklearn-color-text);\n",
       "  /* unfitted */\n",
       "  background-color: var(--sklearn-color-unfitted-level-0);\n",
       "}\n",
       "\n",
       "#sk-container-id-2 div.sk-toggleable__content.fitted pre {\n",
       "  /* unfitted */\n",
       "  background-color: var(--sklearn-color-fitted-level-0);\n",
       "}\n",
       "\n",
       "#sk-container-id-2 input.sk-toggleable__control:checked~div.sk-toggleable__content {\n",
       "  /* Expand drop-down */\n",
       "  max-height: 200px;\n",
       "  max-width: 100%;\n",
       "  overflow: auto;\n",
       "}\n",
       "\n",
       "#sk-container-id-2 input.sk-toggleable__control:checked~label.sk-toggleable__label-arrow:before {\n",
       "  content: \"▾\";\n",
       "}\n",
       "\n",
       "/* Pipeline/ColumnTransformer-specific style */\n",
       "\n",
       "#sk-container-id-2 div.sk-label input.sk-toggleable__control:checked~label.sk-toggleable__label {\n",
       "  color: var(--sklearn-color-text);\n",
       "  background-color: var(--sklearn-color-unfitted-level-2);\n",
       "}\n",
       "\n",
       "#sk-container-id-2 div.sk-label.fitted input.sk-toggleable__control:checked~label.sk-toggleable__label {\n",
       "  background-color: var(--sklearn-color-fitted-level-2);\n",
       "}\n",
       "\n",
       "/* Estimator-specific style */\n",
       "\n",
       "/* Colorize estimator box */\n",
       "#sk-container-id-2 div.sk-estimator input.sk-toggleable__control:checked~label.sk-toggleable__label {\n",
       "  /* unfitted */\n",
       "  background-color: var(--sklearn-color-unfitted-level-2);\n",
       "}\n",
       "\n",
       "#sk-container-id-2 div.sk-estimator.fitted input.sk-toggleable__control:checked~label.sk-toggleable__label {\n",
       "  /* fitted */\n",
       "  background-color: var(--sklearn-color-fitted-level-2);\n",
       "}\n",
       "\n",
       "#sk-container-id-2 div.sk-label label.sk-toggleable__label,\n",
       "#sk-container-id-2 div.sk-label label {\n",
       "  /* The background is the default theme color */\n",
       "  color: var(--sklearn-color-text-on-default-background);\n",
       "}\n",
       "\n",
       "/* On hover, darken the color of the background */\n",
       "#sk-container-id-2 div.sk-label:hover label.sk-toggleable__label {\n",
       "  color: var(--sklearn-color-text);\n",
       "  background-color: var(--sklearn-color-unfitted-level-2);\n",
       "}\n",
       "\n",
       "/* Label box, darken color on hover, fitted */\n",
       "#sk-container-id-2 div.sk-label.fitted:hover label.sk-toggleable__label.fitted {\n",
       "  color: var(--sklearn-color-text);\n",
       "  background-color: var(--sklearn-color-fitted-level-2);\n",
       "}\n",
       "\n",
       "/* Estimator label */\n",
       "\n",
       "#sk-container-id-2 div.sk-label label {\n",
       "  font-family: monospace;\n",
       "  font-weight: bold;\n",
       "  display: inline-block;\n",
       "  line-height: 1.2em;\n",
       "}\n",
       "\n",
       "#sk-container-id-2 div.sk-label-container {\n",
       "  text-align: center;\n",
       "}\n",
       "\n",
       "/* Estimator-specific */\n",
       "#sk-container-id-2 div.sk-estimator {\n",
       "  font-family: monospace;\n",
       "  border: 1px dotted var(--sklearn-color-border-box);\n",
       "  border-radius: 0.25em;\n",
       "  box-sizing: border-box;\n",
       "  margin-bottom: 0.5em;\n",
       "  /* unfitted */\n",
       "  background-color: var(--sklearn-color-unfitted-level-0);\n",
       "}\n",
       "\n",
       "#sk-container-id-2 div.sk-estimator.fitted {\n",
       "  /* fitted */\n",
       "  background-color: var(--sklearn-color-fitted-level-0);\n",
       "}\n",
       "\n",
       "/* on hover */\n",
       "#sk-container-id-2 div.sk-estimator:hover {\n",
       "  /* unfitted */\n",
       "  background-color: var(--sklearn-color-unfitted-level-2);\n",
       "}\n",
       "\n",
       "#sk-container-id-2 div.sk-estimator.fitted:hover {\n",
       "  /* fitted */\n",
       "  background-color: var(--sklearn-color-fitted-level-2);\n",
       "}\n",
       "\n",
       "/* Specification for estimator info (e.g. \"i\" and \"?\") */\n",
       "\n",
       "/* Common style for \"i\" and \"?\" */\n",
       "\n",
       ".sk-estimator-doc-link,\n",
       "a:link.sk-estimator-doc-link,\n",
       "a:visited.sk-estimator-doc-link {\n",
       "  float: right;\n",
       "  font-size: smaller;\n",
       "  line-height: 1em;\n",
       "  font-family: monospace;\n",
       "  background-color: var(--sklearn-color-background);\n",
       "  border-radius: 1em;\n",
       "  height: 1em;\n",
       "  width: 1em;\n",
       "  text-decoration: none !important;\n",
       "  margin-left: 1ex;\n",
       "  /* unfitted */\n",
       "  border: var(--sklearn-color-unfitted-level-1) 1pt solid;\n",
       "  color: var(--sklearn-color-unfitted-level-1);\n",
       "}\n",
       "\n",
       ".sk-estimator-doc-link.fitted,\n",
       "a:link.sk-estimator-doc-link.fitted,\n",
       "a:visited.sk-estimator-doc-link.fitted {\n",
       "  /* fitted */\n",
       "  border: var(--sklearn-color-fitted-level-1) 1pt solid;\n",
       "  color: var(--sklearn-color-fitted-level-1);\n",
       "}\n",
       "\n",
       "/* On hover */\n",
       "div.sk-estimator:hover .sk-estimator-doc-link:hover,\n",
       ".sk-estimator-doc-link:hover,\n",
       "div.sk-label-container:hover .sk-estimator-doc-link:hover,\n",
       ".sk-estimator-doc-link:hover {\n",
       "  /* unfitted */\n",
       "  background-color: var(--sklearn-color-unfitted-level-3);\n",
       "  color: var(--sklearn-color-background);\n",
       "  text-decoration: none;\n",
       "}\n",
       "\n",
       "div.sk-estimator.fitted:hover .sk-estimator-doc-link.fitted:hover,\n",
       ".sk-estimator-doc-link.fitted:hover,\n",
       "div.sk-label-container:hover .sk-estimator-doc-link.fitted:hover,\n",
       ".sk-estimator-doc-link.fitted:hover {\n",
       "  /* fitted */\n",
       "  background-color: var(--sklearn-color-fitted-level-3);\n",
       "  color: var(--sklearn-color-background);\n",
       "  text-decoration: none;\n",
       "}\n",
       "\n",
       "/* Span, style for the box shown on hovering the info icon */\n",
       ".sk-estimator-doc-link span {\n",
       "  display: none;\n",
       "  z-index: 9999;\n",
       "  position: relative;\n",
       "  font-weight: normal;\n",
       "  right: .2ex;\n",
       "  padding: .5ex;\n",
       "  margin: .5ex;\n",
       "  width: min-content;\n",
       "  min-width: 20ex;\n",
       "  max-width: 50ex;\n",
       "  color: var(--sklearn-color-text);\n",
       "  box-shadow: 2pt 2pt 4pt #999;\n",
       "  /* unfitted */\n",
       "  background: var(--sklearn-color-unfitted-level-0);\n",
       "  border: .5pt solid var(--sklearn-color-unfitted-level-3);\n",
       "}\n",
       "\n",
       ".sk-estimator-doc-link.fitted span {\n",
       "  /* fitted */\n",
       "  background: var(--sklearn-color-fitted-level-0);\n",
       "  border: var(--sklearn-color-fitted-level-3);\n",
       "}\n",
       "\n",
       ".sk-estimator-doc-link:hover span {\n",
       "  display: block;\n",
       "}\n",
       "\n",
       "/* \"?\"-specific style due to the `<a>` HTML tag */\n",
       "\n",
       "#sk-container-id-2 a.estimator_doc_link {\n",
       "  float: right;\n",
       "  font-size: 1rem;\n",
       "  line-height: 1em;\n",
       "  font-family: monospace;\n",
       "  background-color: var(--sklearn-color-background);\n",
       "  border-radius: 1rem;\n",
       "  height: 1rem;\n",
       "  width: 1rem;\n",
       "  text-decoration: none;\n",
       "  /* unfitted */\n",
       "  color: var(--sklearn-color-unfitted-level-1);\n",
       "  border: var(--sklearn-color-unfitted-level-1) 1pt solid;\n",
       "}\n",
       "\n",
       "#sk-container-id-2 a.estimator_doc_link.fitted {\n",
       "  /* fitted */\n",
       "  border: var(--sklearn-color-fitted-level-1) 1pt solid;\n",
       "  color: var(--sklearn-color-fitted-level-1);\n",
       "}\n",
       "\n",
       "/* On hover */\n",
       "#sk-container-id-2 a.estimator_doc_link:hover {\n",
       "  /* unfitted */\n",
       "  background-color: var(--sklearn-color-unfitted-level-3);\n",
       "  color: var(--sklearn-color-background);\n",
       "  text-decoration: none;\n",
       "}\n",
       "\n",
       "#sk-container-id-2 a.estimator_doc_link.fitted:hover {\n",
       "  /* fitted */\n",
       "  background-color: var(--sklearn-color-fitted-level-3);\n",
       "}\n",
       "</style><div id=\"sk-container-id-2\" class=\"sk-top-container\"><div class=\"sk-text-repr-fallback\"><pre>MultinomialNB()</pre><b>In a Jupyter environment, please rerun this cell to show the HTML representation or trust the notebook. <br />On GitHub, the HTML representation is unable to render, please try loading this page with nbviewer.org.</b></div><div class=\"sk-container\" hidden><div class=\"sk-item\"><div class=\"sk-estimator fitted sk-toggleable\"><input class=\"sk-toggleable__control sk-hidden--visually\" id=\"sk-estimator-id-4\" type=\"checkbox\" checked><label for=\"sk-estimator-id-4\" class=\"sk-toggleable__label fitted sk-toggleable__label-arrow fitted\">&nbsp;&nbsp;MultinomialNB<a class=\"sk-estimator-doc-link fitted\" rel=\"noreferrer\" target=\"_blank\" href=\"https://scikit-learn.org/1.4/modules/generated/sklearn.naive_bayes.MultinomialNB.html\">?<span>Documentation for MultinomialNB</span></a><span class=\"sk-estimator-doc-link fitted\">i<span>Fitted</span></span></label><div class=\"sk-toggleable__content fitted\"><pre>MultinomialNB()</pre></div> </div></div></div></div>"
      ],
      "text/plain": [
       "MultinomialNB()"
      ]
     },
     "execution_count": 75,
     "metadata": {},
     "output_type": "execute_result"
    }
   ],
   "source": [
    "from sklearn.naive_bayes import MultinomialNB\n",
    "\n",
    "model = MultinomialNB()\n",
    "\n",
    "# Fit the model on the training data\n",
    "model.fit(X_train_NB, y_train)"
   ]
  },
  {
   "cell_type": "code",
   "execution_count": 77,
   "id": "54b75253-d66f-4742-ab4c-15ad184276c6",
   "metadata": {},
   "outputs": [],
   "source": [
    "y_pred = model.predict(X_test_NB)"
   ]
  },
  {
   "cell_type": "code",
   "execution_count": 79,
   "id": "8c39d585-7557-482e-8828-3c32e796b1f2",
   "metadata": {},
   "outputs": [
    {
     "name": "stdout",
     "output_type": "stream",
     "text": [
      "Cross-Validation Accuracy: 0.5393 ± 0.0060\n"
     ]
    }
   ],
   "source": [
    "from sklearn.model_selection import cross_val_score\n",
    "\n",
    "cv_scores = cross_val_score(model, X_train_NB, y_train, cv=5, scoring='accuracy')\n",
    "\n",
    "print(f\"Cross-Validation Accuracy: {cv_scores.mean():.4f} ± {cv_scores.std():.4f}\")"
   ]
  },
  {
   "cell_type": "code",
   "execution_count": 86,
   "id": "4e9f8495-8a7f-47a2-8a80-cb36a243821e",
   "metadata": {},
   "outputs": [],
   "source": [
    "import mlflow\n",
    "\n",
    "mlflow.set_tracking_uri(\"file:///C:/Users/Fransisca Nong/mlruns\")"
   ]
  },
  {
   "cell_type": "code",
   "execution_count": 90,
   "id": "2730a5a3-f857-4321-881a-19dcdefcaa3c",
   "metadata": {},
   "outputs": [
    {
     "data": {
      "application/vnd.jupyter.widget-view+json": {
       "model_id": "9d83207dcd3647cca721e4c21df8cd63",
       "version_major": 2,
       "version_minor": 0
      },
      "text/plain": [
       "Downloading artifacts:   0%|          | 0/7 [00:00<?, ?it/s]"
      ]
     },
     "metadata": {},
     "output_type": "display_data"
    },
    {
     "name": "stdout",
     "output_type": "stream",
     "text": [
      "Logged Naive Bayes model with accuracy: 0.9650 to MLflow\n",
      "MLflow URI: file:///C:/Users/Fransisca Nong/mlruns\n",
      "Best Naive Bayes model saved locally as 'best_naive_bayes.pkl'\n"
     ]
    }
   ],
   "source": [
    "import mlflow.sklearn\n",
    "import numpy as np\n",
    "import joblib\n",
    "from sklearn.feature_extraction.text import TfidfVectorizer\n",
    "from sklearn.naive_bayes import MultinomialNB\n",
    "from sklearn.metrics import accuracy_score\n",
    "\n",
    "# Vectorize text data\n",
    "tfidf = TfidfVectorizer(max_features=1000)\n",
    "X_train_tfidf = tfidf.fit_transform(X_train['content'])  # Select 'content' column\n",
    "X_test_tfidf = tfidf.transform(X_test['content'])\n",
    "\n",
    "# Train Naive Bayes model\n",
    "nb = MultinomialNB()\n",
    "nb.fit(X_train_tfidf, y_train)\n",
    "\n",
    "# Evaluate model\n",
    "y_pred = nb.predict(X_test_tfidf)\n",
    "accuracy = accuracy_score(y_test, y_pred)\n",
    "\n",
    "# Get feature importance\n",
    "feature_names = tfidf.get_feature_names_out()\n",
    "class_diff = nb.feature_log_prob_\n",
    "\n",
    "if class_diff.shape[0] == 2:\n",
    "    importance = class_diff[1] - class_diff[0]  \n",
    "else:\n",
    "    importance = np.mean(class_diff, axis=0)  \n",
    "\n",
    "sorted_idx = importance.argsort()\n",
    "top_n = 20\n",
    "top_features = feature_names[sorted_idx[-top_n:]]\n",
    "top_importance = importance[sorted_idx[-top_n:]]\n",
    "\n",
    "# MLflow run and log data\n",
    "with mlflow.start_run():\n",
    "    \n",
    "    input_example = np.array(X_test_tfidf[0].toarray())  # Convert sparse matrix row to NumPy array\n",
    "    mlflow.sklearn.log_model(nb, \"naive_bayes_model\", input_example=input_example)\n",
    "\n",
    "    # Log accuracy\n",
    "    accuracy = accuracy_score(y_test, nb.predict(X_test_tfidf))\n",
    "    mlflow.log_metric(\"accuracy\", accuracy)\n",
    "    \n",
    "    # Save the vectorizer\n",
    "    joblib.dump(tfidf, \"tfidf_vectorizer.pkl\")\n",
    "    mlflow.log_artifact(\"tfidf_vectorizer.pkl\")\n",
    "\n",
    "    print(f\"Logged Naive Bayes model with accuracy: {accuracy:.4f} to MLflow\")\n",
    "    \n",
    " # MLflow URI(Uniform Resource Identifier)\n",
    "    tracking_uri = mlflow.get_tracking_uri()\n",
    "    print(f\"MLflow URI: {tracking_uri}\")\n",
    "    \n",
    "# Save the model locally\n",
    "joblib.dump(nb, \"best_naive_bayes.pkl\")\n",
    "print(\"Best Naive Bayes model saved locally as 'best_naive_bayes.pkl'\")"
   ]
  },
  {
   "cell_type": "code",
   "execution_count": null,
   "id": "db1e3cfd-ebc8-4736-9768-e3a01d9afba1",
   "metadata": {},
   "outputs": [],
   "source": []
  }
 ],
 "metadata": {
  "kernelspec": {
   "display_name": "Python [conda env:base] *",
   "language": "python",
   "name": "conda-base-py"
  },
  "language_info": {
   "codemirror_mode": {
    "name": "ipython",
    "version": 3
   },
   "file_extension": ".py",
   "mimetype": "text/x-python",
   "name": "python",
   "nbconvert_exporter": "python",
   "pygments_lexer": "ipython3",
   "version": "3.12.4"
  }
 },
 "nbformat": 4,
 "nbformat_minor": 5
}
